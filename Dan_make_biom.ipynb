{
 "cells": [
  {
   "cell_type": "code",
   "execution_count": null,
   "metadata": {
    "collapsed": true
   },
   "outputs": [],
   "source": [
    "# First steps - working environment"
   ]
  },
  {
   "cell_type": "markdown",
   "metadata": {
    "collapsed": false
   },
   "source": [
    "I have three kernels in my jupyter environment - Python3 (default), R 3.3, and BASH. \n",
    "The vast majority of this will be done in the BASH terminal, with a lot of the more complex text editing done with python scripts."
   ]
  },
  {
   "cell_type": "code",
   "execution_count": null,
   "metadata": {
    "collapsed": true
   },
   "outputs": [],
   "source": [
    "## graham and I will presumably have our reads saved in different paths\n",
    "## so I will save my path to the raw reads and the path to my\n",
    "## working directory as a shell variable for the moment.\n",
    "\n",
    "## change to my directory that contains the raw reads:\n",
    "cd /home/daniel/Documents/Taiwan_data/wood/illumina_reads/BaseCalls"
   ]
  },
  {
   "cell_type": "markdown",
   "metadata": {},
   "source": [
    "saving a variable name for working directory. This will make our code more universal. "
   ]
  },
  {
   "cell_type": "code",
   "execution_count": 1,
   "metadata": {
    "collapsed": false
   },
   "outputs": [
    {
     "name": "stdout",
     "output_type": "stream",
     "text": []
    }
   ],
   "source": [
    "wdir='/home/daniel/Documents/Taiwan_data/wood/woodbiom'\n",
    "\n",
    "## read directory, holds our raw reads:\n",
    "rdir='/home/daniel/Documents/Taiwan_data/wood/illumina_reads/BaseCalls/woodonly'"
   ]
  },
  {
   "cell_type": "code",
   "execution_count": 20,
   "metadata": {
    "collapsed": false,
    "scrolled": true
   },
   "outputs": [
    {
     "name": "stdout",
     "output_type": "stream",
     "text": [
      "/home/daniel/Documents/Taiwan_data/wood/illumina_reads/BaseCalls/woodonly\r\n",
      "/home/daniel/Documents/Taiwan_data/wood/woodbiom\r\n"
     ]
    }
   ],
   "source": [
    "## we can use these instead of our individualized path variables:\n",
    "\n",
    "echo $rdir\n",
    "cd $wdir\n",
    "pwd"
   ]
  },
  {
   "cell_type": "markdown",
   "metadata": {},
   "source": [
    "Generally, let's try to stay in our working directory, and bring other files as we require them"
   ]
  },
  {
   "cell_type": "markdown",
   "metadata": {},
   "source": [
    "What do our read files look like?"
   ]
  },
  {
   "cell_type": "code",
   "execution_count": 42,
   "metadata": {
    "collapsed": false
   },
   "outputs": [
    {
     "name": "stdout",
     "output_type": "stream",
     "text": [
      "index.html\r\n",
      "lane1-s001-index-CAACACCT-TTGCTTGGNNNN-L1_S1_L001_R1_001.fastq\r\n",
      "lane1-s001-index-CAACACCT-TTGCTTGGNNNN-L1_S1_L001_R2_001.fastq.gz\r\n",
      "lane1-s002-index-CAACACCT-CCTGTCAANNNN-L2_S2_L001_R1_001.fastq.gz\r\n",
      "lane1-s002-index-CAACACCT-CCTGTCAANNNN-L2_S2_L001_R2_001.fastq.gz\r\n",
      "lane1-s003-index-CAACACCT-AGCCTATCNNNN-L3_S3_L001_R1_001.fastq.gz\r\n",
      "lane1-s003-index-CAACACCT-AGCCTATCNNNN-L3_S3_L001_R2_001.fastq.gz\r\n",
      "lane1-s004-index-CAACACCT-TGATCACGNNNN-L4_S4_L001_R1_001.fastq.gz\r\n",
      "lane1-s004-index-CAACACCT-TGATCACGNNNN-L4_S4_L001_R2_001.fastq.gz\r\n",
      "lane1-s005-index-CTAGGTGA-TTGCTTGGNNNN-Fr13_S5_L001_R1_001.fastq.gz\r\n",
      "lane1-s005-index-CTAGGTGA-TTGCTTGGNNNN-Fr13_S5_L001_R2_001.fastq.gz\r\n",
      "lane1-s006-index-CTAGGTGA-CCTGTCAANNNN-Fr14_S6_L001_R1_001.fastq.gz\r\n",
      "lane1-s006-index-CTAGGTGA-CCTGTCAANNNN-Fr14_S6_L001_R2_001.fastq.gz\r\n",
      "lane1-s007-index-CTAGGTGA-AGCCTATCNNNN-Fr15_S7_L001_R1_001.fastq.gz\r\n",
      "lane1-s007-index-CTAGGTGA-AGCCTATCNNNN-Fr15_S7_L001_R2_001.fastq.gz\r\n",
      "lane1-s008-index-CTAGGTGA-TGATCACGNNNN-Fr16_S8_L001_R1_001.fastq.gz\r\n",
      "lane1-s008-index-CTAGGTGA-TGATCACGNNNN-Fr16_S8_L001_R2_001.fastq.gz\r\n",
      "lane1-s009-index-CTAGGTGA-CCACATTGNNNN-Fr17_S9_L001_R1_001.fastq.gz\r\n",
      "lane1-s009-index-CTAGGTGA-CCACATTGNNNN-Fr17_S9_L001_R2_001.fastq.gz\r\n",
      "lane1-s010-index-CTAGGTGA-TCGAGAGTNNNN-Fr18_S10_L001_R1_001.fastq.gz\r\n",
      "ls: write error: Broken pipe\r\n"
     ]
    }
   ],
   "source": [
    "ls $rdir | head -n 20"
   ]
  },
  {
   "cell_type": "markdown",
   "metadata": {},
   "source": [
    "Lots of archived zipped files. Should be one forward (R1, I think) \n",
    "and one reverse (R2) for each of the samples submitted. \n",
    "What do these files look like unzipped? Let's check my first sample:"
   ]
  },
  {
   "cell_type": "code",
   "execution_count": 44,
   "metadata": {
    "collapsed": false
   },
   "outputs": [
    {
     "name": "stdout",
     "output_type": "stream",
     "text": [
      "lane1-s164-index-CTAGGTGA-GACACAGTNNNN-1w_S164_L001_R1_001.fastq.gz\r\n",
      "lane1-s164-index-CTAGGTGA-GACACAGTNNNN-1w_S164_L001_R2_001.fastq.gz\r\n"
     ]
    }
   ],
   "source": [
    "ls $rdir | grep '\\-1w_'"
   ]
  },
  {
   "cell_type": "code",
   "execution_count": 47,
   "metadata": {
    "collapsed": false
   },
   "outputs": [
    {
     "name": "stdout",
     "output_type": "stream",
     "text": []
    }
   ],
   "source": [
    "## copy these two files, my first sample forward and reverse, to my working directory\n",
    "cp $rdir/lane1-s164-index-CTAGGTGA-GACACAGTNNNN-1w_S164_L001_R*_001.fastq.gz $wdir\n",
    "\n",
    "## unzip\n",
    "gunzip lane1-s164-index-CTAGGTGA-GACACAGTNNNN-1w_S164_L001_R1_001.fastq.gz\n",
    "gunzip lane1-s164-index-CTAGGTGA-GACACAGTNNNN-1w_S164_L001_R2_001.fastq.gz"
   ]
  },
  {
   "cell_type": "code",
   "execution_count": 54,
   "metadata": {
    "collapsed": false,
    "scrolled": true
   },
   "outputs": [
    {
     "name": "stdout",
     "output_type": "stream",
     "text": [
      "198472 lane1-s164-index-CTAGGTGA-GACACAGTNNNN-1w_S164_L001_R1_001.fastq\r\n",
      "198472 lane1-s164-index-CTAGGTGA-GACACAGTNNNN-1w_S164_L001_R2_001.fastq\r\n"
     ]
    }
   ],
   "source": [
    "## how large are these? \n",
    "wc -l lane1-s164-index-CTAGGTGA-GACACAGTNNNN-1w_S164_L001_R1_001.fastq\n",
    "wc -l lane1-s164-index-CTAGGTGA-GACACAGTNNNN-1w_S164_L001_R2_001.fastq"
   ]
  },
  {
   "cell_type": "markdown",
   "metadata": {},
   "source": [
    "a good sign that they match in size...\n",
    "take a peek inside:"
   ]
  },
  {
   "cell_type": "code",
   "execution_count": 57,
   "metadata": {
    "collapsed": false,
    "scrolled": false
   },
   "outputs": [
    {
     "name": "stdout",
     "output_type": "stream",
     "text": [
      "+\r\n",
      "<@CC8FGGGGGGGGGGGGGGGGGGFG-CFFC6C6FG9C@;CC,,6,,CFF<FC+F,B:F@F6F,C6,,C+86@D@<,CF<C,,<CF8@++7@F:=>,4,:,,49C4C+++84+8+4+8:B46:++84@++3@3+,,,,@B<>,@93;,@@F,,333<,,@,,***41**,*2,,,,*416**38**3*/*37<F7+1+3=5>8:76*//)5*20+:CGG7<0,*)1*)****9<A)))(*-):**1*7*3((5)/9<((030)))-))/).*)1).))-5)))6)))**)****/*1*)33\r\n",
      "@M01498:244:000000000-ANT97:1:2119:12315:25243 2:N:0:164\r\n",
      "CAGAACCAAGAGATCCGTTGTTGAAAGTTTTAACTATTAAATAGTACTCAGACGATACTAACATTCAGCGTTTAAATATCCTCTGGCGCGCGCACCGGGCAGTACCCAGGTACGCATAGCGTACGGCGCGCCAAAGCAACAGTTTATAATGATACACAAGGGTGGGAGATCTACCCCGGGGGGCATGAGCTCTGTAATGATCCTTCCGCAGGTTCACCTACGGAAACCTTGTTACGACTTTTACTTCCTCTAAATGACCAAGACAATTACCATAACTGTGTCGTGTATATCTCCGGTTCCC\r\n",
      "+\r\n",
      "CCCCCGGGGGGGGGGGGGGGGGGGFGGGGGGFGGGGGGGGGGGGGGGGGGGGGGGGGGGGGGGGGGGFFEFGFFGFGGGGDFGFGGGGGGGGGGGGGGGGGGGGGEFEEFGEGGGGGGGGGFCFGGGGGGGGGGGGGGGGGGGGFFGGGGGDFGGGGGGGFECGFGDGC?FGGGGDCEC>7EED5FGGGECCEDCFGCGGGGGGGGGGGDD=G<C7+>7FCD?DFFF?FG?FF><DF5<CAF7=FFF=<4)4)7=42>BFB?B??(4<4)69<65:A<<4)),3(81844/*7*))1))3+\r\n",
      "@M01498:244:000000000-ANT97:1:2119:17390:25289 2:N:0:164\r\n",
      "CAGAACCAAGAGATCCGTTGTTGAAAGCTTTAATCAATTTTGCATTGCAACCGACGCAAAGATGCAGTGTTTAGAGATGGTCCACCGGGGGCGCCGGGAACCCGGAGGGGCCGGGGCACCCCCCGAGGCACCAGGTAATCACAAAGGGGTGGGGGGCCGGGCCGAGGGCCCCGGTCTCGTACCACTCCTTCGCCAGCTTACCCTTGGGGACCTTGTTTAGTATTTTTCATTCTCCAAATGACCAAGACAAATTCCAAAAACGGTTCCGTCACGCTCTAGGTGGTCGTCGGGAGTCACAAAA\r\n",
      "+\r\n",
      "CCCCCGGGGGGGFGGGGGGGGGGGGGGGGGGGGFGEGFFFFGGGGF@GGCFGEFEEC@CFFEDFG@C@FEGFGGFDAFGGFGEC6EFGGG@C+>+>+4+++BC+++38:C7F@>>7***@@CE***=**<,*6,*,,7<,7,,7F7:F@F*C5*C>**2:*28***2*2;***/*2*++*1**+++02220****2*3++*30+**2***)22<+*<*0+**)0.09(*298*..=9@)*.)207)))343))/69)),0((((-((()(()(.-(,)))))(-),())()))*0***0A*\r\n"
     ]
    }
   ],
   "source": [
    "tail *R2*fastq"
   ]
  },
  {
   "cell_type": "markdown",
   "metadata": {},
   "source": [
    "Seems like a mixed bag, some good reads, some bad. "
   ]
  },
  {
   "cell_type": "markdown",
   "metadata": {},
   "source": [
    "The issue is that graham and I probably need to branch immediately  into our own set of files... this could get confusing for us to keep the same document but with many parallel, different files. The  best solution may be for graham to start his own jupyter notebook, and we can each grab what we need from the other's files, especially if we stay in the same GitHub repository.\n",
    "\n",
    "For now, since it's just me, I'll treat this document as my own dry lab notebook and keep moving...\n"
   ]
  },
  {
   "cell_type": "markdown",
   "metadata": {},
   "source": [
    "# Creating combined fastq files"
   ]
  },
  {
   "cell_type": "markdown",
   "metadata": {},
   "source": [
    "For your \"average\" illumina miseq results, the following section won't be useful. Graham and I, due to a unique shared run, had our samples demultiplexed for us upon arrival. To use most of the available software written for processing Illumina raw reads, however, it makes sense for us to \"remultiplex\" our samples into our respective studies. So if anyone in the lab is following this for their own projects, you'll probably need to skip down to the \"make toy fastq files\" section below. \n",
    "\n",
    "Right now, it seems to me that the best plan is to separate out the files that I need for a biom table, and combine them into two master forward and reverse files. These can then be paired, quality filtered, etc etc. We will need to be very careful that order is kept and all file sizes are paired. First, let's separate out just the files I want to work with."
   ]
  },
  {
   "cell_type": "code",
   "execution_count": 68,
   "metadata": {
    "collapsed": false
   },
   "outputs": [
    {
     "name": "stdout",
     "output_type": "stream",
     "text": []
    }
   ],
   "source": [
    "## make a list for reference. Using grep to search out just \"w\" samples:\n",
    "ls $rdir | grep -E '\\-[0-9]{1,3}w_' > w-illum.txt"
   ]
  },
  {
   "cell_type": "code",
   "execution_count": 69,
   "metadata": {
    "collapsed": false
   },
   "outputs": [
    {
     "name": "stdout",
     "output_type": "stream",
     "text": [
      "lane1-s164-index-CTAGGTGA-GACACAGTNNNN-1w_S164_L001_R1_001.fastq.gz\r\n",
      "lane1-s164-index-CTAGGTGA-GACACAGTNNNN-1w_S164_L001_R2_001.fastq.gz\r\n",
      "lane1-s165-index-ACGACTTG-GACACAGTNNNN-2w_S165_L001_R1_001.fastq.gz\r\n",
      "lane1-s165-index-ACGACTTG-GACACAGTNNNN-2w_S165_L001_R2_001.fastq.gz\r\n",
      "lane1-s166-index-GCATACAG-GACACAGTNNNN-3w_S166_L001_R1_001.fastq.gz\r\n",
      "lane1-s166-index-GCATACAG-GACACAGTNNNN-3w_S166_L001_R2_001.fastq.gz\r\n",
      "lane1-s167-index-TGCGAACT-GACACAGTNNNN-4w_S167_L001_R1_001.fastq.gz\r\n",
      "lane1-s167-index-TGCGAACT-GACACAGTNNNN-4w_S167_L001_R2_001.fastq.gz\r\n",
      "lane1-s168-index-TCTCCGAT-GACACAGTNNNN-5w_S168_L001_R1_001.fastq.gz\r\n",
      "lane1-s168-index-TCTCCGAT-GACACAGTNNNN-5w_S168_L001_R2_001.fastq.gz\r\n",
      "lane1-s250-index-ACCATCCA-CGCTACATNNNN-128w_S250_L001_R1_001.fastq.gz\r\n",
      "lane1-s250-index-ACCATCCA-CGCTACATNNNN-128w_S250_L001_R2_001.fastq.gz\r\n",
      "lane1-s251-index-CAACACCT-CGCTACATNNNN-129w_S251_L001_R1_001.fastq.gz\r\n",
      "lane1-s251-index-CAACACCT-CGCTACATNNNN-129w_S251_L001_R2_001.fastq.gz\r\n",
      "lane1-s252-index-CTAGGTGA-CCTAAGTCNNNN-130w_S252_L001_R1_001.fastq.gz\r\n",
      "lane1-s252-index-CTAGGTGA-CCTAAGTCNNNN-130w_S252_L001_R2_001.fastq.gz\r\n",
      "lane1-s253-index-ACGACTTG-CCTAAGTCNNNN-131w_S253_L001_R1_001.fastq.gz\r\n",
      "lane1-s253-index-ACGACTTG-CCTAAGTCNNNN-131w_S253_L001_R2_001.fastq.gz\r\n",
      "lane1-s254-index-GCATACAG-CCTAAGTCNNNN-133w_S254_L001_R1_001.fastq.gz\r\n",
      "lane1-s254-index-GCATACAG-CCTAAGTCNNNN-133w_S254_L001_R2_001.fastq.gz\r\n"
     ]
    }
   ],
   "source": [
    "## check this:\n",
    "head w-illum.txt; tail w-illum.txt"
   ]
  },
  {
   "cell_type": "code",
   "execution_count": 71,
   "metadata": {
    "collapsed": false
   },
   "outputs": [
    {
     "name": "stdout",
     "output_type": "stream",
     "text": [
      "182 w-illum.txt\r\n"
     ]
    }
   ],
   "source": [
    "## how many files are there with \"w\" in the sample name?\n",
    "wc -l w-illum.txt"
   ]
  },
  {
   "cell_type": "markdown",
   "metadata": {},
   "source": [
    "182/2 = 91 samples. That's right, a little problematic, because I had intended to exclude a few of these samples from the illumina run, as they did not show banding on a gel. Forgot to remove these.  But deal with that later."
   ]
  },
  {
   "cell_type": "markdown",
   "metadata": {},
   "source": [
    "Copy just my files into a new directory:"
   ]
  },
  {
   "cell_type": "code",
   "execution_count": null,
   "metadata": {
    "collapsed": true
   },
   "outputs": [],
   "source": [
    "mkdir /home/daniel/Documents/Taiwan_data/wood/illumina_reads/BaseCalls/woodonly ## new directory"
   ]
  },
  {
   "cell_type": "code",
   "execution_count": 7,
   "metadata": {
    "collapsed": false
   },
   "outputs": [
    {
     "name": "stdout",
     "output_type": "stream",
     "text": []
    }
   ],
   "source": [
    "## save this path to a variable\n",
    "rdir='/home/daniel/Documents/Taiwan_data/wood/illumina_reads/BaseCalls/woodonly'"
   ]
  },
  {
   "cell_type": "code",
   "execution_count": 15,
   "metadata": {
    "collapsed": false
   },
   "outputs": [
    {
     "name": "stdout",
     "output_type": "stream",
     "text": []
    }
   ],
   "source": [
    "cp /home/daniel/Documents/Taiwan_data/wood/illumina_reads/BaseCalls/*w_* $rdir ## just my wood samples"
   ]
  },
  {
   "cell_type": "markdown",
   "metadata": {},
   "source": [
    "Add in positive and negative controls from both graham and I's samples, it will be informative to compare these."
   ]
  },
  {
   "cell_type": "code",
   "execution_count": 13,
   "metadata": {
    "collapsed": false
   },
   "outputs": [
    {
     "name": "stdout",
     "output_type": "stream",
     "text": []
    }
   ],
   "source": [
    "cp /home/daniel/Documents/Taiwan_data/wood/illumina_reads/BaseCalls/*Pos* $rdir  ## positive controls\n",
    "cp /home/daniel/Documents/Taiwan_data/wood/illumina_reads/BaseCalls/*Neg* $rdir  ## negative controls\n",
    "cp /home/daniel/Documents/Taiwan_data/wood/illumina_reads/BaseCalls/*X* $rdir ## pure culture Xylaria hypoxylon control"
   ]
  },
  {
   "cell_type": "code",
   "execution_count": 17,
   "metadata": {
    "collapsed": false
   },
   "outputs": [
    {
     "name": "stdout",
     "output_type": "stream",
     "text": [
      "196\r\n"
     ]
    }
   ],
   "source": [
    "cd $rdir\n",
    "ls | wc -l"
   ]
  },
  {
   "cell_type": "markdown",
   "metadata": {},
   "source": [
    "Seems right: (91 samples + 7 controls)x2 = 196\n",
    "\n",
    "We need to extract and combine these files, but make sure that no information is lost. "
   ]
  },
  {
   "cell_type": "code",
   "execution_count": 18,
   "metadata": {
    "collapsed": false
   },
   "outputs": [
    {
     "name": "stdout",
     "output_type": "stream",
     "text": []
    }
   ],
   "source": [
    "gunzip $rdir/*"
   ]
  },
  {
   "cell_type": "markdown",
   "metadata": {},
   "source": [
    "These will be concatenated into one large forward and one large reverse file...\n",
    "\n",
    "A little nerve-wracking, but I think this is as simple as concatenating all R1 files and all R2 files:"
   ]
  },
  {
   "cell_type": "code",
   "execution_count": 20,
   "metadata": {
    "collapsed": false
   },
   "outputs": [
    {
     "name": "stdout",
     "output_type": "stream",
     "text": []
    }
   ],
   "source": [
    "cat $rdir/*R1* > $wdir/woodR1.fastq\n",
    "cat $rdir/*R2* > $wdir/woodR2.fastq"
   ]
  },
  {
   "cell_type": "markdown",
   "metadata": {},
   "source": [
    "Okay, the above works, but I don't know that what sort of order was maintained. Does this matter?\n",
    "\n",
    "Don't think so, as long the unique sample number in the read identifier is retained. I think the main things to check are 1) are all samples included? and 2) do forward and reverse files match exactly?\n",
    "\n",
    "1) we can check the expansion we used to make this file:"
   ]
  },
  {
   "cell_type": "code",
   "execution_count": 23,
   "metadata": {
    "collapsed": false
   },
   "outputs": [
    {
     "name": "stdout",
     "output_type": "stream",
     "text": [
      "98\r\n",
      "98\r\n"
     ]
    }
   ],
   "source": [
    "ls $rdir/*R1* | wc -l; ls $rdir/*R1* | wc -l"
   ]
  },
  {
   "cell_type": "markdown",
   "metadata": {},
   "source": [
    "That's what we expect, 91 samples, plus 3 controls from me and and 4 from graham. "
   ]
  },
  {
   "cell_type": "code",
   "execution_count": 21,
   "metadata": {
    "collapsed": false,
    "scrolled": true
   },
   "outputs": [
    {
     "name": "stdout",
     "output_type": "stream",
     "text": [
      "/home/daniel/Documents/Taiwan_data/wood/illumina_reads/BaseCalls/woodonly/lane1-s160-index-AAGCACTG-GTGATCCANNNN-Dc-X_S160_L001_R1_001.fastq\r\n",
      "/home/daniel/Documents/Taiwan_data/wood/illumina_reads/BaseCalls/woodonly/lane1-s161-index-AAGCACTG-TTCGTACGNNNN-Dc-PosG_S161_L001_R1_001.fastq\r\n",
      "/home/daniel/Documents/Taiwan_data/wood/illumina_reads/BaseCalls/woodonly/lane1-s162-index-AAGCACTG-ATGACAGGNNNN-Dc-PosI_S162_L001_R1_001.fastq\r\n"
     ]
    }
   ],
   "source": [
    "ls $rdir/*R1* | head -n 3"
   ]
  },
  {
   "cell_type": "code",
   "execution_count": 22,
   "metadata": {
    "collapsed": false
   },
   "outputs": [
    {
     "name": "stdout",
     "output_type": "stream",
     "text": [
      "/home/daniel/Documents/Taiwan_data/wood/illumina_reads/BaseCalls/woodonly/lane1-s255-index-TGCGAACT-CCTAAGTCNNNN-Neg_S255_L001_R1_001.fastq\r\n",
      "/home/daniel/Documents/Taiwan_data/wood/illumina_reads/BaseCalls/woodonly/lane1-s256-index-TCTCCGAT-CCTAAGTCNNNN-PosG_S256_L001_R1_001.fastq\r\n",
      "/home/daniel/Documents/Taiwan_data/wood/illumina_reads/BaseCalls/woodonly/lane1-s257-index-GAGGACTT-CCTAAGTCNNNN-PosI_S257_L001_R1_001.fastq\r\n"
     ]
    }
   ],
   "source": [
    "ls $rdir/*R1* | tail -n 3"
   ]
  },
  {
   "cell_type": "markdown",
   "metadata": {},
   "source": [
    "Looks like even the sample order was maintained. Simplifies things."
   ]
  },
  {
   "cell_type": "markdown",
   "metadata": {},
   "source": [
    "As for concern #2 from above, let's compare just the first lines of each read (the illumina sequence identifiers)"
   ]
  },
  {
   "cell_type": "code",
   "execution_count": 27,
   "metadata": {
    "collapsed": false
   },
   "outputs": [
    {
     "name": "stdout",
     "output_type": "stream",
     "text": []
    }
   ],
   "source": [
    "cd $wdir ## make sure we're in our working directory"
   ]
  },
  {
   "cell_type": "code",
   "execution_count": 28,
   "metadata": {
    "collapsed": false
   },
   "outputs": [
    {
     "name": "stdout",
     "output_type": "stream",
     "text": []
    }
   ],
   "source": [
    "## use sed to just look at every fourth line:\n",
    "sed -n '1~4p' woodR1.fastq > justlabels_R1.txt\n",
    "sed -n '1~4p' woodR2.fastq > justlabels_R2.txt"
   ]
  },
  {
   "cell_type": "code",
   "execution_count": 30,
   "metadata": {
    "collapsed": false
   },
   "outputs": [
    {
     "name": "stdout",
     "output_type": "stream",
     "text": []
    }
   ],
   "source": [
    "## cut everything but the individual unique identifier from these \n",
    "## = save only the last number of the illumina info, which gives each sample a unique number\n",
    "\n",
    "cut -d ':' -f 10 justlabels_R1.txt > numsR1.txt\n",
    "cut -d ':' -f 10 justlabels_R2.txt > numsR2.txt\n",
    "\n",
    "## check differences:\n",
    "diff -c numsR1.txt  numsR2.txt"
   ]
  },
  {
   "cell_type": "markdown",
   "metadata": {},
   "source": [
    "(diff program returns nothing)"
   ]
  },
  {
   "cell_type": "code",
   "execution_count": 31,
   "metadata": {
    "collapsed": false
   },
   "outputs": [
    {
     "name": "stdout",
     "output_type": "stream",
     "text": [
      "22271196 woodR1.fastq\r\n"
     ]
    }
   ],
   "source": [
    "## length of files?\n",
    "wc -l woodR1.fastq"
   ]
  },
  {
   "cell_type": "code",
   "execution_count": 32,
   "metadata": {
    "collapsed": false
   },
   "outputs": [
    {
     "name": "stdout",
     "output_type": "stream",
     "text": [
      "22271196 woodR2.fastq\r\n"
     ]
    }
   ],
   "source": [
    "wc -l woodR2.fastq"
   ]
  },
  {
   "cell_type": "markdown",
   "metadata": {},
   "source": [
    "diff reports no difference, line number is the same...I think we have cleanly constructed fastq files for forward and reverse reads of the taiwan wood samples."
   ]
  },
  {
   "cell_type": "markdown",
   "metadata": {},
   "source": [
    "#### <font color='green'>2016-05-21 Dan</font>\n",
    "\n",
    "#### <font color='green'>kernel = BASH</font>"
   ]
  },
  {
   "cell_type": "markdown",
   "metadata": {},
   "source": [
    "# Make toy fastq files"
   ]
  },
  {
   "cell_type": "markdown",
   "metadata": {},
   "source": [
    "Ok, now that we have two master fastq files for the wood study, what is the plan? \n",
    "\n",
    "The issue with these huge fastq files is that they are slow to work with, the computer can chew on them for days because they're so damn big. It seems appropriate to unload as much of the heavy computing as possible on aciss. But to effectively run aciss, it's best to do test runs as we go,  with our own computer. For that, we'll want subsetted, \"toy\" fastq files to work with.\n",
    "\n",
    "How can we get a ~random sampling of our master fastq files? In my previous pipelines, I have just used the head function to take a subset of the fastq file lines, but this is not appropriate here, because the reads from each sample are clumped together in the file, and I'll exclude entire samples if I do this here. \n",
    "\n",
    "\n",
    "Have to think about this because I'll need a toy biom file that is a representative sample that I can run stats on. \n",
    "\n",
    "I think this random subsetting is probably best done in python. I've put together a script for this, \"subset.py\", included in this repository"
   ]
  },
  {
   "cell_type": "markdown",
   "metadata": {},
   "source": [
    "Subset to 1,000,000 reads:"
   ]
  },
  {
   "cell_type": "code",
   "execution_count": 33,
   "metadata": {
    "collapsed": false
   },
   "outputs": [
    {
     "name": "stdout",
     "output_type": "stream",
     "text": []
    }
   ],
   "source": [
    "./subset.py woodR1.fastq 1000000 R1subset.fastq\n",
    "\n",
    "./subset.py woodR2.fastq 1000000 R2subset.fastq"
   ]
  },
  {
   "cell_type": "markdown",
   "metadata": {},
   "source": [
    "# Trim reads and Paired-end assembly"
   ]
  },
  {
   "cell_type": "markdown",
   "metadata": {},
   "source": [
    "Reads always taper off in quality. Let's look at ours and decide appropriate lengths to trim to..."
   ]
  },
  {
   "cell_type": "code",
   "execution_count": 34,
   "metadata": {
    "collapsed": false
   },
   "outputs": [
    {
     "name": "stdout",
     "output_type": "stream",
     "text": []
    }
   ],
   "source": [
    "## use fastx toolkit here:\n",
    "fastx_quality_stats -i R1subset.fastq -o R1subset_fastx.txt\n",
    "fastx_quality_stats -i R2subset.fastq -o R2subset_fastx.txt"
   ]
  },
  {
   "cell_type": "markdown",
   "metadata": {},
   "source": [
    "This creates a fastx summary table of read quality at every BP location\n",
    "Normally the next step is to use the fastx script \"fastq_quality_boxplot_graph.sh\"\n",
    "but this script was creating unreadable x-axes for me, so I modified it a bit (it's just a shell script that reads some parameters into gnuplot). So I've included a slightly modified version, \"dan_plot.sh\" that works a little better for me. "
   ]
  },
  {
   "cell_type": "code",
   "execution_count": 35,
   "metadata": {
    "collapsed": false
   },
   "outputs": [
    {
     "name": "stdout",
     "output_type": "stream",
     "text": []
    }
   ],
   "source": [
    "./dan_plot.sh -i R1subset_fastx.txt -o R1subset_quality.png\n",
    "./dan_plot.sh -i R2subset_fastx.txt -o R2subset_quality.png"
   ]
  },
  {
   "cell_type": "markdown",
   "metadata": {},
   "source": [
    "This makes plots that look like this:"
   ]
  },
  {
   "cell_type": "markdown",
   "metadata": {},
   "source": [
    "forward reads (included in repository as 'R1subset_quality'):"
   ]
  },
  {
   "cell_type": "markdown",
   "metadata": {},
   "source": [
    "![R1subset_quality.png](R1subset_quality.png)"
   ]
  },
  {
   "cell_type": "markdown",
   "metadata": {},
   "source": [
    "reverse reads (included in repository as 'R2subset_quality'):"
   ]
  },
  {
   "cell_type": "markdown",
   "metadata": {},
   "source": [
    "![R2subset_quality.png](R2subset_quality.png)"
   ]
  },
  {
   "cell_type": "markdown",
   "metadata": {},
   "source": [
    "Cutting off the low quality end of reads helps assure the accuracy of the pairing process. The question is where to cut off our reads, exactly.\n",
    "\n",
    "It looks to me like a good cutoff would be somewhere around 255 BP for R1 and 210 for R2.\n",
    "\n",
    "We can do this with fastx tools:"
   ]
  },
  {
   "cell_type": "code",
   "execution_count": 43,
   "metadata": {
    "collapsed": false
   },
   "outputs": [
    {
     "name": "stdout",
     "output_type": "stream",
     "text": []
    }
   ],
   "source": [
    "fastx_trimmer -l 255 -i R1subset.fastq -o R1subset_short.fastq \n",
    "fastx_trimmer -l 210 -i R2subset.fastq -o R2subset_short.fastq"
   ]
  },
  {
   "cell_type": "markdown",
   "metadata": {},
   "source": [
    "and rerun the above visualizing pipeline, just to see what this looks like..."
   ]
  },
  {
   "cell_type": "code",
   "execution_count": 45,
   "metadata": {
    "collapsed": false
   },
   "outputs": [
    {
     "name": "stdout",
     "output_type": "stream",
     "text": []
    }
   ],
   "source": [
    "fastx_quality_stats -i R1subset_short.fastq -o R1subset_short_fastx.txt\n",
    "fastx_quality_stats -i R2subset_short.fastq -o R2subset_short_fastx.txt\n",
    "\n",
    "./dan_plot.sh -i R1subset_short_fastx.txt -o R1subset_short_quality.png\n",
    "./dan_plot.sh -i R2subset_short_fastx.txt -o R2subset_short_quality.png"
   ]
  },
  {
   "cell_type": "markdown",
   "metadata": {},
   "source": [
    "Forward reads, shortened:"
   ]
  },
  {
   "cell_type": "markdown",
   "metadata": {},
   "source": [
    "![R1subset_short_quality.png](R1subset_short_quality.png)"
   ]
  },
  {
   "cell_type": "markdown",
   "metadata": {},
   "source": [
    "Reverse, shortened:"
   ]
  },
  {
   "cell_type": "markdown",
   "metadata": {},
   "source": [
    "![R2subset_short_quality.png](R2subset_short_quality.png)"
   ]
  },
  {
   "cell_type": "markdown",
   "metadata": {
    "collapsed": true
   },
   "source": [
    "Pairing ends- we'll use pandaseq. We can't use the randomly subsetted reads we created above, because the two files don't match exactly. So make new toy subsets that have order maintained to try out our paired-end assembly process. Then we'll make ACISS, the University of Oregon computing cluster, do the hard work on the full reads."
   ]
  },
  {
   "cell_type": "code",
   "execution_count": 1,
   "metadata": {
    "collapsed": false
   },
   "outputs": [
    {
     "name": "stdout",
     "output_type": "stream",
     "text": []
    }
   ],
   "source": [
    "## our new toy subsets, to test the process, 100,000 reads:\n",
    "head -n 400000 woodR1.fastq > toy_woodR1.fastq\n",
    "head -n 400000 woodR2.fastq > toy_woodR2.fastq"
   ]
  },
  {
   "cell_type": "code",
   "execution_count": 3,
   "metadata": {
    "collapsed": false
   },
   "outputs": [
    {
     "name": "stdout",
     "output_type": "stream",
     "text": []
    }
   ],
   "source": [
    "fastx_trimmer -l 255 -i toy_woodR1.fastq -o toy_woodR1_short.fastq\n",
    "fastx_trimmer -l 210 -i toy_woodR2.fastq -o toy_woodR2_short.fastq"
   ]
  },
  {
   "cell_type": "code",
   "execution_count": 4,
   "metadata": {
    "collapsed": false
   },
   "outputs": [
    {
     "name": "stdout",
     "output_type": "stream",
     "text": []
    }
   ],
   "source": [
    "## pair the reads!\n",
    "pandaseq -f toy_woodR1_short.fastq -r  toy_woodR2_short.fastq -A ea_util -o 20 -F -g pairlog.txt -t .6 -w testpair.fastq"
   ]
  },
  {
   "cell_type": "markdown",
   "metadata": {},
   "source": [
    "-A = use ea_util algorithm for scoring matches (using this for compatibility with Roo's leaf biom table, this is just what we did in our last table of leaf endophytes, that I would like to refer to in this paper)\n",
    "\n",
    "-o = minimum overlap require to pair two sequences. Again, using 20 to match previous protocols. \n",
    "\n",
    "-F = make output fastq format, we're going to quality filtering downstream of this, even though some folks argue this may be inappropriate\n",
    "\n",
    "-g = keep a log file of outputs besides fastq file\n",
    "\n",
    "-t = quality cutoff that sequences must have to be retained in output fastq. Using 20 to be consistent with leaf biome table\n",
    "\n",
    "\n",
    "Quick check, did all of our reads pair?"
   ]
  },
  {
   "cell_type": "code",
   "execution_count": 5,
   "metadata": {
    "collapsed": false
   },
   "outputs": [
    {
     "name": "stdout",
     "output_type": "stream",
     "text": [
      "400000 testpair.fastq\r\n"
     ]
    }
   ],
   "source": [
    "wc -l testpair.fastq"
   ]
  },
  {
   "cell_type": "markdown",
   "metadata": {},
   "source": [
    "Looks good, 400,000 lines / 4 = 100,000 reads"
   ]
  },
  {
   "cell_type": "markdown",
   "metadata": {},
   "source": [
    "how do they look? Run fastx stats and plotting on them:"
   ]
  },
  {
   "cell_type": "code",
   "execution_count": 6,
   "metadata": {
    "collapsed": false
   },
   "outputs": [
    {
     "name": "stdout",
     "output_type": "stream",
     "text": []
    }
   ],
   "source": [
    "fastx_quality_stats -i testpair.fastq -o testpair_quality.txt\n",
    "./dan_plot.sh -i testpair_quality.txt -o testpair_quality.png"
   ]
  },
  {
   "cell_type": "markdown",
   "metadata": {},
   "source": [
    "Plot of my paired toy reads looks like this:"
   ]
  },
  {
   "cell_type": "markdown",
   "metadata": {},
   "source": [
    "![testpair_quality.png](testpair_quality.png)"
   ]
  },
  {
   "cell_type": "markdown",
   "metadata": {},
   "source": [
    "Let's use fastqc tools (not to be confused with fastx tools) to look at what's going on here..."
   ]
  },
  {
   "cell_type": "code",
   "execution_count": 9,
   "metadata": {
    "collapsed": false
   },
   "outputs": [
    {
     "name": "stdout",
     "output_type": "stream",
     "text": []
    }
   ],
   "source": [
    "fastqc testpair.fastq"
   ]
  },
  {
   "cell_type": "code",
   "execution_count": 10,
   "metadata": {
    "collapsed": false
   },
   "outputs": [
    {
     "name": "stdout",
     "output_type": "stream",
     "text": []
    }
   ],
   "source": [
    "## check out the report that fastqc generates with our paired reads, using firefox.\n",
    "firefox $wdir/testpair_fastqc/fastqc_report.html"
   ]
  },
  {
   "cell_type": "markdown",
   "metadata": {},
   "source": [
    "Of particular interest to us the following figure, of the abundances of different read lengths:"
   ]
  },
  {
   "cell_type": "markdown",
   "metadata": {},
   "source": [
    "![sequence_length_distribution.png](sequence_length_distribution.png)"
   ]
  },
  {
   "cell_type": "markdown",
   "metadata": {},
   "source": [
    "We truncated our sequences to 210 and 255 BP, with a 20 BP minimum required sequence overlap, so the largest possible sequences are 190+235+20 = 445 BP\n",
    "\n",
    "The above shows that the vast majority of this subset of reads are under 300 BP in length. \n",
    "\n",
    "While the quality averages are lower in longer reads over 300 BP, let's retain them for the time being\n",
    "\n",
    "Looks pretty good, with this toy subset. So now, can we do this on ACISS with our full readset?"
   ]
  },
  {
   "cell_type": "markdown",
   "metadata": {},
   "source": [
    "## Using ACISS to pair reads"
   ]
  },
  {
   "cell_type": "markdown",
   "metadata": {},
   "source": [
    "Let's log onto ACISS with SFTP and get our full readsets uploaded. Interactions with the computing cluster are through SSH (running programs, etc) and SFTP (uploading and downloading files). You switch constantly between these when using ACISS, so I keep one window of each going. \n",
    "\n",
    "This will only be possible from inside the university network, so a VPN is needed if working off campus. An account with aciss is required, but pretty easy to request: <http://aciss-computing.uoregon.edu/>"
   ]
  },
  {
   "cell_type": "code",
   "execution_count": 18,
   "metadata": {
    "collapsed": false
   },
   "outputs": [
    {
     "name": "stdout",
     "output_type": "stream",
     "text": []
    }
   ],
   "source": [
    "## make sure your in the working directory of your home coputer, with the files you need, then login\n",
    "sftp dthomas@login.aciss.uoregon.edu"
   ]
  },
  {
   "cell_type": "code",
   "execution_count": 20,
   "metadata": {
    "collapsed": false
   },
   "outputs": [
    {
     "name": "stdout",
     "output_type": "stream",
     "text": []
    }
   ],
   "source": [
    "put woodR1.fastq\n",
    "put woodR2.fastq"
   ]
  },
  {
   "cell_type": "markdown",
   "metadata": {},
   "source": [
    "As of time of this writing, ACISS had versions of pandaseq and fastx toolkit available for use. If packages you need aren't on ACISS, the staff is really responsive, just email them!\n",
    "\n",
    "We can check the available packages by logging in with SSH:"
   ]
  },
  {
   "cell_type": "code",
   "execution_count": 22,
   "metadata": {
    "collapsed": false
   },
   "outputs": [
    {
     "name": "stdout",
     "output_type": "stream",
     "text": []
    }
   ],
   "source": [
    "ssh dthomas@login.aciss.uoregon.edu\n",
    "modul avail"
   ]
  },
  {
   "cell_type": "markdown",
   "metadata": {},
   "source": [
    "To run a batch job (get ACISS to run non-interactively) we need to write and upload a script (\"aciss_pair.sh\"). This script is a BASH shell script, because the computing cluster uses linux. The commands in this script are basically the pipeline we just developed with the toy files above, but with our whole read sets. I've included this in my scripts folder in this repository. "
   ]
  },
  {
   "cell_type": "markdown",
   "metadata": {},
   "source": [
    "Back to sftp, logged on ACISS server:"
   ]
  },
  {
   "cell_type": "code",
   "execution_count": null,
   "metadata": {
    "collapsed": true
   },
   "outputs": [],
   "source": [
    "put aciss_pair.sh"
   ]
  },
  {
   "cell_type": "markdown",
   "metadata": {},
   "source": [
    "Now that our files are on ACISS, we request a node (all or part of a processor) to execute the commands in a script. \n",
    "\n",
    "Back to SSH, on ACISS:"
   ]
  },
  {
   "cell_type": "code",
   "execution_count": null,
   "metadata": {
    "collapsed": true
   },
   "outputs": [],
   "source": [
    "qsub -q student aciss_pair.sh"
   ]
  },
  {
   "cell_type": "markdown",
   "metadata": {},
   "source": [
    "Aciss will give us a job number that can be checked on using the que system. In this case, I was assigned \"1065490.hn1\". To check on this job:"
   ]
  },
  {
   "cell_type": "code",
   "execution_count": null,
   "metadata": {
    "collapsed": true
   },
   "outputs": [],
   "source": [
    "qstat 1065490.hn1"
   ]
  },
  {
   "cell_type": "markdown",
   "metadata": {},
   "source": [
    "Okay, once aciss is chewing on this, we can log out and do other things while we wait. "
   ]
  },
  {
   "cell_type": "markdown",
   "metadata": {},
   "source": [
    "#### <font color='green'>2016-05-30 Dan</font>\n",
    "\n",
    "#### <font color='green'>kernel = BASH</font>"
   ]
  },
  {
   "cell_type": "markdown",
   "metadata": {},
   "source": [
    "Okay! Let's see how our pairing did. First, get it off of the ACISS storage. Making sure that we're still in the right working directory on home computer (use 'pwd' command if in doubt), log into ACISS with sftp and get the paired read files:"
   ]
  },
  {
   "cell_type": "code",
   "execution_count": null,
   "metadata": {
    "collapsed": true
   },
   "outputs": [],
   "source": [
    "## login\n",
    "sftp dthomas@login.aciss.uoregon.edu\n",
    "## get the paired read file\n",
    "get wood_paired.fastq\n",
    "## get our log for this pairing, and the fastx quality stats for all of our read files\n",
    "## (I had aciss do all of this for us, see the ACISS script)\n",
    "get woodpairlog.txt\n",
    "get wood_paired_quality.txt \n",
    "get woodR1_short_quality.txt \n",
    "get woodR2_short_quality.txt\n",
    "## and sign out\n",
    "exit"
   ]
  },
  {
   "cell_type": "markdown",
   "metadata": {},
   "source": [
    "For the moment, let's not clean up our ACISS storage space, until we can verify everything worked. (It is good practice to keep this space clean, once we're certain we've got these files stored and backed up elsewhere. )"
   ]
  },
  {
   "cell_type": "markdown",
   "metadata": {},
   "source": [
    "How many of our reads paired?"
   ]
  },
  {
   "cell_type": "code",
   "execution_count": 12,
   "metadata": {
    "collapsed": false
   },
   "outputs": [
    {
     "name": "stdout",
     "output_type": "stream",
     "text": [
      "22271196 woodR1.fastq\r\n",
      "22271196 woodR2.fastq\r\n",
      "22271196 wood_paired.fastq\r\n"
     ]
    }
   ],
   "source": [
    "wc -l woodR1.fastq\n",
    "wc -l woodR2.fastq\n",
    "wc -l wood_paired.fastq"
   ]
  },
  {
   "cell_type": "markdown",
   "metadata": {},
   "source": [
    "looks like all reads paired."
   ]
  },
  {
   "cell_type": "markdown",
   "metadata": {},
   "source": [
    "What do our new paired reads look like? Is this an improvement over the unpaired reads? Visualize them with fastx plot:"
   ]
  },
  {
   "cell_type": "code",
   "execution_count": 6,
   "metadata": {
    "collapsed": false
   },
   "outputs": [
    {
     "name": "stdout",
     "output_type": "stream",
     "text": []
    }
   ],
   "source": [
    "## make plots of our full reads in both directions\n",
    "./dan_plot.sh -i woodR1_short_quality.txt -o woodR1_short_quality.png\n",
    "./dan_plot.sh -i woodR2_short_quality.txt -o woodR2_short_quality.png\n",
    "## and one of our full paired reads\n",
    "./dan_plot.sh -i wood_paired_quality.txt -o wood_paired_quality.png"
   ]
  },
  {
   "cell_type": "markdown",
   "metadata": {},
   "source": [
    "Our full readset, ends paired:"
   ]
  },
  {
   "cell_type": "markdown",
   "metadata": {},
   "source": [
    "![wood_paired_quality.png](wood_paired_quality.png)"
   ]
  },
  {
   "cell_type": "markdown",
   "metadata": {},
   "source": [
    "compare this to..."
   ]
  },
  {
   "cell_type": "markdown",
   "metadata": {},
   "source": [
    "(1) our forward reads:"
   ]
  },
  {
   "cell_type": "markdown",
   "metadata": {},
   "source": [
    "![woodR1_short_quality.png](woodR1_short_quality.png)"
   ]
  },
  {
   "cell_type": "markdown",
   "metadata": {},
   "source": [
    "(2) our reverse reads"
   ]
  },
  {
   "cell_type": "markdown",
   "metadata": {},
   "source": [
    "![woodR2_short_quality.png](woodR2_short_quality.png)"
   ]
  },
  {
   "cell_type": "markdown",
   "metadata": {},
   "source": [
    "looks like an improvement! "
   ]
  },
  {
   "cell_type": "markdown",
   "metadata": {},
   "source": [
    "#### <font color='green'>2016-05-31 Dan</font>\n",
    "\n",
    "#### <font color='green'>kernel = BASH</font>"
   ]
  },
  {
   "cell_type": "markdown",
   "metadata": {},
   "source": [
    "Let's do some more cleaning up. The 5' ends of our reads are of extremely variable quality. I don't want this to interfere with the OTU clustering and blast algorithms below, so I believe it's okay to get rid of this area of low quality and keep the region that we have more confidence in. "
   ]
  },
  {
   "cell_type": "markdown",
   "metadata": {},
   "source": [
    "It's worth noting that I log into ACISS to do all of these full readset manipulations. ACISS has an interactive mode that lets you use one of their nodes like an extra, powerful computer at your fingertips. You can do this on your own computer, but using ACISS keeps your machine stress-free to work on other things, so I use it as much as possible, either to run overnight with scripts like we did above, or run interactively with while I'm at my desk. To use ACISS interactively, log on with SSH (and SFTP in another window while you're at it!), and request an interactive session:"
   ]
  },
  {
   "cell_type": "code",
   "execution_count": null,
   "metadata": {
    "collapsed": true
   },
   "outputs": [],
   "source": [
    "## log onto ACISS with SSH\n",
    "ssh dthomas@login.aciss.uoregon.edu"
   ]
  },
  {
   "cell_type": "code",
   "execution_count": null,
   "metadata": {
    "collapsed": true
   },
   "outputs": [],
   "source": [
    "## with ssh, ask for an interactive node:\n",
    "qsub -q student -I"
   ]
  },
  {
   "cell_type": "markdown",
   "metadata": {},
   "source": [
    "-q requests a particular type of node. Since I'm a student, some portion of nodes are set aside for us, so these \"student\" nodes are usually available to me without a wait. The actual type of node varies with this category.\n",
    "\n",
    "\n",
    "-I requests an interactive session, which acts just like a BASH shell session on your own computer"
   ]
  },
  {
   "cell_type": "code",
   "execution_count": null,
   "metadata": {
    "collapsed": true
   },
   "outputs": [],
   "source": [
    "## on ACISS node (in SSH):\n",
    "\n",
    "##load module (fastx)\n",
    "module load fastx_toolkit\n",
    "\n",
    "## trim reads with fastx\n",
    "fastx_trimmer -f 24 -Q33 -i wood_paired.fastq -o wood_paired_clipped.fastq\n",
    "\n",
    "## quality stats, so we can plot\n",
    "fastx_quality_stats -Q33 -i wood_paired_clipped.fastq -o wood_paired_clipped_quality.txt\n",
    "\n",
    "## ACISS has older version of fastx as of time of writing, so we in \"-Q33\" flag to \n",
    "## tell fastx that we are dealing with Sanger-type quality encoding, or \"Phred+33\""
   ]
  },
  {
   "cell_type": "markdown",
   "metadata": {},
   "source": [
    "\n",
    "Use sftp to get the newly created files off of ACISS:"
   ]
  },
  {
   "cell_type": "code",
   "execution_count": null,
   "metadata": {
    "collapsed": true
   },
   "outputs": [],
   "source": [
    "## in separate window, making sure that you are in your working directory in your home computer, log onto ACISS with SFTP\n",
    "sftp dthomas@login.aciss.uoregon.edu"
   ]
  },
  {
   "cell_type": "code",
   "execution_count": null,
   "metadata": {
    "collapsed": true
   },
   "outputs": [],
   "source": [
    "## download the files onto your working directory\n",
    "get wood_paired_clipped.fastq\n",
    "get wood_paired_clipped_quality.txt"
   ]
  },
  {
   "cell_type": "markdown",
   "metadata": {},
   "source": [
    "Log out of our node, so other folks can use it. "
   ]
  },
  {
   "cell_type": "code",
   "execution_count": null,
   "metadata": {
    "collapsed": true
   },
   "outputs": [],
   "source": [
    "## in ACISS with SSH\n",
    "exit"
   ]
  },
  {
   "cell_type": "markdown",
   "metadata": {},
   "source": [
    "and plot these results with our own computer:"
   ]
  },
  {
   "cell_type": "code",
   "execution_count": null,
   "metadata": {
    "collapsed": true
   },
   "outputs": [],
   "source": [
    "./dan_plot.sh -i wood_paired_clipped_quality.txt -o wood_paired_clipped_quality.png"
   ]
  },
  {
   "cell_type": "markdown",
   "metadata": {},
   "source": [
    "Our paired reads, with low quality 5' end removed. Looks like this:"
   ]
  },
  {
   "cell_type": "markdown",
   "metadata": {},
   "source": [
    "![wood_paired_clipped_quality.png](wood_paired_clipped_quality.png)"
   ]
  },
  {
   "cell_type": "markdown",
   "metadata": {},
   "source": [
    "In general, from here out I will be testing all of my commands with a toy sequence set made using the python script \"subset.py\" (in repository) on my own computer, then port the commands to ACISS to work on the full readset, either interactively or in a shell script. After this I will not show aciss login commands, loading modules, or sftp file transfers, etc, etc. Just use ACISS when you see fit. "
   ]
  },
  {
   "cell_type": "markdown",
   "metadata": {},
   "source": [
    "make a new toy read set, this time from our paired-end reads:"
   ]
  },
  {
   "cell_type": "code",
   "execution_count": 25,
   "metadata": {
    "collapsed": false
   },
   "outputs": [
    {
     "name": "stdout",
     "output_type": "stream",
     "text": []
    }
   ],
   "source": [
    "./subset.py wood_paired_clipped.fastq 1000000 wood_sub.fastq"
   ]
  },
  {
   "cell_type": "markdown",
   "metadata": {},
   "source": [
    "I will show commands on the full read set as if performing them on my computer, but know that really I am testing commands on my own computer with the above toy read set, then often running the commands on the full read set on ACISS."
   ]
  },
  {
   "cell_type": "markdown",
   "metadata": {},
   "source": [
    "# A note about read directionality"
   ]
  },
  {
   "cell_type": "markdown",
   "metadata": {},
   "source": [
    "Typically, somewhere near this point in the process, we would check read directions. Most software downstream of this point assumes a 5'-3' orientation. At the time of this writing, Illumina sequencers don't know which side of the original organismal DNA strands your read came from. About 50% of your R1 file and 50% of your R2 file should be from your original forward reads, and the other half in each from original complementary DNA. "
   ]
  },
  {
   "cell_type": "markdown",
   "metadata": {},
   "source": [
    "This is not always the case, and depends on what the folks at the sequencer facility did with your reads. In our case, uniform read directionality was established before we received our raw reads, so we're skipping this step. So check with your sequence facility to see what they've done to your reads, seek help elsewhere with checking read directionality if you need it. "
   ]
  },
  {
   "cell_type": "markdown",
   "metadata": {},
   "source": [
    "# Floating primers!"
   ]
  },
  {
   "cell_type": "markdown",
   "metadata": {},
   "source": [
    "This is a thing with some ITS studies done with illumina: in some small fraction of the reads, unanchored ITS primer repeats appear in mysterious spots in the target sequence area. To date I've heard no good explanation for their presence, and varying opinions on their status as artifacts or as real data.  "
   ]
  },
  {
   "cell_type": "markdown",
   "metadata": {},
   "source": [
    "Our primers were not included as part of the reads (our primers were actually used as part of the illumina sequencing primers to keep our samples separated from another study, long story!). So any primers we find are \"floating\" primer artifacts. I remove as many floating primers as I can find, as advised by Bálint et al. (2014). I do this with another python script. This script removes any read with an exact match to our primers or their reverse complements. However, this script leaves degenerate versions of these primer artifacts, which definitely occur. Someone with more time and expertise may want to improve on this situation...\n",
    "\n",
    "Other studies using illumina data will need to cut off primers on the ends of their reads before using this script. \n",
    "\n",
    "First convert our reads from fastq to fasta format, most of our downstream processes work with fasta files. "
   ]
  },
  {
   "cell_type": "code",
   "execution_count": null,
   "metadata": {
    "collapsed": true
   },
   "outputs": [],
   "source": [
    "fastq_to_fasta -n -Q33 -i wood_paired_clipped.fastq -o  wood_paired_clipped.fasta"
   ]
  },
  {
   "cell_type": "markdown",
   "metadata": {},
   "source": [
    "use the script:"
   ]
  },
  {
   "cell_type": "code",
   "execution_count": null,
   "metadata": {
    "collapsed": true
   },
   "outputs": [],
   "source": [
    "./floatingprimers.py  wood_paired_clipped.fasta  wood_paired_clipped_defloat.fasta CTTGGTCATTTAGAGGAAGTAA GCTGCGTTCTTCATCGATGC"
   ]
  },
  {
   "cell_type": "markdown",
   "metadata": {},
   "source": [
    "Arguments for this script: floatingprimers.py input_fasta_file output_fasta_file forward_primer reverse_primer. \n",
    "\n",
    "Reverse compliments are checked automatically from the forward and reverse primer sequences that are given as arguments. "
   ]
  },
  {
   "cell_type": "markdown",
   "metadata": {},
   "source": [
    "How many of these sequences had \"floating\" primers?"
   ]
  },
  {
   "cell_type": "code",
   "execution_count": 31,
   "metadata": {
    "collapsed": false
   },
   "outputs": [
    {
     "name": "stdout",
     "output_type": "stream",
     "text": [
      "10941460 wood_paired_clipped_defloat.fasta\r\n"
     ]
    }
   ],
   "source": [
    "wc -l wood_paired_clipped_defloat.fasta"
   ]
  },
  {
   "cell_type": "code",
   "execution_count": 33,
   "metadata": {
    "collapsed": false,
    "scrolled": false
   },
   "outputs": [
    {
     "name": "stdout",
     "output_type": "stream",
     "text": [
      "11135598 wood_paired_clipped.fasta\r\n"
     ]
    }
   ],
   "source": [
    "wc -l wood_paired_clipped.fasta"
   ]
  },
  {
   "cell_type": "markdown",
   "metadata": {},
   "source": [
    " 11135598 / 2 - 10941460 / 2 =  (5,567,799 reads - 5,470,730 reads) = 97,069 reads "
   ]
  },
  {
   "cell_type": "markdown",
   "metadata": {},
   "source": [
    "at least 97,069 out of 5,567,799 (1.7%) of our reads contained floating primers. This phenomenon is a bit mysterious."
   ]
  },
  {
   "cell_type": "markdown",
   "metadata": {},
   "source": [
    "# Chimera checking"
   ]
  },
  {
   "cell_type": "markdown",
   "metadata": {},
   "source": [
    "At this point we check our sequences to look for any sequences that may have been accidentally created from two parent organisms (an artifact of sequencing). We can do this with [usearch](http://www.drive5.com/usearch/), and a reference database of fungal sequences from [UNITE](https://unite.ut.ee/index.php). More on UNITE later...\n",
    "\n",
    "Other folks might start to use [qiime](http://qiime.org/) at this point in the process, with the command [identify_chimeric_seqs.py](http://qiime.org/tutorials/chimera_checking.html). I do not use qiime here, can't seem to make it work. Their \"chimera slayer\" option requires aligned reads, which is pointless with ITS, and their usearch option is out of date, behaves weirdly. "
   ]
  },
  {
   "cell_type": "markdown",
   "metadata": {},
   "source": [
    "So we'll use [usearch](http://www.drive5.com/usearch/) directly. This is the default algorithm behind a lot of qiime's scripts anyway, and this will enable us to use the latest versions of usearch, which qiime doesn't seem to have incorporated, anyway. When you download usearch, it comes as a small binary file, you'll want to rename it to something handy and put it in your working directory, on your computer and on ACISS. At the time of this writing, I downloaded usearch v8.1.1861, this was the latest and has a lot of downstream capabilities that were previously lacking, like the ability to create biome tables. "
   ]
  },
  {
   "cell_type": "markdown",
   "metadata": {},
   "source": [
    "usearch prefers to have a high-quality reference database to check for parent sequences that may have created daughter chimera reads. We'll download UNITE database for this. They have a version just for this family of algorithms:"
   ]
  },
  {
   "cell_type": "code",
   "execution_count": null,
   "metadata": {
    "collapsed": true
   },
   "outputs": [],
   "source": [
    "## command line download of the reference set. (Can also go to the website with a browser and click on the download)\n",
    "wget https://unite.ut.ee/sh_files/uchime_reference_dataset_01.01.2016.zip"
   ]
  },
  {
   "cell_type": "code",
   "execution_count": null,
   "metadata": {
    "collapsed": true
   },
   "outputs": [],
   "source": [
    "## unpackage it\n",
    "unzip uchime_reference_dataset_01.01.2016.zip"
   ]
  },
  {
   "cell_type": "markdown",
   "metadata": {},
   "source": [
    "This directory contains several versions of UNITE. Of particular interest to us is an ITS1 only database, since our reads are from the ITS1 region only. We'll use this as our reference database with usearch:"
   ]
  },
  {
   "cell_type": "code",
   "execution_count": 45,
   "metadata": {
    "collapsed": false
   },
   "outputs": [
    {
     "name": "stdout",
     "output_type": "stream",
     "text": []
    }
   ],
   "source": [
    "## use uclust algorithm directly to check for chimeras for us. \n",
    "\n",
    "usearch -uchime_ref wood_paired_clipped_defloat.fasta -db ~/uchime_reference_dataset_01.01.2016/ITS1_ITS2_datasets/uchime_sh_refs_dynamic_develop_985_01.01.2016.ITS1.fasta -nonchimeras wood_notchim.fasta -strand plus -uchimeout chim_log.txt"
   ]
  },
  {
   "cell_type": "markdown",
   "metadata": {},
   "source": [
    "Usearch returns a FASTA file of sequences that are NOT chimeras, let's see how many reads were lost in this process.\n",
    "\n",
    "Usearch spits out multi-line fastas, meaning they insert line breaks inside of the sequences. Don't really know why. But to count reads in these we need to grep the sequence identifier line, instead of just using the 'wc -l' command:"
   ]
  },
  {
   "cell_type": "code",
   "execution_count": 46,
   "metadata": {
    "collapsed": false
   },
   "outputs": [
    {
     "name": "stdout",
     "output_type": "stream",
     "text": [
      "5423495\r\n",
      "5470730\r\n"
     ]
    }
   ],
   "source": [
    "## grep the beginning of each read:\n",
    "grep '\\<M' wood_notchim.fasta | wc -l\n",
    "grep '\\<M' wood_paired_clipped_defloat.fasta | wc -l"
   ]
  },
  {
   "cell_type": "markdown",
   "metadata": {},
   "source": [
    "5,470,730 reads before chimer check - 5,423,495 reads after chimera check = 47,235 chimera sequences! Seems like a lot. \n"
   ]
  },
  {
   "cell_type": "markdown",
   "metadata": {},
   "source": [
    "So this works, but usearch likes to return a multiline fasta, with line breaks after a certain number of BP. We may need to fix this..."
   ]
  },
  {
   "cell_type": "markdown",
   "metadata": {},
   "source": [
    "<a id='otus'></a>"
   ]
  },
  {
   "cell_type": "markdown",
   "metadata": {},
   "source": [
    "# Pick otus and representative sequences:"
   ]
  },
  {
   "cell_type": "markdown",
   "metadata": {},
   "source": [
    "Qiime has a pretty classic command for clustering otus, [pick_otus.py](http://qiime.org/scripts/pick_otus.html). \n",
    "\n",
    "However, as always, Qiime and I are not getting along. The aciss installation of qiime seems unreliable at this time. So we'll use usearch, the default algorithm used by qiime for out clustering, just without the qiime wrapper. \n",
    "\n",
    "We'll use the 95% cutoff, to keep things consistent with Roo's biom table. The justification is that the ITS 1 region is really variable, and more wobble is necessary among \"species\" concepts here to recapture the standard 97% or so cutoff of full ITS comparisons. "
   ]
  },
  {
   "cell_type": "markdown",
   "metadata": {},
   "source": [
    "We start by \"dereplicating\" our sequencings, which reduces our read file to unique sequences (no repeats), and a size tag to indicate how many sequences were originally present. I think. Not sure, in the past, qiime took care of this for me. "
   ]
  },
  {
   "cell_type": "markdown",
   "metadata": {},
   "source": [
    "In aciss, load the latest usearch. ACISS has the license to 64-bit usearch algorithms, which is handy for these large illumina data sets:"
   ]
  },
  {
   "cell_type": "code",
   "execution_count": null,
   "metadata": {
    "collapsed": true
   },
   "outputs": [],
   "source": [
    "module load usearch/8.1.1803"
   ]
  },
  {
   "cell_type": "markdown",
   "metadata": {},
   "source": [
    "We start by \"dereplicating\" our sequencings, which reduces our read file to unique sequences (no repeats), and a size tag to indicate how many sequences were originally present. I think. Not sure, in the past, qiime took care of this for me. "
   ]
  },
  {
   "cell_type": "code",
   "execution_count": null,
   "metadata": {
    "collapsed": true
   },
   "outputs": [],
   "source": [
    "usearch -derep_fulllength wood_notchim.fasta -fastaout wood_notchim_derep.fasta -sizeout"
   ]
  },
  {
   "cell_type": "markdown",
   "metadata": {},
   "source": [
    "the \"-sizeout\" maintains a record of how sequences are represented exactly (100% similarity) by each read in the dereplicated file. "
   ]
  },
  {
   "cell_type": "markdown",
   "metadata": {},
   "source": [
    "The we sort our files by this number:"
   ]
  },
  {
   "cell_type": "code",
   "execution_count": null,
   "metadata": {
    "collapsed": true
   },
   "outputs": [],
   "source": [
    "usearch -sortbysize wood_notchim_derep.fasta -fastaout wood_notchim_sorted.fasta"
   ]
  },
  {
   "cell_type": "markdown",
   "metadata": {},
   "source": [
    "And cluster them. Usearch has several methods for clustering. At the time of writing, the latest, preferred algorithm is [-cluster_otus](http://drive5.com/usearch/manual/cmd_cluster_otus.html). But this algorithm has only been tested for the .97 similarity radius for otus, and the author, Robert Edgar, will not vouch for it at any other radius. So let's try a [different algorithm](http://drive5.com/usearch/manual/cmd_cluster_smallmem.html), which I believe is the descendent of the uclust algorithm that Qiime uses in its scripts, anyway:"
   ]
  },
  {
   "cell_type": "code",
   "execution_count": 1,
   "metadata": {
    "collapsed": false
   },
   "outputs": [
    {
     "name": "stdout",
     "output_type": "stream",
     "text": []
    }
   ],
   "source": [
    "usearch -cluster_smallmem wood_notchim_sorted.fasta -id 0.95 -centroids otus_95_uclust.fasta -sizein -sizeout -sortedby size "
   ]
  },
  {
   "cell_type": "markdown",
   "metadata": {},
   "source": [
    "We keep the size (\"-sizeout\"), this might be handy information. \n",
    "\n",
    "In the same ACISS script I will also ask ACISS to do a .97 similarity OTU fasta file while I'm at it. This may come in handy for comparisons, or may be preferable (need to do more searching in the literature to see what other folks are up to with ITS1 studies). This script is in the repository ACISS scripts folder. This took ~40 hours for each clustering event, so be patient, or find a more efficient algorithm!\n",
    "\n",
    "Also, note that when the above command has finished, and otu clusters are ready, this point or after [assigning taxonomy](#taxonomy) may be a good spot to clean up our otu labels, though I put this off till [later](#sed2)."
   ]
  },
  {
   "cell_type": "markdown",
   "metadata": {},
   "source": [
    "On that note, I will also check another algorithm here, an alternative to usearch/uclust, called [swarm](https://github.com/torognes/swarm). I don't think this one is more time-efficient, but it is an open-source alternative to the usearch option, and some claim it is superior to recapturing mock community structure. I will run this at the same otu dissimilarity radius (.95 and .97). If there's time, we'll check all of these cluster sets to see which recovers our mock communities most accurately (if the mock community samples are intact, we can't check this yet!). \n",
    "\n",
    "So swarm:"
   ]
  },
  {
   "cell_type": "code",
   "execution_count": null,
   "metadata": {
    "collapsed": true
   },
   "outputs": [],
   "source": [
    "## or not...waiting on some information about how to use swarm..."
   ]
  },
  {
   "cell_type": "markdown",
   "metadata": {},
   "source": [
    "# Customize UNITE database"
   ]
  },
  {
   "cell_type": "markdown",
   "metadata": {
    "collapsed": true
   },
   "source": [
    "UNITE is an attempt by mycologists to get some quality control on fungal accessions in large public databases like GenBank. We will use it to identify our sequences. \n",
    "\n",
    "It's handy, but last I checked, there were some problems with sequences only identified to very low taxonomic resolution, e. g. accessions identified only to phylum. The cause problems because BLAST may display these matches over other very close matches that are more completely identified, if they match ever-so-slightly-better to the poorly identified sequences.\n",
    "\n",
    "I will use usearch's utax algorithm. So let's get the UNITE database made expressly for this:"
   ]
  },
  {
   "cell_type": "code",
   "execution_count": null,
   "metadata": {
    "collapsed": true
   },
   "outputs": [],
   "source": [
    "wget https://unite.ut.ee/sh_files/utax_reference_dataset_31.01.2016.zip"
   ]
  },
  {
   "cell_type": "markdown",
   "metadata": {},
   "source": [
    "\n",
    "I had lot of trouble getting my python interpreter to work on the database due issues with special characters like umlauts and other symbols (especially \"ë\" and \"×\" that are used in some names of fungi in UNITE. My versions of sed and iconv and my python interpeter would not work with UNITE names. My $LANG = en_US.UTF-8, which seems like it should be able to handle these characters, but character encoding is a complex subject which I do not understand. Most of the database is in simple unicode8, though, so I was able to use my favorite text editor [VIM](www.vim.org) to substitute these characters out:"
   ]
  },
  {
   "cell_type": "code",
   "execution_count": null,
   "metadata": {
    "collapsed": true
   },
   "outputs": [],
   "source": [
    "unzip utax_reference_dataset_31.01.2016.zip\n",
    "vim utax_reference_dataset_31.01.2016.fasta"
   ]
  },
  {
   "cell_type": "markdown",
   "metadata": {},
   "source": [
    "Inside vim command mode (press ':'):"
   ]
  },
  {
   "cell_type": "code",
   "execution_count": null,
   "metadata": {
    "collapsed": true
   },
   "outputs": [],
   "source": [
    ":%s/ë/e/g\n",
    ":%s/×/x/g"
   ]
  },
  {
   "cell_type": "markdown",
   "metadata": {},
   "source": [
    "This fixed it for me. Good luck with your unicode. Maybe mac users won't have this issue. Exit vim, back in the shell. Here I've written another python script, \"UNITE_with_class2.py\", for only keeping those UNITE records with class identification or better. This is in the repository. "
   ]
  },
  {
   "cell_type": "code",
   "execution_count": null,
   "metadata": {
    "collapsed": true
   },
   "outputs": [],
   "source": [
    "./UNITE_with_class2.py utax_reference_dataset_31.01.2016.fasta utax_ref_class.fasta"
   ]
  },
  {
   "cell_type": "markdown",
   "metadata": {},
   "source": [
    "And convert this \"classy\" database to a format that usearch/utax likes:"
   ]
  },
  {
   "cell_type": "code",
   "execution_count": null,
   "metadata": {
    "collapsed": true
   },
   "outputs": [],
   "source": [
    "usearch -makeudb_utax utax_ref_class.fasta -output utax_ref_class.udb -report dbmake_report.txt"
   ]
  },
  {
   "cell_type": "markdown",
   "metadata": {},
   "source": [
    "<a id='taxonomy'></a>"
   ]
  },
  {
   "cell_type": "markdown",
   "metadata": {},
   "source": [
    "# Assign taxonomy to otus"
   ]
  },
  {
   "cell_type": "markdown",
   "metadata": {},
   "source": [
    "Time to put some names on the otu reference set. To do this with the usearch pipeline, we need to give all of our otu clusters a unique name/number. Since we used [usearch -cluster_smallmem](http://www.drive5.com/usearch/manual/cmd_cluster_smallmem.html) instead of [usearch -cluster_otus](http://www.drive5.com/usearch/manual/cmd_cluster_otus.html) due to our .95 similarity radius for our otus, [see here for discussion](http://www.drive5.com/usearch/manual/uparse_otu_radius.html), we need to add our otu names ourselves. As everyone knows, I like to do things the hard way. Anyway, wrote a python script for this, called \"addOTUtag.py\", it's in the repository. \n",
    "\n",
    "Also, note that here or in [otu clustering](#otus) may be a good spot to clean up our otu labels, though I put this off till [later](#sed2)."
   ]
  },
  {
   "cell_type": "code",
   "execution_count": 8,
   "metadata": {
    "collapsed": false
   },
   "outputs": [
    {
     "name": "stdout",
     "output_type": "stream",
     "text": []
    }
   ],
   "source": [
    "./addOTUtag.py otus_95_uclust.fasta OTU otus_95_uclust_relabel.fasta"
   ]
  },
  {
   "cell_type": "markdown",
   "metadata": {},
   "source": [
    "Three arguments: old fasta file, label (\"OTU\" recommended), new fasta file. \n",
    "\n",
    "Let's try to assign taxonomy to the .95 radius otu clusters we just generated..."
   ]
  },
  {
   "cell_type": "code",
   "execution_count": 9,
   "metadata": {
    "collapsed": false,
    "scrolled": true
   },
   "outputs": [
    {
     "name": "stdout",
     "output_type": "stream",
     "text": [
      "usearch v8.1.1861_i86linux32, 4.0Gb RAM (8.1Gb total), 8 cores\r\n",
      "(C) Copyright 2013-15 Robert C. Edgar, all rights reserved.\r\n",
      "http://drive5.com/usearch\r\n",
      "\r\n",
      "Licensed to: dthomas@uoregon.edu\r\n",
      "\r\n",
      "00:00 3.6Mb    0.0% Rows\r",
      "00:01  30Mb   23.8% Rows\r",
      "00:01 117Mb  100.0% Rows\r",
      "\r\n",
      "00:01 117Mb Read taxonomy info...done.\r\n",
      "00:01 119Mb Reading pointers...done.\r\n",
      "00:02 124Mb Reading db seqs...done.\r\n",
      "00:02 187Mb    0.1% 0 seqs, 0.0% at phylum, 0.0% genus (P > 0.00)\r",
      "00:03 269Mb    0.2% 1032 seqs, 35.5% at phylum, 5.9% genus (P > 0.90)\r",
      "00:04 269Mb    0.2% 2874 seqs, 33.2% at phylum, 4.0% genus (P > 0.90)\r",
      "00:05 269Mb    0.2% 4738 seqs, 32.5% at phylum, 2.8% genus (P > 0.90)\r",
      "00:06 269Mb    0.2% 6642 seqs, 32.5% at phylum, 2.4% genus (P > 0.90)\r",
      "00:07 269Mb    0.3% 8520 seqs, 32.6% at phylum, 2.1% genus (P > 0.90)\r",
      "00:08 269Mb    0.3% 10.5k seqs, 32.7% at phylum, 1.9% genus (P > 0.90)\r",
      "00:09 269Mb    0.4% 12.4k seqs, 32.8% at phylum, 1.7% genus (P > 0.90)\r",
      "00:10 269Mb    0.4% 14.3k seqs, 32.5% at phylum, 1.6% genus (P > 0.90)\r",
      "00:11 269Mb    0.5% 16.2k seqs, 32.6% at phylum, 1.5% genus (P > 0.90)\r",
      "00:12 269Mb    0.5% 18.2k seqs, 32.6% at phylum, 1.5% genus (P > 0.90)\r",
      "00:13 269Mb    0.6% 20.1k seqs, 32.5% at phylum, 1.4% genus (P > 0.90)\r",
      "00:14 269Mb    0.7% 22.0k seqs, 32.6% at phylum, 1.4% genus (P > 0.90)\r",
      "00:15 269Mb    0.7% 24.0k seqs, 32.6% at phylum, 1.4% genus (P > 0.90)\r",
      "00:16 269Mb    0.8% 25.9k seqs, 32.7% at phylum, 1.3% genus (P > 0.90)\r",
      "00:17 269Mb    0.8% 27.8k seqs, 32.7% at phylum, 1.3% genus (P > 0.90)\r",
      "00:18 269Mb    0.9% 29.8k seqs, 32.7% at phylum, 1.3% genus (P > 0.90)\r",
      "00:19 269Mb    0.9% 31.7k seqs, 32.7% at phylum, 1.2% genus (P > 0.90)\r",
      "00:20 269Mb    1.0% 33.5k seqs, 32.6% at phylum, 1.2% genus (P > 0.90)\r",
      "00:21 269Mb    1.0% 35.4k seqs, 32.5% at phylum, 1.2% genus (P > 0.90)\r",
      "00:22 269Mb    1.1% 37.2k seqs, 32.7% at phylum, 1.2% genus (P > 0.90)\r",
      "00:23 269Mb    1.1% 39.2k seqs, 32.6% at phylum, 1.2% genus (P > 0.90)\r",
      "00:24 269Mb    1.2% 41.1k seqs, 32.6% at phylum, 1.1% genus (P > 0.90)\r",
      "00:25 269Mb    1.2% 43.1k seqs, 32.6% at phylum, 1.1% genus (P > 0.90)\r",
      "00:26 269Mb    1.3% 45.1k seqs, 32.6% at phylum, 1.1% genus (P > 0.90)\r",
      "00:27 269Mb    1.3% 47.0k seqs, 32.6% at phylum, 1.1% genus (P > 0.90)\r",
      "00:28 269Mb    1.4% 48.9k seqs, 32.5% at phylum, 1.1% genus (P > 0.90)\r",
      "00:29 269Mb    1.4% 50.7k seqs, 32.5% at phylum, 1.1% genus (P > 0.90)\r",
      "00:30 269Mb    1.5% 52.6k seqs, 32.4% at phylum, 1.1% genus (P > 0.90)\r",
      "00:31 269Mb    1.5% 53.9k seqs, 32.4% at phylum, 1.0% genus (P > 0.90)\r",
      "00:32 269Mb    1.5% 54.9k seqs, 32.5% at phylum, 1.0% genus (P > 0.90)\r",
      "00:33 269Mb    1.6% 56.0k seqs, 32.5% at phylum, 1.0% genus (P > 0.90)\r",
      "00:34 269Mb    1.6% 57.1k seqs, 32.5% at phylum, 1.0% genus (P > 0.90)\r",
      "00:35 269Mb    1.6% 58.9k seqs, 32.5% at phylum, 1.0% genus (P > 0.90)\r",
      "00:36 269Mb    1.7% 60.8k seqs, 32.4% at phylum, 1.0% genus (P > 0.90)\r",
      "00:37 269Mb    1.7% 62.8k seqs, 32.4% at phylum, 1.0% genus (P > 0.90)\r",
      "00:38 269Mb    1.8% 64.8k seqs, 32.4% at phylum, 1.0% genus (P > 0.90)\r",
      "00:39 269Mb    1.8% 66.7k seqs, 32.3% at phylum, 1.0% genus (P > 0.90)\r",
      "00:40 269Mb    1.9% 68.5k seqs, 32.3% at phylum, 0.9% genus (P > 0.90)\r",
      "00:41 269Mb    1.9% 70.4k seqs, 32.2% at phylum, 0.9% genus (P > 0.90)\r",
      "00:42 269Mb    2.0% 72.3k seqs, 32.2% at phylum, 0.9% genus (P > 0.90)\r",
      "00:43 269Mb    2.0% 73.6k seqs, 32.1% at phylum, 0.9% genus (P > 0.90)\r",
      "00:44 269Mb    2.0% 74.6k seqs, 32.1% at phylum, 0.9% genus (P > 0.90)\r",
      "00:45 269Mb    2.1% 75.7k seqs, 32.1% at phylum, 0.9% genus (P > 0.90)\r",
      "00:46 269Mb    2.1% 76.7k seqs, 32.1% at phylum, 0.9% genus (P > 0.90)\r",
      "00:47 269Mb    2.1% 78.3k seqs, 32.0% at phylum, 0.9% genus (P > 0.90)\r",
      "00:48 269Mb    2.2% 80.0k seqs, 32.0% at phylum, 0.9% genus (P > 0.90)\r",
      "00:49 269Mb    2.2% 82.0k seqs, 32.1% at phylum, 0.9% genus (P > 0.90)\r",
      "00:50 269Mb    2.3% 84.0k seqs, 32.0% at phylum, 0.9% genus (P > 0.90)\r",
      "00:51 269Mb    2.3% 85.9k seqs, 32.0% at phylum, 0.9% genus (P > 0.90)\r",
      "00:52 269Mb    2.4% 87.8k seqs, 31.8% at phylum, 0.9% genus (P > 0.90)\r",
      "00:53 269Mb    2.4% 89.7k seqs, 31.2% at phylum, 0.9% genus (P > 0.90)\r",
      "00:54 269Mb    2.5% 91.7k seqs, 30.8% at phylum, 0.9% genus (P > 0.90)\r",
      "00:55 269Mb    2.5% 93.1k seqs, 30.5% at phylum, 0.9% genus (P > 0.90)\r",
      "00:56 269Mb    2.5% 94.2k seqs, 30.2% at phylum, 0.9% genus (P > 0.90)\r",
      "00:57 269Mb    2.6% 95.3k seqs, 29.9% at phylum, 0.9% genus (P > 0.90)\r",
      "00:58 269Mb    2.6% 96.4k seqs, 29.7% at phylum, 0.9% genus (P > 0.90)\r",
      "00:59 269Mb    2.6% 98.2k seqs, 29.3% at phylum, 0.8% genus (P > 0.90)\r",
      "01:00 269Mb    2.7% 100.2k seqs, 28.8% at phylum, 0.8% genus (P > 0.90)\r",
      "01:01 269Mb    2.8% 102.4k seqs, 28.3% at phylum, 0.8% genus (P > 0.90)\r",
      "01:02 269Mb    2.8% 104.5k seqs, 27.9% at phylum, 0.8% genus (P > 0.90)\r",
      "01:03 269Mb    2.9% 106.5k seqs, 27.5% at phylum, 0.8% genus (P > 0.90)\r",
      "01:04 269Mb    2.9% 108.4k seqs, 27.1% at phylum, 0.8% genus (P > 0.90)\r",
      "01:05 269Mb    2.9% 110.2k seqs, 26.8% at phylum, 0.8% genus (P > 0.90)\r",
      "01:06 269Mb    3.0% 112.2k seqs, 26.4% at phylum, 0.7% genus (P > 0.90)\r",
      "01:07 269Mb    3.0% 113.5k seqs, 26.1% at phylum, 0.7% genus (P > 0.90)\r",
      "01:08 269Mb    3.1% 114.6k seqs, 25.9% at phylum, 0.7% genus (P > 0.90)\r",
      "01:09 269Mb    3.1% 115.8k seqs, 25.7% at phylum, 0.7% genus (P > 0.90)\r",
      "01:10 269Mb    3.1% 116.9k seqs, 25.5% at phylum, 0.7% genus (P > 0.90)\r",
      "01:11 269Mb    3.1% 118.6k seqs, 25.2% at phylum, 0.7% genus (P > 0.90)\r",
      "01:12 269Mb    3.2% 120.6k seqs, 25.0% at phylum, 0.7% genus (P > 0.90)\r",
      "01:13 269Mb    3.2% 122.7k seqs, 24.7% at phylum, 0.7% genus (P > 0.90)\r",
      "01:14 269Mb    3.3% 124.7k seqs, 24.5% at phylum, 0.7% genus (P > 0.90)\r",
      "01:15 269Mb    3.3% 126.6k seqs, 24.2% at phylum, 0.7% genus (P > 0.90)\r",
      "01:16 269Mb    3.4% 128.5k seqs, 24.0% at phylum, 0.7% genus (P > 0.90)\r",
      "01:17 269Mb    3.4% 130.3k seqs, 23.8% at phylum, 0.6% genus (P > 0.90)\r",
      "01:18 269Mb    3.5% 132.3k seqs, 23.6% at phylum, 0.6% genus (P > 0.90)\r",
      "01:19 269Mb    3.5% 133.6k seqs, 23.4% at phylum, 0.6% genus (P > 0.90)\r",
      "01:20 269Mb    3.5% 134.7k seqs, 23.3% at phylum, 0.6% genus (P > 0.90)\r",
      "01:21 269Mb    3.6% 135.7k seqs, 23.2% at phylum, 0.6% genus (P > 0.90)\r",
      "01:22 269Mb    3.6% 136.8k seqs, 23.1% at phylum, 0.6% genus (P > 0.90)\r",
      "01:23 269Mb    3.6% 138.5k seqs, 22.9% at phylum, 0.6% genus (P > 0.90)\r",
      "01:24 269Mb    3.7% 140.4k seqs, 22.8% at phylum, 0.6% genus (P > 0.90)\r",
      "01:25 269Mb    3.7% 142.3k seqs, 22.6% at phylum, 0.6% genus (P > 0.90)\r",
      "01:26 269Mb    3.8% 144.3k seqs, 22.4% at phylum, 0.6% genus (P > 0.90)\r",
      "01:27 269Mb    3.8% 146.2k seqs, 22.3% at phylum, 0.6% genus (P > 0.90)\r",
      "01:28 269Mb    3.9% 148.1k seqs, 22.1% at phylum, 0.6% genus (P > 0.90)\r",
      "01:29 269Mb    3.9% 150.0k seqs, 21.9% at phylum, 0.6% genus (P > 0.90)\r",
      "01:30 269Mb    4.0% 151.9k seqs, 21.8% at phylum, 0.6% genus (P > 0.90)\r",
      "01:31 269Mb    4.0% 153.2k seqs, 21.7% at phylum, 0.6% genus (P > 0.90)\r",
      "01:32 269Mb    4.0% 154.3k seqs, 21.6% at phylum, 0.6% genus (P > 0.90)\r",
      "01:33 269Mb    4.1% 155.4k seqs, 21.5% at phylum, 0.6% genus (P > 0.90)\r",
      "01:34 269Mb    4.1% 156.5k seqs, 21.4% at phylum, 0.5% genus (P > 0.90)\r",
      "01:35 269Mb    4.1% 158.0k seqs, 21.2% at phylum, 0.5% genus (P > 0.90)\r",
      "01:36 269Mb    4.2% 159.7k seqs, 21.1% at phylum, 0.5% genus (P > 0.90)\r",
      "01:37 269Mb    4.2% 161.4k seqs, 21.0% at phylum, 0.5% genus (P > 0.90)\r",
      "01:38 269Mb    4.3% 163.1k seqs, 20.8% at phylum, 0.5% genus (P > 0.90)\r",
      "01:39 269Mb    4.3% 165.0k seqs, 20.7% at phylum, 0.5% genus (P > 0.90)\r",
      "01:40 269Mb    4.3% 166.9k seqs, 20.6% at phylum, 0.5% genus (P > 0.90)\r",
      "01:41 269Mb    4.4% 168.8k seqs, 20.5% at phylum, 0.5% genus (P > 0.90)\r",
      "01:42 269Mb    4.4% 170.7k seqs, 20.4% at phylum, 0.5% genus (P > 0.90)\r",
      "01:43 269Mb    4.5% 172.4k seqs, 20.2% at phylum, 0.5% genus (P > 0.90)\r",
      "01:44 269Mb    4.5% 174.1k seqs, 20.1% at phylum, 0.5% genus (P > 0.90)\r",
      "01:45 269Mb    4.6% 175.9k seqs, 20.0% at phylum, 0.5% genus (P > 0.90)\r",
      "01:46 269Mb    4.6% 177.6k seqs, 19.8% at phylum, 0.5% genus (P > 0.90)\r",
      "01:47 269Mb    4.7% 179.4k seqs, 19.7% at phylum, 0.5% genus (P > 0.90)\r",
      "01:48 269Mb    4.7% 181.3k seqs, 19.6% at phylum, 0.5% genus (P > 0.90)\r",
      "01:49 269Mb    4.7% 183.2k seqs, 19.4% at phylum, 0.5% genus (P > 0.90)\r",
      "01:50 269Mb    4.8% 185.1k seqs, 19.3% at phylum, 0.5% genus (P > 0.90)\r",
      "01:51 269Mb    4.8% 186.9k seqs, 19.1% at phylum, 0.5% genus (P > 0.90)\r",
      "01:52 269Mb    4.9% 188.8k seqs, 19.0% at phylum, 0.5% genus (P > 0.90)\r",
      "01:53 269Mb    4.9% 190.6k seqs, 18.9% at phylum, 0.5% genus (P > 0.90)\r",
      "01:54 269Mb    5.0% 192.5k seqs, 18.7% at phylum, 0.5% genus (P > 0.90)\r",
      "01:55 269Mb    5.0% 194.5k seqs, 18.6% at phylum, 0.4% genus (P > 0.90)\r",
      "01:56 269Mb    5.1% 196.3k seqs, 18.5% at phylum, 0.4% genus (P > 0.90)\r",
      "01:57 269Mb    5.1% 198.3k seqs, 18.4% at phylum, 0.4% genus (P > 0.90)\r",
      "01:58 269Mb    5.2% 200.2k seqs, 18.3% at phylum, 0.4% genus (P > 0.90)\r",
      "01:59 269Mb    5.2% 201.9k seqs, 18.2% at phylum, 0.4% genus (P > 0.90)\r",
      "02:00 269Mb    5.2% 203.3k seqs, 18.2% at phylum, 0.4% genus (P > 0.90)\r",
      "02:01 269Mb    5.3% 204.8k seqs, 18.1% at phylum, 0.4% genus (P > 0.90)\r",
      "02:02 269Mb    5.3% 206.3k seqs, 18.0% at phylum, 0.4% genus (P > 0.90)\r",
      "02:03 269Mb    5.4% 207.9k seqs, 18.0% at phylum, 0.4% genus (P > 0.90)\r",
      "02:04 269Mb    5.4% 209.6k seqs, 17.9% at phylum, 0.4% genus (P > 0.90)\r",
      "02:05 269Mb    5.4% 211.5k seqs, 17.8% at phylum, 0.4% genus (P > 0.90)\r",
      "02:06 269Mb    5.5% 213.2k seqs, 17.7% at phylum, 0.4% genus (P > 0.90)\r",
      "02:07 269Mb    5.5% 214.8k seqs, 17.6% at phylum, 0.4% genus (P > 0.90)\r",
      "02:08 269Mb    5.6% 216.3k seqs, 17.6% at phylum, 0.4% genus (P > 0.90)\r",
      "02:09 269Mb    5.6% 217.8k seqs, 17.5% at phylum, 0.4% genus (P > 0.90)\r",
      "02:10 269Mb    5.6% 219.3k seqs, 17.5% at phylum, 0.4% genus (P > 0.90)\r",
      "02:11 269Mb    5.7% 220.9k seqs, 17.5% at phylum, 0.4% genus (P > 0.90)\r",
      "02:12 269Mb    5.7% 222.6k seqs, 17.4% at phylum, 0.4% genus (P > 0.90)\r",
      "02:13 269Mb    5.8% 224.3k seqs, 17.3% at phylum, 0.4% genus (P > 0.90)\r",
      "02:14 269Mb    5.8% 226.1k seqs, 17.3% at phylum, 0.4% genus (P > 0.90)\r",
      "02:15 269Mb    5.9% 227.9k seqs, 17.2% at phylum, 0.4% genus (P > 0.90)\r",
      "02:16 269Mb    5.9% 229.7k seqs, 17.2% at phylum, 0.4% genus (P > 0.90)\r",
      "02:17 269Mb    5.9% 231.4k seqs, 17.1% at phylum, 0.4% genus (P > 0.90)\r",
      "02:18 269Mb    6.0% 233.1k seqs, 17.1% at phylum, 0.4% genus (P > 0.90)\r",
      "02:19 269Mb    6.0% 234.9k seqs, 17.0% at phylum, 0.4% genus (P > 0.90)\r",
      "02:20 269Mb    6.1% 236.8k seqs, 17.0% at phylum, 0.4% genus (P > 0.90)\r",
      "02:21 269Mb    6.1% 238.6k seqs, 16.9% at phylum, 0.4% genus (P > 0.90)\r",
      "02:22 269Mb    6.2% 240.4k seqs, 16.8% at phylum, 0.4% genus (P > 0.90)\r",
      "02:23 269Mb    6.2% 242.2k seqs, 16.8% at phylum, 0.4% genus (P > 0.90)\r",
      "02:24 269Mb    6.2% 243.9k seqs, 16.7% at phylum, 0.4% genus (P > 0.90)\r",
      "02:25 269Mb    6.3% 245.6k seqs, 16.7% at phylum, 0.4% genus (P > 0.90)\r",
      "02:26 269Mb    6.3% 247.3k seqs, 16.6% at phylum, 0.4% genus (P > 0.90)\r",
      "02:27 269Mb    6.4% 249.2k seqs, 16.5% at phylum, 0.4% genus (P > 0.90)\r",
      "02:28 269Mb    6.4% 251.2k seqs, 16.4% at phylum, 0.4% genus (P > 0.90)\r",
      "02:29 269Mb    6.5% 253.0k seqs, 16.4% at phylum, 0.4% genus (P > 0.90)\r",
      "02:30 269Mb    6.5% 254.8k seqs, 16.3% at phylum, 0.4% genus (P > 0.90)\r",
      "02:31 269Mb    6.6% 256.5k seqs, 16.2% at phylum, 0.4% genus (P > 0.90)\r",
      "02:32 269Mb    6.6% 258.2k seqs, 16.1% at phylum, 0.4% genus (P > 0.90)\r",
      "02:33 269Mb    6.6% 260.0k seqs, 16.1% at phylum, 0.4% genus (P > 0.90)\r",
      "02:34 269Mb    6.7% 261.7k seqs, 16.0% at phylum, 0.4% genus (P > 0.90)\r",
      "02:35 269Mb    6.7% 263.5k seqs, 15.9% at phylum, 0.4% genus (P > 0.90)\r",
      "02:36 269Mb    6.8% 265.4k seqs, 15.9% at phylum, 0.4% genus (P > 0.90)\r",
      "02:37 269Mb    6.8% 267.3k seqs, 15.8% at phylum, 0.4% genus (P > 0.90)\r",
      "02:38 269Mb    6.9% 269.3k seqs, 15.7% at phylum, 0.4% genus (P > 0.90)\r",
      "02:39 269Mb    6.9% 271.0k seqs, 15.7% at phylum, 0.4% genus (P > 0.90)\r",
      "02:40 269Mb    7.0% 272.8k seqs, 15.6% at phylum, 0.4% genus (P > 0.90)\r",
      "02:41 269Mb    7.0% 274.6k seqs, 15.6% at phylum, 0.4% genus (P > 0.90)\r",
      "02:42 269Mb    7.1% 276.3k seqs, 15.5% at phylum, 0.4% genus (P > 0.90)\r",
      "02:43 269Mb    7.1% 278.1k seqs, 15.5% at phylum, 0.4% genus (P > 0.90)\r",
      "02:44 269Mb    7.1% 280.1k seqs, 15.4% at phylum, 0.4% genus (P > 0.90)\r",
      "02:45 269Mb    7.2% 282.3k seqs, 15.4% at phylum, 0.4% genus (P > 0.90)\r",
      "02:46 269Mb    7.3% 284.4k seqs, 15.4% at phylum, 0.4% genus (P > 0.90)\r",
      "02:47 269Mb    7.3% 286.3k seqs, 15.3% at phylum, 0.4% genus (P > 0.90)\r",
      "02:48 269Mb    7.3% 288.1k seqs, 15.3% at phylum, 0.4% genus (P > 0.90)\r",
      "02:49 269Mb    7.4% 289.8k seqs, 15.2% at phylum, 0.3% genus (P > 0.90)\r",
      "02:50 269Mb    7.4% 291.6k seqs, 15.2% at phylum, 0.3% genus (P > 0.90)\r",
      "02:51 269Mb    7.5% 293.5k seqs, 15.1% at phylum, 0.3% genus (P > 0.90)\r",
      "02:52 269Mb    7.5% 295.4k seqs, 15.1% at phylum, 0.3% genus (P > 0.90)\r",
      "02:53 269Mb    7.6% 297.3k seqs, 15.1% at phylum, 0.3% genus (P > 0.90)\r",
      "02:54 269Mb    7.6% 299.1k seqs, 15.0% at phylum, 0.3% genus (P > 0.90)\r",
      "02:55 269Mb    7.7% 301.0k seqs, 15.1% at phylum, 0.3% genus (P > 0.90)\r",
      "02:56 269Mb    7.7% 303.1k seqs, 15.1% at phylum, 0.3% genus (P > 0.90)\r",
      "02:57 269Mb    7.8% 304.8k seqs, 15.1% at phylum, 0.3% genus (P > 0.90)\r",
      "02:58 269Mb    7.8% 306.7k seqs, 15.1% at phylum, 0.3% genus (P > 0.90)\r",
      "02:59 269Mb    7.8% 308.5k seqs, 15.1% at phylum, 0.3% genus (P > 0.90)\r",
      "03:00 269Mb    7.9% 310.5k seqs, 15.0% at phylum, 0.3% genus (P > 0.90)\r",
      "03:01 269Mb    7.9% 312.5k seqs, 15.0% at phylum, 0.3% genus (P > 0.90)\r",
      "03:02 269Mb    8.0% 314.4k seqs, 14.9% at phylum, 0.3% genus (P > 0.90)\r",
      "03:03 269Mb    8.0% 316.2k seqs, 14.9% at phylum, 0.3% genus (P > 0.90)\r",
      "03:04 269Mb    8.1% 317.9k seqs, 14.9% at phylum, 0.3% genus (P > 0.90)\r",
      "03:05 269Mb    8.1% 319.8k seqs, 14.8% at phylum, 0.3% genus (P > 0.90)\r",
      "03:06 269Mb    8.2% 321.4k seqs, 14.8% at phylum, 0.3% genus (P > 0.90)\r",
      "03:07 269Mb    8.2% 323.3k seqs, 14.8% at phylum, 0.3% genus (P > 0.90)\r",
      "03:08 269Mb    8.3% 325.4k seqs, 14.7% at phylum, 0.3% genus (P > 0.90)\r",
      "03:09 269Mb    8.3% 327.5k seqs, 14.7% at phylum, 0.3% genus (P > 0.90)\r",
      "03:10 269Mb    8.4% 329.7k seqs, 14.8% at phylum, 0.3% genus (P > 0.90)\r",
      "03:11 269Mb    8.4% 331.4k seqs, 14.7% at phylum, 0.3% genus (P > 0.90)\r",
      "03:12 269Mb    8.5% 333.1k seqs, 14.7% at phylum, 0.3% genus (P > 0.90)\r",
      "03:13 269Mb    8.5% 334.9k seqs, 14.6% at phylum, 0.3% genus (P > 0.90)\r",
      "03:14 269Mb    8.5% 336.7k seqs, 14.6% at phylum, 0.3% genus (P > 0.90)\r",
      "03:15 269Mb    8.6% 338.6k seqs, 14.5% at phylum, 0.3% genus (P > 0.90)\r",
      "03:16 269Mb    8.6% 340.3k seqs, 14.5% at phylum, 0.3% genus (P > 0.90)\r",
      "03:17 269Mb    8.7% 341.9k seqs, 14.5% at phylum, 0.3% genus (P > 0.90)\r",
      "03:18 269Mb    8.7% 343.7k seqs, 14.4% at phylum, 0.3% genus (P > 0.90)\r",
      "03:19 269Mb    8.8% 345.5k seqs, 14.3% at phylum, 0.3% genus (P > 0.90)\r",
      "03:20 269Mb    8.8% 347.2k seqs, 14.3% at phylum, 0.3% genus (P > 0.90)\r",
      "03:21 269Mb    8.8% 348.8k seqs, 14.3% at phylum, 0.3% genus (P > 0.90)\r",
      "03:22 269Mb    8.9% 350.6k seqs, 14.2% at phylum, 0.3% genus (P > 0.90)\r",
      "03:23 269Mb    8.9% 352.4k seqs, 14.2% at phylum, 0.3% genus (P > 0.90)\r",
      "03:24 269Mb    9.0% 354.3k seqs, 14.2% at phylum, 0.3% genus (P > 0.90)\r",
      "03:25 269Mb    9.0% 356.2k seqs, 14.1% at phylum, 0.3% genus (P > 0.90)\r",
      "03:26 269Mb    9.1% 358.2k seqs, 14.1% at phylum, 0.3% genus (P > 0.90)\r",
      "03:27 269Mb    9.1% 360.1k seqs, 14.1% at phylum, 0.3% genus (P > 0.90)\r",
      "03:28 269Mb    9.2% 361.8k seqs, 14.0% at phylum, 0.3% genus (P > 0.90)\r",
      "03:29 269Mb    9.2% 363.6k seqs, 14.0% at phylum, 0.3% genus (P > 0.90)\r",
      "03:30 269Mb    9.3% 365.3k seqs, 14.0% at phylum, 0.3% genus (P > 0.90)\r",
      "03:31 269Mb    9.3% 367.1k seqs, 14.0% at phylum, 0.3% genus (P > 0.90)\r",
      "03:32 269Mb    9.3% 368.9k seqs, 13.9% at phylum, 0.3% genus (P > 0.90)\r",
      "03:33 269Mb    9.4% 370.8k seqs, 13.9% at phylum, 0.3% genus (P > 0.90)\r",
      "03:34 269Mb    9.4% 372.7k seqs, 13.9% at phylum, 0.3% genus (P > 0.90)\r",
      "03:35 269Mb    9.5% 374.6k seqs, 13.8% at phylum, 0.3% genus (P > 0.90)\r",
      "03:36 269Mb    9.5% 376.4k seqs, 13.8% at phylum, 0.3% genus (P > 0.90)\r",
      "03:37 269Mb    9.6% 378.2k seqs, 13.8% at phylum, 0.3% genus (P > 0.90)\r",
      "03:38 269Mb    9.6% 380.0k seqs, 13.8% at phylum, 0.3% genus (P > 0.90)\r",
      "03:39 269Mb    9.7% 381.8k seqs, 13.7% at phylum, 0.3% genus (P > 0.90)\r",
      "03:40 269Mb    9.7% 383.7k seqs, 13.7% at phylum, 0.3% genus (P > 0.90)\r",
      "03:41 269Mb    9.8% 385.6k seqs, 13.7% at phylum, 0.3% genus (P > 0.90)\r",
      "03:42 269Mb    9.8% 387.5k seqs, 13.7% at phylum, 0.3% genus (P > 0.90)\r",
      "03:43 269Mb    9.8% 389.4k seqs, 13.6% at phylum, 0.3% genus (P > 0.90)\r",
      "03:44 269Mb    9.9% 391.1k seqs, 13.6% at phylum, 0.3% genus (P > 0.90)\r",
      "03:45 269Mb    9.9% 392.9k seqs, 13.6% at phylum, 0.3% genus (P > 0.90)\r",
      "03:46 269Mb   10.0% 394.7k seqs, 13.6% at phylum, 0.3% genus (P > 0.90)\r",
      "03:47 269Mb   10.0% 396.6k seqs, 13.5% at phylum, 0.3% genus (P > 0.90)\r",
      "03:48 269Mb   10.1% 398.5k seqs, 13.5% at phylum, 0.3% genus (P > 0.90)\r",
      "03:49 269Mb   10.1% 400.4k seqs, 13.5% at phylum, 0.3% genus (P > 0.90)\r",
      "03:50 269Mb   10.2% 402.2k seqs, 13.5% at phylum, 0.3% genus (P > 0.90)\r",
      "03:51 269Mb   10.2% 404.0k seqs, 13.5% at phylum, 0.3% genus (P > 0.90)\r",
      "03:52 269Mb   10.3% 405.7k seqs, 13.4% at phylum, 0.3% genus (P > 0.90)\r",
      "03:53 269Mb   10.3% 407.6k seqs, 13.4% at phylum, 0.3% genus (P > 0.90)\r",
      "03:54 269Mb   10.3% 409.4k seqs, 13.4% at phylum, 0.3% genus (P > 0.90)\r",
      "03:55 269Mb   10.4% 411.3k seqs, 13.4% at phylum, 0.3% genus (P > 0.90)\r",
      "03:56 269Mb   10.4% 413.3k seqs, 13.4% at phylum, 0.3% genus (P > 0.90)\r",
      "03:57 269Mb   10.5% 415.2k seqs, 13.4% at phylum, 0.3% genus (P > 0.90)\r",
      "03:58 269Mb   10.5% 417.1k seqs, 13.4% at phylum, 0.3% genus (P > 0.90)\r",
      "03:59 269Mb   10.6% 419.1k seqs, 13.5% at phylum, 0.3% genus (P > 0.90)\r",
      "04:00 269Mb   10.6% 421.0k seqs, 13.5% at phylum, 0.3% genus (P > 0.90)\r",
      "04:01 269Mb   10.7% 422.7k seqs, 13.5% at phylum, 0.3% genus (P > 0.90)\r",
      "04:02 269Mb   10.7% 424.4k seqs, 13.6% at phylum, 0.3% genus (P > 0.90)\r",
      "04:03 269Mb   10.8% 426.4k seqs, 13.6% at phylum, 0.3% genus (P > 0.90)\r",
      "04:04 269Mb   10.8% 428.3k seqs, 13.5% at phylum, 0.3% genus (P > 0.90)\r",
      "04:05 269Mb   10.9% 430.2k seqs, 13.5% at phylum, 0.3% genus (P > 0.90)\r",
      "04:06 269Mb   10.9% 432.1k seqs, 13.5% at phylum, 0.3% genus (P > 0.90)\r",
      "04:07 269Mb   11.0% 433.9k seqs, 13.5% at phylum, 0.3% genus (P > 0.90)\r",
      "04:08 269Mb   11.0% 435.5k seqs, 13.5% at phylum, 0.3% genus (P > 0.90)\r",
      "04:09 269Mb   11.0% 437.2k seqs, 13.4% at phylum, 0.3% genus (P > 0.90)\r",
      "04:10 269Mb   11.1% 439.0k seqs, 13.4% at phylum, 0.3% genus (P > 0.90)\r",
      "04:11 269Mb   11.1% 440.3k seqs, 13.4% at phylum, 0.3% genus (P > 0.90)\r",
      "04:12 269Mb   11.1% 441.2k seqs, 13.4% at phylum, 0.3% genus (P > 0.90)\r",
      "04:13 269Mb   11.2% 442.0k seqs, 13.3% at phylum, 0.3% genus (P > 0.90)\r",
      "04:14 269Mb   11.2% 442.8k seqs, 13.3% at phylum, 0.3% genus (P > 0.90)\r",
      "04:15 269Mb   11.2% 443.8k seqs, 13.3% at phylum, 0.3% genus (P > 0.90)\r",
      "04:16 269Mb   11.2% 444.9k seqs, 13.3% at phylum, 0.3% genus (P > 0.90)\r",
      "04:17 269Mb   11.3% 446.0k seqs, 13.3% at phylum, 0.3% genus (P > 0.90)\r",
      "04:18 269Mb   11.3% 447.0k seqs, 13.3% at phylum, 0.3% genus (P > 0.90)\r",
      "04:19 269Mb   11.3% 448.4k seqs, 13.3% at phylum, 0.3% genus (P > 0.90)\r",
      "04:20 269Mb   11.4% 450.1k seqs, 13.3% at phylum, 0.3% genus (P > 0.90)\r",
      "04:21 269Mb   11.4% 451.9k seqs, 13.3% at phylum, 0.3% genus (P > 0.90)\r",
      "04:22 269Mb   11.4% 453.8k seqs, 13.3% at phylum, 0.3% genus (P > 0.90)\r",
      "04:23 269Mb   11.5% 455.8k seqs, 13.3% at phylum, 0.3% genus (P > 0.90)\r",
      "04:24 269Mb   11.5% 457.7k seqs, 13.3% at phylum, 0.3% genus (P > 0.90)\r",
      "04:25 269Mb   11.6% 459.5k seqs, 13.3% at phylum, 0.3% genus (P > 0.90)\r",
      "04:26 269Mb   11.6% 461.4k seqs, 13.3% at phylum, 0.3% genus (P > 0.90)\r",
      "04:27 269Mb   11.7% 463.2k seqs, 13.3% at phylum, 0.3% genus (P > 0.90)\r",
      "04:28 269Mb   11.7% 465.0k seqs, 13.3% at phylum, 0.2% genus (P > 0.90)\r",
      "04:29 269Mb   11.8% 466.7k seqs, 13.2% at phylum, 0.2% genus (P > 0.90)\r",
      "04:30 269Mb   11.8% 468.5k seqs, 13.2% at phylum, 0.2% genus (P > 0.90)\r",
      "04:31 269Mb   11.9% 470.4k seqs, 13.2% at phylum, 0.2% genus (P > 0.90)\r",
      "04:32 269Mb   11.9% 472.3k seqs, 13.2% at phylum, 0.2% genus (P > 0.90)\r",
      "04:33 269Mb   11.9% 474.2k seqs, 13.1% at phylum, 0.2% genus (P > 0.90)\r",
      "04:34 269Mb   12.0% 476.1k seqs, 13.1% at phylum, 0.2% genus (P > 0.90)\r",
      "04:35 269Mb   12.0% 477.9k seqs, 13.1% at phylum, 0.2% genus (P > 0.90)\r",
      "04:36 269Mb   12.1% 479.6k seqs, 13.1% at phylum, 0.2% genus (P > 0.90)\r",
      "04:37 269Mb   12.1% 481.3k seqs, 13.0% at phylum, 0.2% genus (P > 0.90)\r",
      "04:38 269Mb   12.2% 483.1k seqs, 13.0% at phylum, 0.2% genus (P > 0.90)\r",
      "04:39 269Mb   12.2% 484.9k seqs, 13.0% at phylum, 0.2% genus (P > 0.90)\r",
      "04:40 269Mb   12.3% 486.8k seqs, 13.0% at phylum, 0.2% genus (P > 0.90)\r",
      "04:41 269Mb   12.3% 488.7k seqs, 13.0% at phylum, 0.2% genus (P > 0.90)\r",
      "04:42 269Mb   12.3% 490.0k seqs, 12.9% at phylum, 0.2% genus (P > 0.90)\r",
      "04:43 269Mb   12.4% 491.7k seqs, 12.9% at phylum, 0.2% genus (P > 0.90)\r",
      "04:44 269Mb   12.4% 493.3k seqs, 12.9% at phylum, 0.2% genus (P > 0.90)\r",
      "04:45 269Mb   12.5% 495.0k seqs, 12.9% at phylum, 0.2% genus (P > 0.90)\r",
      "04:46 269Mb   12.5% 496.7k seqs, 12.9% at phylum, 0.2% genus (P > 0.90)\r",
      "04:47 269Mb   12.6% 498.5k seqs, 12.8% at phylum, 0.2% genus (P > 0.90)\r",
      "04:48 269Mb   12.6% 500.4k seqs, 12.8% at phylum, 0.2% genus (P > 0.90)\r",
      "04:49 269Mb   12.6% 502.3k seqs, 12.8% at phylum, 0.2% genus (P > 0.90)\r",
      "04:50 269Mb   12.7% 504.2k seqs, 12.8% at phylum, 0.2% genus (P > 0.90)\r",
      "04:51 269Mb   12.7% 506.1k seqs, 12.8% at phylum, 0.2% genus (P > 0.90)\r",
      "04:52 269Mb   12.8% 507.8k seqs, 12.8% at phylum, 0.2% genus (P > 0.90)\r",
      "04:53 269Mb   12.8% 509.3k seqs, 12.8% at phylum, 0.2% genus (P > 0.90)\r",
      "04:54 269Mb   12.9% 510.9k seqs, 12.8% at phylum, 0.2% genus (P > 0.90)\r",
      "04:55 269Mb   12.9% 512.7k seqs, 12.7% at phylum, 0.2% genus (P > 0.90)\r",
      "04:56 269Mb   13.0% 514.6k seqs, 12.7% at phylum, 0.2% genus (P > 0.90)\r",
      "04:57 269Mb   13.0% 516.4k seqs, 12.7% at phylum, 0.2% genus (P > 0.90)\r",
      "04:58 269Mb   13.0% 518.3k seqs, 12.7% at phylum, 0.2% genus (P > 0.90)\r",
      "04:59 269Mb   13.1% 519.9k seqs, 12.7% at phylum, 0.2% genus (P > 0.90)\r",
      "05:00 269Mb   13.1% 521.6k seqs, 12.7% at phylum, 0.2% genus (P > 0.90)\r",
      "05:01 269Mb   13.2% 523.4k seqs, 12.7% at phylum, 0.2% genus (P > 0.90)\r",
      "05:02 269Mb   13.2% 525.1k seqs, 12.8% at phylum, 0.2% genus (P > 0.90)\r",
      "05:03 269Mb   13.2% 526.3k seqs, 12.7% at phylum, 0.2% genus (P > 0.90)\r",
      "05:04 269Mb   13.3% 527.2k seqs, 12.7% at phylum, 0.2% genus (P > 0.90)\r",
      "05:05 269Mb   13.3% 528.1k seqs, 12.8% at phylum, 0.2% genus (P > 0.90)\r",
      "05:06 269Mb   13.3% 528.9k seqs, 12.8% at phylum, 0.2% genus (P > 0.90)\r",
      "05:07 269Mb   13.3% 529.8k seqs, 12.8% at phylum, 0.2% genus (P > 0.90)\r",
      "05:08 269Mb   13.4% 530.9k seqs, 12.8% at phylum, 0.2% genus (P > 0.90)\r",
      "05:09 269Mb   13.4% 532.1k seqs, 12.8% at phylum, 0.2% genus (P > 0.90)\r",
      "05:10 269Mb   13.4% 533.3k seqs, 12.8% at phylum, 0.2% genus (P > 0.90)\r",
      "05:11 269Mb   13.5% 534.6k seqs, 12.8% at phylum, 0.2% genus (P > 0.90)\r",
      "05:12 269Mb   13.5% 536.4k seqs, 12.8% at phylum, 0.2% genus (P > 0.90)\r",
      "05:13 269Mb   13.5% 538.1k seqs, 12.7% at phylum, 0.2% genus (P > 0.90)\r",
      "05:14 269Mb   13.6% 539.9k seqs, 12.7% at phylum, 0.2% genus (P > 0.90)\r",
      "05:15 269Mb   13.6% 541.7k seqs, 12.7% at phylum, 0.2% genus (P > 0.90)\r",
      "05:16 269Mb   13.7% 543.6k seqs, 12.7% at phylum, 0.2% genus (P > 0.90)\r",
      "05:17 269Mb   13.7% 545.6k seqs, 12.7% at phylum, 0.2% genus (P > 0.90)\r",
      "05:18 269Mb   13.8% 547.5k seqs, 12.7% at phylum, 0.2% genus (P > 0.90)\r",
      "05:19 269Mb   13.8% 549.3k seqs, 12.7% at phylum, 0.2% genus (P > 0.90)\r",
      "05:20 269Mb   13.9% 551.2k seqs, 12.7% at phylum, 0.2% genus (P > 0.90)\r",
      "05:21 269Mb   13.9% 552.9k seqs, 12.7% at phylum, 0.2% genus (P > 0.90)\r",
      "05:22 269Mb   13.9% 554.6k seqs, 12.7% at phylum, 0.2% genus (P > 0.90)\r",
      "05:23 269Mb   14.0% 556.5k seqs, 12.7% at phylum, 0.2% genus (P > 0.90)\r",
      "05:24 269Mb   14.0% 558.4k seqs, 12.6% at phylum, 0.2% genus (P > 0.90)\r",
      "05:25 269Mb   14.1% 560.3k seqs, 12.6% at phylum, 0.2% genus (P > 0.90)\r",
      "05:26 269Mb   14.1% 562.3k seqs, 12.6% at phylum, 0.2% genus (P > 0.90)\r",
      "05:27 269Mb   14.2% 564.1k seqs, 12.6% at phylum, 0.2% genus (P > 0.90)\r",
      "05:28 269Mb   14.2% 565.9k seqs, 12.6% at phylum, 0.2% genus (P > 0.90)\r",
      "05:29 269Mb   14.3% 567.6k seqs, 12.5% at phylum, 0.2% genus (P > 0.90)\r",
      "05:30 269Mb   14.3% 569.4k seqs, 12.5% at phylum, 0.2% genus (P > 0.90)\r",
      "05:31 269Mb   14.4% 571.2k seqs, 12.5% at phylum, 0.2% genus (P > 0.90)\r",
      "05:32 269Mb   14.4% 573.2k seqs, 12.5% at phylum, 0.2% genus (P > 0.90)\r",
      "05:33 269Mb   14.5% 575.1k seqs, 12.5% at phylum, 0.2% genus (P > 0.90)\r",
      "05:34 269Mb   14.5% 577.0k seqs, 12.5% at phylum, 0.2% genus (P > 0.90)\r",
      "05:35 269Mb   14.5% 578.8k seqs, 12.4% at phylum, 0.2% genus (P > 0.90)\r",
      "05:36 269Mb   14.6% 580.5k seqs, 12.4% at phylum, 0.2% genus (P > 0.90)\r",
      "05:37 269Mb   14.6% 582.1k seqs, 12.4% at phylum, 0.2% genus (P > 0.90)\r",
      "05:38 269Mb   14.7% 583.9k seqs, 12.4% at phylum, 0.2% genus (P > 0.90)\r",
      "05:39 269Mb   14.7% 585.7k seqs, 12.4% at phylum, 0.2% genus (P > 0.90)\r",
      "05:40 269Mb   14.8% 587.6k seqs, 12.4% at phylum, 0.2% genus (P > 0.90)\r",
      "05:41 269Mb   14.8% 589.5k seqs, 12.4% at phylum, 0.2% genus (P > 0.90)\r",
      "05:42 269Mb   14.9% 591.5k seqs, 12.4% at phylum, 0.2% genus (P > 0.90)\r",
      "05:43 269Mb   14.9% 593.3k seqs, 12.4% at phylum, 0.2% genus (P > 0.90)\r",
      "05:44 269Mb   14.9% 595.1k seqs, 12.4% at phylum, 0.2% genus (P > 0.90)\r",
      "05:45 269Mb   15.0% 596.9k seqs, 12.4% at phylum, 0.2% genus (P > 0.90)\r",
      "05:46 269Mb   15.0% 598.7k seqs, 12.3% at phylum, 0.2% genus (P > 0.90)\r",
      "05:47 269Mb   15.1% 600.0k seqs, 12.3% at phylum, 0.2% genus (P > 0.90)\r",
      "05:48 269Mb   15.1% 600.9k seqs, 12.3% at phylum, 0.2% genus (P > 0.90)\r",
      "05:49 269Mb   15.1% 601.7k seqs, 12.3% at phylum, 0.2% genus (P > 0.90)\r",
      "05:50 269Mb   15.1% 602.6k seqs, 12.3% at phylum, 0.2% genus (P > 0.90)\r",
      "05:51 269Mb   15.2% 603.5k seqs, 12.3% at phylum, 0.2% genus (P > 0.90)\r",
      "05:52 269Mb   15.2% 604.6k seqs, 12.3% at phylum, 0.2% genus (P > 0.90)\r",
      "05:53 269Mb   15.2% 605.8k seqs, 12.3% at phylum, 0.2% genus (P > 0.90)\r",
      "05:54 269Mb   15.2% 606.9k seqs, 12.3% at phylum, 0.2% genus (P > 0.90)\r",
      "05:55 269Mb   15.3% 608.2k seqs, 12.3% at phylum, 0.2% genus (P > 0.90)\r",
      "05:56 269Mb   15.3% 610.0k seqs, 12.3% at phylum, 0.2% genus (P > 0.90)\r",
      "05:57 269Mb   15.4% 611.8k seqs, 12.2% at phylum, 0.2% genus (P > 0.90)\r",
      "05:58 269Mb   15.4% 613.5k seqs, 12.2% at phylum, 0.2% genus (P > 0.90)\r",
      "05:59 269Mb   15.4% 615.3k seqs, 12.2% at phylum, 0.2% genus (P > 0.90)\r",
      "06:00 269Mb   15.5% 617.2k seqs, 12.2% at phylum, 0.2% genus (P > 0.90)\r",
      "06:01 269Mb   15.5% 619.2k seqs, 12.2% at phylum, 0.2% genus (P > 0.90)\r",
      "06:02 269Mb   15.6% 621.1k seqs, 12.2% at phylum, 0.2% genus (P > 0.90)\r",
      "06:03 269Mb   15.6% 622.9k seqs, 12.2% at phylum, 0.2% genus (P > 0.90)\r",
      "06:04 269Mb   15.7% 624.6k seqs, 12.1% at phylum, 0.2% genus (P > 0.90)\r",
      "06:05 269Mb   15.7% 626.3k seqs, 12.1% at phylum, 0.2% genus (P > 0.90)\r",
      "06:06 269Mb   15.8% 628.0k seqs, 12.1% at phylum, 0.2% genus (P > 0.90)\r",
      "06:07 269Mb   15.8% 629.8k seqs, 12.1% at phylum, 0.2% genus (P > 0.90)\r",
      "06:08 269Mb   15.9% 631.6k seqs, 12.1% at phylum, 0.2% genus (P > 0.90)\r",
      "06:09 269Mb   15.9% 633.5k seqs, 12.1% at phylum, 0.2% genus (P > 0.90)\r",
      "06:10 269Mb   16.0% 635.6k seqs, 12.2% at phylum, 0.2% genus (P > 0.90)\r",
      "06:11 269Mb   16.0% 637.5k seqs, 12.1% at phylum, 0.2% genus (P > 0.90)\r",
      "06:12 269Mb   16.0% 639.2k seqs, 12.1% at phylum, 0.2% genus (P > 0.90)\r",
      "06:13 269Mb   16.1% 640.9k seqs, 12.1% at phylum, 0.2% genus (P > 0.90)\r",
      "06:14 269Mb   16.1% 642.7k seqs, 12.1% at phylum, 0.2% genus (P > 0.90)\r",
      "06:15 269Mb   16.2% 644.7k seqs, 12.1% at phylum, 0.2% genus (P > 0.90)\r",
      "06:16 269Mb   16.2% 646.7k seqs, 12.1% at phylum, 0.2% genus (P > 0.90)\r",
      "06:17 269Mb   16.3% 648.8k seqs, 12.1% at phylum, 0.2% genus (P > 0.90)\r",
      "06:18 269Mb   16.3% 650.8k seqs, 12.1% at phylum, 0.2% genus (P > 0.90)\r",
      "06:19 269Mb   16.4% 652.7k seqs, 12.1% at phylum, 0.2% genus (P > 0.90)\r",
      "06:20 269Mb   16.4% 654.3k seqs, 12.1% at phylum, 0.2% genus (P > 0.90)\r",
      "06:21 269Mb   16.5% 656.2k seqs, 12.1% at phylum, 0.2% genus (P > 0.90)\r",
      "06:22 269Mb   16.5% 658.2k seqs, 12.1% at phylum, 0.2% genus (P > 0.90)\r",
      "06:23 269Mb   16.6% 660.0k seqs, 12.1% at phylum, 0.2% genus (P > 0.90)\r",
      "06:24 269Mb   16.6% 662.0k seqs, 12.1% at phylum, 0.2% genus (P > 0.90)\r",
      "06:25 269Mb   16.7% 663.8k seqs, 12.1% at phylum, 0.2% genus (P > 0.90)\r",
      "06:26 269Mb   16.7% 665.8k seqs, 12.1% at phylum, 0.2% genus (P > 0.90)\r",
      "06:27 269Mb   16.7% 667.7k seqs, 12.1% at phylum, 0.2% genus (P > 0.90)\r",
      "06:28 269Mb   16.8% 669.6k seqs, 12.1% at phylum, 0.2% genus (P > 0.90)\r",
      "06:29 269Mb   16.8% 671.4k seqs, 12.1% at phylum, 0.2% genus (P > 0.90)\r",
      "06:30 269Mb   16.9% 673.1k seqs, 12.1% at phylum, 0.2% genus (P > 0.90)\r",
      "06:31 269Mb   16.9% 674.5k seqs, 12.1% at phylum, 0.2% genus (P > 0.90)\r",
      "06:32 269Mb   16.9% 675.4k seqs, 12.1% at phylum, 0.2% genus (P > 0.90)\r",
      "06:33 269Mb   17.0% 676.2k seqs, 12.1% at phylum, 0.2% genus (P > 0.90)\r",
      "06:34 269Mb   17.0% 677.1k seqs, 12.1% at phylum, 0.2% genus (P > 0.90)\r",
      "06:35 269Mb   17.0% 678.1k seqs, 12.1% at phylum, 0.2% genus (P > 0.90)\r",
      "06:36 269Mb   17.0% 679.4k seqs, 12.1% at phylum, 0.2% genus (P > 0.90)\r",
      "06:37 269Mb   17.1% 680.6k seqs, 12.1% at phylum, 0.2% genus (P > 0.90)\r",
      "06:38 269Mb   17.1% 681.7k seqs, 12.1% at phylum, 0.2% genus (P > 0.90)\r",
      "06:39 269Mb   17.1% 683.0k seqs, 12.1% at phylum, 0.2% genus (P > 0.90)\r",
      "06:40 269Mb   17.2% 684.8k seqs, 12.1% at phylum, 0.2% genus (P > 0.90)\r",
      "06:41 269Mb   17.2% 686.6k seqs, 12.0% at phylum, 0.2% genus (P > 0.90)\r",
      "06:42 269Mb   17.3% 688.4k seqs, 12.0% at phylum, 0.2% genus (P > 0.90)\r",
      "06:43 269Mb   17.3% 690.2k seqs, 12.0% at phylum, 0.2% genus (P > 0.90)\r",
      "06:44 269Mb   17.3% 692.1k seqs, 12.0% at phylum, 0.2% genus (P > 0.90)\r",
      "06:45 269Mb   17.4% 694.0k seqs, 12.0% at phylum, 0.2% genus (P > 0.90)\r",
      "06:46 269Mb   17.4% 695.9k seqs, 12.0% at phylum, 0.2% genus (P > 0.90)\r",
      "06:47 269Mb   17.5% 697.8k seqs, 12.0% at phylum, 0.2% genus (P > 0.90)\r",
      "06:48 269Mb   17.5% 699.6k seqs, 12.0% at phylum, 0.2% genus (P > 0.90)\r",
      "06:49 269Mb   17.6% 701.4k seqs, 11.9% at phylum, 0.2% genus (P > 0.90)\r",
      "06:50 269Mb   17.6% 703.2k seqs, 11.9% at phylum, 0.2% genus (P > 0.90)\r",
      "06:51 269Mb   17.7% 705.1k seqs, 11.9% at phylum, 0.2% genus (P > 0.90)\r",
      "06:52 269Mb   17.7% 707.0k seqs, 11.9% at phylum, 0.2% genus (P > 0.90)\r",
      "06:53 269Mb   17.8% 708.9k seqs, 11.9% at phylum, 0.2% genus (P > 0.90)\r",
      "06:54 269Mb   17.8% 710.8k seqs, 11.9% at phylum, 0.2% genus (P > 0.90)\r",
      "06:55 269Mb   17.9% 712.5k seqs, 11.9% at phylum, 0.2% genus (P > 0.90)\r",
      "06:56 269Mb   17.9% 714.2k seqs, 11.9% at phylum, 0.2% genus (P > 0.90)\r",
      "06:57 269Mb   17.9% 715.9k seqs, 11.9% at phylum, 0.2% genus (P > 0.90)\r",
      "06:58 269Mb   18.0% 717.6k seqs, 11.9% at phylum, 0.2% genus (P > 0.90)\r",
      "06:59 269Mb   18.0% 719.4k seqs, 11.9% at phylum, 0.2% genus (P > 0.90)\r",
      "07:00 269Mb   18.1% 721.4k seqs, 11.9% at phylum, 0.2% genus (P > 0.90)\r",
      "07:01 269Mb   18.1% 723.3k seqs, 11.9% at phylum, 0.2% genus (P > 0.90)\r",
      "07:02 269Mb   18.2% 725.3k seqs, 11.8% at phylum, 0.2% genus (P > 0.90)\r",
      "07:03 269Mb   18.2% 727.2k seqs, 11.8% at phylum, 0.2% genus (P > 0.90)\r",
      "07:04 269Mb   18.3% 728.9k seqs, 11.8% at phylum, 0.2% genus (P > 0.90)\r",
      "07:05 269Mb   18.3% 730.7k seqs, 11.8% at phylum, 0.2% genus (P > 0.90)\r",
      "07:06 269Mb   18.3% 732.4k seqs, 11.8% at phylum, 0.2% genus (P > 0.90)\r",
      "07:07 269Mb   18.4% 734.2k seqs, 11.8% at phylum, 0.2% genus (P > 0.90)\r",
      "07:08 269Mb   18.4% 735.6k seqs, 11.8% at phylum, 0.2% genus (P > 0.90)\r",
      "07:09 269Mb   18.5% 737.4k seqs, 11.8% at phylum, 0.2% genus (P > 0.90)\r",
      "07:10 269Mb   18.5% 739.3k seqs, 11.8% at phylum, 0.2% genus (P > 0.90)\r",
      "07:11 269Mb   18.6% 741.2k seqs, 11.8% at phylum, 0.2% genus (P > 0.90)\r",
      "07:12 269Mb   18.6% 743.0k seqs, 11.8% at phylum, 0.2% genus (P > 0.90)\r",
      "07:13 269Mb   18.7% 744.8k seqs, 11.8% at phylum, 0.2% genus (P > 0.90)\r",
      "07:14 269Mb   18.7% 746.5k seqs, 11.8% at phylum, 0.2% genus (P > 0.90)\r",
      "07:15 269Mb   18.7% 747.8k seqs, 11.8% at phylum, 0.2% genus (P > 0.90)\r",
      "07:16 269Mb   18.8% 748.9k seqs, 11.8% at phylum, 0.2% genus (P > 0.90)\r",
      "07:17 269Mb   18.8% 749.7k seqs, 11.8% at phylum, 0.2% genus (P > 0.90)\r",
      "07:18 269Mb   18.8% 750.6k seqs, 11.8% at phylum, 0.2% genus (P > 0.90)\r",
      "07:19 269Mb   18.8% 751.6k seqs, 11.7% at phylum, 0.2% genus (P > 0.90)\r",
      "07:20 269Mb   18.8% 752.6k seqs, 11.7% at phylum, 0.2% genus (P > 0.90)\r",
      "07:21 269Mb   18.9% 753.7k seqs, 11.7% at phylum, 0.2% genus (P > 0.90)\r",
      "07:22 269Mb   18.9% 754.8k seqs, 11.7% at phylum, 0.2% genus (P > 0.90)\r",
      "07:23 269Mb   18.9% 756.2k seqs, 11.7% at phylum, 0.2% genus (P > 0.90)\r",
      "07:24 269Mb   19.0% 757.9k seqs, 11.7% at phylum, 0.2% genus (P > 0.90)\r",
      "07:25 269Mb   19.0% 759.6k seqs, 11.7% at phylum, 0.2% genus (P > 0.90)\r",
      "07:26 269Mb   19.1% 761.3k seqs, 11.7% at phylum, 0.2% genus (P > 0.90)\r",
      "07:27 269Mb   19.1% 763.1k seqs, 11.7% at phylum, 0.2% genus (P > 0.90)\r",
      "07:28 269Mb   19.2% 765.0k seqs, 11.7% at phylum, 0.2% genus (P > 0.90)\r",
      "07:29 269Mb   19.2% 766.8k seqs, 11.7% at phylum, 0.2% genus (P > 0.90)\r",
      "07:30 269Mb   19.3% 768.8k seqs, 11.6% at phylum, 0.2% genus (P > 0.90)\r",
      "07:31 269Mb   19.3% 770.6k seqs, 11.6% at phylum, 0.2% genus (P > 0.90)\r",
      "07:32 269Mb   19.3% 772.4k seqs, 11.6% at phylum, 0.2% genus (P > 0.90)\r",
      "07:33 269Mb   19.4% 774.1k seqs, 11.6% at phylum, 0.2% genus (P > 0.90)\r",
      "07:34 269Mb   19.4% 775.9k seqs, 11.6% at phylum, 0.2% genus (P > 0.90)\r",
      "07:35 269Mb   19.5% 777.6k seqs, 11.6% at phylum, 0.2% genus (P > 0.90)\r",
      "07:36 269Mb   19.5% 779.6k seqs, 11.6% at phylum, 0.2% genus (P > 0.90)\r",
      "07:37 269Mb   19.6% 781.9k seqs, 11.7% at phylum, 0.2% genus (P > 0.90)\r",
      "07:38 269Mb   19.6% 783.9k seqs, 11.7% at phylum, 0.2% genus (P > 0.90)\r",
      "07:39 269Mb   19.7% 785.7k seqs, 11.7% at phylum, 0.2% genus (P > 0.90)\r",
      "07:40 269Mb   19.7% 787.5k seqs, 11.7% at phylum, 0.2% genus (P > 0.90)\r",
      "07:41 269Mb   19.8% 789.3k seqs, 11.7% at phylum, 0.2% genus (P > 0.90)\r",
      "07:42 269Mb   19.8% 791.1k seqs, 11.7% at phylum, 0.2% genus (P > 0.90)\r",
      "07:43 269Mb   19.9% 793.2k seqs, 11.7% at phylum, 0.2% genus (P > 0.90)\r",
      "07:44 269Mb   19.9% 795.3k seqs, 11.8% at phylum, 0.2% genus (P > 0.90)\r",
      "07:45 269Mb   20.0% 797.1k seqs, 11.8% at phylum, 0.2% genus (P > 0.90)\r",
      "07:46 269Mb   20.0% 799.1k seqs, 11.8% at phylum, 0.2% genus (P > 0.90)\r",
      "07:47 269Mb   20.0% 800.9k seqs, 11.7% at phylum, 0.2% genus (P > 0.90)\r",
      "07:48 269Mb   20.1% 802.6k seqs, 11.7% at phylum, 0.2% genus (P > 0.90)\r",
      "07:49 269Mb   20.1% 804.5k seqs, 11.7% at phylum, 0.2% genus (P > 0.90)\r",
      "07:50 269Mb   20.2% 806.4k seqs, 11.7% at phylum, 0.2% genus (P > 0.90)\r",
      "07:51 269Mb   20.2% 807.9k seqs, 11.7% at phylum, 0.2% genus (P > 0.90)\r",
      "07:52 269Mb   20.2% 808.9k seqs, 11.7% at phylum, 0.2% genus (P > 0.90)\r",
      "07:53 269Mb   20.3% 809.8k seqs, 11.7% at phylum, 0.2% genus (P > 0.90)\r",
      "07:54 269Mb   20.3% 810.7k seqs, 11.7% at phylum, 0.2% genus (P > 0.90)\r",
      "07:55 269Mb   20.3% 811.6k seqs, 11.7% at phylum, 0.2% genus (P > 0.90)\r",
      "07:56 269Mb   20.3% 812.7k seqs, 11.7% at phylum, 0.2% genus (P > 0.90)\r",
      "07:57 269Mb   20.4% 813.8k seqs, 11.7% at phylum, 0.2% genus (P > 0.90)\r",
      "07:58 269Mb   20.4% 814.9k seqs, 11.7% at phylum, 0.2% genus (P > 0.90)\r",
      "07:59 269Mb   20.4% 816.1k seqs, 11.6% at phylum, 0.2% genus (P > 0.90)\r",
      "08:00 269Mb   20.5% 817.8k seqs, 11.6% at phylum, 0.2% genus (P > 0.90)\r",
      "08:01 269Mb   20.5% 819.5k seqs, 11.7% at phylum, 0.2% genus (P > 0.90)\r",
      "08:02 269Mb   20.6% 821.2k seqs, 11.6% at phylum, 0.2% genus (P > 0.90)\r",
      "08:03 269Mb   20.6% 823.0k seqs, 11.6% at phylum, 0.2% genus (P > 0.90)\r",
      "08:04 269Mb   20.6% 824.9k seqs, 11.6% at phylum, 0.2% genus (P > 0.90)\r",
      "08:05 269Mb   20.7% 826.8k seqs, 11.6% at phylum, 0.2% genus (P > 0.90)\r",
      "08:06 269Mb   20.7% 828.8k seqs, 11.6% at phylum, 0.2% genus (P > 0.90)\r",
      "08:07 269Mb   20.8% 830.7k seqs, 11.6% at phylum, 0.2% genus (P > 0.90)\r",
      "08:08 269Mb   20.8% 832.4k seqs, 11.6% at phylum, 0.2% genus (P > 0.90)\r",
      "08:09 269Mb   20.9% 834.0k seqs, 11.6% at phylum, 0.2% genus (P > 0.90)\r",
      "08:10 269Mb   20.9% 835.7k seqs, 11.6% at phylum, 0.2% genus (P > 0.90)\r",
      "08:11 269Mb   21.0% 837.6k seqs, 11.6% at phylum, 0.2% genus (P > 0.90)\r",
      "08:12 269Mb   21.0% 839.5k seqs, 11.6% at phylum, 0.2% genus (P > 0.90)\r",
      "08:13 269Mb   21.1% 841.4k seqs, 11.6% at phylum, 0.2% genus (P > 0.90)\r",
      "08:14 269Mb   21.1% 843.4k seqs, 11.6% at phylum, 0.2% genus (P > 0.90)\r",
      "08:15 269Mb   21.1% 845.3k seqs, 11.6% at phylum, 0.2% genus (P > 0.90)\r",
      "08:16 269Mb   21.2% 847.1k seqs, 11.6% at phylum, 0.2% genus (P > 0.90)\r",
      "08:17 269Mb   21.2% 848.9k seqs, 11.6% at phylum, 0.2% genus (P > 0.90)\r",
      "08:18 269Mb   21.3% 850.6k seqs, 11.6% at phylum, 0.2% genus (P > 0.90)\r",
      "08:19 269Mb   21.3% 852.1k seqs, 11.6% at phylum, 0.2% genus (P > 0.90)\r",
      "08:20 269Mb   21.3% 853.0k seqs, 11.6% at phylum, 0.2% genus (P > 0.90)\r",
      "08:21 269Mb   21.4% 853.9k seqs, 11.6% at phylum, 0.2% genus (P > 0.90)\r",
      "08:22 269Mb   21.4% 854.8k seqs, 11.6% at phylum, 0.2% genus (P > 0.90)\r",
      "08:23 269Mb   21.4% 855.7k seqs, 11.6% at phylum, 0.2% genus (P > 0.90)\r",
      "08:24 269Mb   21.4% 856.7k seqs, 11.5% at phylum, 0.2% genus (P > 0.90)\r",
      "08:25 269Mb   21.5% 857.9k seqs, 11.5% at phylum, 0.2% genus (P > 0.90)\r",
      "08:26 269Mb   21.5% 859.1k seqs, 11.5% at phylum, 0.2% genus (P > 0.90)\r",
      "08:27 269Mb   21.5% 860.4k seqs, 11.5% at phylum, 0.2% genus (P > 0.90)\r",
      "08:28 269Mb   21.6% 862.2k seqs, 11.5% at phylum, 0.2% genus (P > 0.90)\r",
      "08:29 269Mb   21.6% 863.9k seqs, 11.5% at phylum, 0.2% genus (P > 0.90)\r",
      "08:30 269Mb   21.7% 865.8k seqs, 11.5% at phylum, 0.2% genus (P > 0.90)\r",
      "08:31 269Mb   21.7% 867.6k seqs, 11.5% at phylum, 0.2% genus (P > 0.90)\r",
      "08:32 269Mb   21.7% 869.6k seqs, 11.5% at phylum, 0.2% genus (P > 0.90)\r",
      "08:33 269Mb   21.8% 871.5k seqs, 11.5% at phylum, 0.2% genus (P > 0.90)\r",
      "08:34 269Mb   21.8% 873.4k seqs, 11.5% at phylum, 0.2% genus (P > 0.90)\r",
      "08:35 269Mb   21.9% 875.5k seqs, 11.5% at phylum, 0.2% genus (P > 0.90)\r",
      "08:36 269Mb   21.9% 877.3k seqs, 11.5% at phylum, 0.2% genus (P > 0.90)\r",
      "08:37 269Mb   22.0% 879.1k seqs, 11.5% at phylum, 0.2% genus (P > 0.90)\r",
      "08:38 269Mb   22.0% 880.8k seqs, 11.5% at phylum, 0.2% genus (P > 0.90)\r",
      "08:39 269Mb   22.1% 882.6k seqs, 11.5% at phylum, 0.2% genus (P > 0.90)\r",
      "08:40 269Mb   22.1% 884.4k seqs, 11.5% at phylum, 0.2% genus (P > 0.90)\r",
      "08:41 269Mb   22.2% 886.3k seqs, 11.5% at phylum, 0.2% genus (P > 0.90)\r",
      "08:42 269Mb   22.2% 888.2k seqs, 11.5% at phylum, 0.2% genus (P > 0.90)\r",
      "08:43 269Mb   22.3% 890.0k seqs, 11.5% at phylum, 0.2% genus (P > 0.90)\r",
      "08:44 269Mb   22.3% 891.8k seqs, 11.5% at phylum, 0.2% genus (P > 0.90)\r",
      "08:45 269Mb   22.4% 893.6k seqs, 11.4% at phylum, 0.2% genus (P > 0.90)\r",
      "08:46 269Mb   22.4% 895.5k seqs, 11.4% at phylum, 0.2% genus (P > 0.90)\r",
      "08:47 269Mb   22.4% 897.3k seqs, 11.5% at phylum, 0.2% genus (P > 0.90)\r",
      "08:48 269Mb   22.5% 898.2k seqs, 11.5% at phylum, 0.2% genus (P > 0.90)\r",
      "08:49 269Mb   22.5% 899.2k seqs, 11.5% at phylum, 0.2% genus (P > 0.90)\r",
      "08:50 269Mb   22.5% 900.2k seqs, 11.5% at phylum, 0.2% genus (P > 0.90)\r",
      "08:51 269Mb   22.5% 901.2k seqs, 11.5% at phylum, 0.2% genus (P > 0.90)\r",
      "08:52 269Mb   22.6% 903.4k seqs, 11.5% at phylum, 0.2% genus (P > 0.90)\r",
      "08:53 269Mb   22.6% 905.5k seqs, 11.5% at phylum, 0.2% genus (P > 0.90)\r",
      "08:54 269Mb   22.7% 907.6k seqs, 11.5% at phylum, 0.2% genus (P > 0.90)\r",
      "08:55 269Mb   22.7% 909.7k seqs, 11.5% at phylum, 0.2% genus (P > 0.90)\r",
      "08:56 269Mb   22.8% 911.7k seqs, 11.5% at phylum, 0.2% genus (P > 0.90)\r",
      "08:57 269Mb   22.8% 913.5k seqs, 11.5% at phylum, 0.2% genus (P > 0.90)\r",
      "08:58 269Mb   22.9% 915.5k seqs, 11.5% at phylum, 0.2% genus (P > 0.90)\r",
      "08:59 269Mb   22.9% 917.1k seqs, 11.4% at phylum, 0.2% genus (P > 0.90)\r",
      "09:00 269Mb   23.0% 918.5k seqs, 11.4% at phylum, 0.2% genus (P > 0.90)\r",
      "09:01 269Mb   23.0% 919.3k seqs, 11.4% at phylum, 0.2% genus (P > 0.90)\r",
      "09:02 269Mb   23.0% 920.4k seqs, 11.4% at phylum, 0.2% genus (P > 0.90)\r",
      "09:03 269Mb   23.0% 921.5k seqs, 11.4% at phylum, 0.2% genus (P > 0.90)\r",
      "09:04 269Mb   23.1% 923.2k seqs, 11.4% at phylum, 0.2% genus (P > 0.90)\r",
      "09:05 269Mb   23.1% 924.9k seqs, 11.4% at phylum, 0.2% genus (P > 0.90)\r",
      "09:06 269Mb   23.2% 926.7k seqs, 11.4% at phylum, 0.2% genus (P > 0.90)\r",
      "09:07 269Mb   23.2% 928.6k seqs, 11.4% at phylum, 0.2% genus (P > 0.90)\r",
      "09:08 269Mb   23.3% 930.6k seqs, 11.4% at phylum, 0.2% genus (P > 0.90)\r",
      "09:09 269Mb   23.3% 932.6k seqs, 11.4% at phylum, 0.2% genus (P > 0.90)\r",
      "09:10 269Mb   23.4% 934.5k seqs, 11.4% at phylum, 0.2% genus (P > 0.90)\r",
      "09:11 269Mb   23.4% 936.3k seqs, 11.4% at phylum, 0.2% genus (P > 0.90)\r",
      "09:12 269Mb   23.5% 938.2k seqs, 11.3% at phylum, 0.2% genus (P > 0.90)\r",
      "09:13 269Mb   23.5% 939.9k seqs, 11.3% at phylum, 0.2% genus (P > 0.90)\r",
      "09:14 269Mb   23.5% 941.6k seqs, 11.3% at phylum, 0.2% genus (P > 0.90)\r",
      "09:15 269Mb   23.6% 943.4k seqs, 11.3% at phylum, 0.2% genus (P > 0.90)\r",
      "09:16 269Mb   23.6% 945.3k seqs, 11.3% at phylum, 0.2% genus (P > 0.90)\r",
      "09:17 269Mb   23.7% 947.2k seqs, 11.3% at phylum, 0.2% genus (P > 0.90)\r",
      "09:18 269Mb   23.7% 948.9k seqs, 11.3% at phylum, 0.2% genus (P > 0.90)\r",
      "09:19 269Mb   23.8% 950.7k seqs, 11.3% at phylum, 0.2% genus (P > 0.90)\r",
      "09:20 269Mb   23.8% 952.4k seqs, 11.3% at phylum, 0.2% genus (P > 0.90)\r",
      "09:21 269Mb   23.8% 954.1k seqs, 11.3% at phylum, 0.2% genus (P > 0.90)\r",
      "09:22 269Mb   23.9% 955.7k seqs, 11.3% at phylum, 0.2% genus (P > 0.90)\r",
      "09:23 269Mb   23.9% 957.2k seqs, 11.3% at phylum, 0.2% genus (P > 0.90)\r",
      "09:24 269Mb   24.0% 958.9k seqs, 11.3% at phylum, 0.2% genus (P > 0.90)\r",
      "09:25 269Mb   24.0% 960.9k seqs, 11.3% at phylum, 0.2% genus (P > 0.90)\r",
      "09:26 269Mb   24.1% 962.7k seqs, 11.3% at phylum, 0.2% genus (P > 0.90)\r",
      "09:27 269Mb   24.1% 964.5k seqs, 11.3% at phylum, 0.2% genus (P > 0.90)\r",
      "09:28 269Mb   24.1% 966.0k seqs, 11.3% at phylum, 0.2% genus (P > 0.90)\r",
      "09:29 269Mb   24.2% 967.8k seqs, 11.3% at phylum, 0.2% genus (P > 0.90)\r",
      "09:30 269Mb   24.2% 969.6k seqs, 11.3% at phylum, 0.2% genus (P > 0.90)\r",
      "09:31 269Mb   24.3% 971.1k seqs, 11.3% at phylum, 0.2% genus (P > 0.90)\r",
      "09:32 269Mb   24.3% 972.1k seqs, 11.3% at phylum, 0.2% genus (P > 0.90)\r",
      "09:33 269Mb   24.3% 973.0k seqs, 11.3% at phylum, 0.2% genus (P > 0.90)\r",
      "09:34 269Mb   24.3% 973.9k seqs, 11.3% at phylum, 0.2% genus (P > 0.90)\r",
      "09:35 269Mb   24.4% 974.9k seqs, 11.3% at phylum, 0.2% genus (P > 0.90)\r",
      "09:36 269Mb   24.4% 976.0k seqs, 11.3% at phylum, 0.2% genus (P > 0.90)\r",
      "09:37 269Mb   24.4% 977.2k seqs, 11.3% at phylum, 0.2% genus (P > 0.90)\r",
      "09:38 269Mb   24.4% 978.2k seqs, 11.3% at phylum, 0.2% genus (P > 0.90)\r",
      "09:39 269Mb   24.5% 979.4k seqs, 11.3% at phylum, 0.2% genus (P > 0.90)\r",
      "09:40 269Mb   24.5% 981.1k seqs, 11.3% at phylum, 0.2% genus (P > 0.90)\r",
      "09:41 269Mb   24.6% 982.9k seqs, 11.2% at phylum, 0.2% genus (P > 0.90)\r",
      "09:42 269Mb   24.6% 984.7k seqs, 11.2% at phylum, 0.2% genus (P > 0.90)\r",
      "09:43 269Mb   24.6% 986.4k seqs, 11.2% at phylum, 0.2% genus (P > 0.90)\r",
      "09:44 269Mb   24.7% 988.2k seqs, 11.2% at phylum, 0.2% genus (P > 0.90)\r",
      "09:45 269Mb   24.7% 990.1k seqs, 11.2% at phylum, 0.2% genus (P > 0.90)\r",
      "09:46 269Mb   24.8% 992.0k seqs, 11.2% at phylum, 0.2% genus (P > 0.90)\r",
      "09:47 269Mb   24.8% 993.9k seqs, 11.2% at phylum, 0.2% genus (P > 0.90)\r",
      "09:48 269Mb   24.9% 995.7k seqs, 11.2% at phylum, 0.2% genus (P > 0.90)\r",
      "09:49 269Mb   24.9% 997.4k seqs, 11.2% at phylum, 0.2% genus (P > 0.90)\r",
      "09:50 269Mb   25.0% 999.1k seqs, 11.2% at phylum, 0.2% genus (P > 0.90)\r",
      "09:51 269Mb   25.0% 1.0M seqs, 11.2% at phylum, 0.2% genus (P > 0.90)  \r",
      "09:52 269Mb   25.1% 1.0M seqs, 11.2% at phylum, 0.2% genus (P > 0.90)\r",
      "09:53 269Mb   25.1% 1.0M seqs, 11.2% at phylum, 0.2% genus (P > 0.90)\r",
      "09:54 269Mb   25.1% 1.0M seqs, 11.2% at phylum, 0.2% genus (P > 0.90)\r",
      "09:55 269Mb   25.2% 1.0M seqs, 11.2% at phylum, 0.2% genus (P > 0.90)\r",
      "09:56 269Mb   25.2% 1.0M seqs, 11.2% at phylum, 0.2% genus (P > 0.90)\r",
      "09:57 269Mb   25.3% 1.0M seqs, 11.2% at phylum, 0.2% genus (P > 0.90)\r",
      "09:58 269Mb   25.3% 1.0M seqs, 11.2% at phylum, 0.2% genus (P > 0.90)\r",
      "09:59 269Mb   25.4% 1.0M seqs, 11.2% at phylum, 0.2% genus (P > 0.90)\r",
      "10:00 269Mb   25.4% 1.0M seqs, 11.2% at phylum, 0.2% genus (P > 0.90)\r",
      "10:01 269Mb   25.5% 1.0M seqs, 11.2% at phylum, 0.2% genus (P > 0.90)\r",
      "10:02 269Mb   25.5% 1.0M seqs, 11.2% at phylum, 0.2% genus (P > 0.90)\r",
      "10:03 269Mb   25.6% 1.0M seqs, 11.2% at phylum, 0.2% genus (P > 0.90)\r",
      "10:04 269Mb   25.6% 1.0M seqs, 11.2% at phylum, 0.2% genus (P > 0.90)\r",
      "10:05 269Mb   25.7% 1.0M seqs, 11.3% at phylum, 0.2% genus (P > 0.90)\r",
      "10:06 269Mb   25.7% 1.0M seqs, 11.3% at phylum, 0.2% genus (P > 0.90)\r",
      "10:07 269Mb   25.7% 1.0M seqs, 11.3% at phylum, 0.2% genus (P > 0.90)\r",
      "10:08 269Mb   25.8% 1.0M seqs, 11.3% at phylum, 0.2% genus (P > 0.90)\r",
      "10:09 269Mb   25.8% 1.0M seqs, 11.3% at phylum, 0.2% genus (P > 0.90)\r",
      "10:10 269Mb   25.8% 1.0M seqs, 11.3% at phylum, 0.2% genus (P > 0.90)\r",
      "10:11 269Mb   25.8% 1.0M seqs, 11.2% at phylum, 0.2% genus (P > 0.90)\r",
      "10:12 269Mb   25.9% 1.0M seqs, 11.2% at phylum, 0.2% genus (P > 0.90)\r",
      "10:13 269Mb   25.9% 1.0M seqs, 11.2% at phylum, 0.2% genus (P > 0.90)\r",
      "10:14 269Mb   25.9% 1.0M seqs, 11.2% at phylum, 0.2% genus (P > 0.90)\r",
      "10:15 269Mb   25.9% 1.0M seqs, 11.2% at phylum, 0.2% genus (P > 0.90)\r",
      "10:16 269Mb   26.0% 1.0M seqs, 11.2% at phylum, 0.2% genus (P > 0.90)\r",
      "10:17 269Mb   26.0% 1.0M seqs, 11.2% at phylum, 0.2% genus (P > 0.90)\r",
      "10:18 269Mb   26.1% 1.0M seqs, 11.2% at phylum, 0.2% genus (P > 0.90)\r",
      "10:19 269Mb   26.1% 1.0M seqs, 11.2% at phylum, 0.2% genus (P > 0.90)\r",
      "10:20 269Mb   26.2% 1.0M seqs, 11.2% at phylum, 0.2% genus (P > 0.90)\r",
      "10:21 269Mb   26.2% 1.0M seqs, 11.2% at phylum, 0.2% genus (P > 0.90)\r",
      "10:22 269Mb   26.2% 1.1M seqs, 11.2% at phylum, 0.2% genus (P > 0.90)\r",
      "10:23 269Mb   26.3% 1.1M seqs, 11.2% at phylum, 0.2% genus (P > 0.90)\r",
      "10:24 269Mb   26.3% 1.1M seqs, 11.2% at phylum, 0.2% genus (P > 0.90)\r",
      "10:25 269Mb   26.4% 1.1M seqs, 11.2% at phylum, 0.2% genus (P > 0.90)\r",
      "10:26 269Mb   26.4% 1.1M seqs, 11.2% at phylum, 0.2% genus (P > 0.90)\r",
      "10:27 269Mb   26.5% 1.1M seqs, 11.2% at phylum, 0.2% genus (P > 0.90)\r",
      "10:28 269Mb   26.5% 1.1M seqs, 11.2% at phylum, 0.2% genus (P > 0.90)\r",
      "10:29 269Mb   26.6% 1.1M seqs, 11.2% at phylum, 0.2% genus (P > 0.90)\r",
      "10:30 269Mb   26.6% 1.1M seqs, 11.2% at phylum, 0.2% genus (P > 0.90)\r",
      "10:31 269Mb   26.6% 1.1M seqs, 11.2% at phylum, 0.2% genus (P > 0.90)\r",
      "10:32 269Mb   26.7% 1.1M seqs, 11.2% at phylum, 0.2% genus (P > 0.90)\r",
      "10:33 269Mb   26.7% 1.1M seqs, 11.2% at phylum, 0.2% genus (P > 0.90)\r",
      "10:34 269Mb   26.8% 1.1M seqs, 11.2% at phylum, 0.2% genus (P > 0.90)\r",
      "10:35 269Mb   26.8% 1.1M seqs, 11.3% at phylum, 0.2% genus (P > 0.90)\r",
      "10:36 269Mb   26.9% 1.1M seqs, 11.3% at phylum, 0.2% genus (P > 0.90)\r",
      "10:37 269Mb   26.9% 1.1M seqs, 11.3% at phylum, 0.2% genus (P > 0.90)\r",
      "10:38 269Mb   26.9% 1.1M seqs, 11.3% at phylum, 0.2% genus (P > 0.90)\r",
      "10:39 269Mb   27.0% 1.1M seqs, 11.3% at phylum, 0.2% genus (P > 0.90)\r",
      "10:40 269Mb   27.0% 1.1M seqs, 11.3% at phylum, 0.2% genus (P > 0.90)\r",
      "10:41 269Mb   27.1% 1.1M seqs, 11.3% at phylum, 0.2% genus (P > 0.90)\r",
      "10:42 269Mb   27.1% 1.1M seqs, 11.3% at phylum, 0.2% genus (P > 0.90)\r",
      "10:43 269Mb   27.1% 1.1M seqs, 11.3% at phylum, 0.2% genus (P > 0.90)\r",
      "10:44 269Mb   27.2% 1.1M seqs, 11.3% at phylum, 0.2% genus (P > 0.90)\r",
      "10:45 269Mb   27.2% 1.1M seqs, 11.3% at phylum, 0.2% genus (P > 0.90)\r",
      "10:46 269Mb   27.2% 1.1M seqs, 11.3% at phylum, 0.2% genus (P > 0.90)\r",
      "10:47 269Mb   27.2% 1.1M seqs, 11.3% at phylum, 0.2% genus (P > 0.90)\r",
      "10:48 269Mb   27.2% 1.1M seqs, 11.3% at phylum, 0.2% genus (P > 0.90)\r",
      "10:49 269Mb   27.3% 1.1M seqs, 11.3% at phylum, 0.1% genus (P > 0.90)\r",
      "10:50 269Mb   27.3% 1.1M seqs, 11.3% at phylum, 0.1% genus (P > 0.90)\r",
      "10:51 269Mb   27.3% 1.1M seqs, 11.3% at phylum, 0.1% genus (P > 0.90)\r",
      "10:52 269Mb   27.4% 1.1M seqs, 11.3% at phylum, 0.1% genus (P > 0.90)\r",
      "10:53 269Mb   27.4% 1.1M seqs, 11.3% at phylum, 0.1% genus (P > 0.90)\r",
      "10:54 269Mb   27.4% 1.1M seqs, 11.3% at phylum, 0.1% genus (P > 0.90)\r",
      "10:55 269Mb   27.5% 1.1M seqs, 11.3% at phylum, 0.1% genus (P > 0.90)\r",
      "10:56 269Mb   27.5% 1.1M seqs, 11.3% at phylum, 0.1% genus (P > 0.90)\r",
      "10:57 269Mb   27.6% 1.1M seqs, 11.3% at phylum, 0.1% genus (P > 0.90)\r",
      "10:58 269Mb   27.6% 1.1M seqs, 11.3% at phylum, 0.1% genus (P > 0.90)\r",
      "10:59 269Mb   27.7% 1.1M seqs, 11.3% at phylum, 0.1% genus (P > 0.90)\r",
      "11:00 269Mb   27.7% 1.1M seqs, 11.3% at phylum, 0.1% genus (P > 0.90)\r",
      "11:01 269Mb   27.7% 1.1M seqs, 11.2% at phylum, 0.1% genus (P > 0.90)\r",
      "11:02 269Mb   27.8% 1.1M seqs, 11.2% at phylum, 0.1% genus (P > 0.90)\r",
      "11:03 269Mb   27.8% 1.1M seqs, 11.3% at phylum, 0.1% genus (P > 0.90)\r",
      "11:04 269Mb   27.9% 1.1M seqs, 11.3% at phylum, 0.1% genus (P > 0.90)\r",
      "11:05 269Mb   27.9% 1.1M seqs, 11.3% at phylum, 0.1% genus (P > 0.90)\r",
      "11:06 269Mb   28.0% 1.1M seqs, 11.3% at phylum, 0.1% genus (P > 0.90)\r",
      "11:07 269Mb   28.0% 1.1M seqs, 11.2% at phylum, 0.1% genus (P > 0.90)\r",
      "11:08 269Mb   28.1% 1.1M seqs, 11.2% at phylum, 0.1% genus (P > 0.90)\r",
      "11:09 269Mb   28.1% 1.1M seqs, 11.2% at phylum, 0.1% genus (P > 0.90)\r",
      "11:10 269Mb   28.1% 1.1M seqs, 11.2% at phylum, 0.1% genus (P > 0.90)\r",
      "11:11 269Mb   28.2% 1.1M seqs, 11.2% at phylum, 0.1% genus (P > 0.90)\r",
      "11:12 269Mb   28.2% 1.1M seqs, 11.2% at phylum, 0.1% genus (P > 0.90)\r",
      "11:13 269Mb   28.3% 1.1M seqs, 11.2% at phylum, 0.1% genus (P > 0.90)\r",
      "11:14 269Mb   28.3% 1.1M seqs, 11.2% at phylum, 0.1% genus (P > 0.90)\r",
      "11:15 269Mb   28.4% 1.1M seqs, 11.2% at phylum, 0.1% genus (P > 0.90)\r",
      "11:16 269Mb   28.4% 1.1M seqs, 11.2% at phylum, 0.1% genus (P > 0.90)\r",
      "11:17 269Mb   28.4% 1.1M seqs, 11.2% at phylum, 0.1% genus (P > 0.90)\r",
      "11:18 269Mb   28.5% 1.1M seqs, 11.2% at phylum, 0.1% genus (P > 0.90)\r",
      "11:19 269Mb   28.5% 1.1M seqs, 11.2% at phylum, 0.1% genus (P > 0.90)\r",
      "11:20 269Mb   28.6% 1.1M seqs, 11.2% at phylum, 0.1% genus (P > 0.90)\r",
      "11:21 269Mb   28.6% 1.1M seqs, 11.2% at phylum, 0.1% genus (P > 0.90)\r",
      "11:22 269Mb   28.7% 1.1M seqs, 11.2% at phylum, 0.1% genus (P > 0.90)\r",
      "11:23 269Mb   28.7% 1.1M seqs, 11.2% at phylum, 0.1% genus (P > 0.90)\r",
      "11:24 269Mb   28.7% 1.2M seqs, 11.1% at phylum, 0.1% genus (P > 0.90)\r",
      "11:25 269Mb   28.8% 1.2M seqs, 11.1% at phylum, 0.1% genus (P > 0.90)\r",
      "11:26 269Mb   28.8% 1.2M seqs, 11.1% at phylum, 0.1% genus (P > 0.90)\r",
      "11:27 269Mb   28.9% 1.2M seqs, 11.1% at phylum, 0.1% genus (P > 0.90)\r",
      "11:28 269Mb   28.9% 1.2M seqs, 11.1% at phylum, 0.1% genus (P > 0.90)\r",
      "11:29 269Mb   28.9% 1.2M seqs, 11.1% at phylum, 0.1% genus (P > 0.90)\r",
      "11:30 269Mb   28.9% 1.2M seqs, 11.1% at phylum, 0.1% genus (P > 0.90)\r",
      "11:31 269Mb   29.0% 1.2M seqs, 11.1% at phylum, 0.1% genus (P > 0.90)\r",
      "11:32 269Mb   29.0% 1.2M seqs, 11.1% at phylum, 0.1% genus (P > 0.90)\r",
      "11:33 269Mb   29.0% 1.2M seqs, 11.1% at phylum, 0.1% genus (P > 0.90)\r",
      "11:34 269Mb   29.0% 1.2M seqs, 11.1% at phylum, 0.1% genus (P > 0.90)\r",
      "11:35 269Mb   29.1% 1.2M seqs, 11.1% at phylum, 0.1% genus (P > 0.90)\r",
      "11:36 269Mb   29.1% 1.2M seqs, 11.1% at phylum, 0.1% genus (P > 0.90)\r",
      "11:37 269Mb   29.1% 1.2M seqs, 11.1% at phylum, 0.1% genus (P > 0.90)\r",
      "11:38 269Mb   29.2% 1.2M seqs, 11.1% at phylum, 0.1% genus (P > 0.90)\r",
      "11:39 269Mb   29.2% 1.2M seqs, 11.1% at phylum, 0.1% genus (P > 0.90)\r",
      "11:40 269Mb   29.3% 1.2M seqs, 11.1% at phylum, 0.1% genus (P > 0.90)\r",
      "11:41 269Mb   29.3% 1.2M seqs, 11.1% at phylum, 0.1% genus (P > 0.90)\r",
      "11:42 269Mb   29.4% 1.2M seqs, 11.1% at phylum, 0.1% genus (P > 0.90)\r",
      "11:43 269Mb   29.4% 1.2M seqs, 11.1% at phylum, 0.1% genus (P > 0.90)\r",
      "11:44 269Mb   29.5% 1.2M seqs, 11.1% at phylum, 0.1% genus (P > 0.90)\r",
      "11:45 269Mb   29.5% 1.2M seqs, 11.1% at phylum, 0.1% genus (P > 0.90)\r",
      "11:46 269Mb   29.5% 1.2M seqs, 11.1% at phylum, 0.1% genus (P > 0.90)\r",
      "11:47 269Mb   29.6% 1.2M seqs, 11.1% at phylum, 0.1% genus (P > 0.90)\r",
      "11:48 269Mb   29.6% 1.2M seqs, 11.1% at phylum, 0.1% genus (P > 0.90)\r",
      "11:49 269Mb   29.7% 1.2M seqs, 11.1% at phylum, 0.1% genus (P > 0.90)\r",
      "11:50 269Mb   29.7% 1.2M seqs, 11.1% at phylum, 0.1% genus (P > 0.90)\r",
      "11:51 269Mb   29.8% 1.2M seqs, 11.1% at phylum, 0.1% genus (P > 0.90)\r",
      "11:52 269Mb   29.8% 1.2M seqs, 11.1% at phylum, 0.1% genus (P > 0.90)\r",
      "11:53 269Mb   29.9% 1.2M seqs, 11.1% at phylum, 0.1% genus (P > 0.90)\r",
      "11:54 269Mb   29.9% 1.2M seqs, 11.2% at phylum, 0.1% genus (P > 0.90)\r",
      "11:55 269Mb   29.9% 1.2M seqs, 11.2% at phylum, 0.1% genus (P > 0.90)\r",
      "11:56 269Mb   30.0% 1.2M seqs, 11.2% at phylum, 0.1% genus (P > 0.90)\r",
      "11:57 269Mb   30.0% 1.2M seqs, 11.2% at phylum, 0.1% genus (P > 0.90)\r",
      "11:58 269Mb   30.1% 1.2M seqs, 11.2% at phylum, 0.1% genus (P > 0.90)\r",
      "11:59 269Mb   30.1% 1.2M seqs, 11.2% at phylum, 0.1% genus (P > 0.90)\r",
      "12:00 269Mb   30.2% 1.2M seqs, 11.2% at phylum, 0.1% genus (P > 0.90)\r",
      "12:01 269Mb   30.2% 1.2M seqs, 11.2% at phylum, 0.1% genus (P > 0.90)\r",
      "12:02 269Mb   30.3% 1.2M seqs, 11.2% at phylum, 0.1% genus (P > 0.90)\r",
      "12:03 269Mb   30.3% 1.2M seqs, 11.2% at phylum, 0.1% genus (P > 0.90)\r",
      "12:04 269Mb   30.4% 1.2M seqs, 11.2% at phylum, 0.1% genus (P > 0.90)\r",
      "12:05 269Mb   30.4% 1.2M seqs, 11.2% at phylum, 0.1% genus (P > 0.90)\r",
      "12:06 269Mb   30.4% 1.2M seqs, 11.2% at phylum, 0.1% genus (P > 0.90)\r",
      "12:07 269Mb   30.5% 1.2M seqs, 11.2% at phylum, 0.1% genus (P > 0.90)\r",
      "12:08 269Mb   30.5% 1.2M seqs, 11.2% at phylum, 0.1% genus (P > 0.90)\r",
      "12:09 269Mb   30.6% 1.2M seqs, 11.2% at phylum, 0.1% genus (P > 0.90)\r",
      "12:10 269Mb   30.6% 1.2M seqs, 11.2% at phylum, 0.1% genus (P > 0.90)\r",
      "12:11 269Mb   30.6% 1.2M seqs, 11.2% at phylum, 0.1% genus (P > 0.90)\r",
      "12:12 269Mb   30.7% 1.2M seqs, 11.1% at phylum, 0.1% genus (P > 0.90)\r",
      "12:13 269Mb   30.7% 1.2M seqs, 11.1% at phylum, 0.1% genus (P > 0.90)\r",
      "12:14 269Mb   30.7% 1.2M seqs, 11.1% at phylum, 0.1% genus (P > 0.90)\r",
      "12:15 269Mb   30.7% 1.2M seqs, 11.1% at phylum, 0.1% genus (P > 0.90)\r",
      "12:16 269Mb   30.8% 1.2M seqs, 11.1% at phylum, 0.1% genus (P > 0.90)\r",
      "12:17 269Mb   30.8% 1.2M seqs, 11.1% at phylum, 0.1% genus (P > 0.90)\r",
      "12:18 269Mb   30.8% 1.2M seqs, 11.1% at phylum, 0.1% genus (P > 0.90)\r",
      "12:19 269Mb   30.8% 1.2M seqs, 11.1% at phylum, 0.1% genus (P > 0.90)\r",
      "12:20 269Mb   30.9% 1.2M seqs, 11.1% at phylum, 0.1% genus (P > 0.90)\r",
      "12:21 269Mb   30.9% 1.2M seqs, 11.1% at phylum, 0.1% genus (P > 0.90)\r",
      "12:22 269Mb   31.0% 1.2M seqs, 11.1% at phylum, 0.1% genus (P > 0.90)\r",
      "12:23 269Mb   31.0% 1.2M seqs, 11.1% at phylum, 0.1% genus (P > 0.90)\r",
      "12:24 269Mb   31.0% 1.2M seqs, 11.1% at phylum, 0.1% genus (P > 0.90)\r",
      "12:25 269Mb   31.1% 1.2M seqs, 11.1% at phylum, 0.1% genus (P > 0.90)\r",
      "12:26 269Mb   31.1% 1.2M seqs, 11.1% at phylum, 0.1% genus (P > 0.90)\r",
      "12:27 269Mb   31.2% 1.2M seqs, 11.1% at phylum, 0.1% genus (P > 0.90)\r",
      "12:28 269Mb   31.2% 1.3M seqs, 11.1% at phylum, 0.1% genus (P > 0.90)\r",
      "12:29 269Mb   31.3% 1.3M seqs, 11.1% at phylum, 0.1% genus (P > 0.90)\r",
      "12:30 269Mb   31.3% 1.3M seqs, 11.1% at phylum, 0.1% genus (P > 0.90)\r",
      "12:31 269Mb   31.3% 1.3M seqs, 11.1% at phylum, 0.1% genus (P > 0.90)\r",
      "12:32 269Mb   31.4% 1.3M seqs, 11.1% at phylum, 0.1% genus (P > 0.90)\r",
      "12:33 269Mb   31.4% 1.3M seqs, 11.1% at phylum, 0.1% genus (P > 0.90)\r",
      "12:34 269Mb   31.5% 1.3M seqs, 11.1% at phylum, 0.1% genus (P > 0.90)\r",
      "12:35 269Mb   31.5% 1.3M seqs, 11.1% at phylum, 0.1% genus (P > 0.90)\r",
      "12:36 269Mb   31.6% 1.3M seqs, 11.1% at phylum, 0.1% genus (P > 0.90)\r",
      "12:37 269Mb   31.6% 1.3M seqs, 11.0% at phylum, 0.1% genus (P > 0.90)\r",
      "12:38 269Mb   31.7% 1.3M seqs, 11.0% at phylum, 0.1% genus (P > 0.90)\r",
      "12:39 269Mb   31.7% 1.3M seqs, 11.0% at phylum, 0.1% genus (P > 0.90)\r",
      "12:40 269Mb   31.7% 1.3M seqs, 11.0% at phylum, 0.1% genus (P > 0.90)\r",
      "12:41 269Mb   31.8% 1.3M seqs, 11.0% at phylum, 0.1% genus (P > 0.90)\r",
      "12:42 269Mb   31.8% 1.3M seqs, 11.0% at phylum, 0.1% genus (P > 0.90)\r",
      "12:43 269Mb   31.9% 1.3M seqs, 11.0% at phylum, 0.1% genus (P > 0.90)\r",
      "12:44 269Mb   31.9% 1.3M seqs, 11.0% at phylum, 0.1% genus (P > 0.90)\r",
      "12:45 269Mb   31.9% 1.3M seqs, 11.0% at phylum, 0.1% genus (P > 0.90)\r",
      "12:46 269Mb   32.0% 1.3M seqs, 11.0% at phylum, 0.1% genus (P > 0.90)\r",
      "12:47 269Mb   32.0% 1.3M seqs, 11.0% at phylum, 0.1% genus (P > 0.90)\r",
      "12:48 269Mb   32.0% 1.3M seqs, 11.0% at phylum, 0.1% genus (P > 0.90)\r",
      "12:49 269Mb   32.1% 1.3M seqs, 11.0% at phylum, 0.1% genus (P > 0.90)\r",
      "12:50 269Mb   32.1% 1.3M seqs, 11.0% at phylum, 0.1% genus (P > 0.90)\r",
      "12:51 269Mb   32.1% 1.3M seqs, 11.0% at phylum, 0.1% genus (P > 0.90)\r",
      "12:52 269Mb   32.1% 1.3M seqs, 11.0% at phylum, 0.1% genus (P > 0.90)\r",
      "12:53 269Mb   32.2% 1.3M seqs, 11.0% at phylum, 0.1% genus (P > 0.90)\r",
      "12:54 269Mb   32.2% 1.3M seqs, 11.0% at phylum, 0.1% genus (P > 0.90)\r",
      "12:55 269Mb   32.2% 1.3M seqs, 11.0% at phylum, 0.1% genus (P > 0.90)\r",
      "12:56 269Mb   32.3% 1.3M seqs, 11.0% at phylum, 0.1% genus (P > 0.90)\r",
      "12:57 269Mb   32.3% 1.3M seqs, 10.9% at phylum, 0.1% genus (P > 0.90)\r",
      "12:58 269Mb   32.3% 1.3M seqs, 10.9% at phylum, 0.1% genus (P > 0.90)\r",
      "12:59 269Mb   32.4% 1.3M seqs, 10.9% at phylum, 0.1% genus (P > 0.90)\r",
      "13:00 269Mb   32.4% 1.3M seqs, 10.9% at phylum, 0.1% genus (P > 0.90)\r",
      "13:01 269Mb   32.5% 1.3M seqs, 10.9% at phylum, 0.1% genus (P > 0.90)\r",
      "13:02 269Mb   32.5% 1.3M seqs, 10.9% at phylum, 0.1% genus (P > 0.90)\r",
      "13:03 269Mb   32.6% 1.3M seqs, 10.9% at phylum, 0.1% genus (P > 0.90)\r",
      "13:04 269Mb   32.6% 1.3M seqs, 10.9% at phylum, 0.1% genus (P > 0.90)\r",
      "13:05 269Mb   32.6% 1.3M seqs, 10.9% at phylum, 0.1% genus (P > 0.90)\r",
      "13:06 269Mb   32.7% 1.3M seqs, 10.9% at phylum, 0.1% genus (P > 0.90)\r",
      "13:07 269Mb   32.7% 1.3M seqs, 10.9% at phylum, 0.1% genus (P > 0.90)\r",
      "13:08 269Mb   32.7% 1.3M seqs, 10.9% at phylum, 0.1% genus (P > 0.90)\r",
      "13:09 269Mb   32.8% 1.3M seqs, 10.9% at phylum, 0.1% genus (P > 0.90)\r",
      "13:10 269Mb   32.8% 1.3M seqs, 10.9% at phylum, 0.1% genus (P > 0.90)\r",
      "13:11 269Mb   32.8% 1.3M seqs, 10.9% at phylum, 0.1% genus (P > 0.90)\r",
      "13:12 269Mb   32.8% 1.3M seqs, 10.9% at phylum, 0.1% genus (P > 0.90)\r",
      "13:13 269Mb   32.9% 1.3M seqs, 10.9% at phylum, 0.1% genus (P > 0.90)\r",
      "13:14 269Mb   32.9% 1.3M seqs, 10.9% at phylum, 0.1% genus (P > 0.90)\r",
      "13:15 269Mb   32.9% 1.3M seqs, 10.9% at phylum, 0.1% genus (P > 0.90)\r",
      "13:16 269Mb   32.9% 1.3M seqs, 10.9% at phylum, 0.1% genus (P > 0.90)\r",
      "13:17 269Mb   33.0% 1.3M seqs, 10.9% at phylum, 0.1% genus (P > 0.90)\r",
      "13:18 269Mb   33.0% 1.3M seqs, 11.0% at phylum, 0.1% genus (P > 0.90)\r",
      "13:19 269Mb   33.1% 1.3M seqs, 11.0% at phylum, 0.1% genus (P > 0.90)\r",
      "13:20 269Mb   33.1% 1.3M seqs, 11.0% at phylum, 0.1% genus (P > 0.90)\r",
      "13:21 269Mb   33.2% 1.3M seqs, 11.0% at phylum, 0.1% genus (P > 0.90)\r",
      "13:22 269Mb   33.2% 1.3M seqs, 11.0% at phylum, 0.1% genus (P > 0.90)\r",
      "13:23 269Mb   33.2% 1.3M seqs, 11.0% at phylum, 0.1% genus (P > 0.90)\r",
      "13:24 269Mb   33.3% 1.3M seqs, 11.0% at phylum, 0.1% genus (P > 0.90)\r",
      "13:25 269Mb   33.3% 1.3M seqs, 11.0% at phylum, 0.1% genus (P > 0.90)\r",
      "13:26 269Mb   33.3% 1.3M seqs, 11.0% at phylum, 0.1% genus (P > 0.90)\r",
      "13:27 269Mb   33.4% 1.3M seqs, 11.0% at phylum, 0.1% genus (P > 0.90)\r",
      "13:28 269Mb   33.4% 1.3M seqs, 11.0% at phylum, 0.1% genus (P > 0.90)\r",
      "13:29 269Mb   33.5% 1.3M seqs, 11.0% at phylum, 0.1% genus (P > 0.90)\r",
      "13:30 269Mb   33.5% 1.3M seqs, 11.0% at phylum, 0.1% genus (P > 0.90)\r",
      "13:31 269Mb   33.5% 1.3M seqs, 11.0% at phylum, 0.1% genus (P > 0.90)\r",
      "13:32 269Mb   33.6% 1.3M seqs, 11.0% at phylum, 0.1% genus (P > 0.90)\r",
      "13:33 269Mb   33.6% 1.3M seqs, 11.0% at phylum, 0.1% genus (P > 0.90)\r",
      "13:34 269Mb   33.7% 1.3M seqs, 11.0% at phylum, 0.1% genus (P > 0.90)\r",
      "13:35 269Mb   33.7% 1.4M seqs, 11.0% at phylum, 0.1% genus (P > 0.90)\r",
      "13:36 269Mb   33.7% 1.4M seqs, 11.0% at phylum, 0.1% genus (P > 0.90)\r",
      "13:37 269Mb   33.8% 1.4M seqs, 11.0% at phylum, 0.1% genus (P > 0.90)\r",
      "13:38 269Mb   33.8% 1.4M seqs, 11.0% at phylum, 0.1% genus (P > 0.90)\r",
      "13:39 269Mb   33.8% 1.4M seqs, 11.0% at phylum, 0.1% genus (P > 0.90)\r",
      "13:40 269Mb   33.8% 1.4M seqs, 11.0% at phylum, 0.1% genus (P > 0.90)\r",
      "13:41 269Mb   33.9% 1.4M seqs, 11.0% at phylum, 0.1% genus (P > 0.90)\r",
      "13:42 269Mb   33.9% 1.4M seqs, 11.0% at phylum, 0.1% genus (P > 0.90)\r",
      "13:43 269Mb   33.9% 1.4M seqs, 11.0% at phylum, 0.1% genus (P > 0.90)\r",
      "13:44 269Mb   33.9% 1.4M seqs, 11.0% at phylum, 0.1% genus (P > 0.90)\r",
      "13:45 269Mb   34.0% 1.4M seqs, 11.0% at phylum, 0.1% genus (P > 0.90)\r",
      "13:46 269Mb   34.0% 1.4M seqs, 11.0% at phylum, 0.1% genus (P > 0.90)\r",
      "13:47 269Mb   34.1% 1.4M seqs, 11.0% at phylum, 0.1% genus (P > 0.90)\r",
      "13:48 269Mb   34.1% 1.4M seqs, 11.0% at phylum, 0.1% genus (P > 0.90)\r",
      "13:49 269Mb   34.2% 1.4M seqs, 11.0% at phylum, 0.1% genus (P > 0.90)\r",
      "13:50 269Mb   34.2% 1.4M seqs, 11.0% at phylum, 0.1% genus (P > 0.90)\r",
      "13:51 269Mb   34.3% 1.4M seqs, 11.0% at phylum, 0.1% genus (P > 0.90)\r",
      "13:52 269Mb   34.3% 1.4M seqs, 11.0% at phylum, 0.1% genus (P > 0.90)\r",
      "13:53 269Mb   34.3% 1.4M seqs, 11.0% at phylum, 0.1% genus (P > 0.90)\r",
      "13:54 269Mb   34.4% 1.4M seqs, 11.0% at phylum, 0.1% genus (P > 0.90)\r",
      "13:55 269Mb   34.4% 1.4M seqs, 11.0% at phylum, 0.1% genus (P > 0.90)\r",
      "13:56 269Mb   34.5% 1.4M seqs, 11.0% at phylum, 0.1% genus (P > 0.90)\r",
      "13:57 269Mb   34.5% 1.4M seqs, 11.0% at phylum, 0.1% genus (P > 0.90)\r",
      "13:58 269Mb   34.6% 1.4M seqs, 11.0% at phylum, 0.1% genus (P > 0.90)\r",
      "13:59 269Mb   34.6% 1.4M seqs, 11.0% at phylum, 0.1% genus (P > 0.90)\r",
      "14:00 269Mb   34.7% 1.4M seqs, 11.0% at phylum, 0.1% genus (P > 0.90)\r",
      "14:01 269Mb   34.7% 1.4M seqs, 11.0% at phylum, 0.1% genus (P > 0.90)\r",
      "14:02 269Mb   34.7% 1.4M seqs, 11.0% at phylum, 0.1% genus (P > 0.90)\r",
      "14:03 269Mb   34.8% 1.4M seqs, 10.9% at phylum, 0.1% genus (P > 0.90)\r",
      "14:04 269Mb   34.8% 1.4M seqs, 10.9% at phylum, 0.1% genus (P > 0.90)\r",
      "14:05 269Mb   34.9% 1.4M seqs, 10.9% at phylum, 0.1% genus (P > 0.90)\r",
      "14:06 269Mb   34.9% 1.4M seqs, 10.9% at phylum, 0.1% genus (P > 0.90)\r",
      "14:07 269Mb   35.0% 1.4M seqs, 10.9% at phylum, 0.1% genus (P > 0.90)\r",
      "14:08 269Mb   35.0% 1.4M seqs, 10.9% at phylum, 0.1% genus (P > 0.90)\r",
      "14:09 269Mb   35.0% 1.4M seqs, 10.9% at phylum, 0.1% genus (P > 0.90)\r",
      "14:10 269Mb   35.1% 1.4M seqs, 10.9% at phylum, 0.1% genus (P > 0.90)\r",
      "14:11 269Mb   35.1% 1.4M seqs, 10.9% at phylum, 0.1% genus (P > 0.90)\r",
      "14:12 269Mb   35.2% 1.4M seqs, 10.9% at phylum, 0.1% genus (P > 0.90)\r",
      "14:13 269Mb   35.2% 1.4M seqs, 10.9% at phylum, 0.1% genus (P > 0.90)\r",
      "14:14 269Mb   35.2% 1.4M seqs, 10.9% at phylum, 0.1% genus (P > 0.90)\r",
      "14:15 269Mb   35.2% 1.4M seqs, 10.9% at phylum, 0.1% genus (P > 0.90)\r",
      "14:16 269Mb   35.3% 1.4M seqs, 10.9% at phylum, 0.1% genus (P > 0.90)\r",
      "14:17 269Mb   35.3% 1.4M seqs, 10.9% at phylum, 0.1% genus (P > 0.90)\r",
      "14:18 269Mb   35.3% 1.4M seqs, 10.9% at phylum, 0.1% genus (P > 0.90)\r",
      "14:19 269Mb   35.3% 1.4M seqs, 10.9% at phylum, 0.1% genus (P > 0.90)\r",
      "14:20 269Mb   35.4% 1.4M seqs, 10.9% at phylum, 0.1% genus (P > 0.90)\r",
      "14:21 269Mb   35.4% 1.4M seqs, 10.9% at phylum, 0.1% genus (P > 0.90)\r",
      "14:22 269Mb   35.4% 1.4M seqs, 10.9% at phylum, 0.1% genus (P > 0.90)\r",
      "14:23 269Mb   35.5% 1.4M seqs, 10.9% at phylum, 0.1% genus (P > 0.90)\r",
      "14:24 269Mb   35.5% 1.4M seqs, 10.8% at phylum, 0.1% genus (P > 0.90)\r",
      "14:25 269Mb   35.6% 1.4M seqs, 10.8% at phylum, 0.1% genus (P > 0.90)\r",
      "14:26 269Mb   35.6% 1.4M seqs, 10.8% at phylum, 0.1% genus (P > 0.90)\r",
      "14:27 269Mb   35.6% 1.4M seqs, 10.8% at phylum, 0.1% genus (P > 0.90)\r",
      "14:28 269Mb   35.7% 1.4M seqs, 10.8% at phylum, 0.1% genus (P > 0.90)\r",
      "14:29 269Mb   35.7% 1.4M seqs, 10.8% at phylum, 0.1% genus (P > 0.90)\r",
      "14:30 269Mb   35.7% 1.4M seqs, 10.8% at phylum, 0.1% genus (P > 0.90)\r",
      "14:31 269Mb   35.8% 1.4M seqs, 10.8% at phylum, 0.1% genus (P > 0.90)\r",
      "14:32 269Mb   35.8% 1.4M seqs, 10.8% at phylum, 0.1% genus (P > 0.90)\r",
      "14:33 269Mb   35.8% 1.4M seqs, 10.8% at phylum, 0.1% genus (P > 0.90)\r",
      "14:34 269Mb   35.9% 1.4M seqs, 10.8% at phylum, 0.1% genus (P > 0.90)\r",
      "14:35 269Mb   35.9% 1.4M seqs, 10.8% at phylum, 0.1% genus (P > 0.90)\r",
      "14:36 269Mb   36.0% 1.4M seqs, 10.8% at phylum, 0.1% genus (P > 0.90)\r",
      "14:37 269Mb   36.0% 1.4M seqs, 10.8% at phylum, 0.1% genus (P > 0.90)\r",
      "14:38 269Mb   36.0% 1.4M seqs, 10.8% at phylum, 0.1% genus (P > 0.90)\r",
      "14:39 269Mb   36.1% 1.4M seqs, 10.8% at phylum, 0.1% genus (P > 0.90)\r",
      "14:40 269Mb   36.1% 1.4M seqs, 10.9% at phylum, 0.1% genus (P > 0.90)\r",
      "14:41 269Mb   36.1% 1.4M seqs, 10.9% at phylum, 0.1% genus (P > 0.90)\r",
      "14:42 269Mb   36.2% 1.4M seqs, 10.9% at phylum, 0.1% genus (P > 0.90)\r",
      "14:43 269Mb   36.2% 1.5M seqs, 10.9% at phylum, 0.1% genus (P > 0.90)\r",
      "14:44 269Mb   36.2% 1.5M seqs, 10.9% at phylum, 0.1% genus (P > 0.90)\r",
      "14:45 269Mb   36.2% 1.5M seqs, 10.9% at phylum, 0.1% genus (P > 0.90)\r",
      "14:46 269Mb   36.3% 1.5M seqs, 10.9% at phylum, 0.1% genus (P > 0.90)\r",
      "14:47 269Mb   36.3% 1.5M seqs, 10.9% at phylum, 0.1% genus (P > 0.90)\r",
      "14:48 269Mb   36.3% 1.5M seqs, 10.9% at phylum, 0.1% genus (P > 0.90)\r",
      "14:49 269Mb   36.4% 1.5M seqs, 10.9% at phylum, 0.1% genus (P > 0.90)\r",
      "14:50 269Mb   36.4% 1.5M seqs, 10.9% at phylum, 0.1% genus (P > 0.90)\r",
      "14:51 269Mb   36.4% 1.5M seqs, 10.9% at phylum, 0.1% genus (P > 0.90)\r",
      "14:52 269Mb   36.5% 1.5M seqs, 10.9% at phylum, 0.1% genus (P > 0.90)\r",
      "14:53 269Mb   36.5% 1.5M seqs, 10.9% at phylum, 0.1% genus (P > 0.90)\r",
      "14:54 269Mb   36.6% 1.5M seqs, 10.9% at phylum, 0.1% genus (P > 0.90)\r",
      "14:55 269Mb   36.6% 1.5M seqs, 10.9% at phylum, 0.1% genus (P > 0.90)\r",
      "14:56 269Mb   36.6% 1.5M seqs, 10.9% at phylum, 0.1% genus (P > 0.90)\r",
      "14:57 269Mb   36.7% 1.5M seqs, 10.9% at phylum, 0.1% genus (P > 0.90)\r",
      "14:58 269Mb   36.7% 1.5M seqs, 10.9% at phylum, 0.1% genus (P > 0.90)\r",
      "14:59 269Mb   36.8% 1.5M seqs, 10.9% at phylum, 0.1% genus (P > 0.90)\r",
      "15:00 269Mb   36.8% 1.5M seqs, 10.9% at phylum, 0.1% genus (P > 0.90)\r",
      "15:01 269Mb   36.9% 1.5M seqs, 10.9% at phylum, 0.1% genus (P > 0.90)\r",
      "15:02 269Mb   36.9% 1.5M seqs, 10.9% at phylum, 0.1% genus (P > 0.90)\r",
      "15:03 269Mb   37.0% 1.5M seqs, 10.9% at phylum, 0.1% genus (P > 0.90)\r",
      "15:04 269Mb   37.0% 1.5M seqs, 10.9% at phylum, 0.1% genus (P > 0.90)\r",
      "15:05 269Mb   37.0% 1.5M seqs, 10.9% at phylum, 0.1% genus (P > 0.90)\r",
      "15:06 269Mb   37.1% 1.5M seqs, 10.9% at phylum, 0.1% genus (P > 0.90)\r",
      "15:07 269Mb   37.1% 1.5M seqs, 10.9% at phylum, 0.1% genus (P > 0.90)\r",
      "15:08 269Mb   37.2% 1.5M seqs, 10.9% at phylum, 0.1% genus (P > 0.90)\r",
      "15:09 269Mb   37.2% 1.5M seqs, 10.9% at phylum, 0.1% genus (P > 0.90)\r",
      "15:10 269Mb   37.2% 1.5M seqs, 10.9% at phylum, 0.1% genus (P > 0.90)\r",
      "15:11 269Mb   37.2% 1.5M seqs, 10.9% at phylum, 0.1% genus (P > 0.90)\r",
      "15:12 269Mb   37.2% 1.5M seqs, 10.9% at phylum, 0.1% genus (P > 0.90)\r",
      "15:13 269Mb   37.3% 1.5M seqs, 10.9% at phylum, 0.1% genus (P > 0.90)\r",
      "15:14 269Mb   37.3% 1.5M seqs, 10.9% at phylum, 0.1% genus (P > 0.90)\r",
      "15:15 269Mb   37.3% 1.5M seqs, 10.9% at phylum, 0.1% genus (P > 0.90)\r",
      "15:16 269Mb   37.3% 1.5M seqs, 10.9% at phylum, 0.1% genus (P > 0.90)\r",
      "15:17 269Mb   37.4% 1.5M seqs, 10.9% at phylum, 0.1% genus (P > 0.90)\r",
      "15:18 269Mb   37.4% 1.5M seqs, 10.9% at phylum, 0.1% genus (P > 0.90)\r",
      "15:19 269Mb   37.5% 1.5M seqs, 10.9% at phylum, 0.1% genus (P > 0.90)\r",
      "15:20 269Mb   37.5% 1.5M seqs, 10.9% at phylum, 0.1% genus (P > 0.90)\r",
      "15:21 269Mb   37.5% 1.5M seqs, 10.9% at phylum, 0.1% genus (P > 0.90)\r",
      "15:22 269Mb   37.6% 1.5M seqs, 10.9% at phylum, 0.1% genus (P > 0.90)\r",
      "15:23 269Mb   37.6% 1.5M seqs, 10.9% at phylum, 0.1% genus (P > 0.90)\r",
      "15:24 269Mb   37.7% 1.5M seqs, 10.9% at phylum, 0.1% genus (P > 0.90)\r",
      "15:25 269Mb   37.7% 1.5M seqs, 10.9% at phylum, 0.1% genus (P > 0.90)\r",
      "15:26 269Mb   37.7% 1.5M seqs, 10.9% at phylum, 0.1% genus (P > 0.90)\r",
      "15:27 269Mb   37.8% 1.5M seqs, 10.9% at phylum, 0.1% genus (P > 0.90)\r",
      "15:28 269Mb   37.8% 1.5M seqs, 10.9% at phylum, 0.1% genus (P > 0.90)\r",
      "15:29 269Mb   37.9% 1.5M seqs, 10.9% at phylum, 0.1% genus (P > 0.90)\r",
      "15:30 269Mb   37.9% 1.5M seqs, 10.9% at phylum, 0.1% genus (P > 0.90)\r",
      "15:31 269Mb   37.9% 1.5M seqs, 10.8% at phylum, 0.1% genus (P > 0.90)\r",
      "15:32 269Mb   38.0% 1.5M seqs, 10.8% at phylum, 0.1% genus (P > 0.90)\r",
      "15:33 269Mb   38.0% 1.5M seqs, 10.8% at phylum, 0.1% genus (P > 0.90)\r",
      "15:34 269Mb   38.0% 1.5M seqs, 10.8% at phylum, 0.1% genus (P > 0.90)\r",
      "15:35 269Mb   38.1% 1.5M seqs, 10.8% at phylum, 0.1% genus (P > 0.90)\r",
      "15:36 269Mb   38.1% 1.5M seqs, 10.8% at phylum, 0.1% genus (P > 0.90)\r",
      "15:37 269Mb   38.2% 1.5M seqs, 10.8% at phylum, 0.1% genus (P > 0.90)\r",
      "15:38 269Mb   38.2% 1.5M seqs, 10.8% at phylum, 0.1% genus (P > 0.90)\r",
      "15:39 269Mb   38.3% 1.5M seqs, 10.8% at phylum, 0.1% genus (P > 0.90)\r",
      "15:40 269Mb   38.3% 1.5M seqs, 10.8% at phylum, 0.1% genus (P > 0.90)\r",
      "15:41 269Mb   38.3% 1.5M seqs, 10.8% at phylum, 0.1% genus (P > 0.90)\r",
      "15:42 269Mb   38.4% 1.5M seqs, 10.8% at phylum, 0.1% genus (P > 0.90)\r",
      "15:43 269Mb   38.4% 1.5M seqs, 10.8% at phylum, 0.1% genus (P > 0.90)\r",
      "15:44 269Mb   38.4% 1.5M seqs, 10.8% at phylum, 0.1% genus (P > 0.90)\r",
      "15:45 269Mb   38.5% 1.5M seqs, 10.8% at phylum, 0.1% genus (P > 0.90)\r",
      "15:46 269Mb   38.5% 1.5M seqs, 10.8% at phylum, 0.1% genus (P > 0.90)\r",
      "15:47 269Mb   38.5% 1.5M seqs, 10.8% at phylum, 0.1% genus (P > 0.90)\r",
      "15:48 269Mb   38.5% 1.5M seqs, 10.8% at phylum, 0.1% genus (P > 0.90)\r",
      "15:49 269Mb   38.6% 1.5M seqs, 10.8% at phylum, 0.1% genus (P > 0.90)\r",
      "15:50 269Mb   38.6% 1.5M seqs, 10.8% at phylum, 0.1% genus (P > 0.90)\r",
      "15:51 269Mb   38.6% 1.5M seqs, 10.8% at phylum, 0.1% genus (P > 0.90)\r",
      "15:52 269Mb   38.6% 1.5M seqs, 10.8% at phylum, 0.1% genus (P > 0.90)\r",
      "15:53 269Mb   38.7% 1.6M seqs, 10.8% at phylum, 0.1% genus (P > 0.90)\r",
      "15:54 269Mb   38.7% 1.6M seqs, 10.8% at phylum, 0.1% genus (P > 0.90)\r",
      "15:55 269Mb   38.8% 1.6M seqs, 10.8% at phylum, 0.1% genus (P > 0.90)\r",
      "15:56 269Mb   38.8% 1.6M seqs, 10.8% at phylum, 0.1% genus (P > 0.90)\r",
      "15:57 269Mb   38.9% 1.6M seqs, 10.8% at phylum, 0.1% genus (P > 0.90)\r",
      "15:58 269Mb   38.9% 1.6M seqs, 10.8% at phylum, 0.1% genus (P > 0.90)\r",
      "15:59 269Mb   38.9% 1.6M seqs, 10.8% at phylum, 0.1% genus (P > 0.90)\r",
      "16:00 269Mb   39.0% 1.6M seqs, 10.8% at phylum, 0.1% genus (P > 0.90)\r",
      "16:01 269Mb   39.0% 1.6M seqs, 10.8% at phylum, 0.1% genus (P > 0.90)\r",
      "16:02 269Mb   39.1% 1.6M seqs, 10.8% at phylum, 0.1% genus (P > 0.90)\r",
      "16:03 269Mb   39.1% 1.6M seqs, 10.8% at phylum, 0.1% genus (P > 0.90)\r",
      "16:04 269Mb   39.2% 1.6M seqs, 10.8% at phylum, 0.1% genus (P > 0.90)\r",
      "16:05 269Mb   39.2% 1.6M seqs, 10.8% at phylum, 0.1% genus (P > 0.90)\r",
      "16:06 269Mb   39.2% 1.6M seqs, 10.8% at phylum, 0.1% genus (P > 0.90)\r",
      "16:07 269Mb   39.3% 1.6M seqs, 10.8% at phylum, 0.1% genus (P > 0.90)\r",
      "16:08 269Mb   39.3% 1.6M seqs, 10.9% at phylum, 0.1% genus (P > 0.90)\r",
      "16:09 269Mb   39.4% 1.6M seqs, 10.9% at phylum, 0.1% genus (P > 0.90)\r",
      "16:10 269Mb   39.4% 1.6M seqs, 10.9% at phylum, 0.1% genus (P > 0.90)\r",
      "16:11 269Mb   39.4% 1.6M seqs, 10.9% at phylum, 0.1% genus (P > 0.90)\r",
      "16:12 269Mb   39.5% 1.6M seqs, 10.9% at phylum, 0.1% genus (P > 0.90)\r",
      "16:13 269Mb   39.5% 1.6M seqs, 10.9% at phylum, 0.1% genus (P > 0.90)\r",
      "16:14 269Mb   39.5% 1.6M seqs, 10.9% at phylum, 0.1% genus (P > 0.90)\r",
      "16:15 269Mb   39.6% 1.6M seqs, 10.9% at phylum, 0.1% genus (P > 0.90)\r",
      "16:16 269Mb   39.6% 1.6M seqs, 10.9% at phylum, 0.1% genus (P > 0.90)\r",
      "16:17 269Mb   39.7% 1.6M seqs, 10.9% at phylum, 0.1% genus (P > 0.90)\r",
      "16:18 269Mb   39.7% 1.6M seqs, 10.9% at phylum, 0.1% genus (P > 0.90)\r",
      "16:19 269Mb   39.7% 1.6M seqs, 10.9% at phylum, 0.1% genus (P > 0.90)\r",
      "16:20 269Mb   39.8% 1.6M seqs, 10.9% at phylum, 0.1% genus (P > 0.90)\r",
      "16:21 269Mb   39.8% 1.6M seqs, 10.8% at phylum, 0.1% genus (P > 0.90)\r",
      "16:22 269Mb   39.9% 1.6M seqs, 10.8% at phylum, 0.1% genus (P > 0.90)\r",
      "16:23 269Mb   39.9% 1.6M seqs, 10.8% at phylum, 0.1% genus (P > 0.90)\r",
      "16:24 269Mb   40.0% 1.6M seqs, 10.8% at phylum, 0.1% genus (P > 0.90)\r",
      "16:25 269Mb   40.0% 1.6M seqs, 10.8% at phylum, 0.1% genus (P > 0.90)\r",
      "16:26 269Mb   40.0% 1.6M seqs, 10.8% at phylum, 0.1% genus (P > 0.90)\r",
      "16:27 269Mb   40.1% 1.6M seqs, 10.8% at phylum, 0.1% genus (P > 0.90)\r",
      "16:28 269Mb   40.1% 1.6M seqs, 10.8% at phylum, 0.1% genus (P > 0.90)\r",
      "16:29 269Mb   40.1% 1.6M seqs, 10.8% at phylum, 0.1% genus (P > 0.90)\r",
      "16:30 269Mb   40.1% 1.6M seqs, 10.8% at phylum, 0.1% genus (P > 0.90)\r",
      "16:31 269Mb   40.2% 1.6M seqs, 10.8% at phylum, 0.1% genus (P > 0.90)\r",
      "16:32 269Mb   40.2% 1.6M seqs, 10.8% at phylum, 0.1% genus (P > 0.90)\r",
      "16:33 269Mb   40.2% 1.6M seqs, 10.8% at phylum, 0.1% genus (P > 0.90)\r",
      "16:34 269Mb   40.2% 1.6M seqs, 10.8% at phylum, 0.1% genus (P > 0.90)\r",
      "16:35 269Mb   40.3% 1.6M seqs, 10.8% at phylum, 0.1% genus (P > 0.90)\r",
      "16:36 269Mb   40.3% 1.6M seqs, 10.8% at phylum, 0.1% genus (P > 0.90)\r",
      "16:37 269Mb   40.3% 1.6M seqs, 10.8% at phylum, 0.1% genus (P > 0.90)\r",
      "16:38 269Mb   40.4% 1.6M seqs, 10.8% at phylum, 0.1% genus (P > 0.90)\r",
      "16:39 269Mb   40.4% 1.6M seqs, 10.8% at phylum, 0.1% genus (P > 0.90)\r",
      "16:40 269Mb   40.4% 1.6M seqs, 10.8% at phylum, 0.1% genus (P > 0.90)\r",
      "16:41 269Mb   40.5% 1.6M seqs, 10.8% at phylum, 0.1% genus (P > 0.90)\r",
      "16:42 269Mb   40.5% 1.6M seqs, 10.8% at phylum, 0.1% genus (P > 0.90)\r",
      "16:43 269Mb   40.6% 1.6M seqs, 10.8% at phylum, 0.1% genus (P > 0.90)\r",
      "16:44 269Mb   40.6% 1.6M seqs, 10.8% at phylum, 0.1% genus (P > 0.90)\r",
      "16:45 269Mb   40.7% 1.6M seqs, 10.8% at phylum, 0.1% genus (P > 0.90)\r",
      "16:46 269Mb   40.7% 1.6M seqs, 10.8% at phylum, 0.1% genus (P > 0.90)\r",
      "16:47 269Mb   40.7% 1.6M seqs, 10.8% at phylum, 0.1% genus (P > 0.90)\r",
      "16:48 269Mb   40.8% 1.6M seqs, 10.8% at phylum, 0.1% genus (P > 0.90)\r",
      "16:49 269Mb   40.8% 1.6M seqs, 10.8% at phylum, 0.1% genus (P > 0.90)\r",
      "16:50 269Mb   40.9% 1.6M seqs, 10.8% at phylum, 0.1% genus (P > 0.90)\r",
      "16:51 269Mb   40.9% 1.6M seqs, 10.8% at phylum, 0.1% genus (P > 0.90)\r",
      "16:52 269Mb   40.9% 1.6M seqs, 10.8% at phylum, 0.1% genus (P > 0.90)\r",
      "16:53 269Mb   41.0% 1.6M seqs, 10.8% at phylum, 0.1% genus (P > 0.90)\r",
      "16:54 269Mb   41.0% 1.6M seqs, 10.8% at phylum, 0.1% genus (P > 0.90)\r",
      "16:55 269Mb   41.1% 1.6M seqs, 10.8% at phylum, 0.1% genus (P > 0.90)\r",
      "16:56 269Mb   41.1% 1.6M seqs, 10.7% at phylum, 0.1% genus (P > 0.90)\r",
      "16:57 269Mb   41.2% 1.7M seqs, 10.7% at phylum, 0.1% genus (P > 0.90)\r",
      "16:58 269Mb   41.2% 1.7M seqs, 10.7% at phylum, 0.1% genus (P > 0.90)\r",
      "16:59 269Mb   41.3% 1.7M seqs, 10.7% at phylum, 0.1% genus (P > 0.90)\r",
      "17:00 269Mb   41.3% 1.7M seqs, 10.7% at phylum, 0.1% genus (P > 0.90)\r",
      "17:01 269Mb   41.3% 1.7M seqs, 10.7% at phylum, 0.1% genus (P > 0.90)\r",
      "17:02 269Mb   41.4% 1.7M seqs, 10.7% at phylum, 0.1% genus (P > 0.90)\r",
      "17:03 269Mb   41.4% 1.7M seqs, 10.7% at phylum, 0.1% genus (P > 0.90)\r",
      "17:04 269Mb   41.5% 1.7M seqs, 10.7% at phylum, 0.1% genus (P > 0.90)\r",
      "17:05 269Mb   41.5% 1.7M seqs, 10.7% at phylum, 0.1% genus (P > 0.90)\r",
      "17:06 269Mb   41.5% 1.7M seqs, 10.7% at phylum, 0.1% genus (P > 0.90)\r",
      "17:07 269Mb   41.5% 1.7M seqs, 10.7% at phylum, 0.1% genus (P > 0.90)\r",
      "17:08 269Mb   41.6% 1.7M seqs, 10.7% at phylum, 0.1% genus (P > 0.90)\r",
      "17:09 269Mb   41.6% 1.7M seqs, 10.7% at phylum, 0.1% genus (P > 0.90)\r",
      "17:10 269Mb   41.6% 1.7M seqs, 10.7% at phylum, 0.1% genus (P > 0.90)\r",
      "17:11 269Mb   41.6% 1.7M seqs, 10.7% at phylum, 0.1% genus (P > 0.90)\r",
      "17:12 269Mb   41.7% 1.7M seqs, 10.7% at phylum, 0.1% genus (P > 0.90)\r",
      "17:13 269Mb   41.7% 1.7M seqs, 10.7% at phylum, 0.1% genus (P > 0.90)\r",
      "17:14 269Mb   41.8% 1.7M seqs, 10.7% at phylum, 0.1% genus (P > 0.90)\r",
      "17:15 269Mb   41.8% 1.7M seqs, 10.7% at phylum, 0.1% genus (P > 0.90)\r",
      "17:16 269Mb   41.9% 1.7M seqs, 10.7% at phylum, 0.1% genus (P > 0.90)\r",
      "17:17 269Mb   41.9% 1.7M seqs, 10.7% at phylum, 0.1% genus (P > 0.90)\r",
      "17:18 269Mb   42.0% 1.7M seqs, 10.7% at phylum, 0.1% genus (P > 0.90)\r",
      "17:19 269Mb   42.0% 1.7M seqs, 10.7% at phylum, 0.1% genus (P > 0.90)\r",
      "17:20 269Mb   42.0% 1.7M seqs, 10.7% at phylum, 0.1% genus (P > 0.90)\r",
      "17:21 269Mb   42.1% 1.7M seqs, 10.7% at phylum, 0.1% genus (P > 0.90)\r",
      "17:22 269Mb   42.1% 1.7M seqs, 10.7% at phylum, 0.1% genus (P > 0.90)\r",
      "17:23 269Mb   42.2% 1.7M seqs, 10.7% at phylum, 0.1% genus (P > 0.90)\r",
      "17:24 269Mb   42.2% 1.7M seqs, 10.7% at phylum, 0.1% genus (P > 0.90)\r",
      "17:25 269Mb   42.3% 1.7M seqs, 10.7% at phylum, 0.1% genus (P > 0.90)\r",
      "17:26 269Mb   42.3% 1.7M seqs, 10.7% at phylum, 0.1% genus (P > 0.90)\r",
      "17:27 269Mb   42.4% 1.7M seqs, 10.8% at phylum, 0.1% genus (P > 0.90)\r",
      "17:28 269Mb   42.4% 1.7M seqs, 10.8% at phylum, 0.1% genus (P > 0.90)\r",
      "17:29 269Mb   42.5% 1.7M seqs, 10.8% at phylum, 0.1% genus (P > 0.90)\r",
      "17:30 269Mb   42.5% 1.7M seqs, 10.8% at phylum, 0.1% genus (P > 0.90)\r",
      "17:31 269Mb   42.6% 1.7M seqs, 10.8% at phylum, 0.1% genus (P > 0.90)\r",
      "17:32 269Mb   42.6% 1.7M seqs, 10.8% at phylum, 0.1% genus (P > 0.90)\r",
      "17:33 269Mb   42.6% 1.7M seqs, 10.8% at phylum, 0.1% genus (P > 0.90)\r",
      "17:34 269Mb   42.6% 1.7M seqs, 10.8% at phylum, 0.1% genus (P > 0.90)\r",
      "17:35 269Mb   42.7% 1.7M seqs, 10.8% at phylum, 0.1% genus (P > 0.90)\r",
      "17:36 269Mb   42.7% 1.7M seqs, 10.8% at phylum, 0.1% genus (P > 0.90)\r",
      "17:37 269Mb   42.7% 1.7M seqs, 10.8% at phylum, 0.1% genus (P > 0.90)\r",
      "17:38 269Mb   42.7% 1.7M seqs, 10.8% at phylum, 0.1% genus (P > 0.90)\r",
      "17:39 269Mb   42.8% 1.7M seqs, 10.8% at phylum, 0.1% genus (P > 0.90)\r",
      "17:40 269Mb   42.8% 1.7M seqs, 10.8% at phylum, 0.1% genus (P > 0.90)\r",
      "17:41 269Mb   42.9% 1.7M seqs, 10.8% at phylum, 0.1% genus (P > 0.90)\r",
      "17:42 269Mb   42.9% 1.7M seqs, 10.7% at phylum, 0.1% genus (P > 0.90)\r",
      "17:43 269Mb   43.0% 1.7M seqs, 10.7% at phylum, 0.1% genus (P > 0.90)\r",
      "17:44 269Mb   43.0% 1.7M seqs, 10.7% at phylum, 0.1% genus (P > 0.90)\r",
      "17:45 269Mb   43.1% 1.7M seqs, 10.7% at phylum, 0.1% genus (P > 0.90)\r",
      "17:46 269Mb   43.1% 1.7M seqs, 10.7% at phylum, 0.1% genus (P > 0.90)\r",
      "17:47 269Mb   43.2% 1.7M seqs, 10.7% at phylum, 0.1% genus (P > 0.90)\r",
      "17:48 269Mb   43.2% 1.7M seqs, 10.7% at phylum, 0.1% genus (P > 0.90)\r",
      "17:49 269Mb   43.2% 1.7M seqs, 10.7% at phylum, 0.1% genus (P > 0.90)\r",
      "17:50 269Mb   43.3% 1.7M seqs, 10.7% at phylum, 0.1% genus (P > 0.90)\r",
      "17:51 269Mb   43.3% 1.7M seqs, 10.7% at phylum, 0.1% genus (P > 0.90)\r",
      "17:52 269Mb   43.4% 1.7M seqs, 10.7% at phylum, 0.1% genus (P > 0.90)\r",
      "17:53 269Mb   43.4% 1.7M seqs, 10.7% at phylum, 0.1% genus (P > 0.90)\r",
      "17:54 269Mb   43.5% 1.7M seqs, 10.7% at phylum, 0.1% genus (P > 0.90)\r",
      "17:55 269Mb   43.5% 1.7M seqs, 10.7% at phylum, 0.1% genus (P > 0.90)\r",
      "17:56 269Mb   43.6% 1.7M seqs, 10.7% at phylum, 0.1% genus (P > 0.90)\r",
      "17:57 269Mb   43.6% 1.7M seqs, 10.7% at phylum, 0.1% genus (P > 0.90)\r",
      "17:58 269Mb   43.6% 1.8M seqs, 10.7% at phylum, 0.1% genus (P > 0.90)\r",
      "17:59 269Mb   43.7% 1.8M seqs, 10.7% at phylum, 0.1% genus (P > 0.90)\r",
      "18:00 269Mb   43.7% 1.8M seqs, 10.7% at phylum, 0.1% genus (P > 0.90)\r",
      "18:01 269Mb   43.7% 1.8M seqs, 10.7% at phylum, 0.1% genus (P > 0.90)\r",
      "18:02 269Mb   43.7% 1.8M seqs, 10.7% at phylum, 0.1% genus (P > 0.90)\r",
      "18:03 269Mb   43.8% 1.8M seqs, 10.7% at phylum, 0.1% genus (P > 0.90)\r",
      "18:04 269Mb   43.8% 1.8M seqs, 10.7% at phylum, 0.1% genus (P > 0.90)\r",
      "18:05 269Mb   43.8% 1.8M seqs, 10.7% at phylum, 0.1% genus (P > 0.90)\r",
      "18:06 269Mb   43.8% 1.8M seqs, 10.7% at phylum, 0.1% genus (P > 0.90)\r",
      "18:07 269Mb   43.9% 1.8M seqs, 10.7% at phylum, 0.1% genus (P > 0.90)\r",
      "18:08 269Mb   43.9% 1.8M seqs, 10.7% at phylum, 0.1% genus (P > 0.90)\r",
      "18:09 269Mb   44.0% 1.8M seqs, 10.7% at phylum, 0.1% genus (P > 0.90)\r",
      "18:10 269Mb   44.0% 1.8M seqs, 10.7% at phylum, 0.1% genus (P > 0.90)\r",
      "18:11 269Mb   44.0% 1.8M seqs, 10.7% at phylum, 0.1% genus (P > 0.90)\r",
      "18:12 269Mb   44.1% 1.8M seqs, 10.7% at phylum, 0.1% genus (P > 0.90)\r",
      "18:13 269Mb   44.1% 1.8M seqs, 10.7% at phylum, 0.1% genus (P > 0.90)\r",
      "18:14 269Mb   44.2% 1.8M seqs, 10.7% at phylum, 0.1% genus (P > 0.90)\r",
      "18:15 269Mb   44.2% 1.8M seqs, 10.7% at phylum, 0.1% genus (P > 0.90)\r",
      "18:16 269Mb   44.2% 1.8M seqs, 10.7% at phylum, 0.1% genus (P > 0.90)\r",
      "18:17 269Mb   44.3% 1.8M seqs, 10.7% at phylum, 0.1% genus (P > 0.90)\r",
      "18:18 269Mb   44.3% 1.8M seqs, 10.7% at phylum, 0.1% genus (P > 0.90)\r",
      "18:19 269Mb   44.3% 1.8M seqs, 10.7% at phylum, 0.1% genus (P > 0.90)\r",
      "18:20 269Mb   44.4% 1.8M seqs, 10.7% at phylum, 0.1% genus (P > 0.90)\r",
      "18:21 269Mb   44.4% 1.8M seqs, 10.7% at phylum, 0.1% genus (P > 0.90)\r",
      "18:22 269Mb   44.5% 1.8M seqs, 10.7% at phylum, 0.1% genus (P > 0.90)\r",
      "18:23 269Mb   44.5% 1.8M seqs, 10.7% at phylum, 0.1% genus (P > 0.90)\r",
      "18:24 269Mb   44.6% 1.8M seqs, 10.6% at phylum, 0.1% genus (P > 0.90)\r",
      "18:25 269Mb   44.6% 1.8M seqs, 10.6% at phylum, 0.1% genus (P > 0.90)\r",
      "18:26 269Mb   44.6% 1.8M seqs, 10.6% at phylum, 0.1% genus (P > 0.90)\r",
      "18:27 269Mb   44.7% 1.8M seqs, 10.6% at phylum, 0.1% genus (P > 0.90)\r",
      "18:28 269Mb   44.7% 1.8M seqs, 10.6% at phylum, 0.1% genus (P > 0.90)\r",
      "18:29 269Mb   44.8% 1.8M seqs, 10.6% at phylum, 0.1% genus (P > 0.90)\r",
      "18:30 269Mb   44.8% 1.8M seqs, 10.6% at phylum, 0.1% genus (P > 0.90)\r",
      "18:31 269Mb   44.8% 1.8M seqs, 10.6% at phylum, 0.1% genus (P > 0.90)\r",
      "18:32 269Mb   44.9% 1.8M seqs, 10.6% at phylum, 0.1% genus (P > 0.90)\r",
      "18:33 269Mb   44.9% 1.8M seqs, 10.6% at phylum, 0.1% genus (P > 0.90)\r",
      "18:34 269Mb   45.0% 1.8M seqs, 10.6% at phylum, 0.1% genus (P > 0.90)\r",
      "18:35 269Mb   45.0% 1.8M seqs, 10.6% at phylum, 0.1% genus (P > 0.90)\r",
      "18:36 269Mb   45.0% 1.8M seqs, 10.6% at phylum, 0.1% genus (P > 0.90)\r",
      "18:37 269Mb   45.0% 1.8M seqs, 10.6% at phylum, 0.1% genus (P > 0.90)\r",
      "18:38 269Mb   45.1% 1.8M seqs, 10.6% at phylum, 0.1% genus (P > 0.90)\r",
      "18:39 269Mb   45.1% 1.8M seqs, 10.6% at phylum, 0.1% genus (P > 0.90)\r",
      "18:40 269Mb   45.1% 1.8M seqs, 10.6% at phylum, 0.1% genus (P > 0.90)\r",
      "18:41 269Mb   45.1% 1.8M seqs, 10.6% at phylum, 0.1% genus (P > 0.90)\r",
      "18:42 269Mb   45.1% 1.8M seqs, 10.6% at phylum, 0.1% genus (P > 0.90)\r",
      "18:43 269Mb   45.2% 1.8M seqs, 10.6% at phylum, 0.1% genus (P > 0.90)\r",
      "18:44 269Mb   45.2% 1.8M seqs, 10.6% at phylum, 0.1% genus (P > 0.90)\r",
      "18:45 269Mb   45.2% 1.8M seqs, 10.6% at phylum, 0.1% genus (P > 0.90)\r",
      "18:46 269Mb   45.3% 1.8M seqs, 10.6% at phylum, 0.1% genus (P > 0.90)\r",
      "18:47 269Mb   45.3% 1.8M seqs, 10.6% at phylum, 0.1% genus (P > 0.90)\r",
      "18:48 269Mb   45.4% 1.8M seqs, 10.6% at phylum, 0.1% genus (P > 0.90)\r",
      "18:49 269Mb   45.4% 1.8M seqs, 10.6% at phylum, 0.1% genus (P > 0.90)\r",
      "18:50 269Mb   45.5% 1.8M seqs, 10.7% at phylum, 0.1% genus (P > 0.90)\r",
      "18:51 269Mb   45.5% 1.8M seqs, 10.7% at phylum, 0.1% genus (P > 0.90)\r",
      "18:52 269Mb   45.5% 1.8M seqs, 10.7% at phylum, 0.1% genus (P > 0.90)\r",
      "18:53 269Mb   45.6% 1.8M seqs, 10.7% at phylum, 0.1% genus (P > 0.90)\r",
      "18:54 269Mb   45.6% 1.8M seqs, 10.7% at phylum, 0.1% genus (P > 0.90)\r",
      "18:55 269Mb   45.7% 1.8M seqs, 10.7% at phylum, 0.1% genus (P > 0.90)\r",
      "18:56 269Mb   45.7% 1.8M seqs, 10.7% at phylum, 0.1% genus (P > 0.90)\r",
      "18:57 269Mb   45.7% 1.8M seqs, 10.7% at phylum, 0.1% genus (P > 0.90)\r",
      "18:58 269Mb   45.7% 1.8M seqs, 10.7% at phylum, 0.1% genus (P > 0.90)\r",
      "18:59 269Mb   45.8% 1.8M seqs, 10.7% at phylum, 0.1% genus (P > 0.90)\r",
      "19:00 269Mb   45.8% 1.8M seqs, 10.7% at phylum, 0.1% genus (P > 0.90)\r",
      "19:01 269Mb   45.8% 1.8M seqs, 10.7% at phylum, 0.1% genus (P > 0.90)\r",
      "19:02 269Mb   45.8% 1.8M seqs, 10.7% at phylum, 0.1% genus (P > 0.90)\r",
      "19:03 269Mb   45.9% 1.8M seqs, 10.7% at phylum, 0.1% genus (P > 0.90)\r",
      "19:04 269Mb   45.9% 1.8M seqs, 10.7% at phylum, 0.1% genus (P > 0.90)\r",
      "19:05 269Mb   45.9% 1.8M seqs, 10.7% at phylum, 0.1% genus (P > 0.90)\r",
      "19:06 269Mb   46.0% 1.8M seqs, 10.7% at phylum, 0.1% genus (P > 0.90)\r",
      "19:07 269Mb   46.0% 1.8M seqs, 10.7% at phylum, 0.1% genus (P > 0.90)\r",
      "19:08 269Mb   46.1% 1.8M seqs, 10.7% at phylum, 0.1% genus (P > 0.90)\r",
      "19:09 269Mb   46.1% 1.8M seqs, 10.7% at phylum, 0.1% genus (P > 0.90)\r",
      "19:10 269Mb   46.1% 1.9M seqs, 10.7% at phylum, 0.1% genus (P > 0.90)\r",
      "19:11 269Mb   46.2% 1.9M seqs, 10.7% at phylum, 0.1% genus (P > 0.90)\r",
      "19:12 269Mb   46.2% 1.9M seqs, 10.7% at phylum, 0.1% genus (P > 0.90)\r",
      "19:13 269Mb   46.3% 1.9M seqs, 10.7% at phylum, 0.1% genus (P > 0.90)\r",
      "19:14 269Mb   46.3% 1.9M seqs, 10.7% at phylum, 0.1% genus (P > 0.90)\r",
      "19:15 269Mb   46.4% 1.9M seqs, 10.7% at phylum, 0.1% genus (P > 0.90)\r",
      "19:16 269Mb   46.4% 1.9M seqs, 10.7% at phylum, 0.1% genus (P > 0.90)\r",
      "19:17 269Mb   46.4% 1.9M seqs, 10.7% at phylum, 0.1% genus (P > 0.90)\r",
      "19:18 269Mb   46.5% 1.9M seqs, 10.7% at phylum, 0.1% genus (P > 0.90)\r",
      "19:19 269Mb   46.5% 1.9M seqs, 10.7% at phylum, 0.1% genus (P > 0.90)\r",
      "19:20 269Mb   46.6% 1.9M seqs, 10.7% at phylum, 0.1% genus (P > 0.90)\r",
      "19:21 269Mb   46.6% 1.9M seqs, 10.7% at phylum, 0.1% genus (P > 0.90)\r",
      "19:22 269Mb   46.7% 1.9M seqs, 10.6% at phylum, 0.1% genus (P > 0.90)\r",
      "19:23 269Mb   46.7% 1.9M seqs, 10.6% at phylum, 0.1% genus (P > 0.90)\r",
      "19:24 269Mb   46.7% 1.9M seqs, 10.6% at phylum, 0.1% genus (P > 0.90)\r",
      "19:25 269Mb   46.7% 1.9M seqs, 10.6% at phylum, 0.1% genus (P > 0.90)\r",
      "19:26 269Mb   46.8% 1.9M seqs, 10.6% at phylum, 0.1% genus (P > 0.90)\r",
      "19:27 269Mb   46.8% 1.9M seqs, 10.6% at phylum, 0.1% genus (P > 0.90)\r",
      "19:28 269Mb   46.8% 1.9M seqs, 10.6% at phylum, 0.1% genus (P > 0.90)\r",
      "19:29 269Mb   46.8% 1.9M seqs, 10.6% at phylum, 0.1% genus (P > 0.90)\r",
      "19:30 269Mb   46.9% 1.9M seqs, 10.6% at phylum, 0.1% genus (P > 0.90)\r",
      "19:31 269Mb   46.9% 1.9M seqs, 10.6% at phylum, 0.1% genus (P > 0.90)\r",
      "19:32 269Mb   46.9% 1.9M seqs, 10.6% at phylum, 0.1% genus (P > 0.90)\r",
      "19:33 269Mb   47.0% 1.9M seqs, 10.6% at phylum, 0.1% genus (P > 0.90)\r",
      "19:34 269Mb   47.0% 1.9M seqs, 10.6% at phylum, 0.1% genus (P > 0.90)\r",
      "19:35 269Mb   47.0% 1.9M seqs, 10.6% at phylum, 0.1% genus (P > 0.90)\r",
      "19:36 269Mb   47.1% 1.9M seqs, 10.6% at phylum, 0.1% genus (P > 0.90)\r",
      "19:37 269Mb   47.1% 1.9M seqs, 10.6% at phylum, 0.1% genus (P > 0.90)\r",
      "19:38 269Mb   47.2% 1.9M seqs, 10.6% at phylum, 0.1% genus (P > 0.90)\r",
      "19:39 269Mb   47.2% 1.9M seqs, 10.6% at phylum, 0.1% genus (P > 0.90)\r",
      "19:40 269Mb   47.2% 1.9M seqs, 10.6% at phylum, 0.1% genus (P > 0.90)\r",
      "19:41 269Mb   47.3% 1.9M seqs, 10.6% at phylum, 0.1% genus (P > 0.90)\r",
      "19:42 269Mb   47.3% 1.9M seqs, 10.6% at phylum, 0.1% genus (P > 0.90)\r",
      "19:43 269Mb   47.4% 1.9M seqs, 10.6% at phylum, 0.1% genus (P > 0.90)\r",
      "19:44 269Mb   47.4% 1.9M seqs, 10.6% at phylum, 0.1% genus (P > 0.90)\r",
      "19:45 269Mb   47.4% 1.9M seqs, 10.6% at phylum, 0.1% genus (P > 0.90)\r",
      "19:46 269Mb   47.5% 1.9M seqs, 10.6% at phylum, 0.1% genus (P > 0.90)\r",
      "19:47 269Mb   47.5% 1.9M seqs, 10.6% at phylum, 0.1% genus (P > 0.90)\r",
      "19:48 269Mb   47.6% 1.9M seqs, 10.6% at phylum, 0.1% genus (P > 0.90)\r",
      "19:49 269Mb   47.6% 1.9M seqs, 10.6% at phylum, 0.1% genus (P > 0.90)\r",
      "19:50 269Mb   47.6% 1.9M seqs, 10.6% at phylum, 0.1% genus (P > 0.90)\r",
      "19:51 269Mb   47.7% 1.9M seqs, 10.6% at phylum, 0.1% genus (P > 0.90)\r",
      "19:52 269Mb   47.7% 1.9M seqs, 10.6% at phylum, 0.1% genus (P > 0.90)\r",
      "19:53 269Mb   47.7% 1.9M seqs, 10.6% at phylum, 0.1% genus (P > 0.90)\r",
      "19:54 269Mb   47.8% 1.9M seqs, 10.6% at phylum, 0.1% genus (P > 0.90)\r",
      "19:55 269Mb   47.8% 1.9M seqs, 10.6% at phylum, 0.1% genus (P > 0.90)\r",
      "19:56 269Mb   47.8% 1.9M seqs, 10.6% at phylum, 0.1% genus (P > 0.90)\r",
      "19:57 269Mb   47.8% 1.9M seqs, 10.6% at phylum, 0.1% genus (P > 0.90)\r",
      "19:58 269Mb   47.9% 1.9M seqs, 10.6% at phylum, 0.1% genus (P > 0.90)\r",
      "19:59 269Mb   47.9% 1.9M seqs, 10.6% at phylum, 0.1% genus (P > 0.90)\r",
      "20:00 269Mb   47.9% 1.9M seqs, 10.6% at phylum, 0.1% genus (P > 0.90)\r",
      "20:01 269Mb   48.0% 1.9M seqs, 10.6% at phylum, 0.1% genus (P > 0.90)\r",
      "20:02 269Mb   48.0% 1.9M seqs, 10.6% at phylum, 0.1% genus (P > 0.90)\r",
      "20:03 269Mb   48.1% 1.9M seqs, 10.6% at phylum, 0.1% genus (P > 0.90)\r",
      "20:04 269Mb   48.1% 1.9M seqs, 10.6% at phylum, 0.1% genus (P > 0.90)\r",
      "20:05 269Mb   48.1% 1.9M seqs, 10.6% at phylum, 0.1% genus (P > 0.90)\r",
      "20:06 269Mb   48.2% 1.9M seqs, 10.6% at phylum, 0.1% genus (P > 0.90)\r",
      "20:07 269Mb   48.2% 1.9M seqs, 10.6% at phylum, 0.1% genus (P > 0.90)\r",
      "20:08 269Mb   48.3% 1.9M seqs, 10.6% at phylum, 0.1% genus (P > 0.90)\r",
      "20:09 269Mb   48.3% 1.9M seqs, 10.6% at phylum, 0.1% genus (P > 0.90)\r",
      "20:10 269Mb   48.4% 1.9M seqs, 10.6% at phylum, 0.1% genus (P > 0.90)\r",
      "20:11 269Mb   48.4% 1.9M seqs, 10.6% at phylum, 0.1% genus (P > 0.90)\r",
      "20:12 269Mb   48.5% 1.9M seqs, 10.6% at phylum, 0.1% genus (P > 0.90)\r",
      "20:13 269Mb   48.5% 1.9M seqs, 10.6% at phylum, 0.1% genus (P > 0.90)\r",
      "20:14 269Mb   48.6% 1.9M seqs, 10.6% at phylum, 0.1% genus (P > 0.90)\r",
      "20:15 269Mb   48.6% 1.9M seqs, 10.6% at phylum, 0.1% genus (P > 0.90)\r",
      "20:16 269Mb   48.6% 2.0M seqs, 10.6% at phylum, 0.1% genus (P > 0.90)\r",
      "20:17 269Mb   48.7% 2.0M seqs, 10.6% at phylum, 0.1% genus (P > 0.90)\r",
      "20:18 269Mb   48.7% 2.0M seqs, 10.6% at phylum, 0.1% genus (P > 0.90)\r",
      "20:19 269Mb   48.8% 2.0M seqs, 10.6% at phylum, 0.1% genus (P > 0.90)\r",
      "20:20 269Mb   48.8% 2.0M seqs, 10.6% at phylum, 0.1% genus (P > 0.90)\r",
      "20:21 269Mb   48.8% 2.0M seqs, 10.6% at phylum, 0.1% genus (P > 0.90)\r",
      "20:22 269Mb   48.8% 2.0M seqs, 10.6% at phylum, 0.1% genus (P > 0.90)\r",
      "20:23 269Mb   48.9% 2.0M seqs, 10.6% at phylum, 0.1% genus (P > 0.90)\r",
      "20:24 269Mb   48.9% 2.0M seqs, 10.6% at phylum, 0.1% genus (P > 0.90)\r",
      "20:25 269Mb   48.9% 2.0M seqs, 10.6% at phylum, 0.1% genus (P > 0.90)\r",
      "20:26 269Mb   48.9% 2.0M seqs, 10.6% at phylum, 0.1% genus (P > 0.90)\r",
      "20:27 269Mb   49.0% 2.0M seqs, 10.6% at phylum, 0.1% genus (P > 0.90)\r",
      "20:28 269Mb   49.0% 2.0M seqs, 10.6% at phylum, 0.1% genus (P > 0.90)\r",
      "20:29 269Mb   49.0% 2.0M seqs, 10.6% at phylum, 0.1% genus (P > 0.90)\r",
      "20:30 269Mb   49.1% 2.0M seqs, 10.6% at phylum, 0.1% genus (P > 0.90)\r",
      "20:31 269Mb   49.1% 2.0M seqs, 10.6% at phylum, 0.1% genus (P > 0.90)\r",
      "20:32 269Mb   49.2% 2.0M seqs, 10.6% at phylum, 0.1% genus (P > 0.90)\r",
      "20:33 269Mb   49.2% 2.0M seqs, 10.6% at phylum, 0.1% genus (P > 0.90)\r",
      "20:34 269Mb   49.3% 2.0M seqs, 10.6% at phylum, 0.1% genus (P > 0.90)\r",
      "20:35 269Mb   49.3% 2.0M seqs, 10.6% at phylum, 0.1% genus (P > 0.90)\r",
      "20:36 269Mb   49.4% 2.0M seqs, 10.6% at phylum, 0.1% genus (P > 0.90)\r",
      "20:37 269Mb   49.4% 2.0M seqs, 10.6% at phylum, 0.1% genus (P > 0.90)\r",
      "20:38 269Mb   49.4% 2.0M seqs, 10.6% at phylum, 0.1% genus (P > 0.90)\r",
      "20:39 269Mb   49.5% 2.0M seqs, 10.6% at phylum, 0.1% genus (P > 0.90)\r",
      "20:40 269Mb   49.5% 2.0M seqs, 10.6% at phylum, 0.1% genus (P > 0.90)\r",
      "20:41 269Mb   49.6% 2.0M seqs, 10.6% at phylum, 0.1% genus (P > 0.90)\r",
      "20:42 269Mb   49.6% 2.0M seqs, 10.6% at phylum, 0.1% genus (P > 0.90)\r",
      "20:43 269Mb   49.7% 2.0M seqs, 10.6% at phylum, 0.1% genus (P > 0.90)\r",
      "20:44 269Mb   49.7% 2.0M seqs, 10.6% at phylum, 0.1% genus (P > 0.90)\r",
      "20:45 269Mb   49.7% 2.0M seqs, 10.6% at phylum, 0.1% genus (P > 0.90)\r",
      "20:46 269Mb   49.8% 2.0M seqs, 10.6% at phylum, 0.1% genus (P > 0.90)\r",
      "20:47 269Mb   49.8% 2.0M seqs, 10.6% at phylum, 0.1% genus (P > 0.90)\r",
      "20:48 269Mb   49.9% 2.0M seqs, 10.6% at phylum, 0.1% genus (P > 0.90)\r",
      "20:49 269Mb   49.9% 2.0M seqs, 10.6% at phylum, 0.1% genus (P > 0.90)\r",
      "20:50 269Mb   50.0% 2.0M seqs, 10.6% at phylum, 0.1% genus (P > 0.90)\r",
      "20:51 269Mb   50.0% 2.0M seqs, 10.6% at phylum, 0.1% genus (P > 0.90)\r",
      "20:52 269Mb   50.0% 2.0M seqs, 10.6% at phylum, 0.1% genus (P > 0.90)\r",
      "20:53 269Mb   50.1% 2.0M seqs, 10.6% at phylum, 0.1% genus (P > 0.90)\r",
      "20:54 269Mb   50.1% 2.0M seqs, 10.6% at phylum, 0.1% genus (P > 0.90)\r",
      "20:55 269Mb   50.2% 2.0M seqs, 10.6% at phylum, 0.1% genus (P > 0.90)\r",
      "20:56 269Mb   50.2% 2.0M seqs, 10.6% at phylum, 0.1% genus (P > 0.90)\r",
      "20:57 269Mb   50.2% 2.0M seqs, 10.6% at phylum, 0.1% genus (P > 0.90)\r",
      "20:58 269Mb   50.2% 2.0M seqs, 10.6% at phylum, 0.1% genus (P > 0.90)\r",
      "20:59 269Mb   50.3% 2.0M seqs, 10.6% at phylum, 0.1% genus (P > 0.90)\r",
      "21:00 269Mb   50.3% 2.0M seqs, 10.6% at phylum, 0.1% genus (P > 0.90)\r",
      "21:01 269Mb   50.3% 2.0M seqs, 10.6% at phylum, 0.1% genus (P > 0.90)\r",
      "21:02 269Mb   50.3% 2.0M seqs, 10.6% at phylum, 0.1% genus (P > 0.90)\r",
      "21:03 269Mb   50.4% 2.0M seqs, 10.6% at phylum, 0.1% genus (P > 0.90)\r",
      "21:04 269Mb   50.4% 2.0M seqs, 10.5% at phylum, 0.1% genus (P > 0.90)\r",
      "21:05 269Mb   50.4% 2.0M seqs, 10.6% at phylum, 0.1% genus (P > 0.90)\r",
      "21:06 269Mb   50.5% 2.0M seqs, 10.6% at phylum, 0.1% genus (P > 0.90)\r",
      "21:07 269Mb   50.5% 2.0M seqs, 10.6% at phylum, 0.1% genus (P > 0.90)\r",
      "21:08 269Mb   50.6% 2.0M seqs, 10.5% at phylum, 0.1% genus (P > 0.90)\r",
      "21:09 269Mb   50.6% 2.0M seqs, 10.5% at phylum, 0.1% genus (P > 0.90)\r",
      "21:10 269Mb   50.6% 2.0M seqs, 10.5% at phylum, 0.1% genus (P > 0.90)\r",
      "21:11 269Mb   50.7% 2.0M seqs, 10.5% at phylum, 0.1% genus (P > 0.90)\r",
      "21:12 269Mb   50.7% 2.0M seqs, 10.5% at phylum, 0.1% genus (P > 0.90)\r",
      "21:13 269Mb   50.8% 2.0M seqs, 10.5% at phylum, 0.1% genus (P > 0.90)\r",
      "21:14 269Mb   50.8% 2.0M seqs, 10.5% at phylum, 0.1% genus (P > 0.90)\r",
      "21:15 269Mb   50.8% 2.0M seqs, 10.5% at phylum, 0.1% genus (P > 0.90)\r",
      "21:16 269Mb   50.9% 2.0M seqs, 10.5% at phylum, 0.1% genus (P > 0.90)\r",
      "21:17 269Mb   50.9% 2.0M seqs, 10.5% at phylum, 0.1% genus (P > 0.90)\r",
      "21:18 269Mb   51.0% 2.0M seqs, 10.5% at phylum, 0.1% genus (P > 0.90)\r",
      "21:19 269Mb   51.0% 2.0M seqs, 10.5% at phylum, 0.1% genus (P > 0.90)\r",
      "21:20 269Mb   51.1% 2.0M seqs, 10.5% at phylum, 0.1% genus (P > 0.90)\r",
      "21:21 269Mb   51.1% 2.1M seqs, 10.5% at phylum, 0.1% genus (P > 0.90)\r",
      "21:22 269Mb   51.1% 2.1M seqs, 10.5% at phylum, 0.1% genus (P > 0.90)\r",
      "21:23 269Mb   51.2% 2.1M seqs, 10.5% at phylum, 0.1% genus (P > 0.90)\r",
      "21:24 269Mb   51.2% 2.1M seqs, 10.5% at phylum, 0.1% genus (P > 0.90)\r",
      "21:25 269Mb   51.3% 2.1M seqs, 10.5% at phylum, 0.1% genus (P > 0.90)\r",
      "21:26 269Mb   51.3% 2.1M seqs, 10.5% at phylum, 0.1% genus (P > 0.90)\r",
      "21:27 269Mb   51.4% 2.1M seqs, 10.5% at phylum, 0.1% genus (P > 0.90)\r",
      "21:28 269Mb   51.4% 2.1M seqs, 10.5% at phylum, 0.1% genus (P > 0.90)\r",
      "21:29 269Mb   51.4% 2.1M seqs, 10.5% at phylum, 0.1% genus (P > 0.90)\r",
      "21:30 269Mb   51.5% 2.1M seqs, 10.5% at phylum, 0.1% genus (P > 0.90)\r",
      "21:31 269Mb   51.5% 2.1M seqs, 10.5% at phylum, 0.1% genus (P > 0.90)\r",
      "21:32 269Mb   51.6% 2.1M seqs, 10.5% at phylum, 0.1% genus (P > 0.90)\r",
      "21:33 269Mb   51.6% 2.1M seqs, 10.5% at phylum, 0.1% genus (P > 0.90)\r",
      "21:34 269Mb   51.6% 2.1M seqs, 10.5% at phylum, 0.1% genus (P > 0.90)\r",
      "21:35 269Mb   51.6% 2.1M seqs, 10.5% at phylum, 0.1% genus (P > 0.90)\r",
      "21:36 269Mb   51.7% 2.1M seqs, 10.5% at phylum, 0.1% genus (P > 0.90)\r",
      "21:37 269Mb   51.7% 2.1M seqs, 10.5% at phylum, 0.1% genus (P > 0.90)\r",
      "21:38 269Mb   51.7% 2.1M seqs, 10.5% at phylum, 0.1% genus (P > 0.90)\r",
      "21:39 269Mb   51.7% 2.1M seqs, 10.5% at phylum, 0.1% genus (P > 0.90)\r",
      "21:40 269Mb   51.8% 2.1M seqs, 10.5% at phylum, 0.1% genus (P > 0.90)\r",
      "21:41 269Mb   51.8% 2.1M seqs, 10.5% at phylum, 0.1% genus (P > 0.90)\r",
      "21:42 269Mb   51.8% 2.1M seqs, 10.5% at phylum, 0.1% genus (P > 0.90)\r",
      "21:43 269Mb   51.9% 2.1M seqs, 10.5% at phylum, 0.1% genus (P > 0.90)\r",
      "21:44 269Mb   51.9% 2.1M seqs, 10.5% at phylum, 0.1% genus (P > 0.90)\r",
      "21:45 269Mb   52.0% 2.1M seqs, 10.5% at phylum, 0.1% genus (P > 0.90)\r",
      "21:46 269Mb   52.0% 2.1M seqs, 10.5% at phylum, 0.1% genus (P > 0.90)\r",
      "21:47 269Mb   52.1% 2.1M seqs, 10.5% at phylum, 0.1% genus (P > 0.90)\r",
      "21:48 269Mb   52.1% 2.1M seqs, 10.5% at phylum, 0.1% genus (P > 0.90)\r",
      "21:49 269Mb   52.1% 2.1M seqs, 10.5% at phylum, 0.1% genus (P > 0.90)\r",
      "21:50 269Mb   52.2% 2.1M seqs, 10.5% at phylum, 0.1% genus (P > 0.90)\r",
      "21:51 269Mb   52.2% 2.1M seqs, 10.5% at phylum, 0.1% genus (P > 0.90)\r",
      "21:52 269Mb   52.3% 2.1M seqs, 10.5% at phylum, 0.1% genus (P > 0.90)\r",
      "21:53 269Mb   52.3% 2.1M seqs, 10.5% at phylum, 0.1% genus (P > 0.90)\r",
      "21:54 269Mb   52.4% 2.1M seqs, 10.5% at phylum, 0.1% genus (P > 0.90)\r",
      "21:55 269Mb   52.4% 2.1M seqs, 10.5% at phylum, 0.1% genus (P > 0.90)\r",
      "21:56 269Mb   52.5% 2.1M seqs, 10.5% at phylum, 0.1% genus (P > 0.90)\r",
      "21:57 269Mb   52.5% 2.1M seqs, 10.5% at phylum, 0.1% genus (P > 0.90)\r",
      "21:58 269Mb   52.5% 2.1M seqs, 10.5% at phylum, 0.1% genus (P > 0.90)\r",
      "21:59 269Mb   52.6% 2.1M seqs, 10.5% at phylum, 0.1% genus (P > 0.90)\r",
      "22:00 269Mb   52.6% 2.1M seqs, 10.5% at phylum, 0.1% genus (P > 0.90)\r",
      "22:01 269Mb   52.6% 2.1M seqs, 10.5% at phylum, 0.1% genus (P > 0.90)\r",
      "22:02 269Mb   52.7% 2.1M seqs, 10.5% at phylum, 0.1% genus (P > 0.90)\r",
      "22:03 269Mb   52.7% 2.1M seqs, 10.4% at phylum, 0.1% genus (P > 0.90)\r",
      "22:04 269Mb   52.7% 2.1M seqs, 10.4% at phylum, 0.1% genus (P > 0.90)\r",
      "22:05 269Mb   52.7% 2.1M seqs, 10.4% at phylum, 0.1% genus (P > 0.90)\r",
      "22:06 269Mb   52.7% 2.1M seqs, 10.4% at phylum, 0.1% genus (P > 0.90)\r",
      "22:07 269Mb   52.8% 2.1M seqs, 10.4% at phylum, 0.1% genus (P > 0.90)\r",
      "22:08 269Mb   52.8% 2.1M seqs, 10.4% at phylum, 0.1% genus (P > 0.90)\r",
      "22:09 269Mb   52.8% 2.1M seqs, 10.4% at phylum, 0.1% genus (P > 0.90)\r",
      "22:10 269Mb   52.9% 2.1M seqs, 10.4% at phylum, 0.1% genus (P > 0.90)\r",
      "22:11 269Mb   52.9% 2.1M seqs, 10.4% at phylum, 0.1% genus (P > 0.90)\r",
      "22:12 269Mb   53.0% 2.1M seqs, 10.4% at phylum, 0.1% genus (P > 0.90)\r",
      "22:13 269Mb   53.0% 2.1M seqs, 10.4% at phylum, 0.1% genus (P > 0.90)\r",
      "22:14 269Mb   53.1% 2.1M seqs, 10.4% at phylum, 0.1% genus (P > 0.90)\r",
      "22:15 269Mb   53.1% 2.1M seqs, 10.4% at phylum, 0.1% genus (P > 0.90)\r",
      "22:16 269Mb   53.1% 2.1M seqs, 10.4% at phylum, 0.1% genus (P > 0.90)\r",
      "22:17 269Mb   53.2% 2.1M seqs, 10.4% at phylum, 0.1% genus (P > 0.90)\r",
      "22:18 269Mb   53.2% 2.1M seqs, 10.4% at phylum, 0.1% genus (P > 0.90)\r",
      "22:19 269Mb   53.3% 2.1M seqs, 10.4% at phylum, 0.1% genus (P > 0.90)\r",
      "22:20 269Mb   53.3% 2.1M seqs, 10.4% at phylum, 0.1% genus (P > 0.90)\r",
      "22:21 269Mb   53.4% 2.1M seqs, 10.4% at phylum, 0.1% genus (P > 0.90)\r",
      "22:22 269Mb   53.4% 2.1M seqs, 10.4% at phylum, 0.1% genus (P > 0.90)\r",
      "22:23 269Mb   53.5% 2.1M seqs, 10.4% at phylum, 0.1% genus (P > 0.90)\r",
      "22:24 269Mb   53.5% 2.1M seqs, 10.4% at phylum, 0.1% genus (P > 0.90)\r",
      "22:25 269Mb   53.5% 2.1M seqs, 10.4% at phylum, 0.1% genus (P > 0.90)\r",
      "22:26 269Mb   53.6% 2.2M seqs, 10.4% at phylum, 0.1% genus (P > 0.90)\r",
      "22:27 269Mb   53.6% 2.2M seqs, 10.4% at phylum, 0.1% genus (P > 0.90)\r",
      "22:28 269Mb   53.7% 2.2M seqs, 10.4% at phylum, 0.1% genus (P > 0.90)\r",
      "22:29 269Mb   53.7% 2.2M seqs, 10.4% at phylum, 0.1% genus (P > 0.90)\r",
      "22:30 269Mb   53.7% 2.2M seqs, 10.4% at phylum, 0.1% genus (P > 0.90)\r",
      "22:31 269Mb   53.7% 2.2M seqs, 10.4% at phylum, 0.1% genus (P > 0.90)\r",
      "22:32 269Mb   53.7% 2.2M seqs, 10.4% at phylum, 0.1% genus (P > 0.90)\r",
      "22:33 269Mb   53.8% 2.2M seqs, 10.4% at phylum, 0.1% genus (P > 0.90)\r",
      "22:34 269Mb   53.8% 2.2M seqs, 10.4% at phylum, 0.1% genus (P > 0.90)\r",
      "22:35 269Mb   53.8% 2.2M seqs, 10.5% at phylum, 0.1% genus (P > 0.90)\r",
      "22:36 269Mb   53.9% 2.2M seqs, 10.5% at phylum, 0.1% genus (P > 0.90)\r",
      "22:37 269Mb   53.9% 2.2M seqs, 10.5% at phylum, 0.1% genus (P > 0.90)\r",
      "22:38 269Mb   54.0% 2.2M seqs, 10.5% at phylum, 0.1% genus (P > 0.90)\r",
      "22:39 269Mb   54.0% 2.2M seqs, 10.5% at phylum, 0.1% genus (P > 0.90)\r",
      "22:40 269Mb   54.1% 2.2M seqs, 10.5% at phylum, 0.1% genus (P > 0.90)\r",
      "22:41 269Mb   54.1% 2.2M seqs, 10.5% at phylum, 0.1% genus (P > 0.90)\r",
      "22:42 269Mb   54.2% 2.2M seqs, 10.5% at phylum, 0.1% genus (P > 0.90)\r",
      "22:43 269Mb   54.2% 2.2M seqs, 10.5% at phylum, 0.1% genus (P > 0.90)\r",
      "22:44 269Mb   54.3% 2.2M seqs, 10.5% at phylum, 0.1% genus (P > 0.90)\r",
      "22:45 269Mb   54.3% 2.2M seqs, 10.5% at phylum, 0.1% genus (P > 0.90)\r",
      "22:46 269Mb   54.3% 2.2M seqs, 10.5% at phylum, 0.1% genus (P > 0.90)\r",
      "22:47 269Mb   54.4% 2.2M seqs, 10.5% at phylum, 0.1% genus (P > 0.90)\r",
      "22:48 269Mb   54.4% 2.2M seqs, 10.5% at phylum, 0.1% genus (P > 0.90)\r",
      "22:49 269Mb   54.5% 2.2M seqs, 10.5% at phylum, 0.1% genus (P > 0.90)\r",
      "22:50 269Mb   54.5% 2.2M seqs, 10.5% at phylum, 0.1% genus (P > 0.90)\r",
      "22:51 269Mb   54.6% 2.2M seqs, 10.5% at phylum, 0.1% genus (P > 0.90)\r",
      "22:52 269Mb   54.6% 2.2M seqs, 10.5% at phylum, 0.1% genus (P > 0.90)\r",
      "22:53 269Mb   54.7% 2.2M seqs, 10.5% at phylum, 0.1% genus (P > 0.90)\r",
      "22:54 269Mb   54.7% 2.2M seqs, 10.4% at phylum, 0.1% genus (P > 0.90)\r",
      "22:55 269Mb   54.8% 2.2M seqs, 10.4% at phylum, 0.1% genus (P > 0.90)\r",
      "22:56 269Mb   54.8% 2.2M seqs, 10.4% at phylum, 0.1% genus (P > 0.90)\r",
      "22:57 269Mb   54.9% 2.2M seqs, 10.4% at phylum, 0.1% genus (P > 0.90)\r",
      "22:58 269Mb   54.9% 2.2M seqs, 10.4% at phylum, 0.1% genus (P > 0.90)\r",
      "22:59 269Mb   54.9% 2.2M seqs, 10.4% at phylum, 0.1% genus (P > 0.90)\r",
      "23:00 269Mb   55.0% 2.2M seqs, 10.4% at phylum, 0.1% genus (P > 0.90)\r",
      "23:01 269Mb   55.0% 2.2M seqs, 10.4% at phylum, 0.1% genus (P > 0.90)\r",
      "23:02 269Mb   55.1% 2.2M seqs, 10.4% at phylum, 0.1% genus (P > 0.90)\r",
      "23:03 269Mb   55.1% 2.2M seqs, 10.4% at phylum, 0.1% genus (P > 0.90)\r",
      "23:04 269Mb   55.1% 2.2M seqs, 10.4% at phylum, 0.1% genus (P > 0.90)\r",
      "23:05 269Mb   55.2% 2.2M seqs, 10.4% at phylum, 0.1% genus (P > 0.90)\r",
      "23:06 269Mb   55.2% 2.2M seqs, 10.4% at phylum, 0.1% genus (P > 0.90)\r",
      "23:07 269Mb   55.2% 2.2M seqs, 10.4% at phylum, 0.1% genus (P > 0.90)\r",
      "23:08 269Mb   55.2% 2.2M seqs, 10.4% at phylum, 0.1% genus (P > 0.90)\r",
      "23:09 269Mb   55.2% 2.2M seqs, 10.4% at phylum, 0.1% genus (P > 0.90)\r",
      "23:10 269Mb   55.3% 2.2M seqs, 10.4% at phylum, 0.1% genus (P > 0.90)\r",
      "23:11 269Mb   55.3% 2.2M seqs, 10.4% at phylum, 0.1% genus (P > 0.90)\r",
      "23:12 269Mb   55.3% 2.2M seqs, 10.4% at phylum, 0.1% genus (P > 0.90)\r",
      "23:13 269Mb   55.4% 2.2M seqs, 10.4% at phylum, 0.1% genus (P > 0.90)\r",
      "23:14 269Mb   55.4% 2.2M seqs, 10.4% at phylum, 0.1% genus (P > 0.90)\r",
      "23:15 269Mb   55.5% 2.2M seqs, 10.4% at phylum, 0.1% genus (P > 0.90)\r",
      "23:16 269Mb   55.5% 2.2M seqs, 10.4% at phylum, 0.1% genus (P > 0.90)\r",
      "23:17 269Mb   55.5% 2.2M seqs, 10.4% at phylum, 0.1% genus (P > 0.90)\r",
      "23:18 269Mb   55.6% 2.2M seqs, 10.4% at phylum, 0.1% genus (P > 0.90)\r",
      "23:19 269Mb   55.6% 2.2M seqs, 10.4% at phylum, 0.1% genus (P > 0.90)\r",
      "23:20 269Mb   55.7% 2.2M seqs, 10.4% at phylum, 0.1% genus (P > 0.90)\r",
      "23:21 269Mb   55.7% 2.2M seqs, 10.4% at phylum, 0.1% genus (P > 0.90)\r",
      "23:22 269Mb   55.8% 2.2M seqs, 10.4% at phylum, 0.1% genus (P > 0.90)\r",
      "23:23 269Mb   55.8% 2.2M seqs, 10.4% at phylum, 0.1% genus (P > 0.90)\r",
      "23:24 269Mb   55.8% 2.2M seqs, 10.4% at phylum, 0.1% genus (P > 0.90)\r",
      "23:25 269Mb   55.9% 2.2M seqs, 10.4% at phylum, 0.1% genus (P > 0.90)\r",
      "23:26 269Mb   55.9% 2.2M seqs, 10.4% at phylum, 0.1% genus (P > 0.90)\r",
      "23:27 269Mb   56.0% 2.2M seqs, 10.4% at phylum, 0.1% genus (P > 0.90)\r",
      "23:28 269Mb   56.0% 2.2M seqs, 10.4% at phylum, 0.1% genus (P > 0.90)\r",
      "23:29 269Mb   56.1% 2.3M seqs, 10.4% at phylum, 0.1% genus (P > 0.90)\r",
      "23:30 269Mb   56.1% 2.3M seqs, 10.4% at phylum, 0.1% genus (P > 0.90)\r",
      "23:31 269Mb   56.1% 2.3M seqs, 10.4% at phylum, 0.1% genus (P > 0.90)\r",
      "23:32 269Mb   56.2% 2.3M seqs, 10.4% at phylum, 0.1% genus (P > 0.90)\r",
      "23:33 269Mb   56.2% 2.3M seqs, 10.4% at phylum, 0.1% genus (P > 0.90)\r",
      "23:34 269Mb   56.2% 2.3M seqs, 10.4% at phylum, 0.1% genus (P > 0.90)\r",
      "23:35 269Mb   56.2% 2.3M seqs, 10.4% at phylum, 0.1% genus (P > 0.90)\r",
      "23:36 269Mb   56.3% 2.3M seqs, 10.4% at phylum, 0.1% genus (P > 0.90)\r",
      "23:37 269Mb   56.3% 2.3M seqs, 10.4% at phylum, 0.1% genus (P > 0.90)\r",
      "23:38 269Mb   56.3% 2.3M seqs, 10.4% at phylum, 0.1% genus (P > 0.90)\r",
      "23:39 269Mb   56.3% 2.3M seqs, 10.4% at phylum, 0.1% genus (P > 0.90)\r",
      "23:40 269Mb   56.4% 2.3M seqs, 10.4% at phylum, 0.1% genus (P > 0.90)\r",
      "23:41 269Mb   56.4% 2.3M seqs, 10.4% at phylum, 0.1% genus (P > 0.90)\r",
      "23:42 269Mb   56.5% 2.3M seqs, 10.4% at phylum, 0.1% genus (P > 0.90)\r",
      "23:43 269Mb   56.5% 2.3M seqs, 10.4% at phylum, 0.1% genus (P > 0.90)\r",
      "23:44 269Mb   56.5% 2.3M seqs, 10.4% at phylum, 0.1% genus (P > 0.90)\r",
      "23:45 269Mb   56.6% 2.3M seqs, 10.4% at phylum, 0.1% genus (P > 0.90)\r",
      "23:46 269Mb   56.6% 2.3M seqs, 10.4% at phylum, 0.1% genus (P > 0.90)\r",
      "23:47 269Mb   56.6% 2.3M seqs, 10.4% at phylum, 0.1% genus (P > 0.90)\r",
      "23:48 269Mb   56.7% 2.3M seqs, 10.4% at phylum, 0.1% genus (P > 0.90)\r",
      "23:49 269Mb   56.7% 2.3M seqs, 10.4% at phylum, 0.1% genus (P > 0.90)\r",
      "23:50 269Mb   56.7% 2.3M seqs, 10.4% at phylum, 0.1% genus (P > 0.90)\r",
      "23:51 269Mb   56.8% 2.3M seqs, 10.4% at phylum, 0.1% genus (P > 0.90)\r",
      "23:52 269Mb   56.8% 2.3M seqs, 10.4% at phylum, 0.1% genus (P > 0.90)\r",
      "23:53 269Mb   56.9% 2.3M seqs, 10.4% at phylum, 0.1% genus (P > 0.90)\r",
      "23:54 269Mb   56.9% 2.3M seqs, 10.4% at phylum, 0.1% genus (P > 0.90)\r",
      "23:55 269Mb   57.0% 2.3M seqs, 10.4% at phylum, 0.1% genus (P > 0.90)\r",
      "23:56 269Mb   57.0% 2.3M seqs, 10.4% at phylum, 0.1% genus (P > 0.90)\r",
      "23:57 269Mb   57.1% 2.3M seqs, 10.4% at phylum, 0.1% genus (P > 0.90)\r",
      "23:58 269Mb   57.1% 2.3M seqs, 10.4% at phylum, 0.1% genus (P > 0.90)\r",
      "23:59 269Mb   57.1% 2.3M seqs, 10.4% at phylum, 0.1% genus (P > 0.90)\r",
      "24:00 269Mb   57.2% 2.3M seqs, 10.4% at phylum, 0.1% genus (P > 0.90)\r",
      "24:01 269Mb   57.2% 2.3M seqs, 10.4% at phylum, 0.1% genus (P > 0.90)\r",
      "24:02 269Mb   57.3% 2.3M seqs, 10.4% at phylum, 0.1% genus (P > 0.90)\r",
      "24:03 269Mb   57.3% 2.3M seqs, 10.4% at phylum, 0.1% genus (P > 0.90)\r",
      "24:04 269Mb   57.4% 2.3M seqs, 10.4% at phylum, 0.1% genus (P > 0.90)\r",
      "24:05 269Mb   57.4% 2.3M seqs, 10.4% at phylum, 0.1% genus (P > 0.90)\r",
      "24:06 269Mb   57.5% 2.3M seqs, 10.4% at phylum, 0.1% genus (P > 0.90)\r",
      "24:07 269Mb   57.5% 2.3M seqs, 10.4% at phylum, 0.1% genus (P > 0.90)\r",
      "24:08 269Mb   57.5% 2.3M seqs, 10.4% at phylum, 0.1% genus (P > 0.90)\r",
      "24:09 269Mb   57.6% 2.3M seqs, 10.4% at phylum, 0.1% genus (P > 0.90)\r",
      "24:10 269Mb   57.6% 2.3M seqs, 10.4% at phylum, 0.1% genus (P > 0.90)\r",
      "24:11 269Mb   57.6% 2.3M seqs, 10.4% at phylum, 0.1% genus (P > 0.90)\r",
      "24:12 269Mb   57.6% 2.3M seqs, 10.4% at phylum, 0.1% genus (P > 0.90)\r",
      "24:13 269Mb   57.7% 2.3M seqs, 10.4% at phylum, 0.1% genus (P > 0.90)\r",
      "24:14 269Mb   57.7% 2.3M seqs, 10.4% at phylum, 0.1% genus (P > 0.90)\r",
      "24:15 269Mb   57.8% 2.3M seqs, 10.4% at phylum, 0.1% genus (P > 0.90)\r",
      "24:16 269Mb   57.8% 2.3M seqs, 10.4% at phylum, 0.1% genus (P > 0.90)\r",
      "24:17 269Mb   57.9% 2.3M seqs, 10.3% at phylum, 0.1% genus (P > 0.90)\r",
      "24:18 269Mb   57.9% 2.3M seqs, 10.3% at phylum, 0.1% genus (P > 0.90)\r",
      "24:19 269Mb   58.0% 2.3M seqs, 10.3% at phylum, 0.1% genus (P > 0.90)\r",
      "24:20 269Mb   58.0% 2.3M seqs, 10.3% at phylum, 0.1% genus (P > 0.90)\r",
      "24:21 269Mb   58.1% 2.3M seqs, 10.3% at phylum, 0.1% genus (P > 0.90)\r",
      "24:22 269Mb   58.1% 2.3M seqs, 10.3% at phylum, 0.1% genus (P > 0.90)\r",
      "24:23 269Mb   58.1% 2.3M seqs, 10.3% at phylum, 0.1% genus (P > 0.90)\r",
      "24:24 269Mb   58.1% 2.3M seqs, 10.3% at phylum, 0.1% genus (P > 0.90)\r",
      "24:25 269Mb   58.2% 2.3M seqs, 10.3% at phylum, 0.1% genus (P > 0.90)\r",
      "24:26 269Mb   58.2% 2.3M seqs, 10.3% at phylum, 0.1% genus (P > 0.90)\r",
      "24:27 269Mb   58.3% 2.3M seqs, 10.3% at phylum, 0.1% genus (P > 0.90)\r",
      "24:28 269Mb   58.3% 2.3M seqs, 10.3% at phylum, 0.1% genus (P > 0.90)\r",
      "24:29 269Mb   58.4% 2.3M seqs, 10.3% at phylum, 0.1% genus (P > 0.90)\r",
      "24:30 269Mb   58.4% 2.3M seqs, 10.3% at phylum, 0.1% genus (P > 0.90)\r",
      "24:31 269Mb   58.5% 2.3M seqs, 10.3% at phylum, 0.1% genus (P > 0.90)\r",
      "24:32 269Mb   58.5% 2.4M seqs, 10.3% at phylum, 0.1% genus (P > 0.90)\r",
      "24:33 269Mb   58.6% 2.4M seqs, 10.3% at phylum, 0.1% genus (P > 0.90)\r",
      "24:34 269Mb   58.6% 2.4M seqs, 10.3% at phylum, 0.1% genus (P > 0.90)\r",
      "24:35 269Mb   58.7% 2.4M seqs, 10.3% at phylum, 0.1% genus (P > 0.90)\r",
      "24:36 269Mb   58.7% 2.4M seqs, 10.3% at phylum, 0.1% genus (P > 0.90)\r",
      "24:37 269Mb   58.8% 2.4M seqs, 10.3% at phylum, 0.1% genus (P > 0.90)\r",
      "24:38 269Mb   58.8% 2.4M seqs, 10.3% at phylum, 0.1% genus (P > 0.90)\r",
      "24:39 269Mb   58.8% 2.4M seqs, 10.3% at phylum, 0.1% genus (P > 0.90)\r",
      "24:40 269Mb   58.9% 2.4M seqs, 10.3% at phylum, 0.1% genus (P > 0.90)\r",
      "24:41 269Mb   58.9% 2.4M seqs, 10.3% at phylum, 0.1% genus (P > 0.90)\r",
      "24:42 269Mb   59.0% 2.4M seqs, 10.3% at phylum, 0.1% genus (P > 0.90)\r",
      "24:43 269Mb   59.0% 2.4M seqs, 10.3% at phylum, 0.1% genus (P > 0.90)\r",
      "24:44 269Mb   59.1% 2.4M seqs, 10.3% at phylum, 0.1% genus (P > 0.90)\r",
      "24:45 269Mb   59.1% 2.4M seqs, 10.3% at phylum, 0.1% genus (P > 0.90)\r",
      "24:46 269Mb   59.2% 2.4M seqs, 10.3% at phylum, 0.1% genus (P > 0.90)\r",
      "24:47 269Mb   59.2% 2.4M seqs, 10.3% at phylum, 0.1% genus (P > 0.90)\r",
      "24:48 269Mb   59.3% 2.4M seqs, 10.3% at phylum, 0.1% genus (P > 0.90)\r",
      "24:49 269Mb   59.3% 2.4M seqs, 10.3% at phylum, 0.1% genus (P > 0.90)\r",
      "24:50 269Mb   59.3% 2.4M seqs, 10.3% at phylum, 0.1% genus (P > 0.90)\r",
      "24:51 269Mb   59.4% 2.4M seqs, 10.3% at phylum, 0.1% genus (P > 0.90)\r",
      "24:52 269Mb   59.4% 2.4M seqs, 10.3% at phylum, 0.1% genus (P > 0.90)\r",
      "24:53 269Mb   59.4% 2.4M seqs, 10.3% at phylum, 0.1% genus (P > 0.90)\r",
      "24:54 269Mb   59.5% 2.4M seqs, 10.3% at phylum, 0.1% genus (P > 0.90)\r",
      "24:55 269Mb   59.5% 2.4M seqs, 10.3% at phylum, 0.1% genus (P > 0.90)\r",
      "24:56 269Mb   59.5% 2.4M seqs, 10.3% at phylum, 0.1% genus (P > 0.90)\r",
      "24:57 269Mb   59.5% 2.4M seqs, 10.3% at phylum, 0.1% genus (P > 0.90)\r",
      "24:58 269Mb   59.6% 2.4M seqs, 10.3% at phylum, 0.1% genus (P > 0.90)\r",
      "24:59 269Mb   59.6% 2.4M seqs, 10.3% at phylum, 0.1% genus (P > 0.90)\r",
      "25:00 269Mb   59.6% 2.4M seqs, 10.3% at phylum, 0.1% genus (P > 0.90)\r",
      "25:01 269Mb   59.7% 2.4M seqs, 10.3% at phylum, 0.1% genus (P > 0.90)\r",
      "25:02 269Mb   59.7% 2.4M seqs, 10.3% at phylum, 0.1% genus (P > 0.90)\r",
      "25:03 269Mb   59.8% 2.4M seqs, 10.3% at phylum, 0.1% genus (P > 0.90)\r",
      "25:04 269Mb   59.8% 2.4M seqs, 10.3% at phylum, 0.1% genus (P > 0.90)\r",
      "25:05 269Mb   59.9% 2.4M seqs, 10.3% at phylum, 0.1% genus (P > 0.90)\r",
      "25:06 269Mb   59.9% 2.4M seqs, 10.3% at phylum, 0.1% genus (P > 0.90)\r",
      "25:07 269Mb   60.0% 2.4M seqs, 10.3% at phylum, 0.1% genus (P > 0.90)\r",
      "25:08 269Mb   60.0% 2.4M seqs, 10.3% at phylum, 0.1% genus (P > 0.90)\r",
      "25:09 269Mb   60.1% 2.4M seqs, 10.3% at phylum, 0.1% genus (P > 0.90)\r",
      "25:10 269Mb   60.1% 2.4M seqs, 10.3% at phylum, 0.1% genus (P > 0.90)\r",
      "25:11 269Mb   60.2% 2.4M seqs, 10.3% at phylum, 0.1% genus (P > 0.90)\r",
      "25:12 269Mb   60.2% 2.4M seqs, 10.3% at phylum, 0.1% genus (P > 0.90)\r",
      "25:13 269Mb   60.3% 2.4M seqs, 10.3% at phylum, 0.1% genus (P > 0.90)\r",
      "25:14 269Mb   60.3% 2.4M seqs, 10.3% at phylum, 0.1% genus (P > 0.90)\r",
      "25:15 269Mb   60.4% 2.4M seqs, 10.3% at phylum, 0.1% genus (P > 0.90)\r",
      "25:16 269Mb   60.4% 2.4M seqs, 10.3% at phylum, 0.1% genus (P > 0.90)\r",
      "25:17 269Mb   60.4% 2.4M seqs, 10.3% at phylum, 0.1% genus (P > 0.90)\r",
      "25:18 269Mb   60.5% 2.4M seqs, 10.3% at phylum, 0.1% genus (P > 0.90)\r",
      "25:19 269Mb   60.5% 2.4M seqs, 10.3% at phylum, 0.1% genus (P > 0.90)\r",
      "25:20 269Mb   60.6% 2.4M seqs, 10.3% at phylum, 0.1% genus (P > 0.90)\r",
      "25:21 269Mb   60.6% 2.4M seqs, 10.3% at phylum, 0.1% genus (P > 0.90)\r",
      "25:22 269Mb   60.6% 2.4M seqs, 10.3% at phylum, 0.1% genus (P > 0.90)\r",
      "25:23 269Mb   60.6% 2.4M seqs, 10.3% at phylum, 0.1% genus (P > 0.90)\r",
      "25:24 269Mb   60.7% 2.4M seqs, 10.3% at phylum, 0.1% genus (P > 0.90)\r",
      "25:25 269Mb   60.7% 2.4M seqs, 10.3% at phylum, 0.1% genus (P > 0.90)\r",
      "25:26 269Mb   60.7% 2.4M seqs, 10.3% at phylum, 0.1% genus (P > 0.90)\r",
      "25:27 269Mb   60.7% 2.4M seqs, 10.3% at phylum, 0.1% genus (P > 0.90)\r",
      "25:28 269Mb   60.8% 2.4M seqs, 10.3% at phylum, 0.1% genus (P > 0.90)\r",
      "25:29 269Mb   60.8% 2.4M seqs, 10.3% at phylum, 0.1% genus (P > 0.90)\r",
      "25:30 269Mb   60.8% 2.4M seqs, 10.3% at phylum, 0.1% genus (P > 0.90)\r",
      "25:31 269Mb   60.9% 2.4M seqs, 10.3% at phylum, 0.1% genus (P > 0.90)\r",
      "25:32 269Mb   60.9% 2.4M seqs, 10.3% at phylum, 0.1% genus (P > 0.90)\r",
      "25:33 269Mb   61.0% 2.4M seqs, 10.3% at phylum, 0.1% genus (P > 0.90)\r",
      "25:34 269Mb   61.0% 2.4M seqs, 10.3% at phylum, 0.1% genus (P > 0.90)\r",
      "25:35 269Mb   61.0% 2.5M seqs, 10.3% at phylum, 0.1% genus (P > 0.90)\r",
      "25:36 269Mb   61.1% 2.5M seqs, 10.3% at phylum, 0.1% genus (P > 0.90)\r",
      "25:37 269Mb   61.1% 2.5M seqs, 10.3% at phylum, 0.1% genus (P > 0.90)\r",
      "25:38 269Mb   61.2% 2.5M seqs, 10.3% at phylum, 0.1% genus (P > 0.90)\r",
      "25:39 269Mb   61.2% 2.5M seqs, 10.3% at phylum, 0.1% genus (P > 0.90)\r",
      "25:40 269Mb   61.2% 2.5M seqs, 10.3% at phylum, 0.1% genus (P > 0.90)\r",
      "25:41 269Mb   61.3% 2.5M seqs, 10.3% at phylum, 0.1% genus (P > 0.90)\r",
      "25:42 269Mb   61.3% 2.5M seqs, 10.3% at phylum, 0.1% genus (P > 0.90)\r",
      "25:43 269Mb   61.3% 2.5M seqs, 10.3% at phylum, 0.1% genus (P > 0.90)\r",
      "25:44 269Mb   61.4% 2.5M seqs, 10.3% at phylum, 0.1% genus (P > 0.90)\r",
      "25:45 269Mb   61.4% 2.5M seqs, 10.3% at phylum, 0.1% genus (P > 0.90)\r",
      "25:46 269Mb   61.5% 2.5M seqs, 10.3% at phylum, 0.1% genus (P > 0.90)\r",
      "25:47 269Mb   61.5% 2.5M seqs, 10.3% at phylum, 0.1% genus (P > 0.90)\r",
      "25:48 269Mb   61.5% 2.5M seqs, 10.3% at phylum, 0.1% genus (P > 0.90)\r",
      "25:49 269Mb   61.6% 2.5M seqs, 10.3% at phylum, 0.1% genus (P > 0.90)\r",
      "25:50 269Mb   61.6% 2.5M seqs, 10.3% at phylum, 0.1% genus (P > 0.90)\r",
      "25:51 269Mb   61.6% 2.5M seqs, 10.3% at phylum, 0.1% genus (P > 0.90)\r",
      "25:52 269Mb   61.6% 2.5M seqs, 10.3% at phylum, 0.1% genus (P > 0.90)\r",
      "25:53 269Mb   61.6% 2.5M seqs, 10.3% at phylum, 0.1% genus (P > 0.90)\r",
      "25:54 269Mb   61.7% 2.5M seqs, 10.3% at phylum, 0.1% genus (P > 0.90)\r",
      "25:55 269Mb   61.7% 2.5M seqs, 10.3% at phylum, 0.1% genus (P > 0.90)\r",
      "25:56 269Mb   61.7% 2.5M seqs, 10.3% at phylum, 0.1% genus (P > 0.90)\r",
      "25:57 269Mb   61.8% 2.5M seqs, 10.3% at phylum, 0.1% genus (P > 0.90)\r",
      "25:58 269Mb   61.8% 2.5M seqs, 10.3% at phylum, 0.1% genus (P > 0.90)\r",
      "25:59 269Mb   61.8% 2.5M seqs, 10.3% at phylum, 0.1% genus (P > 0.90)\r",
      "26:00 269Mb   61.9% 2.5M seqs, 10.3% at phylum, 0.1% genus (P > 0.90)\r",
      "26:01 269Mb   61.9% 2.5M seqs, 10.3% at phylum, 0.1% genus (P > 0.90)\r",
      "26:02 269Mb   62.0% 2.5M seqs, 10.3% at phylum, 0.1% genus (P > 0.90)\r",
      "26:03 269Mb   62.0% 2.5M seqs, 10.3% at phylum, 0.1% genus (P > 0.90)\r",
      "26:04 269Mb   62.1% 2.5M seqs, 10.3% at phylum, 0.1% genus (P > 0.90)\r",
      "26:05 269Mb   62.1% 2.5M seqs, 10.3% at phylum, 0.1% genus (P > 0.90)\r",
      "26:06 269Mb   62.1% 2.5M seqs, 10.3% at phylum, 0.1% genus (P > 0.90)\r",
      "26:07 269Mb   62.2% 2.5M seqs, 10.3% at phylum, 0.1% genus (P > 0.90)\r",
      "26:08 269Mb   62.2% 2.5M seqs, 10.3% at phylum, 0.1% genus (P > 0.90)\r",
      "26:09 269Mb   62.3% 2.5M seqs, 10.3% at phylum, 0.1% genus (P > 0.90)\r",
      "26:10 269Mb   62.3% 2.5M seqs, 10.3% at phylum, 0.1% genus (P > 0.90)\r",
      "26:11 269Mb   62.4% 2.5M seqs, 10.3% at phylum, 0.1% genus (P > 0.90)\r",
      "26:12 269Mb   62.4% 2.5M seqs, 10.3% at phylum, 0.1% genus (P > 0.90)\r",
      "26:13 269Mb   62.5% 2.5M seqs, 10.3% at phylum, 0.1% genus (P > 0.90)\r",
      "26:14 269Mb   62.5% 2.5M seqs, 10.3% at phylum, 0.1% genus (P > 0.90)\r",
      "26:15 269Mb   62.5% 2.5M seqs, 10.3% at phylum, 0.1% genus (P > 0.90)\r",
      "26:16 269Mb   62.6% 2.5M seqs, 10.3% at phylum, 0.1% genus (P > 0.90)\r",
      "26:17 269Mb   62.6% 2.5M seqs, 10.3% at phylum, 0.1% genus (P > 0.90)\r",
      "26:18 269Mb   62.6% 2.5M seqs, 10.3% at phylum, 0.1% genus (P > 0.90)\r",
      "26:19 269Mb   62.6% 2.5M seqs, 10.3% at phylum, 0.1% genus (P > 0.90)\r",
      "26:20 269Mb   62.7% 2.5M seqs, 10.3% at phylum, 0.1% genus (P > 0.90)\r",
      "26:21 269Mb   62.7% 2.5M seqs, 10.3% at phylum, 0.1% genus (P > 0.90)\r",
      "26:22 269Mb   62.7% 2.5M seqs, 10.3% at phylum, 0.1% genus (P > 0.90)\r",
      "26:23 269Mb   62.7% 2.5M seqs, 10.3% at phylum, 0.1% genus (P > 0.90)\r",
      "26:24 269Mb   62.8% 2.5M seqs, 10.3% at phylum, 0.1% genus (P > 0.90)\r",
      "26:25 269Mb   62.8% 2.5M seqs, 10.3% at phylum, 0.1% genus (P > 0.90)\r",
      "26:26 269Mb   62.9% 2.5M seqs, 10.3% at phylum, 0.1% genus (P > 0.90)\r",
      "26:27 269Mb   62.9% 2.5M seqs, 10.3% at phylum, 0.1% genus (P > 0.90)\r",
      "26:28 269Mb   62.9% 2.5M seqs, 10.3% at phylum, 0.1% genus (P > 0.90)\r",
      "26:29 269Mb   63.0% 2.5M seqs, 10.3% at phylum, 0.1% genus (P > 0.90)\r",
      "26:30 269Mb   63.0% 2.5M seqs, 10.3% at phylum, 0.1% genus (P > 0.90)\r",
      "26:31 269Mb   63.1% 2.5M seqs, 10.3% at phylum, 0.1% genus (P > 0.90)\r",
      "26:32 269Mb   63.1% 2.5M seqs, 10.3% at phylum, 0.1% genus (P > 0.90)\r",
      "26:33 269Mb   63.2% 2.5M seqs, 10.3% at phylum, 0.1% genus (P > 0.90)\r",
      "26:34 269Mb   63.2% 2.5M seqs, 10.3% at phylum, 0.1% genus (P > 0.90)\r",
      "26:35 269Mb   63.3% 2.5M seqs, 10.3% at phylum, 0.1% genus (P > 0.90)\r",
      "26:36 269Mb   63.3% 2.5M seqs, 10.3% at phylum, 0.1% genus (P > 0.90)\r",
      "26:37 269Mb   63.3% 2.5M seqs, 10.3% at phylum, 0.1% genus (P > 0.90)\r",
      "26:38 269Mb   63.4% 2.5M seqs, 10.3% at phylum, 0.1% genus (P > 0.90)\r",
      "26:39 269Mb   63.4% 2.5M seqs, 10.3% at phylum, 0.1% genus (P > 0.90)\r",
      "26:40 269Mb   63.5% 2.5M seqs, 10.3% at phylum, 0.1% genus (P > 0.90)\r",
      "26:41 269Mb   63.5% 2.6M seqs, 10.3% at phylum, 0.1% genus (P > 0.90)\r",
      "26:42 269Mb   63.6% 2.6M seqs, 10.3% at phylum, 0.1% genus (P > 0.90)\r",
      "26:43 269Mb   63.6% 2.6M seqs, 10.3% at phylum, 0.1% genus (P > 0.90)\r",
      "26:44 269Mb   63.6% 2.6M seqs, 10.3% at phylum, 0.1% genus (P > 0.90)\r",
      "26:45 269Mb   63.7% 2.6M seqs, 10.3% at phylum, 0.1% genus (P > 0.90)\r",
      "26:46 269Mb   63.7% 2.6M seqs, 10.3% at phylum, 0.1% genus (P > 0.90)\r",
      "26:47 269Mb   63.7% 2.6M seqs, 10.3% at phylum, 0.1% genus (P > 0.90)\r",
      "26:48 269Mb   63.7% 2.6M seqs, 10.3% at phylum, 0.1% genus (P > 0.90)\r",
      "26:49 269Mb   63.7% 2.6M seqs, 10.3% at phylum, 0.1% genus (P > 0.90)\r",
      "26:50 269Mb   63.8% 2.6M seqs, 10.3% at phylum, 0.1% genus (P > 0.90)\r",
      "26:51 269Mb   63.8% 2.6M seqs, 10.3% at phylum, 0.1% genus (P > 0.90)\r",
      "26:52 269Mb   63.8% 2.6M seqs, 10.3% at phylum, 0.1% genus (P > 0.90)\r",
      "26:53 269Mb   63.9% 2.6M seqs, 10.3% at phylum, 0.1% genus (P > 0.90)\r",
      "26:54 269Mb   63.9% 2.6M seqs, 10.3% at phylum, 0.1% genus (P > 0.90)\r",
      "26:55 269Mb   63.9% 2.6M seqs, 10.3% at phylum, 0.1% genus (P > 0.90)\r",
      "26:56 269Mb   64.0% 2.6M seqs, 10.3% at phylum, 0.1% genus (P > 0.90)\r",
      "26:57 269Mb   64.0% 2.6M seqs, 10.3% at phylum, 0.1% genus (P > 0.90)\r",
      "26:58 269Mb   64.1% 2.6M seqs, 10.3% at phylum, 0.1% genus (P > 0.90)\r",
      "26:59 269Mb   64.1% 2.6M seqs, 10.3% at phylum, 0.1% genus (P > 0.90)\r",
      "27:00 269Mb   64.2% 2.6M seqs, 10.3% at phylum, 0.1% genus (P > 0.90)\r",
      "27:01 269Mb   64.2% 2.6M seqs, 10.3% at phylum, 0.1% genus (P > 0.90)\r",
      "27:02 269Mb   64.3% 2.6M seqs, 10.3% at phylum, 0.1% genus (P > 0.90)\r",
      "27:03 269Mb   64.3% 2.6M seqs, 10.3% at phylum, 0.1% genus (P > 0.90)\r",
      "27:04 269Mb   64.3% 2.6M seqs, 10.3% at phylum, 0.1% genus (P > 0.90)\r",
      "27:05 269Mb   64.4% 2.6M seqs, 10.3% at phylum, 0.1% genus (P > 0.90)\r",
      "27:06 269Mb   64.4% 2.6M seqs, 10.3% at phylum, 0.1% genus (P > 0.90)\r",
      "27:07 269Mb   64.5% 2.6M seqs, 10.3% at phylum, 0.1% genus (P > 0.90)\r",
      "27:08 269Mb   64.5% 2.6M seqs, 10.3% at phylum, 0.1% genus (P > 0.90)\r",
      "27:09 269Mb   64.6% 2.6M seqs, 10.3% at phylum, 0.1% genus (P > 0.90)\r",
      "27:10 269Mb   64.6% 2.6M seqs, 10.3% at phylum, 0.1% genus (P > 0.90)\r",
      "27:11 269Mb   64.6% 2.6M seqs, 10.3% at phylum, 0.1% genus (P > 0.90)\r",
      "27:12 269Mb   64.7% 2.6M seqs, 10.3% at phylum, 0.1% genus (P > 0.90)\r",
      "27:13 269Mb   64.7% 2.6M seqs, 10.3% at phylum, 0.1% genus (P > 0.90)\r",
      "27:14 269Mb   64.8% 2.6M seqs, 10.3% at phylum, 0.1% genus (P > 0.90)\r",
      "27:15 269Mb   64.8% 2.6M seqs, 10.3% at phylum, 0.1% genus (P > 0.90)\r",
      "27:16 269Mb   64.9% 2.6M seqs, 10.3% at phylum, 0.1% genus (P > 0.90)\r",
      "27:17 269Mb   64.9% 2.6M seqs, 10.3% at phylum, 0.1% genus (P > 0.90)\r",
      "27:18 269Mb   64.9% 2.6M seqs, 10.3% at phylum, 0.1% genus (P > 0.90)\r",
      "27:19 269Mb   65.0% 2.6M seqs, 10.3% at phylum, 0.1% genus (P > 0.90)\r",
      "27:20 269Mb   65.0% 2.6M seqs, 10.3% at phylum, 0.1% genus (P > 0.90)\r",
      "27:21 269Mb   65.1% 2.6M seqs, 10.3% at phylum, 0.1% genus (P > 0.90)\r",
      "27:22 269Mb   65.1% 2.6M seqs, 10.3% at phylum, 0.1% genus (P > 0.90)\r",
      "27:23 269Mb   65.1% 2.6M seqs, 10.3% at phylum, 0.1% genus (P > 0.90)\r",
      "27:24 269Mb   65.2% 2.6M seqs, 10.3% at phylum, 0.1% genus (P > 0.90)\r",
      "27:25 269Mb   65.2% 2.6M seqs, 10.3% at phylum, 0.1% genus (P > 0.90)\r",
      "27:26 269Mb   65.3% 2.6M seqs, 10.3% at phylum, 0.1% genus (P > 0.90)\r",
      "27:27 269Mb   65.3% 2.6M seqs, 10.3% at phylum, 0.1% genus (P > 0.90)\r",
      "27:28 269Mb   65.3% 2.6M seqs, 10.3% at phylum, 0.1% genus (P > 0.90)\r",
      "27:29 269Mb   65.4% 2.6M seqs, 10.3% at phylum, 0.1% genus (P > 0.90)\r",
      "27:30 269Mb   65.4% 2.6M seqs, 10.3% at phylum, 0.1% genus (P > 0.90)\r",
      "27:31 269Mb   65.4% 2.6M seqs, 10.3% at phylum, 0.1% genus (P > 0.90)\r",
      "27:32 269Mb   65.4% 2.6M seqs, 10.3% at phylum, 0.1% genus (P > 0.90)\r",
      "27:33 269Mb   65.5% 2.6M seqs, 10.3% at phylum, 0.1% genus (P > 0.90)\r",
      "27:34 269Mb   65.5% 2.6M seqs, 10.3% at phylum, 0.1% genus (P > 0.90)\r",
      "27:35 269Mb   65.5% 2.6M seqs, 10.3% at phylum, 0.1% genus (P > 0.90)\r",
      "27:36 269Mb   65.5% 2.6M seqs, 10.3% at phylum, 0.1% genus (P > 0.90)\r",
      "27:37 269Mb   65.6% 2.6M seqs, 10.3% at phylum, 0.1% genus (P > 0.90)\r",
      "27:38 269Mb   65.6% 2.6M seqs, 10.3% at phylum, 0.1% genus (P > 0.90)\r",
      "27:39 269Mb   65.7% 2.6M seqs, 10.3% at phylum, 0.1% genus (P > 0.90)\r",
      "27:40 269Mb   65.7% 2.6M seqs, 10.2% at phylum, 0.1% genus (P > 0.90)\r",
      "27:41 269Mb   65.7% 2.6M seqs, 10.2% at phylum, 0.1% genus (P > 0.90)\r",
      "27:42 269Mb   65.8% 2.6M seqs, 10.2% at phylum, 0.1% genus (P > 0.90)\r",
      "27:43 269Mb   65.9% 2.6M seqs, 10.2% at phylum, 0.1% genus (P > 0.90)\r",
      "27:44 269Mb   65.9% 2.6M seqs, 10.2% at phylum, 0.1% genus (P > 0.90)\r",
      "27:45 269Mb   66.0% 2.6M seqs, 10.2% at phylum, 0.1% genus (P > 0.90)\r",
      "27:46 269Mb   66.0% 2.7M seqs, 10.2% at phylum, 0.1% genus (P > 0.90)\r",
      "27:47 269Mb   66.0% 2.7M seqs, 10.2% at phylum, 0.1% genus (P > 0.90)\r",
      "27:48 269Mb   66.1% 2.7M seqs, 10.3% at phylum, 0.1% genus (P > 0.90)\r",
      "27:49 269Mb   66.1% 2.7M seqs, 10.3% at phylum, 0.1% genus (P > 0.90)\r",
      "27:50 269Mb   66.2% 2.7M seqs, 10.2% at phylum, 0.1% genus (P > 0.90)\r",
      "27:51 269Mb   66.2% 2.7M seqs, 10.2% at phylum, 0.1% genus (P > 0.90)\r",
      "27:52 269Mb   66.2% 2.7M seqs, 10.2% at phylum, 0.1% genus (P > 0.90)\r",
      "27:53 269Mb   66.3% 2.7M seqs, 10.2% at phylum, 0.1% genus (P > 0.90)\r",
      "27:54 269Mb   66.3% 2.7M seqs, 10.2% at phylum, 0.1% genus (P > 0.90)\r",
      "27:55 269Mb   66.4% 2.7M seqs, 10.2% at phylum, 0.1% genus (P > 0.90)\r",
      "27:56 269Mb   66.4% 2.7M seqs, 10.2% at phylum, 0.1% genus (P > 0.90)\r",
      "27:57 269Mb   66.4% 2.7M seqs, 10.2% at phylum, 0.1% genus (P > 0.90)\r",
      "27:58 269Mb   66.5% 2.7M seqs, 10.2% at phylum, 0.1% genus (P > 0.90)\r",
      "27:59 269Mb   66.5% 2.7M seqs, 10.2% at phylum, 0.1% genus (P > 0.90)\r",
      "28:00 269Mb   66.5% 2.7M seqs, 10.2% at phylum, 0.1% genus (P > 0.90)\r",
      "28:01 269Mb   66.5% 2.7M seqs, 10.2% at phylum, 0.1% genus (P > 0.90)\r",
      "28:02 269Mb   66.6% 2.7M seqs, 10.2% at phylum, 0.1% genus (P > 0.90)\r",
      "28:03 269Mb   66.6% 2.7M seqs, 10.2% at phylum, 0.1% genus (P > 0.90)\r",
      "28:04 269Mb   66.6% 2.7M seqs, 10.2% at phylum, 0.1% genus (P > 0.90)\r",
      "28:05 269Mb   66.7% 2.7M seqs, 10.2% at phylum, 0.1% genus (P > 0.90)\r",
      "28:06 269Mb   66.7% 2.7M seqs, 10.2% at phylum, 0.1% genus (P > 0.90)\r",
      "28:07 269Mb   66.7% 2.7M seqs, 10.2% at phylum, 0.1% genus (P > 0.90)\r",
      "28:08 269Mb   66.8% 2.7M seqs, 10.2% at phylum, 0.1% genus (P > 0.90)\r",
      "28:09 269Mb   66.8% 2.7M seqs, 10.2% at phylum, 0.1% genus (P > 0.90)\r",
      "28:10 269Mb   66.9% 2.7M seqs, 10.2% at phylum, 0.1% genus (P > 0.90)\r",
      "28:11 269Mb   66.9% 2.7M seqs, 10.2% at phylum, 0.1% genus (P > 0.90)\r",
      "28:12 269Mb   67.0% 2.7M seqs, 10.2% at phylum, 0.1% genus (P > 0.90)\r",
      "28:13 269Mb   67.0% 2.7M seqs, 10.2% at phylum, 0.1% genus (P > 0.90)\r",
      "28:14 269Mb   67.1% 2.7M seqs, 10.2% at phylum, 0.1% genus (P > 0.90)\r",
      "28:15 269Mb   67.1% 2.7M seqs, 10.2% at phylum, 0.1% genus (P > 0.90)\r",
      "28:16 269Mb   67.2% 2.7M seqs, 10.2% at phylum, 0.1% genus (P > 0.90)\r",
      "28:17 269Mb   67.2% 2.7M seqs, 10.2% at phylum, 0.1% genus (P > 0.90)\r",
      "28:18 269Mb   67.2% 2.7M seqs, 10.2% at phylum, 0.1% genus (P > 0.90)\r",
      "28:19 269Mb   67.2% 2.7M seqs, 10.2% at phylum, 0.1% genus (P > 0.90)\r",
      "28:20 269Mb   67.2% 2.7M seqs, 10.2% at phylum, 0.1% genus (P > 0.90)\r",
      "28:21 269Mb   67.3% 2.7M seqs, 10.2% at phylum, 0.1% genus (P > 0.90)\r",
      "28:22 269Mb   67.3% 2.7M seqs, 10.2% at phylum, 0.1% genus (P > 0.90)\r",
      "28:23 269Mb   67.3% 2.7M seqs, 10.2% at phylum, 0.1% genus (P > 0.90)\r",
      "28:24 269Mb   67.3% 2.7M seqs, 10.2% at phylum, 0.1% genus (P > 0.90)\r",
      "28:25 269Mb   67.4% 2.7M seqs, 10.2% at phylum, 0.1% genus (P > 0.90)\r",
      "28:26 269Mb   67.4% 2.7M seqs, 10.2% at phylum, 0.1% genus (P > 0.90)\r",
      "28:27 269Mb   67.5% 2.7M seqs, 10.2% at phylum, 0.1% genus (P > 0.90)\r",
      "28:28 269Mb   67.5% 2.7M seqs, 10.2% at phylum, 0.1% genus (P > 0.90)\r",
      "28:29 269Mb   67.5% 2.7M seqs, 10.2% at phylum, 0.1% genus (P > 0.90)\r",
      "28:30 269Mb   67.6% 2.7M seqs, 10.2% at phylum, 0.1% genus (P > 0.90)\r",
      "28:31 269Mb   67.6% 2.7M seqs, 10.2% at phylum, 0.1% genus (P > 0.90)\r",
      "28:32 269Mb   67.7% 2.7M seqs, 10.2% at phylum, 0.1% genus (P > 0.90)\r",
      "28:33 269Mb   67.7% 2.7M seqs, 10.2% at phylum, 0.1% genus (P > 0.90)\r",
      "28:34 269Mb   67.7% 2.7M seqs, 10.2% at phylum, 0.1% genus (P > 0.90)\r",
      "28:35 269Mb   67.8% 2.7M seqs, 10.2% at phylum, 0.1% genus (P > 0.90)\r",
      "28:36 269Mb   67.8% 2.7M seqs, 10.2% at phylum, 0.1% genus (P > 0.90)\r",
      "28:37 269Mb   67.9% 2.7M seqs, 10.2% at phylum, 0.1% genus (P > 0.90)\r",
      "28:38 269Mb   67.9% 2.7M seqs, 10.2% at phylum, 0.1% genus (P > 0.90)\r",
      "28:39 269Mb   68.0% 2.7M seqs, 10.2% at phylum, 0.1% genus (P > 0.90)\r",
      "28:40 269Mb   68.0% 2.7M seqs, 10.2% at phylum, 0.1% genus (P > 0.90)\r",
      "28:41 269Mb   68.1% 2.7M seqs, 10.2% at phylum, 0.1% genus (P > 0.90)\r",
      "28:42 269Mb   68.1% 2.7M seqs, 10.2% at phylum, 0.1% genus (P > 0.90)\r",
      "28:43 269Mb   68.1% 2.7M seqs, 10.2% at phylum, 0.1% genus (P > 0.90)\r",
      "28:44 269Mb   68.2% 2.7M seqs, 10.2% at phylum, 0.1% genus (P > 0.90)\r",
      "28:45 269Mb   68.2% 2.7M seqs, 10.2% at phylum, 0.1% genus (P > 0.90)\r",
      "28:46 269Mb   68.3% 2.7M seqs, 10.2% at phylum, 0.1% genus (P > 0.90)\r",
      "28:47 269Mb   68.3% 2.7M seqs, 10.2% at phylum, 0.1% genus (P > 0.90)\r",
      "28:48 269Mb   68.4% 2.7M seqs, 10.2% at phylum, 0.1% genus (P > 0.90)\r",
      "28:49 269Mb   68.4% 2.7M seqs, 10.2% at phylum, 0.1% genus (P > 0.90)\r",
      "28:50 269Mb   68.4% 2.7M seqs, 10.2% at phylum, 0.1% genus (P > 0.90)\r",
      "28:51 269Mb   68.5% 2.8M seqs, 10.2% at phylum, 0.1% genus (P > 0.90)\r",
      "28:52 269Mb   68.5% 2.8M seqs, 10.2% at phylum, 0.1% genus (P > 0.90)\r",
      "28:53 269Mb   68.5% 2.8M seqs, 10.2% at phylum, 0.1% genus (P > 0.90)\r",
      "28:54 269Mb   68.6% 2.8M seqs, 10.2% at phylum, 0.1% genus (P > 0.90)\r",
      "28:55 269Mb   68.6% 2.8M seqs, 10.2% at phylum, 0.1% genus (P > 0.90)\r",
      "28:56 269Mb   68.6% 2.8M seqs, 10.2% at phylum, 0.1% genus (P > 0.90)\r",
      "28:57 269Mb   68.6% 2.8M seqs, 10.2% at phylum, 0.1% genus (P > 0.90)\r",
      "28:58 269Mb   68.7% 2.8M seqs, 10.2% at phylum, 0.1% genus (P > 0.90)\r",
      "28:59 269Mb   68.7% 2.8M seqs, 10.2% at phylum, 0.1% genus (P > 0.90)\r",
      "29:00 269Mb   68.7% 2.8M seqs, 10.2% at phylum, 0.1% genus (P > 0.90)\r",
      "29:01 269Mb   68.8% 2.8M seqs, 10.2% at phylum, 0.1% genus (P > 0.90)\r",
      "29:02 269Mb   68.8% 2.8M seqs, 10.2% at phylum, 0.1% genus (P > 0.90)\r",
      "29:03 269Mb   68.8% 2.8M seqs, 10.2% at phylum, 0.1% genus (P > 0.90)\r",
      "29:04 269Mb   68.9% 2.8M seqs, 10.2% at phylum, 0.1% genus (P > 0.90)\r",
      "29:05 269Mb   68.9% 2.8M seqs, 10.2% at phylum, 0.1% genus (P > 0.90)\r",
      "29:06 269Mb   69.0% 2.8M seqs, 10.2% at phylum, 0.1% genus (P > 0.90)\r",
      "29:07 269Mb   69.0% 2.8M seqs, 10.2% at phylum, 0.1% genus (P > 0.90)\r",
      "29:08 269Mb   69.1% 2.8M seqs, 10.2% at phylum, 0.1% genus (P > 0.90)\r",
      "29:09 269Mb   69.1% 2.8M seqs, 10.2% at phylum, 0.1% genus (P > 0.90)\r",
      "29:10 269Mb   69.1% 2.8M seqs, 10.2% at phylum, 0.1% genus (P > 0.90)\r",
      "29:11 269Mb   69.2% 2.8M seqs, 10.2% at phylum, 0.1% genus (P > 0.90)\r",
      "29:12 269Mb   69.2% 2.8M seqs, 10.2% at phylum, 0.1% genus (P > 0.90)\r",
      "29:13 269Mb   69.3% 2.8M seqs, 10.2% at phylum, 0.1% genus (P > 0.90)\r",
      "29:14 269Mb   69.3% 2.8M seqs, 10.2% at phylum, 0.1% genus (P > 0.90)\r",
      "29:15 269Mb   69.4% 2.8M seqs, 10.2% at phylum, 0.1% genus (P > 0.90)\r",
      "29:16 269Mb   69.4% 2.8M seqs, 10.2% at phylum, 0.1% genus (P > 0.90)\r",
      "29:17 269Mb   69.5% 2.8M seqs, 10.2% at phylum, 0.1% genus (P > 0.90)\r",
      "29:18 269Mb   69.5% 2.8M seqs, 10.2% at phylum, 0.1% genus (P > 0.90)\r",
      "29:19 269Mb   69.6% 2.8M seqs, 10.2% at phylum, 0.1% genus (P > 0.90)\r",
      "29:20 269Mb   69.6% 2.8M seqs, 10.2% at phylum, 0.1% genus (P > 0.90)\r",
      "29:21 269Mb   69.6% 2.8M seqs, 10.2% at phylum, 0.1% genus (P > 0.90)\r",
      "29:22 269Mb   69.7% 2.8M seqs, 10.2% at phylum, 0.1% genus (P > 0.90)\r",
      "29:23 269Mb   69.7% 2.8M seqs, 10.2% at phylum, 0.1% genus (P > 0.90)\r",
      "29:24 269Mb   69.8% 2.8M seqs, 10.2% at phylum, 0.1% genus (P > 0.90)\r",
      "29:25 269Mb   69.8% 2.8M seqs, 10.2% at phylum, 0.1% genus (P > 0.90)\r",
      "29:26 269Mb   69.8% 2.8M seqs, 10.2% at phylum, 0.1% genus (P > 0.90)\r",
      "29:27 269Mb   69.9% 2.8M seqs, 10.2% at phylum, 0.1% genus (P > 0.90)\r",
      "29:28 269Mb   69.9% 2.8M seqs, 10.2% at phylum, 0.1% genus (P > 0.90)\r",
      "29:29 269Mb   69.9% 2.8M seqs, 10.2% at phylum, 0.1% genus (P > 0.90)\r",
      "29:30 269Mb   70.0% 2.8M seqs, 10.2% at phylum, 0.1% genus (P > 0.90)\r",
      "29:31 269Mb   70.0% 2.8M seqs, 10.2% at phylum, 0.1% genus (P > 0.90)\r",
      "29:32 269Mb   70.0% 2.8M seqs, 10.2% at phylum, 0.1% genus (P > 0.90)\r",
      "29:33 269Mb   70.0% 2.8M seqs, 10.1% at phylum, 0.1% genus (P > 0.90)\r",
      "29:34 269Mb   70.1% 2.8M seqs, 10.1% at phylum, 0.1% genus (P > 0.90)\r",
      "29:35 269Mb   70.1% 2.8M seqs, 10.1% at phylum, 0.1% genus (P > 0.90)\r",
      "29:36 269Mb   70.1% 2.8M seqs, 10.1% at phylum, 0.1% genus (P > 0.90)\r",
      "29:37 269Mb   70.2% 2.8M seqs, 10.1% at phylum, 0.1% genus (P > 0.90)\r",
      "29:38 269Mb   70.2% 2.8M seqs, 10.1% at phylum, 0.1% genus (P > 0.90)\r",
      "29:39 269Mb   70.2% 2.8M seqs, 10.1% at phylum, 0.1% genus (P > 0.90)\r",
      "29:40 269Mb   70.3% 2.8M seqs, 10.1% at phylum, 0.1% genus (P > 0.90)\r",
      "29:41 269Mb   70.3% 2.8M seqs, 10.1% at phylum, 0.1% genus (P > 0.90)\r",
      "29:42 269Mb   70.4% 2.8M seqs, 10.2% at phylum, 0.1% genus (P > 0.90)\r",
      "29:43 269Mb   70.4% 2.8M seqs, 10.2% at phylum, 0.1% genus (P > 0.90)\r",
      "29:44 269Mb   70.5% 2.8M seqs, 10.2% at phylum, 0.1% genus (P > 0.90)\r",
      "29:45 269Mb   70.5% 2.8M seqs, 10.2% at phylum, 0.1% genus (P > 0.90)\r",
      "29:46 269Mb   70.6% 2.8M seqs, 10.2% at phylum, 0.1% genus (P > 0.90)\r",
      "29:47 269Mb   70.6% 2.8M seqs, 10.2% at phylum, 0.1% genus (P > 0.90)\r",
      "29:48 269Mb   70.6% 2.8M seqs, 10.2% at phylum, 0.1% genus (P > 0.90)\r",
      "29:49 269Mb   70.7% 2.8M seqs, 10.2% at phylum, 0.1% genus (P > 0.90)\r",
      "29:50 269Mb   70.7% 2.8M seqs, 10.2% at phylum, 0.1% genus (P > 0.90)\r",
      "29:51 269Mb   70.7% 2.8M seqs, 10.2% at phylum, 0.1% genus (P > 0.90)\r",
      "29:52 269Mb   70.7% 2.8M seqs, 10.2% at phylum, 0.1% genus (P > 0.90)\r",
      "29:53 269Mb   70.8% 2.8M seqs, 10.2% at phylum, 0.1% genus (P > 0.90)\r",
      "29:54 269Mb   70.8% 2.8M seqs, 10.2% at phylum, 0.1% genus (P > 0.90)\r",
      "29:55 269Mb   70.8% 2.8M seqs, 10.2% at phylum, 0.1% genus (P > 0.90)\r",
      "29:56 269Mb   70.8% 2.8M seqs, 10.2% at phylum, 0.1% genus (P > 0.90)\r",
      "29:57 269Mb   70.9% 2.8M seqs, 10.2% at phylum, 0.1% genus (P > 0.90)\r",
      "29:58 269Mb   70.9% 2.8M seqs, 10.2% at phylum, 0.1% genus (P > 0.90)\r",
      "29:59 269Mb   71.0% 2.9M seqs, 10.2% at phylum, 0.1% genus (P > 0.90)\r",
      "30:00 269Mb   71.0% 2.9M seqs, 10.1% at phylum, 0.1% genus (P > 0.90)\r",
      "30:01 269Mb   71.1% 2.9M seqs, 10.1% at phylum, 0.1% genus (P > 0.90)\r",
      "30:02 269Mb   71.1% 2.9M seqs, 10.1% at phylum, 0.1% genus (P > 0.90)\r",
      "30:03 269Mb   71.2% 2.9M seqs, 10.1% at phylum, 0.1% genus (P > 0.90)\r",
      "30:04 269Mb   71.2% 2.9M seqs, 10.1% at phylum, 0.1% genus (P > 0.90)\r",
      "30:05 269Mb   71.2% 2.9M seqs, 10.1% at phylum, 0.1% genus (P > 0.90)\r",
      "30:06 269Mb   71.3% 2.9M seqs, 10.1% at phylum, 0.1% genus (P > 0.90)\r",
      "30:07 269Mb   71.3% 2.9M seqs, 10.1% at phylum, 0.1% genus (P > 0.90)\r",
      "30:08 269Mb   71.4% 2.9M seqs, 10.1% at phylum, 0.1% genus (P > 0.90)\r",
      "30:09 269Mb   71.4% 2.9M seqs, 10.1% at phylum, 0.1% genus (P > 0.90)\r",
      "30:10 269Mb   71.5% 2.9M seqs, 10.1% at phylum, 0.1% genus (P > 0.90)\r",
      "30:11 269Mb   71.5% 2.9M seqs, 10.1% at phylum, 0.1% genus (P > 0.90)\r",
      "30:12 269Mb   71.5% 2.9M seqs, 10.1% at phylum, 0.1% genus (P > 0.90)\r",
      "30:13 269Mb   71.6% 2.9M seqs, 10.1% at phylum, 0.1% genus (P > 0.90)\r",
      "30:14 269Mb   71.6% 2.9M seqs, 10.1% at phylum, 0.1% genus (P > 0.90)\r",
      "30:15 269Mb   71.7% 2.9M seqs, 10.1% at phylum, 0.1% genus (P > 0.90)\r",
      "30:16 269Mb   71.7% 2.9M seqs, 10.1% at phylum, 0.1% genus (P > 0.90)\r",
      "30:17 269Mb   71.7% 2.9M seqs, 10.1% at phylum, 0.1% genus (P > 0.90)\r",
      "30:18 269Mb   71.8% 2.9M seqs, 10.1% at phylum, 0.1% genus (P > 0.90)\r",
      "30:19 269Mb   71.8% 2.9M seqs, 10.1% at phylum, 0.1% genus (P > 0.90)\r",
      "30:20 269Mb   71.8% 2.9M seqs, 10.1% at phylum, 0.1% genus (P > 0.90)\r",
      "30:21 269Mb   71.8% 2.9M seqs, 10.1% at phylum, 0.1% genus (P > 0.90)\r",
      "30:22 269Mb   71.9% 2.9M seqs, 10.1% at phylum, 0.1% genus (P > 0.90)\r",
      "30:23 269Mb   71.9% 2.9M seqs, 10.1% at phylum, 0.1% genus (P > 0.90)\r",
      "30:24 269Mb   71.9% 2.9M seqs, 10.1% at phylum, 0.1% genus (P > 0.90)\r",
      "30:25 269Mb   72.0% 2.9M seqs, 10.1% at phylum, 0.1% genus (P > 0.90)\r",
      "30:26 269Mb   72.0% 2.9M seqs, 10.1% at phylum, 0.1% genus (P > 0.90)\r",
      "30:27 269Mb   72.0% 2.9M seqs, 10.1% at phylum, 0.1% genus (P > 0.90)\r",
      "30:28 269Mb   72.1% 2.9M seqs, 10.1% at phylum, 0.1% genus (P > 0.90)\r",
      "30:29 269Mb   72.1% 2.9M seqs, 10.1% at phylum, 0.1% genus (P > 0.90)\r",
      "30:30 269Mb   72.2% 2.9M seqs, 10.1% at phylum, 0.1% genus (P > 0.90)\r",
      "30:31 269Mb   72.2% 2.9M seqs, 10.1% at phylum, 0.1% genus (P > 0.90)\r",
      "30:32 269Mb   72.3% 2.9M seqs, 10.1% at phylum, 0.1% genus (P > 0.90)\r",
      "30:33 269Mb   72.3% 2.9M seqs, 10.1% at phylum, 0.1% genus (P > 0.90)\r",
      "30:34 269Mb   72.4% 2.9M seqs, 10.1% at phylum, 0.1% genus (P > 0.90)\r",
      "30:35 269Mb   72.4% 2.9M seqs, 10.1% at phylum, 0.1% genus (P > 0.90)\r",
      "30:36 269Mb   72.5% 2.9M seqs, 10.1% at phylum, 0.1% genus (P > 0.90)\r",
      "30:37 269Mb   72.5% 2.9M seqs, 10.1% at phylum, 0.1% genus (P > 0.90)\r",
      "30:38 269Mb   72.5% 2.9M seqs, 10.1% at phylum, 0.1% genus (P > 0.90)\r",
      "30:39 269Mb   72.5% 2.9M seqs, 10.1% at phylum, 0.1% genus (P > 0.90)\r",
      "30:40 269Mb   72.6% 2.9M seqs, 10.1% at phylum, 0.1% genus (P > 0.90)\r",
      "30:41 269Mb   72.6% 2.9M seqs, 10.1% at phylum, 0.1% genus (P > 0.90)\r",
      "30:42 269Mb   72.7% 2.9M seqs, 10.1% at phylum, 0.1% genus (P > 0.90)\r",
      "30:43 269Mb   72.7% 2.9M seqs, 10.1% at phylum, 0.1% genus (P > 0.90)\r",
      "30:44 269Mb   72.8% 2.9M seqs, 10.1% at phylum, 0.1% genus (P > 0.90)\r",
      "30:45 269Mb   72.8% 2.9M seqs, 10.1% at phylum, 0.1% genus (P > 0.90)\r",
      "30:46 269Mb   72.8% 2.9M seqs, 10.1% at phylum, 0.1% genus (P > 0.90)\r",
      "30:47 269Mb   72.9% 2.9M seqs, 10.1% at phylum, 0.1% genus (P > 0.90)\r",
      "30:48 269Mb   72.9% 2.9M seqs, 10.1% at phylum, 0.1% genus (P > 0.90)\r",
      "30:49 269Mb   73.0% 2.9M seqs, 10.1% at phylum, 0.1% genus (P > 0.90)\r",
      "30:50 269Mb   73.0% 2.9M seqs, 10.1% at phylum, 0.1% genus (P > 0.90)\r",
      "30:51 269Mb   73.0% 2.9M seqs, 10.1% at phylum, 0.1% genus (P > 0.90)\r",
      "30:52 269Mb   73.0% 2.9M seqs, 10.1% at phylum, 0.1% genus (P > 0.90)\r",
      "30:53 269Mb   73.1% 2.9M seqs, 10.1% at phylum, 0.1% genus (P > 0.90)\r",
      "30:54 269Mb   73.1% 2.9M seqs, 10.1% at phylum, 0.1% genus (P > 0.90)\r",
      "30:55 269Mb   73.2% 2.9M seqs, 10.1% at phylum, 0.1% genus (P > 0.90)\r",
      "30:56 269Mb   73.2% 2.9M seqs, 10.1% at phylum, 0.1% genus (P > 0.90)\r",
      "30:57 269Mb   73.2% 2.9M seqs, 10.1% at phylum, 0.1% genus (P > 0.90)\r",
      "30:58 269Mb   73.3% 2.9M seqs, 10.1% at phylum, 0.1% genus (P > 0.90)\r",
      "30:59 269Mb   73.3% 2.9M seqs, 10.1% at phylum, 0.1% genus (P > 0.90)\r",
      "31:00 269Mb   73.4% 2.9M seqs, 10.1% at phylum, 0.1% genus (P > 0.90)\r",
      "31:01 269Mb   73.4% 3.0M seqs, 10.1% at phylum, 0.1% genus (P > 0.90)\r",
      "31:02 269Mb   73.5% 3.0M seqs, 10.1% at phylum, 0.1% genus (P > 0.90)\r",
      "31:03 269Mb   73.5% 3.0M seqs, 10.1% at phylum, 0.1% genus (P > 0.90)\r",
      "31:04 269Mb   73.6% 3.0M seqs, 10.1% at phylum, 0.1% genus (P > 0.90)\r",
      "31:05 269Mb   73.6% 3.0M seqs, 10.1% at phylum, 0.1% genus (P > 0.90)\r",
      "31:06 269Mb   73.6% 3.0M seqs, 10.1% at phylum, 0.1% genus (P > 0.90)\r",
      "31:07 269Mb   73.6% 3.0M seqs, 10.1% at phylum, 0.1% genus (P > 0.90)\r",
      "31:08 269Mb   73.6% 3.0M seqs, 10.1% at phylum, 0.1% genus (P > 0.90)\r",
      "31:09 269Mb   73.7% 3.0M seqs, 10.1% at phylum, 0.1% genus (P > 0.90)\r",
      "31:10 269Mb   73.7% 3.0M seqs, 10.1% at phylum, 0.1% genus (P > 0.90)\r",
      "31:11 269Mb   73.7% 3.0M seqs, 10.1% at phylum, 0.1% genus (P > 0.90)\r",
      "31:12 269Mb   73.7% 3.0M seqs, 10.1% at phylum, 0.1% genus (P > 0.90)\r",
      "31:13 269Mb   73.8% 3.0M seqs, 10.1% at phylum, 0.1% genus (P > 0.90)\r",
      "31:14 269Mb   73.8% 3.0M seqs, 10.1% at phylum, 0.1% genus (P > 0.90)\r",
      "31:15 269Mb   73.8% 3.0M seqs, 10.1% at phylum, 0.1% genus (P > 0.90)\r",
      "31:16 269Mb   73.9% 3.0M seqs, 10.1% at phylum, 0.1% genus (P > 0.90)\r",
      "31:17 269Mb   73.9% 3.0M seqs, 10.1% at phylum, 0.1% genus (P > 0.90)\r",
      "31:18 269Mb   74.0% 3.0M seqs, 10.1% at phylum, 0.1% genus (P > 0.90)\r",
      "31:19 269Mb   74.0% 3.0M seqs, 10.1% at phylum, 0.1% genus (P > 0.90)\r",
      "31:20 269Mb   74.1% 3.0M seqs, 10.1% at phylum, 0.1% genus (P > 0.90)\r",
      "31:21 269Mb   74.1% 3.0M seqs, 10.1% at phylum, 0.1% genus (P > 0.90)\r",
      "31:22 269Mb   74.1% 3.0M seqs, 10.1% at phylum, 0.1% genus (P > 0.90)\r",
      "31:23 269Mb   74.2% 3.0M seqs, 10.1% at phylum, 0.1% genus (P > 0.90)\r",
      "31:24 269Mb   74.2% 3.0M seqs, 10.1% at phylum, 0.1% genus (P > 0.90)\r",
      "31:25 269Mb   74.2% 3.0M seqs, 10.1% at phylum, 0.1% genus (P > 0.90)\r",
      "31:26 269Mb   74.3% 3.0M seqs, 10.1% at phylum, 0.1% genus (P > 0.90)\r",
      "31:27 269Mb   74.3% 3.0M seqs, 10.1% at phylum, 0.1% genus (P > 0.90)\r",
      "31:28 269Mb   74.4% 3.0M seqs, 10.1% at phylum, 0.1% genus (P > 0.90)\r",
      "31:29 269Mb   74.4% 3.0M seqs, 10.1% at phylum, 0.1% genus (P > 0.90)\r",
      "31:30 269Mb   74.5% 3.0M seqs, 10.1% at phylum, 0.1% genus (P > 0.90)\r",
      "31:31 269Mb   74.5% 3.0M seqs, 10.1% at phylum, 0.1% genus (P > 0.90)\r",
      "31:32 269Mb   74.5% 3.0M seqs, 10.1% at phylum, 0.1% genus (P > 0.90)\r",
      "31:33 269Mb   74.6% 3.0M seqs, 10.1% at phylum, 0.1% genus (P > 0.90)\r",
      "31:34 269Mb   74.6% 3.0M seqs, 10.1% at phylum, 0.1% genus (P > 0.90)\r",
      "31:35 269Mb   74.6% 3.0M seqs, 10.1% at phylum, 0.1% genus (P > 0.90)\r",
      "31:36 269Mb   74.6% 3.0M seqs, 10.1% at phylum, 0.1% genus (P > 0.90)\r",
      "31:37 269Mb   74.7% 3.0M seqs, 10.1% at phylum, 0.1% genus (P > 0.90)\r",
      "31:38 269Mb   74.7% 3.0M seqs, 10.1% at phylum, 0.1% genus (P > 0.90)\r",
      "31:39 269Mb   74.7% 3.0M seqs, 10.1% at phylum, 0.1% genus (P > 0.90)\r",
      "31:40 269Mb   74.7% 3.0M seqs, 10.1% at phylum, 0.1% genus (P > 0.90)\r",
      "31:41 269Mb   74.8% 3.0M seqs, 10.1% at phylum, 0.1% genus (P > 0.90)\r",
      "31:42 269Mb   74.8% 3.0M seqs, 10.1% at phylum, 0.1% genus (P > 0.90)\r",
      "31:43 269Mb   74.9% 3.0M seqs, 10.1% at phylum, 0.1% genus (P > 0.90)\r",
      "31:44 269Mb   74.9% 3.0M seqs, 10.1% at phylum, 0.1% genus (P > 0.90)\r",
      "31:45 269Mb   75.0% 3.0M seqs, 10.1% at phylum, 0.1% genus (P > 0.90)\r",
      "31:46 269Mb   75.0% 3.0M seqs, 10.1% at phylum, 0.1% genus (P > 0.90)\r",
      "31:47 269Mb   75.0% 3.0M seqs, 10.1% at phylum, 0.1% genus (P > 0.90)\r",
      "31:48 269Mb   75.1% 3.0M seqs, 10.1% at phylum, 0.1% genus (P > 0.90)\r",
      "31:49 269Mb   75.1% 3.0M seqs, 10.1% at phylum, 0.1% genus (P > 0.90)\r",
      "31:50 269Mb   75.2% 3.0M seqs, 10.1% at phylum, 0.1% genus (P > 0.90)\r",
      "31:51 269Mb   75.2% 3.0M seqs, 10.1% at phylum, 0.1% genus (P > 0.90)\r",
      "31:52 269Mb   75.3% 3.0M seqs, 10.1% at phylum, 0.1% genus (P > 0.90)\r",
      "31:53 269Mb   75.3% 3.0M seqs, 10.1% at phylum, 0.1% genus (P > 0.90)\r",
      "31:54 269Mb   75.4% 3.0M seqs, 10.1% at phylum, 0.1% genus (P > 0.90)\r",
      "31:55 269Mb   75.4% 3.0M seqs, 10.1% at phylum, 0.1% genus (P > 0.90)\r",
      "31:56 269Mb   75.5% 3.0M seqs, 10.1% at phylum, 0.1% genus (P > 0.90)\r",
      "31:57 269Mb   75.5% 3.0M seqs, 10.1% at phylum, 0.1% genus (P > 0.90)\r",
      "31:58 269Mb   75.6% 3.0M seqs, 10.1% at phylum, 0.1% genus (P > 0.90)\r",
      "31:59 269Mb   75.6% 3.0M seqs, 10.1% at phylum, 0.1% genus (P > 0.90)\r",
      "32:00 269Mb   75.6% 3.0M seqs, 10.1% at phylum, 0.1% genus (P > 0.90)\r",
      "32:01 269Mb   75.7% 3.0M seqs, 10.1% at phylum, 0.1% genus (P > 0.90)\r",
      "32:02 269Mb   75.7% 3.0M seqs, 10.1% at phylum, 0.1% genus (P > 0.90)\r",
      "32:03 269Mb   75.7% 3.0M seqs, 10.1% at phylum, 0.1% genus (P > 0.90)\r",
      "32:04 269Mb   75.7% 3.0M seqs, 10.1% at phylum, 0.1% genus (P > 0.90)\r",
      "32:05 269Mb   75.8% 3.0M seqs, 10.1% at phylum, 0.1% genus (P > 0.90)\r",
      "32:06 269Mb   75.8% 3.0M seqs, 10.1% at phylum, 0.1% genus (P > 0.90)\r",
      "32:07 269Mb   75.8% 3.0M seqs, 10.1% at phylum, 0.1% genus (P > 0.90)\r",
      "32:08 269Mb   75.8% 3.0M seqs, 10.1% at phylum, 0.1% genus (P > 0.90)\r",
      "32:09 269Mb   75.9% 3.0M seqs, 10.1% at phylum, 0.1% genus (P > 0.90)\r",
      "32:10 269Mb   75.9% 3.1M seqs, 10.1% at phylum, 0.1% genus (P > 0.90)\r",
      "32:11 269Mb   75.9% 3.1M seqs, 10.1% at phylum, 0.1% genus (P > 0.90)\r",
      "32:12 269Mb   76.0% 3.1M seqs, 10.1% at phylum, 0.1% genus (P > 0.90)\r",
      "32:13 269Mb   76.0% 3.1M seqs, 10.1% at phylum, 0.1% genus (P > 0.90)\r",
      "32:14 269Mb   76.1% 3.1M seqs, 10.1% at phylum, 0.1% genus (P > 0.90)\r",
      "32:15 269Mb   76.1% 3.1M seqs, 10.1% at phylum, 0.1% genus (P > 0.90)\r",
      "32:16 269Mb   76.1% 3.1M seqs, 10.1% at phylum, 0.1% genus (P > 0.90)\r",
      "32:17 269Mb   76.2% 3.1M seqs, 10.1% at phylum, 0.1% genus (P > 0.90)\r",
      "32:18 269Mb   76.2% 3.1M seqs, 10.1% at phylum, 0.1% genus (P > 0.90)\r",
      "32:19 269Mb   76.3% 3.1M seqs, 10.1% at phylum, 0.1% genus (P > 0.90)\r",
      "32:20 269Mb   76.3% 3.1M seqs, 10.1% at phylum, 0.1% genus (P > 0.90)\r",
      "32:21 269Mb   76.3% 3.1M seqs, 10.1% at phylum, 0.1% genus (P > 0.90)\r",
      "32:22 269Mb   76.4% 3.1M seqs, 10.1% at phylum, 0.1% genus (P > 0.90)\r",
      "32:23 269Mb   76.4% 3.1M seqs, 10.1% at phylum, 0.1% genus (P > 0.90)\r",
      "32:24 269Mb   76.5% 3.1M seqs, 10.1% at phylum, 0.1% genus (P > 0.90)\r",
      "32:25 269Mb   76.5% 3.1M seqs, 10.1% at phylum, 0.1% genus (P > 0.90)\r",
      "32:26 269Mb   76.6% 3.1M seqs, 10.1% at phylum, 0.1% genus (P > 0.90)\r",
      "32:27 269Mb   76.6% 3.1M seqs, 10.1% at phylum, 0.1% genus (P > 0.90)\r",
      "32:28 269Mb   76.6% 3.1M seqs, 10.1% at phylum, 0.1% genus (P > 0.90)\r",
      "32:29 269Mb   76.7% 3.1M seqs, 10.1% at phylum, 0.1% genus (P > 0.90)\r",
      "32:30 269Mb   76.7% 3.1M seqs, 10.1% at phylum, 0.1% genus (P > 0.90)\r",
      "32:31 269Mb   76.8% 3.1M seqs, 10.1% at phylum, 0.1% genus (P > 0.90)\r",
      "32:32 269Mb   76.8% 3.1M seqs, 10.1% at phylum, 0.1% genus (P > 0.90)\r",
      "32:33 269Mb   76.9% 3.1M seqs, 10.1% at phylum, 0.1% genus (P > 0.90)\r",
      "32:34 269Mb   76.9% 3.1M seqs, 10.1% at phylum, 0.1% genus (P > 0.90)\r",
      "32:35 269Mb   76.9% 3.1M seqs, 10.1% at phylum, 0.1% genus (P > 0.90)\r",
      "32:36 269Mb   77.0% 3.1M seqs, 10.1% at phylum, 0.1% genus (P > 0.90)\r",
      "32:37 269Mb   77.0% 3.1M seqs, 10.1% at phylum, 0.1% genus (P > 0.90)\r",
      "32:38 269Mb   77.0% 3.1M seqs, 10.1% at phylum, 0.1% genus (P > 0.90)\r",
      "32:39 269Mb   77.0% 3.1M seqs, 10.1% at phylum, 0.1% genus (P > 0.90)\r",
      "32:40 269Mb   77.1% 3.1M seqs, 10.1% at phylum, 0.1% genus (P > 0.90)\r",
      "32:41 269Mb   77.1% 3.1M seqs, 10.1% at phylum, 0.1% genus (P > 0.90)\r",
      "32:42 269Mb   77.1% 3.1M seqs, 10.1% at phylum, 0.1% genus (P > 0.90)\r",
      "32:43 269Mb   77.1% 3.1M seqs, 10.1% at phylum, 0.1% genus (P > 0.90)\r",
      "32:44 269Mb   77.2% 3.1M seqs, 10.1% at phylum, 0.1% genus (P > 0.90)\r",
      "32:45 269Mb   77.2% 3.1M seqs, 10.1% at phylum, 0.1% genus (P > 0.90)\r",
      "32:46 269Mb   77.2% 3.1M seqs, 10.1% at phylum, 0.1% genus (P > 0.90)\r",
      "32:47 269Mb   77.3% 3.1M seqs, 10.1% at phylum, 0.1% genus (P > 0.90)\r",
      "32:48 269Mb   77.3% 3.1M seqs, 10.1% at phylum, 0.1% genus (P > 0.90)\r",
      "32:49 269Mb   77.4% 3.1M seqs, 10.1% at phylum, 0.1% genus (P > 0.90)\r",
      "32:50 269Mb   77.4% 3.1M seqs, 10.1% at phylum, 0.1% genus (P > 0.90)\r",
      "32:51 269Mb   77.5% 3.1M seqs, 10.1% at phylum, 0.1% genus (P > 0.90)\r",
      "32:52 269Mb   77.5% 3.1M seqs, 10.1% at phylum, 0.1% genus (P > 0.90)\r",
      "32:53 269Mb   77.5% 3.1M seqs, 10.1% at phylum, 0.1% genus (P > 0.90)\r",
      "32:54 269Mb   77.6% 3.1M seqs, 10.1% at phylum, 0.1% genus (P > 0.90)\r",
      "32:55 269Mb   77.6% 3.1M seqs, 10.1% at phylum, 0.1% genus (P > 0.90)\r",
      "32:56 269Mb   77.7% 3.1M seqs, 10.1% at phylum, 0.1% genus (P > 0.90)\r",
      "32:57 269Mb   77.7% 3.1M seqs, 10.1% at phylum, 0.1% genus (P > 0.90)\r",
      "32:58 269Mb   77.8% 3.1M seqs, 10.1% at phylum, 0.1% genus (P > 0.90)\r",
      "32:59 269Mb   77.8% 3.1M seqs, 10.1% at phylum, 0.1% genus (P > 0.90)\r",
      "33:00 269Mb   77.8% 3.1M seqs, 10.1% at phylum, 0.1% genus (P > 0.90)\r",
      "33:01 269Mb   77.9% 3.1M seqs, 10.1% at phylum, 0.1% genus (P > 0.90)\r",
      "33:02 269Mb   77.9% 3.1M seqs, 10.1% at phylum, 0.1% genus (P > 0.90)\r",
      "33:03 269Mb   78.0% 3.1M seqs, 10.1% at phylum, 0.1% genus (P > 0.90)\r",
      "33:04 269Mb   78.0% 3.1M seqs, 10.1% at phylum, 0.1% genus (P > 0.90)\r",
      "33:05 269Mb   78.0% 3.1M seqs, 10.1% at phylum, 0.1% genus (P > 0.90)\r",
      "33:06 269Mb   78.0% 3.1M seqs, 10.1% at phylum, 0.1% genus (P > 0.90)\r",
      "33:07 269Mb   78.1% 3.1M seqs, 10.1% at phylum, 0.1% genus (P > 0.90)\r",
      "33:08 269Mb   78.1% 3.1M seqs, 10.1% at phylum, 0.1% genus (P > 0.90)\r",
      "33:09 269Mb   78.1% 3.1M seqs, 10.1% at phylum, 0.1% genus (P > 0.90)\r",
      "33:10 269Mb   78.1% 3.1M seqs, 10.1% at phylum, 0.1% genus (P > 0.90)\r",
      "33:11 269Mb   78.2% 3.1M seqs, 10.1% at phylum, 0.1% genus (P > 0.90)\r",
      "33:12 269Mb   78.2% 3.1M seqs, 10.1% at phylum, 0.1% genus (P > 0.90)\r",
      "33:13 269Mb   78.2% 3.1M seqs, 10.1% at phylum, 0.1% genus (P > 0.90)\r",
      "33:14 269Mb   78.3% 3.1M seqs, 10.1% at phylum, 0.1% genus (P > 0.90)\r",
      "33:15 269Mb   78.3% 3.1M seqs, 10.1% at phylum, 0.1% genus (P > 0.90)\r",
      "33:16 269Mb   78.4% 3.1M seqs, 10.1% at phylum, 0.1% genus (P > 0.90)\r",
      "33:17 269Mb   78.4% 3.2M seqs, 10.1% at phylum, 0.1% genus (P > 0.90)\r",
      "33:18 269Mb   78.4% 3.2M seqs, 10.1% at phylum, 0.1% genus (P > 0.90)\r",
      "33:19 269Mb   78.5% 3.2M seqs, 10.1% at phylum, 0.1% genus (P > 0.90)\r",
      "33:20 269Mb   78.5% 3.2M seqs, 10.1% at phylum, 0.1% genus (P > 0.90)\r",
      "33:21 269Mb   78.6% 3.2M seqs, 10.1% at phylum, 0.1% genus (P > 0.90)\r",
      "33:22 269Mb   78.6% 3.2M seqs, 10.1% at phylum, 0.1% genus (P > 0.90)\r",
      "33:23 269Mb   78.7% 3.2M seqs, 10.1% at phylum, 0.1% genus (P > 0.90)\r",
      "33:24 269Mb   78.7% 3.2M seqs, 10.1% at phylum, 0.1% genus (P > 0.90)\r",
      "33:25 269Mb   78.8% 3.2M seqs, 10.1% at phylum, 0.1% genus (P > 0.90)\r",
      "33:26 269Mb   78.8% 3.2M seqs, 10.1% at phylum, 0.1% genus (P > 0.90)\r",
      "33:27 269Mb   78.8% 3.2M seqs, 10.1% at phylum, 0.1% genus (P > 0.90)\r",
      "33:28 269Mb   78.9% 3.2M seqs, 10.1% at phylum, 0.1% genus (P > 0.90)\r",
      "33:29 269Mb   78.9% 3.2M seqs, 10.1% at phylum, 0.1% genus (P > 0.90)\r",
      "33:30 269Mb   79.0% 3.2M seqs, 10.1% at phylum, 0.1% genus (P > 0.90)\r",
      "33:31 269Mb   79.0% 3.2M seqs, 10.1% at phylum, 0.1% genus (P > 0.90)\r",
      "33:32 269Mb   79.1% 3.2M seqs, 10.1% at phylum, 0.1% genus (P > 0.90)\r",
      "33:33 269Mb   79.1% 3.2M seqs, 10.1% at phylum, 0.1% genus (P > 0.90)\r",
      "33:34 269Mb   79.1% 3.2M seqs, 10.1% at phylum, 0.1% genus (P > 0.90)\r",
      "33:35 269Mb   79.1% 3.2M seqs, 10.1% at phylum, 0.1% genus (P > 0.90)\r",
      "33:36 269Mb   79.2% 3.2M seqs, 10.1% at phylum, 0.1% genus (P > 0.90)\r",
      "33:37 269Mb   79.2% 3.2M seqs, 10.1% at phylum, 0.1% genus (P > 0.90)\r",
      "33:38 269Mb   79.2% 3.2M seqs, 10.1% at phylum, 0.1% genus (P > 0.90)\r",
      "33:39 269Mb   79.2% 3.2M seqs, 10.1% at phylum, 0.1% genus (P > 0.90)\r",
      "33:40 269Mb   79.2% 3.2M seqs, 10.1% at phylum, 0.1% genus (P > 0.90)\r",
      "33:41 269Mb   79.3% 3.2M seqs, 10.1% at phylum, 0.1% genus (P > 0.90)\r",
      "33:42 269Mb   79.3% 3.2M seqs, 10.1% at phylum, 0.1% genus (P > 0.90)\r",
      "33:43 269Mb   79.4% 3.2M seqs, 10.1% at phylum, 0.1% genus (P > 0.90)\r",
      "33:44 269Mb   79.4% 3.2M seqs, 10.1% at phylum, 0.1% genus (P > 0.90)\r",
      "33:45 269Mb   79.4% 3.2M seqs, 10.1% at phylum, 0.1% genus (P > 0.90)\r",
      "33:46 269Mb   79.5% 3.2M seqs, 10.1% at phylum, 0.1% genus (P > 0.90)\r",
      "33:47 269Mb   79.5% 3.2M seqs, 10.0% at phylum, 0.1% genus (P > 0.90)\r",
      "33:48 269Mb   79.6% 3.2M seqs, 10.0% at phylum, 0.1% genus (P > 0.90)\r",
      "33:49 269Mb   79.6% 3.2M seqs, 10.0% at phylum, 0.1% genus (P > 0.90)\r",
      "33:50 269Mb   79.7% 3.2M seqs, 10.0% at phylum, 0.1% genus (P > 0.90)\r",
      "33:51 269Mb   79.7% 3.2M seqs, 10.0% at phylum, 0.1% genus (P > 0.90)\r",
      "33:52 269Mb   79.7% 3.2M seqs, 10.0% at phylum, 0.1% genus (P > 0.90)\r",
      "33:53 269Mb   79.8% 3.2M seqs, 10.0% at phylum, 0.1% genus (P > 0.90)\r",
      "33:54 269Mb   79.8% 3.2M seqs, 10.1% at phylum, 0.1% genus (P > 0.90)\r",
      "33:55 269Mb   79.9% 3.2M seqs, 10.1% at phylum, 0.1% genus (P > 0.90)\r",
      "33:56 269Mb   79.9% 3.2M seqs, 10.1% at phylum, 0.1% genus (P > 0.90)\r",
      "33:57 269Mb   80.0% 3.2M seqs, 10.0% at phylum, 0.1% genus (P > 0.90)\r",
      "33:58 269Mb   80.0% 3.2M seqs, 10.0% at phylum, 0.1% genus (P > 0.90)\r",
      "33:59 269Mb   80.0% 3.2M seqs, 10.0% at phylum, 0.1% genus (P > 0.90)\r",
      "34:00 269Mb   80.1% 3.2M seqs, 10.0% at phylum, 0.1% genus (P > 0.90)\r",
      "34:01 269Mb   80.1% 3.2M seqs, 10.0% at phylum, 0.1% genus (P > 0.90)\r",
      "34:02 269Mb   80.1% 3.2M seqs, 10.0% at phylum, 0.1% genus (P > 0.90)\r",
      "34:03 269Mb   80.1% 3.2M seqs, 10.0% at phylum, 0.1% genus (P > 0.90)\r",
      "34:04 269Mb   80.2% 3.2M seqs, 10.0% at phylum, 0.1% genus (P > 0.90)\r",
      "34:05 269Mb   80.2% 3.2M seqs, 10.0% at phylum, 0.1% genus (P > 0.90)\r",
      "34:06 269Mb   80.2% 3.2M seqs, 10.0% at phylum, 0.1% genus (P > 0.90)\r",
      "34:07 269Mb   80.2% 3.2M seqs, 10.0% at phylum, 0.1% genus (P > 0.90)\r",
      "34:08 269Mb   80.3% 3.2M seqs, 10.0% at phylum, 0.1% genus (P > 0.90)\r",
      "34:09 269Mb   80.3% 3.2M seqs, 10.0% at phylum, 0.1% genus (P > 0.90)\r",
      "34:10 269Mb   80.3% 3.2M seqs, 10.0% at phylum, 0.1% genus (P > 0.90)\r",
      "34:11 269Mb   80.4% 3.2M seqs, 10.0% at phylum, 0.1% genus (P > 0.90)\r",
      "34:12 269Mb   80.4% 3.2M seqs, 10.1% at phylum, 0.1% genus (P > 0.90)\r",
      "34:13 269Mb   80.5% 3.2M seqs, 10.0% at phylum, 0.1% genus (P > 0.90)\r",
      "34:14 269Mb   80.5% 3.2M seqs, 10.0% at phylum, 0.1% genus (P > 0.90)\r",
      "34:15 269Mb   80.6% 3.2M seqs, 10.0% at phylum, 0.1% genus (P > 0.90)\r",
      "34:16 269Mb   80.6% 3.2M seqs, 10.0% at phylum, 0.1% genus (P > 0.90)\r",
      "34:17 269Mb   80.7% 3.2M seqs, 10.0% at phylum, 0.1% genus (P > 0.90)\r",
      "34:18 269Mb   80.7% 3.2M seqs, 10.0% at phylum, 0.1% genus (P > 0.90)\r",
      "34:19 269Mb   80.8% 3.2M seqs, 10.0% at phylum, 0.1% genus (P > 0.90)\r",
      "34:20 269Mb   80.8% 3.2M seqs, 10.0% at phylum, 0.1% genus (P > 0.90)\r",
      "34:21 269Mb   80.8% 3.2M seqs, 10.0% at phylum, 0.1% genus (P > 0.90)\r",
      "34:22 269Mb   80.8% 3.2M seqs, 10.0% at phylum, 0.1% genus (P > 0.90)\r",
      "34:23 269Mb   80.9% 3.3M seqs, 10.0% at phylum, 0.1% genus (P > 0.90)\r",
      "34:24 269Mb   80.9% 3.3M seqs, 10.1% at phylum, 0.1% genus (P > 0.90)\r",
      "34:25 269Mb   80.9% 3.3M seqs, 10.1% at phylum, 0.1% genus (P > 0.90)\r",
      "34:26 269Mb   80.9% 3.3M seqs, 10.1% at phylum, 0.1% genus (P > 0.90)\r",
      "34:27 269Mb   81.0% 3.3M seqs, 10.1% at phylum, 0.1% genus (P > 0.90)\r",
      "34:28 269Mb   81.0% 3.3M seqs, 10.1% at phylum, 0.1% genus (P > 0.90)\r",
      "34:29 269Mb   81.0% 3.3M seqs, 10.1% at phylum, 0.1% genus (P > 0.90)\r",
      "34:30 269Mb   81.1% 3.3M seqs, 10.1% at phylum, 0.1% genus (P > 0.90)\r",
      "34:31 269Mb   81.1% 3.3M seqs, 10.1% at phylum, 0.1% genus (P > 0.90)\r",
      "34:32 269Mb   81.2% 3.3M seqs, 10.1% at phylum, 0.1% genus (P > 0.90)\r",
      "34:33 269Mb   81.2% 3.3M seqs, 10.1% at phylum, 0.1% genus (P > 0.90)\r",
      "34:34 269Mb   81.3% 3.3M seqs, 10.1% at phylum, 0.1% genus (P > 0.90)\r",
      "34:35 269Mb   81.3% 3.3M seqs, 10.1% at phylum, 0.1% genus (P > 0.90)\r",
      "34:36 269Mb   81.4% 3.3M seqs, 10.1% at phylum, 0.1% genus (P > 0.90)\r",
      "34:37 269Mb   81.4% 3.3M seqs, 10.1% at phylum, 0.1% genus (P > 0.90)\r",
      "34:38 269Mb   81.5% 3.3M seqs, 10.1% at phylum, 0.1% genus (P > 0.90)\r",
      "34:39 269Mb   81.5% 3.3M seqs, 10.1% at phylum, 0.1% genus (P > 0.90)\r",
      "34:40 269Mb   81.5% 3.3M seqs, 10.1% at phylum, 0.1% genus (P > 0.90)\r",
      "34:41 269Mb   81.6% 3.3M seqs, 10.1% at phylum, 0.1% genus (P > 0.90)\r",
      "34:42 269Mb   81.6% 3.3M seqs, 10.1% at phylum, 0.1% genus (P > 0.90)\r",
      "34:43 269Mb   81.7% 3.3M seqs, 10.1% at phylum, 0.1% genus (P > 0.90)\r",
      "34:44 269Mb   81.7% 3.3M seqs, 10.1% at phylum, 0.1% genus (P > 0.90)\r",
      "34:45 269Mb   81.7% 3.3M seqs, 10.1% at phylum, 0.1% genus (P > 0.90)\r",
      "34:46 269Mb   81.8% 3.3M seqs, 10.1% at phylum, 0.1% genus (P > 0.90)\r",
      "34:47 269Mb   81.8% 3.3M seqs, 10.1% at phylum, 0.1% genus (P > 0.90)\r",
      "34:48 269Mb   81.9% 3.3M seqs, 10.0% at phylum, 0.1% genus (P > 0.90)\r",
      "34:49 269Mb   81.9% 3.3M seqs, 10.0% at phylum, 0.1% genus (P > 0.90)\r",
      "34:50 269Mb   81.9% 3.3M seqs, 10.0% at phylum, 0.1% genus (P > 0.90)\r",
      "34:51 269Mb   81.9% 3.3M seqs, 10.0% at phylum, 0.1% genus (P > 0.90)\r",
      "34:52 269Mb   81.9% 3.3M seqs, 10.0% at phylum, 0.1% genus (P > 0.90)\r",
      "34:53 269Mb   82.0% 3.3M seqs, 10.0% at phylum, 0.1% genus (P > 0.90)\r",
      "34:54 269Mb   82.0% 3.3M seqs, 10.0% at phylum, 0.1% genus (P > 0.90)\r",
      "34:55 269Mb   82.0% 3.3M seqs, 10.0% at phylum, 0.1% genus (P > 0.90)\r",
      "34:56 269Mb   82.0% 3.3M seqs, 10.0% at phylum, 0.1% genus (P > 0.90)\r",
      "34:57 269Mb   82.1% 3.3M seqs, 10.0% at phylum, 0.1% genus (P > 0.90)\r",
      "34:58 269Mb   82.1% 3.3M seqs, 10.0% at phylum, 0.1% genus (P > 0.90)\r",
      "34:59 269Mb   82.2% 3.3M seqs, 10.0% at phylum, 0.1% genus (P > 0.90)\r",
      "35:00 269Mb   82.2% 3.3M seqs, 10.0% at phylum, 0.1% genus (P > 0.90)\r",
      "35:01 269Mb   82.2% 3.3M seqs, 10.0% at phylum, 0.1% genus (P > 0.90)\r",
      "35:02 269Mb   82.3% 3.3M seqs, 10.0% at phylum, 0.1% genus (P > 0.90)\r",
      "35:03 269Mb   82.3% 3.3M seqs, 10.0% at phylum, 0.1% genus (P > 0.90)\r",
      "35:04 269Mb   82.4% 3.3M seqs, 10.0% at phylum, 0.1% genus (P > 0.90)\r",
      "35:05 269Mb   82.4% 3.3M seqs, 10.0% at phylum, 0.1% genus (P > 0.90)\r",
      "35:06 269Mb   82.4% 3.3M seqs, 10.0% at phylum, 0.1% genus (P > 0.90)\r",
      "35:07 269Mb   82.5% 3.3M seqs, 10.0% at phylum, 0.1% genus (P > 0.90)\r",
      "35:08 269Mb   82.5% 3.3M seqs, 10.0% at phylum, 0.1% genus (P > 0.90)\r",
      "35:09 269Mb   82.6% 3.3M seqs, 10.0% at phylum, 0.1% genus (P > 0.90)\r",
      "35:10 269Mb   82.6% 3.3M seqs, 10.0% at phylum, 0.1% genus (P > 0.90)\r",
      "35:11 269Mb   82.7% 3.3M seqs, 10.0% at phylum, 0.1% genus (P > 0.90)\r",
      "35:12 269Mb   82.7% 3.3M seqs, 10.0% at phylum, 0.1% genus (P > 0.90)\r",
      "35:13 269Mb   82.7% 3.3M seqs, 10.0% at phylum, 0.1% genus (P > 0.90)\r",
      "35:14 269Mb   82.8% 3.3M seqs, 10.0% at phylum, 0.1% genus (P > 0.90)\r",
      "35:15 269Mb   82.8% 3.3M seqs, 10.0% at phylum, 0.1% genus (P > 0.90)\r",
      "35:16 269Mb   82.9% 3.3M seqs, 10.0% at phylum, 0.1% genus (P > 0.90)\r",
      "35:17 269Mb   82.9% 3.3M seqs, 10.0% at phylum, 0.1% genus (P > 0.90)\r",
      "35:18 269Mb   82.9% 3.3M seqs, 10.0% at phylum, 0.1% genus (P > 0.90)\r",
      "35:19 269Mb   83.0% 3.3M seqs, 10.0% at phylum, 0.1% genus (P > 0.90)\r",
      "35:20 269Mb   83.0% 3.3M seqs, 10.0% at phylum, 0.1% genus (P > 0.90)\r",
      "35:21 269Mb   83.1% 3.3M seqs, 10.0% at phylum, 0.1% genus (P > 0.90)\r",
      "35:22 269Mb   83.1% 3.3M seqs, 10.0% at phylum, 0.1% genus (P > 0.90)\r",
      "35:23 269Mb   83.1% 3.3M seqs, 10.0% at phylum, 0.1% genus (P > 0.90)\r",
      "35:24 269Mb   83.2% 3.3M seqs, 10.0% at phylum, 0.1% genus (P > 0.90)\r",
      "35:25 269Mb   83.2% 3.3M seqs, 10.0% at phylum, 0.1% genus (P > 0.90)\r",
      "35:26 269Mb   83.3% 3.3M seqs, 10.0% at phylum, 0.1% genus (P > 0.90)\r",
      "35:27 269Mb   83.3% 3.3M seqs, 10.0% at phylum, 0.1% genus (P > 0.90)\r",
      "35:28 269Mb   83.4% 3.4M seqs, 10.0% at phylum, 0.1% genus (P > 0.90)\r",
      "35:29 269Mb   83.4% 3.4M seqs, 10.0% at phylum, 0.1% genus (P > 0.90)\r",
      "35:30 269Mb   83.4% 3.4M seqs, 10.0% at phylum, 0.1% genus (P > 0.90)\r",
      "35:31 269Mb   83.5% 3.4M seqs, 10.0% at phylum, 0.1% genus (P > 0.90)\r",
      "35:32 269Mb   83.5% 3.4M seqs, 10.0% at phylum, 0.1% genus (P > 0.90)\r",
      "35:33 269Mb   83.6% 3.4M seqs, 10.0% at phylum, 0.1% genus (P > 0.90)\r",
      "35:34 269Mb   83.6% 3.4M seqs, 10.0% at phylum, 0.1% genus (P > 0.90)\r",
      "35:35 269Mb   83.6% 3.4M seqs, 10.0% at phylum, 0.1% genus (P > 0.90)\r",
      "35:36 269Mb   83.6% 3.4M seqs, 10.0% at phylum, 0.1% genus (P > 0.90)\r",
      "35:37 269Mb   83.6% 3.4M seqs, 10.0% at phylum, 0.1% genus (P > 0.90)\r",
      "35:38 269Mb   83.7% 3.4M seqs, 10.0% at phylum, 0.1% genus (P > 0.90)\r",
      "35:39 269Mb   83.7% 3.4M seqs, 10.0% at phylum, 0.1% genus (P > 0.90)\r",
      "35:40 269Mb   83.7% 3.4M seqs, 10.0% at phylum, 0.1% genus (P > 0.90)\r",
      "35:41 269Mb   83.8% 3.4M seqs, 10.0% at phylum, 0.1% genus (P > 0.90)\r",
      "35:42 269Mb   83.8% 3.4M seqs, 10.0% at phylum, 0.1% genus (P > 0.90)\r",
      "35:43 269Mb   83.8% 3.4M seqs, 10.0% at phylum, 0.1% genus (P > 0.90)\r",
      "35:44 269Mb   83.9% 3.4M seqs, 10.0% at phylum, 0.1% genus (P > 0.90)\r",
      "35:45 269Mb   83.9% 3.4M seqs, 10.0% at phylum, 0.1% genus (P > 0.90)\r",
      "35:46 269Mb   84.0% 3.4M seqs, 10.0% at phylum, 0.1% genus (P > 0.90)\r",
      "35:47 269Mb   84.0% 3.4M seqs, 10.0% at phylum, 0.1% genus (P > 0.90)\r",
      "35:48 269Mb   84.0% 3.4M seqs, 10.0% at phylum, 0.1% genus (P > 0.90)\r",
      "35:49 269Mb   84.1% 3.4M seqs, 10.0% at phylum, 0.1% genus (P > 0.90)\r",
      "35:50 269Mb   84.1% 3.4M seqs, 10.0% at phylum, 0.1% genus (P > 0.90)\r",
      "35:51 269Mb   84.1% 3.4M seqs, 10.0% at phylum, 0.1% genus (P > 0.90)\r",
      "35:52 269Mb   84.2% 3.4M seqs, 10.0% at phylum, 0.1% genus (P > 0.90)\r",
      "35:53 269Mb   84.2% 3.4M seqs, 10.0% at phylum, 0.1% genus (P > 0.90)\r",
      "35:54 269Mb   84.3% 3.4M seqs, 10.0% at phylum, 0.1% genus (P > 0.90)\r",
      "35:55 269Mb   84.3% 3.4M seqs, 10.0% at phylum, 0.1% genus (P > 0.90)\r",
      "35:56 269Mb   84.4% 3.4M seqs, 10.0% at phylum, 0.1% genus (P > 0.90)\r",
      "35:57 269Mb   84.4% 3.4M seqs, 10.0% at phylum, 0.1% genus (P > 0.90)\r",
      "35:58 269Mb   84.4% 3.4M seqs, 10.0% at phylum, 0.1% genus (P > 0.90)\r",
      "35:59 269Mb   84.5% 3.4M seqs, 10.0% at phylum, 0.1% genus (P > 0.90)\r",
      "36:00 269Mb   84.5% 3.4M seqs, 10.0% at phylum, 0.1% genus (P > 0.90)\r",
      "36:01 269Mb   84.5% 3.4M seqs, 10.0% at phylum, 0.1% genus (P > 0.90)\r",
      "36:02 269Mb   84.6% 3.4M seqs, 10.0% at phylum, 0.1% genus (P > 0.90)\r",
      "36:03 269Mb   84.6% 3.4M seqs, 10.0% at phylum, 0.1% genus (P > 0.90)\r",
      "36:04 269Mb   84.6% 3.4M seqs, 10.0% at phylum, 0.1% genus (P > 0.90)\r",
      "36:05 269Mb   84.6% 3.4M seqs, 10.0% at phylum, 0.1% genus (P > 0.90)\r",
      "36:06 269Mb   84.7% 3.4M seqs, 10.0% at phylum, 0.1% genus (P > 0.90)\r",
      "36:07 269Mb   84.7% 3.4M seqs, 10.0% at phylum, 0.1% genus (P > 0.90)\r",
      "36:08 269Mb   84.7% 3.4M seqs, 10.0% at phylum, 0.1% genus (P > 0.90)\r",
      "36:09 269Mb   84.7% 3.4M seqs, 10.0% at phylum, 0.1% genus (P > 0.90)\r",
      "36:10 269Mb   84.8% 3.4M seqs, 10.0% at phylum, 0.1% genus (P > 0.90)\r",
      "36:11 269Mb   84.8% 3.4M seqs, 10.0% at phylum, 0.1% genus (P > 0.90)\r",
      "36:12 269Mb   84.9% 3.4M seqs, 10.0% at phylum, 0.1% genus (P > 0.90)\r",
      "36:13 269Mb   84.9% 3.4M seqs, 10.0% at phylum, 0.1% genus (P > 0.90)\r",
      "36:14 269Mb   84.9% 3.4M seqs, 10.0% at phylum, 0.1% genus (P > 0.90)\r",
      "36:15 269Mb   85.0% 3.4M seqs, 10.0% at phylum, 0.1% genus (P > 0.90)\r",
      "36:16 269Mb   85.0% 3.4M seqs, 10.0% at phylum, 0.1% genus (P > 0.90)\r",
      "36:17 269Mb   85.1% 3.4M seqs, 10.0% at phylum, 0.1% genus (P > 0.90)\r",
      "36:18 269Mb   85.1% 3.4M seqs, 10.0% at phylum, 0.1% genus (P > 0.90)\r",
      "36:19 269Mb   85.1% 3.4M seqs, 10.0% at phylum, 0.1% genus (P > 0.90)\r",
      "36:20 269Mb   85.2% 3.4M seqs, 10.0% at phylum, 0.1% genus (P > 0.90)\r",
      "36:21 269Mb   85.2% 3.4M seqs, 10.0% at phylum, 0.1% genus (P > 0.90)\r",
      "36:22 269Mb   85.2% 3.4M seqs, 10.0% at phylum, 0.1% genus (P > 0.90)\r",
      "36:23 269Mb   85.3% 3.4M seqs, 10.0% at phylum, 0.1% genus (P > 0.90)\r",
      "36:24 269Mb   85.3% 3.4M seqs, 10.0% at phylum, 0.1% genus (P > 0.90)\r",
      "36:25 269Mb   85.3% 3.4M seqs, 10.0% at phylum, 0.1% genus (P > 0.90)\r",
      "36:26 269Mb   85.3% 3.4M seqs, 10.0% at phylum, 0.1% genus (P > 0.90)\r",
      "36:27 269Mb   85.4% 3.4M seqs, 10.0% at phylum, 0.1% genus (P > 0.90)\r",
      "36:28 269Mb   85.4% 3.4M seqs, 10.0% at phylum, 0.1% genus (P > 0.90)\r",
      "36:29 269Mb   85.4% 3.4M seqs, 10.0% at phylum, 0.1% genus (P > 0.90)\r",
      "36:30 269Mb   85.4% 3.4M seqs, 10.0% at phylum, 0.1% genus (P > 0.90)\r",
      "36:31 269Mb   85.5% 3.4M seqs, 10.0% at phylum, 0.1% genus (P > 0.90)\r",
      "36:32 269Mb   85.5% 3.4M seqs, 10.0% at phylum, 0.1% genus (P > 0.90)\r",
      "36:33 269Mb   85.6% 3.4M seqs, 10.0% at phylum, 0.1% genus (P > 0.90)\r",
      "36:34 269Mb   85.6% 3.4M seqs, 10.0% at phylum, 0.1% genus (P > 0.90)\r",
      "36:35 269Mb   85.6% 3.4M seqs, 10.0% at phylum, 0.1% genus (P > 0.90)\r",
      "36:36 269Mb   85.7% 3.4M seqs, 10.0% at phylum, 0.1% genus (P > 0.90)\r",
      "36:37 269Mb   85.7% 3.4M seqs, 10.0% at phylum, 0.1% genus (P > 0.90)\r",
      "36:38 269Mb   85.8% 3.4M seqs, 10.0% at phylum, 0.1% genus (P > 0.90)\r",
      "36:39 269Mb   85.8% 3.4M seqs, 10.0% at phylum, 0.1% genus (P > 0.90)\r",
      "36:40 269Mb   85.8% 3.5M seqs, 10.0% at phylum, 0.1% genus (P > 0.90)\r",
      "36:41 269Mb   85.9% 3.5M seqs, 10.0% at phylum, 0.1% genus (P > 0.90)\r",
      "36:42 269Mb   85.9% 3.5M seqs, 10.0% at phylum, 0.1% genus (P > 0.90)\r",
      "36:43 269Mb   86.0% 3.5M seqs, 10.0% at phylum, 0.1% genus (P > 0.90)\r",
      "36:44 269Mb   86.0% 3.5M seqs, 10.0% at phylum, 0.1% genus (P > 0.90)\r",
      "36:45 269Mb   86.1% 3.5M seqs, 10.0% at phylum, 0.1% genus (P > 0.90)\r",
      "36:46 269Mb   86.1% 3.5M seqs, 10.0% at phylum, 0.1% genus (P > 0.90)\r",
      "36:47 269Mb   86.1% 3.5M seqs, 10.0% at phylum, 0.1% genus (P > 0.90)\r",
      "36:48 269Mb   86.2% 3.5M seqs, 10.0% at phylum, 0.1% genus (P > 0.90)\r",
      "36:49 269Mb   86.2% 3.5M seqs, 10.0% at phylum, 0.1% genus (P > 0.90)\r",
      "36:50 269Mb   86.2% 3.5M seqs, 10.0% at phylum, 0.1% genus (P > 0.90)\r",
      "36:51 269Mb   86.2% 3.5M seqs, 10.0% at phylum, 0.1% genus (P > 0.90)\r",
      "36:52 269Mb   86.3% 3.5M seqs, 10.0% at phylum, 0.1% genus (P > 0.90)\r",
      "36:53 269Mb   86.3% 3.5M seqs, 10.0% at phylum, 0.1% genus (P > 0.90)\r",
      "36:54 269Mb   86.3% 3.5M seqs, 10.0% at phylum, 0.1% genus (P > 0.90)\r",
      "36:55 269Mb   86.3% 3.5M seqs, 10.0% at phylum, 0.1% genus (P > 0.90)\r",
      "36:56 269Mb   86.4% 3.5M seqs, 10.0% at phylum, 0.1% genus (P > 0.90)\r",
      "36:57 269Mb   86.4% 3.5M seqs, 10.0% at phylum, 0.1% genus (P > 0.90)\r",
      "36:58 269Mb   86.4% 3.5M seqs, 10.0% at phylum, 0.1% genus (P > 0.90)\r",
      "36:59 269Mb   86.5% 3.5M seqs, 10.0% at phylum, 0.1% genus (P > 0.90)\r",
      "37:00 269Mb   86.5% 3.5M seqs, 10.0% at phylum, 0.1% genus (P > 0.90)\r",
      "37:01 269Mb   86.6% 3.5M seqs, 10.0% at phylum, 0.1% genus (P > 0.90)\r",
      "37:02 269Mb   86.6% 3.5M seqs, 10.0% at phylum, 0.1% genus (P > 0.90)\r",
      "37:03 269Mb   86.7% 3.5M seqs, 10.0% at phylum, 0.1% genus (P > 0.90)\r",
      "37:04 269Mb   86.7% 3.5M seqs, 10.0% at phylum, 0.1% genus (P > 0.90)\r",
      "37:05 269Mb   86.8% 3.5M seqs, 10.0% at phylum, 0.1% genus (P > 0.90)\r",
      "37:06 269Mb   86.8% 3.5M seqs, 10.0% at phylum, 0.1% genus (P > 0.90)\r",
      "37:07 269Mb   86.8% 3.5M seqs, 10.0% at phylum, 0.1% genus (P > 0.90)\r",
      "37:08 269Mb   86.9% 3.5M seqs, 10.0% at phylum, 0.1% genus (P > 0.90)\r",
      "37:09 269Mb   86.9% 3.5M seqs, 10.0% at phylum, 0.1% genus (P > 0.90)\r",
      "37:10 269Mb   87.0% 3.5M seqs, 10.0% at phylum, 0.1% genus (P > 0.90)\r",
      "37:11 269Mb   87.0% 3.5M seqs, 10.0% at phylum, 0.1% genus (P > 0.90)\r",
      "37:12 269Mb   87.0% 3.5M seqs, 10.0% at phylum, 0.1% genus (P > 0.90)\r",
      "37:13 269Mb   87.1% 3.5M seqs, 10.0% at phylum, 0.1% genus (P > 0.90)\r",
      "37:14 269Mb   87.1% 3.5M seqs, 10.0% at phylum, 0.1% genus (P > 0.90)\r",
      "37:15 269Mb   87.2% 3.5M seqs, 10.0% at phylum, 0.1% genus (P > 0.90)\r",
      "37:16 269Mb   87.2% 3.5M seqs, 10.0% at phylum, 0.1% genus (P > 0.90)\r",
      "37:17 269Mb   87.2% 3.5M seqs, 10.0% at phylum, 0.1% genus (P > 0.90)\r",
      "37:18 269Mb   87.2% 3.5M seqs, 10.0% at phylum, 0.1% genus (P > 0.90)\r",
      "37:19 269Mb   87.3% 3.5M seqs, 10.0% at phylum, 0.1% genus (P > 0.90)\r",
      "37:20 269Mb   87.3% 3.5M seqs, 10.0% at phylum, 0.1% genus (P > 0.90)\r",
      "37:21 269Mb   87.3% 3.5M seqs, 10.0% at phylum, 0.1% genus (P > 0.90)\r",
      "37:22 269Mb   87.3% 3.5M seqs, 10.0% at phylum, 0.1% genus (P > 0.90)\r",
      "37:23 269Mb   87.4% 3.5M seqs, 10.0% at phylum, 0.1% genus (P > 0.90)\r",
      "37:24 269Mb   87.4% 3.5M seqs, 10.0% at phylum, 0.1% genus (P > 0.90)\r",
      "37:25 269Mb   87.4% 3.5M seqs, 10.0% at phylum, 0.1% genus (P > 0.90)\r",
      "37:26 269Mb   87.5% 3.5M seqs, 10.0% at phylum, 0.1% genus (P > 0.90)\r",
      "37:27 269Mb   87.5% 3.5M seqs, 10.0% at phylum, 0.1% genus (P > 0.90)\r",
      "37:28 269Mb   87.5% 3.5M seqs, 10.0% at phylum, 0.1% genus (P > 0.90)\r",
      "37:29 269Mb   87.6% 3.5M seqs, 10.0% at phylum, 0.1% genus (P > 0.90)\r",
      "37:30 269Mb   87.6% 3.5M seqs, 10.0% at phylum, 0.1% genus (P > 0.90)\r",
      "37:31 269Mb   87.7% 3.5M seqs, 10.0% at phylum, 0.1% genus (P > 0.90)\r",
      "37:32 269Mb   87.7% 3.5M seqs, 10.0% at phylum, 0.1% genus (P > 0.90)\r",
      "37:33 269Mb   87.7% 3.5M seqs, 10.0% at phylum, 0.1% genus (P > 0.90)\r",
      "37:34 269Mb   87.8% 3.5M seqs, 10.0% at phylum, 0.1% genus (P > 0.90)\r",
      "37:35 269Mb   87.8% 3.5M seqs, 10.0% at phylum, 0.1% genus (P > 0.90)\r",
      "37:36 269Mb   87.9% 3.5M seqs, 10.0% at phylum, 0.1% genus (P > 0.90)\r",
      "37:37 269Mb   87.9% 3.5M seqs, 10.0% at phylum, 0.1% genus (P > 0.90)\r",
      "37:38 269Mb   88.0% 3.5M seqs, 10.0% at phylum, 0.1% genus (P > 0.90)\r",
      "37:39 269Mb   88.0% 3.5M seqs, 10.0% at phylum, 0.1% genus (P > 0.90)\r",
      "37:40 269Mb   88.0% 3.5M seqs, 10.0% at phylum, 0.1% genus (P > 0.90)\r",
      "37:41 269Mb   88.1% 3.5M seqs, 10.0% at phylum, 0.1% genus (P > 0.90)\r",
      "37:42 269Mb   88.1% 3.5M seqs, 10.0% at phylum, 0.1% genus (P > 0.90)\r",
      "37:43 269Mb   88.2% 3.5M seqs, 10.0% at phylum, 0.1% genus (P > 0.90)\r",
      "37:44 269Mb   88.2% 3.5M seqs, 10.0% at phylum, 0.1% genus (P > 0.90)\r",
      "37:45 269Mb   88.2% 3.5M seqs, 10.0% at phylum, 0.1% genus (P > 0.90)\r",
      "37:46 269Mb   88.3% 3.5M seqs, 10.0% at phylum, 0.1% genus (P > 0.90)\r",
      "37:47 269Mb   88.3% 3.5M seqs, 10.0% at phylum, 0.1% genus (P > 0.90)\r",
      "37:48 269Mb   88.3% 3.6M seqs, 10.0% at phylum, 0.1% genus (P > 0.90)\r",
      "37:49 269Mb   88.3% 3.6M seqs, 10.0% at phylum, 0.1% genus (P > 0.90)\r",
      "37:50 269Mb   88.4% 3.6M seqs, 10.0% at phylum, 0.1% genus (P > 0.90)\r",
      "37:51 269Mb   88.4% 3.6M seqs, 10.0% at phylum, 0.1% genus (P > 0.90)\r",
      "37:52 269Mb   88.4% 3.6M seqs, 10.0% at phylum, 0.1% genus (P > 0.90)\r",
      "37:53 269Mb   88.4% 3.6M seqs, 10.0% at phylum, 0.1% genus (P > 0.90)\r",
      "37:54 269Mb   88.5% 3.6M seqs, 10.0% at phylum, 0.1% genus (P > 0.90)\r",
      "37:55 269Mb   88.5% 3.6M seqs, 10.0% at phylum, 0.1% genus (P > 0.90)\r",
      "37:56 269Mb   88.6% 3.6M seqs, 10.0% at phylum, 0.1% genus (P > 0.90)\r",
      "37:57 269Mb   88.6% 3.6M seqs, 10.0% at phylum, 0.1% genus (P > 0.90)\r",
      "37:58 269Mb   88.6% 3.6M seqs, 10.0% at phylum, 0.1% genus (P > 0.90)\r",
      "37:59 269Mb   88.7% 3.6M seqs, 10.0% at phylum, 0.1% genus (P > 0.90)\r",
      "38:00 269Mb   88.7% 3.6M seqs, 10.0% at phylum, 0.1% genus (P > 0.90)\r",
      "38:01 269Mb   88.8% 3.6M seqs, 10.0% at phylum, 0.1% genus (P > 0.90)\r",
      "38:02 269Mb   88.8% 3.6M seqs, 10.0% at phylum, 0.1% genus (P > 0.90)\r",
      "38:03 269Mb   88.9% 3.6M seqs, 10.0% at phylum, 0.1% genus (P > 0.90)\r",
      "38:04 269Mb   88.9% 3.6M seqs, 10.0% at phylum, 0.1% genus (P > 0.90)\r",
      "38:05 269Mb   89.0% 3.6M seqs, 10.0% at phylum, 0.1% genus (P > 0.90)\r",
      "38:06 269Mb   89.0% 3.6M seqs, 10.0% at phylum, 0.1% genus (P > 0.90)\r",
      "38:07 269Mb   89.0% 3.6M seqs, 10.0% at phylum, 0.1% genus (P > 0.90)\r",
      "38:08 269Mb   89.1% 3.6M seqs, 10.0% at phylum, 0.1% genus (P > 0.90)\r",
      "38:09 269Mb   89.1% 3.6M seqs, 10.0% at phylum, 0.1% genus (P > 0.90)\r",
      "38:10 269Mb   89.2% 3.6M seqs, 10.0% at phylum, 0.1% genus (P > 0.90)\r",
      "38:11 269Mb   89.2% 3.6M seqs, 10.0% at phylum, 0.1% genus (P > 0.90)\r",
      "38:12 269Mb   89.2% 3.6M seqs, 10.0% at phylum, 0.1% genus (P > 0.90)\r",
      "38:13 269Mb   89.3% 3.6M seqs, 10.0% at phylum, 0.1% genus (P > 0.90)\r",
      "38:14 269Mb   89.3% 3.6M seqs, 10.0% at phylum, 0.1% genus (P > 0.90)\r",
      "38:15 269Mb   89.4% 3.6M seqs, 10.0% at phylum, 0.1% genus (P > 0.90)\r",
      "38:16 269Mb   89.4% 3.6M seqs, 10.0% at phylum, 0.1% genus (P > 0.90)\r",
      "38:17 269Mb   89.4% 3.6M seqs, 10.0% at phylum, 0.1% genus (P > 0.90)\r",
      "38:18 269Mb   89.5% 3.6M seqs, 10.0% at phylum, 0.1% genus (P > 0.90)\r",
      "38:19 269Mb   89.5% 3.6M seqs, 10.0% at phylum, 0.1% genus (P > 0.90)\r",
      "38:20 269Mb   89.5% 3.6M seqs, 10.0% at phylum, 0.1% genus (P > 0.90)\r",
      "38:21 269Mb   89.6% 3.6M seqs, 10.0% at phylum, 0.1% genus (P > 0.90)\r",
      "38:22 269Mb   89.6% 3.6M seqs, 10.0% at phylum, 0.1% genus (P > 0.90)\r",
      "38:23 269Mb   89.7% 3.6M seqs, 10.0% at phylum, 0.1% genus (P > 0.90)\r",
      "38:24 269Mb   89.7% 3.6M seqs, 10.0% at phylum, 0.1% genus (P > 0.90)\r",
      "38:25 269Mb   89.8% 3.6M seqs, 10.0% at phylum, 0.1% genus (P > 0.90)\r",
      "38:26 269Mb   89.8% 3.6M seqs, 10.0% at phylum, 0.1% genus (P > 0.90)\r",
      "38:27 269Mb   89.8% 3.6M seqs, 10.0% at phylum, 0.1% genus (P > 0.90)\r",
      "38:28 269Mb   89.9% 3.6M seqs, 10.0% at phylum, 0.1% genus (P > 0.90)\r",
      "38:29 269Mb   89.9% 3.6M seqs, 10.0% at phylum, 0.1% genus (P > 0.90)\r",
      "38:30 269Mb   89.9% 3.6M seqs, 10.0% at phylum, 0.1% genus (P > 0.90)\r",
      "38:31 269Mb   89.9% 3.6M seqs, 10.0% at phylum, 0.1% genus (P > 0.90)\r",
      "38:32 269Mb   90.0% 3.6M seqs, 10.0% at phylum, 0.1% genus (P > 0.90)\r",
      "38:33 269Mb   90.0% 3.6M seqs, 10.0% at phylum, 0.1% genus (P > 0.90)\r",
      "38:34 269Mb   90.0% 3.6M seqs, 10.0% at phylum, 0.1% genus (P > 0.90)\r",
      "38:35 269Mb   90.0% 3.6M seqs, 10.0% at phylum, 0.1% genus (P > 0.90)\r",
      "38:36 269Mb   90.1% 3.6M seqs, 10.0% at phylum, 0.1% genus (P > 0.90)\r",
      "38:37 269Mb   90.1% 3.6M seqs, 10.0% at phylum, 0.1% genus (P > 0.90)\r",
      "38:38 269Mb   90.1% 3.6M seqs, 10.0% at phylum, 0.1% genus (P > 0.90)\r",
      "38:39 269Mb   90.2% 3.6M seqs, 10.0% at phylum, 0.1% genus (P > 0.90)\r",
      "38:40 269Mb   90.2% 3.6M seqs, 10.0% at phylum, 0.1% genus (P > 0.90)\r",
      "38:41 269Mb   90.3% 3.6M seqs, 10.0% at phylum, 0.1% genus (P > 0.90)\r",
      "38:42 269Mb   90.3% 3.6M seqs, 10.0% at phylum, 0.1% genus (P > 0.90)\r",
      "38:43 269Mb   90.4% 3.6M seqs, 10.0% at phylum, 0.1% genus (P > 0.90)\r",
      "38:44 269Mb   90.4% 3.6M seqs, 10.0% at phylum, 0.1% genus (P > 0.90)\r",
      "38:45 269Mb   90.5% 3.6M seqs, 10.0% at phylum, 0.1% genus (P > 0.90)\r",
      "38:46 269Mb   90.5% 3.6M seqs, 10.0% at phylum, 0.1% genus (P > 0.90)\r",
      "38:47 269Mb   90.6% 3.6M seqs, 10.0% at phylum, 0.1% genus (P > 0.90)\r",
      "38:48 269Mb   90.6% 3.6M seqs, 10.0% at phylum, 0.1% genus (P > 0.90)\r",
      "38:49 269Mb   90.7% 3.6M seqs, 10.0% at phylum, 0.1% genus (P > 0.90)\r",
      "38:50 269Mb   90.7% 3.6M seqs, 10.0% at phylum, 0.1% genus (P > 0.90)\r",
      "38:51 269Mb   90.8% 3.6M seqs, 10.0% at phylum, 0.1% genus (P > 0.90)\r",
      "38:52 269Mb   90.8% 3.7M seqs, 10.0% at phylum, 0.1% genus (P > 0.90)\r",
      "38:53 269Mb   90.9% 3.7M seqs, 10.0% at phylum, 0.1% genus (P > 0.90)\r",
      "38:54 269Mb   90.9% 3.7M seqs, 10.0% at phylum, 0.1% genus (P > 0.90)\r",
      "38:55 269Mb   90.9% 3.7M seqs, 10.0% at phylum, 0.1% genus (P > 0.90)\r",
      "38:56 269Mb   91.0% 3.7M seqs, 10.0% at phylum, 0.1% genus (P > 0.90)\r",
      "38:57 269Mb   91.0% 3.7M seqs, 10.0% at phylum, 0.1% genus (P > 0.90)\r",
      "38:58 269Mb   91.1% 3.7M seqs, 10.0% at phylum, 0.1% genus (P > 0.90)\r",
      "38:59 269Mb   91.1% 3.7M seqs, 10.0% at phylum, 0.1% genus (P > 0.90)\r",
      "39:00 269Mb   91.2% 3.7M seqs, 10.0% at phylum, 0.1% genus (P > 0.90)\r",
      "39:01 269Mb   91.2% 3.7M seqs, 10.0% at phylum, 0.1% genus (P > 0.90)\r",
      "39:02 269Mb   91.2% 3.7M seqs, 10.0% at phylum, 0.1% genus (P > 0.90)\r",
      "39:03 269Mb   91.3% 3.7M seqs, 10.0% at phylum, 0.1% genus (P > 0.90)\r",
      "39:04 269Mb   91.3% 3.7M seqs, 10.0% at phylum, 0.1% genus (P > 0.90)\r",
      "39:05 269Mb   91.4% 3.7M seqs, 10.0% at phylum, 0.1% genus (P > 0.90)\r",
      "39:06 269Mb   91.4% 3.7M seqs, 10.0% at phylum, 0.1% genus (P > 0.90)\r",
      "39:07 269Mb   91.4% 3.7M seqs, 10.0% at phylum, 0.1% genus (P > 0.90)\r",
      "39:08 269Mb   91.4% 3.7M seqs, 10.0% at phylum, 0.1% genus (P > 0.90)\r",
      "39:09 269Mb   91.4% 3.7M seqs, 10.0% at phylum, 0.1% genus (P > 0.90)\r",
      "39:10 269Mb   91.5% 3.7M seqs, 10.0% at phylum, 0.1% genus (P > 0.90)\r",
      "39:11 269Mb   91.5% 3.7M seqs, 10.0% at phylum, 0.1% genus (P > 0.90)\r",
      "39:12 269Mb   91.5% 3.7M seqs, 10.0% at phylum, 0.1% genus (P > 0.90)\r",
      "39:13 269Mb   91.6% 3.7M seqs, 10.0% at phylum, 0.1% genus (P > 0.90)\r",
      "39:14 269Mb   91.6% 3.7M seqs, 10.0% at phylum, 0.1% genus (P > 0.90)\r",
      "39:15 269Mb   91.6% 3.7M seqs, 10.0% at phylum, 0.1% genus (P > 0.90)\r",
      "39:16 269Mb   91.7% 3.7M seqs, 10.0% at phylum, 0.1% genus (P > 0.90)\r",
      "39:17 269Mb   91.7% 3.7M seqs, 10.0% at phylum, 0.1% genus (P > 0.90)\r",
      "39:18 269Mb   91.8% 3.7M seqs, 10.0% at phylum, 0.1% genus (P > 0.90)\r",
      "39:19 269Mb   91.8% 3.7M seqs, 10.0% at phylum, 0.1% genus (P > 0.90)\r",
      "39:20 269Mb   91.9% 3.7M seqs, 10.0% at phylum, 0.1% genus (P > 0.90)\r",
      "39:21 269Mb   91.9% 3.7M seqs, 10.0% at phylum, 0.1% genus (P > 0.90)\r",
      "39:22 269Mb   91.9% 3.7M seqs, 10.0% at phylum, 0.1% genus (P > 0.90)\r",
      "39:23 269Mb   92.0% 3.7M seqs, 10.0% at phylum, 0.1% genus (P > 0.90)\r",
      "39:24 269Mb   92.0% 3.7M seqs, 10.0% at phylum, 0.1% genus (P > 0.90)\r",
      "39:25 269Mb   92.1% 3.7M seqs, 10.0% at phylum, 0.1% genus (P > 0.90)\r",
      "39:26 269Mb   92.1% 3.7M seqs, 10.0% at phylum, 0.1% genus (P > 0.90)\r",
      "39:27 269Mb   92.1% 3.7M seqs, 10.0% at phylum, 0.1% genus (P > 0.90)\r",
      "39:28 269Mb   92.1% 3.7M seqs, 10.0% at phylum, 0.1% genus (P > 0.90)\r",
      "39:29 269Mb   92.2% 3.7M seqs, 10.0% at phylum, 0.1% genus (P > 0.90)\r",
      "39:30 269Mb   92.2% 3.7M seqs, 10.0% at phylum, 0.1% genus (P > 0.90)\r",
      "39:31 269Mb   92.2% 3.7M seqs, 10.0% at phylum, 0.1% genus (P > 0.90)\r",
      "39:32 269Mb   92.2% 3.7M seqs, 10.0% at phylum, 0.1% genus (P > 0.90)\r",
      "39:33 269Mb   92.3% 3.7M seqs, 10.0% at phylum, 0.1% genus (P > 0.90)\r",
      "39:34 269Mb   92.3% 3.7M seqs, 10.0% at phylum, 0.1% genus (P > 0.90)\r",
      "39:35 269Mb   92.3% 3.7M seqs, 10.0% at phylum, 0.1% genus (P > 0.90)\r",
      "39:36 269Mb   92.4% 3.7M seqs, 10.0% at phylum, 0.1% genus (P > 0.90)\r",
      "39:37 269Mb   92.4% 3.7M seqs, 10.0% at phylum, 0.1% genus (P > 0.90)\r",
      "39:38 269Mb   92.5% 3.7M seqs, 10.0% at phylum, 0.1% genus (P > 0.90)\r",
      "39:39 269Mb   92.5% 3.7M seqs, 10.0% at phylum, 0.1% genus (P > 0.90)\r",
      "39:40 269Mb   92.6% 3.7M seqs, 10.0% at phylum, 0.1% genus (P > 0.90)\r",
      "39:41 269Mb   92.6% 3.7M seqs, 10.0% at phylum, 0.1% genus (P > 0.90)\r",
      "39:42 269Mb   92.7% 3.7M seqs, 10.0% at phylum, 0.1% genus (P > 0.90)\r",
      "39:43 269Mb   92.7% 3.7M seqs, 10.0% at phylum, 0.1% genus (P > 0.90)\r",
      "39:44 269Mb   92.7% 3.7M seqs, 10.0% at phylum, 0.1% genus (P > 0.90)\r",
      "39:45 269Mb   92.8% 3.7M seqs, 10.0% at phylum, 0.1% genus (P > 0.90)\r",
      "39:46 269Mb   92.8% 3.7M seqs, 10.0% at phylum, 0.1% genus (P > 0.90)\r",
      "39:47 269Mb   92.9% 3.7M seqs, 10.0% at phylum, 0.1% genus (P > 0.90)\r",
      "39:48 269Mb   92.9% 3.7M seqs, 10.0% at phylum, 0.1% genus (P > 0.90)\r",
      "39:49 269Mb   93.0% 3.7M seqs, 10.0% at phylum, 0.1% genus (P > 0.90)\r",
      "39:50 269Mb   93.0% 3.7M seqs, 10.0% at phylum, 0.1% genus (P > 0.90)\r",
      "39:51 269Mb   93.1% 3.7M seqs, 10.0% at phylum, 0.1% genus (P > 0.90)\r",
      "39:52 269Mb   93.1% 3.7M seqs, 10.0% at phylum, 0.1% genus (P > 0.90)\r",
      "39:53 269Mb   93.1% 3.7M seqs, 10.0% at phylum, 0.1% genus (P > 0.90)\r",
      "39:54 269Mb   93.2% 3.7M seqs, 10.0% at phylum, 0.1% genus (P > 0.90)\r",
      "39:55 269Mb   93.2% 3.7M seqs, 10.0% at phylum, 0.1% genus (P > 0.90)\r",
      "39:56 269Mb   93.2% 3.7M seqs, 10.0% at phylum, 0.1% genus (P > 0.90)\r",
      "39:57 269Mb   93.2% 3.7M seqs, 10.0% at phylum, 0.1% genus (P > 0.90)\r",
      "39:58 269Mb   93.3% 3.7M seqs, 10.0% at phylum, 0.1% genus (P > 0.90)\r",
      "39:59 269Mb   93.3% 3.8M seqs, 10.0% at phylum, 0.1% genus (P > 0.90)\r",
      "40:00 269Mb   93.3% 3.8M seqs, 10.0% at phylum, 0.1% genus (P > 0.90)\r",
      "40:01 269Mb   93.3% 3.8M seqs, 10.0% at phylum, 0.1% genus (P > 0.90)\r",
      "40:02 269Mb   93.4% 3.8M seqs, 10.0% at phylum, 0.1% genus (P > 0.90)\r",
      "40:03 269Mb   93.4% 3.8M seqs, 10.0% at phylum, 0.1% genus (P > 0.90)\r",
      "40:04 269Mb   93.5% 3.8M seqs, 10.0% at phylum, 0.1% genus (P > 0.90)\r",
      "40:05 269Mb   93.5% 3.8M seqs, 10.0% at phylum, 0.1% genus (P > 0.90)\r",
      "40:06 269Mb   93.6% 3.8M seqs, 10.0% at phylum, 0.1% genus (P > 0.90)\r",
      "40:07 269Mb   93.6% 3.8M seqs, 10.0% at phylum, 0.1% genus (P > 0.90)\r",
      "40:08 269Mb   93.7% 3.8M seqs, 10.0% at phylum, 0.1% genus (P > 0.90)\r",
      "40:09 269Mb   93.7% 3.8M seqs, 10.0% at phylum, 0.1% genus (P > 0.90)\r",
      "40:10 269Mb   93.8% 3.8M seqs, 10.0% at phylum, 0.1% genus (P > 0.90)\r",
      "40:11 269Mb   93.8% 3.8M seqs, 10.0% at phylum, 0.1% genus (P > 0.90)\r",
      "40:12 269Mb   93.8% 3.8M seqs, 10.0% at phylum, 0.1% genus (P > 0.90)\r",
      "40:13 269Mb   93.9% 3.8M seqs, 10.0% at phylum, 0.1% genus (P > 0.90)\r",
      "40:14 269Mb   93.9% 3.8M seqs, 10.0% at phylum, 0.1% genus (P > 0.90)\r",
      "40:15 269Mb   94.0% 3.8M seqs, 10.0% at phylum, 0.1% genus (P > 0.90)\r",
      "40:16 269Mb   94.0% 3.8M seqs, 10.0% at phylum, 0.1% genus (P > 0.90)\r",
      "40:17 269Mb   94.1% 3.8M seqs, 10.0% at phylum, 0.1% genus (P > 0.90)\r",
      "40:18 269Mb   94.1% 3.8M seqs, 10.0% at phylum, 0.1% genus (P > 0.90)\r",
      "40:19 269Mb   94.1% 3.8M seqs, 10.0% at phylum, 0.1% genus (P > 0.90)\r",
      "40:20 269Mb   94.2% 3.8M seqs, 10.0% at phylum, 0.1% genus (P > 0.90)\r",
      "40:21 269Mb   94.2% 3.8M seqs, 10.0% at phylum, 0.1% genus (P > 0.90)\r",
      "40:22 269Mb   94.3% 3.8M seqs, 10.0% at phylum, 0.1% genus (P > 0.90)\r",
      "40:23 269Mb   94.3% 3.8M seqs, 10.0% at phylum, 0.1% genus (P > 0.90)\r",
      "40:24 269Mb   94.4% 3.8M seqs, 10.0% at phylum, 0.1% genus (P > 0.90)\r",
      "40:25 269Mb   94.4% 3.8M seqs, 10.0% at phylum, 0.1% genus (P > 0.90)\r",
      "40:26 269Mb   94.4% 3.8M seqs, 9.9% at phylum, 0.1% genus (P > 0.90) \r",
      "40:27 269Mb   94.5% 3.8M seqs, 9.9% at phylum, 0.1% genus (P > 0.90)\r",
      "40:28 269Mb   94.5% 3.8M seqs, 9.9% at phylum, 0.1% genus (P > 0.90)\r",
      "40:29 269Mb   94.5% 3.8M seqs, 9.9% at phylum, 0.1% genus (P > 0.90)\r",
      "40:30 269Mb   94.6% 3.8M seqs, 9.9% at phylum, 0.1% genus (P > 0.90)\r",
      "40:31 269Mb   94.6% 3.8M seqs, 9.9% at phylum, 0.1% genus (P > 0.90)\r",
      "40:32 269Mb   94.6% 3.8M seqs, 9.9% at phylum, 0.1% genus (P > 0.90)\r",
      "40:33 269Mb   94.6% 3.8M seqs, 9.9% at phylum, 0.1% genus (P > 0.90)\r",
      "40:34 269Mb   94.6% 3.8M seqs, 9.9% at phylum, 0.1% genus (P > 0.90)\r",
      "40:35 269Mb   94.7% 3.8M seqs, 9.9% at phylum, 0.1% genus (P > 0.90)\r",
      "40:36 269Mb   94.7% 3.8M seqs, 9.9% at phylum, 0.1% genus (P > 0.90)\r",
      "40:37 269Mb   94.7% 3.8M seqs, 9.9% at phylum, 0.1% genus (P > 0.90)\r",
      "40:38 269Mb   94.8% 3.8M seqs, 9.9% at phylum, 0.1% genus (P > 0.90)\r",
      "40:39 269Mb   94.8% 3.8M seqs, 9.9% at phylum, 0.1% genus (P > 0.90)\r",
      "40:40 269Mb   94.9% 3.8M seqs, 9.9% at phylum, 0.1% genus (P > 0.90)\r",
      "40:41 269Mb   94.9% 3.8M seqs, 9.9% at phylum, 0.1% genus (P > 0.90)\r",
      "40:42 269Mb   95.0% 3.8M seqs, 9.9% at phylum, 0.1% genus (P > 0.90)\r",
      "40:43 269Mb   95.0% 3.8M seqs, 9.9% at phylum, 0.1% genus (P > 0.90)\r",
      "40:44 269Mb   95.0% 3.8M seqs, 9.9% at phylum, 0.1% genus (P > 0.90)\r",
      "40:45 269Mb   95.1% 3.8M seqs, 9.9% at phylum, 0.1% genus (P > 0.90)\r",
      "40:46 269Mb   95.1% 3.8M seqs, 9.9% at phylum, 0.1% genus (P > 0.90)\r",
      "40:47 269Mb   95.2% 3.8M seqs, 9.9% at phylum, 0.1% genus (P > 0.90)\r",
      "40:48 269Mb   95.2% 3.8M seqs, 9.9% at phylum, 0.1% genus (P > 0.90)\r",
      "40:49 269Mb   95.3% 3.8M seqs, 9.9% at phylum, 0.1% genus (P > 0.90)\r",
      "40:50 269Mb   95.3% 3.8M seqs, 9.9% at phylum, 0.1% genus (P > 0.90)\r",
      "40:51 269Mb   95.4% 3.8M seqs, 9.9% at phylum, 0.1% genus (P > 0.90)\r",
      "40:52 269Mb   95.4% 3.8M seqs, 9.9% at phylum, 0.1% genus (P > 0.90)\r",
      "40:53 269Mb   95.4% 3.8M seqs, 9.9% at phylum, 0.1% genus (P > 0.90)\r",
      "40:54 269Mb   95.5% 3.8M seqs, 9.9% at phylum, 0.1% genus (P > 0.90)\r",
      "40:55 269Mb   95.5% 3.8M seqs, 9.9% at phylum, 0.1% genus (P > 0.90)\r",
      "40:56 269Mb   95.6% 3.8M seqs, 9.9% at phylum, 0.1% genus (P > 0.90)\r",
      "40:57 269Mb   95.6% 3.8M seqs, 9.9% at phylum, 0.1% genus (P > 0.90)\r",
      "40:58 269Mb   95.6% 3.8M seqs, 9.9% at phylum, 0.1% genus (P > 0.90)\r",
      "40:59 269Mb   95.7% 3.8M seqs, 9.9% at phylum, 0.1% genus (P > 0.90)\r",
      "41:00 269Mb   95.7% 3.8M seqs, 9.9% at phylum, 0.1% genus (P > 0.90)\r",
      "41:01 269Mb   95.7% 3.8M seqs, 9.9% at phylum, 0.1% genus (P > 0.90)\r",
      "41:02 269Mb   95.7% 3.8M seqs, 9.9% at phylum, 0.1% genus (P > 0.90)\r",
      "41:03 269Mb   95.8% 3.9M seqs, 9.9% at phylum, 0.1% genus (P > 0.90)\r",
      "41:04 269Mb   95.8% 3.9M seqs, 9.9% at phylum, 0.1% genus (P > 0.90)\r",
      "41:05 269Mb   95.8% 3.9M seqs, 9.9% at phylum, 0.1% genus (P > 0.90)\r",
      "41:06 269Mb   95.9% 3.9M seqs, 9.9% at phylum, 0.1% genus (P > 0.90)\r",
      "41:07 269Mb   95.9% 3.9M seqs, 9.9% at phylum, 0.1% genus (P > 0.90)\r",
      "41:08 269Mb   95.9% 3.9M seqs, 9.9% at phylum, 0.1% genus (P > 0.90)\r",
      "41:09 269Mb   96.0% 3.9M seqs, 9.9% at phylum, 0.1% genus (P > 0.90)\r",
      "41:10 269Mb   96.0% 3.9M seqs, 9.9% at phylum, 0.1% genus (P > 0.90)\r",
      "41:11 269Mb   96.1% 3.9M seqs, 9.9% at phylum, 0.1% genus (P > 0.90)\r",
      "41:12 269Mb   96.1% 3.9M seqs, 9.9% at phylum, 0.1% genus (P > 0.90)\r",
      "41:13 269Mb   96.2% 3.9M seqs, 9.9% at phylum, 0.1% genus (P > 0.90)\r",
      "41:14 269Mb   96.2% 3.9M seqs, 9.9% at phylum, 0.1% genus (P > 0.90)\r",
      "41:15 269Mb   96.3% 3.9M seqs, 9.9% at phylum, 0.1% genus (P > 0.90)\r",
      "41:16 269Mb   96.3% 3.9M seqs, 9.9% at phylum, 0.1% genus (P > 0.90)\r",
      "41:17 269Mb   96.4% 3.9M seqs, 9.9% at phylum, 0.1% genus (P > 0.90)\r",
      "41:18 269Mb   96.4% 3.9M seqs, 9.9% at phylum, 0.1% genus (P > 0.90)\r",
      "41:19 269Mb   96.4% 3.9M seqs, 9.9% at phylum, 0.1% genus (P > 0.90)\r",
      "41:20 269Mb   96.4% 3.9M seqs, 9.9% at phylum, 0.1% genus (P > 0.90)\r",
      "41:21 269Mb   96.4% 3.9M seqs, 9.9% at phylum, 0.1% genus (P > 0.90)\r",
      "41:22 269Mb   96.5% 3.9M seqs, 9.9% at phylum, 0.1% genus (P > 0.90)\r",
      "41:23 269Mb   96.5% 3.9M seqs, 9.9% at phylum, 0.1% genus (P > 0.90)\r",
      "41:24 269Mb   96.5% 3.9M seqs, 9.9% at phylum, 0.1% genus (P > 0.90)\r",
      "41:25 269Mb   96.6% 3.9M seqs, 9.9% at phylum, 0.1% genus (P > 0.90)\r",
      "41:26 269Mb   96.6% 3.9M seqs, 9.9% at phylum, 0.1% genus (P > 0.90)\r",
      "41:27 269Mb   96.7% 3.9M seqs, 9.9% at phylum, 0.1% genus (P > 0.90)\r",
      "41:28 269Mb   96.7% 3.9M seqs, 9.9% at phylum, 0.1% genus (P > 0.90)\r",
      "41:29 269Mb   96.7% 3.9M seqs, 9.9% at phylum, 0.1% genus (P > 0.90)\r",
      "41:30 269Mb   96.8% 3.9M seqs, 9.9% at phylum, 0.1% genus (P > 0.90)\r",
      "41:31 269Mb   96.8% 3.9M seqs, 9.9% at phylum, 0.1% genus (P > 0.90)\r",
      "41:32 269Mb   96.9% 3.9M seqs, 9.9% at phylum, 0.1% genus (P > 0.90)\r",
      "41:33 269Mb   96.9% 3.9M seqs, 9.9% at phylum, 0.1% genus (P > 0.90)\r",
      "41:34 269Mb   97.0% 3.9M seqs, 9.9% at phylum, 0.1% genus (P > 0.90)\r",
      "41:35 269Mb   97.0% 3.9M seqs, 9.9% at phylum, 0.1% genus (P > 0.90)\r",
      "41:36 269Mb   97.1% 3.9M seqs, 9.9% at phylum, 0.1% genus (P > 0.90)\r",
      "41:37 269Mb   97.1% 3.9M seqs, 9.9% at phylum, 0.1% genus (P > 0.90)\r",
      "41:38 269Mb   97.1% 3.9M seqs, 9.9% at phylum, 0.1% genus (P > 0.90)\r",
      "41:39 269Mb   97.2% 3.9M seqs, 9.9% at phylum, 0.1% genus (P > 0.90)\r",
      "41:40 269Mb   97.2% 3.9M seqs, 9.9% at phylum, 0.1% genus (P > 0.90)\r",
      "41:41 269Mb   97.3% 3.9M seqs, 9.9% at phylum, 0.1% genus (P > 0.90)\r",
      "41:42 269Mb   97.3% 3.9M seqs, 9.9% at phylum, 0.1% genus (P > 0.90)\r",
      "41:43 269Mb   97.4% 3.9M seqs, 9.9% at phylum, 0.1% genus (P > 0.90)\r",
      "41:44 269Mb   97.4% 3.9M seqs, 9.9% at phylum, 0.1% genus (P > 0.90)\r",
      "41:45 269Mb   97.4% 3.9M seqs, 9.9% at phylum, 0.1% genus (P > 0.90)\r",
      "41:46 269Mb   97.5% 3.9M seqs, 9.9% at phylum, 0.1% genus (P > 0.90)\r",
      "41:47 269Mb   97.5% 3.9M seqs, 9.9% at phylum, 0.1% genus (P > 0.90)\r",
      "41:48 269Mb   97.5% 3.9M seqs, 9.9% at phylum, 0.1% genus (P > 0.90)\r",
      "41:49 269Mb   97.5% 3.9M seqs, 9.9% at phylum, 0.1% genus (P > 0.90)\r",
      "41:50 269Mb   97.5% 3.9M seqs, 9.9% at phylum, 0.1% genus (P > 0.90)\r",
      "41:51 269Mb   97.6% 3.9M seqs, 9.9% at phylum, 0.1% genus (P > 0.90)\r",
      "41:52 269Mb   97.6% 3.9M seqs, 9.9% at phylum, 0.1% genus (P > 0.90)\r",
      "41:53 269Mb   97.6% 3.9M seqs, 9.9% at phylum, 0.1% genus (P > 0.90)\r",
      "41:54 269Mb   97.7% 3.9M seqs, 9.9% at phylum, 0.1% genus (P > 0.90)\r",
      "41:55 269Mb   97.7% 3.9M seqs, 9.9% at phylum, 0.1% genus (P > 0.90)\r",
      "41:56 269Mb   97.8% 3.9M seqs, 9.9% at phylum, 0.1% genus (P > 0.90)\r",
      "41:57 269Mb   97.8% 3.9M seqs, 9.9% at phylum, 0.1% genus (P > 0.90)\r",
      "41:58 269Mb   97.8% 3.9M seqs, 9.9% at phylum, 0.1% genus (P > 0.90)\r",
      "41:59 269Mb   97.9% 3.9M seqs, 9.9% at phylum, 0.1% genus (P > 0.90)\r",
      "42:00 269Mb   97.9% 3.9M seqs, 9.9% at phylum, 0.1% genus (P > 0.90)\r",
      "42:01 269Mb   98.0% 3.9M seqs, 9.9% at phylum, 0.1% genus (P > 0.90)\r",
      "42:02 269Mb   98.0% 3.9M seqs, 9.9% at phylum, 0.1% genus (P > 0.90)\r",
      "42:03 269Mb   98.1% 3.9M seqs, 9.9% at phylum, 0.1% genus (P > 0.90)\r",
      "42:04 269Mb   98.1% 3.9M seqs, 9.9% at phylum, 0.1% genus (P > 0.90)\r",
      "42:05 269Mb   98.2% 3.9M seqs, 9.9% at phylum, 0.1% genus (P > 0.90)\r",
      "42:06 269Mb   98.2% 3.9M seqs, 9.9% at phylum, 0.1% genus (P > 0.90)\r",
      "42:07 269Mb   98.2% 4.0M seqs, 9.9% at phylum, 0.1% genus (P > 0.90)\r",
      "42:08 269Mb   98.3% 4.0M seqs, 9.9% at phylum, 0.1% genus (P > 0.90)\r",
      "42:09 269Mb   98.3% 4.0M seqs, 9.9% at phylum, 0.1% genus (P > 0.90)\r",
      "42:10 269Mb   98.4% 4.0M seqs, 9.9% at phylum, 0.1% genus (P > 0.90)\r",
      "42:11 269Mb   98.4% 4.0M seqs, 9.9% at phylum, 0.1% genus (P > 0.90)\r",
      "42:12 269Mb   98.5% 4.0M seqs, 9.9% at phylum, 0.1% genus (P > 0.90)\r",
      "42:13 269Mb   98.5% 4.0M seqs, 9.9% at phylum, 0.1% genus (P > 0.90)\r",
      "42:14 269Mb   98.6% 4.0M seqs, 9.9% at phylum, 0.1% genus (P > 0.90)\r",
      "42:15 269Mb   98.6% 4.0M seqs, 9.9% at phylum, 0.1% genus (P > 0.90)\r",
      "42:16 269Mb   98.7% 4.0M seqs, 9.9% at phylum, 0.1% genus (P > 0.90)\r",
      "42:17 269Mb   98.7% 4.0M seqs, 9.9% at phylum, 0.1% genus (P > 0.90)\r",
      "42:18 269Mb   98.8% 4.0M seqs, 9.9% at phylum, 0.1% genus (P > 0.90)\r",
      "42:19 269Mb   98.8% 4.0M seqs, 9.9% at phylum, 0.1% genus (P > 0.90)\r",
      "42:20 269Mb   98.8% 4.0M seqs, 9.9% at phylum, 0.1% genus (P > 0.90)\r",
      "42:21 269Mb   98.9% 4.0M seqs, 9.9% at phylum, 0.1% genus (P > 0.90)\r",
      "42:22 269Mb   98.9% 4.0M seqs, 9.9% at phylum, 0.1% genus (P > 0.90)\r",
      "42:23 269Mb   98.9% 4.0M seqs, 9.9% at phylum, 0.1% genus (P > 0.90)\r",
      "42:24 269Mb   99.0% 4.0M seqs, 9.9% at phylum, 0.1% genus (P > 0.90)\r",
      "42:25 269Mb   99.0% 4.0M seqs, 9.9% at phylum, 0.1% genus (P > 0.90)\r",
      "42:26 269Mb   99.0% 4.0M seqs, 9.9% at phylum, 0.1% genus (P > 0.90)\r",
      "42:27 269Mb   99.0% 4.0M seqs, 9.9% at phylum, 0.1% genus (P > 0.90)\r",
      "42:28 269Mb   99.1% 4.0M seqs, 9.9% at phylum, 0.1% genus (P > 0.90)\r",
      "42:29 269Mb   99.1% 4.0M seqs, 9.9% at phylum, 0.1% genus (P > 0.90)\r",
      "42:30 269Mb   99.1% 4.0M seqs, 9.9% at phylum, 0.1% genus (P > 0.90)\r",
      "42:31 269Mb   99.2% 4.0M seqs, 9.9% at phylum, 0.1% genus (P > 0.90)\r",
      "42:32 269Mb   99.2% 4.0M seqs, 9.9% at phylum, 0.1% genus (P > 0.90)\r",
      "42:33 269Mb   99.3% 4.0M seqs, 9.9% at phylum, 0.1% genus (P > 0.90)\r",
      "42:34 269Mb   99.3% 4.0M seqs, 9.9% at phylum, 0.1% genus (P > 0.90)\r",
      "42:35 269Mb   99.4% 4.0M seqs, 9.9% at phylum, 0.1% genus (P > 0.90)\r",
      "42:36 269Mb   99.4% 4.0M seqs, 9.9% at phylum, 0.1% genus (P > 0.90)\r",
      "42:37 269Mb   99.4% 4.0M seqs, 9.9% at phylum, 0.1% genus (P > 0.90)\r",
      "42:38 269Mb   99.5% 4.0M seqs, 9.9% at phylum, 0.1% genus (P > 0.90)\r",
      "42:39 269Mb   99.5% 4.0M seqs, 9.9% at phylum, 0.1% genus (P > 0.90)\r",
      "42:40 269Mb   99.6% 4.0M seqs, 9.9% at phylum, 0.1% genus (P > 0.90)\r",
      "42:41 269Mb   99.6% 4.0M seqs, 9.9% at phylum, 0.1% genus (P > 0.90)\r",
      "42:42 269Mb   99.7% 4.0M seqs, 9.9% at phylum, 0.1% genus (P > 0.90)\r",
      "42:43 269Mb   99.7% 4.0M seqs, 9.9% at phylum, 0.1% genus (P > 0.90)\r",
      "42:44 269Mb   99.7% 4.0M seqs, 9.9% at phylum, 0.1% genus (P > 0.90)\r",
      "42:45 269Mb   99.8% 4.0M seqs, 9.9% at phylum, 0.1% genus (P > 0.90)\r",
      "42:46 269Mb   99.8% 4.0M seqs, 9.9% at phylum, 0.1% genus (P > 0.90)\r",
      "42:47 269Mb   99.9% 4.0M seqs, 9.9% at phylum, 0.1% genus (P > 0.90)\r",
      "42:48 269Mb   99.9% 4.0M seqs, 9.9% at phylum, 0.1% genus (P > 0.90)\r",
      "42:49 269Mb   99.9% 4.0M seqs, 9.9% at phylum, 0.1% genus (P > 0.90)\r",
      "42:49 269Mb  100.0% 4.0M seqs, 9.9% at phylum, 0.1% genus (P > 0.90)\r",
      "\r\n"
     ]
    }
   ],
   "source": [
    " usearch81 -utax otus_95_uclust_relabel.fasta -db utax_ref_class.udb -strand both -fastaout otus_95_uclust_ass_tax.fasta"
   ]
  },
  {
   "cell_type": "markdown",
   "metadata": {},
   "source": [
    "I should note that I had trouble creating the reference database above with the 64 bit version of usearch on aciss, so I ran the above commands with the usearch 32 bit version on my own computer. The database creation took about 4 hours to run on my machine, but the taxonomic assignments were quick, ~40 min. \n",
    "\n",
    "Important to note that two steps above, making the utax data database and assigning taxonomy, need to be done with the same version of usearch, either the 32 or 64 bit version. Using one version for one step and the other version for the next does not work. For example, don't create your database at home with the 32-bit version, then try to have aciss use the 64-bit version use this database to assign taxonomy. Won't work. "
   ]
  },
  {
   "cell_type": "markdown",
   "metadata": {
    "collapsed": true
   },
   "source": [
    "# Make biome table"
   ]
  },
  {
   "cell_type": "markdown",
   "metadata": {},
   "source": [
    "Since I've been using USEARCH for the pipeline so far, let's see if it can take us all the way. To make our biome table, usearch needs clear [sample identifiers](http://www.drive5.com/usearch/manual/upp_labels_sample.html) to discern from which sample our reads originated. USEARCH looks for \"sample=\" to identify sample number. If it doesn't find it, it takes the first sequence of letters and numbers in our sequence indentifiers, which won't work for us. \n",
    "\n",
    "Graham's and my read identifiers look like this:"
   ]
  },
  {
   "cell_type": "code",
   "execution_count": 11,
   "metadata": {
    "collapsed": false
   },
   "outputs": [
    {
     "name": "stdout",
     "output_type": "stream",
     "text": [
      ">M01498:244:000000000-ANT97:1:1101:7581:1916:160\r\n"
     ]
    }
   ],
   "source": [
    "head -n 1 wood_notchim.fasta"
   ]
  },
  {
   "cell_type": "markdown",
   "metadata": {},
   "source": [
    "The information about this sequencing run is not really important for us. And the unique identifiers for each read (the second-to-last three sets of numbers) are probably not useful downstream of this point either. The good stuff is the last three digits, which tell which of my samples this read came from. So let's get rid of all the rest with [sed](https://www.gnu.org/software/sed/):"
   ]
  },
  {
   "cell_type": "markdown",
   "metadata": {},
   "source": [
    "<a id='sed'></a>"
   ]
  },
  {
   "cell_type": "code",
   "execution_count": null,
   "metadata": {
    "collapsed": true
   },
   "outputs": [],
   "source": [
    "sed s/'M.*:[0-9]:\\([0-9]\\{3,\\}:\\)\\{3\\}'/sample=/g  wood_notchim.fasta > wood_notchim_cleanlab.fasta"
   ]
  },
  {
   "cell_type": "markdown",
   "metadata": {},
   "source": [
    "sed is a streaming text editor that uses [regular expression syntax](http://www.regular-expressions.info/). So the above \n",
    "command looks complex. If you are using this as a guide for your own reads, you may have to tweak the above command or find another way to modify your labels, they're going to be different than mine. The resulting simplified read identifier line: "
   ]
  },
  {
   "cell_type": "code",
   "execution_count": 13,
   "metadata": {
    "collapsed": false
   },
   "outputs": [
    {
     "name": "stdout",
     "output_type": "stream",
     "text": [
      ">sample=160\r\n"
     ]
    }
   ],
   "source": [
    "head -n 1 wood_notchim_cleanlab.fasta"
   ]
  },
  {
   "cell_type": "markdown",
   "metadata": {},
   "source": [
    "Using the usearch [-usearch_global](http://drive5.com/usearch/manual/cmd_usearch_global.html) program. We use our OTUs with assigned taxonomy as a reference database:"
   ]
  },
  {
   "cell_type": "code",
   "execution_count": null,
   "metadata": {
    "collapsed": true
   },
   "outputs": [],
   "source": [
    "usearch -usearch_global wood_notchim_cleanlab.fasta -db otus_95_uclust_ass_tax.fasta -strand both -id 0.95 -biomout wood_otu_uclust_95.biom"
   ]
  },
  {
   "cell_type": "markdown",
   "metadata": {},
   "source": [
    "This only worked for me using the more powerful 64-bit version of usearch. The \"-id\" argument I lined up with otu similarity cutoff from our otu clustering above, 95% similarity. "
   ]
  },
  {
   "cell_type": "markdown",
   "metadata": {},
   "source": [
    "## Side trip: Make toy biome table:"
   ]
  },
  {
   "cell_type": "markdown",
   "metadata": {},
   "source": [
    "The resulting biome table is very large, difficult to check for accuracy, so I'll create a toy version. First I need script to subset randomly from fasta files (the previous subsetting was done from fastq files.). I also need to finally make a script that converts multine fastas to two-line fastas. These are in the repository. "
   ]
  },
  {
   "cell_type": "code",
   "execution_count": 14,
   "metadata": {
    "collapsed": false
   },
   "outputs": [
    {
     "name": "stdout",
     "output_type": "stream",
     "text": []
    }
   ],
   "source": [
    "./fasta_remove_linebreaks.py wood_notchim.fasta wood_notchim_nolb.fasta"
   ]
  },
  {
   "cell_type": "code",
   "execution_count": 15,
   "metadata": {
    "collapsed": false
   },
   "outputs": [
    {
     "name": "stdout",
     "output_type": "stream",
     "text": []
    }
   ],
   "source": [
    "./subset_fasta.py wood_notchim_nolb.fasta 1000000 wood_notchim_nolb_sub.fasta"
   ]
  },
  {
   "cell_type": "code",
   "execution_count": 16,
   "metadata": {
    "collapsed": false
   },
   "outputs": [
    {
     "name": "stdout",
     "output_type": "stream",
     "text": []
    }
   ],
   "source": [
    "sed s/'M.*:[0-9]:\\([0-9]\\{3,\\}:\\)\\{3\\}'/sample=/g  wood_notchim_nolb_sub.fasta > wood_notchim_cleanlab_sub.fasta"
   ]
  },
  {
   "cell_type": "markdown",
   "metadata": {},
   "source": [
    "On ACISS:"
   ]
  },
  {
   "cell_type": "code",
   "execution_count": null,
   "metadata": {
    "collapsed": true
   },
   "outputs": [],
   "source": [
    "usearch -usearch_global wood_notchim_cleanlab_sub.fasta -db otus_95_uclust_ass_tax.fasta -strand both -id 0.95 -biomout otu_95_sub.biom"
   ]
  },
  {
   "cell_type": "markdown",
   "metadata": {},
   "source": [
    "# Checking and tidying our biome tables"
   ]
  },
  {
   "cell_type": "markdown",
   "metadata": {
    "collapsed": false
   },
   "source": [
    "We've got our biome tables! As of the time of this writing, usearch returns biome tables in the [JSON format](http://biom-format.org/documentation/format_versions/biom-1.0.html). This is the older of two possible formats for biome tables, and we may need to convert to the newer [HDF5 format](http://biom-format.org/documentation/format_versions/biom-2.0.html). But for now we'll keep this format and take a look, it's a pretty human readable format."
   ]
  },
  {
   "cell_type": "code",
   "execution_count": 2,
   "metadata": {
    "collapsed": false
   },
   "outputs": [
    {
     "name": "stdout",
     "output_type": "stream",
     "text": [
      "{\r\n",
      "\t\"id\":\"wood_otu_uclust_95.biom\",\r\n",
      "\t\"format\": \"Biological Observation Matrix 1.0\",\r\n",
      "\t\"format_url\": \"http://biom-format.org\",\r\n",
      "\t\"generated_by\": \"usearch8.11803\",\r\n",
      "\t\"type\": \"OTU table\",\r\n",
      "\t\"date\": \"Thu Jun 23 03:45:12 2016\",\r\n",
      "\t\"matrix_type\": \"sparse\",\r\n",
      "\t\"matrix_element_type\": \"float\",\r\n",
      "\t\"shape\": [4009353,98],\r\n",
      "\t\"rows\":[\r\n",
      "\t\t{\"id\":\"OTU1070430:M01498:244:000000000-ANT97:1:1101:5958:4272:160\", \"metadata\":{\"taxonomy\":\"d:Fungi(1.0000),p:Ascomycota(0.9036),c:Sordariomycetes(0.7215),o:Xylariales(0.6231),f:Xylariaceae(0.4147),g:Xylaria(0.1335),s:Xylaria_hypoxylon_SH205537.07FU\"}},\r\n"
     ]
    }
   ],
   "source": [
    "head -n 12 wood_otu_uclust_95.biom"
   ]
  },
  {
   "cell_type": "markdown",
   "metadata": {},
   "source": [
    "This is confusing to look at, but it's pretty simple. The \"shape\" attribute tells us we have a matrix with 4009353 rows and 98 columns. The number of columns should be equal to the number of samples, which is correct here. The number of rows should be roughly equal to the number of OTU's in our OTU file:"
   ]
  },
  {
   "cell_type": "code",
   "execution_count": 4,
   "metadata": {
    "collapsed": false
   },
   "outputs": [
    {
     "name": "stdout",
     "output_type": "stream",
     "text": [
      "4019831\r\n"
     ]
    }
   ],
   "source": [
    "grep '>' otus_95_uclust_ass_tax.fasta | wc -l"
   ]
  },
  {
   "cell_type": "markdown",
   "metadata": {},
   "source": [
    "Looks okay. Some otus apparently did not get used, I am a little confused by this, since all OTUs were originally a read. Most of these are singletons and will eventually be thrown out, in downstream ecological analyses, so hopefully this doesn't matter too much. We'll definitely keep our OTU file with all the original read info for future reference. \n",
    "\n",
    "Below this is an attribute call \"rows\". This tells us what our otus are called, and what metadata is associated with them. It's a mess!:"
   ]
  },
  {
   "cell_type": "code",
   "execution_count": 7,
   "metadata": {
    "collapsed": false
   },
   "outputs": [
    {
     "name": "stdout",
     "output_type": "stream",
     "text": [
      "\t\"rows\":[\r\n",
      "\t\t{\"id\":\"OTU1070430:M01498:244:000000000-ANT97:1:1101:5958:4272:160\", \"metadata\":{\"taxonomy\":\"d:Fungi(1.0000),p:Ascomycota(0.9036),c:Sordariomycetes(0.7215),o:Xylariales(0.6231),f:Xylariaceae(0.4147),g:Xylaria(0.1335),s:Xylaria_hypoxylon_SH205537.07FU\"}},\r\n",
      "\t\t{\"id\":\"OTU2732738:M01498:244:000000000-ANT97:1:1101:5733:4572:160\", \"metadata\":{\"taxonomy\":\"d:Fungi(0.9999),p:Ascomycota(0.6978),c:Sordariomycetes(0.5003),o:Xylariales(0.3662),f:Xylariaceae(0.1857),g:Xylaria(0.0446),s:Xylaria_hypoxylon_SH205537.07FU\"}},\r\n",
      "\t\t{\"id\":\"OTU2406308:M01498:244:000000000-ANT97:1:1101:11114:2667:160\", \"metadata\":{\"taxonomy\":\"d:Fungi(0.9994),p:Ascomycota(0.5394),c:Sordariomycetes(0.2329),o:Xylariales(0.1266),f:Xylariaceae(0.0793),g:Xylaria(0.0105),s:Xylaria_papulis_SH199084.07FU\"}},\r\n"
     ]
    }
   ],
   "source": [
    "grep \"\\<rows\" wood_otu_uclust_95.biom -A 3"
   ]
  },
  {
   "cell_type": "markdown",
   "metadata": {},
   "source": [
    "The only important info here is our otu number and our taxonomy metadata. To prevent this mess I could have been more careful above, when crafting our [OTU reference data base](#otus) or [assigning taxonomy](#taxonomy). But for now, I'll clean this up with sed again, similar to what we did when [simplifying our read names](#sed) for making the biom table."
   ]
  },
  {
   "cell_type": "markdown",
   "metadata": {},
   "source": [
    "<a id='sed2'></a>"
   ]
  },
  {
   "cell_type": "code",
   "execution_count": null,
   "metadata": {
    "collapsed": true
   },
   "outputs": [],
   "source": [
    "sed s/':M.*:[0-9]:\\([0-9]\\{3,\\}:\\)\\{3\\}[0-9]\\{3\\}'//g wood_otu_uclust_95.biom > wood_otu_uclust_95_relab.biom"
   ]
  },
  {
   "cell_type": "markdown",
   "metadata": {},
   "source": [
    "This looks complicated, but I am using sed to remove the parts of my row labels that I don't want. The row labels only retain the otu number and taxonomy metadata. They look like this:"
   ]
  },
  {
   "cell_type": "code",
   "execution_count": 11,
   "metadata": {
    "collapsed": false
   },
   "outputs": [
    {
     "name": "stdout",
     "output_type": "stream",
     "text": [
      "\t\"rows\":[\r\n",
      "\t\t{\"id\":\"OTU1070430\", \"metadata\":{\"taxonomy\":\"d:Fungi(1.0000),p:Ascomycota(0.9036),c:Sordariomycetes(0.7215),o:Xylariales(0.6231),f:Xylariaceae(0.4147),g:Xylaria(0.1335),s:Xylaria_hypoxylon_SH205537.07FU\"}},\r\n"
     ]
    }
   ],
   "source": [
    "grep \"\\<rows\" wood_otu_uclust_95_relab.biom -A 1"
   ]
  },
  {
   "cell_type": "markdown",
   "metadata": {},
   "source": [
    "The other problem here is that our taxonomy assignments are really messy. Downstream applications like biom, phyloseq, and phinch can't read this biom table yet. This may be due to the format of our taxonomy data, though the only good example of taxonomy metadata formatting I can find is [here](http://biom-format.org/documentation/adding_metadata.html). To fix this with sed is asking a lot, so I'll write a script for this in python. "
   ]
  },
  {
   "cell_type": "code",
   "execution_count": 24,
   "metadata": {
    "collapsed": false
   },
   "outputs": [
    {
     "name": "stdout",
     "output_type": "stream",
     "text": []
    }
   ],
   "source": [
    "./format_tax.py wood_otu_uclust_95_relab.biom wood_otu_uclust_95_relab2.biom"
   ]
  },
  {
   "cell_type": "markdown",
   "metadata": {},
   "source": [
    "Row metadata now looks like this:"
   ]
  },
  {
   "cell_type": "code",
   "execution_count": 25,
   "metadata": {
    "collapsed": false
   },
   "outputs": [
    {
     "name": "stdout",
     "output_type": "stream",
     "text": [
      "\t\"rows\":[\r\n",
      "\t\t{\"id\":\"OTU1070430\", \"metadata\":{\"taxonomy\": \"Root;k__Fungi,p__Ascomycota,c__Sordariomycetes,o__Xylariales,f__Xylariaceae,g__Xylaria,s__Xylaria_hypoxylon_SH205537.07FU\"}},\r\n"
     ]
    }
   ],
   "source": [
    "grep \"\\<rows\" wood_otu_uclust_95_relab2.biom -A 1"
   ]
  },
  {
   "cell_type": "markdown",
   "metadata": {},
   "source": [
    "We can do an initial check to see how successful our biom table formation is by using the validate-table command:"
   ]
  },
  {
   "cell_type": "markdown",
   "metadata": {},
   "source": [
    "<a id='sam_meta'></a>"
   ]
  },
  {
   "cell_type": "markdown",
   "metadata": {},
   "source": [
    "# Adding sample metadata"
   ]
  },
  {
   "cell_type": "markdown",
   "metadata": {},
   "source": [
    "There are two types of metadata, one for our otus (\"observation\" or row metadata) that is typically taxonomy. The other is information about our samples (column metadata). The taxonomy is added [above](#taxonomy). Sample metadata is added using the set of python scripts provided by the folks behind the [BIOM project](http://biom-format.org/index.html). These sample metadata are what differentiate our samples and enable us to ask ecological questions about our data.\n",
    "\n",
    "What do our columns headers look like right now, without metadata?:"
   ]
  },
  {
   "cell_type": "code",
   "execution_count": 14,
   "metadata": {
    "collapsed": false
   },
   "outputs": [
    {
     "name": "stdout",
     "output_type": "stream",
     "text": [
      "\t\"columns\":[\r\n",
      "\t\t{\"id\":\"160\", \"metadata\":null},\r\n",
      "\t\t{\"id\":\"161\", \"metadata\":null},\r\n",
      "\t\t{\"id\":\"162\", \"metadata\":null},\r\n"
     ]
    }
   ],
   "source": [
    "grep \"\\<columns\" wood_otu_uclust_95_relab.biom -A 3"
   ]
  },
  {
   "cell_type": "markdown",
   "metadata": {},
   "source": [
    "Obviously, sample metadata will vary heavily between studies, because this is where information about treatments (in experimental studies) or information about locations and ecological conditions of samples (in observational studies) is stored. For now, I will create a sample metadata that simply maps these samples back to the names I gave them originally. Eventually, I will create a more detailed table with X and Y coordinates, and environmental variable of each site. "
   ]
  },
  {
   "cell_type": "markdown",
   "metadata": {},
   "source": [
    "### Making a simple sample metadata table from my file names"
   ]
  },
  {
   "cell_type": "markdown",
   "metadata": {},
   "source": [
    "What follows is a pipe for making a metadata table from my original raw read file names. This is going to be pretty unique to graham's and my data. Might be handy to look at how this was done, but will definitely not be a cut-and-paste section for other read sets. \n",
    "\n",
    "Going back to our raw reads, the file names serve as a reference for mapping the numbers given by illumina to our samples (what is currently our column names in our biom table) to the original names that we gave our samples. For example, Graham's single species control \"Dc-X\" was assigned sample number 160 by the illumina sequencer software:"
   ]
  },
  {
   "cell_type": "code",
   "execution_count": 26,
   "metadata": {
    "collapsed": false
   },
   "outputs": [
    {
     "name": "stdout",
     "output_type": "stream",
     "text": [
      "lane1-s160-index-AAGCACTG-GTGATCCANNNN-Dc-X_S160_L001_R1_001.fastq\r\n",
      "lane1-s160-index-AAGCACTG-GTGATCCANNNN-Dc-X_S160_L001_R2_001.fastq\r\n",
      "lane1-s161-index-AAGCACTG-TTCGTACGNNNN-Dc-PosG_S161_L001_R1_001.fastq\r\n",
      "lane1-s161-index-AAGCACTG-TTCGTACGNNNN-Dc-PosG_S161_L001_R2_001.fastq\r\n",
      "lane1-s162-index-AAGCACTG-ATGACAGGNNNN-Dc-PosI_S162_L001_R1_001.fastq\r\n",
      "lane1-s162-index-AAGCACTG-ATGACAGGNNNN-Dc-PosI_S162_L001_R2_001.fastq\r\n",
      "lane1-s163-index-AAGCACTG-CGACCTAANNNN-Dc-Neg_S163_L001_R1_001.fastq\r\n",
      "lane1-s163-index-AAGCACTG-CGACCTAANNNN-Dc-Neg_S163_L001_R2_001.fastq\r\n",
      "lane1-s164-index-CTAGGTGA-GACACAGTNNNN-1w_S164_L001_R1_001.fastq\r\n",
      "lane1-s164-index-CTAGGTGA-GACACAGTNNNN-1w_S164_L001_R2_001.fastq\r\n",
      "lane1-s165-index-ACGACTTG-GACACAGTNNNN-2w_S165_L001_R1_001.fastq\r\n",
      "lane1-s165-index-ACGACTTG-GACACAGTNNNN-2w_S165_L001_R2_001.fastq\r\n"
     ]
    }
   ],
   "source": [
    "ls $rdir | head -n 12"
   ]
  },
  {
   "cell_type": "markdown",
   "metadata": {},
   "source": [
    "Let's save these file names as a text file:"
   ]
  },
  {
   "cell_type": "code",
   "execution_count": 27,
   "metadata": {
    "collapsed": true
   },
   "outputs": [
    {
     "name": "stdout",
     "output_type": "stream",
     "text": []
    }
   ],
   "source": [
    "ls > $rdir/filenames.txt"
   ]
  },
  {
   "cell_type": "markdown",
   "metadata": {},
   "source": [
    "Some cutting with sed, to get just sample name and sample number, with a tab seperator:"
   ]
  },
  {
   "cell_type": "code",
   "execution_count": 13,
   "metadata": {
    "collapsed": false
   },
   "outputs": [
    {
     "name": "stdout",
     "output_type": "stream",
     "text": []
    }
   ],
   "source": [
    "sed s/'.*N\\{4\\}-'//g filenames.txt | sed s/_L001.*//g | sed s/_S/\\\\\\t/g > sample_metadata.tsv"
   ]
  },
  {
   "cell_type": "markdown",
   "metadata": {},
   "source": [
    "Take the remaining two columns of text, rearrange them: "
   ]
  },
  {
   "cell_type": "code",
   "execution_count": 14,
   "metadata": {
    "collapsed": false
   },
   "outputs": [
    {
     "name": "stdout",
     "output_type": "stream",
     "text": []
    }
   ],
   "source": [
    "paste <(cut -f2 sample_metadata.tsv) <(cut -f1 sample_metadata.tsv) > sample_metadata_head.tsv"
   ]
  },
  {
   "cell_type": "markdown",
   "metadata": {},
   "source": [
    "Insert a header with sed:"
   ]
  },
  {
   "cell_type": "code",
   "execution_count": 15,
   "metadata": {
    "collapsed": false
   },
   "outputs": [
    {
     "name": "stdout",
     "output_type": "stream",
     "text": []
    }
   ],
   "source": [
    "sed -i '1i#SampleID\\tSampleName' sample_metadata_head.tsv"
   ]
  },
  {
   "cell_type": "code",
   "execution_count": 16,
   "metadata": {
    "collapsed": false
   },
   "outputs": [
    {
     "name": "stdout",
     "output_type": "stream",
     "text": []
    }
   ],
   "source": [
    "mv sample_metadata_head.tsv sample_metadata.tsv"
   ]
  },
  {
   "cell_type": "markdown",
   "metadata": {},
   "source": [
    "We have doubled entries, because this came from our raw reads, which have forward and reverse files. Get rid of these with uniq. And take a look at it. "
   ]
  },
  {
   "cell_type": "code",
   "execution_count": 22,
   "metadata": {
    "collapsed": false,
    "scrolled": true
   },
   "outputs": [
    {
     "name": "stdout",
     "output_type": "stream",
     "text": [
      "#SampleID\tSampleName\r\n",
      "160\tDc-X\r\n",
      "161\tDc-PosG\r\n",
      "162\tDc-PosI\r\n",
      "163\tDc-Neg\r\n",
      "164\t1w\r\n",
      "165\t2w\r\n",
      "166\t3w\r\n",
      "167\t4w\r\n",
      "168\t5w\r\n"
     ]
    }
   ],
   "source": [
    "uniq sample_metadata.tsv > sample_metadata_U.tsv\n",
    "mv sample_metadata_U.tsv sample_metadata.tsv\n",
    "head sample_metadata.tsv"
   ]
  },
  {
   "cell_type": "markdown",
   "metadata": {},
   "source": [
    "Looks like our first sample metadata. Let's try to attach it."
   ]
  },
  {
   "cell_type": "markdown",
   "metadata": {},
   "source": [
    "### Adding metadata"
   ]
  },
  {
   "cell_type": "code",
   "execution_count": null,
   "metadata": {
    "collapsed": true
   },
   "outputs": [],
   "source": [
    "biom add-metadata -i otu_95_sub_relab3.biom -o otu_95_sub_wMeta.biom -m sample_metadata.tsv --output-as-json"
   ]
  }
 ],
 "metadata": {
  "kernelspec": {
   "display_name": "Bash",
   "language": "bash",
   "name": "bash"
  },
  "language_info": {
   "codemirror_mode": "shell",
   "file_extension": ".sh",
   "mimetype": "text/x-sh",
   "name": "bash"
  }
 },
 "nbformat": 4,
 "nbformat_minor": 0
}
