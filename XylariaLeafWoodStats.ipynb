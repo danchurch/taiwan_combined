{
 "cells": [
  {
   "cell_type": "markdown",
   "metadata": {},
   "source": [
    "# Combined leaf and wood Xylariaceae analysis"
   ]
  },
  {
   "cell_type": "markdown",
   "metadata": {},
   "source": [
    "We will use our combined biom table of leaf and wood endophytes to ask some questions about the roles of both leaf- and sapwood-inhabiting endophytes on nearby stromata, focusing on the family Xylariaceae."
   ]
  },
  {
   "cell_type": "markdown",
   "metadata": {},
   "source": [
    "<a id='contents'></a>"
   ]
  },
  {
   "cell_type": "markdown",
   "metadata": {},
   "source": [
    "## Contents\n",
    "\n",
    "[Importing biom table and setup](#import)  \n",
    "[Negative control cleanup](#nc)  \n",
    "[Variance Stabilization of Read Counts](#deseq)  \n",
    "[Formatting and transforming data for RDA](#rdaprep)  \n",
    "[Redundancy analysis](#rda)"
   ]
  },
  {
   "cell_type": "markdown",
   "metadata": {},
   "source": [
    "<a id='import'></a>"
   ]
  },
  {
   "cell_type": "markdown",
   "metadata": {},
   "source": [
    "## Importing biom table and setup"
   ]
  },
  {
   "cell_type": "markdown",
   "metadata": {},
   "source": [
    "Let's get the proper packages and import our biom table."
   ]
  },
  {
   "cell_type": "code",
   "execution_count": 1,
   "metadata": {
    "collapsed": false,
    "scrolled": true
   },
   "outputs": [
    {
     "name": "stderr",
     "output_type": "stream",
     "text": [
      "Loading required package: S4Vectors\n",
      "Loading required package: stats4\n",
      "Loading required package: BiocGenerics\n",
      "Loading required package: parallel\n",
      "\n",
      "Attaching package: ‘BiocGenerics’\n",
      "\n",
      "The following objects are masked from ‘package:parallel’:\n",
      "\n",
      "    clusterApply, clusterApplyLB, clusterCall, clusterEvalQ,\n",
      "    clusterExport, clusterMap, parApply, parCapply, parLapply,\n",
      "    parLapplyLB, parRapply, parSapply, parSapplyLB\n",
      "\n",
      "The following objects are masked from ‘package:stats’:\n",
      "\n",
      "    IQR, mad, xtabs\n",
      "\n",
      "The following objects are masked from ‘package:base’:\n",
      "\n",
      "    anyDuplicated, append, as.data.frame, cbind, colnames, do.call,\n",
      "    duplicated, eval, evalq, Filter, Find, get, grep, grepl, intersect,\n",
      "    is.unsorted, lapply, lengths, Map, mapply, match, mget, order,\n",
      "    paste, pmax, pmax.int, pmin, pmin.int, Position, rank, rbind,\n",
      "    Reduce, rownames, sapply, setdiff, sort, table, tapply, union,\n",
      "    unique, unsplit\n",
      "\n",
      "\n",
      "Attaching package: ‘S4Vectors’\n",
      "\n",
      "The following objects are masked from ‘package:base’:\n",
      "\n",
      "    colMeans, colSums, expand.grid, rowMeans, rowSums\n",
      "\n",
      "Loading required package: IRanges\n",
      "\n",
      "Attaching package: ‘IRanges’\n",
      "\n",
      "The following object is masked from ‘package:phyloseq’:\n",
      "\n",
      "    distance\n",
      "\n",
      "Loading required package: GenomicRanges\n",
      "Loading required package: GenomeInfoDb\n",
      "Loading required package: SummarizedExperiment\n",
      "Loading required package: Biobase\n",
      "Welcome to Bioconductor\n",
      "\n",
      "    Vignettes contain introductory material; view with\n",
      "    'browseVignettes()'. To cite Bioconductor, see\n",
      "    'citation(\"Biobase\")', and for packages 'citation(\"pkgname\")'.\n",
      "\n",
      "\n",
      "Attaching package: ‘Biobase’\n",
      "\n",
      "The following object is masked from ‘package:phyloseq’:\n",
      "\n",
      "    sampleNames\n",
      "\n",
      "Loading required package: permute\n",
      "Loading required package: lattice\n",
      "This is vegan 2.4-1\n"
     ]
    }
   ],
   "source": [
    "library('phyloseq')\n",
    "library('DESeq2')\n",
    "library('repr')\n",
    "library('vegan')"
   ]
  },
  {
   "cell_type": "markdown",
   "metadata": {},
   "source": [
    "Import our biom table. We used the green genes style of formatting for our taxonomy metadata, I think..."
   ]
  },
  {
   "cell_type": "code",
   "execution_count": 2,
   "metadata": {
    "collapsed": true
   },
   "outputs": [],
   "source": [
    "biom95 <- import_biom('combo_95_wMeta.biom', parseFunction=parse_taxonomy_greengenes)"
   ]
  },
  {
   "cell_type": "markdown",
   "metadata": {},
   "source": [
    "Our biom table:"
   ]
  },
  {
   "cell_type": "code",
   "execution_count": 3,
   "metadata": {
    "collapsed": false,
    "scrolled": false
   },
   "outputs": [
    {
     "data": {
      "text/plain": [
       "phyloseq-class experiment-level object\n",
       "otu_table()   OTU Table:         [ 10271 taxa and 232 samples ]\n",
       "sample_data() Sample Data:       [ 232 samples by 3 sample variables ]\n",
       "tax_table()   Taxonomy Table:    [ 10271 taxa by 7 taxonomic ranks ]"
      ]
     },
     "metadata": {},
     "output_type": "display_data"
    }
   ],
   "source": [
    "biom95"
   ]
  },
  {
   "cell_type": "markdown",
   "metadata": {},
   "source": [
    "Here is our current metadata for samples. We can subset by library type (leaf or wood), sample or control, and sample number. The unique identifiers (first column) were the name of the sample assigned by the illumina software."
   ]
  },
  {
   "cell_type": "code",
   "execution_count": 4,
   "metadata": {
    "collapsed": false,
    "scrolled": true
   },
   "outputs": [
    {
     "data": {
      "text/html": [
       "<table>\n",
       "<thead><tr><th></th><th scope=col>Library</th><th scope=col>SampleNumber</th><th scope=col>SorC</th></tr></thead>\n",
       "<tbody>\n",
       "\t<tr><th scope=row>160wood</th><td>W      </td><td>Dc-X   </td><td>Control</td></tr>\n",
       "\t<tr><th scope=row>161wood</th><td>W      </td><td>Dc-PosG</td><td>Control</td></tr>\n",
       "\t<tr><th scope=row>162wood</th><td>W      </td><td>Dc-PosI</td><td>Control</td></tr>\n",
       "\t<tr><th scope=row>163wood</th><td>W      </td><td>Dc-Neg </td><td>Control</td></tr>\n",
       "\t<tr><th scope=row>164wood</th><td>W      </td><td>1      </td><td>Sample </td></tr>\n",
       "\t<tr><th scope=row>165wood</th><td>W      </td><td>2      </td><td>Sample </td></tr>\n",
       "</tbody>\n",
       "</table>\n"
      ],
      "text/latex": [
       "\\begin{tabular}{r|lll}\n",
       "  & Library & SampleNumber & SorC\\\\\n",
       "\\hline\n",
       "\t160wood & W       & Dc-X    & Control\\\\\n",
       "\t161wood & W       & Dc-PosG & Control\\\\\n",
       "\t162wood & W       & Dc-PosI & Control\\\\\n",
       "\t163wood & W       & Dc-Neg  & Control\\\\\n",
       "\t164wood & W       & 1       & Sample \\\\\n",
       "\t165wood & W       & 2       & Sample \\\\\n",
       "\\end{tabular}\n"
      ],
      "text/markdown": [
       "$Library\n",
       ":   1. 'W'\n",
       "2. 'W'\n",
       "3. 'W'\n",
       "4. 'W'\n",
       "5. 'W'\n",
       "6. 'W'\n",
       "\n",
       "\n",
       "\n",
       "$SampleNumber\n",
       ":   1. 'Dc-X'\n",
       "2. 'Dc-PosG'\n",
       "3. 'Dc-PosI'\n",
       "4. 'Dc-Neg'\n",
       "5. '1'\n",
       "6. '2'\n",
       "\n",
       "\n",
       "\n",
       "$SorC\n",
       ":   1. 'Control'\n",
       "2. 'Control'\n",
       "3. 'Control'\n",
       "4. 'Control'\n",
       "5. 'Sample'\n",
       "6. 'Sample'\n",
       "\n",
       "\n",
       "\n",
       "\n",
       "\n"
      ],
      "text/plain": [
       "        Library SampleNumber SorC   \n",
       "160wood W       Dc-X         Control\n",
       "161wood W       Dc-PosG      Control\n",
       "162wood W       Dc-PosI      Control\n",
       "163wood W       Dc-Neg       Control\n",
       "164wood W       1            Sample \n",
       "165wood W       2            Sample "
      ]
     },
     "metadata": {},
     "output_type": "display_data"
    }
   ],
   "source": [
    "head(sample_data(biom95))"
   ]
  },
  {
   "cell_type": "markdown",
   "metadata": {},
   "source": [
    "<a id='nc'></a>"
   ]
  },
  {
   "cell_type": "markdown",
   "metadata": {},
   "source": [
    "## Cleanup of biom tables using negative controls"
   ]
  },
  {
   "cell_type": "markdown",
   "metadata": {},
   "source": [
    "Okay, as per the recommendations of [Nguyen 2015](http://onlinelibrary.wiley.com/doi/10.1111/nph.12923/full), we'll remove sequences of OTUs found in our negative controls, up to the amount of reads found for these OTUs in our negative controls. \n",
    "\n",
    "What do we find in our negatives? Make a phyloseq object of just our wood negative:"
   ]
  },
  {
   "cell_type": "code",
   "execution_count": 5,
   "metadata": {
    "collapsed": true
   },
   "outputs": [],
   "source": [
    "neg95 <- subset_samples(biom95, SampleNumber=='Neg')"
   ]
  },
  {
   "cell_type": "code",
   "execution_count": 6,
   "metadata": {
    "collapsed": false,
    "scrolled": true
   },
   "outputs": [
    {
     "data": {
      "text/plain": [
       "phyloseq-class experiment-level object\n",
       "otu_table()   OTU Table:         [ 10271 taxa and 1 samples ]\n",
       "sample_data() Sample Data:       [ 1 samples by 3 sample variables ]\n",
       "tax_table()   Taxonomy Table:    [ 10271 taxa by 7 taxonomic ranks ]"
      ]
     },
     "metadata": {},
     "output_type": "display_data"
    }
   ],
   "source": [
    "neg95"
   ]
  },
  {
   "cell_type": "markdown",
   "metadata": {},
   "source": [
    "How many contaminants do we have? Total reads:"
   ]
  },
  {
   "cell_type": "code",
   "execution_count": 13,
   "metadata": {
    "collapsed": false
   },
   "outputs": [
    {
     "data": {
      "text/html": [
       "1759"
      ],
      "text/latex": [
       "1759"
      ],
      "text/markdown": [
       "1759"
      ],
      "text/plain": [
       "[1] 1759"
      ]
     },
     "metadata": {},
     "output_type": "display_data"
    }
   ],
   "source": [
    "sum(taxa_sums(neg95)[taxa_sums(neg95)>0])"
   ]
  },
  {
   "cell_type": "markdown",
   "metadata": {},
   "source": [
    "Which OTUs, and how many of each?"
   ]
  },
  {
   "cell_type": "code",
   "execution_count": 8,
   "metadata": {
    "collapsed": false,
    "scrolled": true
   },
   "outputs": [
    {
     "data": {
      "text/html": [
       "<dl class=dl-horizontal>\n",
       "\t<dt>OTU116:65Leaf</dt>\n",
       "\t\t<dd>544</dd>\n",
       "\t<dt>OTU89:65Leaf</dt>\n",
       "\t\t<dd>98</dd>\n",
       "\t<dt>OTU1767:163wood</dt>\n",
       "\t\t<dd>1</dd>\n",
       "\t<dt>OTU247:112.2Leaf</dt>\n",
       "\t\t<dd>40</dd>\n",
       "\t<dt>OTU667:114Leaf</dt>\n",
       "\t\t<dd>61</dd>\n",
       "\t<dt>OTU254:161wood</dt>\n",
       "\t\t<dd>1</dd>\n",
       "\t<dt>OTU737:164wood</dt>\n",
       "\t\t<dd>69</dd>\n",
       "\t<dt>OTU139:161wood</dt>\n",
       "\t\t<dd>3</dd>\n",
       "\t<dt>OTU127:12Leaf</dt>\n",
       "\t\t<dd>1</dd>\n",
       "\t<dt>OTU181:104Leaf</dt>\n",
       "\t\t<dd>56</dd>\n",
       "\t<dt>OTU285:161wood</dt>\n",
       "\t\t<dd>109</dd>\n",
       "\t<dt>OTU234:161wood</dt>\n",
       "\t\t<dd>2</dd>\n",
       "\t<dt>OTU210:161wood</dt>\n",
       "\t\t<dd>1</dd>\n",
       "\t<dt>OTU155:122Leaf</dt>\n",
       "\t\t<dd>2</dd>\n",
       "\t<dt>OTU230:70Leaf</dt>\n",
       "\t\t<dd>1</dd>\n",
       "\t<dt>OTU304:161wood</dt>\n",
       "\t\t<dd>109</dd>\n",
       "\t<dt>OTU246:161wood</dt>\n",
       "\t\t<dd>1</dd>\n",
       "\t<dt>OTU491:161wood</dt>\n",
       "\t\t<dd>51</dd>\n",
       "\t<dt>OTU825:192wood</dt>\n",
       "\t\t<dd>1</dd>\n",
       "\t<dt>OTU97:51Leaf</dt>\n",
       "\t\t<dd>1</dd>\n",
       "\t<dt>OTU339:167wood</dt>\n",
       "\t\t<dd>1</dd>\n",
       "\t<dt>OTU361:164wood</dt>\n",
       "\t\t<dd>20</dd>\n",
       "\t<dt>OTU391:164wood</dt>\n",
       "\t\t<dd>1</dd>\n",
       "\t<dt>OTU282:165wood</dt>\n",
       "\t\t<dd>1</dd>\n",
       "\t<dt>OTU67:14Leaf</dt>\n",
       "\t\t<dd>1</dd>\n",
       "\t<dt>OTU356:173wood</dt>\n",
       "\t\t<dd>1</dd>\n",
       "\t<dt>OTU252:35Leaf</dt>\n",
       "\t\t<dd>1</dd>\n",
       "\t<dt>OTU68:55Leaf</dt>\n",
       "\t\t<dd>1</dd>\n",
       "\t<dt>OTU69:100Leaf</dt>\n",
       "\t\t<dd>1</dd>\n",
       "\t<dt>OTU567:132Leaf</dt>\n",
       "\t\t<dd>1</dd>\n",
       "\t<dt>OTU1231:103Leaf</dt>\n",
       "\t\t<dd>36</dd>\n",
       "\t<dt>OTU1473:172wood</dt>\n",
       "\t\t<dd>64</dd>\n",
       "\t<dt>OTU288:167wood</dt>\n",
       "\t\t<dd>185</dd>\n",
       "\t<dt>OTU216:90Leaf</dt>\n",
       "\t\t<dd>1</dd>\n",
       "\t<dt>OTU1322:170wood</dt>\n",
       "\t\t<dd>4</dd>\n",
       "\t<dt>OTU2396:168wood</dt>\n",
       "\t\t<dd>4</dd>\n",
       "\t<dt>OTU789:254wood</dt>\n",
       "\t\t<dd>1</dd>\n",
       "\t<dt>OTU113:194wood</dt>\n",
       "\t\t<dd>13</dd>\n",
       "\t<dt>OTU2872:34Leaf</dt>\n",
       "\t\t<dd>1</dd>\n",
       "\t<dt>OTU1483:255wood</dt>\n",
       "\t\t<dd>50</dd>\n",
       "\t<dt>OTU1108:125Leaf</dt>\n",
       "\t\t<dd>1</dd>\n",
       "\t<dt>OTU848:121Leaf</dt>\n",
       "\t\t<dd>60</dd>\n",
       "\t<dt>OTU1143:172wood</dt>\n",
       "\t\t<dd>48</dd>\n",
       "\t<dt>OTU1806:252wood</dt>\n",
       "\t\t<dd>1</dd>\n",
       "\t<dt>OTU1376:240wood</dt>\n",
       "\t\t<dd>32</dd>\n",
       "\t<dt>OTU5194:51Leaf</dt>\n",
       "\t\t<dd>23</dd>\n",
       "\t<dt>OTU8517:173wood</dt>\n",
       "\t\t<dd>1</dd>\n",
       "\t<dt>OTU770:48Leaf</dt>\n",
       "\t\t<dd>1</dd>\n",
       "\t<dt>OTU518:190wood</dt>\n",
       "\t\t<dd>1</dd>\n",
       "\t<dt>OTU1591:183wood</dt>\n",
       "\t\t<dd>1</dd>\n",
       "\t<dt>OTU1228:199wood</dt>\n",
       "\t\t<dd>44</dd>\n",
       "\t<dt>OTU80:207wood</dt>\n",
       "\t\t<dd>3</dd>\n",
       "\t<dt>OTU808:252wood</dt>\n",
       "\t\t<dd>1</dd>\n",
       "\t<dt>OTU1816:253wood</dt>\n",
       "\t\t<dd>2</dd>\n",
       "</dl>\n"
      ],
      "text/latex": [
       "\\begin{description*}\n",
       "\\item[OTU116:65Leaf] 544\n",
       "\\item[OTU89:65Leaf] 98\n",
       "\\item[OTU1767:163wood] 1\n",
       "\\item[OTU247:112.2Leaf] 40\n",
       "\\item[OTU667:114Leaf] 61\n",
       "\\item[OTU254:161wood] 1\n",
       "\\item[OTU737:164wood] 69\n",
       "\\item[OTU139:161wood] 3\n",
       "\\item[OTU127:12Leaf] 1\n",
       "\\item[OTU181:104Leaf] 56\n",
       "\\item[OTU285:161wood] 109\n",
       "\\item[OTU234:161wood] 2\n",
       "\\item[OTU210:161wood] 1\n",
       "\\item[OTU155:122Leaf] 2\n",
       "\\item[OTU230:70Leaf] 1\n",
       "\\item[OTU304:161wood] 109\n",
       "\\item[OTU246:161wood] 1\n",
       "\\item[OTU491:161wood] 51\n",
       "\\item[OTU825:192wood] 1\n",
       "\\item[OTU97:51Leaf] 1\n",
       "\\item[OTU339:167wood] 1\n",
       "\\item[OTU361:164wood] 20\n",
       "\\item[OTU391:164wood] 1\n",
       "\\item[OTU282:165wood] 1\n",
       "\\item[OTU67:14Leaf] 1\n",
       "\\item[OTU356:173wood] 1\n",
       "\\item[OTU252:35Leaf] 1\n",
       "\\item[OTU68:55Leaf] 1\n",
       "\\item[OTU69:100Leaf] 1\n",
       "\\item[OTU567:132Leaf] 1\n",
       "\\item[OTU1231:103Leaf] 36\n",
       "\\item[OTU1473:172wood] 64\n",
       "\\item[OTU288:167wood] 185\n",
       "\\item[OTU216:90Leaf] 1\n",
       "\\item[OTU1322:170wood] 4\n",
       "\\item[OTU2396:168wood] 4\n",
       "\\item[OTU789:254wood] 1\n",
       "\\item[OTU113:194wood] 13\n",
       "\\item[OTU2872:34Leaf] 1\n",
       "\\item[OTU1483:255wood] 50\n",
       "\\item[OTU1108:125Leaf] 1\n",
       "\\item[OTU848:121Leaf] 60\n",
       "\\item[OTU1143:172wood] 48\n",
       "\\item[OTU1806:252wood] 1\n",
       "\\item[OTU1376:240wood] 32\n",
       "\\item[OTU5194:51Leaf] 23\n",
       "\\item[OTU8517:173wood] 1\n",
       "\\item[OTU770:48Leaf] 1\n",
       "\\item[OTU518:190wood] 1\n",
       "\\item[OTU1591:183wood] 1\n",
       "\\item[OTU1228:199wood] 44\n",
       "\\item[OTU80:207wood] 3\n",
       "\\item[OTU808:252wood] 1\n",
       "\\item[OTU1816:253wood] 2\n",
       "\\end{description*}\n"
      ],
      "text/markdown": [
       "OTU116:65Leaf\n",
       ":   544OTU89:65Leaf\n",
       ":   98OTU1767:163wood\n",
       ":   1OTU247:112.2Leaf\n",
       ":   40OTU667:114Leaf\n",
       ":   61OTU254:161wood\n",
       ":   1OTU737:164wood\n",
       ":   69OTU139:161wood\n",
       ":   3OTU127:12Leaf\n",
       ":   1OTU181:104Leaf\n",
       ":   56OTU285:161wood\n",
       ":   109OTU234:161wood\n",
       ":   2OTU210:161wood\n",
       ":   1OTU155:122Leaf\n",
       ":   2OTU230:70Leaf\n",
       ":   1OTU304:161wood\n",
       ":   109OTU246:161wood\n",
       ":   1OTU491:161wood\n",
       ":   51OTU825:192wood\n",
       ":   1OTU97:51Leaf\n",
       ":   1OTU339:167wood\n",
       ":   1OTU361:164wood\n",
       ":   20OTU391:164wood\n",
       ":   1OTU282:165wood\n",
       ":   1OTU67:14Leaf\n",
       ":   1OTU356:173wood\n",
       ":   1OTU252:35Leaf\n",
       ":   1OTU68:55Leaf\n",
       ":   1OTU69:100Leaf\n",
       ":   1OTU567:132Leaf\n",
       ":   1OTU1231:103Leaf\n",
       ":   36OTU1473:172wood\n",
       ":   64OTU288:167wood\n",
       ":   185OTU216:90Leaf\n",
       ":   1OTU1322:170wood\n",
       ":   4OTU2396:168wood\n",
       ":   4OTU789:254wood\n",
       ":   1OTU113:194wood\n",
       ":   13OTU2872:34Leaf\n",
       ":   1OTU1483:255wood\n",
       ":   50OTU1108:125Leaf\n",
       ":   1OTU848:121Leaf\n",
       ":   60OTU1143:172wood\n",
       ":   48OTU1806:252wood\n",
       ":   1OTU1376:240wood\n",
       ":   32OTU5194:51Leaf\n",
       ":   23OTU8517:173wood\n",
       ":   1OTU770:48Leaf\n",
       ":   1OTU518:190wood\n",
       ":   1OTU1591:183wood\n",
       ":   1OTU1228:199wood\n",
       ":   44OTU80:207wood\n",
       ":   3OTU808:252wood\n",
       ":   1OTU1816:253wood\n",
       ":   2\n",
       "\n"
      ],
      "text/plain": [
       "   OTU116:65Leaf     OTU89:65Leaf  OTU1767:163wood OTU247:112.2Leaf \n",
       "             544               98                1               40 \n",
       "  OTU667:114Leaf   OTU254:161wood   OTU737:164wood   OTU139:161wood \n",
       "              61                1               69                3 \n",
       "   OTU127:12Leaf   OTU181:104Leaf   OTU285:161wood   OTU234:161wood \n",
       "               1               56              109                2 \n",
       "  OTU210:161wood   OTU155:122Leaf    OTU230:70Leaf   OTU304:161wood \n",
       "               1                2                1              109 \n",
       "  OTU246:161wood   OTU491:161wood   OTU825:192wood     OTU97:51Leaf \n",
       "               1               51                1                1 \n",
       "  OTU339:167wood   OTU361:164wood   OTU391:164wood   OTU282:165wood \n",
       "               1               20                1                1 \n",
       "    OTU67:14Leaf   OTU356:173wood    OTU252:35Leaf     OTU68:55Leaf \n",
       "               1                1                1                1 \n",
       "   OTU69:100Leaf   OTU567:132Leaf  OTU1231:103Leaf  OTU1473:172wood \n",
       "               1                1               36               64 \n",
       "  OTU288:167wood    OTU216:90Leaf  OTU1322:170wood  OTU2396:168wood \n",
       "             185                1                4                4 \n",
       "  OTU789:254wood   OTU113:194wood   OTU2872:34Leaf  OTU1483:255wood \n",
       "               1               13                1               50 \n",
       " OTU1108:125Leaf   OTU848:121Leaf  OTU1143:172wood  OTU1806:252wood \n",
       "               1               60               48                1 \n",
       " OTU1376:240wood   OTU5194:51Leaf  OTU8517:173wood    OTU770:48Leaf \n",
       "              32               23                1                1 \n",
       "  OTU518:190wood  OTU1591:183wood  OTU1228:199wood    OTU80:207wood \n",
       "               1                1               44                3 \n",
       "  OTU808:252wood  OTU1816:253wood \n",
       "               1                2 "
      ]
     },
     "metadata": {},
     "output_type": "display_data"
    }
   ],
   "source": [
    "taxa_sums(neg95)[taxa_sums(neg95)>0]"
   ]
  },
  {
   "cell_type": "markdown",
   "metadata": {},
   "source": [
    "A quick visual summary of the top 15 contaminants:"
   ]
  },
  {
   "cell_type": "code",
   "execution_count": 9,
   "metadata": {
    "collapsed": true
   },
   "outputs": [],
   "source": [
    "aa <- taxa_sums(neg95)[taxa_sums(neg95)>0]\n",
    "aa <- sort(aa, decreasing = TRUE)[1:15]\n",
    "neg95_top15 <- prune_taxa(names(aa), neg95)"
   ]
  },
  {
   "cell_type": "code",
   "execution_count": 10,
   "metadata": {
    "collapsed": false,
    "scrolled": false
   },
   "outputs": [
    {
     "data": {},
     "metadata": {},
     "output_type": "display_data"
    },
    {
     "data": {
      "image/png": "[encoded data removed]",
      "text/plain": [
       "plot without title"
      ]
     },
     "metadata": {},
     "output_type": "display_data"
    }
   ],
   "source": [
    "options(repr.plot.width = 4, repr.plot.height = 2) ## using repr to control size of R plotter outputs\n",
    "plot_bar(neg95_top15, \"Genus\")"
   ]
  },
  {
   "cell_type": "markdown",
   "metadata": {},
   "source": [
    "This stacks OTUs in the same taxonomic category into a single column. Hence, two OTUs assigned to *Mycosphaerella* are stacked, and 6 unidentified OTUs are stacked into the final bin. "
   ]
  },
  {
   "cell_type": "markdown",
   "metadata": {},
   "source": [
    "So, we can subtract the sequence quantities found in our negative control from all other samples by digging into the architecture of our phyloseq objects. If we look at our biom95 object, we can see that our read counts are stored in a matrix-like object in the otu_table slot:"
   ]
  },
  {
   "cell_type": "code",
   "execution_count": 11,
   "metadata": {
    "collapsed": false
   },
   "outputs": [
    {
     "name": "stdout",
     "output_type": "stream",
     "text": [
      "Formal class 'phyloseq' [package \"phyloseq\"] with 5 slots\n",
      "  ..@ otu_table:Formal class 'otu_table' [package \"phyloseq\"] with 2 slots\n",
      "  .. .. ..@ .Data        : num [1:10271, 1:232] 70976 4 2 318 8 ...\n",
      "  .. .. .. ..- attr(*, \"dimnames\")=List of 2\n",
      "  .. .. .. .. ..$ : chr [1:10271] \"OTU1:X_hypoxylon_Oregon\" \"OTU7654:160wood\" \"OTU2438:53Leaf\" \"OTU541:114Leaf\" ...\n",
      "  .. .. .. .. ..$ : chr [1:232] \"160wood\" \"161wood\" \"162wood\" \"163wood\" ...\n",
      "  .. .. ..@ taxa_are_rows: logi TRUE\n",
      "  ..@ tax_table:Formal class 'taxonomyTable' [package \"phyloseq\"] with 1 slot\n",
      "  .. .. ..@ .Data: chr [1:10271, 1:7] \"Fungi\" \"Fungi\" \"Fungi\" \"Fungi\" ...\n",
      "  .. .. .. ..- attr(*, \"dimnames\")=List of 2\n",
      "  .. .. .. .. ..$ : chr [1:10271] \"OTU1:X_hypoxylon_Oregon\" \"OTU7654:160wood\" \"OTU2438:53Leaf\" \"OTU541:114Leaf\" ...\n",
      "  .. .. .. .. ..$ : chr [1:7] \"Kingdom\" \"Phylum\" \"Class\" \"Order\" ...\n",
      "  ..@ sam_data :'data.frame':\t232 obs. of  3 variables:\n",
      "Formal class 'sample_data' [package \"phyloseq\"] with 4 slots\n",
      "  .. .. ..@ .Data    :List of 3\n",
      "  .. .. .. ..$ : chr [1:232] \"W\" \"W\" \"W\" \"W\" ...\n",
      "  .. .. .. ..$ : chr [1:232] \"Dc-X\" \"Dc-PosG\" \"Dc-PosI\" \"Dc-Neg\" ...\n",
      "  .. .. .. ..$ : chr [1:232] \"Control\" \"Control\" \"Control\" \"Control\" ...\n",
      "  .. .. ..@ names    : chr [1:3] \"Library\" \"SampleNumber\" \"SorC\"\n",
      "  .. .. ..@ row.names: chr [1:232] \"160wood\" \"161wood\" \"162wood\" \"163wood\" ...\n",
      "  .. .. ..@ .S3Class : chr \"data.frame\"\n",
      "  ..@ phy_tree : NULL\n",
      "  ..@ refseq   : NULL\n"
     ]
    }
   ],
   "source": [
    "str(biom95)"
   ]
  },
  {
   "cell_type": "markdown",
   "metadata": {},
   "source": [
    "To subtract the negative control reads from the others, we can treat these objects like matrices and subtract the column of the negative control from all other columns. In this case, we need to subtract the wood column negative control from the wood samples, and the leaf negative controls from the leaves (there are two). "
   ]
  },
  {
   "cell_type": "code",
   "execution_count": 14,
   "metadata": {
    "collapsed": true
   },
   "outputs": [],
   "source": [
    "## make a phyloseq object, in case we mess something up:\n",
    "biom95.nonc <- biom95"
   ]
  },
  {
   "cell_type": "markdown",
   "metadata": {},
   "source": [
    "Wood samples:"
   ]
  },
  {
   "cell_type": "code",
   "execution_count": 16,
   "metadata": {
    "collapsed": true
   },
   "outputs": [],
   "source": [
    "wood95 <- subset_samples(biom95, Library=='W') ## our wood samples\n",
    "woodneg95 <- subset_samples(biom95, SampleNumber=='Neg') ## our wood negative\n",
    "wood95@otu_table@.Data <- wood95@otu_table@.Data - woodneg95@otu_table@.Data[,1] ## subtract out the controls"
   ]
  },
  {
   "cell_type": "markdown",
   "metadata": {},
   "source": [
    "Leaf samples:"
   ]
  },
  {
   "cell_type": "code",
   "execution_count": 17,
   "metadata": {
    "collapsed": true
   },
   "outputs": [],
   "source": [
    "leaf95 <- subset_samples(biom95, Library=='L')  ## leaves only\n",
    "leafneg95 <- subset_samples(biom95, SampleNumber=='NC_1' | SampleNumber=='NC_2') ## leaf negative controls\n",
    "leaf95@otu_table@.Data <- leaf95@otu_table@.Data - leafneg95@otu_table@.Data[,1] - leafneg95@otu_table@.Data[,2] ## subtract out the controls"
   ]
  },
  {
   "cell_type": "markdown",
   "metadata": {},
   "source": [
    "Now reassemble these, plus the stromata abundance column. Negative numbers are reassigned a zero value:"
   ]
  },
  {
   "cell_type": "code",
   "execution_count": 18,
   "metadata": {
    "collapsed": true
   },
   "outputs": [],
   "source": [
    "strom95 <- subset_samples(biom95, Library=='S')  ## stromata\n",
    "bb <- cbind(wood95@otu_table@.Data, leaf95@otu_table@.Data, strom95@otu_table@.Data)\n",
    "bb[bb < 0] <- 0"
   ]
  },
  {
   "cell_type": "markdown",
   "metadata": {},
   "source": [
    "Before we do the deed, make sure that dimensions, row/column order have been preserved:"
   ]
  },
  {
   "cell_type": "code",
   "execution_count": 19,
   "metadata": {
    "collapsed": false,
    "scrolled": true
   },
   "outputs": [
    {
     "data": {
      "text/html": [
       "FALSE"
      ],
      "text/latex": [
       "FALSE"
      ],
      "text/markdown": [
       "FALSE"
      ],
      "text/plain": [
       "[1] FALSE"
      ]
     },
     "metadata": {},
     "output_type": "display_data"
    },
    {
     "data": {
      "text/html": [
       "FALSE"
      ],
      "text/latex": [
       "FALSE"
      ],
      "text/markdown": [
       "FALSE"
      ],
      "text/plain": [
       "[1] FALSE"
      ]
     },
     "metadata": {},
     "output_type": "display_data"
    }
   ],
   "source": [
    "any(colnames(biom95@otu_table@.Data) != colnames(bb))\n",
    "any(rownames(biom95@otu_table@.Data) != rownames(bb))"
   ]
  },
  {
   "cell_type": "code",
   "execution_count": 20,
   "metadata": {
    "collapsed": false,
    "scrolled": true
   },
   "outputs": [
    {
     "data": {
      "text/html": [
       "<ol class=list-inline>\n",
       "\t<li>10271</li>\n",
       "\t<li>232</li>\n",
       "</ol>\n"
      ],
      "text/latex": [
       "\\begin{enumerate*}\n",
       "\\item 10271\n",
       "\\item 232\n",
       "\\end{enumerate*}\n"
      ],
      "text/markdown": [
       "1. 10271\n",
       "2. 232\n",
       "\n",
       "\n"
      ],
      "text/plain": [
       "[1] 10271   232"
      ]
     },
     "metadata": {},
     "output_type": "display_data"
    },
    {
     "data": {
      "text/html": [
       "<ol class=list-inline>\n",
       "\t<li>10271</li>\n",
       "\t<li>232</li>\n",
       "</ol>\n"
      ],
      "text/latex": [
       "\\begin{enumerate*}\n",
       "\\item 10271\n",
       "\\item 232\n",
       "\\end{enumerate*}\n"
      ],
      "text/markdown": [
       "1. 10271\n",
       "2. 232\n",
       "\n",
       "\n"
      ],
      "text/plain": [
       "[1] 10271   232"
      ]
     },
     "metadata": {},
     "output_type": "display_data"
    }
   ],
   "source": [
    "dim(bb)\n",
    "dim(biom95@otu_table@.Data)"
   ]
  },
  {
   "cell_type": "markdown",
   "metadata": {},
   "source": [
    "Same row and column names/order, same dimensions, looks good. Substituting this new species matrix into our new phyloseq object:"
   ]
  },
  {
   "cell_type": "code",
   "execution_count": 22,
   "metadata": {
    "collapsed": false,
    "scrolled": true
   },
   "outputs": [],
   "source": [
    "biom95.nonc@otu_table@.Data <- bb"
   ]
  },
  {
   "cell_type": "markdown",
   "metadata": {},
   "source": [
    "<a id='deseq'></a>"
   ]
  },
  {
   "cell_type": "markdown",
   "metadata": {},
   "source": [
    "## Variance stabilization of our reads"
   ]
  },
  {
   "cell_type": "markdown",
   "metadata": {},
   "source": [
    "It's important to [stabilize the variance](http://journals.plos.org/ploscompbiol/article?id=10.1371/journal.pcbi.1003531of) of our combined-leaf-and-wood-endophyte read depths, we'll do this using the [DESeq2](https://bioconductor.org/packages/release/bioc/html/DESeq2.html) package in R. This is a way of making the samples, which have highly variable numbers of reads in them, comparable for downstream statistical analyses."
   ]
  },
  {
   "cell_type": "markdown",
   "metadata": {
    "collapsed": false
   },
   "source": [
    "For the moment, we will repeat Roo's pipeline that he used to lay the groundwork for his other analyses with the leaf-only data. We want to treat this new data as similarly as possible. His first step was to remove controls and low-read (<2000) samples. \n",
    "\n",
    "How many samples have less than 2000 reads in our biom table?"
   ]
  },
  {
   "cell_type": "code",
   "execution_count": 23,
   "metadata": {
    "collapsed": false,
    "scrolled": true
   },
   "outputs": [
    {
     "data": {
      "text/html": [
       "<dl class=dl-horizontal>\n",
       "\t<dt>255wood</dt>\n",
       "\t\t<dd>0</dd>\n",
       "\t<dt>NC_2Leaf</dt>\n",
       "\t\t<dd>0</dd>\n",
       "\t<dt>86Leaf</dt>\n",
       "\t\t<dd>562</dd>\n",
       "\t<dt>NC_1Leaf</dt>\n",
       "\t\t<dd>0</dd>\n",
       "\t<dt>18Leaf</dt>\n",
       "\t\t<dd>1403</dd>\n",
       "\t<dt>67Leaf</dt>\n",
       "\t\t<dd>1376</dd>\n",
       "\t<dt>112_1Leaf</dt>\n",
       "\t\t<dd>1</dd>\n",
       "\t<dt>113_2Leaf</dt>\n",
       "\t\t<dd>3</dd>\n",
       "\t<dt>74Leaf</dt>\n",
       "\t\t<dd>289</dd>\n",
       "\t<dt>113_1Leaf</dt>\n",
       "\t\t<dd>45</dd>\n",
       "\t<dt>126_2Leaf</dt>\n",
       "\t\t<dd>2</dd>\n",
       "\t<dt>91Leaf</dt>\n",
       "\t\t<dd>6</dd>\n",
       "\t<dt>Strom</dt>\n",
       "\t\t<dd>51</dd>\n",
       "</dl>\n"
      ],
      "text/latex": [
       "\\begin{description*}\n",
       "\\item[255wood] 0\n",
       "\\item[NC\\textbackslash{}\\_2Leaf] 0\n",
       "\\item[86Leaf] 562\n",
       "\\item[NC\\textbackslash{}\\_1Leaf] 0\n",
       "\\item[18Leaf] 1403\n",
       "\\item[67Leaf] 1376\n",
       "\\item[112\\textbackslash{}\\_1Leaf] 1\n",
       "\\item[113\\textbackslash{}\\_2Leaf] 3\n",
       "\\item[74Leaf] 289\n",
       "\\item[113\\textbackslash{}\\_1Leaf] 45\n",
       "\\item[126\\textbackslash{}\\_2Leaf] 2\n",
       "\\item[91Leaf] 6\n",
       "\\item[Strom] 51\n",
       "\\end{description*}\n"
      ],
      "text/markdown": [
       "255wood\n",
       ":   0NC_2Leaf\n",
       ":   086Leaf\n",
       ":   562NC_1Leaf\n",
       ":   018Leaf\n",
       ":   140367Leaf\n",
       ":   1376112_1Leaf\n",
       ":   1113_2Leaf\n",
       ":   374Leaf\n",
       ":   289113_1Leaf\n",
       ":   45126_2Leaf\n",
       ":   291Leaf\n",
       ":   6Strom\n",
       ":   51\n",
       "\n"
      ],
      "text/plain": [
       "  255wood  NC_2Leaf    86Leaf  NC_1Leaf    18Leaf    67Leaf 112_1Leaf 113_2Leaf \n",
       "        0         0       562         0      1403      1376         1         3 \n",
       "   74Leaf 113_1Leaf 126_2Leaf    91Leaf     Strom \n",
       "      289        45         2         6        51 "
      ]
     },
     "metadata": {},
     "output_type": "display_data"
    }
   ],
   "source": [
    "sample_sums(biom95.nonc)[sample_sums(biom95.nonc) < 2000]"
   ]
  },
  {
   "cell_type": "markdown",
   "metadata": {},
   "source": [
    "Not many. Some of these needed to be removed anyway, the negative controls and the low-read \"\\_\" reads, which represented empty samples included in the run. "
   ]
  },
  {
   "cell_type": "code",
   "execution_count": 24,
   "metadata": {
    "collapsed": true
   },
   "outputs": [],
   "source": [
    "biom95_hiread <- prune_samples(sample_sums(biom95.nonc)>=2000, biom95)"
   ]
  },
  {
   "cell_type": "markdown",
   "metadata": {},
   "source": [
    "Did this work? "
   ]
  },
  {
   "cell_type": "code",
   "execution_count": 25,
   "metadata": {
    "collapsed": false
   },
   "outputs": [
    {
     "data": {
      "text/html": [],
      "text/latex": [],
      "text/markdown": [],
      "text/plain": [
       "named numeric(0)"
      ]
     },
     "metadata": {},
     "output_type": "display_data"
    }
   ],
   "source": [
    "sample_sums(biom95_hiread)[sample_sums(biom95_hiread) < 2000]"
   ]
  },
  {
   "cell_type": "markdown",
   "metadata": {},
   "source": [
    "Nada. Worked. Now remove controls. We'll work more with the mock communities and other positive controls in the future. The leaves did not contain a positive control, so this is out of the scope of Roo's analysis. "
   ]
  },
  {
   "cell_type": "code",
   "execution_count": 26,
   "metadata": {
    "collapsed": true
   },
   "outputs": [],
   "source": [
    "biom95_hiread_nocontrol <- subset_samples(biom95_hiread, SorC==\"Sample\")"
   ]
  },
  {
   "cell_type": "code",
   "execution_count": 27,
   "metadata": {
    "collapsed": false,
    "scrolled": true
   },
   "outputs": [
    {
     "data": {
      "text/html": [
       "<table>\n",
       "<thead><tr><th></th><th scope=col>Library</th><th scope=col>SampleNumber</th><th scope=col>SorC</th></tr></thead>\n",
       "<tbody>\n",
       "\t<tr><th scope=row>164wood</th><td>W     </td><td>1     </td><td>Sample</td></tr>\n",
       "\t<tr><th scope=row>165wood</th><td>W     </td><td>2     </td><td>Sample</td></tr>\n",
       "\t<tr><th scope=row>166wood</th><td>W     </td><td>3     </td><td>Sample</td></tr>\n",
       "\t<tr><th scope=row>167wood</th><td>W     </td><td>4     </td><td>Sample</td></tr>\n",
       "\t<tr><th scope=row>168wood</th><td>W     </td><td>5     </td><td>Sample</td></tr>\n",
       "\t<tr><th scope=row>169wood</th><td>W     </td><td>7     </td><td>Sample</td></tr>\n",
       "</tbody>\n",
       "</table>\n"
      ],
      "text/latex": [
       "\\begin{tabular}{r|lll}\n",
       "  & Library & SampleNumber & SorC\\\\\n",
       "\\hline\n",
       "\t164wood & W      & 1      & Sample\\\\\n",
       "\t165wood & W      & 2      & Sample\\\\\n",
       "\t166wood & W      & 3      & Sample\\\\\n",
       "\t167wood & W      & 4      & Sample\\\\\n",
       "\t168wood & W      & 5      & Sample\\\\\n",
       "\t169wood & W      & 7      & Sample\\\\\n",
       "\\end{tabular}\n"
      ],
      "text/markdown": [
       "$Library\n",
       ":   1. 'W'\n",
       "2. 'W'\n",
       "3. 'W'\n",
       "4. 'W'\n",
       "5. 'W'\n",
       "6. 'W'\n",
       "\n",
       "\n",
       "\n",
       "$SampleNumber\n",
       ":   1. '1'\n",
       "2. '2'\n",
       "3. '3'\n",
       "4. '4'\n",
       "5. '5'\n",
       "6. '7'\n",
       "\n",
       "\n",
       "\n",
       "$SorC\n",
       ":   1. 'Sample'\n",
       "2. 'Sample'\n",
       "3. 'Sample'\n",
       "4. 'Sample'\n",
       "5. 'Sample'\n",
       "6. 'Sample'\n",
       "\n",
       "\n",
       "\n",
       "\n",
       "\n"
      ],
      "text/plain": [
       "        Library SampleNumber SorC  \n",
       "164wood W       1            Sample\n",
       "165wood W       2            Sample\n",
       "166wood W       3            Sample\n",
       "167wood W       4            Sample\n",
       "168wood W       5            Sample\n",
       "169wood W       7            Sample"
      ]
     },
     "metadata": {},
     "output_type": "display_data"
    },
    {
     "data": {
      "text/html": [
       "<table>\n",
       "<thead><tr><th></th><th scope=col>Library</th><th scope=col>SampleNumber</th><th scope=col>SorC</th></tr></thead>\n",
       "<tbody>\n",
       "\t<tr><th scope=row>47Leaf</th><td>L     </td><td>47    </td><td>Sample</td></tr>\n",
       "\t<tr><th scope=row>39Leaf</th><td>L     </td><td>39    </td><td>Sample</td></tr>\n",
       "\t<tr><th scope=row>5Leaf</th><td>L     </td><td>5     </td><td>Sample</td></tr>\n",
       "\t<tr><th scope=row>28Leaf</th><td>L     </td><td>28    </td><td>Sample</td></tr>\n",
       "\t<tr><th scope=row>19Leaf</th><td>L     </td><td>19    </td><td>Sample</td></tr>\n",
       "\t<tr><th scope=row>3Leaf</th><td>L     </td><td>3     </td><td>Sample</td></tr>\n",
       "</tbody>\n",
       "</table>\n"
      ],
      "text/latex": [
       "\\begin{tabular}{r|lll}\n",
       "  & Library & SampleNumber & SorC\\\\\n",
       "\\hline\n",
       "\t47Leaf & L      & 47     & Sample\\\\\n",
       "\t39Leaf & L      & 39     & Sample\\\\\n",
       "\t5Leaf & L      & 5      & Sample\\\\\n",
       "\t28Leaf & L      & 28     & Sample\\\\\n",
       "\t19Leaf & L      & 19     & Sample\\\\\n",
       "\t3Leaf & L      & 3      & Sample\\\\\n",
       "\\end{tabular}\n"
      ],
      "text/markdown": [
       "$Library\n",
       ":   1. 'L'\n",
       "2. 'L'\n",
       "3. 'L'\n",
       "4. 'L'\n",
       "5. 'L'\n",
       "6. 'L'\n",
       "\n",
       "\n",
       "\n",
       "$SampleNumber\n",
       ":   1. '47'\n",
       "2. '39'\n",
       "3. '5'\n",
       "4. '28'\n",
       "5. '19'\n",
       "6. '3'\n",
       "\n",
       "\n",
       "\n",
       "$SorC\n",
       ":   1. 'Sample'\n",
       "2. 'Sample'\n",
       "3. 'Sample'\n",
       "4. 'Sample'\n",
       "5. 'Sample'\n",
       "6. 'Sample'\n",
       "\n",
       "\n",
       "\n",
       "\n",
       "\n"
      ],
      "text/plain": [
       "       Library SampleNumber SorC  \n",
       "47Leaf L       47           Sample\n",
       "39Leaf L       39           Sample\n",
       "5Leaf  L       5            Sample\n",
       "28Leaf L       28           Sample\n",
       "19Leaf L       19           Sample\n",
       "3Leaf  L       3            Sample"
      ]
     },
     "metadata": {},
     "output_type": "display_data"
    }
   ],
   "source": [
    "head(sample_data(biom95_hiread_nocontrol)); tail(sample_data(biom95_hiread_nocontrol))"
   ]
  },
  {
   "cell_type": "markdown",
   "metadata": {},
   "source": [
    "Roo has written a function to stream-line the process of using deseq variance stabilization, because it was originally written for RNA-seq data, with dense matrices. Species matrices are usually pretty sparse, so deseq needs a few workarounds to handle our kind of data. Thankfully, Roo has worked on this, and saved me probably weeks of work. His function looks like this: \n"
   ]
  },
  {
   "cell_type": "code",
   "execution_count": 28,
   "metadata": {
    "collapsed": true
   },
   "outputs": [],
   "source": [
    "DESeq_varstab <- function(phyloseq, design) {\n",
    "# phyloseq = the input phyloseq object that you want to get DESeq transformed counts for\n",
    "# design_variable = the design for the conversion to the DESeq object. must be in the form \"as a function of\", for example \"~Host_Genus\", must be a variable in the phyloseq object\n",
    "\n",
    "        # Set variables to NULL\n",
    "        deseq.vst = NULL\n",
    "        geo_Means = NULL\n",
    "        phyloseq.DESeq = NULL\n",
    "\n",
    "        # Convert to a DESeq object\n",
    "        deseq = phyloseq_to_deseq2(phyloseq, design)\n",
    "\n",
    "        # calculate geometric means prior to estimate size factors\n",
    "        gm_mean = function(x, na.rm=TRUE){\n",
    "                exp(sum(log(x[x > 0]), na.rm=na.rm) / length(x))\n",
    "                }\n",
    "\n",
    "        geo_Means = apply(counts(deseq), 1, gm_mean)\n",
    "\n",
    "        # Check to see if any columns (samples) don't have any OTUs in them:\n",
    "        if(sum(colSums(counts(deseq)) == 0) == 0) { # if all samples have taxa, go on\n",
    "\n",
    "                # Now we step through the size factors, dispersions, and varience stabilization:\n",
    "                deseq = estimateSizeFactors(deseq, geoMeans = geo_Means)\n",
    "                deseq = estimateDispersions(deseq) # long step\n",
    "                deseq.vst = getVarianceStabilizedData(deseq)\n",
    "\n",
    "                # replace negatives with zeros\n",
    "                deseq.vst[deseq.vst <0] <- 0\n",
    "\n",
    "                # add the varience stabilized otu numbers into the dataset:\n",
    "                otu_table(phyloseq) <- otu_table(deseq.vst, taxa_are_rows = TRUE)\n",
    "\n",
    "                # create a new object for the varience stabalized set\n",
    "                phyloseq -> phyloseq.DESeq\n",
    "\n",
    "                # And, filter any taxa that became 0s all the way across\n",
    "                phyloseq.DESeq = filter_taxa(phyloseq.DESeq, function(x) sum(x) > 0.1, T)\n",
    "\n",
    "                # return the new phyloseq object\n",
    "                return(phyloseq.DESeq)\n",
    "\n",
    "        } # end of IF loop \n",
    "        else {return(\"Error: your phyloseq object has samples with no taxa present.\")}\n",
    "\n",
    "} # end function\n"
   ]
  },
  {
   "cell_type": "markdown",
   "metadata": {},
   "source": [
    "So let's try it out on our data. DESeq asks for an experimental design to incorporate in its modeling of read counts. In this instance, we are making comparisons of the relative importance of the origins of our endophytes - are wood endophytes or leaf endophytes more predictive of decomposers (stromata) at a given site? With this question, I believe the design variable is the origin of the sample, leaf or wood, (our \"Library\" metadata variable). "
   ]
  },
  {
   "cell_type": "code",
   "execution_count": 29,
   "metadata": {
    "collapsed": true
   },
   "outputs": [],
   "source": [
    "## match Roo's random seed set, not sure if this is necessary for DeSeq but let's err on the side of caution\n",
    "set.seed(28132)"
   ]
  },
  {
   "cell_type": "code",
   "execution_count": 30,
   "metadata": {
    "collapsed": false,
    "scrolled": false
   },
   "outputs": [
    {
     "name": "stderr",
     "output_type": "stream",
     "text": [
      "converting counts to integer mode\n",
      "Warning message in DESeqDataSet(se, design = design, ignoreRank):\n",
      "“some variables in design formula are characters, converting to factors”gene-wise dispersion estimates\n",
      "mean-dispersion relationship\n",
      "final dispersion estimates\n"
     ]
    }
   ],
   "source": [
    "deseq95 <- DESeq_varstab(biom95_hiread_nocontrol, ~Library)"
   ]
  },
  {
   "cell_type": "markdown",
   "metadata": {},
   "source": [
    "Roo's function goes into DESeq land and back, returning us a phyloseq object. How does our data look after touching the void and coming back to us?"
   ]
  },
  {
   "cell_type": "code",
   "execution_count": 32,
   "metadata": {
    "collapsed": false
   },
   "outputs": [
    {
     "data": {
      "text/plain": [
       "phyloseq-class experiment-level object\n",
       "otu_table()   OTU Table:         [ 7035 taxa and 213 samples ]\n",
       "sample_data() Sample Data:       [ 213 samples by 3 sample variables ]\n",
       "tax_table()   Taxonomy Table:    [ 7035 taxa by 7 taxonomic ranks ]"
      ]
     },
     "metadata": {},
     "output_type": "display_data"
    }
   ],
   "source": [
    "deseq95"
   ]
  },
  {
   "cell_type": "code",
   "execution_count": 33,
   "metadata": {
    "collapsed": false
   },
   "outputs": [
    {
     "data": {
      "text/plain": [
       "phyloseq-class experiment-level object\n",
       "otu_table()   OTU Table:         [ 10271 taxa and 213 samples ]\n",
       "sample_data() Sample Data:       [ 213 samples by 3 sample variables ]\n",
       "tax_table()   Taxonomy Table:    [ 10271 taxa by 7 taxonomic ranks ]"
      ]
     },
     "metadata": {},
     "output_type": "display_data"
    }
   ],
   "source": [
    "biom95_hiread_nocontrol"
   ]
  },
  {
   "cell_type": "markdown",
   "metadata": {},
   "source": [
    "Looks like we lost some taxa. Let's compare the distributions of our read depths before and after variance stabilization:"
   ]
  },
  {
   "cell_type": "code",
   "execution_count": 34,
   "metadata": {
    "collapsed": false,
    "scrolled": true
   },
   "outputs": [
    {
     "data": {
      "image/png": "[encoded data removed]",
      "text/plain": [
       "plot without title"
      ]
     },
     "metadata": {},
     "output_type": "display_data"
    }
   ],
   "source": [
    "par(mfrow = c(1,2))\n",
    "options(repr.plot.width = 10, repr.plot.height = 4)\n",
    "\n",
    "barplot(sample_sums(biom95_hiread_nocontrol), axisnames=FALSE)\n",
    "mtext(text='wood', side = 1, at=50)\n",
    "mtext(text='leaf', side = 1, at=170)\n",
    "\n",
    "barplot(sample_sums(deseq95), axisnames=FALSE)\n",
    "mtext(text='wood', side = 1, at=50)\n",
    "mtext(text='leaf', side = 1, at=170)"
   ]
  },
  {
   "cell_type": "markdown",
   "metadata": {},
   "source": [
    "Huh, it looks like the wood retained more reads than the leaves. I'm a bit confused by this and our low read numbers in general after variance stabilization. Maybe this is due to the very different abundances present between the two studies.  "
   ]
  },
  {
   "cell_type": "markdown",
   "metadata": {},
   "source": [
    "# Redundancy analysis"
   ]
  },
  {
   "cell_type": "markdown",
   "metadata": {},
   "source": [
    "<a id='rdaprep'></a>"
   ]
  },
  {
   "cell_type": "markdown",
   "metadata": {},
   "source": [
    "# Formatting and transforming data for RDA"
   ]
  },
  {
   "cell_type": "markdown",
   "metadata": {},
   "source": [
    "To examine the relative importances of leaf and wood endophytes in predicting decomposer (stromata) populations, we'll employ [Redundancy analysis](https://sites.google.com/site/mb3gustame/constrained-analyses/rda). This is a constrained, direct-gradient type of analysis that is kind of like a multiple regression of a response (Y) matrix to several explanatory (X) matrices.  \n",
    "\n",
    "One of the nice things about RDA is that it is constrained, meaning that it focuses on the variation in our response matrix that can be explained by the variables we supply, though there is some estimation of unexplained variation. We do not expect that all or even most of the variation in our decomposer matrix will be explained by either the leaf or wood endophyte populations. Much of the variation is probably due to environmental conditions, etc. But here we check to see if any variation in our decomposers can be predicted by endophytes, and if so, the relative importance of our leaf and wood endophytes. "
   ]
  },
  {
   "cell_type": "markdown",
   "metadata": {},
   "source": [
    "### Formatting inputs for RDA"
   ]
  },
  {
   "cell_type": "markdown",
   "metadata": {},
   "source": [
    "For our RDAs, we'll need three matrices. Our \"y\" matrix will be the observations of stromata from our sites. The \"x\" matrices will be our wood and leaf species matrices. All three will need to be of the same sites, meaning we need to trim down to the smallest matrix. This is our wood matrix, which had successful DNA purification and amplification in only 91 samples."
   ]
  },
  {
   "cell_type": "markdown",
   "metadata": {},
   "source": [
    "**Wood matrix**"
   ]
  },
  {
   "cell_type": "markdown",
   "metadata": {},
   "source": [
    "To get our wood samples which contained Xylariaceae:"
   ]
  },
  {
   "cell_type": "code",
   "execution_count": 36,
   "metadata": {
    "collapsed": true
   },
   "outputs": [],
   "source": [
    "wood95 <- subset_samples(deseq95, Library=='W') ## wood samples only\n",
    "Xwood95 <- subset_taxa(wood95, Family=='Xylariaceae') ## subset to Xyalriaceae\n",
    "Xwoodmat <- t(otu_table(Xwood95)@.Data) ## get our species matrix out\n",
    "Xwoodmat <- Xwoodmat[,colSums(Xwoodmat) > 0] ## get rid of empty columns"
   ]
  },
  {
   "cell_type": "markdown",
   "metadata": {},
   "source": [
    "Looks like this:"
   ]
  },
  {
   "cell_type": "code",
   "execution_count": 37,
   "metadata": {
    "collapsed": false,
    "scrolled": true
   },
   "outputs": [
    {
     "data": {
      "text/html": [
       "<table>\n",
       "<thead><tr><th></th><th scope=col>OTU1:X_hypoxylon_Oregon</th><th scope=col>OTU254:161wood</th><th scope=col>OTU304:161wood</th><th scope=col>OTU3:H_notatum</th><th scope=col>OTU7:A_aff_atroroseum</th></tr></thead>\n",
       "<tbody>\n",
       "\t<tr><th scope=row>164wood</th><td>0.000000 </td><td>0.0000000</td><td>0        </td><td>0        </td><td>0        </td></tr>\n",
       "\t<tr><th scope=row>165wood</th><td>1.523625 </td><td>0.0000000</td><td>0        </td><td>0        </td><td>0        </td></tr>\n",
       "\t<tr><th scope=row>166wood</th><td>0.000000 </td><td>0.0000000</td><td>0        </td><td>0        </td><td>0        </td></tr>\n",
       "\t<tr><th scope=row>167wood</th><td>0.000000 </td><td>0.0000000</td><td>0        </td><td>0        </td><td>0        </td></tr>\n",
       "\t<tr><th scope=row>168wood</th><td>0.000000 </td><td>0.0000000</td><td>0        </td><td>0        </td><td>0        </td></tr>\n",
       "\t<tr><th scope=row>169wood</th><td>0.000000 </td><td>0.0000000</td><td>0        </td><td>0        </td><td>0        </td></tr>\n",
       "\t<tr><th scope=row>170wood</th><td>0.000000 </td><td>0.0000000</td><td>0        </td><td>0        </td><td>0        </td></tr>\n",
       "\t<tr><th scope=row>171wood</th><td>0.000000 </td><td>0.4978564</td><td>0        </td><td>0        </td><td>0        </td></tr>\n",
       "\t<tr><th scope=row>172wood</th><td>0.000000 </td><td>1.1388586</td><td>0        </td><td>0        </td><td>0        </td></tr>\n",
       "\t<tr><th scope=row>173wood</th><td>2.860447 </td><td>0.6830260</td><td>0        </td><td>0        </td><td>0        </td></tr>\n",
       "</tbody>\n",
       "</table>\n"
      ],
      "text/latex": [
       "\\begin{tabular}{r|lllll}\n",
       "  & OTU1:X\\_hypoxylon\\_Oregon & OTU254:161wood & OTU304:161wood & OTU3:H\\_notatum & OTU7:A\\_aff\\_atroroseum\\\\\n",
       "\\hline\n",
       "\t164wood & 0.000000  & 0.0000000 & 0         & 0         & 0        \\\\\n",
       "\t165wood & 1.523625  & 0.0000000 & 0         & 0         & 0        \\\\\n",
       "\t166wood & 0.000000  & 0.0000000 & 0         & 0         & 0        \\\\\n",
       "\t167wood & 0.000000  & 0.0000000 & 0         & 0         & 0        \\\\\n",
       "\t168wood & 0.000000  & 0.0000000 & 0         & 0         & 0        \\\\\n",
       "\t169wood & 0.000000  & 0.0000000 & 0         & 0         & 0        \\\\\n",
       "\t170wood & 0.000000  & 0.0000000 & 0         & 0         & 0        \\\\\n",
       "\t171wood & 0.000000  & 0.4978564 & 0         & 0         & 0        \\\\\n",
       "\t172wood & 0.000000  & 1.1388586 & 0         & 0         & 0        \\\\\n",
       "\t173wood & 2.860447  & 0.6830260 & 0         & 0         & 0        \\\\\n",
       "\\end{tabular}\n"
      ],
      "text/markdown": [
       "1. 0\n",
       "2. 1.52362482991623\n",
       "3. 0\n",
       "4. 0\n",
       "5. 0\n",
       "6. 0\n",
       "7. 0\n",
       "8. 0\n",
       "9. 0\n",
       "10. 2.86044686410876\n",
       "11. 0\n",
       "12. 0\n",
       "13. 0\n",
       "14. 0\n",
       "15. 0\n",
       "16. 0\n",
       "17. 0\n",
       "18. 0.497856360330141\n",
       "19. 1.13885857941677\n",
       "20. 0.683026001885022\n",
       "21. 0\n",
       "22. 0\n",
       "23. 0\n",
       "24. 0\n",
       "25. 0\n",
       "26. 0\n",
       "27. 0\n",
       "28. 0\n",
       "29. 0\n",
       "30. 0\n",
       "31. 0\n",
       "32. 0\n",
       "33. 0\n",
       "34. 0\n",
       "35. 0\n",
       "36. 0\n",
       "37. 0\n",
       "38. 0\n",
       "39. 0\n",
       "40. 0\n",
       "41. 0\n",
       "42. 0\n",
       "43. 0\n",
       "44. 0\n",
       "45. 0\n",
       "46. 0\n",
       "47. 0\n",
       "48. 0\n",
       "49. 0\n",
       "50. 0\n",
       "\n",
       "\n"
      ],
      "text/plain": [
       "        OTU1:X_hypoxylon_Oregon OTU254:161wood OTU304:161wood OTU3:H_notatum\n",
       "164wood 0.000000                0.0000000      0              0             \n",
       "165wood 1.523625                0.0000000      0              0             \n",
       "166wood 0.000000                0.0000000      0              0             \n",
       "167wood 0.000000                0.0000000      0              0             \n",
       "168wood 0.000000                0.0000000      0              0             \n",
       "169wood 0.000000                0.0000000      0              0             \n",
       "170wood 0.000000                0.0000000      0              0             \n",
       "171wood 0.000000                0.4978564      0              0             \n",
       "172wood 0.000000                1.1388586      0              0             \n",
       "173wood 2.860447                0.6830260      0              0             \n",
       "        OTU7:A_aff_atroroseum\n",
       "164wood 0                    \n",
       "165wood 0                    \n",
       "166wood 0                    \n",
       "167wood 0                    \n",
       "168wood 0                    \n",
       "169wood 0                    \n",
       "170wood 0                    \n",
       "171wood 0                    \n",
       "172wood 0                    \n",
       "173wood 0                    "
      ]
     },
     "metadata": {},
     "output_type": "display_data"
    }
   ],
   "source": [
    "Xwoodmat[1:10,1:5]"
   ]
  },
  {
   "cell_type": "markdown",
   "metadata": {},
   "source": [
    "Nice, but let's rename our rows by their actual sample number, not the names that the illumina software gave them."
   ]
  },
  {
   "cell_type": "code",
   "execution_count": 43,
   "metadata": {
    "collapsed": false,
    "scrolled": true
   },
   "outputs": [
    {
     "data": {
      "text/html": [
       "<table>\n",
       "<thead><tr><th></th><th scope=col>OTU1:X_hypoxylon_Oregon</th><th scope=col>OTU254:161wood</th><th scope=col>OTU304:161wood</th><th scope=col>OTU3:H_notatum</th><th scope=col>OTU7:A_aff_atroroseum</th></tr></thead>\n",
       "<tbody>\n",
       "\t<tr><th scope=row>1</th><td>0.000000 </td><td>0.0000000</td><td>0        </td><td>0        </td><td>0        </td></tr>\n",
       "\t<tr><th scope=row>2</th><td>1.523625 </td><td>0.0000000</td><td>0        </td><td>0        </td><td>0        </td></tr>\n",
       "\t<tr><th scope=row>3</th><td>0.000000 </td><td>0.0000000</td><td>0        </td><td>0        </td><td>0        </td></tr>\n",
       "\t<tr><th scope=row>4</th><td>0.000000 </td><td>0.0000000</td><td>0        </td><td>0        </td><td>0        </td></tr>\n",
       "\t<tr><th scope=row>5</th><td>0.000000 </td><td>0.0000000</td><td>0        </td><td>0        </td><td>0        </td></tr>\n",
       "\t<tr><th scope=row>7</th><td>0.000000 </td><td>0.0000000</td><td>0        </td><td>0        </td><td>0        </td></tr>\n",
       "\t<tr><th scope=row>9</th><td>0.000000 </td><td>0.0000000</td><td>0        </td><td>0        </td><td>0        </td></tr>\n",
       "\t<tr><th scope=row>10</th><td>0.000000 </td><td>0.4978564</td><td>0        </td><td>0        </td><td>0        </td></tr>\n",
       "\t<tr><th scope=row>11</th><td>0.000000 </td><td>1.1388586</td><td>0        </td><td>0        </td><td>0        </td></tr>\n",
       "\t<tr><th scope=row>13</th><td>2.860447 </td><td>0.6830260</td><td>0        </td><td>0        </td><td>0        </td></tr>\n",
       "</tbody>\n",
       "</table>\n"
      ],
      "text/latex": [
       "\\begin{tabular}{r|lllll}\n",
       "  & OTU1:X\\_hypoxylon\\_Oregon & OTU254:161wood & OTU304:161wood & OTU3:H\\_notatum & OTU7:A\\_aff\\_atroroseum\\\\\n",
       "\\hline\n",
       "\t1 & 0.000000  & 0.0000000 & 0         & 0         & 0        \\\\\n",
       "\t2 & 1.523625  & 0.0000000 & 0         & 0         & 0        \\\\\n",
       "\t3 & 0.000000  & 0.0000000 & 0         & 0         & 0        \\\\\n",
       "\t4 & 0.000000  & 0.0000000 & 0         & 0         & 0        \\\\\n",
       "\t5 & 0.000000  & 0.0000000 & 0         & 0         & 0        \\\\\n",
       "\t7 & 0.000000  & 0.0000000 & 0         & 0         & 0        \\\\\n",
       "\t9 & 0.000000  & 0.0000000 & 0         & 0         & 0        \\\\\n",
       "\t10 & 0.000000  & 0.4978564 & 0         & 0         & 0        \\\\\n",
       "\t11 & 0.000000  & 1.1388586 & 0         & 0         & 0        \\\\\n",
       "\t13 & 2.860447  & 0.6830260 & 0         & 0         & 0        \\\\\n",
       "\\end{tabular}\n"
      ],
      "text/markdown": [
       "1. 0\n",
       "2. 1.52362482991623\n",
       "3. 0\n",
       "4. 0\n",
       "5. 0\n",
       "6. 0\n",
       "7. 0\n",
       "8. 0\n",
       "9. 0\n",
       "10. 2.86044686410876\n",
       "11. 0\n",
       "12. 0\n",
       "13. 0\n",
       "14. 0\n",
       "15. 0\n",
       "16. 0\n",
       "17. 0\n",
       "18. 0.497856360330141\n",
       "19. 1.13885857941677\n",
       "20. 0.683026001885022\n",
       "21. 0\n",
       "22. 0\n",
       "23. 0\n",
       "24. 0\n",
       "25. 0\n",
       "26. 0\n",
       "27. 0\n",
       "28. 0\n",
       "29. 0\n",
       "30. 0\n",
       "31. 0\n",
       "32. 0\n",
       "33. 0\n",
       "34. 0\n",
       "35. 0\n",
       "36. 0\n",
       "37. 0\n",
       "38. 0\n",
       "39. 0\n",
       "40. 0\n",
       "41. 0\n",
       "42. 0\n",
       "43. 0\n",
       "44. 0\n",
       "45. 0\n",
       "46. 0\n",
       "47. 0\n",
       "48. 0\n",
       "49. 0\n",
       "50. 0\n",
       "\n",
       "\n"
      ],
      "text/plain": [
       "   OTU1:X_hypoxylon_Oregon OTU254:161wood OTU304:161wood OTU3:H_notatum\n",
       "1  0.000000                0.0000000      0              0             \n",
       "2  1.523625                0.0000000      0              0             \n",
       "3  0.000000                0.0000000      0              0             \n",
       "4  0.000000                0.0000000      0              0             \n",
       "5  0.000000                0.0000000      0              0             \n",
       "7  0.000000                0.0000000      0              0             \n",
       "9  0.000000                0.0000000      0              0             \n",
       "10 0.000000                0.4978564      0              0             \n",
       "11 0.000000                1.1388586      0              0             \n",
       "13 2.860447                0.6830260      0              0             \n",
       "   OTU7:A_aff_atroroseum\n",
       "1  0                    \n",
       "2  0                    \n",
       "3  0                    \n",
       "4  0                    \n",
       "5  0                    \n",
       "7  0                    \n",
       "9  0                    \n",
       "10 0                    \n",
       "11 0                    \n",
       "13 0                    "
      ]
     },
     "metadata": {},
     "output_type": "display_data"
    }
   ],
   "source": [
    "Xwoodnames <- sample_data(Xwood95)@.Data[[2]] ## note, this number may change if metadata reassigned\n",
    "rownames(Xwoodmat) <- Xwoodnames\n",
    "Xwoodmat[1:10,1:5]"
   ]
  },
  {
   "cell_type": "markdown",
   "metadata": {},
   "source": [
    "Notice that some rows are missing, where sampling was unsucessful. We need to create a leaf matrix and trim to these samples, since we can only compare among the three matrices where all were sampled."
   ]
  },
  {
   "cell_type": "markdown",
   "metadata": {},
   "source": [
    "**Leaf matrix**"
   ]
  },
  {
   "cell_type": "markdown",
   "metadata": {},
   "source": [
    "Get the matrix as with the wood above:"
   ]
  },
  {
   "cell_type": "code",
   "execution_count": null,
   "metadata": {
    "collapsed": true
   },
   "outputs": [],
   "source": [
    "leaf95 <- subset_samples(deseq95, Library=='L')  ## leaves only\n",
    "Xleaf95 <- subset_taxa(leaf95, Family=='Xylariaceae')\n",
    "Xleafmat <- t(otu_table(Xleaf95)@.Data) ## leaf species matrix\n",
    "Xleafmat <- Xleafmat[,colSums(Xleafmat) > 0] ## get rid of empty columns\n",
    "Xleafnames <- sample_data(Xleaf95)@.Data[[2]] ## get sample numbers. This number may change if metadata reassigned"
   ]
  },
  {
   "cell_type": "code",
   "execution_count": null,
   "metadata": {
    "collapsed": true
   },
   "outputs": [],
   "source": [
    "## get rid of \"_\" character in two of our sample names:\n",
    "w1 <- which(Xleafnames ==  '112_2')\n",
    "Xleafnames[w1] <- '112'\n",
    "w2 <- which(Xleafnames ==  '126_1')\n",
    "Xleafnames[w2] <- '126'"
   ]
  },
  {
   "cell_type": "code",
   "execution_count": 54,
   "metadata": {
    "collapsed": false
   },
   "outputs": [],
   "source": [
    "rownames(Xleafmat) <- Xleafnames"
   ]
  },
  {
   "cell_type": "code",
   "execution_count": 49,
   "metadata": {
    "collapsed": false
   },
   "outputs": [
    {
     "data": {
      "text/html": [
       "<table>\n",
       "<thead><tr><th></th><th scope=col>OTU1:X_hypoxylon_Oregon</th><th scope=col>OTU304:161wood</th><th scope=col>OTU3:H_notatum</th><th scope=col>OTU7:A_aff_atroroseum</th><th scope=col>OTU2530:87Leaf</th></tr></thead>\n",
       "<tbody>\n",
       "\t<tr><th scope=row>100</th><td>0.000000 </td><td>0.000000 </td><td>1.566253 </td><td>0.8325197</td><td>0        </td></tr>\n",
       "\t<tr><th scope=row>78</th><td>0.000000 </td><td>0.000000 </td><td>0.000000 </td><td>2.3942565</td><td>0        </td></tr>\n",
       "\t<tr><th scope=row>97</th><td>4.492057 </td><td>0.000000 </td><td>0.000000 </td><td>0.0000000</td><td>0        </td></tr>\n",
       "\t<tr><th scope=row>90</th><td>8.826932 </td><td>0.000000 </td><td>0.000000 </td><td>0.0000000</td><td>0        </td></tr>\n",
       "\t<tr><th scope=row>27</th><td>0.000000 </td><td>0.000000 </td><td>0.000000 </td><td>0.0000000</td><td>0        </td></tr>\n",
       "\t<tr><th scope=row>21</th><td>4.966793 </td><td>0.000000 </td><td>1.240632 </td><td>4.1004389</td><td>0        </td></tr>\n",
       "\t<tr><th scope=row>88</th><td>0.000000 </td><td>2.021768 </td><td>0.000000 </td><td>0.0000000</td><td>0        </td></tr>\n",
       "\t<tr><th scope=row>104</th><td>0.000000 </td><td>0.000000 </td><td>0.000000 </td><td>0.0000000</td><td>0        </td></tr>\n",
       "\t<tr><th scope=row>81</th><td>1.797142 </td><td>0.000000 </td><td>0.000000 </td><td>0.0000000</td><td>0        </td></tr>\n",
       "\t<tr><th scope=row>112</th><td>0.000000 </td><td>0.000000 </td><td>0.000000 </td><td>0.0000000</td><td>0        </td></tr>\n",
       "</tbody>\n",
       "</table>\n"
      ],
      "text/latex": [
       "\\begin{tabular}{r|lllll}\n",
       "  & OTU1:X\\_hypoxylon\\_Oregon & OTU304:161wood & OTU3:H\\_notatum & OTU7:A\\_aff\\_atroroseum & OTU2530:87Leaf\\\\\n",
       "\\hline\n",
       "\t100 & 0.000000  & 0.000000  & 1.566253  & 0.8325197 & 0        \\\\\n",
       "\t78 & 0.000000  & 0.000000  & 0.000000  & 2.3942565 & 0        \\\\\n",
       "\t97 & 4.492057  & 0.000000  & 0.000000  & 0.0000000 & 0        \\\\\n",
       "\t90 & 8.826932  & 0.000000  & 0.000000  & 0.0000000 & 0        \\\\\n",
       "\t27 & 0.000000  & 0.000000  & 0.000000  & 0.0000000 & 0        \\\\\n",
       "\t21 & 4.966793  & 0.000000  & 1.240632  & 4.1004389 & 0        \\\\\n",
       "\t88 & 0.000000  & 2.021768  & 0.000000  & 0.0000000 & 0        \\\\\n",
       "\t104 & 0.000000  & 0.000000  & 0.000000  & 0.0000000 & 0        \\\\\n",
       "\t81 & 1.797142  & 0.000000  & 0.000000  & 0.0000000 & 0        \\\\\n",
       "\t112 & 0.000000  & 0.000000  & 0.000000  & 0.0000000 & 0        \\\\\n",
       "\\end{tabular}\n"
      ],
      "text/markdown": [
       "1. 0\n",
       "2. 0\n",
       "3. 4.49205689121225\n",
       "4. 8.82693212649932\n",
       "5. 0\n",
       "6. 4.96679306772683\n",
       "7. 0\n",
       "8. 0\n",
       "9. 1.79714247206051\n",
       "10. 0\n",
       "11. 0\n",
       "12. 0\n",
       "13. 0\n",
       "14. 0\n",
       "15. 0\n",
       "16. 0\n",
       "17. 2.02176786931243\n",
       "18. 0\n",
       "19. 0\n",
       "20. 0\n",
       "21. 1.56625256945966\n",
       "22. 0\n",
       "23. 0\n",
       "24. 0\n",
       "25. 0\n",
       "26. 1.24063229488093\n",
       "27. 0\n",
       "28. 0\n",
       "29. 0\n",
       "30. 0\n",
       "31. 0.832519743496356\n",
       "32. 2.39425649905051\n",
       "33. 0\n",
       "34. 0\n",
       "35. 0\n",
       "36. 4.10043890140314\n",
       "37. 0\n",
       "38. 0\n",
       "39. 0\n",
       "40. 0\n",
       "41. 0\n",
       "42. 0\n",
       "43. 0\n",
       "44. 0\n",
       "45. 0\n",
       "46. 0\n",
       "47. 0\n",
       "48. 0\n",
       "49. 0\n",
       "50. 0\n",
       "\n",
       "\n"
      ],
      "text/plain": [
       "    OTU1:X_hypoxylon_Oregon OTU304:161wood OTU3:H_notatum OTU7:A_aff_atroroseum\n",
       "100 0.000000                0.000000       1.566253       0.8325197            \n",
       "78  0.000000                0.000000       0.000000       2.3942565            \n",
       "97  4.492057                0.000000       0.000000       0.0000000            \n",
       "90  8.826932                0.000000       0.000000       0.0000000            \n",
       "27  0.000000                0.000000       0.000000       0.0000000            \n",
       "21  4.966793                0.000000       1.240632       4.1004389            \n",
       "88  0.000000                2.021768       0.000000       0.0000000            \n",
       "104 0.000000                0.000000       0.000000       0.0000000            \n",
       "81  1.797142                0.000000       0.000000       0.0000000            \n",
       "112 0.000000                0.000000       0.000000       0.0000000            \n",
       "    OTU2530:87Leaf\n",
       "100 0             \n",
       "78  0             \n",
       "97  0             \n",
       "90  0             \n",
       "27  0             \n",
       "21  0             \n",
       "88  0             \n",
       "104 0             \n",
       "81  0             \n",
       "112 0             "
      ]
     },
     "metadata": {},
     "output_type": "display_data"
    }
   ],
   "source": [
    "Xleafmat[1:10,1:5]"
   ]
  },
  {
   "cell_type": "markdown",
   "metadata": {},
   "source": [
    "In all the processing, the sample order was totally lost in the leaf reads. Fix this:"
   ]
  },
  {
   "cell_type": "code",
   "execution_count": 55,
   "metadata": {
    "collapsed": false
   },
   "outputs": [
    {
     "data": {
      "text/html": [
       "<table>\n",
       "<thead><tr><th></th><th scope=col>OTU1:X_hypoxylon_Oregon</th><th scope=col>OTU304:161wood</th><th scope=col>OTU3:H_notatum</th></tr></thead>\n",
       "<tbody>\n",
       "\t<tr><th scope=row>1</th><td>0.0000000</td><td>0        </td><td>0        </td></tr>\n",
       "\t<tr><th scope=row>2</th><td>0.0000000</td><td>0        </td><td>0        </td></tr>\n",
       "\t<tr><th scope=row>3</th><td>0.0000000</td><td>0        </td><td>0        </td></tr>\n",
       "\t<tr><th scope=row>4</th><td>0.0000000</td><td>0        </td><td>0        </td></tr>\n",
       "\t<tr><th scope=row>5</th><td>0.0000000</td><td>0        </td><td>0        </td></tr>\n",
       "\t<tr><th scope=row>6</th><td>0.0000000</td><td>0        </td><td>0        </td></tr>\n",
       "\t<tr><th scope=row>7</th><td>0.0000000</td><td>0        </td><td>0        </td></tr>\n",
       "\t<tr><th scope=row>8</th><td>0.0000000</td><td>0        </td><td>0        </td></tr>\n",
       "\t<tr><th scope=row>9</th><td>0.0000000</td><td>0        </td><td>0        </td></tr>\n",
       "\t<tr><th scope=row>12</th><td>0.6871609</td><td>0        </td><td>0        </td></tr>\n",
       "</tbody>\n",
       "</table>\n"
      ],
      "text/latex": [
       "\\begin{tabular}{r|lll}\n",
       "  & OTU1:X\\_hypoxylon\\_Oregon & OTU304:161wood & OTU3:H\\_notatum\\\\\n",
       "\\hline\n",
       "\t1 & 0.0000000 & 0         & 0        \\\\\n",
       "\t2 & 0.0000000 & 0         & 0        \\\\\n",
       "\t3 & 0.0000000 & 0         & 0        \\\\\n",
       "\t4 & 0.0000000 & 0         & 0        \\\\\n",
       "\t5 & 0.0000000 & 0         & 0        \\\\\n",
       "\t6 & 0.0000000 & 0         & 0        \\\\\n",
       "\t7 & 0.0000000 & 0         & 0        \\\\\n",
       "\t8 & 0.0000000 & 0         & 0        \\\\\n",
       "\t9 & 0.0000000 & 0         & 0        \\\\\n",
       "\t12 & 0.6871609 & 0         & 0        \\\\\n",
       "\\end{tabular}\n"
      ],
      "text/markdown": [
       "1. 0\n",
       "2. 0\n",
       "3. 0\n",
       "4. 0\n",
       "5. 0\n",
       "6. 0\n",
       "7. 0\n",
       "8. 0\n",
       "9. 0\n",
       "10. 0.687160882877401\n",
       "11. 0\n",
       "12. 0\n",
       "13. 0\n",
       "14. 0\n",
       "15. 0\n",
       "16. 0\n",
       "17. 0\n",
       "18. 0\n",
       "19. 0\n",
       "20. 0\n",
       "21. 0\n",
       "22. 0\n",
       "23. 0\n",
       "24. 0\n",
       "25. 0\n",
       "26. 0\n",
       "27. 0\n",
       "28. 0\n",
       "29. 0\n",
       "30. 0\n",
       "\n",
       "\n"
      ],
      "text/plain": [
       "   OTU1:X_hypoxylon_Oregon OTU304:161wood OTU3:H_notatum\n",
       "1  0.0000000               0              0             \n",
       "2  0.0000000               0              0             \n",
       "3  0.0000000               0              0             \n",
       "4  0.0000000               0              0             \n",
       "5  0.0000000               0              0             \n",
       "6  0.0000000               0              0             \n",
       "7  0.0000000               0              0             \n",
       "8  0.0000000               0              0             \n",
       "9  0.0000000               0              0             \n",
       "12 0.6871609               0              0             "
      ]
     },
     "metadata": {},
     "output_type": "display_data"
    }
   ],
   "source": [
    "bb <- sort(as.numeric(rownames(Xleafmat))) ## create a vector of sorted row names\n",
    "cc <- as.character(bb) ##turn them back into characters\n",
    "Xleafmat <- Xleafmat[cc,] ## use them to sort our matrix\n",
    "Xleafmat[1:10,1:3] ## take a look"
   ]
  },
  {
   "cell_type": "markdown",
   "metadata": {},
   "source": [
    "**Stromata matrix**"
   ]
  },
  {
   "cell_type": "markdown",
   "metadata": {},
   "source": [
    "The stromata data are in a csv, compiled by Roo:"
   ]
  },
  {
   "cell_type": "code",
   "execution_count": 60,
   "metadata": {
    "collapsed": true
   },
   "outputs": [],
   "source": [
    "stromata <- as.matrix(read.csv(file='stromata.csv'))\n",
    "## our rownames were imported as the first column of the matrix, fix this:\n",
    "rownames(stromata) <- stromata[,1] \n",
    "stromata <- stromata[,-1] ## drop this original first row of names"
   ]
  },
  {
   "cell_type": "code",
   "execution_count": 144,
   "metadata": {
    "collapsed": false,
    "scrolled": false
   },
   "outputs": [
    {
     "data": {
      "text/html": [
       "<table>\n",
       "<thead><tr><th></th><th scope=col>A_aff_atroroseum</th><th scope=col>A_aff_stygium</th><th scope=col>A_atroroseum</th><th scope=col>A_bovei_var_microspora</th><th scope=col>A_moriforme</th></tr></thead>\n",
       "<tbody>\n",
       "\t<tr><th scope=row>1</th><td>0</td><td>0</td><td>0</td><td>0</td><td>0</td></tr>\n",
       "\t<tr><th scope=row>2</th><td>0</td><td>0</td><td>0</td><td>0</td><td>0</td></tr>\n",
       "\t<tr><th scope=row>3</th><td>0</td><td>0</td><td>0</td><td>0</td><td>0</td></tr>\n",
       "\t<tr><th scope=row>4</th><td>0</td><td>0</td><td>0</td><td>0</td><td>0</td></tr>\n",
       "\t<tr><th scope=row>5</th><td>0</td><td>0</td><td>0</td><td>0</td><td>0</td></tr>\n",
       "\t<tr><th scope=row>6</th><td>0</td><td>0</td><td>0</td><td>0</td><td>0</td></tr>\n",
       "\t<tr><th scope=row>7</th><td>0</td><td>0</td><td>0</td><td>0</td><td>0</td></tr>\n",
       "\t<tr><th scope=row>8</th><td>0</td><td>0</td><td>0</td><td>0</td><td>0</td></tr>\n",
       "\t<tr><th scope=row>9</th><td>0</td><td>0</td><td>0</td><td>0</td><td>0</td></tr>\n",
       "\t<tr><th scope=row>10</th><td>0</td><td>0</td><td>0</td><td>0</td><td>0</td></tr>\n",
       "</tbody>\n",
       "</table>\n"
      ],
      "text/latex": [
       "\\begin{tabular}{r|lllll}\n",
       "  & A\\_aff\\_atroroseum & A\\_aff\\_stygium & A\\_atroroseum & A\\_bovei\\_var\\_microspora & A\\_moriforme\\\\\n",
       "\\hline\n",
       "\t1 & 0 & 0 & 0 & 0 & 0\\\\\n",
       "\t2 & 0 & 0 & 0 & 0 & 0\\\\\n",
       "\t3 & 0 & 0 & 0 & 0 & 0\\\\\n",
       "\t4 & 0 & 0 & 0 & 0 & 0\\\\\n",
       "\t5 & 0 & 0 & 0 & 0 & 0\\\\\n",
       "\t6 & 0 & 0 & 0 & 0 & 0\\\\\n",
       "\t7 & 0 & 0 & 0 & 0 & 0\\\\\n",
       "\t8 & 0 & 0 & 0 & 0 & 0\\\\\n",
       "\t9 & 0 & 0 & 0 & 0 & 0\\\\\n",
       "\t10 & 0 & 0 & 0 & 0 & 0\\\\\n",
       "\\end{tabular}\n"
      ],
      "text/markdown": [
       "1. 0\n",
       "2. 0\n",
       "3. 0\n",
       "4. 0\n",
       "5. 0\n",
       "6. 0\n",
       "7. 0\n",
       "8. 0\n",
       "9. 0\n",
       "10. 0\n",
       "11. 0\n",
       "12. 0\n",
       "13. 0\n",
       "14. 0\n",
       "15. 0\n",
       "16. 0\n",
       "17. 0\n",
       "18. 0\n",
       "19. 0\n",
       "20. 0\n",
       "21. 0\n",
       "22. 0\n",
       "23. 0\n",
       "24. 0\n",
       "25. 0\n",
       "26. 0\n",
       "27. 0\n",
       "28. 0\n",
       "29. 0\n",
       "30. 0\n",
       "31. 0\n",
       "32. 0\n",
       "33. 0\n",
       "34. 0\n",
       "35. 0\n",
       "36. 0\n",
       "37. 0\n",
       "38. 0\n",
       "39. 0\n",
       "40. 0\n",
       "41. 0\n",
       "42. 0\n",
       "43. 0\n",
       "44. 0\n",
       "45. 0\n",
       "46. 0\n",
       "47. 0\n",
       "48. 0\n",
       "49. 0\n",
       "50. 0\n",
       "\n",
       "\n"
      ],
      "text/plain": [
       "   A_aff_atroroseum A_aff_stygium A_atroroseum A_bovei_var_microspora\n",
       "1  0                0             0            0                     \n",
       "2  0                0             0            0                     \n",
       "3  0                0             0            0                     \n",
       "4  0                0             0            0                     \n",
       "5  0                0             0            0                     \n",
       "6  0                0             0            0                     \n",
       "7  0                0             0            0                     \n",
       "8  0                0             0            0                     \n",
       "9  0                0             0            0                     \n",
       "10 0                0             0            0                     \n",
       "   A_moriforme\n",
       "1  0          \n",
       "2  0          \n",
       "3  0          \n",
       "4  0          \n",
       "5  0          \n",
       "6  0          \n",
       "7  0          \n",
       "8  0          \n",
       "9  0          \n",
       "10 0          "
      ]
     },
     "metadata": {},
     "output_type": "display_data"
    }
   ],
   "source": [
    "stromata[1:10,1:5]"
   ]
  },
  {
   "cell_type": "markdown",
   "metadata": {},
   "source": [
    "Notice, no gaps in the sample numbers in this matrix. We completed sampling for stromata at all plots, so this matrix has the most samples."
   ]
  },
  {
   "cell_type": "code",
   "execution_count": 61,
   "metadata": {
    "collapsed": false,
    "scrolled": false
   },
   "outputs": [
    {
     "data": {
      "text/html": [
       "<ol class=list-inline>\n",
       "\t<li>133</li>\n",
       "\t<li>52</li>\n",
       "</ol>\n"
      ],
      "text/latex": [
       "\\begin{enumerate*}\n",
       "\\item 133\n",
       "\\item 52\n",
       "\\end{enumerate*}\n"
      ],
      "text/markdown": [
       "1. 133\n",
       "2. 52\n",
       "\n",
       "\n"
      ],
      "text/plain": [
       "[1] 133  52"
      ]
     },
     "metadata": {},
     "output_type": "display_data"
    }
   ],
   "source": [
    "dim(stromata)"
   ]
  },
  {
   "cell_type": "markdown",
   "metadata": {},
   "source": [
    "**Pruning matrices** "
   ]
  },
  {
   "cell_type": "markdown",
   "metadata": {},
   "source": [
    "We can only make statements about samples where all three matrices have data. Right now, each of our matrices has a slightly different set of samples included within it, resulting in different numbers of rows:"
   ]
  },
  {
   "cell_type": "code",
   "execution_count": 63,
   "metadata": {
    "collapsed": false
   },
   "outputs": [
    {
     "data": {
      "text/html": [
       "<ol class=list-inline>\n",
       "\t<li>91</li>\n",
       "\t<li>95</li>\n",
       "</ol>\n"
      ],
      "text/latex": [
       "\\begin{enumerate*}\n",
       "\\item 91\n",
       "\\item 95\n",
       "\\end{enumerate*}\n"
      ],
      "text/markdown": [
       "1. 91\n",
       "2. 95\n",
       "\n",
       "\n"
      ],
      "text/plain": [
       "[1] 91 95"
      ]
     },
     "metadata": {},
     "output_type": "display_data"
    },
    {
     "data": {
      "text/html": [
       "<ol class=list-inline>\n",
       "\t<li>122</li>\n",
       "\t<li>185</li>\n",
       "</ol>\n"
      ],
      "text/latex": [
       "\\begin{enumerate*}\n",
       "\\item 122\n",
       "\\item 185\n",
       "\\end{enumerate*}\n"
      ],
      "text/markdown": [
       "1. 122\n",
       "2. 185\n",
       "\n",
       "\n"
      ],
      "text/plain": [
       "[1] 122 185"
      ]
     },
     "metadata": {},
     "output_type": "display_data"
    },
    {
     "data": {
      "text/html": [
       "<ol class=list-inline>\n",
       "\t<li>133</li>\n",
       "\t<li>52</li>\n",
       "</ol>\n"
      ],
      "text/latex": [
       "\\begin{enumerate*}\n",
       "\\item 133\n",
       "\\item 52\n",
       "\\end{enumerate*}\n"
      ],
      "text/markdown": [
       "1. 133\n",
       "2. 52\n",
       "\n",
       "\n"
      ],
      "text/plain": [
       "[1] 133  52"
      ]
     },
     "metadata": {},
     "output_type": "display_data"
    }
   ],
   "source": [
    "dim(Xwoodmat)\n",
    "dim(Xleafmat)\n",
    "dim(stromata)"
   ]
  },
  {
   "cell_type": "markdown",
   "metadata": {},
   "source": [
    "So we need to prune all matrices down to only the rows (samples) that all three matrices contain. First, we prune our wood and leaf matrices to each other:"
   ]
  },
  {
   "cell_type": "code",
   "execution_count": 65,
   "metadata": {
    "collapsed": true
   },
   "outputs": [],
   "source": [
    "Xwoodmat <- Xwoodmat[rownames(Xwoodmat) %in% rownames(Xleafmat), ]\n",
    "Xleafmat <- Xleafmat[rownames(Xleafmat) %in% rownames(Xwoodmat), ]"
   ]
  },
  {
   "cell_type": "markdown",
   "metadata": {},
   "source": [
    "Our stromata matrix also needs to be pruned to match our wood/leaves:"
   ]
  },
  {
   "cell_type": "code",
   "execution_count": 66,
   "metadata": {
    "collapsed": true
   },
   "outputs": [],
   "source": [
    "stromata <- stromata[rownames(stromata) %in% rownames(Xleafmat), ]"
   ]
  },
  {
   "cell_type": "markdown",
   "metadata": {},
   "source": [
    "Do they all have the same number of rows? Are these row numbers identical?"
   ]
  },
  {
   "cell_type": "code",
   "execution_count": 67,
   "metadata": {
    "collapsed": false
   },
   "outputs": [
    {
     "data": {
      "text/html": [
       "<ol class=list-inline>\n",
       "\t<li>81</li>\n",
       "\t<li>95</li>\n",
       "</ol>\n"
      ],
      "text/latex": [
       "\\begin{enumerate*}\n",
       "\\item 81\n",
       "\\item 95\n",
       "\\end{enumerate*}\n"
      ],
      "text/markdown": [
       "1. 81\n",
       "2. 95\n",
       "\n",
       "\n"
      ],
      "text/plain": [
       "[1] 81 95"
      ]
     },
     "metadata": {},
     "output_type": "display_data"
    },
    {
     "data": {
      "text/html": [
       "<ol class=list-inline>\n",
       "\t<li>81</li>\n",
       "\t<li>185</li>\n",
       "</ol>\n"
      ],
      "text/latex": [
       "\\begin{enumerate*}\n",
       "\\item 81\n",
       "\\item 185\n",
       "\\end{enumerate*}\n"
      ],
      "text/markdown": [
       "1. 81\n",
       "2. 185\n",
       "\n",
       "\n"
      ],
      "text/plain": [
       "[1]  81 185"
      ]
     },
     "metadata": {},
     "output_type": "display_data"
    },
    {
     "data": {
      "text/html": [
       "<ol class=list-inline>\n",
       "\t<li>81</li>\n",
       "\t<li>52</li>\n",
       "</ol>\n"
      ],
      "text/latex": [
       "\\begin{enumerate*}\n",
       "\\item 81\n",
       "\\item 52\n",
       "\\end{enumerate*}\n"
      ],
      "text/markdown": [
       "1. 81\n",
       "2. 52\n",
       "\n",
       "\n"
      ],
      "text/plain": [
       "[1] 81 52"
      ]
     },
     "metadata": {},
     "output_type": "display_data"
    }
   ],
   "source": [
    "dim(Xwoodmat)\n",
    "dim(Xleafmat)\n",
    "dim(stromata)"
   ]
  },
  {
   "cell_type": "code",
   "execution_count": 71,
   "metadata": {
    "collapsed": false
   },
   "outputs": [
    {
     "data": {
      "text/html": [
       "FALSE"
      ],
      "text/latex": [
       "FALSE"
      ],
      "text/markdown": [
       "FALSE"
      ],
      "text/plain": [
       "[1] FALSE"
      ]
     },
     "metadata": {},
     "output_type": "display_data"
    },
    {
     "data": {
      "text/html": [
       "FALSE"
      ],
      "text/latex": [
       "FALSE"
      ],
      "text/markdown": [
       "FALSE"
      ],
      "text/plain": [
       "[1] FALSE"
      ]
     },
     "metadata": {},
     "output_type": "display_data"
    }
   ],
   "source": [
    "any(rownames(Xwoodmat) != rownames(Xleafmat)); any(rownames(Xwoodmat) != rownames(stromata))"
   ]
  },
  {
   "cell_type": "markdown",
   "metadata": {},
   "source": [
    "**Convert to Presence/Absence data**"
   ]
  },
  {
   "cell_type": "markdown",
   "metadata": {},
   "source": [
    "Doing to this because I do not trust our read abundances or stromata counts to be ecologically meaningful. See notes [here](#mockcom)."
   ]
  },
  {
   "cell_type": "code",
   "execution_count": 72,
   "metadata": {
    "collapsed": true
   },
   "outputs": [],
   "source": [
    "Xwoodmat[Xwoodmat > 0] <- 1\n",
    "Xleafmat[Xleafmat > 0] <- 1\n",
    "stromata[stromata > 0] <- 1"
   ]
  },
  {
   "cell_type": "code",
   "execution_count": 73,
   "metadata": {
    "collapsed": false
   },
   "outputs": [
    {
     "data": {
      "text/html": [
       "232"
      ],
      "text/latex": [
       "232"
      ],
      "text/markdown": [
       "232"
      ],
      "text/plain": [
       "[1] 232"
      ]
     },
     "metadata": {},
     "output_type": "display_data"
    },
    {
     "data": {
      "text/html": [
       "742"
      ],
      "text/latex": [
       "742"
      ],
      "text/markdown": [
       "742"
      ],
      "text/plain": [
       "[1] 742"
      ]
     },
     "metadata": {},
     "output_type": "display_data"
    },
    {
     "data": {
      "text/html": [
       "39"
      ],
      "text/latex": [
       "39"
      ],
      "text/markdown": [
       "39"
      ],
      "text/plain": [
       "[1] 39"
      ]
     },
     "metadata": {},
     "output_type": "display_data"
    }
   ],
   "source": [
    "sum(Xwoodmat)\n",
    "sum(Xleafmat)\n",
    "sum(stromata)"
   ]
  },
  {
   "cell_type": "markdown",
   "metadata": {},
   "source": [
    "Redundancy analysis is a type of PCA of our response (stromata) matrix coupled with a multiple regression of our explanatory matrix, in this case either our wood or leaf endophyte matrices. (RDA is obviously a lot more complicated than this, involving construction of new axes informed by both explanatory and response variable, see [here](#https://sites.google.com/site/mb3gustame/constrained-analyses/rda)). Since this can be considered a type of multiple regression and PCA analysis, we run into some obstacles. PCA analysis relies on Euclidean distances for its construction of new axes, and multiple regression works best when the explanatory variables can be modeled linearly, or at least ordered in rank abundance. But it's pretty well known that species distributions aren't modeled well as linear gradients. Along a single environmental gradient they may follow unimodal, gaussian distibutions, but in really sparse matrices like we have, with incomplete sampling of thousands of interacting species instead of one, and in the finite space of a single study with environmental variables varying at different spatial scales, this type of normality can be pretty hard to pick up. Also the numerous zeroes in these matrices make very different sampling sites look very similar in normal euclidean space, [the double zero problem](#https://sites.google.com/site/mb3gustame/reference/dissimilarity).\n",
    "\n",
    "So we'll standardize and flatten out differences in abundances in our species matrices using a [Hellinger transformation](#http://www.jstor.org/stable/4223083). In doing so we hope to reduce the homogenizing effect of having lots of zeroes in all sites and retain monotonic properties, if not linearity, to our abundance data (which we've already reduced to presence-absence). The RDA can then proceed with these transformed values to create new axes that are shared by both our explanatory and response matrices, using euclidean distances. At least, that's the theory..."
   ]
  },
  {
   "cell_type": "code",
   "execution_count": 77,
   "metadata": {
    "collapsed": false
   },
   "outputs": [],
   "source": [
    "stromata.hel <- decostand(stromata,'hellinger')\n",
    "Xwoodmat.hel <- decostand(Xwoodmat,'hellinger')\n",
    "Xleafmat.hel <- decostand(Xleafmat,'hellinger')"
   ]
  },
  {
   "cell_type": "code",
   "execution_count": 79,
   "metadata": {
    "collapsed": false
   },
   "outputs": [],
   "source": [
    "#save(stromata.hel, file='stromata.hel.rda')\n",
    "#save(Xwoodmat.hel, file='Xwoodmat.hel.rda')\n",
    "#save(Xleafmat.hel, file='Xleafmat.hel.rda')"
   ]
  },
  {
   "cell_type": "markdown",
   "metadata": {},
   "source": [
    "<a id='rda'></a>"
   ]
  },
  {
   "cell_type": "markdown",
   "metadata": {},
   "source": [
    "# Redundancy Analysis"
   ]
  },
  {
   "cell_type": "markdown",
   "metadata": {},
   "source": [
    "**Stromata as a function of entire wood endophyte community**"
   ]
  },
  {
   "cell_type": "code",
   "execution_count": 81,
   "metadata": {
    "collapsed": false
   },
   "outputs": [
    {
     "data": {
      "text/html": [
       "<table>\n",
       "<thead><tr><th></th><th scope=col>Df</th><th scope=col>Variance</th><th scope=col>F</th><th scope=col>Pr(&gt;F)</th></tr></thead>\n",
       "<tbody>\n",
       "\t<tr><th scope=row>Model</th><td>64        </td><td>0.27071621</td><td>0.9601912 </td><td>0.541     </td></tr>\n",
       "\t<tr><th scope=row>Residual</th><td>16        </td><td>0.07048497</td><td>       NA </td><td>   NA     </td></tr>\n",
       "</tbody>\n",
       "</table>\n"
      ],
      "text/latex": [
       "\\begin{tabular}{r|llll}\n",
       "  & Df & Variance & F & Pr(>F)\\\\\n",
       "\\hline\n",
       "\tModel & 64         & 0.27071621 & 0.9601912  & 0.541     \\\\\n",
       "\tResidual & 16         & 0.07048497 &        NA  &    NA     \\\\\n",
       "\\end{tabular}\n"
      ],
      "text/plain": [
       "         Df Variance   F         Pr(>F)\n",
       "Model    64 0.27071621 0.9601912 0.541 \n",
       "Residual 16 0.07048497        NA    NA "
      ]
     },
     "metadata": {},
     "output_type": "display_data"
    }
   ],
   "source": [
    "wood.rda <- rda(stromata.hel, Xwoodmat.hel) ## run the rda\n",
    "anova.cca(wood.rda) ## check for significance"
   ]
  },
  {
   "cell_type": "markdown",
   "metadata": {},
   "source": [
    "If I've used this command correctly, the leaf endophytes explain a lot of variance in the stromata matrix, but we have no confidence (p = 0.54!). I'm guessing this is due to low statistical power, especially in our small and sparse stromata matrix. But let's do a biplot and examine which species are suggested by the RDA to explain variance in the stromata:"
   ]
  },
  {
   "cell_type": "code",
   "execution_count": 88,
   "metadata": {
    "collapsed": false
   },
   "outputs": [
    {
     "data": {
      "image/png": "[encoded data removed]",
      "text/plain": [
       "plot without title"
      ]
     },
     "metadata": {},
     "output_type": "display_data"
    }
   ],
   "source": [
    "options(repr.plot.width = 10, repr.plot.height = 10)\n",
    "woodrdaplot <- plot(wood.rda)"
   ]
  },
  {
   "cell_type": "markdown",
   "metadata": {},
   "source": [
    "In this plot, species from our wood matrix are arrows. RDA is a type of constrained analysis, so the wood endophyte species are being used in the construction of the two most important PCA's (RDA's) that are our two axes. The longer the arrow, the more important they are for these new RDA axes. Hence, the longer arrows indicate which leaf endophytes seem to be co-varying with our stromata community."
   ]
  },
  {
   "cell_type": "markdown",
   "metadata": {},
   "source": [
    "A brief inspection shows that these are member species of our stromata, but unfortunately I must now go back and fix our otu clustering process so that it is clear which of these are stromatal otus. "
   ]
  },
  {
   "cell_type": "markdown",
   "metadata": {},
   "source": [
    "Note to self, after fixing the otu names, redo this with a smaller explanatory matrix, subsetted to just the stromata species. And create a function for finding the species in the above diagram which are beyond a set distance from the origin (i.e. are important). "
   ]
  },
  {
   "cell_type": "markdown",
   "metadata": {},
   "source": [
    "**Stromata as a function of entire leaf endophyte community**"
   ]
  },
  {
   "cell_type": "code",
   "execution_count": 84,
   "metadata": {
    "collapsed": false
   },
   "outputs": [
    {
     "data": {
      "text/html": [
       "<table>\n",
       "<thead><tr><th></th><th scope=col>Df</th><th scope=col>Variance</th><th scope=col>F</th><th scope=col>Pr(&gt;F)</th></tr></thead>\n",
       "<tbody>\n",
       "\t<tr><th scope=row>Model</th><td>77       </td><td>0.3318262</td><td>1.379018 </td><td>0.378    </td></tr>\n",
       "\t<tr><th scope=row>Residual</th><td> 3       </td><td>0.0093750</td><td>      NA </td><td>   NA    </td></tr>\n",
       "</tbody>\n",
       "</table>\n"
      ],
      "text/latex": [
       "\\begin{tabular}{r|llll}\n",
       "  & Df & Variance & F & Pr(>F)\\\\\n",
       "\\hline\n",
       "\tModel & 77        & 0.3318262 & 1.379018  & 0.378    \\\\\n",
       "\tResidual &  3        & 0.0093750 &       NA  &    NA    \\\\\n",
       "\\end{tabular}\n"
      ],
      "text/plain": [
       "         Df Variance  F        Pr(>F)\n",
       "Model    77 0.3318262 1.379018 0.378 \n",
       "Residual  3 0.0093750       NA    NA "
      ]
     },
     "metadata": {},
     "output_type": "display_data"
    }
   ],
   "source": [
    "leaf.rda <- rda(stromata.hel, Xleafmat.hel) ## run the rda\n",
    "anova.cca(leaf.rda) ## check for significance"
   ]
  },
  {
   "cell_type": "markdown",
   "metadata": {
    "collapsed": true
   },
   "source": [
    "As above, we have no confidence in the model as a whole. But we can still glean info from this."
   ]
  },
  {
   "cell_type": "code",
   "execution_count": 89,
   "metadata": {
    "collapsed": false
   },
   "outputs": [
    {
     "data": {
      "image/png": "[encoded data removed]",
      "text/plain": [
       "plot without title"
      ]
     },
     "metadata": {},
     "output_type": "display_data"
    }
   ],
   "source": [
    "options(repr.plot.width = 10, repr.plot.height = 10)\n",
    "leafrdaplot <- plot(leaf.rda)"
   ]
  },
  {
   "cell_type": "markdown",
   "metadata": {},
   "source": [
    "To get a general idea of importance, let's make a function that shows us the most important (longest) species arrows in the space of these two RDA axes:"
   ]
  },
  {
   "cell_type": "code",
   "execution_count": 90,
   "metadata": {
    "collapsed": true
   },
   "outputs": [],
   "source": [
    "rdadist <- function(plot, howmany){\n",
    "        bb <- plot$biplot\n",
    "        RDAdist <- sqrt((bb[,'RDA1'])^2+(bb[,'RDA2'])^2)\n",
    "        cc <- sort(RDAdist, decreasing = TRUE)[1:howmany]\n",
    "        return(cc)\n",
    "} "
   ]
  },
  {
   "cell_type": "markdown",
   "metadata": {},
   "source": [
    "The two arguments for this function are the rda plot object and how many species we'd like to include in our list. To see the ten most important species in our leaf community in predicting stromata:"
   ]
  },
  {
   "cell_type": "code",
   "execution_count": 91,
   "metadata": {
    "collapsed": false
   },
   "outputs": [
    {
     "data": {
      "text/html": [
       "<dl class=dl-horizontal>\n",
       "\t<dt>OTU2101:29Leaf</dt>\n",
       "\t\t<dd>0.519891410822974</dd>\n",
       "\t<dt>OTU2469:76Leaf</dt>\n",
       "\t\t<dd>0.386891317146501</dd>\n",
       "\t<dt>OTU304:161wood</dt>\n",
       "\t\t<dd>0.376144836781367</dd>\n",
       "\t<dt>OTU1182:41Leaf</dt>\n",
       "\t\t<dd>0.356532175747353</dd>\n",
       "\t<dt>OTU16:N_bipapillata_var_bipapillata</dt>\n",
       "\t\t<dd>0.340623861368935</dd>\n",
       "\t<dt>OTU6:K_pavimentosa_or_N_primolutea</dt>\n",
       "\t\t<dd>0.300996516412475</dd>\n",
       "\t<dt>OTU613:70Leaf</dt>\n",
       "\t\t<dd>0.281540699696602</dd>\n",
       "\t<dt>OTU2860:41Leaf</dt>\n",
       "\t\t<dd>0.271839568833074</dd>\n",
       "\t<dt>OTU154:85Leaf</dt>\n",
       "\t\t<dd>0.252271618482018</dd>\n",
       "\t<dt>OTU2530:87Leaf</dt>\n",
       "\t\t<dd>0.244157663321162</dd>\n",
       "</dl>\n"
      ],
      "text/latex": [
       "\\begin{description*}\n",
       "\\item[OTU2101:29Leaf] 0.519891410822974\n",
       "\\item[OTU2469:76Leaf] 0.386891317146501\n",
       "\\item[OTU304:161wood] 0.376144836781367\n",
       "\\item[OTU1182:41Leaf] 0.356532175747353\n",
       "\\item[OTU16:N\\textbackslash{}\\_bipapillata\\textbackslash{}\\_var\\textbackslash{}\\_bipapillata] 0.340623861368935\n",
       "\\item[OTU6:K\\textbackslash{}\\_pavimentosa\\textbackslash{}\\_or\\textbackslash{}\\_N\\textbackslash{}\\_primolutea] 0.300996516412475\n",
       "\\item[OTU613:70Leaf] 0.281540699696602\n",
       "\\item[OTU2860:41Leaf] 0.271839568833074\n",
       "\\item[OTU154:85Leaf] 0.252271618482018\n",
       "\\item[OTU2530:87Leaf] 0.244157663321162\n",
       "\\end{description*}\n"
      ],
      "text/markdown": [
       "OTU2101:29Leaf\n",
       ":   0.519891410822974OTU2469:76Leaf\n",
       ":   0.386891317146501OTU304:161wood\n",
       ":   0.376144836781367OTU1182:41Leaf\n",
       ":   0.356532175747353OTU16:N_bipapillata_var_bipapillata\n",
       ":   0.340623861368935OTU6:K_pavimentosa_or_N_primolutea\n",
       ":   0.300996516412475OTU613:70Leaf\n",
       ":   0.281540699696602OTU2860:41Leaf\n",
       ":   0.271839568833074OTU154:85Leaf\n",
       ":   0.252271618482018OTU2530:87Leaf\n",
       ":   0.244157663321162\n",
       "\n"
      ],
      "text/plain": [
       "                     OTU2101:29Leaf                      OTU2469:76Leaf \n",
       "                          0.5198914                           0.3868913 \n",
       "                     OTU304:161wood                      OTU1182:41Leaf \n",
       "                          0.3761448                           0.3565322 \n",
       "OTU16:N_bipapillata_var_bipapillata  OTU6:K_pavimentosa_or_N_primolutea \n",
       "                          0.3406239                           0.3009965 \n",
       "                      OTU613:70Leaf                      OTU2860:41Leaf \n",
       "                          0.2815407                           0.2718396 \n",
       "                      OTU154:85Leaf                      OTU2530:87Leaf \n",
       "                          0.2522716                           0.2441577 "
      ]
     },
     "metadata": {},
     "output_type": "display_data"
    }
   ],
   "source": [
    "rdadist(leafrdaplot,10)"
   ]
  },
  {
   "cell_type": "markdown",
   "metadata": {},
   "source": [
    "To find out the taxonomic assignments for these:"
   ]
  },
  {
   "cell_type": "code",
   "execution_count": 95,
   "metadata": {
    "collapsed": false
   },
   "outputs": [
    {
     "data": {
      "text/html": [
       "<table>\n",
       "<thead><tr><th></th><th scope=col>Genus</th><th scope=col>Species</th></tr></thead>\n",
       "<tbody>\n",
       "\t<tr><th scope=row>OTU2101:29Leaf</th><td>Xylaria                             </td><td>NA                                  </td></tr>\n",
       "\t<tr><th scope=row>OTU2469:76Leaf</th><td>Kretzschmaria                       </td><td>pavimentosa                         </td></tr>\n",
       "\t<tr><th scope=row>OTU304:161wood</th><td>Nemania                             </td><td>Nemania_aenea_SH217392.07FU         </td></tr>\n",
       "\t<tr><th scope=row>OTU1182:41Leaf</th><td>Muscodor                            </td><td>Muscodor_yucatanensis_SH195934.07FU </td></tr>\n",
       "\t<tr><th scope=row>OTU16:N_bipapillata_var_bipapillata</th><td>Nemania                             </td><td>bipapillata_var_bipapillata         </td></tr>\n",
       "\t<tr><th scope=row>OTU6:K_pavimentosa_or_N_primolutea</th><td>Kretzschmaria                       </td><td>pavimentosa_or_N_primolutea         </td></tr>\n",
       "\t<tr><th scope=row>OTU613:70Leaf</th><td>Xylaria                             </td><td>NA                                  </td></tr>\n",
       "\t<tr><th scope=row>OTU2860:41Leaf</th><td>NA                                  </td><td>NA                                  </td></tr>\n",
       "\t<tr><th scope=row>OTU154:85Leaf</th><td>NA                                  </td><td>NA                                  </td></tr>\n",
       "\t<tr><th scope=row>OTU2530:87Leaf</th><td>Xylaria                             </td><td>NA                                  </td></tr>\n",
       "\t<tr><th scope=row>OTU18:A_atroroseum</th><td>Annulohypoxylon                     </td><td>atroroseum                          </td></tr>\n",
       "\t<tr><th scope=row>OTU2313:127Leaf</th><td>Xylaria                             </td><td>atrosphaerica                       </td></tr>\n",
       "\t<tr><th scope=row>OTU1873:51Leaf</th><td>Hypoxylon                           </td><td>Hypoxylon_monticulosum_SH213380.07FU</td></tr>\n",
       "\t<tr><th scope=row>OTU908:70Leaf</th><td>NA                                  </td><td>NA                                  </td></tr>\n",
       "\t<tr><th scope=row>OTU2:X_flabelliforme_australia_thai</th><td>Xylaria                             </td><td>flabelliforme_australia_thai        </td></tr>\n",
       "\t<tr><th scope=row>OTU1216:129Leaf</th><td>NA                                  </td><td>NA                                  </td></tr>\n",
       "\t<tr><th scope=row>OTU396:128Leaf</th><td>Xylaria                             </td><td>Xylaria_allantoidea_SH194350.07FU   </td></tr>\n",
       "\t<tr><th scope=row>OTU646:16Leaf</th><td>Nemania                             </td><td>Nemania_diffusa_SH195050.07FU       </td></tr>\n",
       "\t<tr><th scope=row>OTU485:129Leaf</th><td>Muscodor                            </td><td>Muscodor_fengyangensis_SH195936.07FU</td></tr>\n",
       "\t<tr><th scope=row>OTU592:120Leaf</th><td>Muscodor                            </td><td>Muscodor_yucatanensis_SH195939.07FU </td></tr>\n",
       "</tbody>\n",
       "</table>\n"
      ],
      "text/latex": [
       "\\begin{tabular}{r|ll}\n",
       "  & Genus & Species\\\\\n",
       "\\hline\n",
       "\tOTU2101:29Leaf & Xylaria                              & NA                                  \\\\\n",
       "\tOTU2469:76Leaf & Kretzschmaria                        & pavimentosa                         \\\\\n",
       "\tOTU304:161wood & Nemania                                  & Nemania\\_aenea\\_SH217392.07FU         \\\\\n",
       "\tOTU1182:41Leaf & Muscodor                                 & Muscodor\\_yucatanensis\\_SH195934.07FU \\\\\n",
       "\tOTU16:N\\_bipapillata\\_var\\_bipapillata & Nemania                                  & bipapillata\\_var\\_bipapillata         \\\\\n",
       "\tOTU6:K\\_pavimentosa\\_or\\_N\\_primolutea & Kretzschmaria                              & pavimentosa\\_or\\_N\\_primolutea         \\\\\n",
       "\tOTU613:70Leaf & Xylaria                              & NA                                  \\\\\n",
       "\tOTU2860:41Leaf & NA                                   & NA                                  \\\\\n",
       "\tOTU154:85Leaf & NA                                   & NA                                  \\\\\n",
       "\tOTU2530:87Leaf & Xylaria                              & NA                                  \\\\\n",
       "\tOTU18:A\\_atroroseum & Annulohypoxylon                      & atroroseum                          \\\\\n",
       "\tOTU2313:127Leaf & Xylaria                              & atrosphaerica                       \\\\\n",
       "\tOTU1873:51Leaf & Hypoxylon                                & Hypoxylon\\_monticulosum\\_SH213380.07FU\\\\\n",
       "\tOTU908:70Leaf & NA                                   & NA                                  \\\\\n",
       "\tOTU2:X\\_flabelliforme\\_australia\\_thai & Xylaria                                  & flabelliforme\\_australia\\_thai        \\\\\n",
       "\tOTU1216:129Leaf & NA                                   & NA                                  \\\\\n",
       "\tOTU396:128Leaf & Xylaria                                  & Xylaria\\_allantoidea\\_SH194350.07FU   \\\\\n",
       "\tOTU646:16Leaf & Nemania                                  & Nemania\\_diffusa\\_SH195050.07FU       \\\\\n",
       "\tOTU485:129Leaf & Muscodor                                 & Muscodor\\_fengyangensis\\_SH195936.07FU\\\\\n",
       "\tOTU592:120Leaf & Muscodor                                 & Muscodor\\_yucatanensis\\_SH195939.07FU \\\\\n",
       "\\end{tabular}\n"
      ],
      "text/plain": [
       "                                    Genus          \n",
       "OTU2101:29Leaf                      Xylaria        \n",
       "OTU2469:76Leaf                      Kretzschmaria  \n",
       "OTU304:161wood                      Nemania        \n",
       "OTU1182:41Leaf                      Muscodor       \n",
       "OTU16:N_bipapillata_var_bipapillata Nemania        \n",
       "OTU6:K_pavimentosa_or_N_primolutea  Kretzschmaria  \n",
       "OTU613:70Leaf                       Xylaria        \n",
       "OTU2860:41Leaf                      NA             \n",
       "OTU154:85Leaf                       NA             \n",
       "OTU2530:87Leaf                      Xylaria        \n",
       "OTU18:A_atroroseum                  Annulohypoxylon\n",
       "OTU2313:127Leaf                     Xylaria        \n",
       "OTU1873:51Leaf                      Hypoxylon      \n",
       "OTU908:70Leaf                       NA             \n",
       "OTU2:X_flabelliforme_australia_thai Xylaria        \n",
       "OTU1216:129Leaf                     NA             \n",
       "OTU396:128Leaf                      Xylaria        \n",
       "OTU646:16Leaf                       Nemania        \n",
       "OTU485:129Leaf                      Muscodor       \n",
       "OTU592:120Leaf                      Muscodor       \n",
       "                                    Species                             \n",
       "OTU2101:29Leaf                      NA                                  \n",
       "OTU2469:76Leaf                      pavimentosa                         \n",
       "OTU304:161wood                      Nemania_aenea_SH217392.07FU         \n",
       "OTU1182:41Leaf                      Muscodor_yucatanensis_SH195934.07FU \n",
       "OTU16:N_bipapillata_var_bipapillata bipapillata_var_bipapillata         \n",
       "OTU6:K_pavimentosa_or_N_primolutea  pavimentosa_or_N_primolutea         \n",
       "OTU613:70Leaf                       NA                                  \n",
       "OTU2860:41Leaf                      NA                                  \n",
       "OTU154:85Leaf                       NA                                  \n",
       "OTU2530:87Leaf                      NA                                  \n",
       "OTU18:A_atroroseum                  atroroseum                          \n",
       "OTU2313:127Leaf                     atrosphaerica                       \n",
       "OTU1873:51Leaf                      Hypoxylon_monticulosum_SH213380.07FU\n",
       "OTU908:70Leaf                       NA                                  \n",
       "OTU2:X_flabelliforme_australia_thai flabelliforme_australia_thai        \n",
       "OTU1216:129Leaf                     NA                                  \n",
       "OTU396:128Leaf                      Xylaria_allantoidea_SH194350.07FU   \n",
       "OTU646:16Leaf                       Nemania_diffusa_SH195050.07FU       \n",
       "OTU485:129Leaf                      Muscodor_fengyangensis_SH195936.07FU\n",
       "OTU592:120Leaf                      Muscodor_yucatanensis_SH195939.07FU "
      ]
     },
     "metadata": {},
     "output_type": "display_data"
    }
   ],
   "source": [
    "aa <- rdadist(leafrdaplot,20)\n",
    "tax_table(biom95)[names(aa),6:7]"
   ]
  },
  {
   "cell_type": "markdown",
   "metadata": {},
   "source": [
    "This may be a little misleading, because the most important axis by far is our first RDA. So if we check the most important species on this axis:"
   ]
  },
  {
   "cell_type": "code",
   "execution_count": 96,
   "metadata": {
    "collapsed": false,
    "scrolled": true
   },
   "outputs": [
    {
     "data": {
      "text/html": [
       "<dl class=dl-horizontal>\n",
       "\t<dt>OTU6:K_pavimentosa_or_N_primolutea</dt>\n",
       "\t\t<dd>0.29050858177542</dd>\n",
       "\t<dt>OTU2860:41Leaf</dt>\n",
       "\t\t<dd>0.269751584150287</dd>\n",
       "\t<dt>OTU2313:127Leaf</dt>\n",
       "\t\t<dd>0.232562324674791</dd>\n",
       "\t<dt>OTU2530:87Leaf</dt>\n",
       "\t\t<dd>0.231889938007995</dd>\n",
       "\t<dt>OTU154:85Leaf</dt>\n",
       "\t\t<dd>0.226293124581689</dd>\n",
       "\t<dt>OTU2469:76Leaf</dt>\n",
       "\t\t<dd>0.22389291292698</dd>\n",
       "\t<dt>OTU1873:51Leaf</dt>\n",
       "\t\t<dd>0.206272927899688</dd>\n",
       "\t<dt>OTU908:70Leaf</dt>\n",
       "\t\t<dd>0.200502453447052</dd>\n",
       "\t<dt>OTU485:129Leaf</dt>\n",
       "\t\t<dd>0.170727374510209</dd>\n",
       "\t<dt>OTU396:128Leaf</dt>\n",
       "\t\t<dd>0.167932743792255</dd>\n",
       "</dl>\n"
      ],
      "text/latex": [
       "\\begin{description*}\n",
       "\\item[OTU6:K\\textbackslash{}\\_pavimentosa\\textbackslash{}\\_or\\textbackslash{}\\_N\\textbackslash{}\\_primolutea] 0.29050858177542\n",
       "\\item[OTU2860:41Leaf] 0.269751584150287\n",
       "\\item[OTU2313:127Leaf] 0.232562324674791\n",
       "\\item[OTU2530:87Leaf] 0.231889938007995\n",
       "\\item[OTU154:85Leaf] 0.226293124581689\n",
       "\\item[OTU2469:76Leaf] 0.22389291292698\n",
       "\\item[OTU1873:51Leaf] 0.206272927899688\n",
       "\\item[OTU908:70Leaf] 0.200502453447052\n",
       "\\item[OTU485:129Leaf] 0.170727374510209\n",
       "\\item[OTU396:128Leaf] 0.167932743792255\n",
       "\\end{description*}\n"
      ],
      "text/markdown": [
       "OTU6:K_pavimentosa_or_N_primolutea\n",
       ":   0.29050858177542OTU2860:41Leaf\n",
       ":   0.269751584150287OTU2313:127Leaf\n",
       ":   0.232562324674791OTU2530:87Leaf\n",
       ":   0.231889938007995OTU154:85Leaf\n",
       ":   0.226293124581689OTU2469:76Leaf\n",
       ":   0.22389291292698OTU1873:51Leaf\n",
       ":   0.206272927899688OTU908:70Leaf\n",
       ":   0.200502453447052OTU485:129Leaf\n",
       ":   0.170727374510209OTU396:128Leaf\n",
       ":   0.167932743792255\n",
       "\n"
      ],
      "text/plain": [
       "OTU6:K_pavimentosa_or_N_primolutea                     OTU2860:41Leaf \n",
       "                         0.2905086                          0.2697516 \n",
       "                   OTU2313:127Leaf                     OTU2530:87Leaf \n",
       "                         0.2325623                          0.2318899 \n",
       "                     OTU154:85Leaf                     OTU2469:76Leaf \n",
       "                         0.2262931                          0.2238929 \n",
       "                    OTU1873:51Leaf                      OTU908:70Leaf \n",
       "                         0.2062729                          0.2005025 \n",
       "                    OTU485:129Leaf                     OTU396:128Leaf \n",
       "                         0.1707274                          0.1679327 "
      ]
     },
     "metadata": {},
     "output_type": "display_data"
    },
    {
     "data": {
      "text/html": [
       "<table>\n",
       "<thead><tr><th></th><th scope=col>Genus</th><th scope=col>Species</th></tr></thead>\n",
       "<tbody>\n",
       "\t<tr><th scope=row>OTU6:K_pavimentosa_or_N_primolutea</th><td>Kretzschmaria                       </td><td>pavimentosa_or_N_primolutea         </td></tr>\n",
       "\t<tr><th scope=row>OTU2860:41Leaf</th><td>NA                                  </td><td>NA                                  </td></tr>\n",
       "\t<tr><th scope=row>OTU2313:127Leaf</th><td>Xylaria                             </td><td>atrosphaerica                       </td></tr>\n",
       "\t<tr><th scope=row>OTU2530:87Leaf</th><td>Xylaria                             </td><td>NA                                  </td></tr>\n",
       "\t<tr><th scope=row>OTU154:85Leaf</th><td>NA                                  </td><td>NA                                  </td></tr>\n",
       "\t<tr><th scope=row>OTU2469:76Leaf</th><td>Kretzschmaria                       </td><td>pavimentosa                         </td></tr>\n",
       "\t<tr><th scope=row>OTU1873:51Leaf</th><td>Hypoxylon                           </td><td>Hypoxylon_monticulosum_SH213380.07FU</td></tr>\n",
       "\t<tr><th scope=row>OTU908:70Leaf</th><td>NA                                  </td><td>NA                                  </td></tr>\n",
       "\t<tr><th scope=row>OTU485:129Leaf</th><td>Muscodor                            </td><td>Muscodor_fengyangensis_SH195936.07FU</td></tr>\n",
       "\t<tr><th scope=row>OTU396:128Leaf</th><td>Xylaria                             </td><td>Xylaria_allantoidea_SH194350.07FU   </td></tr>\n",
       "</tbody>\n",
       "</table>\n"
      ],
      "text/latex": [
       "\\begin{tabular}{r|ll}\n",
       "  & Genus & Species\\\\\n",
       "\\hline\n",
       "\tOTU6:K\\_pavimentosa\\_or\\_N\\_primolutea & Kretzschmaria                              & pavimentosa\\_or\\_N\\_primolutea         \\\\\n",
       "\tOTU2860:41Leaf & NA                                   & NA                                  \\\\\n",
       "\tOTU2313:127Leaf & Xylaria                              & atrosphaerica                       \\\\\n",
       "\tOTU2530:87Leaf & Xylaria                              & NA                                  \\\\\n",
       "\tOTU154:85Leaf & NA                                   & NA                                  \\\\\n",
       "\tOTU2469:76Leaf & Kretzschmaria                        & pavimentosa                         \\\\\n",
       "\tOTU1873:51Leaf & Hypoxylon                                & Hypoxylon\\_monticulosum\\_SH213380.07FU\\\\\n",
       "\tOTU908:70Leaf & NA                                   & NA                                  \\\\\n",
       "\tOTU485:129Leaf & Muscodor                                 & Muscodor\\_fengyangensis\\_SH195936.07FU\\\\\n",
       "\tOTU396:128Leaf & Xylaria                                  & Xylaria\\_allantoidea\\_SH194350.07FU   \\\\\n",
       "\\end{tabular}\n"
      ],
      "text/plain": [
       "                                   Genus        \n",
       "OTU6:K_pavimentosa_or_N_primolutea Kretzschmaria\n",
       "OTU2860:41Leaf                     NA           \n",
       "OTU2313:127Leaf                    Xylaria      \n",
       "OTU2530:87Leaf                     Xylaria      \n",
       "OTU154:85Leaf                      NA           \n",
       "OTU2469:76Leaf                     Kretzschmaria\n",
       "OTU1873:51Leaf                     Hypoxylon    \n",
       "OTU908:70Leaf                      NA           \n",
       "OTU485:129Leaf                     Muscodor     \n",
       "OTU396:128Leaf                     Xylaria      \n",
       "                                   Species                             \n",
       "OTU6:K_pavimentosa_or_N_primolutea pavimentosa_or_N_primolutea         \n",
       "OTU2860:41Leaf                     NA                                  \n",
       "OTU2313:127Leaf                    atrosphaerica                       \n",
       "OTU2530:87Leaf                     NA                                  \n",
       "OTU154:85Leaf                      NA                                  \n",
       "OTU2469:76Leaf                     pavimentosa                         \n",
       "OTU1873:51Leaf                     Hypoxylon_monticulosum_SH213380.07FU\n",
       "OTU908:70Leaf                      NA                                  \n",
       "OTU485:129Leaf                     Muscodor_fengyangensis_SH195936.07FU\n",
       "OTU396:128Leaf                     Xylaria_allantoidea_SH194350.07FU   "
      ]
     },
     "metadata": {},
     "output_type": "display_data"
    }
   ],
   "source": [
    "sort(abs(leafrdaplot$biplot[,'RDA1']), decreasing=TRUE)[1:10]\n",
    "\n",
    "aa <- names(sort(abs(leafrdaplot$biplot[,'RDA1']), decreasing=TRUE)[1:10])\n",
    "tax_table(biom95)[aa,6:7]"
   ]
  },
  {
   "cell_type": "markdown",
   "metadata": {},
   "source": [
    "Odd, some otus didn't cluster to our stromata, but the usearch taxonomic assignment then assigned them the same taxonomy as one of these sequences (I inserted them into our version of the UNITE database). Not sure how that works. For instance, OTU2313:127Leaf is an independent cluster from any of our stromata, but the closest match from the UNITE/stromata database was our *K. pavimentosa* sequence. Not sure what to do with this."
   ]
  },
  {
   "cell_type": "markdown",
   "metadata": {},
   "source": [
    "**Stromata as a function of shared wood endophyte community only**"
   ]
  },
  {
   "cell_type": "markdown",
   "metadata": {},
   "source": [
    "It seems perhaps inapropriate to use species that are not represented in all matrices, not sure. To do that is to ask questions about species-species interactions, better addressed with co-occurence analysis. Also, I think we lose all ability by the RDA to detect any patterns. So let's constrain our analysis to just Xylariaceous taxa observed as stromata. \n",
    "\n",
    "We need to reformat our column names to match, then can subset our leaf and wood community matrices to just those species that are also observed somewhere as a stromata."
   ]
  },
  {
   "cell_type": "code",
   "execution_count": null,
   "metadata": {
    "collapsed": true
   },
   "outputs": [],
   "source": [
    "## wood \n",
    "Xwm2 <- Xwoodmat.hel\n",
    "aa <- colnames(Xwm2) ## get names of stromata, but have \"otu:\" in front\n",
    "bb <- strsplit(aa, split=':') ## split by colon symbol\n",
    "cc <- unlist(bb) ## unroll the list\n",
    "woodnames <- cc[1:length(cc) %% 2 == 0] ## takes the even numbers \n",
    "colnames(Xwm2) <- woodnames\n",
    "#cbind(colnames(Xwm2), woodnames) ## looks okay\n",
    "Xwm.strom <- Xwm2[,colnames(Xwm2) %in% colnames(stromata)] ##subset"
   ]
  },
  {
   "cell_type": "markdown",
   "metadata": {},
   "source": [
    "Okay, we've now simplified our wood endophyte community matrix to just those species that were observed somewhere in our study as xylareacious stromata. Looks like, after my pipeline, there are 17 shared species between the wood endophytes and stromata communities:"
   ]
  },
  {
   "cell_type": "code",
   "execution_count": 108,
   "metadata": {
    "collapsed": false,
    "scrolled": true
   },
   "outputs": [
    {
     "data": {
      "text/html": [
       "<ol class=list-inline>\n",
       "\t<li>81</li>\n",
       "\t<li>17</li>\n",
       "</ol>\n"
      ],
      "text/latex": [
       "\\begin{enumerate*}\n",
       "\\item 81\n",
       "\\item 17\n",
       "\\end{enumerate*}\n"
      ],
      "text/markdown": [
       "1. 81\n",
       "2. 17\n",
       "\n",
       "\n"
      ],
      "text/plain": [
       "[1] 81 17"
      ]
     },
     "metadata": {},
     "output_type": "display_data"
    },
    {
     "data": {
      "text/html": [
       "<ol class=list-inline>\n",
       "\t<li>81</li>\n",
       "\t<li>95</li>\n",
       "</ol>\n"
      ],
      "text/latex": [
       "\\begin{enumerate*}\n",
       "\\item 81\n",
       "\\item 95\n",
       "\\end{enumerate*}\n"
      ],
      "text/markdown": [
       "1. 81\n",
       "2. 95\n",
       "\n",
       "\n"
      ],
      "text/plain": [
       "[1] 81 95"
      ]
     },
     "metadata": {},
     "output_type": "display_data"
    }
   ],
   "source": [
    "dim(Xwm.strom) #how many Xylariaceae wood endos are also in stromatal matrix? \n",
    "dim(Xwm2) ## how many Xylariaceae were in the wood, in general."
   ]
  },
  {
   "cell_type": "markdown",
   "metadata": {},
   "source": [
    "Okay, let's run the RDA with just these shared fungi:"
   ]
  },
  {
   "cell_type": "code",
   "execution_count": 116,
   "metadata": {
    "collapsed": false
   },
   "outputs": [
    {
     "data": {
      "text/html": [
       "<table>\n",
       "<thead><tr><th></th><th scope=col>Df</th><th scope=col>Variance</th><th scope=col>F</th><th scope=col>Pr(&gt;F)</th></tr></thead>\n",
       "<tbody>\n",
       "\t<tr><th scope=row>Model</th><td>16       </td><td>0.0867612</td><td>1.363955 </td><td>0.139    </td></tr>\n",
       "\t<tr><th scope=row>Residual</th><td>64       </td><td>0.2544400</td><td>      NA </td><td>   NA    </td></tr>\n",
       "</tbody>\n",
       "</table>\n"
      ],
      "text/latex": [
       "\\begin{tabular}{r|llll}\n",
       "  & Df & Variance & F & Pr(>F)\\\\\n",
       "\\hline\n",
       "\tModel & 16        & 0.0867612 & 1.363955  & 0.139    \\\\\n",
       "\tResidual & 64        & 0.2544400 &       NA  &    NA    \\\\\n",
       "\\end{tabular}\n"
      ],
      "text/plain": [
       "         Df Variance  F        Pr(>F)\n",
       "Model    16 0.0867612 1.363955 0.139 \n",
       "Residual 64 0.2544400       NA    NA "
      ]
     },
     "metadata": {},
     "output_type": "display_data"
    }
   ],
   "source": [
    "wood.stromonly.rda <- rda(stromata.hel, Xwm.strom)\n",
    "anova.cca(wood.stromonly.rda)"
   ]
  },
  {
   "cell_type": "code",
   "execution_count": 117,
   "metadata": {
    "collapsed": false,
    "scrolled": false
   },
   "outputs": [
    {
     "data": {
      "image/png": "[encoded data removed]",
      "text/plain": [
       "plot without title"
      ]
     },
     "metadata": {},
     "output_type": "display_data"
    }
   ],
   "source": [
    "wood.stromonly.rda.plot <- plot(wood.stromonly.rda)"
   ]
  },
  {
   "cell_type": "markdown",
   "metadata": {},
   "source": [
    "**Stromata as a function of shared leaf endophyte community only**"
   ]
  },
  {
   "cell_type": "code",
   "execution_count": 110,
   "metadata": {
    "collapsed": false
   },
   "outputs": [],
   "source": [
    "## leaf \n",
    "Xlm2 <- Xleafmat.hel\n",
    "aa <- colnames(Xlm2) ## get names of stromata, but have \"otu:\" in front\n",
    "bb <- strsplit(aa, split=':') ## split by colon symbol\n",
    "cc <- unlist(bb) ## unroll the list\n",
    "leafnames <- cc[1:length(cc) %% 2 == 0] ## takes the even numbers \n",
    "colnames(Xlm2) <- leafnames\n",
    "#cbind(colnames(Xlm2), leafnames) ## looks good\n",
    "Xlm.strom <- Xlm2[,colnames(Xlm2) %in% colnames(stromata)]"
   ]
  },
  {
   "cell_type": "code",
   "execution_count": 112,
   "metadata": {
    "collapsed": false,
    "scrolled": true
   },
   "outputs": [
    {
     "data": {
      "text/html": [
       "<ol class=list-inline>\n",
       "\t<li>81</li>\n",
       "\t<li>24</li>\n",
       "</ol>\n"
      ],
      "text/latex": [
       "\\begin{enumerate*}\n",
       "\\item 81\n",
       "\\item 24\n",
       "\\end{enumerate*}\n"
      ],
      "text/markdown": [
       "1. 81\n",
       "2. 24\n",
       "\n",
       "\n"
      ],
      "text/plain": [
       "[1] 81 24"
      ]
     },
     "metadata": {},
     "output_type": "display_data"
    },
    {
     "data": {
      "text/html": [
       "<ol class=list-inline>\n",
       "\t<li>81</li>\n",
       "\t<li>185</li>\n",
       "</ol>\n"
      ],
      "text/latex": [
       "\\begin{enumerate*}\n",
       "\\item 81\n",
       "\\item 185\n",
       "\\end{enumerate*}\n"
      ],
      "text/markdown": [
       "1. 81\n",
       "2. 185\n",
       "\n",
       "\n"
      ],
      "text/plain": [
       "[1]  81 185"
      ]
     },
     "metadata": {},
     "output_type": "display_data"
    }
   ],
   "source": [
    "dim(Xlm.strom) #how many Xylariaceae leaf endos are also in stromatal matrix? \n",
    "dim(Xlm2) #how many Xylariaceae leaf endos were there in general? "
   ]
  },
  {
   "cell_type": "markdown",
   "metadata": {},
   "source": [
    "Run the RDA with these matrices:"
   ]
  },
  {
   "cell_type": "code",
   "execution_count": 114,
   "metadata": {
    "collapsed": false,
    "scrolled": false
   },
   "outputs": [
    {
     "data": {
      "text/html": [
       "<table>\n",
       "<thead><tr><th></th><th scope=col>Df</th><th scope=col>Variance</th><th scope=col>F</th><th scope=col>Pr(&gt;F)</th></tr></thead>\n",
       "<tbody>\n",
       "\t<tr><th scope=row>Model</th><td>22       </td><td>0.1128537</td><td>1.302941 </td><td>0.091    </td></tr>\n",
       "\t<tr><th scope=row>Residual</th><td>58       </td><td>0.2283475</td><td>      NA </td><td>   NA    </td></tr>\n",
       "</tbody>\n",
       "</table>\n"
      ],
      "text/latex": [
       "\\begin{tabular}{r|llll}\n",
       "  & Df & Variance & F & Pr(>F)\\\\\n",
       "\\hline\n",
       "\tModel & 22        & 0.1128537 & 1.302941  & 0.091    \\\\\n",
       "\tResidual & 58        & 0.2283475 &       NA  &    NA    \\\\\n",
       "\\end{tabular}\n"
      ],
      "text/plain": [
       "         Df Variance  F        Pr(>F)\n",
       "Model    22 0.1128537 1.302941 0.091 \n",
       "Residual 58 0.2283475       NA    NA "
      ]
     },
     "metadata": {},
     "output_type": "display_data"
    }
   ],
   "source": [
    "leaf.stromonly.rda <- rda(stromata.hel, Xlm.strom)\n",
    "anova.cca(leaf.stromonly.rda)"
   ]
  },
  {
   "cell_type": "markdown",
   "metadata": {},
   "source": [
    "Plot it:"
   ]
  },
  {
   "cell_type": "code",
   "execution_count": 115,
   "metadata": {
    "collapsed": false,
    "scrolled": false
   },
   "outputs": [
    {
     "data": {
      "image/png": "[encoded data removed]",
      "text/plain": [
       "plot without title"
      ]
     },
     "metadata": {},
     "output_type": "display_data"
    }
   ],
   "source": [
    "leaf.stromonly.rda.plot <- plot(leaf.stromonly.rda)"
   ]
  }
 ],
 "metadata": {
  "kernelspec": {
   "display_name": "R 3.3",
   "language": "R",
   "name": "ir33"
  },
  "language_info": {
   "codemirror_mode": "r",
   "file_extension": ".r",
   "mimetype": "text/x-r-source",
   "name": "R",
   "pygments_lexer": "r",
   "version": "3.3.1"
  }
 },
 "nbformat": 4,
 "nbformat_minor": 0
}
