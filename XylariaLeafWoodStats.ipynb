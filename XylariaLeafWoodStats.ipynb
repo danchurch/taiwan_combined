{
 "cells": [
  {
   "cell_type": "markdown",
   "metadata": {},
   "source": [
    "# Combined leaf and wood Xylariaceae analysis"
   ]
  },
  {
   "cell_type": "markdown",
   "metadata": {},
   "source": [
    "We will use our combined biom table of leaf and wood endophytes to ask some questions about the roles of both leaf- and sapwood-inhabiting endophytes on nearby stromata, focusing on the family Xylariaceae."
   ]
  },
  {
   "cell_type": "markdown",
   "metadata": {},
   "source": [
    "<a id='contents'></a>"
   ]
  },
  {
   "cell_type": "markdown",
   "metadata": {},
   "source": [
    "## Contents\n",
    "\n",
    "[Importing biom table and setup](#import)  \n",
    "[Negative control cleanup](#nc)  \n",
    "[Variance Stabilization of Read Counts](#deseq)  \n",
    "[Formatting and transforming data for RDA](#rdaprep)  \n",
    "[Redundancy analysis](#rda)"
   ]
  },
  {
   "cell_type": "markdown",
   "metadata": {},
   "source": [
    "<a id='import'></a>"
   ]
  },
  {
   "cell_type": "markdown",
   "metadata": {},
   "source": [
    "## Importing biom table and setup"
   ]
  },
  {
   "cell_type": "markdown",
   "metadata": {},
   "source": [
    "Let's get the proper packages and import our biom table."
   ]
  },
  {
   "cell_type": "code",
   "execution_count": 3,
   "metadata": {
    "collapsed": false,
    "scrolled": true
   },
   "outputs": [
    {
     "name": "stderr",
     "output_type": "stream",
     "text": [
      "Loading required package: S4Vectors\n",
      "Loading required package: stats4\n",
      "Loading required package: BiocGenerics\n",
      "Loading required package: parallel\n",
      "\n",
      "Attaching package: ‘BiocGenerics’\n",
      "\n",
      "The following objects are masked from ‘package:parallel’:\n",
      "\n",
      "    clusterApply, clusterApplyLB, clusterCall, clusterEvalQ,\n",
      "    clusterExport, clusterMap, parApply, parCapply, parLapply,\n",
      "    parLapplyLB, parRapply, parSapply, parSapplyLB\n",
      "\n",
      "The following objects are masked from ‘package:stats’:\n",
      "\n",
      "    IQR, mad, xtabs\n",
      "\n",
      "The following objects are masked from ‘package:base’:\n",
      "\n",
      "    anyDuplicated, append, as.data.frame, cbind, colnames, do.call,\n",
      "    duplicated, eval, evalq, Filter, Find, get, grep, grepl, intersect,\n",
      "    is.unsorted, lapply, lengths, Map, mapply, match, mget, order,\n",
      "    paste, pmax, pmax.int, pmin, pmin.int, Position, rank, rbind,\n",
      "    Reduce, rownames, sapply, setdiff, sort, table, tapply, union,\n",
      "    unique, unsplit\n",
      "\n",
      "\n",
      "Attaching package: ‘S4Vectors’\n",
      "\n",
      "The following objects are masked from ‘package:base’:\n",
      "\n",
      "    colMeans, colSums, expand.grid, rowMeans, rowSums\n",
      "\n",
      "Loading required package: IRanges\n",
      "\n",
      "Attaching package: ‘IRanges’\n",
      "\n",
      "The following object is masked from ‘package:phyloseq’:\n",
      "\n",
      "    distance\n",
      "\n",
      "Loading required package: GenomicRanges\n",
      "Loading required package: GenomeInfoDb\n",
      "Loading required package: SummarizedExperiment\n",
      "Loading required package: Biobase\n",
      "Welcome to Bioconductor\n",
      "\n",
      "    Vignettes contain introductory material; view with\n",
      "    'browseVignettes()'. To cite Bioconductor, see\n",
      "    'citation(\"Biobase\")', and for packages 'citation(\"pkgname\")'.\n",
      "\n",
      "\n",
      "Attaching package: ‘Biobase’\n",
      "\n",
      "The following object is masked from ‘package:phyloseq’:\n",
      "\n",
      "    sampleNames\n",
      "\n",
      "Loading required package: permute\n",
      "Loading required package: lattice\n",
      "This is vegan 2.4-1\n"
     ]
    }
   ],
   "source": [
    "library('phyloseq')\n",
    "library('DESeq2')\n",
    "library('repr')\n",
    "library('vegan')"
   ]
  },
  {
   "cell_type": "markdown",
   "metadata": {},
   "source": [
    "Import our biom table. We used the green genes style of formatting for our taxonomy metadata, I think..."
   ]
  },
  {
   "cell_type": "code",
   "execution_count": 3,
   "metadata": {
    "collapsed": true
   },
   "outputs": [],
   "source": [
    "biom95 <- import_biom('combo_95_wMeta.biom', parseFunction=parse_taxonomy_greengenes)"
   ]
  },
  {
   "cell_type": "markdown",
   "metadata": {},
   "source": [
    "Our biom table:"
   ]
  },
  {
   "cell_type": "code",
   "execution_count": 4,
   "metadata": {
    "collapsed": false,
    "scrolled": false
   },
   "outputs": [
    {
     "data": {
      "text/plain": [
       "phyloseq-class experiment-level object\n",
       "otu_table()   OTU Table:         [ 10269 taxa and 232 samples ]\n",
       "sample_data() Sample Data:       [ 232 samples by 3 sample variables ]\n",
       "tax_table()   Taxonomy Table:    [ 10269 taxa by 7 taxonomic ranks ]"
      ]
     },
     "metadata": {},
     "output_type": "display_data"
    }
   ],
   "source": [
    "biom95"
   ]
  },
  {
   "cell_type": "markdown",
   "metadata": {},
   "source": [
    "Here is our current metadata for samples. We can subset by library type (leaf or wood), sample or control, and sample number. The unique identifiers (first column) were the name of the sample assigned by the illumina software."
   ]
  },
  {
   "cell_type": "code",
   "execution_count": 5,
   "metadata": {
    "collapsed": false,
    "scrolled": true
   },
   "outputs": [
    {
     "data": {
      "text/html": [
       "<table>\n",
       "<thead><tr><th></th><th scope=col>SampleNumber</th><th scope=col>SorC</th><th scope=col>Library</th></tr></thead>\n",
       "<tbody>\n",
       "\t<tr><th scope=row>160wood</th><td>Dc-X   </td><td>Control</td><td>W      </td></tr>\n",
       "\t<tr><th scope=row>161wood</th><td>Dc-PosG</td><td>Control</td><td>W      </td></tr>\n",
       "\t<tr><th scope=row>162wood</th><td>Dc-PosI</td><td>Control</td><td>W      </td></tr>\n",
       "\t<tr><th scope=row>163wood</th><td>Dc-Neg </td><td>Control</td><td>W      </td></tr>\n",
       "\t<tr><th scope=row>164wood</th><td>1      </td><td>Sample </td><td>W      </td></tr>\n",
       "\t<tr><th scope=row>165wood</th><td>2      </td><td>Sample </td><td>W      </td></tr>\n",
       "</tbody>\n",
       "</table>\n"
      ],
      "text/latex": [
       "\\begin{tabular}{r|lll}\n",
       "  & SampleNumber & SorC & Library\\\\\n",
       "\\hline\n",
       "\t160wood & Dc-X    & Control & W      \\\\\n",
       "\t161wood & Dc-PosG & Control & W      \\\\\n",
       "\t162wood & Dc-PosI & Control & W      \\\\\n",
       "\t163wood & Dc-Neg  & Control & W      \\\\\n",
       "\t164wood & 1       & Sample  & W      \\\\\n",
       "\t165wood & 2       & Sample  & W      \\\\\n",
       "\\end{tabular}\n"
      ],
      "text/markdown": [
       "$SampleNumber\n",
       ":   1. 'Dc-X'\n",
       "2. 'Dc-PosG'\n",
       "3. 'Dc-PosI'\n",
       "4. 'Dc-Neg'\n",
       "5. '1'\n",
       "6. '2'\n",
       "\n",
       "\n",
       "\n",
       "$SorC\n",
       ":   1. 'Control'\n",
       "2. 'Control'\n",
       "3. 'Control'\n",
       "4. 'Control'\n",
       "5. 'Sample'\n",
       "6. 'Sample'\n",
       "\n",
       "\n",
       "\n",
       "$Library\n",
       ":   1. 'W'\n",
       "2. 'W'\n",
       "3. 'W'\n",
       "4. 'W'\n",
       "5. 'W'\n",
       "6. 'W'\n",
       "\n",
       "\n",
       "\n",
       "\n",
       "\n"
      ],
      "text/plain": [
       "        SampleNumber SorC    Library\n",
       "160wood Dc-X         Control W      \n",
       "161wood Dc-PosG      Control W      \n",
       "162wood Dc-PosI      Control W      \n",
       "163wood Dc-Neg       Control W      \n",
       "164wood 1            Sample  W      \n",
       "165wood 2            Sample  W      "
      ]
     },
     "metadata": {},
     "output_type": "display_data"
    }
   ],
   "source": [
    "head(sample_data(biom95))"
   ]
  },
  {
   "cell_type": "markdown",
   "metadata": {},
   "source": [
    "<a id='nc'></a>"
   ]
  },
  {
   "cell_type": "markdown",
   "metadata": {},
   "source": [
    "## Cleanup of biom tables using negative controls"
   ]
  },
  {
   "cell_type": "markdown",
   "metadata": {},
   "source": [
    "Okay, as per the recommendations of [Nguyen 2015](http://onlinelibrary.wiley.com/doi/10.1111/nph.12923/full), we'll remove sequences of OTUs found in our negative controls, up to the amount of reads found for these OTUs in our negative controls. \n",
    "\n",
    "What do we find in our negatives? Make a phyloseq object of just our wood negative:"
   ]
  },
  {
   "cell_type": "code",
   "execution_count": 6,
   "metadata": {
    "collapsed": true
   },
   "outputs": [],
   "source": [
    "neg95 <- subset_samples(biom95, SampleNumber=='Neg')"
   ]
  },
  {
   "cell_type": "code",
   "execution_count": 7,
   "metadata": {
    "collapsed": false,
    "scrolled": true
   },
   "outputs": [
    {
     "data": {
      "text/plain": [
       "phyloseq-class experiment-level object\n",
       "otu_table()   OTU Table:         [ 10269 taxa and 1 samples ]\n",
       "sample_data() Sample Data:       [ 1 samples by 3 sample variables ]\n",
       "tax_table()   Taxonomy Table:    [ 10269 taxa by 7 taxonomic ranks ]"
      ]
     },
     "metadata": {},
     "output_type": "display_data"
    }
   ],
   "source": [
    "neg95"
   ]
  },
  {
   "cell_type": "markdown",
   "metadata": {},
   "source": [
    "How many contaminants do we have? Total reads:"
   ]
  },
  {
   "cell_type": "code",
   "execution_count": 8,
   "metadata": {
    "collapsed": false
   },
   "outputs": [
    {
     "data": {
      "text/html": [
       "1757"
      ],
      "text/latex": [
       "1757"
      ],
      "text/markdown": [
       "1757"
      ],
      "text/plain": [
       "[1] 1757"
      ]
     },
     "metadata": {},
     "output_type": "display_data"
    }
   ],
   "source": [
    "sum(taxa_sums(neg95)[taxa_sums(neg95)>0])"
   ]
  },
  {
   "cell_type": "markdown",
   "metadata": {},
   "source": [
    "Which OTUs, and how many of each?"
   ]
  },
  {
   "cell_type": "code",
   "execution_count": 9,
   "metadata": {
    "collapsed": false,
    "scrolled": true
   },
   "outputs": [
    {
     "data": {
      "text/html": [
       "<dl class=dl-horizontal>\n",
       "\t<dt>OTU66:65Leaf</dt>\n",
       "\t\t<dd>543</dd>\n",
       "\t<dt>OTU39:65Leaf</dt>\n",
       "\t\t<dd>98</dd>\n",
       "\t<dt>OTU1732:163wood</dt>\n",
       "\t\t<dd>1</dd>\n",
       "\t<dt>OTU199:112.2Leaf</dt>\n",
       "\t\t<dd>40</dd>\n",
       "\t<dt>OTU623:114Leaf</dt>\n",
       "\t\t<dd>61</dd>\n",
       "\t<dt>OTU206:161wood</dt>\n",
       "\t\t<dd>1</dd>\n",
       "\t<dt>OTU695:164wood</dt>\n",
       "\t\t<dd>69</dd>\n",
       "\t<dt>OTU237:161wood</dt>\n",
       "\t\t<dd>109</dd>\n",
       "\t<dt>OTU77:12Leaf</dt>\n",
       "\t\t<dd>1</dd>\n",
       "\t<dt>OTU132:104Leaf</dt>\n",
       "\t\t<dd>56</dd>\n",
       "\t<dt>OTU89:161wood</dt>\n",
       "\t\t<dd>3</dd>\n",
       "\t<dt>OTU185:161wood</dt>\n",
       "\t\t<dd>2</dd>\n",
       "\t<dt>OTU161:161wood</dt>\n",
       "\t\t<dd>1</dd>\n",
       "\t<dt>OTU106:122Leaf</dt>\n",
       "\t\t<dd>2</dd>\n",
       "\t<dt>OTU181:70Leaf</dt>\n",
       "\t\t<dd>1</dd>\n",
       "\t<dt>OTU256:161wood</dt>\n",
       "\t\t<dd>108</dd>\n",
       "\t<dt>OTU198:161wood</dt>\n",
       "\t\t<dd>1</dd>\n",
       "\t<dt>OTU444:161wood</dt>\n",
       "\t\t<dd>51</dd>\n",
       "\t<dt>OTU782:192wood</dt>\n",
       "\t\t<dd>1</dd>\n",
       "\t<dt>OTU47:51Leaf</dt>\n",
       "\t\t<dd>1</dd>\n",
       "\t<dt>OTU291:167wood</dt>\n",
       "\t\t<dd>1</dd>\n",
       "\t<dt>OTU313:164wood</dt>\n",
       "\t\t<dd>20</dd>\n",
       "\t<dt>OTU343:164wood</dt>\n",
       "\t\t<dd>1</dd>\n",
       "\t<dt>OTU234:165wood</dt>\n",
       "\t\t<dd>1</dd>\n",
       "\t<dt>OTU16:14Leaf</dt>\n",
       "\t\t<dd>1</dd>\n",
       "\t<dt>OTU308:173wood</dt>\n",
       "\t\t<dd>1</dd>\n",
       "\t<dt>OTU204:35Leaf</dt>\n",
       "\t\t<dd>1</dd>\n",
       "\t<dt>OTU18:55Leaf</dt>\n",
       "\t\t<dd>1</dd>\n",
       "\t<dt>OTU19:100Leaf</dt>\n",
       "\t\t<dd>1</dd>\n",
       "\t<dt>OTU521:132Leaf</dt>\n",
       "\t\t<dd>1</dd>\n",
       "\t<dt>OTU1193:103Leaf</dt>\n",
       "\t\t<dd>36</dd>\n",
       "\t<dt>OTU1436:172wood</dt>\n",
       "\t\t<dd>64</dd>\n",
       "\t<dt>OTU240:167wood</dt>\n",
       "\t\t<dd>185</dd>\n",
       "\t<dt>OTU167:90Leaf</dt>\n",
       "\t\t<dd>1</dd>\n",
       "\t<dt>OTU1283:170wood</dt>\n",
       "\t\t<dd>4</dd>\n",
       "\t<dt>OTU2363:168wood</dt>\n",
       "\t\t<dd>4</dd>\n",
       "\t<dt>OTU747:254wood</dt>\n",
       "\t\t<dd>1</dd>\n",
       "\t<dt>OTU63:194wood</dt>\n",
       "\t\t<dd>13</dd>\n",
       "\t<dt>OTU2828:34Leaf</dt>\n",
       "\t\t<dd>1</dd>\n",
       "\t<dt>OTU1444:255wood</dt>\n",
       "\t\t<dd>50</dd>\n",
       "\t<dt>OTU1066:125Leaf</dt>\n",
       "\t\t<dd>1</dd>\n",
       "\t<dt>OTU806:121Leaf</dt>\n",
       "\t\t<dd>60</dd>\n",
       "\t<dt>OTU1103:172wood</dt>\n",
       "\t\t<dd>48</dd>\n",
       "\t<dt>OTU1768:252wood</dt>\n",
       "\t\t<dd>1</dd>\n",
       "\t<dt>OTU1337:240wood</dt>\n",
       "\t\t<dd>32</dd>\n",
       "\t<dt>OTU5161:51Leaf</dt>\n",
       "\t\t<dd>23</dd>\n",
       "\t<dt>OTU8871:173wood</dt>\n",
       "\t\t<dd>1</dd>\n",
       "\t<dt>OTU727:48Leaf</dt>\n",
       "\t\t<dd>1</dd>\n",
       "\t<dt>OTU471:190wood</dt>\n",
       "\t\t<dd>1</dd>\n",
       "\t<dt>OTU1554:183wood</dt>\n",
       "\t\t<dd>1</dd>\n",
       "\t<dt>OTU1189:199wood</dt>\n",
       "\t\t<dd>44</dd>\n",
       "\t<dt>OTU30:207wood</dt>\n",
       "\t\t<dd>3</dd>\n",
       "\t<dt>OTU766:252wood</dt>\n",
       "\t\t<dd>1</dd>\n",
       "\t<dt>OTU1781:253wood</dt>\n",
       "\t\t<dd>2</dd>\n",
       "</dl>\n"
      ],
      "text/latex": [
       "\\begin{description*}\n",
       "\\item[OTU66:65Leaf] 543\n",
       "\\item[OTU39:65Leaf] 98\n",
       "\\item[OTU1732:163wood] 1\n",
       "\\item[OTU199:112.2Leaf] 40\n",
       "\\item[OTU623:114Leaf] 61\n",
       "\\item[OTU206:161wood] 1\n",
       "\\item[OTU695:164wood] 69\n",
       "\\item[OTU237:161wood] 109\n",
       "\\item[OTU77:12Leaf] 1\n",
       "\\item[OTU132:104Leaf] 56\n",
       "\\item[OTU89:161wood] 3\n",
       "\\item[OTU185:161wood] 2\n",
       "\\item[OTU161:161wood] 1\n",
       "\\item[OTU106:122Leaf] 2\n",
       "\\item[OTU181:70Leaf] 1\n",
       "\\item[OTU256:161wood] 108\n",
       "\\item[OTU198:161wood] 1\n",
       "\\item[OTU444:161wood] 51\n",
       "\\item[OTU782:192wood] 1\n",
       "\\item[OTU47:51Leaf] 1\n",
       "\\item[OTU291:167wood] 1\n",
       "\\item[OTU313:164wood] 20\n",
       "\\item[OTU343:164wood] 1\n",
       "\\item[OTU234:165wood] 1\n",
       "\\item[OTU16:14Leaf] 1\n",
       "\\item[OTU308:173wood] 1\n",
       "\\item[OTU204:35Leaf] 1\n",
       "\\item[OTU18:55Leaf] 1\n",
       "\\item[OTU19:100Leaf] 1\n",
       "\\item[OTU521:132Leaf] 1\n",
       "\\item[OTU1193:103Leaf] 36\n",
       "\\item[OTU1436:172wood] 64\n",
       "\\item[OTU240:167wood] 185\n",
       "\\item[OTU167:90Leaf] 1\n",
       "\\item[OTU1283:170wood] 4\n",
       "\\item[OTU2363:168wood] 4\n",
       "\\item[OTU747:254wood] 1\n",
       "\\item[OTU63:194wood] 13\n",
       "\\item[OTU2828:34Leaf] 1\n",
       "\\item[OTU1444:255wood] 50\n",
       "\\item[OTU1066:125Leaf] 1\n",
       "\\item[OTU806:121Leaf] 60\n",
       "\\item[OTU1103:172wood] 48\n",
       "\\item[OTU1768:252wood] 1\n",
       "\\item[OTU1337:240wood] 32\n",
       "\\item[OTU5161:51Leaf] 23\n",
       "\\item[OTU8871:173wood] 1\n",
       "\\item[OTU727:48Leaf] 1\n",
       "\\item[OTU471:190wood] 1\n",
       "\\item[OTU1554:183wood] 1\n",
       "\\item[OTU1189:199wood] 44\n",
       "\\item[OTU30:207wood] 3\n",
       "\\item[OTU766:252wood] 1\n",
       "\\item[OTU1781:253wood] 2\n",
       "\\end{description*}\n"
      ],
      "text/markdown": [
       "OTU66:65Leaf\n",
       ":   543OTU39:65Leaf\n",
       ":   98OTU1732:163wood\n",
       ":   1OTU199:112.2Leaf\n",
       ":   40OTU623:114Leaf\n",
       ":   61OTU206:161wood\n",
       ":   1OTU695:164wood\n",
       ":   69OTU237:161wood\n",
       ":   109OTU77:12Leaf\n",
       ":   1OTU132:104Leaf\n",
       ":   56OTU89:161wood\n",
       ":   3OTU185:161wood\n",
       ":   2OTU161:161wood\n",
       ":   1OTU106:122Leaf\n",
       ":   2OTU181:70Leaf\n",
       ":   1OTU256:161wood\n",
       ":   108OTU198:161wood\n",
       ":   1OTU444:161wood\n",
       ":   51OTU782:192wood\n",
       ":   1OTU47:51Leaf\n",
       ":   1OTU291:167wood\n",
       ":   1OTU313:164wood\n",
       ":   20OTU343:164wood\n",
       ":   1OTU234:165wood\n",
       ":   1OTU16:14Leaf\n",
       ":   1OTU308:173wood\n",
       ":   1OTU204:35Leaf\n",
       ":   1OTU18:55Leaf\n",
       ":   1OTU19:100Leaf\n",
       ":   1OTU521:132Leaf\n",
       ":   1OTU1193:103Leaf\n",
       ":   36OTU1436:172wood\n",
       ":   64OTU240:167wood\n",
       ":   185OTU167:90Leaf\n",
       ":   1OTU1283:170wood\n",
       ":   4OTU2363:168wood\n",
       ":   4OTU747:254wood\n",
       ":   1OTU63:194wood\n",
       ":   13OTU2828:34Leaf\n",
       ":   1OTU1444:255wood\n",
       ":   50OTU1066:125Leaf\n",
       ":   1OTU806:121Leaf\n",
       ":   60OTU1103:172wood\n",
       ":   48OTU1768:252wood\n",
       ":   1OTU1337:240wood\n",
       ":   32OTU5161:51Leaf\n",
       ":   23OTU8871:173wood\n",
       ":   1OTU727:48Leaf\n",
       ":   1OTU471:190wood\n",
       ":   1OTU1554:183wood\n",
       ":   1OTU1189:199wood\n",
       ":   44OTU30:207wood\n",
       ":   3OTU766:252wood\n",
       ":   1OTU1781:253wood\n",
       ":   2\n",
       "\n"
      ],
      "text/plain": [
       "    OTU66:65Leaf     OTU39:65Leaf  OTU1732:163wood OTU199:112.2Leaf \n",
       "             543               98                1               40 \n",
       "  OTU623:114Leaf   OTU206:161wood   OTU695:164wood   OTU237:161wood \n",
       "              61                1               69              109 \n",
       "    OTU77:12Leaf   OTU132:104Leaf    OTU89:161wood   OTU185:161wood \n",
       "               1               56                3                2 \n",
       "  OTU161:161wood   OTU106:122Leaf    OTU181:70Leaf   OTU256:161wood \n",
       "               1                2                1              108 \n",
       "  OTU198:161wood   OTU444:161wood   OTU782:192wood     OTU47:51Leaf \n",
       "               1               51                1                1 \n",
       "  OTU291:167wood   OTU313:164wood   OTU343:164wood   OTU234:165wood \n",
       "               1               20                1                1 \n",
       "    OTU16:14Leaf   OTU308:173wood    OTU204:35Leaf     OTU18:55Leaf \n",
       "               1                1                1                1 \n",
       "   OTU19:100Leaf   OTU521:132Leaf  OTU1193:103Leaf  OTU1436:172wood \n",
       "               1                1               36               64 \n",
       "  OTU240:167wood    OTU167:90Leaf  OTU1283:170wood  OTU2363:168wood \n",
       "             185                1                4                4 \n",
       "  OTU747:254wood    OTU63:194wood   OTU2828:34Leaf  OTU1444:255wood \n",
       "               1               13                1               50 \n",
       " OTU1066:125Leaf   OTU806:121Leaf  OTU1103:172wood  OTU1768:252wood \n",
       "               1               60               48                1 \n",
       " OTU1337:240wood   OTU5161:51Leaf  OTU8871:173wood    OTU727:48Leaf \n",
       "              32               23                1                1 \n",
       "  OTU471:190wood  OTU1554:183wood  OTU1189:199wood    OTU30:207wood \n",
       "               1                1               44                3 \n",
       "  OTU766:252wood  OTU1781:253wood \n",
       "               1                2 "
      ]
     },
     "metadata": {},
     "output_type": "display_data"
    }
   ],
   "source": [
    "taxa_sums(neg95)[taxa_sums(neg95)>0]"
   ]
  },
  {
   "cell_type": "markdown",
   "metadata": {},
   "source": [
    "A quick visual summary of the top 15 contaminants:"
   ]
  },
  {
   "cell_type": "code",
   "execution_count": 10,
   "metadata": {
    "collapsed": true
   },
   "outputs": [],
   "source": [
    "aa <- taxa_sums(neg95)[taxa_sums(neg95)>0]\n",
    "aa <- sort(aa, decreasing = TRUE)[1:15]\n",
    "neg95_top15 <- prune_taxa(names(aa), neg95)"
   ]
  },
  {
   "cell_type": "code",
   "execution_count": 11,
   "metadata": {
    "collapsed": false,
    "scrolled": false
   },
   "outputs": [
    {
     "data": {},
     "metadata": {},
     "output_type": "display_data"
    },
    {
     "data": {
      "image/png": "[encoded data removed]",
      "text/plain": [
       "plot without title"
      ]
     },
     "metadata": {},
     "output_type": "display_data"
    }
   ],
   "source": [
    "options(repr.plot.width = 4, repr.plot.height = 2) ## using repr to control size of R plotter outputs\n",
    "plot_bar(neg95_top15, \"Genus\")"
   ]
  },
  {
   "cell_type": "markdown",
   "metadata": {},
   "source": [
    "This stacks OTUs in the same taxonomic category into a single column. Hence, two OTUs assigned to *Mycosphaerella* are stacked, and 6 unidentified OTUs are stacked into the final bin. "
   ]
  },
  {
   "cell_type": "markdown",
   "metadata": {},
   "source": [
    "So, we can subtract the sequence quantities found in our negative control from all other samples by digging into the architecture of our phyloseq objects. If we look at our biom95 object, we can see that our read counts are stored in a matrix-like object in the otu_table slot:"
   ]
  },
  {
   "cell_type": "code",
   "execution_count": 12,
   "metadata": {
    "collapsed": false
   },
   "outputs": [
    {
     "name": "stdout",
     "output_type": "stream",
     "text": [
      "Formal class 'phyloseq' [package \"phyloseq\"] with 5 slots\n",
      "  ..@ otu_table:Formal class 'otu_table' [package \"phyloseq\"] with 2 slots\n",
      "  .. .. ..@ .Data        : num [1:10269, 1:232] 70749 4 2 316 8 ...\n",
      "  .. .. .. ..- attr(*, \"dimnames\")=List of 2\n",
      "  .. .. .. .. ..$ : chr [1:10269] \"OTU17:114Leaf\" \"OTU7811:160wood\" \"OTU2412:53Leaf\" \"OTU494:114Leaf\" ...\n",
      "  .. .. .. .. ..$ : chr [1:232] \"160wood\" \"161wood\" \"162wood\" \"163wood\" ...\n",
      "  .. .. ..@ taxa_are_rows: logi TRUE\n",
      "  ..@ tax_table:Formal class 'taxonomyTable' [package \"phyloseq\"] with 1 slot\n",
      "  .. .. ..@ .Data: chr [1:10269, 1:7] \"Fungi\" \"Fungi\" \"Fungi\" \"Fungi\" ...\n",
      "  .. .. .. ..- attr(*, \"dimnames\")=List of 2\n",
      "  .. .. .. .. ..$ : chr [1:10269] \"OTU17:114Leaf\" \"OTU7811:160wood\" \"OTU2412:53Leaf\" \"OTU494:114Leaf\" ...\n",
      "  .. .. .. .. ..$ : chr [1:7] \"Kingdom\" \"Phylum\" \"Class\" \"Order\" ...\n",
      "  ..@ sam_data :'data.frame':\t232 obs. of  3 variables:\n",
      "Formal class 'sample_data' [package \"phyloseq\"] with 4 slots\n",
      "  .. .. ..@ .Data    :List of 3\n",
      "  .. .. .. ..$ : chr [1:232] \"Dc-X\" \"Dc-PosG\" \"Dc-PosI\" \"Dc-Neg\" ...\n",
      "  .. .. .. ..$ : chr [1:232] \"Control\" \"Control\" \"Control\" \"Control\" ...\n",
      "  .. .. .. ..$ : chr [1:232] \"W\" \"W\" \"W\" \"W\" ...\n",
      "  .. .. ..@ names    : chr [1:3] \"SampleNumber\" \"SorC\" \"Library\"\n",
      "  .. .. ..@ row.names: chr [1:232] \"160wood\" \"161wood\" \"162wood\" \"163wood\" ...\n",
      "  .. .. ..@ .S3Class : chr \"data.frame\"\n",
      "  ..@ phy_tree : NULL\n",
      "  ..@ refseq   : NULL\n"
     ]
    }
   ],
   "source": [
    "str(biom95)"
   ]
  },
  {
   "cell_type": "markdown",
   "metadata": {},
   "source": [
    "To subtract the negative control reads from the others, we can treat these objects like matrices and subtract the column of the negative control from all other columns. In this case, we need to subtract the wood column negative control from the wood samples, and the leaf negative controls from the leaves (there are two). "
   ]
  },
  {
   "cell_type": "code",
   "execution_count": 22,
   "metadata": {
    "collapsed": true
   },
   "outputs": [],
   "source": [
    "## make a phyloseq object, in case we mess something up:\n",
    "biom95.nonc <- biom95"
   ]
  },
  {
   "cell_type": "markdown",
   "metadata": {},
   "source": [
    "Wood samples:"
   ]
  },
  {
   "cell_type": "code",
   "execution_count": 14,
   "metadata": {
    "collapsed": true
   },
   "outputs": [],
   "source": [
    "wood95 <- subset_samples(biom95, Library=='W') ## our wood samples\n",
    "woodneg95 <- subset_samples(biom95, SampleNumber=='Neg') ## our wood negative\n",
    "wood95@otu_table@.Data <- wood95@otu_table@.Data - woodneg95@otu_table@.Data[,1] ## subtract out the controls"
   ]
  },
  {
   "cell_type": "markdown",
   "metadata": {},
   "source": [
    "Leaf samples:"
   ]
  },
  {
   "cell_type": "code",
   "execution_count": 17,
   "metadata": {
    "collapsed": true
   },
   "outputs": [],
   "source": [
    "leaf95 <- subset_samples(biom95, Library=='L')  ## leaves only\n",
    "leafneg95 <- subset_samples(biom95, SampleNumber=='NC_1' | SampleNumber=='NC_2') ## leaf negative controls\n",
    "leaf95@otu_table@.Data <- leaf95@otu_table@.Data - leafneg95@otu_table@.Data[,1] - leafneg95@otu_table@.Data[,2] ## subtract out the controls"
   ]
  },
  {
   "cell_type": "markdown",
   "metadata": {},
   "source": [
    "Now reassemble these, plus the stromata abundance column. Negative numbers are reassigned a zero value:"
   ]
  },
  {
   "cell_type": "code",
   "execution_count": 18,
   "metadata": {
    "collapsed": true
   },
   "outputs": [],
   "source": [
    "strom95 <- subset_samples(biom95, Library=='S')  ## stromata\n",
    "bb <- cbind(wood95@otu_table@.Data, leaf95@otu_table@.Data, strom95@otu_table@.Data)\n",
    "bb[bb < 0] <- 0"
   ]
  },
  {
   "cell_type": "markdown",
   "metadata": {},
   "source": [
    "Before we do the deed, make sure that dimensions, row/column order have been preserved:"
   ]
  },
  {
   "cell_type": "code",
   "execution_count": 19,
   "metadata": {
    "collapsed": false,
    "scrolled": true
   },
   "outputs": [
    {
     "data": {
      "text/html": [
       "FALSE"
      ],
      "text/latex": [
       "FALSE"
      ],
      "text/markdown": [
       "FALSE"
      ],
      "text/plain": [
       "[1] FALSE"
      ]
     },
     "metadata": {},
     "output_type": "display_data"
    },
    {
     "data": {
      "text/html": [
       "FALSE"
      ],
      "text/latex": [
       "FALSE"
      ],
      "text/markdown": [
       "FALSE"
      ],
      "text/plain": [
       "[1] FALSE"
      ]
     },
     "metadata": {},
     "output_type": "display_data"
    }
   ],
   "source": [
    "any(colnames(biom95@otu_table@.Data) != colnames(bb))\n",
    "any(rownames(biom95@otu_table@.Data) != rownames(bb))"
   ]
  },
  {
   "cell_type": "code",
   "execution_count": 20,
   "metadata": {
    "collapsed": false,
    "scrolled": true
   },
   "outputs": [
    {
     "data": {
      "text/html": [
       "<ol class=list-inline>\n",
       "\t<li>10269</li>\n",
       "\t<li>232</li>\n",
       "</ol>\n"
      ],
      "text/latex": [
       "\\begin{enumerate*}\n",
       "\\item 10269\n",
       "\\item 232\n",
       "\\end{enumerate*}\n"
      ],
      "text/markdown": [
       "1. 10269\n",
       "2. 232\n",
       "\n",
       "\n"
      ],
      "text/plain": [
       "[1] 10269   232"
      ]
     },
     "metadata": {},
     "output_type": "display_data"
    },
    {
     "data": {
      "text/html": [
       "<ol class=list-inline>\n",
       "\t<li>10269</li>\n",
       "\t<li>232</li>\n",
       "</ol>\n"
      ],
      "text/latex": [
       "\\begin{enumerate*}\n",
       "\\item 10269\n",
       "\\item 232\n",
       "\\end{enumerate*}\n"
      ],
      "text/markdown": [
       "1. 10269\n",
       "2. 232\n",
       "\n",
       "\n"
      ],
      "text/plain": [
       "[1] 10269   232"
      ]
     },
     "metadata": {},
     "output_type": "display_data"
    }
   ],
   "source": [
    "dim(bb)\n",
    "dim(biom95@otu_table@.Data)"
   ]
  },
  {
   "cell_type": "markdown",
   "metadata": {},
   "source": [
    "Same row and column names/order, same dimensions, looks good. Substituting this new species matrix into our new phyloseq object:"
   ]
  },
  {
   "cell_type": "code",
   "execution_count": 23,
   "metadata": {
    "collapsed": false,
    "scrolled": true
   },
   "outputs": [],
   "source": [
    "biom95.nonc@otu_table@.Data <- bb"
   ]
  },
  {
   "cell_type": "markdown",
   "metadata": {},
   "source": [
    "<a id='deseq'></a>"
   ]
  },
  {
   "cell_type": "markdown",
   "metadata": {},
   "source": [
    "## Variance stabilization of our reads"
   ]
  },
  {
   "cell_type": "markdown",
   "metadata": {},
   "source": [
    "It's important to [stabilize the variance](http://journals.plos.org/ploscompbiol/article?id=10.1371/journal.pcbi.1003531of) of our combined-leaf-and-wood-endophyte read depths, we'll do this using the [DESeq2](https://bioconductor.org/packages/release/bioc/html/DESeq2.html) package in R. This is a way of making the samples, which have highly variable numbers of reads in them, comparable for downstream statistical analyses."
   ]
  },
  {
   "cell_type": "markdown",
   "metadata": {
    "collapsed": false
   },
   "source": [
    "For the moment, we will repeat Roo's pipeline that he used to lay the groundwork for his other analyses with the leaf-only data. We want to treat this new data as similarly as possible. His first step was to remove controls and low-read (<2000) samples. \n",
    "\n",
    "How many samples have less than 2000 reads in our biom table?"
   ]
  },
  {
   "cell_type": "code",
   "execution_count": 24,
   "metadata": {
    "collapsed": false,
    "scrolled": true
   },
   "outputs": [
    {
     "data": {
      "text/html": [
       "<dl class=dl-horizontal>\n",
       "\t<dt>255wood</dt>\n",
       "\t\t<dd>0</dd>\n",
       "\t<dt>NC_2Leaf</dt>\n",
       "\t\t<dd>0</dd>\n",
       "\t<dt>86Leaf</dt>\n",
       "\t\t<dd>554</dd>\n",
       "\t<dt>NC_1Leaf</dt>\n",
       "\t\t<dd>0</dd>\n",
       "\t<dt>18Leaf</dt>\n",
       "\t\t<dd>1400</dd>\n",
       "\t<dt>67Leaf</dt>\n",
       "\t\t<dd>1340</dd>\n",
       "\t<dt>112_1Leaf</dt>\n",
       "\t\t<dd>1</dd>\n",
       "\t<dt>113_2Leaf</dt>\n",
       "\t\t<dd>3</dd>\n",
       "\t<dt>74Leaf</dt>\n",
       "\t\t<dd>286</dd>\n",
       "\t<dt>113_1Leaf</dt>\n",
       "\t\t<dd>45</dd>\n",
       "\t<dt>126_2Leaf</dt>\n",
       "\t\t<dd>2</dd>\n",
       "\t<dt>91Leaf</dt>\n",
       "\t\t<dd>6</dd>\n",
       "\t<dt>Strom</dt>\n",
       "\t\t<dd>51</dd>\n",
       "</dl>\n"
      ],
      "text/latex": [
       "\\begin{description*}\n",
       "\\item[255wood] 0\n",
       "\\item[NC\\textbackslash{}\\_2Leaf] 0\n",
       "\\item[86Leaf] 554\n",
       "\\item[NC\\textbackslash{}\\_1Leaf] 0\n",
       "\\item[18Leaf] 1400\n",
       "\\item[67Leaf] 1340\n",
       "\\item[112\\textbackslash{}\\_1Leaf] 1\n",
       "\\item[113\\textbackslash{}\\_2Leaf] 3\n",
       "\\item[74Leaf] 286\n",
       "\\item[113\\textbackslash{}\\_1Leaf] 45\n",
       "\\item[126\\textbackslash{}\\_2Leaf] 2\n",
       "\\item[91Leaf] 6\n",
       "\\item[Strom] 51\n",
       "\\end{description*}\n"
      ],
      "text/markdown": [
       "255wood\n",
       ":   0NC_2Leaf\n",
       ":   086Leaf\n",
       ":   554NC_1Leaf\n",
       ":   018Leaf\n",
       ":   140067Leaf\n",
       ":   1340112_1Leaf\n",
       ":   1113_2Leaf\n",
       ":   374Leaf\n",
       ":   286113_1Leaf\n",
       ":   45126_2Leaf\n",
       ":   291Leaf\n",
       ":   6Strom\n",
       ":   51\n",
       "\n"
      ],
      "text/plain": [
       "  255wood  NC_2Leaf    86Leaf  NC_1Leaf    18Leaf    67Leaf 112_1Leaf 113_2Leaf \n",
       "        0         0       554         0      1400      1340         1         3 \n",
       "   74Leaf 113_1Leaf 126_2Leaf    91Leaf     Strom \n",
       "      286        45         2         6        51 "
      ]
     },
     "metadata": {},
     "output_type": "display_data"
    }
   ],
   "source": [
    "sample_sums(biom95.nonc)[sample_sums(biom95.nonc) < 2000]"
   ]
  },
  {
   "cell_type": "markdown",
   "metadata": {},
   "source": [
    "Not many. Some of these needed to be removed anyway, the negative controls and the low-read \"\\_\" reads, which represented empty samples included in the run. "
   ]
  },
  {
   "cell_type": "code",
   "execution_count": 26,
   "metadata": {
    "collapsed": true
   },
   "outputs": [],
   "source": [
    "biom95_hiread <- prune_samples(sample_sums(biom95.nonc)>=2000, biom95)"
   ]
  },
  {
   "cell_type": "markdown",
   "metadata": {},
   "source": [
    "Did this work? "
   ]
  },
  {
   "cell_type": "code",
   "execution_count": 27,
   "metadata": {
    "collapsed": false
   },
   "outputs": [
    {
     "data": {
      "text/html": [],
      "text/latex": [],
      "text/markdown": [],
      "text/plain": [
       "named numeric(0)"
      ]
     },
     "metadata": {},
     "output_type": "display_data"
    }
   ],
   "source": [
    "sample_sums(biom95_hiread)[sample_sums(biom95_hiread) < 2000]"
   ]
  },
  {
   "cell_type": "markdown",
   "metadata": {},
   "source": [
    "Nada. Worked. Now remove controls. We'll work more with the mock communities and other positive controls in the future. The leaves did not contain a positive control, so this is out of the scope of Roo's analysis. "
   ]
  },
  {
   "cell_type": "code",
   "execution_count": 28,
   "metadata": {
    "collapsed": true
   },
   "outputs": [],
   "source": [
    "biom95_hiread_nocontrol <- subset_samples(biom95_hiread, SorC==\"Sample\")"
   ]
  },
  {
   "cell_type": "code",
   "execution_count": 29,
   "metadata": {
    "collapsed": false
   },
   "outputs": [
    {
     "data": {
      "text/html": [
       "<table>\n",
       "<thead><tr><th></th><th scope=col>SampleNumber</th><th scope=col>SorC</th><th scope=col>Library</th></tr></thead>\n",
       "<tbody>\n",
       "\t<tr><th scope=row>164wood</th><td>1     </td><td>Sample</td><td>W     </td></tr>\n",
       "\t<tr><th scope=row>165wood</th><td>2     </td><td>Sample</td><td>W     </td></tr>\n",
       "\t<tr><th scope=row>166wood</th><td>3     </td><td>Sample</td><td>W     </td></tr>\n",
       "\t<tr><th scope=row>167wood</th><td>4     </td><td>Sample</td><td>W     </td></tr>\n",
       "\t<tr><th scope=row>168wood</th><td>5     </td><td>Sample</td><td>W     </td></tr>\n",
       "\t<tr><th scope=row>169wood</th><td>7     </td><td>Sample</td><td>W     </td></tr>\n",
       "</tbody>\n",
       "</table>\n"
      ],
      "text/latex": [
       "\\begin{tabular}{r|lll}\n",
       "  & SampleNumber & SorC & Library\\\\\n",
       "\\hline\n",
       "\t164wood & 1      & Sample & W     \\\\\n",
       "\t165wood & 2      & Sample & W     \\\\\n",
       "\t166wood & 3      & Sample & W     \\\\\n",
       "\t167wood & 4      & Sample & W     \\\\\n",
       "\t168wood & 5      & Sample & W     \\\\\n",
       "\t169wood & 7      & Sample & W     \\\\\n",
       "\\end{tabular}\n"
      ],
      "text/markdown": [
       "$SampleNumber\n",
       ":   1. '1'\n",
       "2. '2'\n",
       "3. '3'\n",
       "4. '4'\n",
       "5. '5'\n",
       "6. '7'\n",
       "\n",
       "\n",
       "\n",
       "$SorC\n",
       ":   1. 'Sample'\n",
       "2. 'Sample'\n",
       "3. 'Sample'\n",
       "4. 'Sample'\n",
       "5. 'Sample'\n",
       "6. 'Sample'\n",
       "\n",
       "\n",
       "\n",
       "$Library\n",
       ":   1. 'W'\n",
       "2. 'W'\n",
       "3. 'W'\n",
       "4. 'W'\n",
       "5. 'W'\n",
       "6. 'W'\n",
       "\n",
       "\n",
       "\n",
       "\n",
       "\n"
      ],
      "text/plain": [
       "        SampleNumber SorC   Library\n",
       "164wood 1            Sample W      \n",
       "165wood 2            Sample W      \n",
       "166wood 3            Sample W      \n",
       "167wood 4            Sample W      \n",
       "168wood 5            Sample W      \n",
       "169wood 7            Sample W      "
      ]
     },
     "metadata": {},
     "output_type": "display_data"
    },
    {
     "data": {
      "text/html": [
       "<table>\n",
       "<thead><tr><th></th><th scope=col>SampleNumber</th><th scope=col>SorC</th><th scope=col>Library</th></tr></thead>\n",
       "<tbody>\n",
       "\t<tr><th scope=row>47Leaf</th><td>47    </td><td>Sample</td><td>L     </td></tr>\n",
       "\t<tr><th scope=row>39Leaf</th><td>39    </td><td>Sample</td><td>L     </td></tr>\n",
       "\t<tr><th scope=row>5Leaf</th><td>5     </td><td>Sample</td><td>L     </td></tr>\n",
       "\t<tr><th scope=row>28Leaf</th><td>28    </td><td>Sample</td><td>L     </td></tr>\n",
       "\t<tr><th scope=row>19Leaf</th><td>19    </td><td>Sample</td><td>L     </td></tr>\n",
       "\t<tr><th scope=row>3Leaf</th><td>3     </td><td>Sample</td><td>L     </td></tr>\n",
       "</tbody>\n",
       "</table>\n"
      ],
      "text/latex": [
       "\\begin{tabular}{r|lll}\n",
       "  & SampleNumber & SorC & Library\\\\\n",
       "\\hline\n",
       "\t47Leaf & 47     & Sample & L     \\\\\n",
       "\t39Leaf & 39     & Sample & L     \\\\\n",
       "\t5Leaf & 5      & Sample & L     \\\\\n",
       "\t28Leaf & 28     & Sample & L     \\\\\n",
       "\t19Leaf & 19     & Sample & L     \\\\\n",
       "\t3Leaf & 3      & Sample & L     \\\\\n",
       "\\end{tabular}\n"
      ],
      "text/markdown": [
       "$SampleNumber\n",
       ":   1. '47'\n",
       "2. '39'\n",
       "3. '5'\n",
       "4. '28'\n",
       "5. '19'\n",
       "6. '3'\n",
       "\n",
       "\n",
       "\n",
       "$SorC\n",
       ":   1. 'Sample'\n",
       "2. 'Sample'\n",
       "3. 'Sample'\n",
       "4. 'Sample'\n",
       "5. 'Sample'\n",
       "6. 'Sample'\n",
       "\n",
       "\n",
       "\n",
       "$Library\n",
       ":   1. 'L'\n",
       "2. 'L'\n",
       "3. 'L'\n",
       "4. 'L'\n",
       "5. 'L'\n",
       "6. 'L'\n",
       "\n",
       "\n",
       "\n",
       "\n",
       "\n"
      ],
      "text/plain": [
       "       SampleNumber SorC   Library\n",
       "47Leaf 47           Sample L      \n",
       "39Leaf 39           Sample L      \n",
       "5Leaf  5            Sample L      \n",
       "28Leaf 28           Sample L      \n",
       "19Leaf 19           Sample L      \n",
       "3Leaf  3            Sample L      "
      ]
     },
     "metadata": {},
     "output_type": "display_data"
    }
   ],
   "source": [
    "head(sample_data(biom95_hiread_nocontrol)); tail(sample_data(biom95_hiread_nocontrol))"
   ]
  },
  {
   "cell_type": "markdown",
   "metadata": {},
   "source": [
    "Roo has written a function to stream-line the process of using deseq variance stabilization, because it was originally written for RNA-seq data, with dense matrices. Species matrices are usually pretty sparse, so deseq needs a few workarounds to handle our kind of data. Thankfully, Roo has worked on this, and saved me probably weeks of work. His function looks like this: \n"
   ]
  },
  {
   "cell_type": "code",
   "execution_count": 30,
   "metadata": {
    "collapsed": true
   },
   "outputs": [],
   "source": [
    "DESeq_varstab <- function(phyloseq, design) {\n",
    "# phyloseq = the input phyloseq object that you want to get DESeq transformed counts for\n",
    "# design_variable = the design for the conversion to the DESeq object. must be in the form \"as a function of\", for example \"~Host_Genus\", must be a variable in the phyloseq object\n",
    "\n",
    "        # Set variables to NULL\n",
    "        deseq.vst = NULL\n",
    "        geo_Means = NULL\n",
    "        phyloseq.DESeq = NULL\n",
    "\n",
    "        # Convert to a DESeq object\n",
    "        deseq = phyloseq_to_deseq2(phyloseq, design)\n",
    "\n",
    "        # calculate geometric means prior to estimate size factors\n",
    "        gm_mean = function(x, na.rm=TRUE){\n",
    "                exp(sum(log(x[x > 0]), na.rm=na.rm) / length(x))\n",
    "                }\n",
    "\n",
    "        geo_Means = apply(counts(deseq), 1, gm_mean)\n",
    "\n",
    "        # Check to see if any columns (samples) don't have any OTUs in them:\n",
    "        if(sum(colSums(counts(deseq)) == 0) == 0) { # if all samples have taxa, go on\n",
    "\n",
    "                # Now we step through the size factors, dispersions, and varience stabilization:\n",
    "                deseq = estimateSizeFactors(deseq, geoMeans = geo_Means)\n",
    "                deseq = estimateDispersions(deseq) # long step\n",
    "                deseq.vst = getVarianceStabilizedData(deseq)\n",
    "\n",
    "                # replace negatives with zeros\n",
    "                deseq.vst[deseq.vst <0] <- 0\n",
    "\n",
    "                # add the varience stabilized otu numbers into the dataset:\n",
    "                otu_table(phyloseq) <- otu_table(deseq.vst, taxa_are_rows = TRUE)\n",
    "\n",
    "                # create a new object for the varience stabalized set\n",
    "                phyloseq -> phyloseq.DESeq\n",
    "\n",
    "                # And, filter any taxa that became 0s all the way across\n",
    "                phyloseq.DESeq = filter_taxa(phyloseq.DESeq, function(x) sum(x) > 0.1, T)\n",
    "\n",
    "                # return the new phyloseq object\n",
    "                return(phyloseq.DESeq)\n",
    "\n",
    "        } # end of IF loop \n",
    "        else {return(\"Error: your phyloseq object has samples with no taxa present.\")}\n",
    "\n",
    "} # end function\n"
   ]
  },
  {
   "cell_type": "markdown",
   "metadata": {},
   "source": [
    "So let's try it out on our data. DESeq asks for an experimental design to incorporate in its modeling of read counts. In this instance, we are making comparisons of the relative importance of the origins of our endophytes - are wood endophytes or leaf endophytes more predictive of decomposers (stromata) at a given site? With this question, I believe the design variable is the origin of the sample, leaf or wood, (our \"Library\" metadata variable). "
   ]
  },
  {
   "cell_type": "code",
   "execution_count": 31,
   "metadata": {
    "collapsed": true
   },
   "outputs": [],
   "source": [
    "## match Roo's random seed set, not sure if this is necessary for DeSeq but let's err on the side of caution\n",
    "set.seed(28132)"
   ]
  },
  {
   "cell_type": "code",
   "execution_count": 35,
   "metadata": {
    "collapsed": false,
    "scrolled": false
   },
   "outputs": [
    {
     "name": "stderr",
     "output_type": "stream",
     "text": [
      "converting counts to integer mode\n",
      "Warning message in DESeqDataSet(se, design = design, ignoreRank):\n",
      "“some variables in design formula are characters, converting to factors”gene-wise dispersion estimates\n",
      "mean-dispersion relationship\n",
      "final dispersion estimates\n"
     ]
    }
   ],
   "source": [
    "deseq95 <- DESeq_varstab(biom95_hiread_nocontrol, ~Library)"
   ]
  },
  {
   "cell_type": "markdown",
   "metadata": {},
   "source": [
    "Roo's function goes into DESeq land and back, returning us a phyloseq object. How does our data look after touching the void and coming back to us?"
   ]
  },
  {
   "cell_type": "code",
   "execution_count": 36,
   "metadata": {
    "collapsed": false
   },
   "outputs": [
    {
     "data": {
      "text/plain": [
       "phyloseq-class experiment-level object\n",
       "otu_table()   OTU Table:         [ 7029 taxa and 213 samples ]\n",
       "sample_data() Sample Data:       [ 213 samples by 3 sample variables ]\n",
       "tax_table()   Taxonomy Table:    [ 7029 taxa by 7 taxonomic ranks ]"
      ]
     },
     "metadata": {},
     "output_type": "display_data"
    }
   ],
   "source": [
    "deseq95"
   ]
  },
  {
   "cell_type": "code",
   "execution_count": 37,
   "metadata": {
    "collapsed": false
   },
   "outputs": [
    {
     "data": {
      "text/plain": [
       "phyloseq-class experiment-level object\n",
       "otu_table()   OTU Table:         [ 10269 taxa and 213 samples ]\n",
       "sample_data() Sample Data:       [ 213 samples by 3 sample variables ]\n",
       "tax_table()   Taxonomy Table:    [ 10269 taxa by 7 taxonomic ranks ]"
      ]
     },
     "metadata": {},
     "output_type": "display_data"
    }
   ],
   "source": [
    "biom95_hiread_nocontrol"
   ]
  },
  {
   "cell_type": "markdown",
   "metadata": {},
   "source": [
    "Looks like we lost some taxa. Let's compare the distributions of our read depths before and after variance stabilization:"
   ]
  },
  {
   "cell_type": "code",
   "execution_count": 47,
   "metadata": {
    "collapsed": false,
    "scrolled": true
   },
   "outputs": [
    {
     "data": {
      "image/png": "[encoded data removed]",
      "text/plain": [
       "plot without title"
      ]
     },
     "metadata": {},
     "output_type": "display_data"
    }
   ],
   "source": [
    "par(mfrow = c(1,2))\n",
    "options(repr.plot.width = 10, repr.plot.height = 4)\n",
    "\n",
    "barplot(sample_sums(biom95_hiread_nocontrol), axisnames=FALSE)\n",
    "mtext(text='wood', side = 1, at=50)\n",
    "mtext(text='leaf', side = 1, at=170)\n",
    "\n",
    "barplot(sample_sums(deseq95), axisnames=FALSE)\n",
    "mtext(text='wood', side = 1, at=50)\n",
    "mtext(text='leaf', side = 1, at=170)"
   ]
  },
  {
   "cell_type": "markdown",
   "metadata": {},
   "source": [
    "Huh, it looks like the wood retained more reads than the leaves. I'm a bit confused by this and our low read numbers in general after variance stabilization. Maybe this is due to the very different abundances present between the two studies.  "
   ]
  },
  {
   "cell_type": "markdown",
   "metadata": {},
   "source": [
    "# Redundancy analysis"
   ]
  },
  {
   "cell_type": "markdown",
   "metadata": {},
   "source": [
    "<a id='rdaprep'></a>"
   ]
  },
  {
   "cell_type": "markdown",
   "metadata": {},
   "source": [
    "# Formatting and transforming data for RDA"
   ]
  },
  {
   "cell_type": "markdown",
   "metadata": {},
   "source": [
    "To examine the relative importances of leaf and wood endophytes in predicting decomposer (stromata) populations, we'll employ [Redundancy analysis](https://sites.google.com/site/mb3gustame/constrained-analyses/rda). This is a constrained, direct-gradient type of analysis that is kind of like a multiple regression of a response (Y) matrix to several explanatory (X) matrices.  \n",
    "\n",
    "One of the nice things about RDA is that it is constrained, meaning that it focuses on the variation in our response matrix that can be explained by the variables we supply, though there is some estimation of unexplained variation. We do not expect that all or even most of the variation in our decomposer matrix will be explained by either the leaf or wood endophyte populations. Much of the variation is probably due to environmental conditions, etc. But here we check to see if any variation in our decomposers can be predicted by endophytes, and if so, the relative importance of our leaf and wood endophytes. "
   ]
  },
  {
   "cell_type": "markdown",
   "metadata": {},
   "source": [
    "### Formatting inputs for RDA"
   ]
  },
  {
   "cell_type": "markdown",
   "metadata": {},
   "source": [
    "For our RDAs, we'll need three matrices. Our \"y\" matrix will be the observations of stromata from our sites. The \"x\" matrices will be our wood and leaf species matrices. All three will need to be of the same sites, meaning we need to trim down to the smallest matrix. This is our wood matrix, which had successful DNA purification and amplification in only 91 samples."
   ]
  },
  {
   "cell_type": "markdown",
   "metadata": {},
   "source": [
    "**Wood matrix**"
   ]
  },
  {
   "cell_type": "markdown",
   "metadata": {},
   "source": [
    "To get our wood samples which contained Xylariaceae:"
   ]
  },
  {
   "cell_type": "code",
   "execution_count": 129,
   "metadata": {
    "collapsed": true
   },
   "outputs": [],
   "source": [
    "wood95 <- subset_samples(deseq95, Library=='W') ## wood samples only\n",
    "Xwood95 <- subset_taxa(wood95, Family=='Xylariaceae') ## subset to Xyalriaceae\n",
    "Xwoodmat <- t(otu_table(Xwood95)@.Data) ## get our species matrix out\n",
    "Xwoodmat <- Xwoodmat[,colSums(Xwoodmat) > 0] ## get rid of empty columns"
   ]
  },
  {
   "cell_type": "markdown",
   "metadata": {},
   "source": [
    "Looks like this:"
   ]
  },
  {
   "cell_type": "code",
   "execution_count": 130,
   "metadata": {
    "collapsed": false,
    "scrolled": true
   },
   "outputs": [
    {
     "data": {
      "text/html": [
       "<table>\n",
       "<thead><tr><th></th><th scope=col>OTU17:114Leaf</th><th scope=col>OTU206:161wood</th><th scope=col>OTU256:161wood</th><th scope=col>OTU189:90Leaf</th><th scope=col>OTU734:75Leaf</th></tr></thead>\n",
       "<tbody>\n",
       "\t<tr><th scope=row>164wood</th><td>0.000000 </td><td>0.0000000</td><td>0        </td><td>0        </td><td>0        </td></tr>\n",
       "\t<tr><th scope=row>165wood</th><td>1.499134 </td><td>0.0000000</td><td>0        </td><td>0        </td><td>0        </td></tr>\n",
       "\t<tr><th scope=row>166wood</th><td>0.000000 </td><td>0.0000000</td><td>0        </td><td>0        </td><td>0        </td></tr>\n",
       "\t<tr><th scope=row>167wood</th><td>0.000000 </td><td>0.0000000</td><td>0        </td><td>0        </td><td>0        </td></tr>\n",
       "\t<tr><th scope=row>168wood</th><td>0.000000 </td><td>0.0000000</td><td>0        </td><td>0        </td><td>0        </td></tr>\n",
       "\t<tr><th scope=row>169wood</th><td>0.000000 </td><td>0.0000000</td><td>0        </td><td>0        </td><td>0        </td></tr>\n",
       "\t<tr><th scope=row>170wood</th><td>0.000000 </td><td>0.0000000</td><td>0        </td><td>0        </td><td>0        </td></tr>\n",
       "\t<tr><th scope=row>171wood</th><td>0.000000 </td><td>0.4860454</td><td>0        </td><td>0        </td><td>0        </td></tr>\n",
       "\t<tr><th scope=row>172wood</th><td>0.000000 </td><td>1.1380200</td><td>0        </td><td>0        </td><td>0        </td></tr>\n",
       "\t<tr><th scope=row>173wood</th><td>2.898913 </td><td>0.7212740</td><td>0        </td><td>0        </td><td>0        </td></tr>\n",
       "</tbody>\n",
       "</table>\n"
      ],
      "text/latex": [
       "\\begin{tabular}{r|lllll}\n",
       "  & OTU17:114Leaf & OTU206:161wood & OTU256:161wood & OTU189:90Leaf & OTU734:75Leaf\\\\\n",
       "\\hline\n",
       "\t164wood & 0.000000  & 0.0000000 & 0         & 0         & 0        \\\\\n",
       "\t165wood & 1.499134  & 0.0000000 & 0         & 0         & 0        \\\\\n",
       "\t166wood & 0.000000  & 0.0000000 & 0         & 0         & 0        \\\\\n",
       "\t167wood & 0.000000  & 0.0000000 & 0         & 0         & 0        \\\\\n",
       "\t168wood & 0.000000  & 0.0000000 & 0         & 0         & 0        \\\\\n",
       "\t169wood & 0.000000  & 0.0000000 & 0         & 0         & 0        \\\\\n",
       "\t170wood & 0.000000  & 0.0000000 & 0         & 0         & 0        \\\\\n",
       "\t171wood & 0.000000  & 0.4860454 & 0         & 0         & 0        \\\\\n",
       "\t172wood & 0.000000  & 1.1380200 & 0         & 0         & 0        \\\\\n",
       "\t173wood & 2.898913  & 0.7212740 & 0         & 0         & 0        \\\\\n",
       "\\end{tabular}\n"
      ],
      "text/markdown": [
       "1. 0\n",
       "2. 1.49913449312874\n",
       "3. 0\n",
       "4. 0\n",
       "5. 0\n",
       "6. 0\n",
       "7. 0\n",
       "8. 0\n",
       "9. 0\n",
       "10. 2.89891292368358\n",
       "11. 0\n",
       "12. 0\n",
       "13. 0\n",
       "14. 0\n",
       "15. 0\n",
       "16. 0\n",
       "17. 0\n",
       "18. 0.486045398539732\n",
       "19. 1.13801996550531\n",
       "20. 0.721274040033373\n",
       "21. 0\n",
       "22. 0\n",
       "23. 0\n",
       "24. 0\n",
       "25. 0\n",
       "26. 0\n",
       "27. 0\n",
       "28. 0\n",
       "29. 0\n",
       "30. 0\n",
       "31. 0\n",
       "32. 0\n",
       "33. 0\n",
       "34. 0\n",
       "35. 0\n",
       "36. 0\n",
       "37. 0\n",
       "38. 0\n",
       "39. 0\n",
       "40. 0\n",
       "41. 0\n",
       "42. 0\n",
       "43. 0\n",
       "44. 0\n",
       "45. 0\n",
       "46. 0\n",
       "47. 0\n",
       "48. 0\n",
       "49. 0\n",
       "50. 0\n",
       "\n",
       "\n"
      ],
      "text/plain": [
       "        OTU17:114Leaf OTU206:161wood OTU256:161wood OTU189:90Leaf OTU734:75Leaf\n",
       "164wood 0.000000      0.0000000      0              0             0            \n",
       "165wood 1.499134      0.0000000      0              0             0            \n",
       "166wood 0.000000      0.0000000      0              0             0            \n",
       "167wood 0.000000      0.0000000      0              0             0            \n",
       "168wood 0.000000      0.0000000      0              0             0            \n",
       "169wood 0.000000      0.0000000      0              0             0            \n",
       "170wood 0.000000      0.0000000      0              0             0            \n",
       "171wood 0.000000      0.4860454      0              0             0            \n",
       "172wood 0.000000      1.1380200      0              0             0            \n",
       "173wood 2.898913      0.7212740      0              0             0            "
      ]
     },
     "metadata": {},
     "output_type": "display_data"
    }
   ],
   "source": [
    "Xwoodmat[1:10,1:5]"
   ]
  },
  {
   "cell_type": "markdown",
   "metadata": {},
   "source": [
    "Nice, but let's rename our rows by their actual sample number, not the names that the illumina software gave them."
   ]
  },
  {
   "cell_type": "code",
   "execution_count": 131,
   "metadata": {
    "collapsed": false
   },
   "outputs": [
    {
     "data": {
      "text/html": [
       "<table>\n",
       "<thead><tr><th></th><th scope=col>OTU17:114Leaf</th><th scope=col>OTU206:161wood</th><th scope=col>OTU256:161wood</th><th scope=col>OTU189:90Leaf</th><th scope=col>OTU734:75Leaf</th></tr></thead>\n",
       "<tbody>\n",
       "\t<tr><th scope=row>1</th><td>0.000000 </td><td>0.0000000</td><td>0        </td><td>0        </td><td>0        </td></tr>\n",
       "\t<tr><th scope=row>2</th><td>1.499134 </td><td>0.0000000</td><td>0        </td><td>0        </td><td>0        </td></tr>\n",
       "\t<tr><th scope=row>3</th><td>0.000000 </td><td>0.0000000</td><td>0        </td><td>0        </td><td>0        </td></tr>\n",
       "\t<tr><th scope=row>4</th><td>0.000000 </td><td>0.0000000</td><td>0        </td><td>0        </td><td>0        </td></tr>\n",
       "\t<tr><th scope=row>5</th><td>0.000000 </td><td>0.0000000</td><td>0        </td><td>0        </td><td>0        </td></tr>\n",
       "\t<tr><th scope=row>7</th><td>0.000000 </td><td>0.0000000</td><td>0        </td><td>0        </td><td>0        </td></tr>\n",
       "\t<tr><th scope=row>9</th><td>0.000000 </td><td>0.0000000</td><td>0        </td><td>0        </td><td>0        </td></tr>\n",
       "\t<tr><th scope=row>10</th><td>0.000000 </td><td>0.4860454</td><td>0        </td><td>0        </td><td>0        </td></tr>\n",
       "\t<tr><th scope=row>11</th><td>0.000000 </td><td>1.1380200</td><td>0        </td><td>0        </td><td>0        </td></tr>\n",
       "\t<tr><th scope=row>13</th><td>2.898913 </td><td>0.7212740</td><td>0        </td><td>0        </td><td>0        </td></tr>\n",
       "</tbody>\n",
       "</table>\n"
      ],
      "text/latex": [
       "\\begin{tabular}{r|lllll}\n",
       "  & OTU17:114Leaf & OTU206:161wood & OTU256:161wood & OTU189:90Leaf & OTU734:75Leaf\\\\\n",
       "\\hline\n",
       "\t1 & 0.000000  & 0.0000000 & 0         & 0         & 0        \\\\\n",
       "\t2 & 1.499134  & 0.0000000 & 0         & 0         & 0        \\\\\n",
       "\t3 & 0.000000  & 0.0000000 & 0         & 0         & 0        \\\\\n",
       "\t4 & 0.000000  & 0.0000000 & 0         & 0         & 0        \\\\\n",
       "\t5 & 0.000000  & 0.0000000 & 0         & 0         & 0        \\\\\n",
       "\t7 & 0.000000  & 0.0000000 & 0         & 0         & 0        \\\\\n",
       "\t9 & 0.000000  & 0.0000000 & 0         & 0         & 0        \\\\\n",
       "\t10 & 0.000000  & 0.4860454 & 0         & 0         & 0        \\\\\n",
       "\t11 & 0.000000  & 1.1380200 & 0         & 0         & 0        \\\\\n",
       "\t13 & 2.898913  & 0.7212740 & 0         & 0         & 0        \\\\\n",
       "\\end{tabular}\n"
      ],
      "text/markdown": [
       "1. 0\n",
       "2. 1.49913449312874\n",
       "3. 0\n",
       "4. 0\n",
       "5. 0\n",
       "6. 0\n",
       "7. 0\n",
       "8. 0\n",
       "9. 0\n",
       "10. 2.89891292368358\n",
       "11. 0\n",
       "12. 0\n",
       "13. 0\n",
       "14. 0\n",
       "15. 0\n",
       "16. 0\n",
       "17. 0\n",
       "18. 0.486045398539732\n",
       "19. 1.13801996550531\n",
       "20. 0.721274040033373\n",
       "21. 0\n",
       "22. 0\n",
       "23. 0\n",
       "24. 0\n",
       "25. 0\n",
       "26. 0\n",
       "27. 0\n",
       "28. 0\n",
       "29. 0\n",
       "30. 0\n",
       "31. 0\n",
       "32. 0\n",
       "33. 0\n",
       "34. 0\n",
       "35. 0\n",
       "36. 0\n",
       "37. 0\n",
       "38. 0\n",
       "39. 0\n",
       "40. 0\n",
       "41. 0\n",
       "42. 0\n",
       "43. 0\n",
       "44. 0\n",
       "45. 0\n",
       "46. 0\n",
       "47. 0\n",
       "48. 0\n",
       "49. 0\n",
       "50. 0\n",
       "\n",
       "\n"
      ],
      "text/plain": [
       "   OTU17:114Leaf OTU206:161wood OTU256:161wood OTU189:90Leaf OTU734:75Leaf\n",
       "1  0.000000      0.0000000      0              0             0            \n",
       "2  1.499134      0.0000000      0              0             0            \n",
       "3  0.000000      0.0000000      0              0             0            \n",
       "4  0.000000      0.0000000      0              0             0            \n",
       "5  0.000000      0.0000000      0              0             0            \n",
       "7  0.000000      0.0000000      0              0             0            \n",
       "9  0.000000      0.0000000      0              0             0            \n",
       "10 0.000000      0.4860454      0              0             0            \n",
       "11 0.000000      1.1380200      0              0             0            \n",
       "13 2.898913      0.7212740      0              0             0            "
      ]
     },
     "metadata": {},
     "output_type": "display_data"
    }
   ],
   "source": [
    "Xwoodnames <- sample_data(Xwood95)@.Data[[1]]\n",
    "rownames(Xwoodmat) <- Xwoodnames\n",
    "Xwoodmat[1:10,1:5]"
   ]
  },
  {
   "cell_type": "markdown",
   "metadata": {},
   "source": [
    "Notice that some rows are missing, where sampling was unsucessful. We need to create a leaf matrix and trim to these samples, since we can only compare among the three matrices where all were sampled."
   ]
  },
  {
   "cell_type": "markdown",
   "metadata": {},
   "source": [
    "**Leaf matrix**"
   ]
  },
  {
   "cell_type": "markdown",
   "metadata": {},
   "source": [
    "Get the matrix as with the wood above:"
   ]
  },
  {
   "cell_type": "code",
   "execution_count": 132,
   "metadata": {
    "collapsed": false,
    "scrolled": true
   },
   "outputs": [
    {
     "data": {
      "text/html": [
       "<table>\n",
       "<thead><tr><th></th><th scope=col>OTU17:114Leaf</th><th scope=col>OTU256:161wood</th><th scope=col>OTU189:90Leaf</th><th scope=col>OTU734:75Leaf</th><th scope=col>OTU2498:87Leaf</th></tr></thead>\n",
       "<tbody>\n",
       "\t<tr><th scope=row>100</th><td>4.515438 </td><td>0        </td><td>0.000000 </td><td>0.0000000</td><td>0        </td></tr>\n",
       "\t<tr><th scope=row>78</th><td>0.000000 </td><td>0        </td><td>0.000000 </td><td>2.3942426</td><td>0        </td></tr>\n",
       "\t<tr><th scope=row>97</th><td>4.966791 </td><td>0        </td><td>1.240601 </td><td>4.1004346</td><td>0        </td></tr>\n",
       "\t<tr><th scope=row>90</th><td>0.000000 </td><td>0        </td><td>1.615465 </td><td>0.8816081</td><td>0        </td></tr>\n",
       "\t<tr><th scope=row>27</th><td>1.844523 </td><td>0        </td><td>0.000000 </td><td>0.0000000</td><td>0        </td></tr>\n",
       "\t<tr><th scope=row>21</th><td>0.000000 </td><td>0        </td><td>0.000000 </td><td>0.0000000</td><td>0        </td></tr>\n",
       "\t<tr><th scope=row>88</th><td>0.000000 </td><td>0        </td><td>0.000000 </td><td>0.0000000</td><td>0        </td></tr>\n",
       "\t<tr><th scope=row>104</th><td>8.946683 </td><td>0        </td><td>0.000000 </td><td>0.0000000</td><td>0        </td></tr>\n",
       "\t<tr><th scope=row>81</th><td>0.000000 </td><td>0        </td><td>0.000000 </td><td>0.0000000</td><td>0        </td></tr>\n",
       "\t<tr><th scope=row>112</th><td>0.000000 </td><td>0        </td><td>0.000000 </td><td>0.6102818</td><td>0        </td></tr>\n",
       "</tbody>\n",
       "</table>\n"
      ],
      "text/latex": [
       "\\begin{tabular}{r|lllll}\n",
       "  & OTU17:114Leaf & OTU256:161wood & OTU189:90Leaf & OTU734:75Leaf & OTU2498:87Leaf\\\\\n",
       "\\hline\n",
       "\t100 & 4.515438  & 0         & 0.000000  & 0.0000000 & 0        \\\\\n",
       "\t78 & 0.000000  & 0         & 0.000000  & 2.3942426 & 0        \\\\\n",
       "\t97 & 4.966791  & 0         & 1.240601  & 4.1004346 & 0        \\\\\n",
       "\t90 & 0.000000  & 0         & 1.615465  & 0.8816081 & 0        \\\\\n",
       "\t27 & 1.844523  & 0         & 0.000000  & 0.0000000 & 0        \\\\\n",
       "\t21 & 0.000000  & 0         & 0.000000  & 0.0000000 & 0        \\\\\n",
       "\t88 & 0.000000  & 0         & 0.000000  & 0.0000000 & 0        \\\\\n",
       "\t104 & 8.946683  & 0         & 0.000000  & 0.0000000 & 0        \\\\\n",
       "\t81 & 0.000000  & 0         & 0.000000  & 0.0000000 & 0        \\\\\n",
       "\t112 & 0.000000  & 0         & 0.000000  & 0.6102818 & 0        \\\\\n",
       "\\end{tabular}\n"
      ],
      "text/markdown": [
       "1. 4.51543802253248\n",
       "2. 0\n",
       "3. 4.96679072595416\n",
       "4. 0\n",
       "5. 1.8445226178904\n",
       "6. 0\n",
       "7. 0\n",
       "8. 8.94668340073438\n",
       "9. 0\n",
       "10. 0\n",
       "11. 0\n",
       "12. 0\n",
       "13. 0\n",
       "14. 0\n",
       "15. 0\n",
       "16. 0\n",
       "17. 0\n",
       "18. 0\n",
       "19. 0\n",
       "20. 0\n",
       "21. 0\n",
       "22. 0\n",
       "23. 1.24060136417064\n",
       "24. 1.6154648422804\n",
       "25. 0\n",
       "26. 0\n",
       "27. 0\n",
       "28. 0\n",
       "29. 0\n",
       "30. 0\n",
       "31. 0\n",
       "32. 2.39424257982635\n",
       "33. 4.10043463279102\n",
       "34. 0.881608120600484\n",
       "35. 0\n",
       "36. 0\n",
       "37. 0\n",
       "38. 0\n",
       "39. 0\n",
       "40. 0.610281834541035\n",
       "41. 0\n",
       "42. 0\n",
       "43. 0\n",
       "44. 0\n",
       "45. 0\n",
       "46. 0\n",
       "47. 0\n",
       "48. 0\n",
       "49. 0\n",
       "50. 0\n",
       "\n",
       "\n"
      ],
      "text/plain": [
       "    OTU17:114Leaf OTU256:161wood OTU189:90Leaf OTU734:75Leaf OTU2498:87Leaf\n",
       "100 4.515438      0              0.000000      0.0000000     0             \n",
       "78  0.000000      0              0.000000      2.3942426     0             \n",
       "97  4.966791      0              1.240601      4.1004346     0             \n",
       "90  0.000000      0              1.615465      0.8816081     0             \n",
       "27  1.844523      0              0.000000      0.0000000     0             \n",
       "21  0.000000      0              0.000000      0.0000000     0             \n",
       "88  0.000000      0              0.000000      0.0000000     0             \n",
       "104 8.946683      0              0.000000      0.0000000     0             \n",
       "81  0.000000      0              0.000000      0.0000000     0             \n",
       "112 0.000000      0              0.000000      0.6102818     0             "
      ]
     },
     "metadata": {},
     "output_type": "display_data"
    }
   ],
   "source": [
    "leaf95 <- subset_samples(deseq95, Library=='L')  ## leaves only\n",
    "Xleaf95 <- subset_taxa(leaf95, Family=='Xylariaceae')\n",
    "Xleafmat <- t(otu_table(Xleaf95)@.Data) ## leaf species matrix\n",
    "Xleafmat <- Xleafmat[,colSums(Xleafmat) > 0] ## get rid of empty columns\n",
    "Xleafnames <- sample_data(Xleaf95)@.Data[[1]] ## get sample numbers\n",
    "## get rid of \"_\" character in two of our sample names:\n",
    "Xleafnames[10] <- \"112\"\n",
    "Xleafnames[92] <- \"126\"\n",
    "rownames(Xleafmat) <- leafnames\n",
    "Xleafmat[1:10,1:5]"
   ]
  },
  {
   "cell_type": "markdown",
   "metadata": {},
   "source": [
    "In all the processing, the sample order was totally lost in the leaf reads. Fix this:"
   ]
  },
  {
   "cell_type": "code",
   "execution_count": 142,
   "metadata": {
    "collapsed": false
   },
   "outputs": [
    {
     "data": {
      "text/html": [
       "<table>\n",
       "<thead><tr><th></th><th scope=col>OTU17:114Leaf</th><th scope=col>OTU256:161wood</th><th scope=col>OTU189:90Leaf</th></tr></thead>\n",
       "<tbody>\n",
       "\t<tr><th scope=row>1</th><td>0.0000000</td><td>0        </td><td>0        </td></tr>\n",
       "\t<tr><th scope=row>2</th><td>0.0000000</td><td>0        </td><td>0        </td></tr>\n",
       "\t<tr><th scope=row>3</th><td>0.0000000</td><td>0        </td><td>0        </td></tr>\n",
       "\t<tr><th scope=row>4</th><td>0.0000000</td><td>0        </td><td>0        </td></tr>\n",
       "\t<tr><th scope=row>5</th><td>0.0000000</td><td>0        </td><td>0        </td></tr>\n",
       "\t<tr><th scope=row>6</th><td>0.0000000</td><td>0        </td><td>0        </td></tr>\n",
       "\t<tr><th scope=row>7</th><td>0.0000000</td><td>0        </td><td>0        </td></tr>\n",
       "\t<tr><th scope=row>8</th><td>0.0000000</td><td>0        </td><td>0        </td></tr>\n",
       "\t<tr><th scope=row>9</th><td>0.0000000</td><td>0        </td><td>0        </td></tr>\n",
       "\t<tr><th scope=row>12</th><td>0.7666616</td><td>0        </td><td>0        </td></tr>\n",
       "</tbody>\n",
       "</table>\n"
      ],
      "text/latex": [
       "\\begin{tabular}{r|lll}\n",
       "  & OTU17:114Leaf & OTU256:161wood & OTU189:90Leaf\\\\\n",
       "\\hline\n",
       "\t1 & 0.0000000 & 0         & 0        \\\\\n",
       "\t2 & 0.0000000 & 0         & 0        \\\\\n",
       "\t3 & 0.0000000 & 0         & 0        \\\\\n",
       "\t4 & 0.0000000 & 0         & 0        \\\\\n",
       "\t5 & 0.0000000 & 0         & 0        \\\\\n",
       "\t6 & 0.0000000 & 0         & 0        \\\\\n",
       "\t7 & 0.0000000 & 0         & 0        \\\\\n",
       "\t8 & 0.0000000 & 0         & 0        \\\\\n",
       "\t9 & 0.0000000 & 0         & 0        \\\\\n",
       "\t12 & 0.7666616 & 0         & 0        \\\\\n",
       "\\end{tabular}\n"
      ],
      "text/markdown": [
       "1. 0\n",
       "2. 0\n",
       "3. 0\n",
       "4. 0\n",
       "5. 0\n",
       "6. 0\n",
       "7. 0\n",
       "8. 0\n",
       "9. 0\n",
       "10. 0.766661648633512\n",
       "11. 0\n",
       "12. 0\n",
       "13. 0\n",
       "14. 0\n",
       "15. 0\n",
       "16. 0\n",
       "17. 0\n",
       "18. 0\n",
       "19. 0\n",
       "20. 0\n",
       "21. 0\n",
       "22. 0\n",
       "23. 0\n",
       "24. 0\n",
       "25. 0\n",
       "26. 0\n",
       "27. 0\n",
       "28. 0\n",
       "29. 0\n",
       "30. 0\n",
       "\n",
       "\n"
      ],
      "text/plain": [
       "   OTU17:114Leaf OTU256:161wood OTU189:90Leaf\n",
       "1  0.0000000     0              0            \n",
       "2  0.0000000     0              0            \n",
       "3  0.0000000     0              0            \n",
       "4  0.0000000     0              0            \n",
       "5  0.0000000     0              0            \n",
       "6  0.0000000     0              0            \n",
       "7  0.0000000     0              0            \n",
       "8  0.0000000     0              0            \n",
       "9  0.0000000     0              0            \n",
       "12 0.7666616     0              0            "
      ]
     },
     "metadata": {},
     "output_type": "display_data"
    }
   ],
   "source": [
    "bb <- sort(as.numeric(rownames(Xleafmat))) ## create a vector of sorted row names\n",
    "cc <- as.character(bb) ##turn them back into characters\n",
    "Xleafmat <- Xleafmat[cc,] ## use them to sort our matrix\n",
    "Xleafmat[1:10,1:3] ## take a look"
   ]
  },
  {
   "cell_type": "markdown",
   "metadata": {},
   "source": [
    "**Stromata matrix**"
   ]
  },
  {
   "cell_type": "markdown",
   "metadata": {},
   "source": [
    "The stromata data are in a csv, compiled by Roo:"
   ]
  },
  {
   "cell_type": "code",
   "execution_count": 143,
   "metadata": {
    "collapsed": true
   },
   "outputs": [],
   "source": [
    "stromata <- as.matrix(read.csv(file='stromata.csv'))\n",
    "## our rownames were imported as the first column of the matrix, fix this:\n",
    "rownames(stromata) <- stromata[,1] \n",
    "stromata <- stromata[,-1] ## drop this original first row of names"
   ]
  },
  {
   "cell_type": "code",
   "execution_count": 144,
   "metadata": {
    "collapsed": false,
    "scrolled": true
   },
   "outputs": [
    {
     "data": {
      "text/html": [
       "<table>\n",
       "<thead><tr><th></th><th scope=col>A_aff_atroroseum</th><th scope=col>A_aff_stygium</th><th scope=col>A_atroroseum</th><th scope=col>A_bovei_var_microspora</th><th scope=col>A_moriforme</th></tr></thead>\n",
       "<tbody>\n",
       "\t<tr><th scope=row>1</th><td>0</td><td>0</td><td>0</td><td>0</td><td>0</td></tr>\n",
       "\t<tr><th scope=row>2</th><td>0</td><td>0</td><td>0</td><td>0</td><td>0</td></tr>\n",
       "\t<tr><th scope=row>3</th><td>0</td><td>0</td><td>0</td><td>0</td><td>0</td></tr>\n",
       "\t<tr><th scope=row>4</th><td>0</td><td>0</td><td>0</td><td>0</td><td>0</td></tr>\n",
       "\t<tr><th scope=row>5</th><td>0</td><td>0</td><td>0</td><td>0</td><td>0</td></tr>\n",
       "\t<tr><th scope=row>6</th><td>0</td><td>0</td><td>0</td><td>0</td><td>0</td></tr>\n",
       "\t<tr><th scope=row>7</th><td>0</td><td>0</td><td>0</td><td>0</td><td>0</td></tr>\n",
       "\t<tr><th scope=row>8</th><td>0</td><td>0</td><td>0</td><td>0</td><td>0</td></tr>\n",
       "\t<tr><th scope=row>9</th><td>0</td><td>0</td><td>0</td><td>0</td><td>0</td></tr>\n",
       "\t<tr><th scope=row>10</th><td>0</td><td>0</td><td>0</td><td>0</td><td>0</td></tr>\n",
       "</tbody>\n",
       "</table>\n"
      ],
      "text/latex": [
       "\\begin{tabular}{r|lllll}\n",
       "  & A\\_aff\\_atroroseum & A\\_aff\\_stygium & A\\_atroroseum & A\\_bovei\\_var\\_microspora & A\\_moriforme\\\\\n",
       "\\hline\n",
       "\t1 & 0 & 0 & 0 & 0 & 0\\\\\n",
       "\t2 & 0 & 0 & 0 & 0 & 0\\\\\n",
       "\t3 & 0 & 0 & 0 & 0 & 0\\\\\n",
       "\t4 & 0 & 0 & 0 & 0 & 0\\\\\n",
       "\t5 & 0 & 0 & 0 & 0 & 0\\\\\n",
       "\t6 & 0 & 0 & 0 & 0 & 0\\\\\n",
       "\t7 & 0 & 0 & 0 & 0 & 0\\\\\n",
       "\t8 & 0 & 0 & 0 & 0 & 0\\\\\n",
       "\t9 & 0 & 0 & 0 & 0 & 0\\\\\n",
       "\t10 & 0 & 0 & 0 & 0 & 0\\\\\n",
       "\\end{tabular}\n"
      ],
      "text/markdown": [
       "1. 0\n",
       "2. 0\n",
       "3. 0\n",
       "4. 0\n",
       "5. 0\n",
       "6. 0\n",
       "7. 0\n",
       "8. 0\n",
       "9. 0\n",
       "10. 0\n",
       "11. 0\n",
       "12. 0\n",
       "13. 0\n",
       "14. 0\n",
       "15. 0\n",
       "16. 0\n",
       "17. 0\n",
       "18. 0\n",
       "19. 0\n",
       "20. 0\n",
       "21. 0\n",
       "22. 0\n",
       "23. 0\n",
       "24. 0\n",
       "25. 0\n",
       "26. 0\n",
       "27. 0\n",
       "28. 0\n",
       "29. 0\n",
       "30. 0\n",
       "31. 0\n",
       "32. 0\n",
       "33. 0\n",
       "34. 0\n",
       "35. 0\n",
       "36. 0\n",
       "37. 0\n",
       "38. 0\n",
       "39. 0\n",
       "40. 0\n",
       "41. 0\n",
       "42. 0\n",
       "43. 0\n",
       "44. 0\n",
       "45. 0\n",
       "46. 0\n",
       "47. 0\n",
       "48. 0\n",
       "49. 0\n",
       "50. 0\n",
       "\n",
       "\n"
      ],
      "text/plain": [
       "   A_aff_atroroseum A_aff_stygium A_atroroseum A_bovei_var_microspora\n",
       "1  0                0             0            0                     \n",
       "2  0                0             0            0                     \n",
       "3  0                0             0            0                     \n",
       "4  0                0             0            0                     \n",
       "5  0                0             0            0                     \n",
       "6  0                0             0            0                     \n",
       "7  0                0             0            0                     \n",
       "8  0                0             0            0                     \n",
       "9  0                0             0            0                     \n",
       "10 0                0             0            0                     \n",
       "   A_moriforme\n",
       "1  0          \n",
       "2  0          \n",
       "3  0          \n",
       "4  0          \n",
       "5  0          \n",
       "6  0          \n",
       "7  0          \n",
       "8  0          \n",
       "9  0          \n",
       "10 0          "
      ]
     },
     "metadata": {},
     "output_type": "display_data"
    }
   ],
   "source": [
    "stromata[1:10,1:5]"
   ]
  },
  {
   "cell_type": "markdown",
   "metadata": {},
   "source": [
    "Notice, no gaps in the sample numbers in this matrix. We completed sampling for stromata at all plots, so this matrix has the most samples."
   ]
  },
  {
   "cell_type": "code",
   "execution_count": 145,
   "metadata": {
    "collapsed": false,
    "scrolled": true
   },
   "outputs": [
    {
     "data": {
      "text/html": [
       "<ol class=list-inline>\n",
       "\t<li>133</li>\n",
       "\t<li>52</li>\n",
       "</ol>\n"
      ],
      "text/latex": [
       "\\begin{enumerate*}\n",
       "\\item 133\n",
       "\\item 52\n",
       "\\end{enumerate*}\n"
      ],
      "text/markdown": [
       "1. 133\n",
       "2. 52\n",
       "\n",
       "\n"
      ],
      "text/plain": [
       "[1] 133  52"
      ]
     },
     "metadata": {},
     "output_type": "display_data"
    }
   ],
   "source": [
    "dim(stromata)"
   ]
  },
  {
   "cell_type": "markdown",
   "metadata": {},
   "source": [
    "**Pruning matrices** "
   ]
  },
  {
   "cell_type": "markdown",
   "metadata": {},
   "source": [
    "We can only make statements about samples where all three matrices have data. Right now, each of our matrices has a slightly different set of samples included within it, resulting in different numbers of rows:"
   ]
  },
  {
   "cell_type": "code",
   "execution_count": 146,
   "metadata": {
    "collapsed": false
   },
   "outputs": [
    {
     "data": {
      "text/html": [
       "<ol class=list-inline>\n",
       "\t<li>91</li>\n",
       "\t<li>94</li>\n",
       "</ol>\n"
      ],
      "text/latex": [
       "\\begin{enumerate*}\n",
       "\\item 91\n",
       "\\item 94\n",
       "\\end{enumerate*}\n"
      ],
      "text/markdown": [
       "1. 91\n",
       "2. 94\n",
       "\n",
       "\n"
      ],
      "text/plain": [
       "[1] 91 94"
      ]
     },
     "metadata": {},
     "output_type": "display_data"
    },
    {
     "data": {
      "text/html": [
       "<ol class=list-inline>\n",
       "\t<li>122</li>\n",
       "\t<li>182</li>\n",
       "</ol>\n"
      ],
      "text/latex": [
       "\\begin{enumerate*}\n",
       "\\item 122\n",
       "\\item 182\n",
       "\\end{enumerate*}\n"
      ],
      "text/markdown": [
       "1. 122\n",
       "2. 182\n",
       "\n",
       "\n"
      ],
      "text/plain": [
       "[1] 122 182"
      ]
     },
     "metadata": {},
     "output_type": "display_data"
    },
    {
     "data": {
      "text/html": [
       "<ol class=list-inline>\n",
       "\t<li>133</li>\n",
       "\t<li>52</li>\n",
       "</ol>\n"
      ],
      "text/latex": [
       "\\begin{enumerate*}\n",
       "\\item 133\n",
       "\\item 52\n",
       "\\end{enumerate*}\n"
      ],
      "text/markdown": [
       "1. 133\n",
       "2. 52\n",
       "\n",
       "\n"
      ],
      "text/plain": [
       "[1] 133  52"
      ]
     },
     "metadata": {},
     "output_type": "display_data"
    }
   ],
   "source": [
    "dim(Xwoodmat)\n",
    "dim(Xleafmat)\n",
    "dim(stromata)"
   ]
  },
  {
   "cell_type": "markdown",
   "metadata": {},
   "source": [
    "So we need to prune all matrices down to only the rows (samples) that all three matrices contain. First, we prune our wood and leaf matrices to each other:"
   ]
  },
  {
   "cell_type": "code",
   "execution_count": 155,
   "metadata": {
    "collapsed": true
   },
   "outputs": [],
   "source": [
    "Xwoodmat <- Xwoodmat[rownames(Xwoodmat) %in% rownames(Xleafmat), ]\n",
    "Xleafmat <- Xleafmat[rownames(Xleafmat) %in% rownames(Xwoodmat), ]"
   ]
  },
  {
   "cell_type": "markdown",
   "metadata": {},
   "source": [
    "Our stromata matrix also needs to be pruned to match our wood/leaves:"
   ]
  },
  {
   "cell_type": "code",
   "execution_count": 156,
   "metadata": {
    "collapsed": true
   },
   "outputs": [],
   "source": [
    "stromata <- stromata[rownames(stromata) %in% rownames(Xleafmat), ]"
   ]
  },
  {
   "cell_type": "markdown",
   "metadata": {},
   "source": [
    "Do they all have the same number of rows? Are these row numbers identical?"
   ]
  },
  {
   "cell_type": "code",
   "execution_count": 157,
   "metadata": {
    "collapsed": false
   },
   "outputs": [
    {
     "data": {
      "text/html": [
       "<ol class=list-inline>\n",
       "\t<li>83</li>\n",
       "\t<li>94</li>\n",
       "</ol>\n"
      ],
      "text/latex": [
       "\\begin{enumerate*}\n",
       "\\item 83\n",
       "\\item 94\n",
       "\\end{enumerate*}\n"
      ],
      "text/markdown": [
       "1. 83\n",
       "2. 94\n",
       "\n",
       "\n"
      ],
      "text/plain": [
       "[1] 83 94"
      ]
     },
     "metadata": {},
     "output_type": "display_data"
    },
    {
     "data": {
      "text/html": [
       "<ol class=list-inline>\n",
       "\t<li>83</li>\n",
       "\t<li>182</li>\n",
       "</ol>\n"
      ],
      "text/latex": [
       "\\begin{enumerate*}\n",
       "\\item 83\n",
       "\\item 182\n",
       "\\end{enumerate*}\n"
      ],
      "text/markdown": [
       "1. 83\n",
       "2. 182\n",
       "\n",
       "\n"
      ],
      "text/plain": [
       "[1]  83 182"
      ]
     },
     "metadata": {},
     "output_type": "display_data"
    },
    {
     "data": {
      "text/html": [
       "<ol class=list-inline>\n",
       "\t<li>83</li>\n",
       "\t<li>52</li>\n",
       "</ol>\n"
      ],
      "text/latex": [
       "\\begin{enumerate*}\n",
       "\\item 83\n",
       "\\item 52\n",
       "\\end{enumerate*}\n"
      ],
      "text/markdown": [
       "1. 83\n",
       "2. 52\n",
       "\n",
       "\n"
      ],
      "text/plain": [
       "[1] 83 52"
      ]
     },
     "metadata": {},
     "output_type": "display_data"
    }
   ],
   "source": [
    "dim(Xwoodmat)\n",
    "dim(Xleafmat)\n",
    "dim(stromata)"
   ]
  },
  {
   "cell_type": "code",
   "execution_count": 158,
   "metadata": {
    "collapsed": false,
    "scrolled": false
   },
   "outputs": [
    {
     "data": {
      "text/html": [
       "<ol class=list-inline>\n",
       "\t<li>83</li>\n",
       "\t<li>7029</li>\n",
       "</ol>\n"
      ],
      "text/latex": [
       "\\begin{enumerate*}\n",
       "\\item 83\n",
       "\\item 7029\n",
       "\\end{enumerate*}\n"
      ],
      "text/markdown": [
       "1. 83\n",
       "2. 7029\n",
       "\n",
       "\n"
      ],
      "text/plain": [
       "[1]   83 7029"
      ]
     },
     "metadata": {},
     "output_type": "display_data"
    },
    {
     "data": {
      "text/html": [
       "<ol class=list-inline>\n",
       "\t<li>83</li>\n",
       "\t<li>7029</li>\n",
       "</ol>\n"
      ],
      "text/latex": [
       "\\begin{enumerate*}\n",
       "\\item 83\n",
       "\\item 7029\n",
       "\\end{enumerate*}\n"
      ],
      "text/markdown": [
       "1. 83\n",
       "2. 7029\n",
       "\n",
       "\n"
      ],
      "text/plain": [
       "[1]   83 7029"
      ]
     },
     "metadata": {},
     "output_type": "display_data"
    },
    {
     "data": {
      "text/html": [
       "<ol class=list-inline>\n",
       "\t<li>83</li>\n",
       "\t<li>52</li>\n",
       "</ol>\n"
      ],
      "text/latex": [
       "\\begin{enumerate*}\n",
       "\\item 83\n",
       "\\item 52\n",
       "\\end{enumerate*}\n"
      ],
      "text/markdown": [
       "1. 83\n",
       "2. 52\n",
       "\n",
       "\n"
      ],
      "text/plain": [
       "[1] 83 52"
      ]
     },
     "metadata": {},
     "output_type": "display_data"
    }
   ],
   "source": [
    "dim(woodmat); dim(leafmat); dim(stromata) "
   ]
  },
  {
   "cell_type": "code",
   "execution_count": 159,
   "metadata": {
    "collapsed": false
   },
   "outputs": [
    {
     "data": {
      "text/html": [
       "FALSE"
      ],
      "text/latex": [
       "FALSE"
      ],
      "text/markdown": [
       "FALSE"
      ],
      "text/plain": [
       "[1] FALSE"
      ]
     },
     "metadata": {},
     "output_type": "display_data"
    },
    {
     "data": {
      "text/html": [
       "FALSE"
      ],
      "text/latex": [
       "FALSE"
      ],
      "text/markdown": [
       "FALSE"
      ],
      "text/plain": [
       "[1] FALSE"
      ]
     },
     "metadata": {},
     "output_type": "display_data"
    }
   ],
   "source": [
    "any(rownames(woodmat) != rownames(leafmat)); any(rownames(woodmat) != rownames(stromata))"
   ]
  },
  {
   "cell_type": "markdown",
   "metadata": {},
   "source": [
    "**Convert to Presence/Absence data**"
   ]
  },
  {
   "cell_type": "markdown",
   "metadata": {},
   "source": [
    "Doing to this because I do not trust our read abundances or stromata counts to be ecologically meaningful. See notes [here](#mockcom)."
   ]
  },
  {
   "cell_type": "code",
   "execution_count": 9,
   "metadata": {
    "collapsed": true
   },
   "outputs": [],
   "source": [
    "Xwoodmat[Xwoodmat > 0] <- 1\n",
    "Xleafmat[Xleafmat > 0] <- 1\n",
    "stromata[stromata > 0] <- 1"
   ]
  },
  {
   "cell_type": "markdown",
   "metadata": {},
   "source": [
    "Redundancy analysis is a type of PCA of our response (stromata) matrix coupled with a multiple regression of our explanatory matrix, in this case either our wood or leaf endophyte matrices. (RDA is obviously a lot more complicated than this, involving construction of new axes informed by both explanatory and response variable, see [here](#https://sites.google.com/site/mb3gustame/constrained-analyses/rda)). Since this can be considered a type of multiple regression and PCA analysis, we run into some obstacles. PCA analysis relies on Euclidean distances for its construction of new axes, and multiple regression works best when the explanatory variables can be modeled linearly, or at least ordered in rank abundance. But it's pretty well known that species distributions aren't modeled well as linear gradients. Along a single environmental gradient they may follow unimodal, gaussian distibutions, but in really sparse matrices like we have, with incomplete sampling of thousands of interacting species instead of one, and in the finite space of a single study with environmental variables varying at different spatial scales, this type of normality can be pretty hard to pick up. Also the numerous zeroes in these matrices make very different sampling sites look very similar in normal euclidean space, [the double zero problem](#https://sites.google.com/site/mb3gustame/reference/dissimilarity).\n",
    "\n",
    "So we'll standardize and flatten out differences in abundances in our species matrices using a [Hellinger transformation](#http://www.jstor.org/stable/4223083). In doing so we hope to reduce the homogenizing effect of having lots of zeroes in all sites and retain monotonic properties, if not linearity, to our abundance data (which we've already reduced to presence-absence). The RDA can then proceed with these transformed values to create new axes that are shared by both our explanatory and response matrices, using euclidean distances. At least, that's the theory..."
   ]
  },
  {
   "cell_type": "code",
   "execution_count": 10,
   "metadata": {
    "collapsed": false
   },
   "outputs": [],
   "source": [
    "stromata.hel <- decostand(stromata,'hellinger')\n",
    "Xwoodmat.hel <- decostand(Xwoodmat,'hellinger')\n",
    "Xleafmat.hel <- decostand(Xleafmat,'hellinger')"
   ]
  },
  {
   "cell_type": "markdown",
   "metadata": {},
   "source": [
    "<a id='rda'></a>"
   ]
  },
  {
   "cell_type": "markdown",
   "metadata": {},
   "source": [
    "# Redundancy Analysis"
   ]
  },
  {
   "cell_type": "markdown",
   "metadata": {},
   "source": [
    "**Stromata as a function of leaf endophyte community**"
   ]
  },
  {
   "cell_type": "code",
   "execution_count": 15,
   "metadata": {
    "collapsed": false
   },
   "outputs": [
    {
     "data": {
      "text/html": [
       "<table>\n",
       "<thead><tr><th></th><th scope=col>Df</th><th scope=col>Variance</th><th scope=col>F</th><th scope=col>Pr(&gt;F)</th></tr></thead>\n",
       "<tbody>\n",
       "\t<tr><th scope=row>Model</th><td>65        </td><td>0.27508273</td><td>1.024248  </td><td>0.496     </td></tr>\n",
       "\t<tr><th scope=row>Residual</th><td>17        </td><td>0.07024148</td><td>      NA  </td><td>   NA     </td></tr>\n",
       "</tbody>\n",
       "</table>\n"
      ],
      "text/latex": [
       "\\begin{tabular}{r|llll}\n",
       "  & Df & Variance & F & Pr(>F)\\\\\n",
       "\\hline\n",
       "\tModel & 65         & 0.27508273 & 1.024248   & 0.496     \\\\\n",
       "\tResidual & 17         & 0.07024148 &       NA   &    NA     \\\\\n",
       "\\end{tabular}\n"
      ],
      "text/plain": [
       "         Df Variance   F        Pr(>F)\n",
       "Model    65 0.27508273 1.024248 0.496 \n",
       "Residual 17 0.07024148       NA    NA "
      ]
     },
     "metadata": {},
     "output_type": "display_data"
    }
   ],
   "source": [
    "wood.rda <- rda(stromata.hel, Xwoodmat.hel) ## run the rda\n",
    "anova.cca(wood.rda) ## check for significance"
   ]
  },
  {
   "cell_type": "markdown",
   "metadata": {},
   "source": [
    "If I've used this command correctly, the leaf endophytes explain a lot of variance in the stromata matrix, but we have no confidence (p = 0.49!). I'm guessing this is due to low statistical power, especially in our small and sparse stromata matrix. But let's do a biplot and examine which species are suggested by the RDA to explain variance in the stromata:"
   ]
  },
  {
   "cell_type": "code",
   "execution_count": 17,
   "metadata": {
    "collapsed": false
   },
   "outputs": [
    {
     "data": {
      "image/png": "[encoded data removed]",
      "text/plain": [
       "plot without title"
      ]
     },
     "metadata": {},
     "output_type": "display_data"
    }
   ],
   "source": [
    "aa <- plot(wood.rda)"
   ]
  },
  {
   "cell_type": "markdown",
   "metadata": {},
   "source": [
    "In this plot, species from our wood matrix are arrows. RDA is a type of constrained analysis, so the wood endophyte species are being used in the construction of the two most important PCA's (RDA's) that are our two axes. The longer the arrow, the more important they are for these new RDA axes. Hence, the longer arrows indicate which leaf endophytes seem to be co-varying with our stromata community."
   ]
  },
  {
   "cell_type": "markdown",
   "metadata": {},
   "source": [
    "A brief inspection shows that these are member species of our stromata, but unfortunately I must now go back and fix our otu clustering process so that it is clear which of these are stromatal otus. "
   ]
  },
  {
   "cell_type": "markdown",
   "metadata": {},
   "source": [
    "Note to self, after fixing the otu names, redo this with a smaller explanatory matrix, subsetted to just the stromata species. And create a function for finding the species in the above diagram which are beyond a set distance from the origin (i.e. are important). "
   ]
  },
  {
   "cell_type": "code",
   "execution_count": null,
   "metadata": {
    "collapsed": true
   },
   "outputs": [],
   "source": []
  }
 ],
 "metadata": {
  "kernelspec": {
   "display_name": "R 3.3",
   "language": "R",
   "name": "ir33"
  },
  "language_info": {
   "codemirror_mode": "r",
   "file_extension": ".r",
   "mimetype": "text/x-r-source",
   "name": "R",
   "pygments_lexer": "r",
   "version": "3.3.1"
  }
 },
 "nbformat": 4,
 "nbformat_minor": 0
}
