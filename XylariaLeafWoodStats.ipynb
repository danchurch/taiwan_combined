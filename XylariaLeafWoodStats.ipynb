{
 "cells": [
  {
   "cell_type": "markdown",
   "metadata": {},
   "source": [
    "# Combined leaf and wood Xylariaceae analysis"
   ]
  },
  {
   "cell_type": "markdown",
   "metadata": {},
   "source": [
    "We will use our combined biom table of leaf and wood endophytes to ask some questions about the roles of both leaf- and sapwood-inhabiting endophytes on nearby stromata, focusing on the family Xylariaceae."
   ]
  },
  {
   "cell_type": "markdown",
   "metadata": {},
   "source": [
    "We begin by [stabilizing the variance](http://journals.plos.org/ploscompbiol/article?id=10.1371/journal.pcbi.1003531of) of our combined-leaf-and-wood-endophyte table, using the [DESeq2](https://bioconductor.org/packages/release/bioc/html/DESeq2.html) package in R. "
   ]
  },
  {
   "cell_type": "code",
   "execution_count": 6,
   "metadata": {
    "collapsed": false
   },
   "outputs": [],
   "source": [
    "library('phyloseq')\n",
    "library('DESeq2')"
   ]
  },
  {
   "cell_type": "code",
   "execution_count": 2,
   "metadata": {
    "collapsed": true
   },
   "outputs": [],
   "source": [
    "## import table:\n",
    "biom95 <- import_biom('combo_95_wMeta.biom')\n",
    "## fix taxonomy headers:\n",
    "colnames(tax_table(biom95)) <- c(\"Kingdom\", \"Phylum\", \"Class\", \"Order\", \"Family\", \"Genus\", \"Species\")"
   ]
  },
  {
   "cell_type": "markdown",
   "metadata": {},
   "source": [
    "Our biom table:"
   ]
  },
  {
   "cell_type": "code",
   "execution_count": 5,
   "metadata": {
    "collapsed": false,
    "scrolled": true
   },
   "outputs": [
    {
     "name": "stdout",
     "output_type": "stream",
     "text": [
      "phyloseq-class experiment-level object\n",
      "otu_table()   OTU Table:         [ 10269 taxa and 232 samples ]\n",
      "sample_data() Sample Data:       [ 232 samples by 2 sample variables ]\n",
      "tax_table()   Taxonomy Table:    [ 10269 taxa by 7 taxonomic ranks ]\n"
     ]
    }
   ],
   "source": [
    "print(biom95)"
   ]
  },
  {
   "cell_type": "code",
   "execution_count": 8,
   "metadata": {
    "collapsed": false
   },
   "outputs": [
    {
     "ename": "ERROR",
     "evalue": "Error in if (getOption(\"jupyter.rich_display\")) {: argument is of length zero\n",
     "output_type": "error",
     "traceback": [
      "Error in if (getOption(\"jupyter.rich_display\")) {: argument is of length zero\nTraceback:\n",
      "1. prepare_mimebundle(obj, .self$handle_display_error)"
     ]
    }
   ],
   "source": []
  },
  {
   "cell_type": "code",
   "execution_count": null,
   "metadata": {
    "collapsed": true
   },
   "outputs": [],
   "source": []
  }
 ],
 "metadata": {
  "kernelspec": {
   "display_name": "R 3.3",
   "language": "R",
   "name": "ir33"
  },
  "language_info": {
   "codemirror_mode": "r",
   "file_extension": ".r",
   "mimetype": "text/x-r-source",
   "name": "R",
   "pygments_lexer": "r",
   "version": "3.3.1"
  }
 },
 "nbformat": 4,
 "nbformat_minor": 0
}
