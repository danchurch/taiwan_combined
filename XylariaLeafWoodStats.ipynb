{
 "cells": [
  {
   "cell_type": "markdown",
   "metadata": {},
   "source": [
    "# Combined leaf and wood Xylariaceae analysis"
   ]
  },
  {
   "cell_type": "markdown",
   "metadata": {},
   "source": [
    "We will use our combined biom table of leaf and wood endophytes to ask some questions about the roles of both leaf- and sapwood-inhabiting endophytes on nearby stromata, focusing on the family Xylariaceae."
   ]
  },
  {
   "cell_type": "markdown",
   "metadata": {},
   "source": [
    "<a id='contents'></a>"
   ]
  },
  {
   "cell_type": "markdown",
   "metadata": {},
   "source": [
    "## Contents\n",
    "\n",
    "[Importing biom table and setup](#import)  \n",
    "[Negative control cleanup](#nc)  \n",
    "[Variance Stabilization of Read Counts](#deseq)  "
   ]
  },
  {
   "cell_type": "markdown",
   "metadata": {},
   "source": [
    "<a id='import'></a>"
   ]
  },
  {
   "cell_type": "markdown",
   "metadata": {},
   "source": [
    "## Importing biom table and setup"
   ]
  },
  {
   "cell_type": "markdown",
   "metadata": {},
   "source": [
    "Let's get the proper packages and import our biom table."
   ]
  },
  {
   "cell_type": "code",
   "execution_count": 14,
   "metadata": {
    "collapsed": false
   },
   "outputs": [],
   "source": [
    "library('phyloseq')\n",
    "library('DESeq2')\n",
    "library('repr')"
   ]
  },
  {
   "cell_type": "markdown",
   "metadata": {},
   "source": [
    "Import our biom table. We used the green genes style of formatting for our taxonomy metadata, I think..."
   ]
  },
  {
   "cell_type": "code",
   "execution_count": 5,
   "metadata": {
    "collapsed": true
   },
   "outputs": [],
   "source": [
    "biom95 <- import_biom('combo_95_wMeta.biom', parseFunction=parse_taxonomy_greengenes)"
   ]
  },
  {
   "cell_type": "markdown",
   "metadata": {},
   "source": [
    "Our biom table:"
   ]
  },
  {
   "cell_type": "code",
   "execution_count": 6,
   "metadata": {
    "collapsed": false,
    "scrolled": true
   },
   "outputs": [
    {
     "data": {
      "text/plain": [
       "phyloseq-class experiment-level object\n",
       "otu_table()   OTU Table:         [ 10269 taxa and 232 samples ]\n",
       "sample_data() Sample Data:       [ 232 samples by 3 sample variables ]\n",
       "tax_table()   Taxonomy Table:    [ 10269 taxa by 7 taxonomic ranks ]"
      ]
     },
     "metadata": {},
     "output_type": "display_data"
    }
   ],
   "source": [
    "biom95"
   ]
  },
  {
   "cell_type": "markdown",
   "metadata": {},
   "source": [
    "<a id='nc'></a>"
   ]
  },
  {
   "cell_type": "markdown",
   "metadata": {},
   "source": [
    "## Cleanup of biom tables using negative controls"
   ]
  },
  {
   "cell_type": "markdown",
   "metadata": {},
   "source": [
    "Okay, as per the recommendations of [Nguyen 2015](http://onlinelibrary.wiley.com/doi/10.1111/nph.12923/full), we'll remove sequences of OTUs found in our negative controls, up to the amount of reads found for these OTUs in our negative controls. \n",
    "\n",
    "What do we find in our negatives? Make a phyloseq object of just our wood negative:"
   ]
  },
  {
   "cell_type": "code",
   "execution_count": 19,
   "metadata": {
    "collapsed": true
   },
   "outputs": [],
   "source": [
    "neg95 <- subset_samples(biom95, SampleNumber=='Neg')"
   ]
  },
  {
   "cell_type": "code",
   "execution_count": 9,
   "metadata": {
    "collapsed": false,
    "scrolled": true
   },
   "outputs": [
    {
     "data": {
      "text/plain": [
       "phyloseq-class experiment-level object\n",
       "otu_table()   OTU Table:         [ 10269 taxa and 1 samples ]\n",
       "sample_data() Sample Data:       [ 1 samples by 3 sample variables ]\n",
       "tax_table()   Taxonomy Table:    [ 10269 taxa by 7 taxonomic ranks ]"
      ]
     },
     "metadata": {},
     "output_type": "display_data"
    }
   ],
   "source": [
    "neg95"
   ]
  },
  {
   "cell_type": "markdown",
   "metadata": {},
   "source": [
    "How many contaminants do we have? Total reads:"
   ]
  },
  {
   "cell_type": "code",
   "execution_count": 11,
   "metadata": {
    "collapsed": false
   },
   "outputs": [
    {
     "data": {
      "text/html": [
       "1757"
      ],
      "text/latex": [
       "1757"
      ],
      "text/markdown": [
       "1757"
      ],
      "text/plain": [
       "[1] 1757"
      ]
     },
     "metadata": {},
     "output_type": "display_data"
    }
   ],
   "source": [
    "sum(taxa_sums(neg95)[taxa_sums(neg95)>0])"
   ]
  },
  {
   "cell_type": "markdown",
   "metadata": {},
   "source": [
    "Which OTUs, and how many of each?"
   ]
  },
  {
   "cell_type": "code",
   "execution_count": 10,
   "metadata": {
    "collapsed": false,
    "scrolled": true
   },
   "outputs": [
    {
     "data": {
      "text/html": [
       "<dl class=dl-horizontal>\n",
       "\t<dt>OTU66:65Leaf</dt>\n",
       "\t\t<dd>543</dd>\n",
       "\t<dt>OTU39:65Leaf</dt>\n",
       "\t\t<dd>98</dd>\n",
       "\t<dt>OTU1732:163wood</dt>\n",
       "\t\t<dd>1</dd>\n",
       "\t<dt>OTU199:112.2Leaf</dt>\n",
       "\t\t<dd>40</dd>\n",
       "\t<dt>OTU623:114Leaf</dt>\n",
       "\t\t<dd>61</dd>\n",
       "\t<dt>OTU206:161wood</dt>\n",
       "\t\t<dd>1</dd>\n",
       "\t<dt>OTU695:164wood</dt>\n",
       "\t\t<dd>69</dd>\n",
       "\t<dt>OTU237:161wood</dt>\n",
       "\t\t<dd>109</dd>\n",
       "\t<dt>OTU77:12Leaf</dt>\n",
       "\t\t<dd>1</dd>\n",
       "\t<dt>OTU132:104Leaf</dt>\n",
       "\t\t<dd>56</dd>\n",
       "\t<dt>OTU89:161wood</dt>\n",
       "\t\t<dd>3</dd>\n",
       "\t<dt>OTU185:161wood</dt>\n",
       "\t\t<dd>2</dd>\n",
       "\t<dt>OTU161:161wood</dt>\n",
       "\t\t<dd>1</dd>\n",
       "\t<dt>OTU106:122Leaf</dt>\n",
       "\t\t<dd>2</dd>\n",
       "\t<dt>OTU181:70Leaf</dt>\n",
       "\t\t<dd>1</dd>\n",
       "\t<dt>OTU256:161wood</dt>\n",
       "\t\t<dd>108</dd>\n",
       "\t<dt>OTU198:161wood</dt>\n",
       "\t\t<dd>1</dd>\n",
       "\t<dt>OTU444:161wood</dt>\n",
       "\t\t<dd>51</dd>\n",
       "\t<dt>OTU782:192wood</dt>\n",
       "\t\t<dd>1</dd>\n",
       "\t<dt>OTU47:51Leaf</dt>\n",
       "\t\t<dd>1</dd>\n",
       "\t<dt>OTU291:167wood</dt>\n",
       "\t\t<dd>1</dd>\n",
       "\t<dt>OTU313:164wood</dt>\n",
       "\t\t<dd>20</dd>\n",
       "\t<dt>OTU343:164wood</dt>\n",
       "\t\t<dd>1</dd>\n",
       "\t<dt>OTU234:165wood</dt>\n",
       "\t\t<dd>1</dd>\n",
       "\t<dt>OTU16:14Leaf</dt>\n",
       "\t\t<dd>1</dd>\n",
       "\t<dt>OTU308:173wood</dt>\n",
       "\t\t<dd>1</dd>\n",
       "\t<dt>OTU204:35Leaf</dt>\n",
       "\t\t<dd>1</dd>\n",
       "\t<dt>OTU18:55Leaf</dt>\n",
       "\t\t<dd>1</dd>\n",
       "\t<dt>OTU19:100Leaf</dt>\n",
       "\t\t<dd>1</dd>\n",
       "\t<dt>OTU521:132Leaf</dt>\n",
       "\t\t<dd>1</dd>\n",
       "\t<dt>OTU1193:103Leaf</dt>\n",
       "\t\t<dd>36</dd>\n",
       "\t<dt>OTU1436:172wood</dt>\n",
       "\t\t<dd>64</dd>\n",
       "\t<dt>OTU240:167wood</dt>\n",
       "\t\t<dd>185</dd>\n",
       "\t<dt>OTU167:90Leaf</dt>\n",
       "\t\t<dd>1</dd>\n",
       "\t<dt>OTU1283:170wood</dt>\n",
       "\t\t<dd>4</dd>\n",
       "\t<dt>OTU2363:168wood</dt>\n",
       "\t\t<dd>4</dd>\n",
       "\t<dt>OTU747:254wood</dt>\n",
       "\t\t<dd>1</dd>\n",
       "\t<dt>OTU63:194wood</dt>\n",
       "\t\t<dd>13</dd>\n",
       "\t<dt>OTU2828:34Leaf</dt>\n",
       "\t\t<dd>1</dd>\n",
       "\t<dt>OTU1444:255wood</dt>\n",
       "\t\t<dd>50</dd>\n",
       "\t<dt>OTU1066:125Leaf</dt>\n",
       "\t\t<dd>1</dd>\n",
       "\t<dt>OTU806:121Leaf</dt>\n",
       "\t\t<dd>60</dd>\n",
       "\t<dt>OTU1103:172wood</dt>\n",
       "\t\t<dd>48</dd>\n",
       "\t<dt>OTU1768:252wood</dt>\n",
       "\t\t<dd>1</dd>\n",
       "\t<dt>OTU1337:240wood</dt>\n",
       "\t\t<dd>32</dd>\n",
       "\t<dt>OTU5161:51Leaf</dt>\n",
       "\t\t<dd>23</dd>\n",
       "\t<dt>OTU8871:173wood</dt>\n",
       "\t\t<dd>1</dd>\n",
       "\t<dt>OTU727:48Leaf</dt>\n",
       "\t\t<dd>1</dd>\n",
       "\t<dt>OTU471:190wood</dt>\n",
       "\t\t<dd>1</dd>\n",
       "\t<dt>OTU1554:183wood</dt>\n",
       "\t\t<dd>1</dd>\n",
       "\t<dt>OTU1189:199wood</dt>\n",
       "\t\t<dd>44</dd>\n",
       "\t<dt>OTU30:207wood</dt>\n",
       "\t\t<dd>3</dd>\n",
       "\t<dt>OTU766:252wood</dt>\n",
       "\t\t<dd>1</dd>\n",
       "\t<dt>OTU1781:253wood</dt>\n",
       "\t\t<dd>2</dd>\n",
       "</dl>\n"
      ],
      "text/latex": [
       "\\begin{description*}\n",
       "\\item[OTU66:65Leaf] 543\n",
       "\\item[OTU39:65Leaf] 98\n",
       "\\item[OTU1732:163wood] 1\n",
       "\\item[OTU199:112.2Leaf] 40\n",
       "\\item[OTU623:114Leaf] 61\n",
       "\\item[OTU206:161wood] 1\n",
       "\\item[OTU695:164wood] 69\n",
       "\\item[OTU237:161wood] 109\n",
       "\\item[OTU77:12Leaf] 1\n",
       "\\item[OTU132:104Leaf] 56\n",
       "\\item[OTU89:161wood] 3\n",
       "\\item[OTU185:161wood] 2\n",
       "\\item[OTU161:161wood] 1\n",
       "\\item[OTU106:122Leaf] 2\n",
       "\\item[OTU181:70Leaf] 1\n",
       "\\item[OTU256:161wood] 108\n",
       "\\item[OTU198:161wood] 1\n",
       "\\item[OTU444:161wood] 51\n",
       "\\item[OTU782:192wood] 1\n",
       "\\item[OTU47:51Leaf] 1\n",
       "\\item[OTU291:167wood] 1\n",
       "\\item[OTU313:164wood] 20\n",
       "\\item[OTU343:164wood] 1\n",
       "\\item[OTU234:165wood] 1\n",
       "\\item[OTU16:14Leaf] 1\n",
       "\\item[OTU308:173wood] 1\n",
       "\\item[OTU204:35Leaf] 1\n",
       "\\item[OTU18:55Leaf] 1\n",
       "\\item[OTU19:100Leaf] 1\n",
       "\\item[OTU521:132Leaf] 1\n",
       "\\item[OTU1193:103Leaf] 36\n",
       "\\item[OTU1436:172wood] 64\n",
       "\\item[OTU240:167wood] 185\n",
       "\\item[OTU167:90Leaf] 1\n",
       "\\item[OTU1283:170wood] 4\n",
       "\\item[OTU2363:168wood] 4\n",
       "\\item[OTU747:254wood] 1\n",
       "\\item[OTU63:194wood] 13\n",
       "\\item[OTU2828:34Leaf] 1\n",
       "\\item[OTU1444:255wood] 50\n",
       "\\item[OTU1066:125Leaf] 1\n",
       "\\item[OTU806:121Leaf] 60\n",
       "\\item[OTU1103:172wood] 48\n",
       "\\item[OTU1768:252wood] 1\n",
       "\\item[OTU1337:240wood] 32\n",
       "\\item[OTU5161:51Leaf] 23\n",
       "\\item[OTU8871:173wood] 1\n",
       "\\item[OTU727:48Leaf] 1\n",
       "\\item[OTU471:190wood] 1\n",
       "\\item[OTU1554:183wood] 1\n",
       "\\item[OTU1189:199wood] 44\n",
       "\\item[OTU30:207wood] 3\n",
       "\\item[OTU766:252wood] 1\n",
       "\\item[OTU1781:253wood] 2\n",
       "\\end{description*}\n"
      ],
      "text/markdown": [
       "OTU66:65Leaf\n",
       ":   543OTU39:65Leaf\n",
       ":   98OTU1732:163wood\n",
       ":   1OTU199:112.2Leaf\n",
       ":   40OTU623:114Leaf\n",
       ":   61OTU206:161wood\n",
       ":   1OTU695:164wood\n",
       ":   69OTU237:161wood\n",
       ":   109OTU77:12Leaf\n",
       ":   1OTU132:104Leaf\n",
       ":   56OTU89:161wood\n",
       ":   3OTU185:161wood\n",
       ":   2OTU161:161wood\n",
       ":   1OTU106:122Leaf\n",
       ":   2OTU181:70Leaf\n",
       ":   1OTU256:161wood\n",
       ":   108OTU198:161wood\n",
       ":   1OTU444:161wood\n",
       ":   51OTU782:192wood\n",
       ":   1OTU47:51Leaf\n",
       ":   1OTU291:167wood\n",
       ":   1OTU313:164wood\n",
       ":   20OTU343:164wood\n",
       ":   1OTU234:165wood\n",
       ":   1OTU16:14Leaf\n",
       ":   1OTU308:173wood\n",
       ":   1OTU204:35Leaf\n",
       ":   1OTU18:55Leaf\n",
       ":   1OTU19:100Leaf\n",
       ":   1OTU521:132Leaf\n",
       ":   1OTU1193:103Leaf\n",
       ":   36OTU1436:172wood\n",
       ":   64OTU240:167wood\n",
       ":   185OTU167:90Leaf\n",
       ":   1OTU1283:170wood\n",
       ":   4OTU2363:168wood\n",
       ":   4OTU747:254wood\n",
       ":   1OTU63:194wood\n",
       ":   13OTU2828:34Leaf\n",
       ":   1OTU1444:255wood\n",
       ":   50OTU1066:125Leaf\n",
       ":   1OTU806:121Leaf\n",
       ":   60OTU1103:172wood\n",
       ":   48OTU1768:252wood\n",
       ":   1OTU1337:240wood\n",
       ":   32OTU5161:51Leaf\n",
       ":   23OTU8871:173wood\n",
       ":   1OTU727:48Leaf\n",
       ":   1OTU471:190wood\n",
       ":   1OTU1554:183wood\n",
       ":   1OTU1189:199wood\n",
       ":   44OTU30:207wood\n",
       ":   3OTU766:252wood\n",
       ":   1OTU1781:253wood\n",
       ":   2\n",
       "\n"
      ],
      "text/plain": [
       "    OTU66:65Leaf     OTU39:65Leaf  OTU1732:163wood OTU199:112.2Leaf \n",
       "             543               98                1               40 \n",
       "  OTU623:114Leaf   OTU206:161wood   OTU695:164wood   OTU237:161wood \n",
       "              61                1               69              109 \n",
       "    OTU77:12Leaf   OTU132:104Leaf    OTU89:161wood   OTU185:161wood \n",
       "               1               56                3                2 \n",
       "  OTU161:161wood   OTU106:122Leaf    OTU181:70Leaf   OTU256:161wood \n",
       "               1                2                1              108 \n",
       "  OTU198:161wood   OTU444:161wood   OTU782:192wood     OTU47:51Leaf \n",
       "               1               51                1                1 \n",
       "  OTU291:167wood   OTU313:164wood   OTU343:164wood   OTU234:165wood \n",
       "               1               20                1                1 \n",
       "    OTU16:14Leaf   OTU308:173wood    OTU204:35Leaf     OTU18:55Leaf \n",
       "               1                1                1                1 \n",
       "   OTU19:100Leaf   OTU521:132Leaf  OTU1193:103Leaf  OTU1436:172wood \n",
       "               1                1               36               64 \n",
       "  OTU240:167wood    OTU167:90Leaf  OTU1283:170wood  OTU2363:168wood \n",
       "             185                1                4                4 \n",
       "  OTU747:254wood    OTU63:194wood   OTU2828:34Leaf  OTU1444:255wood \n",
       "               1               13                1               50 \n",
       " OTU1066:125Leaf   OTU806:121Leaf  OTU1103:172wood  OTU1768:252wood \n",
       "               1               60               48                1 \n",
       " OTU1337:240wood   OTU5161:51Leaf  OTU8871:173wood    OTU727:48Leaf \n",
       "              32               23                1                1 \n",
       "  OTU471:190wood  OTU1554:183wood  OTU1189:199wood    OTU30:207wood \n",
       "               1                1               44                3 \n",
       "  OTU766:252wood  OTU1781:253wood \n",
       "               1                2 "
      ]
     },
     "metadata": {},
     "output_type": "display_data"
    }
   ],
   "source": [
    "taxa_sums(neg95)[taxa_sums(neg95)>0]"
   ]
  },
  {
   "cell_type": "markdown",
   "metadata": {},
   "source": [
    "A quick visual summary of the top 15 contaminants:"
   ]
  },
  {
   "cell_type": "code",
   "execution_count": 12,
   "metadata": {
    "collapsed": true
   },
   "outputs": [],
   "source": [
    "aa <- taxa_sums(neg95)[taxa_sums(neg95)>0]\n",
    "aa <- sort(aa, decreasing = TRUE)[1:15]\n",
    "neg95_top15 <- prune_taxa(names(aa), neg95)"
   ]
  },
  {
   "cell_type": "code",
   "execution_count": 17,
   "metadata": {
    "collapsed": false,
    "scrolled": false
   },
   "outputs": [
    {
     "data": {},
     "metadata": {},
     "output_type": "display_data"
    },
    {
     "data": {
      "image/png": "[encoded data removed]",
      "text/plain": [
       "plot without title"
      ]
     },
     "metadata": {},
     "output_type": "display_data"
    }
   ],
   "source": [
    "options(repr.plot.width = 4, repr.plot.height = 2) ## using repr to control size of R plotter outputs\n",
    "plot_bar(neg95_top15, \"Genus\")"
   ]
  },
  {
   "cell_type": "markdown",
   "metadata": {},
   "source": [
    "This stacks OTUs in the same taxonomic category into a single column. Hence, two OTUs assigned to *Mycosphaerella* are stacked, and 6 unidentified OTUs are stacked into the final bin. "
   ]
  },
  {
   "cell_type": "markdown",
   "metadata": {},
   "source": [
    "So, we can subtract the sequence quantities found in our negative control from all other samples by digging into the architecture of our phyloseq objects. If we look at our biom95 object, we can see that our read counts are stored in a matrix-like object in the otu_table slot:"
   ]
  },
  {
   "cell_type": "code",
   "execution_count": 27,
   "metadata": {
    "collapsed": false
   },
   "outputs": [
    {
     "name": "stdout",
     "output_type": "stream",
     "text": [
      "Formal class 'phyloseq' [package \"phyloseq\"] with 5 slots\n",
      "  ..@ otu_table:Formal class 'otu_table' [package \"phyloseq\"] with 2 slots\n",
      "  .. .. ..@ .Data        : num [1:10269, 1:232] 70749 4 2 316 8 ...\n",
      "  .. .. .. ..- attr(*, \"dimnames\")=List of 2\n",
      "  .. .. .. .. ..$ : chr [1:10269] \"OTU17:114Leaf\" \"OTU7811:160wood\" \"OTU2412:53Leaf\" \"OTU494:114Leaf\" ...\n",
      "  .. .. .. .. ..$ : chr [1:232] \"160wood\" \"161wood\" \"162wood\" \"163wood\" ...\n",
      "  .. .. ..@ taxa_are_rows: logi TRUE\n",
      "  ..@ tax_table:Formal class 'taxonomyTable' [package \"phyloseq\"] with 1 slot\n",
      "  .. .. ..@ .Data: chr [1:10269, 1:7] \"Fungi\" \"Fungi\" \"Fungi\" \"Fungi\" ...\n",
      "  .. .. .. ..- attr(*, \"dimnames\")=List of 2\n",
      "  .. .. .. .. ..$ : chr [1:10269] \"OTU17:114Leaf\" \"OTU7811:160wood\" \"OTU2412:53Leaf\" \"OTU494:114Leaf\" ...\n",
      "  .. .. .. .. ..$ : chr [1:7] \"Kingdom\" \"Phylum\" \"Class\" \"Order\" ...\n",
      "  ..@ sam_data :'data.frame':\t232 obs. of  3 variables:\n",
      "Formal class 'sample_data' [package \"phyloseq\"] with 4 slots\n",
      "  .. .. ..@ .Data    :List of 3\n",
      "  .. .. .. ..$ : chr [1:232] \"Dc-X\" \"Dc-PosG\" \"Dc-PosI\" \"Dc-Neg\" ...\n",
      "  .. .. .. ..$ : chr [1:232] \"Control\" \"Control\" \"Control\" \"Control\" ...\n",
      "  .. .. .. ..$ : chr [1:232] \"W\" \"W\" \"W\" \"W\" ...\n",
      "  .. .. ..@ names    : chr [1:3] \"SampleNumber\" \"SorC\" \"Library\"\n",
      "  .. .. ..@ row.names: chr [1:232] \"160wood\" \"161wood\" \"162wood\" \"163wood\" ...\n",
      "  .. .. ..@ .S3Class : chr \"data.frame\"\n",
      "  ..@ phy_tree : NULL\n",
      "  ..@ refseq   : NULL\n"
     ]
    }
   ],
   "source": [
    "str(biom95)"
   ]
  },
  {
   "cell_type": "markdown",
   "metadata": {},
   "source": [
    "To subtract the negative control reads from the others, we can treat these objects like matrices and subtract the column of the negative control from all other columns. In this case, we need to subtract the wood column negative control from the wood samples, and the leaf negative control from the leaves. "
   ]
  },
  {
   "cell_type": "code",
   "execution_count": 20,
   "metadata": {
    "collapsed": true
   },
   "outputs": [],
   "source": [
    "## make a backup, in case we mess something up:\n",
    "biom95.bak <- biom95"
   ]
  },
  {
   "cell_type": "markdown",
   "metadata": {},
   "source": [
    "Wood samples:"
   ]
  },
  {
   "cell_type": "code",
   "execution_count": 21,
   "metadata": {
    "collapsed": true
   },
   "outputs": [],
   "source": [
    "wood95 <- subset_samples(biom95, Library=='W') ## our wood samples\n",
    "woodneg95 <- subset_samples(biom95, SampleNumber=='Neg') ## our wood negative\n",
    "wood95@otu_table@.Data <- wood95@otu_table@.Data - woodneg95@otu_table@.Data[,1] ## subtract out the controls"
   ]
  },
  {
   "cell_type": "markdown",
   "metadata": {},
   "source": [
    "Leaf samples:"
   ]
  },
  {
   "cell_type": "code",
   "execution_count": 23,
   "metadata": {
    "collapsed": true
   },
   "outputs": [],
   "source": [
    "leaf95 <- subset_samples(biom95, Library=='L')  ## leaves only\n",
    "leafneg95 <- subset_samples(biom95, SampleNumber=='NC_2') ## leaf negative control\n",
    "leaf95@otu_table@.Data <- leaf95@otu_table@.Data - leafneg95@otu_table@.Data[,1] ## subtract out the controls"
   ]
  },
  {
   "cell_type": "markdown",
   "metadata": {},
   "source": [
    "Now reassemble these, plus the stromata abundance column. Negative numbers are reassigned a zero value:"
   ]
  },
  {
   "cell_type": "code",
   "execution_count": 25,
   "metadata": {
    "collapsed": true
   },
   "outputs": [],
   "source": [
    "strom95 <- subset_samples(biom95, Library=='S')  ## stromata\n",
    "bb <- cbind(wood95@otu_table@.Data, leaf95@otu_table@.Data, strom95@otu_table@.Data)\n",
    "bb[bb < 0] <- 0"
   ]
  },
  {
   "cell_type": "markdown",
   "metadata": {},
   "source": [
    "Before we do the deed, make sure that dimensions, row/column order have been preserved:"
   ]
  },
  {
   "cell_type": "code",
   "execution_count": 28,
   "metadata": {
    "collapsed": false,
    "scrolled": true
   },
   "outputs": [
    {
     "data": {
      "text/html": [
       "FALSE"
      ],
      "text/latex": [
       "FALSE"
      ],
      "text/markdown": [
       "FALSE"
      ],
      "text/plain": [
       "[1] FALSE"
      ]
     },
     "metadata": {},
     "output_type": "display_data"
    },
    {
     "data": {
      "text/html": [
       "FALSE"
      ],
      "text/latex": [
       "FALSE"
      ],
      "text/markdown": [
       "FALSE"
      ],
      "text/plain": [
       "[1] FALSE"
      ]
     },
     "metadata": {},
     "output_type": "display_data"
    }
   ],
   "source": [
    "any(colnames(biom95@otu_table@.Data) != colnames(bb))\n",
    "any(rownames(biom95@otu_table@.Data) != rownames(bb))"
   ]
  },
  {
   "cell_type": "code",
   "execution_count": 29,
   "metadata": {
    "collapsed": false,
    "scrolled": true
   },
   "outputs": [
    {
     "data": {
      "text/html": [
       "<ol class=list-inline>\n",
       "\t<li>10269</li>\n",
       "\t<li>232</li>\n",
       "</ol>\n"
      ],
      "text/latex": [
       "\\begin{enumerate*}\n",
       "\\item 10269\n",
       "\\item 232\n",
       "\\end{enumerate*}\n"
      ],
      "text/markdown": [
       "1. 10269\n",
       "2. 232\n",
       "\n",
       "\n"
      ],
      "text/plain": [
       "[1] 10269   232"
      ]
     },
     "metadata": {},
     "output_type": "display_data"
    },
    {
     "data": {
      "text/html": [
       "<ol class=list-inline>\n",
       "\t<li>10269</li>\n",
       "\t<li>232</li>\n",
       "</ol>\n"
      ],
      "text/latex": [
       "\\begin{enumerate*}\n",
       "\\item 10269\n",
       "\\item 232\n",
       "\\end{enumerate*}\n"
      ],
      "text/markdown": [
       "1. 10269\n",
       "2. 232\n",
       "\n",
       "\n"
      ],
      "text/plain": [
       "[1] 10269   232"
      ]
     },
     "metadata": {},
     "output_type": "display_data"
    }
   ],
   "source": [
    "dim(bb)\n",
    "dim(biom95@otu_table@.Data)"
   ]
  },
  {
   "cell_type": "markdown",
   "metadata": {},
   "source": [
    "Same row and column names/order, same dimensions, looks good. Substituting this new species matrix into our phyloseq object:"
   ]
  },
  {
   "cell_type": "code",
   "execution_count": 45,
   "metadata": {
    "collapsed": false
   },
   "outputs": [],
   "source": [
    "biom95@otu_table@.Data <- bb"
   ]
  },
  {
   "cell_type": "markdown",
   "metadata": {},
   "source": [
    "<a id='deseq'></a>"
   ]
  },
  {
   "cell_type": "markdown",
   "metadata": {},
   "source": [
    "## Variance stabilization of our reads"
   ]
  },
  {
   "cell_type": "markdown",
   "metadata": {},
   "source": [
    "It's important to [stabilize the variance](http://journals.plos.org/ploscompbiol/article?id=10.1371/journal.pcbi.1003531of) of our combined-leaf-and-wood-endophyte read depths, using the [DESeq2](https://bioconductor.org/packages/release/bioc/html/DESeq2.html) package in R. This is a way of making the samples, which have highly variable numbers of reads in them, comparable for downstream statistical analyses."
   ]
  },
  {
   "cell_type": "markdown",
   "metadata": {},
   "source": [
    "Here is our current metadata for samples. We can subset by library type (leaf or wood), sample or control, and sample number. The unique identifiers (first column) were the name of the sample assigned by the illumina software."
   ]
  },
  {
   "cell_type": "code",
   "execution_count": 9,
   "metadata": {
    "collapsed": false
   },
   "outputs": [
    {
     "data": {
      "text/html": [
       "<table>\n",
       "<thead><tr><th></th><th scope=col>SampleNumber</th><th scope=col>SorC</th><th scope=col>Library</th></tr></thead>\n",
       "<tbody>\n",
       "\t<tr><th scope=row>160wood</th><td>Dc-X   </td><td>Control</td><td>W      </td></tr>\n",
       "\t<tr><th scope=row>161wood</th><td>Dc-PosG</td><td>Control</td><td>W      </td></tr>\n",
       "\t<tr><th scope=row>162wood</th><td>Dc-PosI</td><td>Control</td><td>W      </td></tr>\n",
       "\t<tr><th scope=row>163wood</th><td>Dc-Neg </td><td>Control</td><td>W      </td></tr>\n",
       "\t<tr><th scope=row>164wood</th><td>1      </td><td>Sample </td><td>W      </td></tr>\n",
       "\t<tr><th scope=row>165wood</th><td>2      </td><td>Sample </td><td>W      </td></tr>\n",
       "</tbody>\n",
       "</table>\n"
      ],
      "text/latex": [
       "\\begin{tabular}{r|lll}\n",
       "  & SampleNumber & SorC & Library\\\\\n",
       "\\hline\n",
       "\t160wood & Dc-X    & Control & W      \\\\\n",
       "\t161wood & Dc-PosG & Control & W      \\\\\n",
       "\t162wood & Dc-PosI & Control & W      \\\\\n",
       "\t163wood & Dc-Neg  & Control & W      \\\\\n",
       "\t164wood & 1       & Sample  & W      \\\\\n",
       "\t165wood & 2       & Sample  & W      \\\\\n",
       "\\end{tabular}\n"
      ],
      "text/markdown": [
       "$SampleNumber\n",
       ":   1. 'Dc-X'\n",
       "2. 'Dc-PosG'\n",
       "3. 'Dc-PosI'\n",
       "4. 'Dc-Neg'\n",
       "5. '1'\n",
       "6. '2'\n",
       "\n",
       "\n",
       "\n",
       "$SorC\n",
       ":   1. 'Control'\n",
       "2. 'Control'\n",
       "3. 'Control'\n",
       "4. 'Control'\n",
       "5. 'Sample'\n",
       "6. 'Sample'\n",
       "\n",
       "\n",
       "\n",
       "$Library\n",
       ":   1. 'W'\n",
       "2. 'W'\n",
       "3. 'W'\n",
       "4. 'W'\n",
       "5. 'W'\n",
       "6. 'W'\n",
       "\n",
       "\n",
       "\n",
       "\n",
       "\n"
      ],
      "text/plain": [
       "        SampleNumber SorC    Library\n",
       "160wood Dc-X         Control W      \n",
       "161wood Dc-PosG      Control W      \n",
       "162wood Dc-PosI      Control W      \n",
       "163wood Dc-Neg       Control W      \n",
       "164wood 1            Sample  W      \n",
       "165wood 2            Sample  W      "
      ]
     },
     "metadata": {},
     "output_type": "display_data"
    }
   ],
   "source": [
    "head(sample_data(biom95))"
   ]
  },
  {
   "cell_type": "markdown",
   "metadata": {
    "collapsed": false
   },
   "source": [
    "For the moment, we will repeat Roo's pipeline that he used to lay the groundwork for his other analyses with the leaf-only data. We want to treat this new data as similarly as possible. His first step was to remove controls and low-read (<2000) samples. \n",
    "\n",
    "How many samples have less than 2000 reads in our biom table?"
   ]
  },
  {
   "cell_type": "code",
   "execution_count": 15,
   "metadata": {
    "collapsed": false,
    "scrolled": true
   },
   "outputs": [
    {
     "data": {
      "text/html": [
       "<dl class=dl-horizontal>\n",
       "\t<dt>255wood</dt>\n",
       "\t\t<dd>1757</dd>\n",
       "\t<dt>86Leaf</dt>\n",
       "\t\t<dd>1529</dd>\n",
       "\t<dt>18Leaf</dt>\n",
       "\t\t<dd>1402</dd>\n",
       "\t<dt>67Leaf</dt>\n",
       "\t\t<dd>1958</dd>\n",
       "\t<dt>112_1Leaf</dt>\n",
       "\t\t<dd>3</dd>\n",
       "\t<dt>113_2Leaf</dt>\n",
       "\t\t<dd>6</dd>\n",
       "\t<dt>74Leaf</dt>\n",
       "\t\t<dd>325</dd>\n",
       "\t<dt>113_1Leaf</dt>\n",
       "\t\t<dd>54</dd>\n",
       "\t<dt>126_2Leaf</dt>\n",
       "\t\t<dd>5</dd>\n",
       "\t<dt>91Leaf</dt>\n",
       "\t\t<dd>6</dd>\n",
       "\t<dt>Strom</dt>\n",
       "\t\t<dd>51</dd>\n",
       "</dl>\n"
      ],
      "text/latex": [
       "\\begin{description*}\n",
       "\\item[255wood] 1757\n",
       "\\item[86Leaf] 1529\n",
       "\\item[18Leaf] 1402\n",
       "\\item[67Leaf] 1958\n",
       "\\item[112\\textbackslash{}\\_1Leaf] 3\n",
       "\\item[113\\textbackslash{}\\_2Leaf] 6\n",
       "\\item[74Leaf] 325\n",
       "\\item[113\\textbackslash{}\\_1Leaf] 54\n",
       "\\item[126\\textbackslash{}\\_2Leaf] 5\n",
       "\\item[91Leaf] 6\n",
       "\\item[Strom] 51\n",
       "\\end{description*}\n"
      ],
      "text/markdown": [
       "255wood\n",
       ":   175786Leaf\n",
       ":   152918Leaf\n",
       ":   140267Leaf\n",
       ":   1958112_1Leaf\n",
       ":   3113_2Leaf\n",
       ":   674Leaf\n",
       ":   325113_1Leaf\n",
       ":   54126_2Leaf\n",
       ":   591Leaf\n",
       ":   6Strom\n",
       ":   51\n",
       "\n"
      ],
      "text/plain": [
       "  255wood    86Leaf    18Leaf    67Leaf 112_1Leaf 113_2Leaf    74Leaf 113_1Leaf \n",
       "     1757      1529      1402      1958         3         6       325        54 \n",
       "126_2Leaf    91Leaf     Strom \n",
       "        5         6        51 "
      ]
     },
     "metadata": {},
     "output_type": "display_data"
    }
   ],
   "source": [
    "sample_sums(biom95)[sample_sums(biom95) < 2000]"
   ]
  },
  {
   "cell_type": "markdown",
   "metadata": {},
   "source": [
    "Not many. Most of these needed to be removed anyway. "
   ]
  },
  {
   "cell_type": "code",
   "execution_count": 16,
   "metadata": {
    "collapsed": true
   },
   "outputs": [],
   "source": [
    "biom95_hiread <- prune_samples(sample_sums(biom95)>=2000, biom95)"
   ]
  },
  {
   "cell_type": "markdown",
   "metadata": {},
   "source": [
    "Did this work? "
   ]
  },
  {
   "cell_type": "code",
   "execution_count": 17,
   "metadata": {
    "collapsed": false
   },
   "outputs": [
    {
     "data": {
      "text/html": [],
      "text/latex": [],
      "text/markdown": [],
      "text/plain": [
       "named numeric(0)"
      ]
     },
     "metadata": {},
     "output_type": "display_data"
    }
   ],
   "source": [
    "sample_sums(biom95_hiread)[sample_sums(biom95_hiread) < 2000]"
   ]
  },
  {
   "cell_type": "markdown",
   "metadata": {},
   "source": [
    "Nada. Worked. Now remove controls:"
   ]
  },
  {
   "cell_type": "code",
   "execution_count": 18,
   "metadata": {
    "collapsed": true
   },
   "outputs": [],
   "source": [
    "biom95_hiread_nocontrol <- subset_samples(biom95_hiread, SorC==\"Sample\")"
   ]
  },
  {
   "cell_type": "code",
   "execution_count": 20,
   "metadata": {
    "collapsed": false
   },
   "outputs": [
    {
     "data": {
      "text/html": [
       "<table>\n",
       "<thead><tr><th></th><th scope=col>SampleNumber</th><th scope=col>SorC</th><th scope=col>Library</th></tr></thead>\n",
       "<tbody>\n",
       "\t<tr><th scope=row>164wood</th><td>1     </td><td>Sample</td><td>W     </td></tr>\n",
       "\t<tr><th scope=row>165wood</th><td>2     </td><td>Sample</td><td>W     </td></tr>\n",
       "\t<tr><th scope=row>166wood</th><td>3     </td><td>Sample</td><td>W     </td></tr>\n",
       "\t<tr><th scope=row>167wood</th><td>4     </td><td>Sample</td><td>W     </td></tr>\n",
       "\t<tr><th scope=row>168wood</th><td>5     </td><td>Sample</td><td>W     </td></tr>\n",
       "\t<tr><th scope=row>169wood</th><td>7     </td><td>Sample</td><td>W     </td></tr>\n",
       "</tbody>\n",
       "</table>\n"
      ],
      "text/latex": [
       "\\begin{tabular}{r|lll}\n",
       "  & SampleNumber & SorC & Library\\\\\n",
       "\\hline\n",
       "\t164wood & 1      & Sample & W     \\\\\n",
       "\t165wood & 2      & Sample & W     \\\\\n",
       "\t166wood & 3      & Sample & W     \\\\\n",
       "\t167wood & 4      & Sample & W     \\\\\n",
       "\t168wood & 5      & Sample & W     \\\\\n",
       "\t169wood & 7      & Sample & W     \\\\\n",
       "\\end{tabular}\n"
      ],
      "text/markdown": [
       "$SampleNumber\n",
       ":   1. '1'\n",
       "2. '2'\n",
       "3. '3'\n",
       "4. '4'\n",
       "5. '5'\n",
       "6. '7'\n",
       "\n",
       "\n",
       "\n",
       "$SorC\n",
       ":   1. 'Sample'\n",
       "2. 'Sample'\n",
       "3. 'Sample'\n",
       "4. 'Sample'\n",
       "5. 'Sample'\n",
       "6. 'Sample'\n",
       "\n",
       "\n",
       "\n",
       "$Library\n",
       ":   1. 'W'\n",
       "2. 'W'\n",
       "3. 'W'\n",
       "4. 'W'\n",
       "5. 'W'\n",
       "6. 'W'\n",
       "\n",
       "\n",
       "\n",
       "\n",
       "\n"
      ],
      "text/plain": [
       "        SampleNumber SorC   Library\n",
       "164wood 1            Sample W      \n",
       "165wood 2            Sample W      \n",
       "166wood 3            Sample W      \n",
       "167wood 4            Sample W      \n",
       "168wood 5            Sample W      \n",
       "169wood 7            Sample W      "
      ]
     },
     "metadata": {},
     "output_type": "display_data"
    },
    {
     "data": {
      "text/html": [
       "<table>\n",
       "<thead><tr><th></th><th scope=col>SampleNumber</th><th scope=col>SorC</th><th scope=col>Library</th></tr></thead>\n",
       "<tbody>\n",
       "\t<tr><th scope=row>47Leaf</th><td>47    </td><td>Sample</td><td>L     </td></tr>\n",
       "\t<tr><th scope=row>39Leaf</th><td>39    </td><td>Sample</td><td>L     </td></tr>\n",
       "\t<tr><th scope=row>5Leaf</th><td>5     </td><td>Sample</td><td>L     </td></tr>\n",
       "\t<tr><th scope=row>28Leaf</th><td>28    </td><td>Sample</td><td>L     </td></tr>\n",
       "\t<tr><th scope=row>19Leaf</th><td>19    </td><td>Sample</td><td>L     </td></tr>\n",
       "\t<tr><th scope=row>3Leaf</th><td>3     </td><td>Sample</td><td>L     </td></tr>\n",
       "</tbody>\n",
       "</table>\n"
      ],
      "text/latex": [
       "\\begin{tabular}{r|lll}\n",
       "  & SampleNumber & SorC & Library\\\\\n",
       "\\hline\n",
       "\t47Leaf & 47     & Sample & L     \\\\\n",
       "\t39Leaf & 39     & Sample & L     \\\\\n",
       "\t5Leaf & 5      & Sample & L     \\\\\n",
       "\t28Leaf & 28     & Sample & L     \\\\\n",
       "\t19Leaf & 19     & Sample & L     \\\\\n",
       "\t3Leaf & 3      & Sample & L     \\\\\n",
       "\\end{tabular}\n"
      ],
      "text/markdown": [
       "$SampleNumber\n",
       ":   1. '47'\n",
       "2. '39'\n",
       "3. '5'\n",
       "4. '28'\n",
       "5. '19'\n",
       "6. '3'\n",
       "\n",
       "\n",
       "\n",
       "$SorC\n",
       ":   1. 'Sample'\n",
       "2. 'Sample'\n",
       "3. 'Sample'\n",
       "4. 'Sample'\n",
       "5. 'Sample'\n",
       "6. 'Sample'\n",
       "\n",
       "\n",
       "\n",
       "$Library\n",
       ":   1. 'L'\n",
       "2. 'L'\n",
       "3. 'L'\n",
       "4. 'L'\n",
       "5. 'L'\n",
       "6. 'L'\n",
       "\n",
       "\n",
       "\n",
       "\n",
       "\n"
      ],
      "text/plain": [
       "       SampleNumber SorC   Library\n",
       "47Leaf 47           Sample L      \n",
       "39Leaf 39           Sample L      \n",
       "5Leaf  5            Sample L      \n",
       "28Leaf 28           Sample L      \n",
       "19Leaf 19           Sample L      \n",
       "3Leaf  3            Sample L      "
      ]
     },
     "metadata": {},
     "output_type": "display_data"
    }
   ],
   "source": [
    "head(sample_data(biom95_hiread_nocontrol)); tail(sample_data(biom95_hiread_nocontrol))"
   ]
  },
  {
   "cell_type": "markdown",
   "metadata": {},
   "source": [
    "Roo has written a function to stream-line the process of using deseq variance stabilization, because it was originally written for RNA-seq data, with dense matrices. Species matrices are usually pretty sparse, so deseq needs a few workarounds to handle our kind of data. Thankfully, Roo has worked on this, and saved me probably weeks of work. Function looks like this: \n"
   ]
  },
  {
   "cell_type": "code",
   "execution_count": 21,
   "metadata": {
    "collapsed": true
   },
   "outputs": [],
   "source": [
    "DESeq_varstab <- function(phyloseq, design) {\n",
    "# phyloseq = the input phyloseq object that you want to get DESeq transformed counts for\n",
    "# design_variable = the design for the conversion to the DESeq object. must be in the form \"as a function of\", for example \"~Host_Genus\", must be a variable in the phyloseq object\n",
    "\n",
    "        # Set variables to NULL\n",
    "        deseq.vst = NULL\n",
    "        geo_Means = NULL\n",
    "        phyloseq.DESeq = NULL\n",
    "\n",
    "        # Convert to a DESeq object\n",
    "        deseq = phyloseq_to_deseq2(phyloseq, design)\n",
    "\n",
    "        # calculate geometric means prior to estimate size factors\n",
    "        gm_mean = function(x, na.rm=TRUE){\n",
    "                exp(sum(log(x[x > 0]), na.rm=na.rm) / length(x))\n",
    "                }\n",
    "\n",
    "        geo_Means = apply(counts(deseq), 1, gm_mean)\n",
    "\n",
    "        # Check to see if any columns (samples) don't have any OTUs in them:\n",
    "        if(sum(colSums(counts(deseq)) == 0) == 0) { # if all samples have taxa, go on\n",
    "\n",
    "                # Now we step through the size factors, dispersions, and varience stabilization:\n",
    "                deseq = estimateSizeFactors(deseq, geoMeans = geo_Means)\n",
    "                deseq = estimateDispersions(deseq) # long step\n",
    "                deseq.vst = getVarianceStabilizedData(deseq)\n",
    "\n",
    "                # replace negatives with zeros\n",
    "                deseq.vst[deseq.vst <0] <- 0\n",
    "\n",
    "                # add the varience stabilized otu numbers into the dataset:\n",
    "                otu_table(phyloseq) <- otu_table(deseq.vst, taxa_are_rows = TRUE)\n",
    "\n",
    "                # create a new object for the varience stabalized set\n",
    "                phyloseq -> phyloseq.DESeq\n",
    "\n",
    "                # And, filter any taxa that became 0s all the way across\n",
    "                phyloseq.DESeq = filter_taxa(phyloseq.DESeq, function(x) sum(x) > 0.1, T)\n",
    "\n",
    "                # return the new phyloseq object\n",
    "                return(phyloseq.DESeq)\n",
    "\n",
    "        } # end of IF loop \n",
    "        else {return(\"Error: your phyloseq object has samples with no taxa present.\")}\n",
    "\n",
    "} # end function\n"
   ]
  },
  {
   "cell_type": "markdown",
   "metadata": {},
   "source": [
    "Try it out on our data:"
   ]
  },
  {
   "cell_type": "code",
   "execution_count": 12,
   "metadata": {
    "collapsed": true
   },
   "outputs": [],
   "source": [
    "## match Roo's random seed set, not sure if this is necessary for DeSeq but let's err on the side of caution\n",
    "set.seed(28132)"
   ]
  },
  {
   "cell_type": "code",
   "execution_count": null,
   "metadata": {
    "collapsed": true
   },
   "outputs": [],
   "source": []
  }
 ],
 "metadata": {
  "kernelspec": {
   "display_name": "R 3.3",
   "language": "R",
   "name": "ir33"
  },
  "language_info": {
   "codemirror_mode": "r",
   "file_extension": ".r",
   "mimetype": "text/x-r-source",
   "name": "R",
   "pygments_lexer": "r",
   "version": "3.3.1"
  }
 },
 "nbformat": 4,
 "nbformat_minor": 0
}
