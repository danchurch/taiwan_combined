{
 "cells": [
  {
   "cell_type": "markdown",
   "metadata": {},
   "source": [
    "# One big biome table"
   ]
  },
  {
   "cell_type": "markdown",
   "metadata": {},
   "source": [
    "Since I am hoping to make comparisons of wood and leaf endophyte environmental patterns, I need to combine these datasets early in the biomformatics pipeline, to make them as comparable as possible. We'll try to stick to the [usearch (uparse)](http://drive5.com/usearch/) pipeline for the process, as much as possible.\n",
    "\n",
    "------------\n",
    "\n",
    "That was a year ago. \n",
    "\n",
    "Since then my car has been stolen, with my laptop in it. And the manuscripts which are based on these manuscripts are submitted. Somehow, the versions of this notebook and the following analysis notebook that were on github lost most of its graphic outputs, charts and maps and stuff. While most of the important graphics, etc, were backed up, I lost some of the computationally expensive intermediate files necessary to repopulate. \n",
    "\n",
    "So to make this notebook useable to reviewers and readers, I'll be picking through this process again, and the downstream analysis, if I don't go insane in the meantime. Maybe even if I do."
   ]
  },
  {
   "cell_type": "markdown",
   "metadata": {},
   "source": [
    "## Table of contents\n",
    "\n",
    "[Work environment](#environment)  \n",
    "[Trimming reads](#trim)  \n",
    "[Merging paired-end reads](#mergepairs)  \n",
    "- [Leaf reads](#mergeLeaf)\n",
    "- [Wood reads](#mergeWood)\n",
    "\n",
    "[Visualizing merged read qualities](#visMerge)  \n",
    "- [Make quality score charts](#makeQcharts)  \n",
    "- [Leaf read qualities](#leafReadScores)\n",
    "- [Wood read qualities](#woodReadScores)"
   ]
  },
  {
   "cell_type": "markdown",
   "metadata": {},
   "source": [
    "<a id='environment'><h3>Work environment</h3></a>"
   ]
  },
  {
   "cell_type": "markdown",
   "metadata": {},
   "source": [
    "Working directory, on my machine:"
   ]
  },
  {
   "cell_type": "code",
   "execution_count": 2,
   "metadata": {},
   "outputs": [
    {
     "name": "stdout",
     "output_type": "stream",
     "text": []
    }
   ],
   "source": [
    "cd /home/daniel/Documents/Taiwan_data/combined/combo_biome"
   ]
  },
  {
   "cell_type": "markdown",
   "metadata": {},
   "source": [
    "We'll be using the [usearch (uparse)](http://drive5.com/usearch/) pipeline, version v8.0.1623_i86linux32, on the University of Oregon's Talapas computing cluster."
   ]
  },
  {
   "cell_type": "markdown",
   "metadata": {},
   "source": [
    "<a id='rearrange'></a>\n",
    "### Rearranging barcodes"
   ]
  },
  {
   "cell_type": "markdown",
   "metadata": {},
   "source": [
    "We need to merged paired end sequences of the leaves and wood. But before we can do this, there are several steps. First, the leaf study reads include a split 6+6 bp barcode scheme for identifying reads, so these need to be clipped from one read and combined on the other. I wrote a python script for this:"
   ]
  },
  {
   "cell_type": "code",
   "execution_count": 4,
   "metadata": {
    "scrolled": true
   },
   "outputs": [
    {
     "name": "stdout",
     "output_type": "stream",
     "text": [
      "#!/usr/bin/env python3\n",
      "\n",
      "## lets try to take a two unpaired read files, cut out the bp from the reverse,\n",
      "## and tack it onto the forward.\n",
      "## have to preserve the fastq format so that pandaseq can do unsplit3.py forward_reads reverse_reads\n",
      "\n",
      "#The first six bps and quality ratings of the reverse reads should be chopped off and placed after\n",
      "#the first six bps of the forward reads and quality ratings. For use with fastq files. It will spit\n",
      "#out two files, with the names: \"rearranged_[your orignial forward and reverse read file names].fastq\".\n",
      "\n",
      "import itertools ##to let us jump around \n",
      "from sys import argv\n",
      "\n",
      "script, forward_file, reverse_file = argv\n",
      "\n",
      "forwardlabels=[]\n",
      "reverselabels=[]\n",
      "forwardreads=[]\n",
      "forwardreadsq=[]\n",
      "reversereads=[]\n",
      "reversereadsq=[]\n",
      "forwardBC=[]\n",
      "forwardBCq=[]\n",
      "reverseBC=[]\n",
      "reverseBCq=[]\n",
      "\n",
      "with open(forward_file) as foop:\n",
      "\n",
      "\t#labels:\n",
      "\n",
      "\tfor h in itertools.islice(foop, 0, None, 4):\n",
      "\t\tforwardlabels.append(h)\n",
      "\n",
      "##forward sequencies, barcodes: \n",
      "\n",
      "\tfoop.seek(0)\n",
      "    \n",
      "\tfor i in itertools.islice(foop, 1, None, 4):\n",
      "\t\tforwardreads.append(i[6:])        \n",
      "\t\tforwardBC.append(i[0:6])\n",
      "\n",
      "##forward quality info:\n",
      "\n",
      "\tfoop.seek(0)\n",
      "\n",
      "\tfor j in itertools.islice(foop, 3, None, 4):\n",
      "\t\tforwardreadsq.append(j[6:])\n",
      "\t\tforwardBCq.append(j[0:6])\n",
      "\n",
      "## reverse reads and sequences:\n",
      "\n",
      "with open(reverse_file) as coop:\n",
      "\n",
      "#labels:\n",
      "\n",
      "\tfor h in itertools.islice(coop, 0, None, 4):\n",
      "\t\treverselabels.append(h)\n",
      "\n",
      "##Reverse reads and sequences: \n",
      "\n",
      "\tcoop.seek(0)\n",
      "    \n",
      "   \n",
      "\tfor i in itertools.islice(coop, 1, None, 4):\n",
      "\t\treversereads.append(i[6:])        \n",
      "\t\treverseBC.append(i[0:6])\n",
      "\n",
      "## reverse quality info\n",
      "\n",
      "\tcoop.seek(0)\n",
      "\n",
      "\tfor j in itertools.islice(coop, 3, None, 4): \n",
      "\t\treversereadsq.append(j[6:])\n",
      "\t\treverseBCq.append(j[0:6])\n",
      "\n",
      "##do I need the reverse compliment on these? Don't think so, guess I'll find out. \n",
      "##Now, to combine into a new fastq file\n",
      "\n",
      "ee=['rearranged_', forward_file]\n",
      "ff=''.join(ee)\n",
      "\n",
      "with open(ff,'w') as foop2:\n",
      "\n",
      "\tfor j in range(len(forwardreads)):\n",
      "\t\t    \n",
      "\t\tprint(forwardlabels[j], file = foop2, end = '')\n",
      "\t\tprint(forwardBC[j]+reverseBC[j]+forwardreads[j], sep = '', file = foop2, end='') \n",
      "\t\tprint('+', file = foop2)\n",
      "\t\tprint(forwardBCq[j]+reverseBCq[j]+forwardreadsq[j], file = foop2, end = '')\n",
      "\n",
      "gg=['rearranged_', reverse_file]\n",
      "hh=''.join(gg)\n",
      "\n",
      "with open(hh,'w') as goop2:\n",
      "\n",
      "\tfor j in range(len(reversereads)):\n",
      "\t    \n",
      "\t\tprint(reverselabels[j], file = goop2, end = '')\n",
      "        ## this line is edited to keep barcodes in reverse reads:\n",
      "\t\tprint(forwardBC[j]+reverseBC[j]+reversereads[j], file = goop2, end='')\n",
      "\t\tprint('+', file = goop2)\n",
      "\t\t#print(reversereadsq[j], file = goop2, end = '')\n",
      "        ## this line above replaced with line below, also \n",
      "        ## to keep barcodes in reverse reads:\n",
      "\t\tprint(forwardBCq[j]+reverseBCq[j]+reversereadsq[j], file = goop2, end = '')\n",
      "\n",
      "\n",
      "\n",
      "\n",
      "\n",
      "\n",
      "\n",
      "\n",
      "\n",
      "##a function for reverse complimenting (may need this?):\n",
      "\n",
      "#def revcompl(x): \n",
      "\n",
      "#    aa=''.join([{'A':'T','C':'G','G':'C','T':'A'}[B] for B in x][::-1])\n",
      "#    return(aa)\n",
      " \n"
     ]
    }
   ],
   "source": [
    "cat scripts/BCunsplit.py"
   ]
  },
  {
   "cell_type": "markdown",
   "metadata": {},
   "source": [
    "I have details on how I used this [here](https://github.com/danchurch/taiwan_dada2/blob/master/dada2pipeline.ipynb). \n",
    "\n",
    "This outputs two files, \"rearranged_Roo_R2.fastq\" and \"rearranged_Roo_R2.fastq\". I did this in another directory, so we'll add some sym links here for convenience:"
   ]
  },
  {
   "cell_type": "code",
   "execution_count": 8,
   "metadata": {},
   "outputs": [],
   "source": [
    "## leaves\n",
    "ln -s /home/daniel/Documents/taiwan/taiwan_dada2/rearranged_leafR1.fastq reLeafR1.fastq\n",
    "ln -s /home/daniel/Documents/taiwan/taiwan_dada2/rearranged_leafR2.fastq reLeafR2.fastq"
   ]
  },
  {
   "cell_type": "markdown",
   "metadata": {},
   "source": [
    "<a id='trim'><h3>Trimming reads</h3></a>"
   ]
  },
  {
   "cell_type": "markdown",
   "metadata": {},
   "source": [
    "Next we trim a little to make sure we doing our alignments with high quality base calls. The sites for trimming are decided by looking at the raw reads [(see below)](#quality), and finding where quality begins to drop off. \n",
    "To trim, we'll use the [FASTX-toolkit](http://hannonlab.cshl.edu/fastx_toolkit/)."
   ]
  },
  {
   "cell_type": "markdown",
   "metadata": {},
   "source": [
    "Our wood reads are already demultiplexed, so we don't have a single forward and reverse read file for all of our wood samples, like we do above with the leaves. So let's make a script for this:"
   ]
  },
  {
   "cell_type": "code",
   "execution_count": null,
   "metadata": {},
   "outputs": [],
   "source": [
    "## trims.sh\n",
    "#####################################################\n",
    "\n",
    "\n",
    "## wood reads live here:\n",
    "wooddir=/home/daniel/Documents/taiwan/woodreads/\n",
    "\n",
    "## working directory is here:\n",
    "cd /home/daniel/Documents/taiwan/taiwan_combined_biom\n",
    "\n",
    "###### R1 reads:\n",
    "\n",
    "## home for trimmed R1 wood reads here:\n",
    "R1trimdir='/home/daniel/Documents/taiwan/taiwan_combined_biom/trimmed_wood/R1/'\n",
    "\n",
    "## trim just the R1s, output to their new home with new filename:\n",
    "for i in $wooddir*_R1_*; do\n",
    "    echo $i\n",
    "    out=$R1trimdir$(basename ${i/_001\\.fastq/_trimmed\\.fastq})\n",
    "    fastx_trimmer -l 255 -i $i -o $out && echo $out \n",
    "done\n",
    "\n",
    "###### R2 reads:\n",
    "\n",
    "## home for trimmed R2 wood reads here:\n",
    "R2trimdir='/home/daniel/Documents/taiwan/taiwan_combined_biom/trimmed_wood/R2/'\n",
    "\n",
    "## trim just the R2s, output to their new home with new filename:\n",
    "for j in $wooddir*_R2_*; do\n",
    "    echo $j\n",
    "    out=$R2trimdir$(basename ${j/_001\\.fastq/_trimmed\\.fastq})\n",
    "    fastx_trimmer -l 210 -i $j -o $out && echo $out \n",
    "done"
   ]
  },
  {
   "cell_type": "code",
   "execution_count": 2,
   "metadata": {},
   "outputs": [
    {
     "name": "stdout",
     "output_type": "stream",
     "text": []
    }
   ],
   "source": [
    "## leaves. These lengths were decided by Roo. They are all still in one pile:\n",
    "fastx_trimmer -l 263 -i reLeafR1.fastq -o Roo_R1_trimmed.fastq\n",
    "fastx_trimmer -l 170 -i reLeafR2.fastq -o Roo_R2_trimmed.fastq"
   ]
  },
  {
   "cell_type": "markdown",
   "metadata": {},
   "source": [
    "<a id='mergepairs'><h3>Merging paired-end reads</h3></a> "
   ]
  },
  {
   "cell_type": "markdown",
   "metadata": {},
   "source": [
    "Unfortunately, I no longer have access to the 64-bit version of usearch 8.1. So let's use the 32-bit version:"
   ]
  },
  {
   "cell_type": "code",
   "execution_count": 7,
   "metadata": {},
   "outputs": [
    {
     "name": "stdout",
     "output_type": "stream",
     "text": [
      "usearch v8.1.1861_i86linux32, 4.0Gb RAM (8.0Gb total), 4 cores\n",
      "(C) Copyright 2013-15 Robert C. Edgar, all rights reserved.\n",
      "http://drive5.com/usearch\n",
      "\n",
      "License: danchurchthomas@gmail.com\n",
      "\n"
     ]
    }
   ],
   "source": [
    "usearch"
   ]
  },
  {
   "cell_type": "markdown",
   "metadata": {},
   "source": [
    "<a id='mergeLeaf'><h4>Leaf reads</h4></a>"
   ]
  },
  {
   "cell_type": "markdown",
   "metadata": {},
   "source": [
    "The leaf files are too large to be handled by the 32-version. We don't want to demultiplex yet, this will be messy with the split barcodes. So let's break up the leaf files into smaller ones and merge these."
   ]
  },
  {
   "cell_type": "code",
   "execution_count": null,
   "metadata": {},
   "outputs": [],
   "source": [
    "cd /home/daniel/Documents/submissions/taibioinfo/taiwan_combined_biom/trim_leaves\n",
    "\n",
    "for i in Roo_R*_*; do\n",
    "    ls $i\n",
    "    split -d -l 500000 $i ${i/fastq/split\\.fastq}\n",
    "done"
   ]
  },
  {
   "cell_type": "markdown",
   "metadata": {},
   "source": [
    "Makes a lot of files:"
   ]
  },
  {
   "cell_type": "code",
   "execution_count": 10,
   "metadata": {
    "scrolled": true
   },
   "outputs": [
    {
     "name": "stdout",
     "output_type": "stream",
     "text": [
      "aln_3.txt\n",
      "leafSplitLs.txt\n",
      "Roo_R1_trimmed.split.fastq00\n",
      "Roo_R1_trimmed.split.fastq01\n",
      "Roo_R1_trimmed.split.fastq02\n",
      "Roo_R1_trimmed.split.fastq03\n",
      "Roo_R1_trimmed.split.fastq04\n",
      "Roo_R1_trimmed.split.fastq05\n",
      "Roo_R1_trimmed.split.fastq06\n",
      "Roo_R1_trimmed.split.fastq07\n",
      "Roo_R1_trimmed.split.fastq08\n",
      "Roo_R1_trimmed.split.fastq09\n",
      "Roo_R1_trimmed.split.fastq10\n",
      "Roo_R1_trimmed.split.fastq11\n",
      "Roo_R1_trimmed.split.fastq12\n",
      "Roo_R1_trimmed.split.fastq13\n",
      "Roo_R1_trimmed.split.fastq14\n",
      "Roo_R1_trimmed.split.fastq15\n",
      "Roo_R1_trimmed.split.fastq16\n",
      "Roo_R1_trimmed.split.fastq17\n",
      "Roo_R1_trimmed.split.fastq18\n",
      "Roo_R1_trimmed.split.fastq19\n",
      "Roo_R1_trimmed.split.fastq20\n",
      "Roo_R1_trimmed.split.fastq21\n",
      "Roo_R1_trimmed.split.fastq22\n",
      "Roo_R1_trimmed.split.fastq23\n",
      "Roo_R1_trimmed.split.fastq24\n",
      "Roo_R1_trimmed.split.fastq25\n",
      "Roo_R1_trimmed.split.fastq26\n",
      "Roo_R1_trimmed.split.fastq27\n",
      "Roo_R1_trimmed.split.fastq28\n",
      "Roo_R1_trimmed.split.fastq29\n",
      "Roo_R1_trimmed.split.fastq30\n",
      "Roo_R1_trimmed.split.fastq31\n",
      "Roo_R1_trimmed.split.fastq32\n",
      "Roo_R1_trimmed.split.fastq33\n",
      "Roo_R1_trimmed.split.fastq34\n",
      "Roo_R1_trimmed.split.fastq35\n",
      "Roo_R1_trimmed.split.fastq36\n",
      "Roo_R1_trimmed.split.fastq37\n",
      "Roo_R1_trimmed.split.fastq38\n",
      "Roo_R1_trimmed.split.fastq39\n",
      "Roo_R1_trimmed.split.fastq40\n",
      "Roo_R1_trimmed.split.fastq41\n",
      "Roo_R1_trimmed.split.fastq42\n",
      "Roo_R1_trimmed.split.fastq43\n",
      "Roo_R1_trimmed.split.fastq44\n",
      "Roo_R1_trimmed.split.fastq45\n",
      "Roo_R1_trimmed.split.fastq46\n",
      "Roo_R1_trimmed.split.fastq47\n",
      "Roo_R1_trimmed.split.fastq48\n",
      "Roo_R1_trimmed.split.fastq49\n",
      "Roo_R1_trimmed.split.fastq50\n",
      "Roo_R1_trimmed.split.fastq51\n",
      "Roo_R1_trimmed.split.fastq52\n",
      "Roo_R1_trimmed.split.fastq53\n",
      "Roo_R1_trimmed.split.fastq54\n",
      "Roo_R1_trimmed.split.fastq55\n",
      "Roo_R1_trimmed.split.fastq56\n",
      "Roo_R1_trimmed.split.fastq57\n",
      "Roo_R1_trimmed.split.fastq58\n",
      "Roo_R1_trimmed.split.fastq59\n",
      "Roo_R1_trimmed.split.fastq60\n",
      "Roo_R1_trimmed.split.fastq61\n",
      "Roo_R1_trimmed.split.fastq62\n",
      "Roo_R1_trimmed.split.fastq63\n",
      "Roo_R1_trimmed.split.fastq64\n",
      "Roo_R1_trimmed.split.fastq65\n",
      "Roo_R1_trimmed.split.fastq66\n",
      "Roo_R1_trimmed.split.fastq67\n",
      "Roo_R1_trimmed.split.fastq68\n",
      "Roo_R1_trimmed.split.fastq69\n",
      "Roo_R1_trimmed.split.fastq70\n",
      "Roo_R1_trimmed.split.fastq71\n",
      "Roo_R1_trimmed.split.fastq72\n",
      "Roo_R1_trimmed.split.fastq73\n",
      "Roo_R1_trimmed.split.fastq74\n",
      "Roo_R1_trimmed.split.fastq75\n",
      "Roo_R1_trimmed.split.fastq76\n",
      "Roo_R1_trimmed.split.fastq77\n",
      "Roo_R1_trimmed.split.fastq78\n",
      "Roo_R1_trimmed.split.fastq79\n",
      "Roo_R1_trimmed.split.fastq80\n",
      "Roo_R1_trimmed.split.fastq81\n",
      "Roo_R1_trimmed.split.fastq82\n",
      "Roo_R1_trimmed.split.fastq83\n",
      "Roo_R1_trimmed.split.fastq84\n",
      "Roo_R1_trimmed.split.fastq85\n",
      "Roo_R1_trimmed.split.fastq86\n",
      "Roo_R1_trimmed.split.fastq87\n",
      "Roo_R1_trimmed.split.fastq88\n",
      "Roo_R1_trimmed.split.fastq89\n",
      "Roo_R1_trimmed.split.fastq9000\n",
      "Roo_R1_trimmed.split.fastq9001\n",
      "Roo_R1_trimmed.split.fastq9002\n",
      "Roo_R1_trimmed.split.fastq9003\n",
      "Roo_R1_trimmed.split.fastq9004\n",
      "Roo_R1_trimmed.split.fastq9005\n",
      "Roo_R1_trimmed.split.fastq9006\n",
      "Roo_R1_trimmed.split.fastq9007\n",
      "Roo_R1_trimmed.split.fastq9008\n",
      "Roo_R1_trimmed.split.fastq9009\n",
      "Roo_R1_trimmed.split.fastq9010\n",
      "Roo_R1_trimmed.split.fastq9011\n",
      "Roo_R1_trimmed.split.fastq9012\n",
      "Roo_R1_trimmed.split.fastq9013\n",
      "Roo_R1_trimmed.split.fastq9014\n",
      "Roo_R1_trimmed.split.fastq9015\n",
      "Roo_R1_trimmed.split.fastq9016\n",
      "Roo_R1_trimmed.split.fastq9017\n",
      "Roo_R1_trimmed.split.fastq9018\n",
      "Roo_R1_trimmed.split.fastq9019\n",
      "Roo_R1_trimmed.split.fastq9020\n",
      "Roo_R1_trimmed.split.fastq9021\n",
      "Roo_R1_trimmed.split.fastq9022\n",
      "Roo_R1_trimmed.split.fastq9023\n",
      "Roo_R1_trimmed.split.fastq9024\n",
      "Roo_R1_trimmed.split.fastq9025\n",
      "Roo_R1_trimmed.split.fastq9026\n",
      "Roo_R1_trimmed.split.fastq9027\n",
      "Roo_R1_trimmed.split.fastq9028\n",
      "Roo_R1_trimmed.split.fastq9029\n",
      "Roo_R1_trimmed.split.fastq9030\n",
      "Roo_R1_trimmed.split.fastq9031\n",
      "Roo_R1_trimmed.split.fastq9032\n",
      "Roo_R1_trimmed.split.fastq9033\n",
      "Roo_R1_trimmed.split.fastq9034\n",
      "Roo_R1_trimmed.split.fastq9035\n",
      "Roo_R1_trimmed.split.fastq9036\n",
      "Roo_R1_trimmed.split.fastq9037\n",
      "Roo_R1_trimmed.split.fastq9038\n",
      "Roo_R1_trimmed.split.fastq9039\n",
      "Roo_R1_trimmed.split.fastq9040\n",
      "Roo_R1_trimmed.split.fastq9041\n",
      "Roo_R1_trimmed.split.fastq9042\n",
      "Roo_R1_trimmed.split.fastq9043\n",
      "Roo_R1_trimmed.split.fastq9044\n",
      "Roo_R1_trimmed.split.fastq9045\n",
      "Roo_R1_trimmed.split.fastq9046\n",
      "Roo_R1_trimmed.split.fastq9047\n",
      "Roo_R1_trimmed.split.fastq9048\n",
      "Roo_R1_trimmed.split.fastq9049\n",
      "Roo_R1_trimmed.split.fastq9050\n",
      "Roo_R1_trimmed.split.fastq9051\n",
      "Roo_R1_trimmed.split.fastq9052\n",
      "Roo_R1_trimmed.split.fastq9053\n",
      "Roo_R1_trimmed.split.fastq9054\n",
      "Roo_R1_trimmed.split.fastq9055\n",
      "Roo_R2_trimmed.split.fastq00\n",
      "Roo_R2_trimmed.split.fastq01\n",
      "Roo_R2_trimmed.split.fastq02\n",
      "Roo_R2_trimmed.split.fastq03\n",
      "Roo_R2_trimmed.split.fastq04\n",
      "Roo_R2_trimmed.split.fastq05\n",
      "Roo_R2_trimmed.split.fastq06\n",
      "Roo_R2_trimmed.split.fastq07\n",
      "Roo_R2_trimmed.split.fastq08\n",
      "Roo_R2_trimmed.split.fastq09\n",
      "Roo_R2_trimmed.split.fastq10\n",
      "Roo_R2_trimmed.split.fastq11\n",
      "Roo_R2_trimmed.split.fastq12\n",
      "Roo_R2_trimmed.split.fastq13\n",
      "Roo_R2_trimmed.split.fastq14\n",
      "Roo_R2_trimmed.split.fastq15\n",
      "Roo_R2_trimmed.split.fastq16\n",
      "Roo_R2_trimmed.split.fastq17\n",
      "Roo_R2_trimmed.split.fastq18\n",
      "Roo_R2_trimmed.split.fastq19\n",
      "Roo_R2_trimmed.split.fastq20\n",
      "Roo_R2_trimmed.split.fastq21\n",
      "Roo_R2_trimmed.split.fastq22\n",
      "Roo_R2_trimmed.split.fastq23\n",
      "Roo_R2_trimmed.split.fastq24\n",
      "Roo_R2_trimmed.split.fastq25\n",
      "Roo_R2_trimmed.split.fastq26\n",
      "Roo_R2_trimmed.split.fastq27\n",
      "Roo_R2_trimmed.split.fastq28\n",
      "Roo_R2_trimmed.split.fastq29\n",
      "Roo_R2_trimmed.split.fastq30\n",
      "Roo_R2_trimmed.split.fastq31\n",
      "Roo_R2_trimmed.split.fastq32\n",
      "Roo_R2_trimmed.split.fastq33\n",
      "Roo_R2_trimmed.split.fastq34\n",
      "Roo_R2_trimmed.split.fastq35\n",
      "Roo_R2_trimmed.split.fastq36\n",
      "Roo_R2_trimmed.split.fastq37\n",
      "Roo_R2_trimmed.split.fastq38\n",
      "Roo_R2_trimmed.split.fastq39\n",
      "Roo_R2_trimmed.split.fastq40\n",
      "Roo_R2_trimmed.split.fastq41\n",
      "Roo_R2_trimmed.split.fastq42\n",
      "Roo_R2_trimmed.split.fastq43\n",
      "Roo_R2_trimmed.split.fastq44\n",
      "Roo_R2_trimmed.split.fastq45\n",
      "Roo_R2_trimmed.split.fastq46\n",
      "Roo_R2_trimmed.split.fastq47\n",
      "Roo_R2_trimmed.split.fastq48\n",
      "Roo_R2_trimmed.split.fastq49\n",
      "Roo_R2_trimmed.split.fastq50\n",
      "Roo_R2_trimmed.split.fastq51\n",
      "Roo_R2_trimmed.split.fastq52\n",
      "Roo_R2_trimmed.split.fastq53\n",
      "Roo_R2_trimmed.split.fastq54\n",
      "Roo_R2_trimmed.split.fastq55\n",
      "Roo_R2_trimmed.split.fastq56\n",
      "Roo_R2_trimmed.split.fastq57\n",
      "Roo_R2_trimmed.split.fastq58\n",
      "Roo_R2_trimmed.split.fastq59\n",
      "Roo_R2_trimmed.split.fastq60\n",
      "Roo_R2_trimmed.split.fastq61\n",
      "Roo_R2_trimmed.split.fastq62\n",
      "Roo_R2_trimmed.split.fastq63\n",
      "Roo_R2_trimmed.split.fastq64\n",
      "Roo_R2_trimmed.split.fastq65\n",
      "Roo_R2_trimmed.split.fastq66\n",
      "Roo_R2_trimmed.split.fastq67\n",
      "Roo_R2_trimmed.split.fastq68\n",
      "Roo_R2_trimmed.split.fastq69\n",
      "Roo_R2_trimmed.split.fastq70\n",
      "Roo_R2_trimmed.split.fastq71\n",
      "Roo_R2_trimmed.split.fastq72\n",
      "Roo_R2_trimmed.split.fastq73\n",
      "Roo_R2_trimmed.split.fastq74\n",
      "Roo_R2_trimmed.split.fastq75\n",
      "Roo_R2_trimmed.split.fastq76\n",
      "Roo_R2_trimmed.split.fastq77\n",
      "Roo_R2_trimmed.split.fastq78\n",
      "Roo_R2_trimmed.split.fastq79\n",
      "Roo_R2_trimmed.split.fastq80\n",
      "Roo_R2_trimmed.split.fastq81\n",
      "Roo_R2_trimmed.split.fastq82\n",
      "Roo_R2_trimmed.split.fastq83\n",
      "Roo_R2_trimmed.split.fastq84\n",
      "Roo_R2_trimmed.split.fastq85\n",
      "Roo_R2_trimmed.split.fastq86\n",
      "Roo_R2_trimmed.split.fastq87\n",
      "Roo_R2_trimmed.split.fastq88\n",
      "Roo_R2_trimmed.split.fastq89\n",
      "Roo_R2_trimmed.split.fastq9000\n",
      "Roo_R2_trimmed.split.fastq9001\n",
      "Roo_R2_trimmed.split.fastq9002\n",
      "Roo_R2_trimmed.split.fastq9003\n",
      "Roo_R2_trimmed.split.fastq9004\n",
      "Roo_R2_trimmed.split.fastq9005\n",
      "Roo_R2_trimmed.split.fastq9006\n",
      "Roo_R2_trimmed.split.fastq9007\n",
      "Roo_R2_trimmed.split.fastq9008\n",
      "Roo_R2_trimmed.split.fastq9009\n",
      "Roo_R2_trimmed.split.fastq9010\n",
      "Roo_R2_trimmed.split.fastq9011\n",
      "Roo_R2_trimmed.split.fastq9012\n",
      "Roo_R2_trimmed.split.fastq9013\n",
      "Roo_R2_trimmed.split.fastq9014\n",
      "Roo_R2_trimmed.split.fastq9015\n",
      "Roo_R2_trimmed.split.fastq9016\n",
      "Roo_R2_trimmed.split.fastq9017\n",
      "Roo_R2_trimmed.split.fastq9018\n",
      "Roo_R2_trimmed.split.fastq9019\n",
      "Roo_R2_trimmed.split.fastq9020\n",
      "Roo_R2_trimmed.split.fastq9021\n",
      "Roo_R2_trimmed.split.fastq9022\n",
      "Roo_R2_trimmed.split.fastq9023\n",
      "Roo_R2_trimmed.split.fastq9024\n",
      "Roo_R2_trimmed.split.fastq9025\n",
      "Roo_R2_trimmed.split.fastq9026\n",
      "Roo_R2_trimmed.split.fastq9027\n",
      "Roo_R2_trimmed.split.fastq9028\n",
      "Roo_R2_trimmed.split.fastq9029\n",
      "Roo_R2_trimmed.split.fastq9030\n",
      "Roo_R2_trimmed.split.fastq9031\n",
      "Roo_R2_trimmed.split.fastq9032\n",
      "Roo_R2_trimmed.split.fastq9033\n",
      "Roo_R2_trimmed.split.fastq9034\n",
      "Roo_R2_trimmed.split.fastq9035\n",
      "Roo_R2_trimmed.split.fastq9036\n",
      "Roo_R2_trimmed.split.fastq9037\n",
      "Roo_R2_trimmed.split.fastq9038\n",
      "Roo_R2_trimmed.split.fastq9039\n"
     ]
    },
    {
     "name": "stdout",
     "output_type": "stream",
     "text": [
      "Roo_R2_trimmed.split.fastq9040\n",
      "Roo_R2_trimmed.split.fastq9041\n",
      "Roo_R2_trimmed.split.fastq9042\n",
      "Roo_R2_trimmed.split.fastq9043\n",
      "Roo_R2_trimmed.split.fastq9044\n",
      "Roo_R2_trimmed.split.fastq9045\n",
      "Roo_R2_trimmed.split.fastq9046\n",
      "Roo_R2_trimmed.split.fastq9047\n",
      "Roo_R2_trimmed.split.fastq9048\n",
      "Roo_R2_trimmed.split.fastq9049\n",
      "Roo_R2_trimmed.split.fastq9050\n",
      "Roo_R2_trimmed.split.fastq9051\n",
      "Roo_R2_trimmed.split.fastq9052\n",
      "Roo_R2_trimmed.split.fastq9053\n",
      "Roo_R2_trimmed.split.fastq9054\n",
      "Roo_R2_trimmed.split.fastq9055\n"
     ]
    }
   ],
   "source": [
    "cat leafSplitLs.txt"
   ]
  },
  {
   "cell_type": "markdown",
   "metadata": {},
   "source": [
    "Merge these:"
   ]
  },
  {
   "cell_type": "code",
   "execution_count": null,
   "metadata": {},
   "outputs": [],
   "source": [
    "for forward in *_R1_*; do\n",
    "    #ls $forward\n",
    "    reverse=${forward/_R1_/_R2_}\n",
    "    usearch -fastq_mergepairs $forward \\\n",
    "        -reverse $reverse \\\n",
    "        -fastq_maxdiffpct 40 \\\n",
    "        -alnout aln_3.txt \\ ## oops, fix this if reused\n",
    "        -report ../reports/$forward.report.txt \\\n",
    "        -fastqout ../merged/$forward.merged.fastq\n",
    "    #ls $reverse\n",
    "done"
   ]
  },
  {
   "cell_type": "markdown",
   "metadata": {},
   "source": [
    "And put them back together."
   ]
  },
  {
   "cell_type": "code",
   "execution_count": null,
   "metadata": {},
   "outputs": [],
   "source": [
    "cd /home/daniel/Documents/submissions/taibioinfo/taiwan_combined_biom/trimmed_wood/merged\n",
    "\n",
    "cat * > leaf_trimmed_merged.fastq"
   ]
  },
  {
   "cell_type": "markdown",
   "metadata": {},
   "source": [
    "<a id='mergeWood'><h4>Wood reads</h4></a>"
   ]
  },
  {
   "cell_type": "markdown",
   "metadata": {},
   "source": [
    "We don't have the same issue on the wood, because they are already demultiplexed, and the 32-bit version of usearch can handle these smaller files fine:"
   ]
  },
  {
   "cell_type": "code",
   "execution_count": null,
   "metadata": {},
   "outputs": [],
   "source": [
    "for forward in *fastq; do\n",
    "    ls -l $forward\n",
    "    reverse=\"../R2/${forward/R1/R2}\"\n",
    "    usearch -fastq_mergepairs $forward \\\n",
    "        -reverse $reverse \\\n",
    "        -fastq_maxdiffpct 40 \\\n",
    "        -alnout aln_3.txt \\ ## oops, fix this if reused\n",
    "        -report ../reports/$forward.report.txt \\\n",
    "        -fastqout ./$forward.merged.fastq\n",
    "    echo $reverse\n",
    "done"
   ]
  },
  {
   "cell_type": "markdown",
   "metadata": {},
   "source": [
    "<a id='visMerge'><h3>Visualizing merged read qualities</h3></a>"
   ]
  },
  {
   "cell_type": "markdown",
   "metadata": {},
   "source": [
    "<a id='makeQcharts'><h4>Make quality score charts</h4></a>  \n",
    "Let's make some charts of our read quality, using fastx tools. First, compile the stats on each basepair:"
   ]
  },
  {
   "cell_type": "code",
   "execution_count": null,
   "metadata": {},
   "outputs": [],
   "source": [
    "#!/usr/bin/env bash\n",
    "\n",
    "## leaf reads\n",
    "\n",
    "cd /home/daniel/Documents/submissions/taibioinfo/taiwan_combined_biom/qCharts/leaf\n",
    "\n",
    "rawLeafReadsR1=\"/home/daniel/Documents/taiwan_supp/roo_reads/TaiwanFA_R1.fastq\"\n",
    "rawLeafReadsR2=\"/home/daniel/Documents/taiwan_supp/roo_reads/TaiwanFA_R2.fastq\"\n",
    "trimmedLeafReadsR1=\"/home/daniel/Documents/submissions/taibioinfo/taiwan_combined_biom/trim_leaves/Roo_R1_trimmed.fastq\"\n",
    "trimmedLeafReadsR2=\"/home/daniel/Documents/submissions/taibioinfo/taiwan_combined_biom/trim_leaves/Roo_R2_trimmed.fastq\"\n",
    "leafmerg=\"/home/daniel/Documents/submissions/taibioinfo/taiwan_combined_biom/trim_leaves/merged/leaf_trimmed_merged.fastq\"\n",
    "\n",
    "## leaf quality stats:\n",
    "fastx_quality_stats -i $rawLeafReadsR1 -o rawLeafReadsR1_fastxstats.txt\n",
    "fastx_quality_stats -i $rawLeafReadsR2 -o rawLeafReadsR2_fastxstats.txt\n",
    "fastx_quality_stats -i $trimmedLeafReadsR1 -o trimmedLeafReadsR1_fastxstats.txt\n",
    "fastx_quality_stats -i $trimmedLeafReadsR2 -o trimmedLeafReadsR2_fastxstats.txt\n",
    "fastx_quality_stats -i $leafmerg -o leafmerged_fastxstats.txt"
   ]
  },
  {
   "cell_type": "markdown",
   "metadata": {},
   "source": [
    "For the wood, to visualize them as a whole, we'll combine reads of the steps we've done so far:"
   ]
  },
  {
   "cell_type": "code",
   "execution_count": null,
   "metadata": {},
   "outputs": [],
   "source": [
    "cat /home/daniel/Documents/taiwan_supp/wood_reads/*R1* > /home/daniel/Documents/submissions/taibioinfo/taiwan_combined_biom/rawWoodReadsR1.fastq\n",
    "\n",
    "cat /home/daniel/Documents/taiwan_supp/wood_reads/*R2* > /home/daniel/Documents/submissions/taibioinfo/taiwan_combined_biom/rawWoodReadsR2.fastq\n",
    "\n",
    "cat /home/daniel/Documents/submissions/taibioinfo/taiwan_combined_biom/trimmed_wood/R1/* > /home/daniel/Documents/submissions/taibioinfo/taiwan_combined_biom/trimmedWoodR1.fastq\n",
    "\n",
    "cat /home/daniel/Documents/submissions/taibioinfo/taiwan_combined_biom/trimmed_wood/R2/* > /home/daniel/Documents/submissions/taibioinfo/taiwan_combined_biom/trimmedWoodR2.fastq\n",
    "\n",
    "cat /home/daniel/Documents/submissions/taibioinfo/taiwan_combined_biom/trimmed_wood/merged/* > /home/daniel/Documents/submissions/taibioinfo/taiwan_combined_biom/woodMerged.fastq\n"
   ]
  },
  {
   "cell_type": "markdown",
   "metadata": {},
   "source": [
    "Compile the stats for these combined wood files:"
   ]
  },
  {
   "cell_type": "code",
   "execution_count": null,
   "metadata": {},
   "outputs": [],
   "source": [
    "#!/usr/bin/env bash\n",
    "\n",
    "cd /home/daniel/Documents/submissions/taibioinfo/taiwan_combined_biom\n",
    "\n",
    "fastx_quality_stats -i rawWoodReadsR1.fastq -o qCharts/wood/rawWoodReadsR1_fastxstats.txt\n",
    "fastx_quality_stats -i rawWoodReadsR2.fastq -o qCharts/wood/rawWoodReadsR2_fastxstats.txt\n",
    "fastx_quality_stats -i trimmedWoodR1.fastq -o qCharts/wood/trimmedWoodR1_fastxstats.txt\n",
    "fastx_quality_stats -i trimmedWoodR2.fastq -o qCharts/wood/trimmedWoodR2_fastxstats.txt\n",
    "fastx_quality_stats -i woodMerged.fastq -o qCharts/wood/woodMerged_fastxstats.txt"
   ]
  },
  {
   "cell_type": "markdown",
   "metadata": {},
   "source": [
    "Then make the actual graphics."
   ]
  },
  {
   "cell_type": "code",
   "execution_count": null,
   "metadata": {},
   "outputs": [],
   "source": [
    "cd /home/daniel/Documents/submissions/taibioinfo/taiwan_combined_biom/qCharts\n",
    "\n",
    "cd leaf\n",
    "\n",
    "for i in *; do\n",
    "    ../dan_fastx_plot.sh -i $i -o ${i/\\.txt/\\.png}\n",
    "done\n",
    "\n",
    "cd ../wood\n",
    "\n",
    "for i in *; do\n",
    "    ../dan_fastx_plot.sh -i $i -o ${i/\\.txt/\\.png}\n",
    "done"
   ]
  },
  {
   "cell_type": "markdown",
   "metadata": {},
   "source": [
    "<a id='leafReadScores'><h4>Leaf read qualities</h4></a>"
   ]
  },
  {
   "cell_type": "markdown",
   "metadata": {},
   "source": [
    "Forward raw reads:\n",
    "\n",
    "![](rawLeafReadsR2_fastxstats.png)"
   ]
  },
  {
   "cell_type": "markdown",
   "metadata": {},
   "source": [
    "Reverse raw Leaf reads.\n",
    "![](rawLeafReadsR1_fastxstats.png)"
   ]
  },
  {
   "cell_type": "markdown",
   "metadata": {},
   "source": [
    "Forward trimmed Leaf reads.\n",
    "![](trimmedLeafReadsR2_fastxstats.png)"
   ]
  },
  {
   "cell_type": "markdown",
   "metadata": {},
   "source": [
    "Reverse trimmed Leaf reads.\n",
    "![](trimmedLeafReadsR1_fastxstats.png)"
   ]
  },
  {
   "cell_type": "markdown",
   "metadata": {},
   "source": [
    "And the merged leaf reads.\n",
    "![](leafmerged_fastxstats.png)"
   ]
  },
  {
   "cell_type": "markdown",
   "metadata": {},
   "source": [
    "<a id='woodReadScores'><h4>Wood read qualities</h4></a>"
   ]
  },
  {
   "cell_type": "markdown",
   "metadata": {},
   "source": [
    "Wood raw forward reads:\n",
    "![](rawWoodReadsR1_fastxstats.png)"
   ]
  },
  {
   "cell_type": "markdown",
   "metadata": {},
   "source": [
    "Wood raw reverse reads:\n",
    "![](rawWoodReadsR2_fastxstats.png)"
   ]
  },
  {
   "cell_type": "markdown",
   "metadata": {},
   "source": [
    "Wood trimmed forward reads:\n",
    "![](rawWoodReadsR1_fastxstats.png)"
   ]
  },
  {
   "cell_type": "markdown",
   "metadata": {},
   "source": [
    "Wood trimmed reverse reads:\n",
    "![](rawWoodReadsR2_fastxstats.png)"
   ]
  },
  {
   "cell_type": "markdown",
   "metadata": {},
   "source": [
    "Wood merged reads:\n",
    "![](woodMerged_fastxstats.png)"
   ]
  },
  {
   "cell_type": "code",
   "execution_count": null,
   "metadata": {},
   "outputs": [],
   "source": []
  }
 ],
 "metadata": {
  "kernelspec": {
   "display_name": "Bash",
   "language": "bash",
   "name": "bash"
  },
  "language_info": {
   "codemirror_mode": "shell",
   "file_extension": ".sh",
   "mimetype": "text/x-sh",
   "name": "bash"
  }
 },
 "nbformat": 4,
 "nbformat_minor": 1
}
