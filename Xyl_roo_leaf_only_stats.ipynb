{
 "cells": [
  {
   "cell_type": "markdown",
   "metadata": {},
   "source": [
    "# Xylariaceae analysis, take 2"
   ]
  },
  {
   "cell_type": "markdown",
   "metadata": {},
   "source": [
    "We're going to do our RDA analysis using a biom table that contains only fungi that were very strictly assigned to our stomatal sequences. Since the focus is on ecological patterns in our leaf data, and meant to augment Roo's single variate, Nearest-Neighbor spatial analysis, we'll use his otu tables. "
   ]
  },
  {
   "cell_type": "markdown",
   "metadata": {},
   "source": [
    "<a id='contents'></a>"
   ]
  },
  {
   "cell_type": "markdown",
   "metadata": {},
   "source": [
    "## Contents\n",
    "\n",
    "[Importing otu tables and setup](#import)  \n",
    "[Formatting inputs for RDA](#rdaprep)  \n",
    "[Transforming data for RDA](#transform)  \n",
    "[Redundancy analysis](#rda)  \n",
    "[Graphics](#graphics)"
   ]
  },
  {
   "cell_type": "markdown",
   "metadata": {},
   "source": [
    "<a id='import'></a>"
   ]
  },
  {
   "cell_type": "markdown",
   "metadata": {},
   "source": [
    "## Importing otu tables and setup"
   ]
  },
  {
   "cell_type": "markdown",
   "metadata": {},
   "source": [
    "Let's get the proper packages and import our biom table."
   ]
  },
  {
   "cell_type": "code",
   "execution_count": 1,
   "metadata": {
    "collapsed": false,
    "scrolled": true
   },
   "outputs": [
    {
     "name": "stderr",
     "output_type": "stream",
     "text": [
      "Loading required package: permute\n",
      "Loading required package: lattice\n",
      "This is vegan 2.4-1\n"
     ]
    }
   ],
   "source": [
    "library('repr')\n",
    "library('vegan')"
   ]
  },
  {
   "cell_type": "markdown",
   "metadata": {},
   "source": [
    "Import our leaf endophyte OTU table. Negative controls have been used to \"clean\" the other samples, and the reads have been variance-stabilized using DESeq, prior to delivery. "
   ]
  },
  {
   "cell_type": "code",
   "execution_count": 2,
   "metadata": {
    "collapsed": false
   },
   "outputs": [],
   "source": [
    "roocsv <- read.csv(file='roo_leaf_endos.csv', stringsAsFactors=FALSE)\n",
    "endos <- roocsv"
   ]
  },
  {
   "cell_type": "code",
   "execution_count": 3,
   "metadata": {
    "collapsed": false
   },
   "outputs": [
    {
     "data": {
      "text/html": [
       "<table>\n",
       "<thead><tr><th scope=col>Plot.ID</th><th scope=col>A_aff_atroroseum</th><th scope=col>A_aff_stygium</th><th scope=col>A_atroroseum</th><th scope=col>A_bovei_var_microspora</th></tr></thead>\n",
       "<tbody>\n",
       "\t<tr><td>1 </td><td> 0</td><td> 0</td><td> 0</td><td> 0</td></tr>\n",
       "\t<tr><td>2 </td><td> 0</td><td> 0</td><td> 0</td><td> 0</td></tr>\n",
       "\t<tr><td>3 </td><td>NA</td><td>NA</td><td>NA</td><td>NA</td></tr>\n",
       "\t<tr><td>4 </td><td> 0</td><td> 0</td><td> 0</td><td> 0</td></tr>\n",
       "\t<tr><td>5 </td><td> 0</td><td> 0</td><td> 0</td><td> 0</td></tr>\n",
       "</tbody>\n",
       "</table>\n"
      ],
      "text/latex": [
       "\\begin{tabular}{r|lllll}\n",
       " Plot.ID & A\\_aff\\_atroroseum & A\\_aff\\_stygium & A\\_atroroseum & A\\_bovei\\_var\\_microspora\\\\\n",
       "\\hline\n",
       "\t 1  &  0 &  0 &  0 &  0\\\\\n",
       "\t 2  &  0 &  0 &  0 &  0\\\\\n",
       "\t 3  & NA & NA & NA & NA\\\\\n",
       "\t 4  &  0 &  0 &  0 &  0\\\\\n",
       "\t 5  &  0 &  0 &  0 &  0\\\\\n",
       "\\end{tabular}\n"
      ],
      "text/plain": [
       "  Plot.ID A_aff_atroroseum A_aff_stygium A_atroroseum A_bovei_var_microspora\n",
       "1 1        0                0             0            0                    \n",
       "2 2        0                0             0            0                    \n",
       "3 3       NA               NA            NA           NA                    \n",
       "4 4        0                0             0            0                    \n",
       "5 5        0                0             0            0                    "
      ]
     },
     "metadata": {},
     "output_type": "display_data"
    }
   ],
   "source": [
    "endos[1:5,1:5]"
   ]
  },
  {
   "cell_type": "markdown",
   "metadata": {},
   "source": [
    "NA rows are where amplification failed. We got rid of the first column, Plot.ID, because this is redundant with the row numbers, and will cause problems with the RDA downstream. Also we still have a negative control here, we'll remove it. "
   ]
  },
  {
   "cell_type": "code",
   "execution_count": 4,
   "metadata": {
    "collapsed": true
   },
   "outputs": [],
   "source": [
    "endos <- endos[,-1]\n",
    "endos <- endos[-134,] ## get rid of negative control"
   ]
  },
  {
   "cell_type": "markdown",
   "metadata": {},
   "source": [
    "And get our stromatal matrix. The [rda()](https://cran.r-project.org/web/packages/vegan/vignettes/intro-vegan.pdf) function likes a community matrix, and a dataframe of constraining explanatory variables. So the endos stay as a dataframe object, and the stromata as a matrix."
   ]
  },
  {
   "cell_type": "code",
   "execution_count": 5,
   "metadata": {
    "collapsed": true
   },
   "outputs": [],
   "source": [
    "stromata <- read.csv(file='stromata.csv', stringsAsFactors=FALSE) \n",
    "stromata <- as.matrix(stromata[,-1]) ## remove plot name column, cuz it screws up conversion to matrix format"
   ]
  },
  {
   "cell_type": "code",
   "execution_count": 6,
   "metadata": {
    "collapsed": false,
    "scrolled": true
   },
   "outputs": [
    {
     "data": {
      "text/html": [
       "<table>\n",
       "<thead><tr><th scope=col>A_aff_atroroseum</th><th scope=col>A_aff_stygium</th><th scope=col>A_atroroseum</th><th scope=col>A_bovei_var_microspora</th><th scope=col>A_moriforme</th></tr></thead>\n",
       "<tbody>\n",
       "\t<tr><td>0</td><td>0</td><td>0</td><td>0</td><td>0</td></tr>\n",
       "\t<tr><td>0</td><td>0</td><td>0</td><td>0</td><td>0</td></tr>\n",
       "\t<tr><td>0</td><td>0</td><td>0</td><td>0</td><td>0</td></tr>\n",
       "\t<tr><td>0</td><td>0</td><td>0</td><td>0</td><td>0</td></tr>\n",
       "\t<tr><td>0</td><td>0</td><td>0</td><td>0</td><td>0</td></tr>\n",
       "\t<tr><td>0</td><td>0</td><td>0</td><td>0</td><td>0</td></tr>\n",
       "\t<tr><td>0</td><td>0</td><td>0</td><td>0</td><td>0</td></tr>\n",
       "\t<tr><td>0</td><td>0</td><td>0</td><td>0</td><td>0</td></tr>\n",
       "\t<tr><td>0</td><td>0</td><td>0</td><td>0</td><td>0</td></tr>\n",
       "\t<tr><td>0</td><td>0</td><td>0</td><td>0</td><td>0</td></tr>\n",
       "</tbody>\n",
       "</table>\n"
      ],
      "text/latex": [
       "\\begin{tabular}{lllll}\n",
       " A\\_aff\\_atroroseum & A\\_aff\\_stygium & A\\_atroroseum & A\\_bovei\\_var\\_microspora & A\\_moriforme\\\\\n",
       "\\hline\n",
       "\t 0 & 0 & 0 & 0 & 0\\\\\n",
       "\t 0 & 0 & 0 & 0 & 0\\\\\n",
       "\t 0 & 0 & 0 & 0 & 0\\\\\n",
       "\t 0 & 0 & 0 & 0 & 0\\\\\n",
       "\t 0 & 0 & 0 & 0 & 0\\\\\n",
       "\t 0 & 0 & 0 & 0 & 0\\\\\n",
       "\t 0 & 0 & 0 & 0 & 0\\\\\n",
       "\t 0 & 0 & 0 & 0 & 0\\\\\n",
       "\t 0 & 0 & 0 & 0 & 0\\\\\n",
       "\t 0 & 0 & 0 & 0 & 0\\\\\n",
       "\\end{tabular}\n"
      ],
      "text/markdown": [
       "1. 0\n",
       "2. 0\n",
       "3. 0\n",
       "4. 0\n",
       "5. 0\n",
       "6. 0\n",
       "7. 0\n",
       "8. 0\n",
       "9. 0\n",
       "10. 0\n",
       "11. 0\n",
       "12. 0\n",
       "13. 0\n",
       "14. 0\n",
       "15. 0\n",
       "16. 0\n",
       "17. 0\n",
       "18. 0\n",
       "19. 0\n",
       "20. 0\n",
       "21. 0\n",
       "22. 0\n",
       "23. 0\n",
       "24. 0\n",
       "25. 0\n",
       "26. 0\n",
       "27. 0\n",
       "28. 0\n",
       "29. 0\n",
       "30. 0\n",
       "31. 0\n",
       "32. 0\n",
       "33. 0\n",
       "34. 0\n",
       "35. 0\n",
       "36. 0\n",
       "37. 0\n",
       "38. 0\n",
       "39. 0\n",
       "40. 0\n",
       "41. 0\n",
       "42. 0\n",
       "43. 0\n",
       "44. 0\n",
       "45. 0\n",
       "46. 0\n",
       "47. 0\n",
       "48. 0\n",
       "49. 0\n",
       "50. 0\n",
       "\n",
       "\n"
      ],
      "text/plain": [
       "      A_aff_atroroseum A_aff_stygium A_atroroseum A_bovei_var_microspora\n",
       " [1,] 0                0             0            0                     \n",
       " [2,] 0                0             0            0                     \n",
       " [3,] 0                0             0            0                     \n",
       " [4,] 0                0             0            0                     \n",
       " [5,] 0                0             0            0                     \n",
       " [6,] 0                0             0            0                     \n",
       " [7,] 0                0             0            0                     \n",
       " [8,] 0                0             0            0                     \n",
       " [9,] 0                0             0            0                     \n",
       "[10,] 0                0             0            0                     \n",
       "      A_moriforme\n",
       " [1,] 0          \n",
       " [2,] 0          \n",
       " [3,] 0          \n",
       " [4,] 0          \n",
       " [5,] 0          \n",
       " [6,] 0          \n",
       " [7,] 0          \n",
       " [8,] 0          \n",
       " [9,] 0          \n",
       "[10,] 0          "
      ]
     },
     "metadata": {},
     "output_type": "display_data"
    }
   ],
   "source": [
    "stromata[1:10,1:5]"
   ]
  },
  {
   "cell_type": "markdown",
   "metadata": {},
   "source": [
    "Name rows:"
   ]
  },
  {
   "cell_type": "code",
   "execution_count": 7,
   "metadata": {
    "collapsed": true
   },
   "outputs": [],
   "source": [
    "rownames(stromata) <- rownames(endos) <- 1:133"
   ]
  },
  {
   "cell_type": "code",
   "execution_count": 8,
   "metadata": {
    "collapsed": false,
    "scrolled": true
   },
   "outputs": [
    {
     "data": {
      "text/html": [
       "<table>\n",
       "<thead><tr><th></th><th scope=col>A_aff_atroroseum</th><th scope=col>A_aff_stygium</th><th scope=col>A_atroroseum</th></tr></thead>\n",
       "<tbody>\n",
       "\t<tr><th scope=row>1</th><td>0</td><td>0</td><td>0</td></tr>\n",
       "\t<tr><th scope=row>2</th><td>0</td><td>0</td><td>0</td></tr>\n",
       "\t<tr><th scope=row>3</th><td>0</td><td>0</td><td>0</td></tr>\n",
       "</tbody>\n",
       "</table>\n"
      ],
      "text/latex": [
       "\\begin{tabular}{r|lll}\n",
       "  & A\\_aff\\_atroroseum & A\\_aff\\_stygium & A\\_atroroseum\\\\\n",
       "\\hline\n",
       "\t1 & 0 & 0 & 0\\\\\n",
       "\t2 & 0 & 0 & 0\\\\\n",
       "\t3 & 0 & 0 & 0\\\\\n",
       "\\end{tabular}\n"
      ],
      "text/markdown": [
       "1. 0\n",
       "2. 0\n",
       "3. 0\n",
       "4. 0\n",
       "5. 0\n",
       "6. 0\n",
       "7. 0\n",
       "8. 0\n",
       "9. 0\n",
       "\n",
       "\n"
      ],
      "text/plain": [
       "  A_aff_atroroseum A_aff_stygium A_atroroseum\n",
       "1 0                0             0           \n",
       "2 0                0             0           \n",
       "3 0                0             0           "
      ]
     },
     "metadata": {},
     "output_type": "display_data"
    }
   ],
   "source": [
    "stromata[1:3,1:3]"
   ]
  },
  {
   "cell_type": "code",
   "execution_count": 9,
   "metadata": {
    "collapsed": false,
    "scrolled": true
   },
   "outputs": [
    {
     "data": {
      "text/html": [
       "<table>\n",
       "<thead><tr><th scope=col>A_aff_atroroseum</th><th scope=col>A_aff_stygium</th><th scope=col>A_atroroseum</th></tr></thead>\n",
       "<tbody>\n",
       "\t<tr><td> 0</td><td> 0</td><td> 0</td></tr>\n",
       "\t<tr><td> 0</td><td> 0</td><td> 0</td></tr>\n",
       "\t<tr><td>NA</td><td>NA</td><td>NA</td></tr>\n",
       "</tbody>\n",
       "</table>\n"
      ],
      "text/latex": [
       "\\begin{tabular}{r|lll}\n",
       " A\\_aff\\_atroroseum & A\\_aff\\_stygium & A\\_atroroseum\\\\\n",
       "\\hline\n",
       "\t  0 &  0 &  0\\\\\n",
       "\t  0 &  0 &  0\\\\\n",
       "\t NA & NA & NA\\\\\n",
       "\\end{tabular}\n"
      ],
      "text/plain": [
       "  A_aff_atroroseum A_aff_stygium A_atroroseum\n",
       "1  0                0             0          \n",
       "2  0                0             0          \n",
       "3 NA               NA            NA          "
      ]
     },
     "metadata": {},
     "output_type": "display_data"
    }
   ],
   "source": [
    "endos[1:3,1:3]"
   ]
  },
  {
   "cell_type": "markdown",
   "metadata": {},
   "source": [
    "Not trying to be to anal here, but we need to be careful. Check to make sure column names match and the row names are the same and in the same order:"
   ]
  },
  {
   "cell_type": "code",
   "execution_count": 10,
   "metadata": {
    "collapsed": false,
    "scrolled": true
   },
   "outputs": [
    {
     "data": {
      "text/html": [
       "<ol class=list-inline>\n",
       "\t<li>TRUE</li>\n",
       "\t<li>TRUE</li>\n",
       "\t<li>TRUE</li>\n",
       "\t<li>TRUE</li>\n",
       "\t<li>TRUE</li>\n",
       "\t<li>TRUE</li>\n",
       "\t<li>TRUE</li>\n",
       "\t<li>TRUE</li>\n",
       "\t<li>TRUE</li>\n",
       "\t<li>TRUE</li>\n",
       "\t<li>TRUE</li>\n",
       "\t<li>TRUE</li>\n",
       "\t<li>TRUE</li>\n",
       "\t<li>TRUE</li>\n",
       "\t<li>TRUE</li>\n",
       "\t<li>TRUE</li>\n",
       "\t<li>TRUE</li>\n",
       "\t<li>TRUE</li>\n",
       "\t<li>TRUE</li>\n",
       "\t<li>TRUE</li>\n",
       "\t<li>TRUE</li>\n",
       "\t<li>TRUE</li>\n",
       "\t<li>TRUE</li>\n",
       "\t<li>TRUE</li>\n",
       "\t<li>TRUE</li>\n",
       "\t<li>TRUE</li>\n",
       "\t<li>TRUE</li>\n",
       "\t<li>TRUE</li>\n",
       "\t<li>TRUE</li>\n",
       "\t<li>TRUE</li>\n",
       "\t<li>TRUE</li>\n",
       "\t<li>TRUE</li>\n",
       "\t<li>TRUE</li>\n",
       "\t<li>TRUE</li>\n",
       "\t<li>TRUE</li>\n",
       "\t<li>TRUE</li>\n",
       "\t<li>TRUE</li>\n",
       "\t<li>TRUE</li>\n",
       "\t<li>TRUE</li>\n",
       "\t<li>TRUE</li>\n",
       "\t<li>TRUE</li>\n",
       "\t<li>TRUE</li>\n",
       "\t<li>TRUE</li>\n",
       "\t<li>TRUE</li>\n",
       "\t<li>TRUE</li>\n",
       "\t<li>TRUE</li>\n",
       "\t<li>TRUE</li>\n",
       "\t<li>TRUE</li>\n",
       "\t<li>TRUE</li>\n",
       "\t<li>TRUE</li>\n",
       "\t<li>TRUE</li>\n",
       "\t<li>TRUE</li>\n",
       "</ol>\n"
      ],
      "text/latex": [
       "\\begin{enumerate*}\n",
       "\\item TRUE\n",
       "\\item TRUE\n",
       "\\item TRUE\n",
       "\\item TRUE\n",
       "\\item TRUE\n",
       "\\item TRUE\n",
       "\\item TRUE\n",
       "\\item TRUE\n",
       "\\item TRUE\n",
       "\\item TRUE\n",
       "\\item TRUE\n",
       "\\item TRUE\n",
       "\\item TRUE\n",
       "\\item TRUE\n",
       "\\item TRUE\n",
       "\\item TRUE\n",
       "\\item TRUE\n",
       "\\item TRUE\n",
       "\\item TRUE\n",
       "\\item TRUE\n",
       "\\item TRUE\n",
       "\\item TRUE\n",
       "\\item TRUE\n",
       "\\item TRUE\n",
       "\\item TRUE\n",
       "\\item TRUE\n",
       "\\item TRUE\n",
       "\\item TRUE\n",
       "\\item TRUE\n",
       "\\item TRUE\n",
       "\\item TRUE\n",
       "\\item TRUE\n",
       "\\item TRUE\n",
       "\\item TRUE\n",
       "\\item TRUE\n",
       "\\item TRUE\n",
       "\\item TRUE\n",
       "\\item TRUE\n",
       "\\item TRUE\n",
       "\\item TRUE\n",
       "\\item TRUE\n",
       "\\item TRUE\n",
       "\\item TRUE\n",
       "\\item TRUE\n",
       "\\item TRUE\n",
       "\\item TRUE\n",
       "\\item TRUE\n",
       "\\item TRUE\n",
       "\\item TRUE\n",
       "\\item TRUE\n",
       "\\item TRUE\n",
       "\\item TRUE\n",
       "\\end{enumerate*}\n"
      ],
      "text/markdown": [
       "1. TRUE\n",
       "2. TRUE\n",
       "3. TRUE\n",
       "4. TRUE\n",
       "5. TRUE\n",
       "6. TRUE\n",
       "7. TRUE\n",
       "8. TRUE\n",
       "9. TRUE\n",
       "10. TRUE\n",
       "11. TRUE\n",
       "12. TRUE\n",
       "13. TRUE\n",
       "14. TRUE\n",
       "15. TRUE\n",
       "16. TRUE\n",
       "17. TRUE\n",
       "18. TRUE\n",
       "19. TRUE\n",
       "20. TRUE\n",
       "21. TRUE\n",
       "22. TRUE\n",
       "23. TRUE\n",
       "24. TRUE\n",
       "25. TRUE\n",
       "26. TRUE\n",
       "27. TRUE\n",
       "28. TRUE\n",
       "29. TRUE\n",
       "30. TRUE\n",
       "31. TRUE\n",
       "32. TRUE\n",
       "33. TRUE\n",
       "34. TRUE\n",
       "35. TRUE\n",
       "36. TRUE\n",
       "37. TRUE\n",
       "38. TRUE\n",
       "39. TRUE\n",
       "40. TRUE\n",
       "41. TRUE\n",
       "42. TRUE\n",
       "43. TRUE\n",
       "44. TRUE\n",
       "45. TRUE\n",
       "46. TRUE\n",
       "47. TRUE\n",
       "48. TRUE\n",
       "49. TRUE\n",
       "50. TRUE\n",
       "51. TRUE\n",
       "52. TRUE\n",
       "\n",
       "\n"
      ],
      "text/plain": [
       " [1] TRUE TRUE TRUE TRUE TRUE TRUE TRUE TRUE TRUE TRUE TRUE TRUE TRUE TRUE TRUE\n",
       "[16] TRUE TRUE TRUE TRUE TRUE TRUE TRUE TRUE TRUE TRUE TRUE TRUE TRUE TRUE TRUE\n",
       "[31] TRUE TRUE TRUE TRUE TRUE TRUE TRUE TRUE TRUE TRUE TRUE TRUE TRUE TRUE TRUE\n",
       "[46] TRUE TRUE TRUE TRUE TRUE TRUE TRUE"
      ]
     },
     "metadata": {},
     "output_type": "display_data"
    },
    {
     "data": {
      "text/html": [
       "<ol class=list-inline>\n",
       "\t<li>TRUE</li>\n",
       "\t<li>TRUE</li>\n",
       "\t<li>TRUE</li>\n",
       "\t<li>TRUE</li>\n",
       "\t<li>TRUE</li>\n",
       "\t<li>TRUE</li>\n",
       "\t<li>TRUE</li>\n",
       "\t<li>TRUE</li>\n",
       "\t<li>TRUE</li>\n",
       "\t<li>TRUE</li>\n",
       "\t<li>TRUE</li>\n",
       "\t<li>TRUE</li>\n",
       "\t<li>TRUE</li>\n",
       "\t<li>TRUE</li>\n",
       "\t<li>TRUE</li>\n",
       "\t<li>TRUE</li>\n",
       "\t<li>TRUE</li>\n",
       "\t<li>TRUE</li>\n",
       "\t<li>TRUE</li>\n",
       "\t<li>TRUE</li>\n",
       "\t<li>TRUE</li>\n",
       "\t<li>TRUE</li>\n",
       "\t<li>TRUE</li>\n",
       "\t<li>TRUE</li>\n",
       "\t<li>TRUE</li>\n",
       "\t<li>TRUE</li>\n",
       "\t<li>TRUE</li>\n",
       "\t<li>TRUE</li>\n",
       "\t<li>TRUE</li>\n",
       "\t<li>TRUE</li>\n",
       "\t<li>TRUE</li>\n",
       "\t<li>TRUE</li>\n",
       "\t<li>TRUE</li>\n",
       "\t<li>TRUE</li>\n",
       "\t<li>TRUE</li>\n",
       "\t<li>TRUE</li>\n",
       "\t<li>TRUE</li>\n",
       "\t<li>TRUE</li>\n",
       "\t<li>TRUE</li>\n",
       "\t<li>TRUE</li>\n",
       "\t<li>TRUE</li>\n",
       "\t<li>TRUE</li>\n",
       "\t<li>TRUE</li>\n",
       "\t<li>TRUE</li>\n",
       "\t<li>TRUE</li>\n",
       "\t<li>TRUE</li>\n",
       "\t<li>TRUE</li>\n",
       "\t<li>TRUE</li>\n",
       "\t<li>TRUE</li>\n",
       "\t<li>TRUE</li>\n",
       "\t<li>TRUE</li>\n",
       "\t<li>TRUE</li>\n",
       "</ol>\n"
      ],
      "text/latex": [
       "\\begin{enumerate*}\n",
       "\\item TRUE\n",
       "\\item TRUE\n",
       "\\item TRUE\n",
       "\\item TRUE\n",
       "\\item TRUE\n",
       "\\item TRUE\n",
       "\\item TRUE\n",
       "\\item TRUE\n",
       "\\item TRUE\n",
       "\\item TRUE\n",
       "\\item TRUE\n",
       "\\item TRUE\n",
       "\\item TRUE\n",
       "\\item TRUE\n",
       "\\item TRUE\n",
       "\\item TRUE\n",
       "\\item TRUE\n",
       "\\item TRUE\n",
       "\\item TRUE\n",
       "\\item TRUE\n",
       "\\item TRUE\n",
       "\\item TRUE\n",
       "\\item TRUE\n",
       "\\item TRUE\n",
       "\\item TRUE\n",
       "\\item TRUE\n",
       "\\item TRUE\n",
       "\\item TRUE\n",
       "\\item TRUE\n",
       "\\item TRUE\n",
       "\\item TRUE\n",
       "\\item TRUE\n",
       "\\item TRUE\n",
       "\\item TRUE\n",
       "\\item TRUE\n",
       "\\item TRUE\n",
       "\\item TRUE\n",
       "\\item TRUE\n",
       "\\item TRUE\n",
       "\\item TRUE\n",
       "\\item TRUE\n",
       "\\item TRUE\n",
       "\\item TRUE\n",
       "\\item TRUE\n",
       "\\item TRUE\n",
       "\\item TRUE\n",
       "\\item TRUE\n",
       "\\item TRUE\n",
       "\\item TRUE\n",
       "\\item TRUE\n",
       "\\item TRUE\n",
       "\\item TRUE\n",
       "\\end{enumerate*}\n"
      ],
      "text/markdown": [
       "1. TRUE\n",
       "2. TRUE\n",
       "3. TRUE\n",
       "4. TRUE\n",
       "5. TRUE\n",
       "6. TRUE\n",
       "7. TRUE\n",
       "8. TRUE\n",
       "9. TRUE\n",
       "10. TRUE\n",
       "11. TRUE\n",
       "12. TRUE\n",
       "13. TRUE\n",
       "14. TRUE\n",
       "15. TRUE\n",
       "16. TRUE\n",
       "17. TRUE\n",
       "18. TRUE\n",
       "19. TRUE\n",
       "20. TRUE\n",
       "21. TRUE\n",
       "22. TRUE\n",
       "23. TRUE\n",
       "24. TRUE\n",
       "25. TRUE\n",
       "26. TRUE\n",
       "27. TRUE\n",
       "28. TRUE\n",
       "29. TRUE\n",
       "30. TRUE\n",
       "31. TRUE\n",
       "32. TRUE\n",
       "33. TRUE\n",
       "34. TRUE\n",
       "35. TRUE\n",
       "36. TRUE\n",
       "37. TRUE\n",
       "38. TRUE\n",
       "39. TRUE\n",
       "40. TRUE\n",
       "41. TRUE\n",
       "42. TRUE\n",
       "43. TRUE\n",
       "44. TRUE\n",
       "45. TRUE\n",
       "46. TRUE\n",
       "47. TRUE\n",
       "48. TRUE\n",
       "49. TRUE\n",
       "50. TRUE\n",
       "51. TRUE\n",
       "52. TRUE\n",
       "\n",
       "\n"
      ],
      "text/plain": [
       " [1] TRUE TRUE TRUE TRUE TRUE TRUE TRUE TRUE TRUE TRUE TRUE TRUE TRUE TRUE TRUE\n",
       "[16] TRUE TRUE TRUE TRUE TRUE TRUE TRUE TRUE TRUE TRUE TRUE TRUE TRUE TRUE TRUE\n",
       "[31] TRUE TRUE TRUE TRUE TRUE TRUE TRUE TRUE TRUE TRUE TRUE TRUE TRUE TRUE TRUE\n",
       "[46] TRUE TRUE TRUE TRUE TRUE TRUE TRUE"
      ]
     },
     "metadata": {},
     "output_type": "display_data"
    },
    {
     "data": {
      "text/html": [
       "<ol class=list-inline>\n",
       "\t<li>TRUE</li>\n",
       "\t<li>TRUE</li>\n",
       "\t<li>TRUE</li>\n",
       "\t<li>TRUE</li>\n",
       "\t<li>TRUE</li>\n",
       "\t<li>TRUE</li>\n",
       "\t<li>TRUE</li>\n",
       "\t<li>TRUE</li>\n",
       "\t<li>TRUE</li>\n",
       "\t<li>TRUE</li>\n",
       "\t<li>TRUE</li>\n",
       "\t<li>TRUE</li>\n",
       "\t<li>TRUE</li>\n",
       "\t<li>TRUE</li>\n",
       "\t<li>TRUE</li>\n",
       "\t<li>TRUE</li>\n",
       "\t<li>TRUE</li>\n",
       "\t<li>TRUE</li>\n",
       "\t<li>TRUE</li>\n",
       "\t<li>TRUE</li>\n",
       "\t<li>TRUE</li>\n",
       "\t<li>TRUE</li>\n",
       "\t<li>TRUE</li>\n",
       "\t<li>TRUE</li>\n",
       "\t<li>TRUE</li>\n",
       "\t<li>TRUE</li>\n",
       "\t<li>TRUE</li>\n",
       "\t<li>TRUE</li>\n",
       "\t<li>TRUE</li>\n",
       "\t<li>TRUE</li>\n",
       "\t<li>TRUE</li>\n",
       "\t<li>TRUE</li>\n",
       "\t<li>TRUE</li>\n",
       "\t<li>TRUE</li>\n",
       "\t<li>TRUE</li>\n",
       "\t<li>TRUE</li>\n",
       "\t<li>TRUE</li>\n",
       "\t<li>TRUE</li>\n",
       "\t<li>TRUE</li>\n",
       "\t<li>TRUE</li>\n",
       "\t<li>TRUE</li>\n",
       "\t<li>TRUE</li>\n",
       "\t<li>TRUE</li>\n",
       "\t<li>TRUE</li>\n",
       "\t<li>TRUE</li>\n",
       "\t<li>TRUE</li>\n",
       "\t<li>TRUE</li>\n",
       "\t<li>TRUE</li>\n",
       "\t<li>TRUE</li>\n",
       "\t<li>TRUE</li>\n",
       "\t<li>TRUE</li>\n",
       "\t<li>TRUE</li>\n",
       "\t<li>TRUE</li>\n",
       "\t<li>TRUE</li>\n",
       "\t<li>TRUE</li>\n",
       "\t<li>TRUE</li>\n",
       "\t<li>TRUE</li>\n",
       "\t<li>TRUE</li>\n",
       "\t<li>TRUE</li>\n",
       "\t<li>TRUE</li>\n",
       "\t<li>TRUE</li>\n",
       "\t<li>TRUE</li>\n",
       "\t<li>TRUE</li>\n",
       "\t<li>TRUE</li>\n",
       "\t<li>TRUE</li>\n",
       "\t<li>TRUE</li>\n",
       "\t<li>TRUE</li>\n",
       "\t<li>TRUE</li>\n",
       "\t<li>TRUE</li>\n",
       "\t<li>TRUE</li>\n",
       "\t<li>TRUE</li>\n",
       "\t<li>TRUE</li>\n",
       "\t<li>TRUE</li>\n",
       "\t<li>TRUE</li>\n",
       "\t<li>TRUE</li>\n",
       "\t<li>TRUE</li>\n",
       "\t<li>TRUE</li>\n",
       "\t<li>TRUE</li>\n",
       "\t<li>TRUE</li>\n",
       "\t<li>TRUE</li>\n",
       "\t<li>TRUE</li>\n",
       "\t<li>TRUE</li>\n",
       "\t<li>TRUE</li>\n",
       "\t<li>TRUE</li>\n",
       "\t<li>TRUE</li>\n",
       "\t<li>TRUE</li>\n",
       "\t<li>TRUE</li>\n",
       "\t<li>TRUE</li>\n",
       "\t<li>TRUE</li>\n",
       "\t<li>TRUE</li>\n",
       "\t<li>TRUE</li>\n",
       "\t<li>TRUE</li>\n",
       "\t<li>TRUE</li>\n",
       "\t<li>TRUE</li>\n",
       "\t<li>TRUE</li>\n",
       "\t<li>TRUE</li>\n",
       "\t<li>TRUE</li>\n",
       "\t<li>TRUE</li>\n",
       "\t<li>TRUE</li>\n",
       "\t<li>TRUE</li>\n",
       "\t<li>TRUE</li>\n",
       "\t<li>TRUE</li>\n",
       "\t<li>TRUE</li>\n",
       "\t<li>TRUE</li>\n",
       "\t<li>TRUE</li>\n",
       "\t<li>TRUE</li>\n",
       "\t<li>TRUE</li>\n",
       "\t<li>TRUE</li>\n",
       "\t<li>TRUE</li>\n",
       "\t<li>TRUE</li>\n",
       "\t<li>TRUE</li>\n",
       "\t<li>TRUE</li>\n",
       "\t<li>TRUE</li>\n",
       "\t<li>TRUE</li>\n",
       "\t<li>TRUE</li>\n",
       "\t<li>TRUE</li>\n",
       "\t<li>TRUE</li>\n",
       "\t<li>TRUE</li>\n",
       "\t<li>TRUE</li>\n",
       "\t<li>TRUE</li>\n",
       "\t<li>TRUE</li>\n",
       "\t<li>TRUE</li>\n",
       "\t<li>TRUE</li>\n",
       "\t<li>TRUE</li>\n",
       "\t<li>TRUE</li>\n",
       "\t<li>TRUE</li>\n",
       "\t<li>TRUE</li>\n",
       "\t<li>TRUE</li>\n",
       "\t<li>TRUE</li>\n",
       "\t<li>TRUE</li>\n",
       "\t<li>TRUE</li>\n",
       "\t<li>TRUE</li>\n",
       "\t<li>TRUE</li>\n",
       "</ol>\n"
      ],
      "text/latex": [
       "\\begin{enumerate*}\n",
       "\\item TRUE\n",
       "\\item TRUE\n",
       "\\item TRUE\n",
       "\\item TRUE\n",
       "\\item TRUE\n",
       "\\item TRUE\n",
       "\\item TRUE\n",
       "\\item TRUE\n",
       "\\item TRUE\n",
       "\\item TRUE\n",
       "\\item TRUE\n",
       "\\item TRUE\n",
       "\\item TRUE\n",
       "\\item TRUE\n",
       "\\item TRUE\n",
       "\\item TRUE\n",
       "\\item TRUE\n",
       "\\item TRUE\n",
       "\\item TRUE\n",
       "\\item TRUE\n",
       "\\item TRUE\n",
       "\\item TRUE\n",
       "\\item TRUE\n",
       "\\item TRUE\n",
       "\\item TRUE\n",
       "\\item TRUE\n",
       "\\item TRUE\n",
       "\\item TRUE\n",
       "\\item TRUE\n",
       "\\item TRUE\n",
       "\\item TRUE\n",
       "\\item TRUE\n",
       "\\item TRUE\n",
       "\\item TRUE\n",
       "\\item TRUE\n",
       "\\item TRUE\n",
       "\\item TRUE\n",
       "\\item TRUE\n",
       "\\item TRUE\n",
       "\\item TRUE\n",
       "\\item TRUE\n",
       "\\item TRUE\n",
       "\\item TRUE\n",
       "\\item TRUE\n",
       "\\item TRUE\n",
       "\\item TRUE\n",
       "\\item TRUE\n",
       "\\item TRUE\n",
       "\\item TRUE\n",
       "\\item TRUE\n",
       "\\item TRUE\n",
       "\\item TRUE\n",
       "\\item TRUE\n",
       "\\item TRUE\n",
       "\\item TRUE\n",
       "\\item TRUE\n",
       "\\item TRUE\n",
       "\\item TRUE\n",
       "\\item TRUE\n",
       "\\item TRUE\n",
       "\\item TRUE\n",
       "\\item TRUE\n",
       "\\item TRUE\n",
       "\\item TRUE\n",
       "\\item TRUE\n",
       "\\item TRUE\n",
       "\\item TRUE\n",
       "\\item TRUE\n",
       "\\item TRUE\n",
       "\\item TRUE\n",
       "\\item TRUE\n",
       "\\item TRUE\n",
       "\\item TRUE\n",
       "\\item TRUE\n",
       "\\item TRUE\n",
       "\\item TRUE\n",
       "\\item TRUE\n",
       "\\item TRUE\n",
       "\\item TRUE\n",
       "\\item TRUE\n",
       "\\item TRUE\n",
       "\\item TRUE\n",
       "\\item TRUE\n",
       "\\item TRUE\n",
       "\\item TRUE\n",
       "\\item TRUE\n",
       "\\item TRUE\n",
       "\\item TRUE\n",
       "\\item TRUE\n",
       "\\item TRUE\n",
       "\\item TRUE\n",
       "\\item TRUE\n",
       "\\item TRUE\n",
       "\\item TRUE\n",
       "\\item TRUE\n",
       "\\item TRUE\n",
       "\\item TRUE\n",
       "\\item TRUE\n",
       "\\item TRUE\n",
       "\\item TRUE\n",
       "\\item TRUE\n",
       "\\item TRUE\n",
       "\\item TRUE\n",
       "\\item TRUE\n",
       "\\item TRUE\n",
       "\\item TRUE\n",
       "\\item TRUE\n",
       "\\item TRUE\n",
       "\\item TRUE\n",
       "\\item TRUE\n",
       "\\item TRUE\n",
       "\\item TRUE\n",
       "\\item TRUE\n",
       "\\item TRUE\n",
       "\\item TRUE\n",
       "\\item TRUE\n",
       "\\item TRUE\n",
       "\\item TRUE\n",
       "\\item TRUE\n",
       "\\item TRUE\n",
       "\\item TRUE\n",
       "\\item TRUE\n",
       "\\item TRUE\n",
       "\\item TRUE\n",
       "\\item TRUE\n",
       "\\item TRUE\n",
       "\\item TRUE\n",
       "\\item TRUE\n",
       "\\item TRUE\n",
       "\\item TRUE\n",
       "\\item TRUE\n",
       "\\item TRUE\n",
       "\\item TRUE\n",
       "\\end{enumerate*}\n"
      ],
      "text/markdown": [
       "1. TRUE\n",
       "2. TRUE\n",
       "3. TRUE\n",
       "4. TRUE\n",
       "5. TRUE\n",
       "6. TRUE\n",
       "7. TRUE\n",
       "8. TRUE\n",
       "9. TRUE\n",
       "10. TRUE\n",
       "11. TRUE\n",
       "12. TRUE\n",
       "13. TRUE\n",
       "14. TRUE\n",
       "15. TRUE\n",
       "16. TRUE\n",
       "17. TRUE\n",
       "18. TRUE\n",
       "19. TRUE\n",
       "20. TRUE\n",
       "21. TRUE\n",
       "22. TRUE\n",
       "23. TRUE\n",
       "24. TRUE\n",
       "25. TRUE\n",
       "26. TRUE\n",
       "27. TRUE\n",
       "28. TRUE\n",
       "29. TRUE\n",
       "30. TRUE\n",
       "31. TRUE\n",
       "32. TRUE\n",
       "33. TRUE\n",
       "34. TRUE\n",
       "35. TRUE\n",
       "36. TRUE\n",
       "37. TRUE\n",
       "38. TRUE\n",
       "39. TRUE\n",
       "40. TRUE\n",
       "41. TRUE\n",
       "42. TRUE\n",
       "43. TRUE\n",
       "44. TRUE\n",
       "45. TRUE\n",
       "46. TRUE\n",
       "47. TRUE\n",
       "48. TRUE\n",
       "49. TRUE\n",
       "50. TRUE\n",
       "51. TRUE\n",
       "52. TRUE\n",
       "53. TRUE\n",
       "54. TRUE\n",
       "55. TRUE\n",
       "56. TRUE\n",
       "57. TRUE\n",
       "58. TRUE\n",
       "59. TRUE\n",
       "60. TRUE\n",
       "61. TRUE\n",
       "62. TRUE\n",
       "63. TRUE\n",
       "64. TRUE\n",
       "65. TRUE\n",
       "66. TRUE\n",
       "67. TRUE\n",
       "68. TRUE\n",
       "69. TRUE\n",
       "70. TRUE\n",
       "71. TRUE\n",
       "72. TRUE\n",
       "73. TRUE\n",
       "74. TRUE\n",
       "75. TRUE\n",
       "76. TRUE\n",
       "77. TRUE\n",
       "78. TRUE\n",
       "79. TRUE\n",
       "80. TRUE\n",
       "81. TRUE\n",
       "82. TRUE\n",
       "83. TRUE\n",
       "84. TRUE\n",
       "85. TRUE\n",
       "86. TRUE\n",
       "87. TRUE\n",
       "88. TRUE\n",
       "89. TRUE\n",
       "90. TRUE\n",
       "91. TRUE\n",
       "92. TRUE\n",
       "93. TRUE\n",
       "94. TRUE\n",
       "95. TRUE\n",
       "96. TRUE\n",
       "97. TRUE\n",
       "98. TRUE\n",
       "99. TRUE\n",
       "100. TRUE\n",
       "101. TRUE\n",
       "102. TRUE\n",
       "103. TRUE\n",
       "104. TRUE\n",
       "105. TRUE\n",
       "106. TRUE\n",
       "107. TRUE\n",
       "108. TRUE\n",
       "109. TRUE\n",
       "110. TRUE\n",
       "111. TRUE\n",
       "112. TRUE\n",
       "113. TRUE\n",
       "114. TRUE\n",
       "115. TRUE\n",
       "116. TRUE\n",
       "117. TRUE\n",
       "118. TRUE\n",
       "119. TRUE\n",
       "120. TRUE\n",
       "121. TRUE\n",
       "122. TRUE\n",
       "123. TRUE\n",
       "124. TRUE\n",
       "125. TRUE\n",
       "126. TRUE\n",
       "127. TRUE\n",
       "128. TRUE\n",
       "129. TRUE\n",
       "130. TRUE\n",
       "131. TRUE\n",
       "132. TRUE\n",
       "133. TRUE\n",
       "\n",
       "\n"
      ],
      "text/plain": [
       "  [1] TRUE TRUE TRUE TRUE TRUE TRUE TRUE TRUE TRUE TRUE TRUE TRUE TRUE TRUE TRUE\n",
       " [16] TRUE TRUE TRUE TRUE TRUE TRUE TRUE TRUE TRUE TRUE TRUE TRUE TRUE TRUE TRUE\n",
       " [31] TRUE TRUE TRUE TRUE TRUE TRUE TRUE TRUE TRUE TRUE TRUE TRUE TRUE TRUE TRUE\n",
       " [46] TRUE TRUE TRUE TRUE TRUE TRUE TRUE TRUE TRUE TRUE TRUE TRUE TRUE TRUE TRUE\n",
       " [61] TRUE TRUE TRUE TRUE TRUE TRUE TRUE TRUE TRUE TRUE TRUE TRUE TRUE TRUE TRUE\n",
       " [76] TRUE TRUE TRUE TRUE TRUE TRUE TRUE TRUE TRUE TRUE TRUE TRUE TRUE TRUE TRUE\n",
       " [91] TRUE TRUE TRUE TRUE TRUE TRUE TRUE TRUE TRUE TRUE TRUE TRUE TRUE TRUE TRUE\n",
       "[106] TRUE TRUE TRUE TRUE TRUE TRUE TRUE TRUE TRUE TRUE TRUE TRUE TRUE TRUE TRUE\n",
       "[121] TRUE TRUE TRUE TRUE TRUE TRUE TRUE TRUE TRUE TRUE TRUE TRUE TRUE"
      ]
     },
     "metadata": {},
     "output_type": "display_data"
    }
   ],
   "source": [
    "colnames(endos) %in% colnames(stromata)\n",
    "colnames(stromata) %in% colnames(endos)\n",
    "rownames(endos) == rownames(stromata)"
   ]
  },
  {
   "cell_type": "markdown",
   "metadata": {},
   "source": [
    "<a id='rdaprep'></a>"
   ]
  },
  {
   "cell_type": "markdown",
   "metadata": {},
   "source": [
    "To examine the importance of leaf in predicting decomposer (stromata) populations, we'll employ [Redundancy analysis](https://sites.google.com/site/mb3gustame/constrained-analyses/rda). This is a constrained, direct-gradient type of analysis that is kind of like a multiple regression of a response (Y) matrix to several explanatory (X) matrices.  \n",
    "\n",
    "One of the nice things about RDA is that it is constrained, meaning that it focuses on the variation in our response matrix that can be explained by the variables we supply, though there is some estimation of unexplained variation. We do not expect that all or even most of the variation in our decomposer matrix will be explained by either the leaf endophyte populations. Much of the variation is probably due to environmental conditions, etc. But here we check to see if any variation in our decomposers can be predicted by endophytes, and if so, the relative importance of our leaf and wood endophytes. "
   ]
  },
  {
   "cell_type": "markdown",
   "metadata": {},
   "source": [
    "### Formatting inputs for RDA"
   ]
  },
  {
   "cell_type": "markdown",
   "metadata": {},
   "source": [
    "Our response matrix will be the observations of stromata from our sites. The explanatory matrix will be our leaf endophyte species matrix. Both need to be of the same sites and of the same fungi, meaning we need to trim the rows to match. Also, we need to remove zero-sum columns (i.e. species that were not observed) and rows where endophyte sampling failed will need to be removed from both. So this is a three step process: (1) remove NA rows from both matrices, (2) remove species from both matrices that were not observed at least once (3) trim both matrices' columns to each other, so that only shared species remain. \n",
    "\n",
    "Then see what's left standing, and hope it's enough to build an informative model.\n"
   ]
  },
  {
   "cell_type": "markdown",
   "metadata": {},
   "source": [
    "Rows:"
   ]
  },
  {
   "cell_type": "code",
   "execution_count": 11,
   "metadata": {
    "collapsed": true
   },
   "outputs": [],
   "source": [
    "aa <- !(is.na(endos[,1])) ## which rows in the endophytes were successfully sampled? (= not NA's)\n",
    "stromata <- stromata[aa,] ## remove endophyte NA rows from stromata\n",
    "endos <- endos[aa,] ## and from the endophytes"
   ]
  },
  {
   "cell_type": "markdown",
   "metadata": {},
   "source": [
    "Removing stromata zero columns:"
   ]
  },
  {
   "cell_type": "code",
   "execution_count": 12,
   "metadata": {
    "collapsed": false
   },
   "outputs": [
    {
     "data": {
      "text/html": [
       "FALSE"
      ],
      "text/latex": [
       "FALSE"
      ],
      "text/markdown": [
       "FALSE"
      ],
      "text/plain": [
       "[1] FALSE"
      ]
     },
     "metadata": {},
     "output_type": "display_data"
    }
   ],
   "source": [
    "aa <- which(colSums(stromata) != 0) ## which Xylariaceous species are actually observed as stromata in at least one plot\n",
    "stromata <- stromata[,aa]\n",
    "any(colSums(stromata) == 0) ## check, did it work?"
   ]
  },
  {
   "cell_type": "markdown",
   "metadata": {},
   "source": [
    "Removing endophyte zero rows:"
   ]
  },
  {
   "cell_type": "code",
   "execution_count": 13,
   "metadata": {
    "collapsed": false
   },
   "outputs": [
    {
     "data": {
      "text/html": [
       "FALSE"
      ],
      "text/latex": [
       "FALSE"
      ],
      "text/markdown": [
       "FALSE"
      ],
      "text/plain": [
       "[1] FALSE"
      ]
     },
     "metadata": {},
     "output_type": "display_data"
    }
   ],
   "source": [
    "aa <- which(colSums(endos) != 0) ## which Xylariaceous species are actually observed as endophytes in leaves in at least one plot\n",
    "endos <- endos[,aa]\n",
    "any(colSums(endos) == 0) ## check, did it work?"
   ]
  },
  {
   "cell_type": "code",
   "execution_count": 14,
   "metadata": {
    "collapsed": false,
    "scrolled": true
   },
   "outputs": [
    {
     "data": {
      "text/html": [
       "18"
      ],
      "text/latex": [
       "18"
      ],
      "text/markdown": [
       "18"
      ],
      "text/plain": [
       "[1] 18"
      ]
     },
     "metadata": {},
     "output_type": "display_data"
    }
   ],
   "source": [
    "sum(colnames(endos) %in% colnames(stromata)) ## how many species do we have in common"
   ]
  },
  {
   "cell_type": "markdown",
   "metadata": {},
   "source": [
    "Huh. Fewer I'd thought. \n",
    "\n",
    "Pare both matrices down to the same columns:"
   ]
  },
  {
   "cell_type": "code",
   "execution_count": 15,
   "metadata": {
    "collapsed": false
   },
   "outputs": [],
   "source": [
    "aa <- colnames(stromata) %in% colnames(endos)\n",
    "bb <- colnames(endos) %in% colnames(stromata)\n",
    "\n",
    "stromata <- stromata[,aa]\n",
    "endos <- endos[,bb]"
   ]
  },
  {
   "cell_type": "code",
   "execution_count": 16,
   "metadata": {
    "collapsed": false
   },
   "outputs": [
    {
     "data": {
      "text/html": [
       "<ol class=list-inline>\n",
       "\t<li>115</li>\n",
       "\t<li>18</li>\n",
       "</ol>\n"
      ],
      "text/latex": [
       "\\begin{enumerate*}\n",
       "\\item 115\n",
       "\\item 18\n",
       "\\end{enumerate*}\n"
      ],
      "text/markdown": [
       "1. 115\n",
       "2. 18\n",
       "\n",
       "\n"
      ],
      "text/plain": [
       "[1] 115  18"
      ]
     },
     "metadata": {},
     "output_type": "display_data"
    },
    {
     "data": {
      "text/html": [
       "<ol class=list-inline>\n",
       "\t<li>115</li>\n",
       "\t<li>18</li>\n",
       "</ol>\n"
      ],
      "text/latex": [
       "\\begin{enumerate*}\n",
       "\\item 115\n",
       "\\item 18\n",
       "\\end{enumerate*}\n"
      ],
      "text/markdown": [
       "1. 115\n",
       "2. 18\n",
       "\n",
       "\n"
      ],
      "text/plain": [
       "[1] 115  18"
      ]
     },
     "metadata": {},
     "output_type": "display_data"
    }
   ],
   "source": [
    "dim(stromata)\n",
    "dim(endos)"
   ]
  },
  {
   "cell_type": "code",
   "execution_count": 17,
   "metadata": {
    "collapsed": false
   },
   "outputs": [
    {
     "data": {
      "text/html": [
       "<ol class=list-inline>\n",
       "\t<li>TRUE</li>\n",
       "\t<li>TRUE</li>\n",
       "\t<li>TRUE</li>\n",
       "\t<li>TRUE</li>\n",
       "\t<li>TRUE</li>\n",
       "\t<li>TRUE</li>\n",
       "\t<li>TRUE</li>\n",
       "\t<li>TRUE</li>\n",
       "\t<li>TRUE</li>\n",
       "\t<li>TRUE</li>\n",
       "\t<li>TRUE</li>\n",
       "\t<li>TRUE</li>\n",
       "\t<li>TRUE</li>\n",
       "\t<li>TRUE</li>\n",
       "\t<li>TRUE</li>\n",
       "\t<li>TRUE</li>\n",
       "\t<li>TRUE</li>\n",
       "\t<li>TRUE</li>\n",
       "</ol>\n"
      ],
      "text/latex": [
       "\\begin{enumerate*}\n",
       "\\item TRUE\n",
       "\\item TRUE\n",
       "\\item TRUE\n",
       "\\item TRUE\n",
       "\\item TRUE\n",
       "\\item TRUE\n",
       "\\item TRUE\n",
       "\\item TRUE\n",
       "\\item TRUE\n",
       "\\item TRUE\n",
       "\\item TRUE\n",
       "\\item TRUE\n",
       "\\item TRUE\n",
       "\\item TRUE\n",
       "\\item TRUE\n",
       "\\item TRUE\n",
       "\\item TRUE\n",
       "\\item TRUE\n",
       "\\end{enumerate*}\n"
      ],
      "text/markdown": [
       "1. TRUE\n",
       "2. TRUE\n",
       "3. TRUE\n",
       "4. TRUE\n",
       "5. TRUE\n",
       "6. TRUE\n",
       "7. TRUE\n",
       "8. TRUE\n",
       "9. TRUE\n",
       "10. TRUE\n",
       "11. TRUE\n",
       "12. TRUE\n",
       "13. TRUE\n",
       "14. TRUE\n",
       "15. TRUE\n",
       "16. TRUE\n",
       "17. TRUE\n",
       "18. TRUE\n",
       "\n",
       "\n"
      ],
      "text/plain": [
       " [1] TRUE TRUE TRUE TRUE TRUE TRUE TRUE TRUE TRUE TRUE TRUE TRUE TRUE TRUE TRUE\n",
       "[16] TRUE TRUE TRUE"
      ]
     },
     "metadata": {},
     "output_type": "display_data"
    }
   ],
   "source": [
    "colnames(stromata) == colnames(endos)"
   ]
  },
  {
   "cell_type": "code",
   "execution_count": 18,
   "metadata": {
    "collapsed": false
   },
   "outputs": [
    {
     "data": {
      "text/html": [
       "<ol class=list-inline>\n",
       "\t<li>TRUE</li>\n",
       "\t<li>TRUE</li>\n",
       "\t<li>TRUE</li>\n",
       "\t<li>TRUE</li>\n",
       "\t<li>TRUE</li>\n",
       "\t<li>TRUE</li>\n",
       "\t<li>TRUE</li>\n",
       "\t<li>TRUE</li>\n",
       "\t<li>TRUE</li>\n",
       "\t<li>TRUE</li>\n",
       "\t<li>TRUE</li>\n",
       "\t<li>TRUE</li>\n",
       "\t<li>TRUE</li>\n",
       "\t<li>TRUE</li>\n",
       "\t<li>TRUE</li>\n",
       "\t<li>TRUE</li>\n",
       "\t<li>TRUE</li>\n",
       "\t<li>TRUE</li>\n",
       "\t<li>TRUE</li>\n",
       "\t<li>TRUE</li>\n",
       "\t<li>TRUE</li>\n",
       "\t<li>TRUE</li>\n",
       "\t<li>TRUE</li>\n",
       "\t<li>TRUE</li>\n",
       "\t<li>TRUE</li>\n",
       "\t<li>TRUE</li>\n",
       "\t<li>TRUE</li>\n",
       "\t<li>TRUE</li>\n",
       "\t<li>TRUE</li>\n",
       "\t<li>TRUE</li>\n",
       "\t<li>TRUE</li>\n",
       "\t<li>TRUE</li>\n",
       "\t<li>TRUE</li>\n",
       "\t<li>TRUE</li>\n",
       "\t<li>TRUE</li>\n",
       "\t<li>TRUE</li>\n",
       "\t<li>TRUE</li>\n",
       "\t<li>TRUE</li>\n",
       "\t<li>TRUE</li>\n",
       "\t<li>TRUE</li>\n",
       "\t<li>TRUE</li>\n",
       "\t<li>TRUE</li>\n",
       "\t<li>TRUE</li>\n",
       "\t<li>TRUE</li>\n",
       "\t<li>TRUE</li>\n",
       "\t<li>TRUE</li>\n",
       "\t<li>TRUE</li>\n",
       "\t<li>TRUE</li>\n",
       "\t<li>TRUE</li>\n",
       "\t<li>TRUE</li>\n",
       "\t<li>TRUE</li>\n",
       "\t<li>TRUE</li>\n",
       "\t<li>TRUE</li>\n",
       "\t<li>TRUE</li>\n",
       "\t<li>TRUE</li>\n",
       "\t<li>TRUE</li>\n",
       "\t<li>TRUE</li>\n",
       "\t<li>TRUE</li>\n",
       "\t<li>TRUE</li>\n",
       "\t<li>TRUE</li>\n",
       "\t<li>TRUE</li>\n",
       "\t<li>TRUE</li>\n",
       "\t<li>TRUE</li>\n",
       "\t<li>TRUE</li>\n",
       "\t<li>TRUE</li>\n",
       "\t<li>TRUE</li>\n",
       "\t<li>TRUE</li>\n",
       "\t<li>TRUE</li>\n",
       "\t<li>TRUE</li>\n",
       "\t<li>TRUE</li>\n",
       "\t<li>TRUE</li>\n",
       "\t<li>TRUE</li>\n",
       "\t<li>TRUE</li>\n",
       "\t<li>TRUE</li>\n",
       "\t<li>TRUE</li>\n",
       "\t<li>TRUE</li>\n",
       "\t<li>TRUE</li>\n",
       "\t<li>TRUE</li>\n",
       "\t<li>TRUE</li>\n",
       "\t<li>TRUE</li>\n",
       "\t<li>TRUE</li>\n",
       "\t<li>TRUE</li>\n",
       "\t<li>TRUE</li>\n",
       "\t<li>TRUE</li>\n",
       "\t<li>TRUE</li>\n",
       "\t<li>TRUE</li>\n",
       "\t<li>TRUE</li>\n",
       "\t<li>TRUE</li>\n",
       "\t<li>TRUE</li>\n",
       "\t<li>TRUE</li>\n",
       "\t<li>TRUE</li>\n",
       "\t<li>TRUE</li>\n",
       "\t<li>TRUE</li>\n",
       "\t<li>TRUE</li>\n",
       "\t<li>TRUE</li>\n",
       "\t<li>TRUE</li>\n",
       "\t<li>TRUE</li>\n",
       "\t<li>TRUE</li>\n",
       "\t<li>TRUE</li>\n",
       "\t<li>TRUE</li>\n",
       "\t<li>TRUE</li>\n",
       "\t<li>TRUE</li>\n",
       "\t<li>TRUE</li>\n",
       "\t<li>TRUE</li>\n",
       "\t<li>TRUE</li>\n",
       "\t<li>TRUE</li>\n",
       "\t<li>TRUE</li>\n",
       "\t<li>TRUE</li>\n",
       "\t<li>TRUE</li>\n",
       "\t<li>TRUE</li>\n",
       "\t<li>TRUE</li>\n",
       "\t<li>TRUE</li>\n",
       "\t<li>TRUE</li>\n",
       "\t<li>TRUE</li>\n",
       "\t<li>TRUE</li>\n",
       "</ol>\n"
      ],
      "text/latex": [
       "\\begin{enumerate*}\n",
       "\\item TRUE\n",
       "\\item TRUE\n",
       "\\item TRUE\n",
       "\\item TRUE\n",
       "\\item TRUE\n",
       "\\item TRUE\n",
       "\\item TRUE\n",
       "\\item TRUE\n",
       "\\item TRUE\n",
       "\\item TRUE\n",
       "\\item TRUE\n",
       "\\item TRUE\n",
       "\\item TRUE\n",
       "\\item TRUE\n",
       "\\item TRUE\n",
       "\\item TRUE\n",
       "\\item TRUE\n",
       "\\item TRUE\n",
       "\\item TRUE\n",
       "\\item TRUE\n",
       "\\item TRUE\n",
       "\\item TRUE\n",
       "\\item TRUE\n",
       "\\item TRUE\n",
       "\\item TRUE\n",
       "\\item TRUE\n",
       "\\item TRUE\n",
       "\\item TRUE\n",
       "\\item TRUE\n",
       "\\item TRUE\n",
       "\\item TRUE\n",
       "\\item TRUE\n",
       "\\item TRUE\n",
       "\\item TRUE\n",
       "\\item TRUE\n",
       "\\item TRUE\n",
       "\\item TRUE\n",
       "\\item TRUE\n",
       "\\item TRUE\n",
       "\\item TRUE\n",
       "\\item TRUE\n",
       "\\item TRUE\n",
       "\\item TRUE\n",
       "\\item TRUE\n",
       "\\item TRUE\n",
       "\\item TRUE\n",
       "\\item TRUE\n",
       "\\item TRUE\n",
       "\\item TRUE\n",
       "\\item TRUE\n",
       "\\item TRUE\n",
       "\\item TRUE\n",
       "\\item TRUE\n",
       "\\item TRUE\n",
       "\\item TRUE\n",
       "\\item TRUE\n",
       "\\item TRUE\n",
       "\\item TRUE\n",
       "\\item TRUE\n",
       "\\item TRUE\n",
       "\\item TRUE\n",
       "\\item TRUE\n",
       "\\item TRUE\n",
       "\\item TRUE\n",
       "\\item TRUE\n",
       "\\item TRUE\n",
       "\\item TRUE\n",
       "\\item TRUE\n",
       "\\item TRUE\n",
       "\\item TRUE\n",
       "\\item TRUE\n",
       "\\item TRUE\n",
       "\\item TRUE\n",
       "\\item TRUE\n",
       "\\item TRUE\n",
       "\\item TRUE\n",
       "\\item TRUE\n",
       "\\item TRUE\n",
       "\\item TRUE\n",
       "\\item TRUE\n",
       "\\item TRUE\n",
       "\\item TRUE\n",
       "\\item TRUE\n",
       "\\item TRUE\n",
       "\\item TRUE\n",
       "\\item TRUE\n",
       "\\item TRUE\n",
       "\\item TRUE\n",
       "\\item TRUE\n",
       "\\item TRUE\n",
       "\\item TRUE\n",
       "\\item TRUE\n",
       "\\item TRUE\n",
       "\\item TRUE\n",
       "\\item TRUE\n",
       "\\item TRUE\n",
       "\\item TRUE\n",
       "\\item TRUE\n",
       "\\item TRUE\n",
       "\\item TRUE\n",
       "\\item TRUE\n",
       "\\item TRUE\n",
       "\\item TRUE\n",
       "\\item TRUE\n",
       "\\item TRUE\n",
       "\\item TRUE\n",
       "\\item TRUE\n",
       "\\item TRUE\n",
       "\\item TRUE\n",
       "\\item TRUE\n",
       "\\item TRUE\n",
       "\\item TRUE\n",
       "\\item TRUE\n",
       "\\item TRUE\n",
       "\\item TRUE\n",
       "\\end{enumerate*}\n"
      ],
      "text/markdown": [
       "1. TRUE\n",
       "2. TRUE\n",
       "3. TRUE\n",
       "4. TRUE\n",
       "5. TRUE\n",
       "6. TRUE\n",
       "7. TRUE\n",
       "8. TRUE\n",
       "9. TRUE\n",
       "10. TRUE\n",
       "11. TRUE\n",
       "12. TRUE\n",
       "13. TRUE\n",
       "14. TRUE\n",
       "15. TRUE\n",
       "16. TRUE\n",
       "17. TRUE\n",
       "18. TRUE\n",
       "19. TRUE\n",
       "20. TRUE\n",
       "21. TRUE\n",
       "22. TRUE\n",
       "23. TRUE\n",
       "24. TRUE\n",
       "25. TRUE\n",
       "26. TRUE\n",
       "27. TRUE\n",
       "28. TRUE\n",
       "29. TRUE\n",
       "30. TRUE\n",
       "31. TRUE\n",
       "32. TRUE\n",
       "33. TRUE\n",
       "34. TRUE\n",
       "35. TRUE\n",
       "36. TRUE\n",
       "37. TRUE\n",
       "38. TRUE\n",
       "39. TRUE\n",
       "40. TRUE\n",
       "41. TRUE\n",
       "42. TRUE\n",
       "43. TRUE\n",
       "44. TRUE\n",
       "45. TRUE\n",
       "46. TRUE\n",
       "47. TRUE\n",
       "48. TRUE\n",
       "49. TRUE\n",
       "50. TRUE\n",
       "51. TRUE\n",
       "52. TRUE\n",
       "53. TRUE\n",
       "54. TRUE\n",
       "55. TRUE\n",
       "56. TRUE\n",
       "57. TRUE\n",
       "58. TRUE\n",
       "59. TRUE\n",
       "60. TRUE\n",
       "61. TRUE\n",
       "62. TRUE\n",
       "63. TRUE\n",
       "64. TRUE\n",
       "65. TRUE\n",
       "66. TRUE\n",
       "67. TRUE\n",
       "68. TRUE\n",
       "69. TRUE\n",
       "70. TRUE\n",
       "71. TRUE\n",
       "72. TRUE\n",
       "73. TRUE\n",
       "74. TRUE\n",
       "75. TRUE\n",
       "76. TRUE\n",
       "77. TRUE\n",
       "78. TRUE\n",
       "79. TRUE\n",
       "80. TRUE\n",
       "81. TRUE\n",
       "82. TRUE\n",
       "83. TRUE\n",
       "84. TRUE\n",
       "85. TRUE\n",
       "86. TRUE\n",
       "87. TRUE\n",
       "88. TRUE\n",
       "89. TRUE\n",
       "90. TRUE\n",
       "91. TRUE\n",
       "92. TRUE\n",
       "93. TRUE\n",
       "94. TRUE\n",
       "95. TRUE\n",
       "96. TRUE\n",
       "97. TRUE\n",
       "98. TRUE\n",
       "99. TRUE\n",
       "100. TRUE\n",
       "101. TRUE\n",
       "102. TRUE\n",
       "103. TRUE\n",
       "104. TRUE\n",
       "105. TRUE\n",
       "106. TRUE\n",
       "107. TRUE\n",
       "108. TRUE\n",
       "109. TRUE\n",
       "110. TRUE\n",
       "111. TRUE\n",
       "112. TRUE\n",
       "113. TRUE\n",
       "114. TRUE\n",
       "115. TRUE\n",
       "\n",
       "\n"
      ],
      "text/plain": [
       "  [1] TRUE TRUE TRUE TRUE TRUE TRUE TRUE TRUE TRUE TRUE TRUE TRUE TRUE TRUE TRUE\n",
       " [16] TRUE TRUE TRUE TRUE TRUE TRUE TRUE TRUE TRUE TRUE TRUE TRUE TRUE TRUE TRUE\n",
       " [31] TRUE TRUE TRUE TRUE TRUE TRUE TRUE TRUE TRUE TRUE TRUE TRUE TRUE TRUE TRUE\n",
       " [46] TRUE TRUE TRUE TRUE TRUE TRUE TRUE TRUE TRUE TRUE TRUE TRUE TRUE TRUE TRUE\n",
       " [61] TRUE TRUE TRUE TRUE TRUE TRUE TRUE TRUE TRUE TRUE TRUE TRUE TRUE TRUE TRUE\n",
       " [76] TRUE TRUE TRUE TRUE TRUE TRUE TRUE TRUE TRUE TRUE TRUE TRUE TRUE TRUE TRUE\n",
       " [91] TRUE TRUE TRUE TRUE TRUE TRUE TRUE TRUE TRUE TRUE TRUE TRUE TRUE TRUE TRUE\n",
       "[106] TRUE TRUE TRUE TRUE TRUE TRUE TRUE TRUE TRUE TRUE"
      ]
     },
     "metadata": {},
     "output_type": "display_data"
    }
   ],
   "source": [
    "rownames(stromata) == rownames(endos)"
   ]
  },
  {
   "cell_type": "markdown",
   "metadata": {},
   "source": [
    "Looks good, matrices are the same size, same column and row orders..."
   ]
  },
  {
   "cell_type": "markdown",
   "metadata": {},
   "source": [
    "<a id='transform'></a>"
   ]
  },
  {
   "cell_type": "markdown",
   "metadata": {},
   "source": [
    "## Data transformations\n",
    "\n",
    "** 1. Convert to Presence/Absence data:** Doing to this because I do not trust our read abundances or stromata counts to be ecologically meaningful. See notes [here](#mockcom)."
   ]
  },
  {
   "cell_type": "code",
   "execution_count": 19,
   "metadata": {
    "collapsed": true
   },
   "outputs": [],
   "source": [
    "stromata[stromata > 0] <- 1\n",
    "endos[endos > 0] <- 1"
   ]
  },
  {
   "cell_type": "markdown",
   "metadata": {},
   "source": [
    "**2. Hellinger transformations:** \n",
    "\n",
    "Redundancy analysis is a type of PCA of our response (stromata) matrix coupled with a multiple regression of our explanatory matrix, in this case either our wood or leaf endophyte matrices. (RDA is obviously a lot more complicated than this, involving construction of new axes informed by both explanatory and response variable, see [here](#https://sites.google.com/site/mb3gustame/constrained-analyses/rda)). Since this can be considered a type of multiple regression and PCA analysis, we run into some obstacles. PCA analysis relies on Euclidean distances for its construction of new axes, and multiple regression works best when the explanatory variables can be modeled linearly, or at least ordered in rank abundance. But it's pretty well known that species distributions aren't modeled well as linear gradients. Along a single environmental gradient they may follow unimodal, gaussian distibutions, but in really sparse matrices like we have, with incomplete sampling of thousands of interacting species instead of one, and in the finite space of a single study with environmental variables varying at different spatial scales, this type of normality can be pretty hard to pick up. Also the numerous zeroes in these matrices make very different sampling sites look very similar in normal euclidean space, [the double zero problem](#https://sites.google.com/site/mb3gustame/reference/dissimilarity).\n",
    "\n",
    "So we'll standardize and flatten out differences in abundances in our species matrices using a [Hellinger transformation](#http://www.jstor.org/stable/4223083). In doing so we hope to reduce the homogenizing effect of having lots of zeroes in all sites and retain monotonic properties, if not linearity, to our abundance data (which we've already reduced to presence-absence). The RDA can then proceed with these transformed values to create new axes that are shared by both our explanatory and response matrices, using euclidean distances. At least, that's the theory..."
   ]
  },
  {
   "cell_type": "code",
   "execution_count": 20,
   "metadata": {
    "collapsed": true
   },
   "outputs": [],
   "source": [
    "stromata.hel <- decostand(stromata, 'hellinger')\n",
    "endos.hel <- decostand(endos, 'hellinger')"
   ]
  },
  {
   "cell_type": "code",
   "execution_count": 21,
   "metadata": {
    "collapsed": false
   },
   "outputs": [],
   "source": [
    "#save(stromata, file='stromata.rda')\n",
    "#save(endos, file='endos.rda')\n",
    "\n",
    "#save(stromata.hel, file='stromata.hel.rda')\n",
    "#save(endos.hel, file='endos.hel.rda')"
   ]
  },
  {
   "cell_type": "markdown",
   "metadata": {},
   "source": [
    "<a id='rda'></a>"
   ]
  },
  {
   "cell_type": "markdown",
   "metadata": {},
   "source": [
    "# Redundancy Analysis"
   ]
  },
  {
   "cell_type": "markdown",
   "metadata": {},
   "source": [
    "Okay, think we're done with formatting and transformations. Time to do the deed:"
   ]
  },
  {
   "cell_type": "markdown",
   "metadata": {},
   "source": [
    "**Stromata as a function of entire leaf endophyte community**"
   ]
  },
  {
   "cell_type": "code",
   "execution_count": 8,
   "metadata": {
    "collapsed": false
   },
   "outputs": [],
   "source": [
    "leaf.rda <- rda(stromata.hel ~ ., data = endos.hel) ## run the rda"
   ]
  },
  {
   "cell_type": "code",
   "execution_count": 9,
   "metadata": {
    "collapsed": false
   },
   "outputs": [
    {
     "data": {
      "text/html": [
       "<table>\n",
       "<thead><tr><th></th><th scope=col>Df</th><th scope=col>Variance</th><th scope=col>F</th><th scope=col>Pr(&gt;F)</th></tr></thead>\n",
       "<tbody>\n",
       "\t<tr><th scope=row>Model</th><td>18        </td><td>0.06033647</td><td>1.356065  </td><td>0.04389561</td></tr>\n",
       "\t<tr><th scope=row>Residual</th><td>96        </td><td>0.23730024</td><td>      NA  </td><td>        NA</td></tr>\n",
       "</tbody>\n",
       "</table>\n"
      ],
      "text/latex": [
       "\\begin{tabular}{r|llll}\n",
       "  & Df & Variance & F & Pr(>F)\\\\\n",
       "\\hline\n",
       "\tModel & 18         & 0.06033647 & 1.356065   & 0.04389561\\\\\n",
       "\tResidual & 96         & 0.23730024 &       NA   &         NA\\\\\n",
       "\\end{tabular}\n"
      ],
      "text/plain": [
       "         Df Variance   F        Pr(>F)    \n",
       "Model    18 0.06033647 1.356065 0.04389561\n",
       "Residual 96 0.23730024       NA         NA"
      ]
     },
     "metadata": {},
     "output_type": "display_data"
    }
   ],
   "source": [
    "anova.cca(leaf.rda, permutations = 10000) ## check for significance"
   ]
  },
  {
   "cell_type": "markdown",
   "metadata": {},
   "source": [
    "Not a lot of variance explained, but we weren't expecting much, as \"viaphytism\" is just one reason to live in a leaf. Look at our RDAs:"
   ]
  },
  {
   "cell_type": "code",
   "execution_count": 11,
   "metadata": {
    "collapsed": false,
    "scrolled": false
   },
   "outputs": [
    {
     "data": {
      "text/plain": [
       "Call: rda(formula = stromata.hel ~ A_atroroseum +\n",
       "A_bovei_var_microspora + A_moriforme + B_capnodes_1 + H_notatum +\n",
       "H_perforatum_China + K_pavimentosa + K_pavimentosa_or_N_primolutea +\n",
       "N_bipapillata_var_bipapillata + N_bipapillata_var_macrodiscus +\n",
       "N_diffusa + N_sp_1 + W_microplaca + X_atrosphaerica + X_flabelliforme +\n",
       "X_schweinitzii + X_sp_1 + X_sp_nov_1_long, data = endos.hel)\n",
       "\n",
       "              Inertia Proportion Rank\n",
       "Total         0.29764    1.00000     \n",
       "Constrained   0.06034    0.20272   17\n",
       "Unconstrained 0.23730    0.79728   18\n",
       "Inertia is variance \n",
       "\n",
       "Eigenvalues for constrained axes:\n",
       "    RDA1     RDA2     RDA3     RDA4     RDA5     RDA6     RDA7     RDA8 \n",
       "0.021076 0.009911 0.009357 0.004949 0.003513 0.003352 0.002402 0.001661 \n",
       "    RDA9    RDA10    RDA11    RDA12    RDA13    RDA14    RDA15    RDA16 \n",
       "0.001277 0.000935 0.000696 0.000379 0.000336 0.000239 0.000133 0.000088 \n",
       "   RDA17 \n",
       "0.000034 \n",
       "\n",
       "Eigenvalues for unconstrained axes:\n",
       "    PC1     PC2     PC3     PC4     PC5     PC6     PC7     PC8 \n",
       "0.07959 0.02620 0.02066 0.01497 0.01387 0.01215 0.00920 0.00848 \n",
       "(Showed only 8 of all 18 unconstrained eigenvalues)\n"
      ]
     },
     "metadata": {},
     "output_type": "display_data"
    }
   ],
   "source": [
    "leaf.rda"
   ]
  },
  {
   "cell_type": "markdown",
   "metadata": {},
   "source": [
    "Which of these RDA's are statistically significant?"
   ]
  },
  {
   "cell_type": "code",
   "execution_count": 19,
   "metadata": {
    "collapsed": false
   },
   "outputs": [
    {
     "data": {
      "text/html": [
       "<table>\n",
       "<thead><tr><th></th><th scope=col>Df</th><th scope=col>Variance</th><th scope=col>F</th><th scope=col>Pr(&gt;F)</th></tr></thead>\n",
       "<tbody>\n",
       "\t<tr><th scope=row>RDA1</th><td> 1          </td><td>2.107571e-02</td><td>8.61500872  </td><td>0.001       </td></tr>\n",
       "\t<tr><th scope=row>RDA2</th><td> 1          </td><td>9.911092e-03</td><td>4.05130631  </td><td>0.007       </td></tr>\n",
       "\t<tr><th scope=row>RDA3</th><td> 1          </td><td>9.356885e-03</td><td>3.82476575  </td><td>0.002       </td></tr>\n",
       "\t<tr><th scope=row>RDA4</th><td> 1          </td><td>4.949327e-03</td><td>2.02311086  </td><td>0.049       </td></tr>\n",
       "\t<tr><th scope=row>RDA5</th><td> 1          </td><td>3.512714e-03</td><td>1.43587418  </td><td>0.238       </td></tr>\n",
       "\t<tr><th scope=row>RDA6</th><td> 1          </td><td>3.351741e-03</td><td>1.37007399  </td><td>0.182       </td></tr>\n",
       "\t<tr><th scope=row>RDA7</th><td> 1          </td><td>2.401561e-03</td><td>0.98167380  </td><td>0.385       </td></tr>\n",
       "\t<tr><th scope=row>RDA8</th><td> 1          </td><td>1.661286e-03</td><td>0.67907523  </td><td>0.723       </td></tr>\n",
       "\t<tr><th scope=row>RDA9</th><td> 1          </td><td>1.276855e-03</td><td>0.52193333  </td><td>0.866       </td></tr>\n",
       "\t<tr><th scope=row>RDA10</th><td> 1          </td><td>9.345910e-04</td><td>0.38202799  </td><td>0.950       </td></tr>\n",
       "\t<tr><th scope=row>RDA11</th><td> 1          </td><td>6.964767e-04</td><td>0.28469522  </td><td>0.993       </td></tr>\n",
       "\t<tr><th scope=row>RDA12</th><td> 1          </td><td>3.787611e-04</td><td>0.15482423  </td><td>1.000       </td></tr>\n",
       "\t<tr><th scope=row>RDA13</th><td> 1          </td><td>3.361033e-04</td><td>0.13738720  </td><td>1.000       </td></tr>\n",
       "\t<tr><th scope=row>RDA14</th><td> 1          </td><td>2.389057e-04</td><td>0.09765627  </td><td>1.000       </td></tr>\n",
       "\t<tr><th scope=row>RDA15</th><td> 1          </td><td>1.328120e-04</td><td>0.05428889  </td><td>1.000       </td></tr>\n",
       "\t<tr><th scope=row>RDA16</th><td> 1          </td><td>8.812498e-05</td><td>0.03602240  </td><td>1.000       </td></tr>\n",
       "\t<tr><th scope=row>RDA17</th><td> 1          </td><td>3.352947e-05</td><td>0.01370567  </td><td>1.000       </td></tr>\n",
       "\t<tr><th scope=row>Residual</th><td>97          </td><td>2.373002e-01</td><td>        NA  </td><td>   NA       </td></tr>\n",
       "</tbody>\n",
       "</table>\n"
      ],
      "text/latex": [
       "\\begin{tabular}{r|llll}\n",
       "  & Df & Variance & F & Pr(>F)\\\\\n",
       "\\hline\n",
       "\tRDA1 &  1           & 2.107571e-02 & 8.61500872   & 0.001       \\\\\n",
       "\tRDA2 &  1           & 9.911092e-03 & 4.05130631   & 0.007       \\\\\n",
       "\tRDA3 &  1           & 9.356885e-03 & 3.82476575   & 0.002       \\\\\n",
       "\tRDA4 &  1           & 4.949327e-03 & 2.02311086   & 0.049       \\\\\n",
       "\tRDA5 &  1           & 3.512714e-03 & 1.43587418   & 0.238       \\\\\n",
       "\tRDA6 &  1           & 3.351741e-03 & 1.37007399   & 0.182       \\\\\n",
       "\tRDA7 &  1           & 2.401561e-03 & 0.98167380   & 0.385       \\\\\n",
       "\tRDA8 &  1           & 1.661286e-03 & 0.67907523   & 0.723       \\\\\n",
       "\tRDA9 &  1           & 1.276855e-03 & 0.52193333   & 0.866       \\\\\n",
       "\tRDA10 &  1           & 9.345910e-04 & 0.38202799   & 0.950       \\\\\n",
       "\tRDA11 &  1           & 6.964767e-04 & 0.28469522   & 0.993       \\\\\n",
       "\tRDA12 &  1           & 3.787611e-04 & 0.15482423   & 1.000       \\\\\n",
       "\tRDA13 &  1           & 3.361033e-04 & 0.13738720   & 1.000       \\\\\n",
       "\tRDA14 &  1           & 2.389057e-04 & 0.09765627   & 1.000       \\\\\n",
       "\tRDA15 &  1           & 1.328120e-04 & 0.05428889   & 1.000       \\\\\n",
       "\tRDA16 &  1           & 8.812498e-05 & 0.03602240   & 1.000       \\\\\n",
       "\tRDA17 &  1           & 3.352947e-05 & 0.01370567   & 1.000       \\\\\n",
       "\tResidual & 97           & 2.373002e-01 &         NA   &    NA       \\\\\n",
       "\\end{tabular}\n"
      ],
      "text/plain": [
       "         Df Variance     F          Pr(>F)\n",
       "RDA1      1 2.107571e-02 8.61500872 0.001 \n",
       "RDA2      1 9.911092e-03 4.05130631 0.007 \n",
       "RDA3      1 9.356885e-03 3.82476575 0.002 \n",
       "RDA4      1 4.949327e-03 2.02311086 0.049 \n",
       "RDA5      1 3.512714e-03 1.43587418 0.238 \n",
       "RDA6      1 3.351741e-03 1.37007399 0.182 \n",
       "RDA7      1 2.401561e-03 0.98167380 0.385 \n",
       "RDA8      1 1.661286e-03 0.67907523 0.723 \n",
       "RDA9      1 1.276855e-03 0.52193333 0.866 \n",
       "RDA10     1 9.345910e-04 0.38202799 0.950 \n",
       "RDA11     1 6.964767e-04 0.28469522 0.993 \n",
       "RDA12     1 3.787611e-04 0.15482423 1.000 \n",
       "RDA13     1 3.361033e-04 0.13738720 1.000 \n",
       "RDA14     1 2.389057e-04 0.09765627 1.000 \n",
       "RDA15     1 1.328120e-04 0.05428889 1.000 \n",
       "RDA16     1 8.812498e-05 0.03602240 1.000 \n",
       "RDA17     1 3.352947e-05 0.01370567 1.000 \n",
       "Residual 97 2.373002e-01         NA    NA "
      ]
     },
     "metadata": {},
     "output_type": "display_data"
    }
   ],
   "source": [
    "anova_axis<-anova(leaf.rda,by=\"axis\")\n",
    "anova_axis"
   ]
  },
  {
   "cell_type": "code",
   "execution_count": 12,
   "metadata": {
    "collapsed": true
   },
   "outputs": [],
   "source": [
    "#save(leaf.rda, file='leafrda.rda')"
   ]
  },
  {
   "cell_type": "markdown",
   "metadata": {},
   "source": [
    "<a id='graphics'></a>"
   ]
  },
  {
   "cell_type": "markdown",
   "metadata": {},
   "source": [
    "## Graphics"
   ]
  },
  {
   "cell_type": "markdown",
   "metadata": {},
   "source": [
    "There is a quick plotter for these kinds of constrained ordinations:"
   ]
  },
  {
   "cell_type": "code",
   "execution_count": 17,
   "metadata": {
    "collapsed": false,
    "scrolled": false
   },
   "outputs": [
    {
     "data": {
      "image/png": "[encoded data removed]",
      "text/plain": [
       "plot without title"
      ]
     },
     "metadata": {},
     "output_type": "display_data"
    }
   ],
   "source": [
    "options(repr.plot.width = 5, repr.plot.height = 5)\n",
    "leafrdaplot <- plot(leaf.rda)"
   ]
  },
  {
   "cell_type": "markdown",
   "metadata": {},
   "source": [
    "In these plots, species from our wood or leaf matrix are arrows. RDA is a type of constrained analysis, so the wood endophyte species are being used in the construction of the two most important PCA's (RDA's) that are our two axes. The longer the arrow, the more important they are for these new RDA axes. Hence, the longer arrows indicate which leaf endophytes seem to be co-varying with our stromata community.However, if we look at our RDA's, the second (\"y\" axis) is far less important and pretty arbitrary, the RDA's after the first one are in the same order of magnitude.\n",
    "\n",
    "So for the moment, let's focus on this first RDA, where most of the information is. Not sure where the loadings for the RDA's are kept in the model, but they are in the plot object, we can grab them from there:"
   ]
  },
  {
   "cell_type": "code",
   "execution_count": 13,
   "metadata": {
    "collapsed": false,
    "scrolled": false
   },
   "outputs": [
    {
     "data": {
      "text/html": [
       "<table>\n",
       "<thead><tr><th></th><th scope=col>RDA1</th><th scope=col>RDA2</th></tr></thead>\n",
       "<tbody>\n",
       "\t<tr><th scope=row>A_atroroseum</th><td>-0.13031924</td><td>-0.04945629</td></tr>\n",
       "\t<tr><th scope=row>A_bovei_var_microspora</th><td>-0.41283831</td><td>-0.31318943</td></tr>\n",
       "\t<tr><th scope=row>A_moriforme</th><td> 0.01852943</td><td>-0.26392204</td></tr>\n",
       "\t<tr><th scope=row>B_capnodes_1</th><td> 0.18551848</td><td>-0.78847767</td></tr>\n",
       "\t<tr><th scope=row>H_notatum</th><td> 0.30504264</td><td>-0.12732847</td></tr>\n",
       "\t<tr><th scope=row>H_perforatum_China</th><td> 0.04059997</td><td>-0.09363635</td></tr>\n",
       "</tbody>\n",
       "</table>\n"
      ],
      "text/latex": [
       "\\begin{tabular}{r|ll}\n",
       "  & RDA1 & RDA2\\\\\n",
       "\\hline\n",
       "\tA\\_atroroseum & -0.13031924 & -0.04945629\\\\\n",
       "\tA\\_bovei\\_var\\_microspora & -0.41283831 & -0.31318943\\\\\n",
       "\tA\\_moriforme &  0.01852943 & -0.26392204\\\\\n",
       "\tB\\_capnodes\\_1 &  0.18551848 & -0.78847767\\\\\n",
       "\tH\\_notatum &  0.30504264 & -0.12732847\\\\\n",
       "\tH\\_perforatum\\_China &  0.04059997 & -0.09363635\\\\\n",
       "\\end{tabular}\n"
      ],
      "text/markdown": [
       "1. -0.130319243489483\n",
       "2. -0.412838311592623\n",
       "3. 0.0185294347667428\n",
       "4. 0.185518481203935\n",
       "5. 0.305042639476992\n",
       "6. 0.0405999712868703\n",
       "7. -0.0494562900608428\n",
       "8. -0.31318942828566\n",
       "9. -0.263922037035839\n",
       "10. -0.7884776722164\n",
       "11. -0.127328465775807\n",
       "12. -0.093636353487185\n",
       "\n",
       "\n"
      ],
      "text/plain": [
       "                       RDA1        RDA2       \n",
       "A_atroroseum           -0.13031924 -0.04945629\n",
       "A_bovei_var_microspora -0.41283831 -0.31318943\n",
       "A_moriforme             0.01852943 -0.26392204\n",
       "B_capnodes_1            0.18551848 -0.78847767\n",
       "H_notatum               0.30504264 -0.12732847\n",
       "H_perforatum_China      0.04059997 -0.09363635"
      ]
     },
     "metadata": {},
     "output_type": "display_data"
    }
   ],
   "source": [
    "head(leafrdaplot$biplot)"
   ]
  },
  {
   "cell_type": "markdown",
   "metadata": {},
   "source": [
    "Okay, here's a quick and dirty function for grabbing one of these RDAs and plotting them in spiral arrangement. Uses three arguments - the rda plot object, the rda number, and the number of species desired from this rda. The setting for the x and y limits may need to be altered, but if so, range and domain should be equal to avoid biasing the lengths of the arrows. "
   ]
  },
  {
   "cell_type": "code",
   "execution_count": 14,
   "metadata": {
    "collapsed": true
   },
   "outputs": [],
   "source": [
    "oneRDAplot <- function(rdaplot, rdanum, speciesnum){\n",
    "        ## empty plot\n",
    "        plot(1, type = 'n', xlim=c(-0.5,0.8), ylim=c(-0.5,0.8), axes=FALSE, xlab=\"\",ylab=\"\")\n",
    "        ## get RDA\n",
    "        aa <- rdaplot$biplot[,rdanum]\n",
    "        ## magnitude, not direction, really matters here:\n",
    "        bb <- sort(abs(aa), decreasing=TRUE)\n",
    "        ## take out the number of species desired:\n",
    "        cc <- bb[1:speciesnum]\n",
    "        ## first create a set of angles:\n",
    "        ang <- NULL\n",
    "        ang[1] <- 90\n",
    "        for (i in 2:speciesnum){\n",
    "                ang[i] <- ang[i-1] - 360/speciesnum\n",
    "                if(ang[i] < 0) {ang[i] <- ang[i] + 360}\n",
    "        }\n",
    "        ang <- ang*pi/180 ## convert to radians, these are our angles\n",
    "        ## now create a set of x and y coords using our angles\n",
    "        ## we need to multiply by the loadings from our RDA ('cc')\n",
    "        x1 <- cc*cos(ang)\n",
    "        y1 <- cc*sin(ang)\n",
    "        ## and plot these arrows:\n",
    "        arrows(x0=0,y0=0,x1,y1, length=.1)\n",
    "        return(cc) ## give back sorted list\n",
    "} ## end of function"
   ]
  },
  {
   "cell_type": "code",
   "execution_count": 15,
   "metadata": {
    "collapsed": false
   },
   "outputs": [
    {
     "data": {
      "image/png": "[encoded data removed]",
      "text/plain": [
       "plot without title"
      ]
     },
     "metadata": {},
     "output_type": "display_data"
    }
   ],
   "source": [
    "aa <- oneRDAplot(leafrdaplot, 1, 10)"
   ]
  },
  {
   "cell_type": "code",
   "execution_count": 16,
   "metadata": {
    "collapsed": false,
    "scrolled": false
   },
   "outputs": [
    {
     "data": {
      "text/html": [
       "<dl class=dl-horizontal>\n",
       "\t<dt>K_pavimentosa_or_N_primolutea</dt>\n",
       "\t\t<dd>0.584819586733012</dd>\n",
       "\t<dt>N_diffusa</dt>\n",
       "\t\t<dd>0.566846065350863</dd>\n",
       "\t<dt>A_bovei_var_microspora</dt>\n",
       "\t\t<dd>0.412838311592623</dd>\n",
       "\t<dt>H_notatum</dt>\n",
       "\t\t<dd>0.305042639476992</dd>\n",
       "\t<dt>X_atrosphaerica</dt>\n",
       "\t\t<dd>0.272610672006851</dd>\n",
       "\t<dt>N_bipapillata_var_bipapillata</dt>\n",
       "\t\t<dd>0.21902208119141</dd>\n",
       "\t<dt>B_capnodes_1</dt>\n",
       "\t\t<dd>0.185518481203935</dd>\n",
       "\t<dt>X_sp_1</dt>\n",
       "\t\t<dd>0.153039600413574</dd>\n",
       "\t<dt>X_flabelliforme</dt>\n",
       "\t\t<dd>0.147403434094757</dd>\n",
       "\t<dt>A_atroroseum</dt>\n",
       "\t\t<dd>0.130319243489483</dd>\n",
       "</dl>\n"
      ],
      "text/latex": [
       "\\begin{description*}\n",
       "\\item[K\\textbackslash{}\\_pavimentosa\\textbackslash{}\\_or\\textbackslash{}\\_N\\textbackslash{}\\_primolutea] 0.584819586733012\n",
       "\\item[N\\textbackslash{}\\_diffusa] 0.566846065350863\n",
       "\\item[A\\textbackslash{}\\_bovei\\textbackslash{}\\_var\\textbackslash{}\\_microspora] 0.412838311592623\n",
       "\\item[H\\textbackslash{}\\_notatum] 0.305042639476992\n",
       "\\item[X\\textbackslash{}\\_atrosphaerica] 0.272610672006851\n",
       "\\item[N\\textbackslash{}\\_bipapillata\\textbackslash{}\\_var\\textbackslash{}\\_bipapillata] 0.21902208119141\n",
       "\\item[B\\textbackslash{}\\_capnodes\\textbackslash{}\\_1] 0.185518481203935\n",
       "\\item[X\\textbackslash{}\\_sp\\textbackslash{}\\_1] 0.153039600413574\n",
       "\\item[X\\textbackslash{}\\_flabelliforme] 0.147403434094757\n",
       "\\item[A\\textbackslash{}\\_atroroseum] 0.130319243489483\n",
       "\\end{description*}\n"
      ],
      "text/markdown": [
       "K_pavimentosa_or_N_primolutea\n",
       ":   0.584819586733012N_diffusa\n",
       ":   0.566846065350863A_bovei_var_microspora\n",
       ":   0.412838311592623H_notatum\n",
       ":   0.305042639476992X_atrosphaerica\n",
       ":   0.272610672006851N_bipapillata_var_bipapillata\n",
       ":   0.21902208119141B_capnodes_1\n",
       ":   0.185518481203935X_sp_1\n",
       ":   0.153039600413574X_flabelliforme\n",
       ":   0.147403434094757A_atroroseum\n",
       ":   0.130319243489483\n",
       "\n"
      ],
      "text/plain": [
       "K_pavimentosa_or_N_primolutea                     N_diffusa \n",
       "                    0.5848196                     0.5668461 \n",
       "       A_bovei_var_microspora                     H_notatum \n",
       "                    0.4128383                     0.3050426 \n",
       "              X_atrosphaerica N_bipapillata_var_bipapillata \n",
       "                    0.2726107                     0.2190221 \n",
       "                 B_capnodes_1                        X_sp_1 \n",
       "                    0.1855185                     0.1530396 \n",
       "              X_flabelliforme                  A_atroroseum \n",
       "                    0.1474034                     0.1303192 "
      ]
     },
     "metadata": {},
     "output_type": "display_data"
    }
   ],
   "source": [
    "aa"
   ]
  },
  {
   "cell_type": "markdown",
   "metadata": {},
   "source": [
    "So that is one way of presenting our results, using just the first RDA. If we want to plot other RDA's beyond RDA1 and RDA2, we need to dig into our RDA object a little more:"
   ]
  },
  {
   "cell_type": "code",
   "execution_count": 30,
   "metadata": {
    "collapsed": true
   },
   "outputs": [],
   "source": [
    "loads <- leaf.rda$CC$biplot"
   ]
  },
  {
   "cell_type": "code",
   "execution_count": 31,
   "metadata": {
    "collapsed": false
   },
   "outputs": [
    {
     "data": {
      "text/html": [
       "<table>\n",
       "<thead><tr><th></th><th scope=col>RDA1</th><th scope=col>RDA2</th><th scope=col>RDA3</th><th scope=col>RDA4</th><th scope=col>RDA5</th><th scope=col>RDA6</th><th scope=col>RDA7</th><th scope=col>RDA8</th><th scope=col>RDA9</th><th scope=col>RDA10</th><th scope=col>RDA11</th><th scope=col>RDA12</th><th scope=col>RDA13</th><th scope=col>RDA14</th><th scope=col>RDA15</th><th scope=col>RDA16</th><th scope=col>RDA17</th></tr></thead>\n",
       "<tbody>\n",
       "\t<tr><th scope=row>A_atroroseum</th><td>-0.13031924 </td><td>-0.049456290</td><td> 0.16266511 </td><td>-0.13636009 </td><td> 0.129738730</td><td> 0.05389651 </td><td> 0.43010687 </td><td> 0.14172974 </td><td> 0.08892238 </td><td>-0.497779283</td><td> 0.09194896 </td><td> 0.141049841</td><td> 0.23195429 </td><td>-0.193102015</td><td> 0.156325473</td><td>-0.50762990 </td><td>-0.206903824</td></tr>\n",
       "\t<tr><th scope=row>A_bovei_var_microspora</th><td>-0.41283831 </td><td>-0.313189428</td><td> 0.45615937 </td><td> 0.07457499 </td><td>-0.122874085</td><td> 0.14972605 </td><td>-0.04368005 </td><td> 0.05197744 </td><td> 0.03686783 </td><td> 0.114321582</td><td>-0.05688748 </td><td>-0.090243729</td><td> 0.21537424 </td><td>-0.328198764</td><td> 0.061695903</td><td> 0.18846083 </td><td> 0.398938020</td></tr>\n",
       "\t<tr><th scope=row>A_moriforme</th><td> 0.01852943 </td><td>-0.263922037</td><td> 0.60477528 </td><td> 0.05000369 </td><td>-0.059645085</td><td> 0.19348662 </td><td>-0.11329314 </td><td>-0.16488177 </td><td> 0.05654468 </td><td>-0.023784713</td><td> 0.01583784 </td><td> 0.207675157</td><td>-0.04697261 </td><td> 0.234601714</td><td> 0.037708942</td><td>-0.38551909 </td><td>-0.256285438</td></tr>\n",
       "\t<tr><th scope=row>B_capnodes_1</th><td> 0.18551848 </td><td>-0.788477672</td><td>-0.40629779 </td><td> 0.14173948 </td><td>-0.048708618</td><td> 0.02303442 </td><td> 0.19568107 </td><td>-0.18221467 </td><td> 0.19780991 </td><td>-0.050179723</td><td>-0.03262920 </td><td> 0.007344093</td><td> 0.06983528 </td><td> 0.019479148</td><td>-0.009595561</td><td> 0.15898592 </td><td>-0.020705146</td></tr>\n",
       "\t<tr><th scope=row>H_notatum</th><td> 0.30504264 </td><td>-0.127328466</td><td>-0.08635277 </td><td>-0.25582810 </td><td> 0.249273148</td><td> 0.41675697 </td><td> 0.01661944 </td><td>-0.03102293 </td><td> 0.56877831 </td><td> 0.004922563</td><td> 0.29024794 </td><td> 0.130559400</td><td>-0.26670833 </td><td>-0.155970061</td><td> 0.025717043</td><td> 0.16008309 </td><td>-0.019164207</td></tr>\n",
       "\t<tr><th scope=row>H_perforatum_China</th><td> 0.04059997 </td><td>-0.093636353</td><td> 0.33955652 </td><td> 0.06478961 </td><td> 0.061221230</td><td>-0.12833253 </td><td> 0.16478407 </td><td> 0.05447159 </td><td> 0.22828134 </td><td>-0.402371959</td><td>-0.16165943 </td><td>-0.184433223</td><td>-0.65293704 </td><td> 0.265928591</td><td>-0.035380955</td><td>-0.09575375 </td><td> 0.193612920</td></tr>\n",
       "\t<tr><th scope=row>K_pavimentosa</th><td> 0.01235998 </td><td> 0.135072255</td><td>-0.01324757 </td><td> 0.47858957 </td><td>-0.087746569</td><td>-0.23856337 </td><td> 0.30320799 </td><td> 0.20549482 </td><td> 0.29570119 </td><td> 0.272404847</td><td> 0.51073508 </td><td>-0.082172707</td><td> 0.10729697 </td><td>-0.088144905</td><td>-0.088419922</td><td>-0.31160488 </td><td> 0.009771492</td></tr>\n",
       "\t<tr><th scope=row>K_pavimentosa_or_N_primolutea</th><td>-0.58481959 </td><td>-0.001115622</td><td>-0.28654710 </td><td>-0.21896560 </td><td> 0.098983935</td><td>-0.12051682 </td><td>-0.36653081 </td><td>-0.01089278 </td><td> 0.28776728 </td><td>-0.116365170</td><td> 0.41758707 </td><td> 0.156714407</td><td> 0.01655517 </td><td> 0.260594175</td><td>-0.004726682</td><td> 0.01279960 </td><td>-0.069303944</td></tr>\n",
       "\t<tr><th scope=row>N_bipapillata_var_bipapillata</th><td> 0.21902208 </td><td> 0.144061792</td><td>-0.02008726 </td><td> 0.31218874 </td><td>-0.079829049</td><td> 0.39611798 </td><td>-0.37206832 </td><td> 0.03625184 </td><td> 0.13673413 </td><td>-0.399708130</td><td> 0.10540517 </td><td>-0.054981086</td><td> 0.15213474 </td><td>-0.004155127</td><td> 0.042318067</td><td>-0.14534219 </td><td> 0.378708759</td></tr>\n",
       "\t<tr><th scope=row>N_bipapillata_var_macrodiscus</th><td>-0.08064604 </td><td> 0.106369539</td><td>-0.10419739 </td><td>-0.07438583 </td><td>-0.341929165</td><td> 0.12682899 </td><td>-0.08587586 </td><td>-0.07686303 </td><td> 0.44124648 </td><td> 0.220162446</td><td>-0.42165022 </td><td>-0.342759428</td><td> 0.19624812 </td><td> 0.058201051</td><td> 0.191767999</td><td>-0.36748694 </td><td> 0.059094614</td></tr>\n",
       "\t<tr><th scope=row>N_diffusa</th><td> 0.56684607 </td><td> 0.039448440</td><td> 0.12175526 </td><td>-0.17272774 </td><td> 0.255030348</td><td>-0.55351420 </td><td>-0.20029674 </td><td>-0.24628463 </td><td>-0.01468317 </td><td>-0.002699296</td><td> 0.09475219 </td><td>-0.302763162</td><td> 0.21751833 </td><td>-0.050777413</td><td>-0.071943642</td><td> 0.01519589 </td><td> 0.055708139</td></tr>\n",
       "\t<tr><th scope=row>N_sp_1</th><td>-0.02839978 </td><td> 0.005253843</td><td> 0.09530411 </td><td>-0.41009356 </td><td>-0.001001311</td><td> 0.20879106 </td><td> 0.37820036 </td><td> 0.40541482 </td><td> 0.02466142 </td><td> 0.221296058</td><td>-0.04401836 </td><td>-0.275466591</td><td>-0.11253001 </td><td> 0.319225712</td><td>-0.020691817</td><td> 0.14511385 </td><td> 0.150300595</td></tr>\n",
       "\t<tr><th scope=row>W_microplaca</th><td> 0.04808911 </td><td>-0.022730989</td><td> 0.24786031 </td><td> 0.07239074 </td><td>-0.046476306</td><td> 0.46634651 </td><td> 0.18313601 </td><td>-0.14514903 </td><td>-0.10315595 </td><td>-0.079250351</td><td> 0.12091215 </td><td>-0.031839769</td><td> 0.37553058 </td><td> 0.392001747</td><td>-0.264824962</td><td>-0.04794213 </td><td>-0.071458506</td></tr>\n",
       "\t<tr><th scope=row>X_atrosphaerica</th><td> 0.27261067 </td><td>-0.267939643</td><td>-0.12309335 </td><td>-0.06906786 </td><td> 0.147336557</td><td> 0.07396288 </td><td>-0.40019781 </td><td> 0.55927006 </td><td>-0.18301434 </td><td> 0.015394006</td><td>-0.03087201 </td><td> 0.106019824</td><td>-0.22976650 </td><td>-0.087511498</td><td>-0.072593127</td><td>-0.37209584 </td><td> 0.094524354</td></tr>\n",
       "\t<tr><th scope=row>X_flabelliforme</th><td> 0.14740343 </td><td> 0.006439303</td><td> 0.12390651 </td><td> 0.05514194 </td><td>-0.022458254</td><td>-0.08953257 </td><td> 0.09627592 </td><td> 0.41258295 </td><td> 0.33235130 </td><td>-0.022680805</td><td>-0.41077469 </td><td> 0.518397685</td><td> 0.26007242 </td><td> 0.112825590</td><td>-0.182488330</td><td> 0.18935920 </td><td> 0.271296007</td></tr>\n",
       "\t<tr><th scope=row>X_schweinitzii</th><td>-0.01152080 </td><td>-0.106122163</td><td>-0.05297491 </td><td> 0.29112625 </td><td>-0.051463720</td><td> 0.12606940 </td><td>-0.12414565 </td><td> 0.30889076 </td><td> 0.07916449 </td><td>-0.181952123</td><td>-0.13702556 </td><td>-0.279081147</td><td> 0.09160026 </td><td>-0.065666457</td><td> 0.065595070</td><td> 0.35481040 </td><td>-0.699213631</td></tr>\n",
       "\t<tr><th scope=row>X_sp_1</th><td> 0.15303960 </td><td> 0.051509891</td><td> 0.02562683 </td><td>-0.36886855 </td><td>-0.845755926</td><td>-0.10641489 </td><td>-0.01924024 </td><td> 0.08664022 </td><td> 0.22288932 </td><td>-0.125641407</td><td> 0.03074713 </td><td>-0.021645519</td><td>-0.13724112 </td><td> 0.005606104</td><td> 0.014738113</td><td> 0.05934855 </td><td>-0.062236928</td></tr>\n",
       "\t<tr><th scope=row>X_sp_nov_1_long</th><td>-0.11146371 </td><td> 0.022229502</td><td>-0.06006882 </td><td>-0.07948919 </td><td> 0.024968426</td><td>-0.04032172 </td><td>-0.03939664 </td><td>-0.06864125 </td><td> 0.00937055 </td><td>-0.004212856</td><td>-0.20813229 </td><td>-0.072145791</td><td>-0.02320676 </td><td>-0.414377841</td><td>-0.827227732</td><td>-0.16018118 </td><td>-0.120703084</td></tr>\n",
       "</tbody>\n",
       "</table>\n"
      ],
      "text/latex": [
       "\\begin{tabular}{r|lllllllllllllllll}\n",
       "  & RDA1 & RDA2 & RDA3 & RDA4 & RDA5 & RDA6 & RDA7 & RDA8 & RDA9 & RDA10 & RDA11 & RDA12 & RDA13 & RDA14 & RDA15 & RDA16 & RDA17\\\\\n",
       "\\hline\n",
       "\tA\\_atroroseum & -0.13031924  & -0.049456290 &  0.16266511  & -0.13636009  &  0.129738730 &  0.05389651  &  0.43010687  &  0.14172974  &  0.08892238  & -0.497779283 &  0.09194896  &  0.141049841 &  0.23195429  & -0.193102015 &  0.156325473 & -0.50762990  & -0.206903824\\\\\n",
       "\tA\\_bovei\\_var\\_microspora & -0.41283831  & -0.313189428 &  0.45615937  &  0.07457499  & -0.122874085 &  0.14972605  & -0.04368005  &  0.05197744  &  0.03686783  &  0.114321582 & -0.05688748  & -0.090243729 &  0.21537424  & -0.328198764 &  0.061695903 &  0.18846083  &  0.398938020\\\\\n",
       "\tA\\_moriforme &  0.01852943  & -0.263922037 &  0.60477528  &  0.05000369  & -0.059645085 &  0.19348662  & -0.11329314  & -0.16488177  &  0.05654468  & -0.023784713 &  0.01583784  &  0.207675157 & -0.04697261  &  0.234601714 &  0.037708942 & -0.38551909  & -0.256285438\\\\\n",
       "\tB\\_capnodes\\_1 &  0.18551848  & -0.788477672 & -0.40629779  &  0.14173948  & -0.048708618 &  0.02303442  &  0.19568107  & -0.18221467  &  0.19780991  & -0.050179723 & -0.03262920  &  0.007344093 &  0.06983528  &  0.019479148 & -0.009595561 &  0.15898592  & -0.020705146\\\\\n",
       "\tH\\_notatum &  0.30504264  & -0.127328466 & -0.08635277  & -0.25582810  &  0.249273148 &  0.41675697  &  0.01661944  & -0.03102293  &  0.56877831  &  0.004922563 &  0.29024794  &  0.130559400 & -0.26670833  & -0.155970061 &  0.025717043 &  0.16008309  & -0.019164207\\\\\n",
       "\tH\\_perforatum\\_China &  0.04059997  & -0.093636353 &  0.33955652  &  0.06478961  &  0.061221230 & -0.12833253  &  0.16478407  &  0.05447159  &  0.22828134  & -0.402371959 & -0.16165943  & -0.184433223 & -0.65293704  &  0.265928591 & -0.035380955 & -0.09575375  &  0.193612920\\\\\n",
       "\tK\\_pavimentosa &  0.01235998  &  0.135072255 & -0.01324757  &  0.47858957  & -0.087746569 & -0.23856337  &  0.30320799  &  0.20549482  &  0.29570119  &  0.272404847 &  0.51073508  & -0.082172707 &  0.10729697  & -0.088144905 & -0.088419922 & -0.31160488  &  0.009771492\\\\\n",
       "\tK\\_pavimentosa\\_or\\_N\\_primolutea & -0.58481959  & -0.001115622 & -0.28654710  & -0.21896560  &  0.098983935 & -0.12051682  & -0.36653081  & -0.01089278  &  0.28776728  & -0.116365170 &  0.41758707  &  0.156714407 &  0.01655517  &  0.260594175 & -0.004726682 &  0.01279960  & -0.069303944\\\\\n",
       "\tN\\_bipapillata\\_var\\_bipapillata &  0.21902208  &  0.144061792 & -0.02008726  &  0.31218874  & -0.079829049 &  0.39611798  & -0.37206832  &  0.03625184  &  0.13673413  & -0.399708130 &  0.10540517  & -0.054981086 &  0.15213474  & -0.004155127 &  0.042318067 & -0.14534219  &  0.378708759\\\\\n",
       "\tN\\_bipapillata\\_var\\_macrodiscus & -0.08064604  &  0.106369539 & -0.10419739  & -0.07438583  & -0.341929165 &  0.12682899  & -0.08587586  & -0.07686303  &  0.44124648  &  0.220162446 & -0.42165022  & -0.342759428 &  0.19624812  &  0.058201051 &  0.191767999 & -0.36748694  &  0.059094614\\\\\n",
       "\tN\\_diffusa &  0.56684607  &  0.039448440 &  0.12175526  & -0.17272774  &  0.255030348 & -0.55351420  & -0.20029674  & -0.24628463  & -0.01468317  & -0.002699296 &  0.09475219  & -0.302763162 &  0.21751833  & -0.050777413 & -0.071943642 &  0.01519589  &  0.055708139\\\\\n",
       "\tN\\_sp\\_1 & -0.02839978  &  0.005253843 &  0.09530411  & -0.41009356  & -0.001001311 &  0.20879106  &  0.37820036  &  0.40541482  &  0.02466142  &  0.221296058 & -0.04401836  & -0.275466591 & -0.11253001  &  0.319225712 & -0.020691817 &  0.14511385  &  0.150300595\\\\\n",
       "\tW\\_microplaca &  0.04808911  & -0.022730989 &  0.24786031  &  0.07239074  & -0.046476306 &  0.46634651  &  0.18313601  & -0.14514903  & -0.10315595  & -0.079250351 &  0.12091215  & -0.031839769 &  0.37553058  &  0.392001747 & -0.264824962 & -0.04794213  & -0.071458506\\\\\n",
       "\tX\\_atrosphaerica &  0.27261067  & -0.267939643 & -0.12309335  & -0.06906786  &  0.147336557 &  0.07396288  & -0.40019781  &  0.55927006  & -0.18301434  &  0.015394006 & -0.03087201  &  0.106019824 & -0.22976650  & -0.087511498 & -0.072593127 & -0.37209584  &  0.094524354\\\\\n",
       "\tX\\_flabelliforme &  0.14740343  &  0.006439303 &  0.12390651  &  0.05514194  & -0.022458254 & -0.08953257  &  0.09627592  &  0.41258295  &  0.33235130  & -0.022680805 & -0.41077469  &  0.518397685 &  0.26007242  &  0.112825590 & -0.182488330 &  0.18935920  &  0.271296007\\\\\n",
       "\tX\\_schweinitzii & -0.01152080  & -0.106122163 & -0.05297491  &  0.29112625  & -0.051463720 &  0.12606940  & -0.12414565  &  0.30889076  &  0.07916449  & -0.181952123 & -0.13702556  & -0.279081147 &  0.09160026  & -0.065666457 &  0.065595070 &  0.35481040  & -0.699213631\\\\\n",
       "\tX\\_sp\\_1 &  0.15303960  &  0.051509891 &  0.02562683  & -0.36886855  & -0.845755926 & -0.10641489  & -0.01924024  &  0.08664022  &  0.22288932  & -0.125641407 &  0.03074713  & -0.021645519 & -0.13724112  &  0.005606104 &  0.014738113 &  0.05934855  & -0.062236928\\\\\n",
       "\tX\\_sp\\_nov\\_1\\_long & -0.11146371  &  0.022229502 & -0.06006882  & -0.07948919  &  0.024968426 & -0.04032172  & -0.03939664  & -0.06864125  &  0.00937055  & -0.004212856 & -0.20813229  & -0.072145791 & -0.02320676  & -0.414377841 & -0.827227732 & -0.16018118  & -0.120703084\\\\\n",
       "\\end{tabular}\n"
      ],
      "text/markdown": [
       "1. -0.130319243489483\n",
       "2. -0.412838311592623\n",
       "3. 0.0185294347667428\n",
       "4. 0.185518481203935\n",
       "5. 0.305042639476992\n",
       "6. 0.0405999712868703\n",
       "7. 0.0123599751240128\n",
       "8. -0.584819586733012\n",
       "9. 0.21902208119141\n",
       "10. -0.0806460432043122\n",
       "11. 0.566846065350863\n",
       "12. -0.0283997838102317\n",
       "13. 0.0480891116113477\n",
       "14. 0.272610672006851\n",
       "15. 0.147403434094757\n",
       "16. -0.0115208037658466\n",
       "17. 0.153039600413574\n",
       "18. -0.111463711549403\n",
       "19. -0.0494562900608428\n",
       "20. -0.31318942828566\n",
       "21. -0.263922037035839\n",
       "22. -0.7884776722164\n",
       "23. -0.127328465775807\n",
       "24. -0.093636353487185\n",
       "25. 0.135072254942805\n",
       "26. -0.00111562186833462\n",
       "27. 0.14406179157599\n",
       "28. 0.106369539404039\n",
       "29. 0.0394484395784373\n",
       "30. 0.00525384330678581\n",
       "31. -0.0227309891600338\n",
       "32. -0.26793964343777\n",
       "33. 0.00643930329821577\n",
       "34. -0.106122163426523\n",
       "35. 0.0515098907523672\n",
       "36. 0.0222295023920989\n",
       "37. 0.162665112328972\n",
       "38. 0.456159373129272\n",
       "39. 0.604775282137279\n",
       "40. -0.406297788288693\n",
       "41. -0.0863527707387099\n",
       "42. 0.339556523505129\n",
       "43. -0.0132475712471644\n",
       "44. -0.28654710100987\n",
       "45. -0.0200872619288235\n",
       "46. -0.104197386928474\n",
       "47. 0.121755259714842\n",
       "48. 0.095304111138125\n",
       "49. 0.247860306190052\n",
       "50. -0.123093354910227\n",
       "51. 0.123906511693\n",
       "52. -0.052974908317574\n",
       "53. 0.0256268273604218\n",
       "54. -0.0600688208973251\n",
       "55. -0.13636009001073\n",
       "56. 0.0745749865151224\n",
       "57. 0.0500036914964296\n",
       "58. 0.141739475011839\n",
       "59. -0.255828096314786\n",
       "60. 0.0647896075041665\n",
       "61. 0.478589566860881\n",
       "62. -0.218965601882543\n",
       "63. 0.312188743225976\n",
       "64. -0.0743858276260279\n",
       "65. -0.1727277410016\n",
       "66. -0.410093558136636\n",
       "67. 0.0723907414447469\n",
       "68. -0.0690678605152645\n",
       "69. 0.0551419359432149\n",
       "70. 0.291126247036645\n",
       "71. -0.368868550987924\n",
       "72. -0.0794891928126354\n",
       "73. 0.129738730025954\n",
       "74. -0.122874085319124\n",
       "75. -0.0596450852539362\n",
       "76. -0.0487086182072025\n",
       "77. 0.249273148432157\n",
       "78. 0.0612212302381498\n",
       "79. -0.0877465693703607\n",
       "80. 0.0989839352175305\n",
       "81. -0.0798290489835336\n",
       "82. -0.341929164693248\n",
       "83. 0.255030348216969\n",
       "84. -0.00100131071168203\n",
       "85. -0.0464763055214266\n",
       "86. 0.147336556858794\n",
       "87. -0.0224582538876234\n",
       "88. -0.0514637203153747\n",
       "89. -0.845755926189115\n",
       "90. 0.024968425532774\n",
       "91. 0.0538965093467917\n",
       "92. 0.149726048345701\n",
       "93. 0.193486617271905\n",
       "94. 0.0230344219631964\n",
       "95. 0.416756974505783\n",
       "96. -0.128332526741286\n",
       "97. -0.238563370255021\n",
       "98. -0.120516815723628\n",
       "99. 0.396117980429245\n",
       "100. 0.126828993467209\n",
       "101. -0.553514200095149\n",
       "102. 0.208791056747751\n",
       "103. 0.466346506891696\n",
       "104. 0.0739628752301088\n",
       "105. -0.0895325747383968\n",
       "106. 0.126069398232714\n",
       "107. -0.106414886683572\n",
       "108. -0.0403217164883086\n",
       "109. 0.430106869862753\n",
       "110. -0.0436800512154419\n",
       "111. -0.113293137015671\n",
       "112. 0.195681065942076\n",
       "113. 0.0166194371096488\n",
       "114. 0.164784073760228\n",
       "115. 0.303207986743528\n",
       "116. -0.366530806626077\n",
       "117. -0.372068320215789\n",
       "118. -0.0858758597966029\n",
       "119. -0.200296743865152\n",
       "120. 0.378200356403721\n",
       "121. 0.183136005379053\n",
       "122. -0.400197814102053\n",
       "123. 0.0962759164456264\n",
       "124. -0.124145645808017\n",
       "125. -0.0192402368448844\n",
       "126. -0.0393966370558207\n",
       "127. 0.14172973974565\n",
       "128. 0.0519774403183045\n",
       "129. -0.164881769576076\n",
       "130. -0.182214672115497\n",
       "131. -0.0310229289540794\n",
       "132. 0.05447158567611\n",
       "133. 0.2054948190798\n",
       "134. -0.0108927811876247\n",
       "135. 0.0362518390034388\n",
       "136. -0.0768630347510191\n",
       "137. -0.246284633936165\n",
       "138. 0.405414818379578\n",
       "139. -0.145149028012385\n",
       "140. 0.559270056255181\n",
       "141. 0.412582945429329\n",
       "142. 0.308890764341923\n",
       "143. 0.0866402225663273\n",
       "144. -0.068641248038298\n",
       "145. 0.0889223784969869\n",
       "146. 0.0368678270820572\n",
       "147. 0.0565446822689159\n",
       "148. 0.197809906021025\n",
       "149. 0.56877831372539\n",
       "150. 0.228281339282525\n",
       "151. 0.295701193075205\n",
       "152. 0.28776727595772\n",
       "153. 0.136734134188521\n",
       "154. 0.441246481918395\n",
       "155. -0.0146831746802871\n",
       "156. 0.0246614200732077\n",
       "157. -0.103155946690428\n",
       "158. -0.183014341507694\n",
       "159. 0.33235129848096\n",
       "160. 0.0791644855167992\n",
       "161. 0.222889317767006\n",
       "162. 0.00937055034418422\n",
       "163. -0.497779283199472\n",
       "164. 0.114321582246506\n",
       "165. -0.0237847129564451\n",
       "166. -0.0501797232380344\n",
       "167. 0.00492256258196258\n",
       "168. -0.402371958795829\n",
       "169. 0.272404846681123\n",
       "170. -0.116365169631174\n",
       "171. -0.399708129989633\n",
       "172. 0.220162446165264\n",
       "173. -0.00269929594262537\n",
       "174. 0.221296058465943\n",
       "175. -0.0792503511886775\n",
       "176. 0.0153940056492337\n",
       "177. -0.022680804603251\n",
       "178. -0.181952123271328\n",
       "179. -0.12564140731732\n",
       "180. -0.00421285598021577\n",
       "181. 0.0919489586594934\n",
       "182. -0.0568874772294415\n",
       "183. 0.0158378385530882\n",
       "184. -0.0326291987813869\n",
       "185. 0.290247938392561\n",
       "186. -0.161659433479341\n",
       "187. 0.510735083162596\n",
       "188. 0.417587069690421\n",
       "189. 0.105405167261868\n",
       "190. -0.421650222249817\n",
       "191. 0.0947521894077196\n",
       "192. -0.0440183583401525\n",
       "193. 0.120912151050959\n",
       "194. -0.0308720059028837\n",
       "195. -0.410774688670171\n",
       "196. -0.137025562967117\n",
       "197. 0.0307471330453323\n",
       "198. -0.20813228892337\n",
       "199. 0.141049841043061\n",
       "200. -0.0902437288722204\n",
       "201. 0.20767515742675\n",
       "202. 0.00734409302416581\n",
       "203. 0.130559399790257\n",
       "204. -0.184433222941266\n",
       "205. -0.0821727067237333\n",
       "206. 0.156714407067608\n",
       "207. -0.0549810857329775\n",
       "208. -0.342759428231098\n",
       "209. -0.302763161588179\n",
       "210. -0.275466591271777\n",
       "211. -0.0318397686055967\n",
       "212. 0.106019823543643\n",
       "213. 0.518397685165856\n",
       "214. -0.27908114702029\n",
       "215. -0.0216455185016521\n",
       "216. -0.0721457911857493\n",
       "217. 0.231954287679829\n",
       "218. 0.215374241927828\n",
       "219. -0.0469726102697275\n",
       "220. 0.0698352794704751\n",
       "221. -0.266708330196564\n",
       "222. -0.652937042494144\n",
       "223. 0.107296974766802\n",
       "224. 0.0165551686226047\n",
       "225. 0.152134741687663\n",
       "226. 0.196248123117212\n",
       "227. 0.217518331012465\n",
       "228. -0.112530011489535\n",
       "229. 0.375530581427878\n",
       "230. -0.229766495959197\n",
       "231. 0.260072424014961\n",
       "232. 0.0916002575937457\n",
       "233. -0.137241115344201\n",
       "234. -0.0232067559971388\n",
       "235. -0.193102015313335\n",
       "236. -0.328198764472804\n",
       "237. 0.234601714020206\n",
       "238. 0.0194791475245767\n",
       "239. -0.155970061399153\n",
       "240. 0.265928590668471\n",
       "241. -0.0881449045271311\n",
       "242. 0.260594174547077\n",
       "243. -0.00415512696312354\n",
       "244. 0.0582010509724491\n",
       "245. -0.0507774131239291\n",
       "246. 0.319225711961458\n",
       "247. 0.392001747012932\n",
       "248. -0.0875114981190206\n",
       "249. 0.112825589644688\n",
       "250. -0.0656664568740596\n",
       "251. 0.00560610369627652\n",
       "252. -0.414377840731127\n",
       "253. 0.156325472779822\n",
       "254. 0.0616959033653929\n",
       "255. 0.0377089421041241\n",
       "256. -0.00959556087020294\n",
       "257. 0.0257170431902273\n",
       "258. -0.0353809553537233\n",
       "259. -0.0884199220317724\n",
       "260. -0.00472668217248114\n",
       "261. 0.0423180666095299\n",
       "262. 0.191767998521494\n",
       "263. -0.0719436419964686\n",
       "264. -0.0206918171609461\n",
       "265. -0.264824961944219\n",
       "266. -0.0725931274643375\n",
       "267. -0.182488330104895\n",
       "268. 0.0655950698697932\n",
       "269. 0.014738113190012\n",
       "270. -0.827227731884368\n",
       "271. -0.507629901539871\n",
       "272. 0.188460825244085\n",
       "273. -0.385519085396484\n",
       "274. 0.158985918046919\n",
       "275. 0.160083094512916\n",
       "276. -0.0957537495795308\n",
       "277. -0.311604875975436\n",
       "278. 0.0127996016525185\n",
       "279. -0.145342194636341\n",
       "280. -0.367486943575175\n",
       "281. 0.015195892587227\n",
       "282. 0.145113851319218\n",
       "283. -0.0479421317431876\n",
       "284. -0.372095835895311\n",
       "285. 0.189359195846683\n",
       "286. 0.354810396697386\n",
       "287. 0.0593485532191824\n",
       "288. -0.160181176866671\n",
       "289. -0.206903824327971\n",
       "290. 0.398938020223885\n",
       "291. -0.256285437888156\n",
       "292. -0.0207051455753467\n",
       "293. -0.0191642071532595\n",
       "294. 0.193612919780819\n",
       "295. 0.00977149184595998\n",
       "296. -0.0693039441782356\n",
       "297. 0.3787087592221\n",
       "298. 0.059094613791067\n",
       "299. 0.0557081387702405\n",
       "300. 0.150300595491131\n",
       "301. -0.0714585058620752\n",
       "302. 0.0945243535226783\n",
       "303. 0.271296006937356\n",
       "304. -0.699213631142973\n",
       "305. -0.0622369281101197\n",
       "306. -0.120703083952785\n",
       "\n",
       "\n"
      ],
      "text/plain": [
       "                              RDA1        RDA2         RDA3        RDA4       \n",
       "A_atroroseum                  -0.13031924 -0.049456290  0.16266511 -0.13636009\n",
       "A_bovei_var_microspora        -0.41283831 -0.313189428  0.45615937  0.07457499\n",
       "A_moriforme                    0.01852943 -0.263922037  0.60477528  0.05000369\n",
       "B_capnodes_1                   0.18551848 -0.788477672 -0.40629779  0.14173948\n",
       "H_notatum                      0.30504264 -0.127328466 -0.08635277 -0.25582810\n",
       "H_perforatum_China             0.04059997 -0.093636353  0.33955652  0.06478961\n",
       "K_pavimentosa                  0.01235998  0.135072255 -0.01324757  0.47858957\n",
       "K_pavimentosa_or_N_primolutea -0.58481959 -0.001115622 -0.28654710 -0.21896560\n",
       "N_bipapillata_var_bipapillata  0.21902208  0.144061792 -0.02008726  0.31218874\n",
       "N_bipapillata_var_macrodiscus -0.08064604  0.106369539 -0.10419739 -0.07438583\n",
       "N_diffusa                      0.56684607  0.039448440  0.12175526 -0.17272774\n",
       "N_sp_1                        -0.02839978  0.005253843  0.09530411 -0.41009356\n",
       "W_microplaca                   0.04808911 -0.022730989  0.24786031  0.07239074\n",
       "X_atrosphaerica                0.27261067 -0.267939643 -0.12309335 -0.06906786\n",
       "X_flabelliforme                0.14740343  0.006439303  0.12390651  0.05514194\n",
       "X_schweinitzii                -0.01152080 -0.106122163 -0.05297491  0.29112625\n",
       "X_sp_1                         0.15303960  0.051509891  0.02562683 -0.36886855\n",
       "X_sp_nov_1_long               -0.11146371  0.022229502 -0.06006882 -0.07948919\n",
       "                              RDA5         RDA6        RDA7        RDA8       \n",
       "A_atroroseum                   0.129738730  0.05389651  0.43010687  0.14172974\n",
       "A_bovei_var_microspora        -0.122874085  0.14972605 -0.04368005  0.05197744\n",
       "A_moriforme                   -0.059645085  0.19348662 -0.11329314 -0.16488177\n",
       "B_capnodes_1                  -0.048708618  0.02303442  0.19568107 -0.18221467\n",
       "H_notatum                      0.249273148  0.41675697  0.01661944 -0.03102293\n",
       "H_perforatum_China             0.061221230 -0.12833253  0.16478407  0.05447159\n",
       "K_pavimentosa                 -0.087746569 -0.23856337  0.30320799  0.20549482\n",
       "K_pavimentosa_or_N_primolutea  0.098983935 -0.12051682 -0.36653081 -0.01089278\n",
       "N_bipapillata_var_bipapillata -0.079829049  0.39611798 -0.37206832  0.03625184\n",
       "N_bipapillata_var_macrodiscus -0.341929165  0.12682899 -0.08587586 -0.07686303\n",
       "N_diffusa                      0.255030348 -0.55351420 -0.20029674 -0.24628463\n",
       "N_sp_1                        -0.001001311  0.20879106  0.37820036  0.40541482\n",
       "W_microplaca                  -0.046476306  0.46634651  0.18313601 -0.14514903\n",
       "X_atrosphaerica                0.147336557  0.07396288 -0.40019781  0.55927006\n",
       "X_flabelliforme               -0.022458254 -0.08953257  0.09627592  0.41258295\n",
       "X_schweinitzii                -0.051463720  0.12606940 -0.12414565  0.30889076\n",
       "X_sp_1                        -0.845755926 -0.10641489 -0.01924024  0.08664022\n",
       "X_sp_nov_1_long                0.024968426 -0.04032172 -0.03939664 -0.06864125\n",
       "                              RDA9        RDA10        RDA11       RDA12       \n",
       "A_atroroseum                   0.08892238 -0.497779283  0.09194896  0.141049841\n",
       "A_bovei_var_microspora         0.03686783  0.114321582 -0.05688748 -0.090243729\n",
       "A_moriforme                    0.05654468 -0.023784713  0.01583784  0.207675157\n",
       "B_capnodes_1                   0.19780991 -0.050179723 -0.03262920  0.007344093\n",
       "H_notatum                      0.56877831  0.004922563  0.29024794  0.130559400\n",
       "H_perforatum_China             0.22828134 -0.402371959 -0.16165943 -0.184433223\n",
       "K_pavimentosa                  0.29570119  0.272404847  0.51073508 -0.082172707\n",
       "K_pavimentosa_or_N_primolutea  0.28776728 -0.116365170  0.41758707  0.156714407\n",
       "N_bipapillata_var_bipapillata  0.13673413 -0.399708130  0.10540517 -0.054981086\n",
       "N_bipapillata_var_macrodiscus  0.44124648  0.220162446 -0.42165022 -0.342759428\n",
       "N_diffusa                     -0.01468317 -0.002699296  0.09475219 -0.302763162\n",
       "N_sp_1                         0.02466142  0.221296058 -0.04401836 -0.275466591\n",
       "W_microplaca                  -0.10315595 -0.079250351  0.12091215 -0.031839769\n",
       "X_atrosphaerica               -0.18301434  0.015394006 -0.03087201  0.106019824\n",
       "X_flabelliforme                0.33235130 -0.022680805 -0.41077469  0.518397685\n",
       "X_schweinitzii                 0.07916449 -0.181952123 -0.13702556 -0.279081147\n",
       "X_sp_1                         0.22288932 -0.125641407  0.03074713 -0.021645519\n",
       "X_sp_nov_1_long                0.00937055 -0.004212856 -0.20813229 -0.072145791\n",
       "                              RDA13       RDA14        RDA15        RDA16      \n",
       "A_atroroseum                   0.23195429 -0.193102015  0.156325473 -0.50762990\n",
       "A_bovei_var_microspora         0.21537424 -0.328198764  0.061695903  0.18846083\n",
       "A_moriforme                   -0.04697261  0.234601714  0.037708942 -0.38551909\n",
       "B_capnodes_1                   0.06983528  0.019479148 -0.009595561  0.15898592\n",
       "H_notatum                     -0.26670833 -0.155970061  0.025717043  0.16008309\n",
       "H_perforatum_China            -0.65293704  0.265928591 -0.035380955 -0.09575375\n",
       "K_pavimentosa                  0.10729697 -0.088144905 -0.088419922 -0.31160488\n",
       "K_pavimentosa_or_N_primolutea  0.01655517  0.260594175 -0.004726682  0.01279960\n",
       "N_bipapillata_var_bipapillata  0.15213474 -0.004155127  0.042318067 -0.14534219\n",
       "N_bipapillata_var_macrodiscus  0.19624812  0.058201051  0.191767999 -0.36748694\n",
       "N_diffusa                      0.21751833 -0.050777413 -0.071943642  0.01519589\n",
       "N_sp_1                        -0.11253001  0.319225712 -0.020691817  0.14511385\n",
       "W_microplaca                   0.37553058  0.392001747 -0.264824962 -0.04794213\n",
       "X_atrosphaerica               -0.22976650 -0.087511498 -0.072593127 -0.37209584\n",
       "X_flabelliforme                0.26007242  0.112825590 -0.182488330  0.18935920\n",
       "X_schweinitzii                 0.09160026 -0.065666457  0.065595070  0.35481040\n",
       "X_sp_1                        -0.13724112  0.005606104  0.014738113  0.05934855\n",
       "X_sp_nov_1_long               -0.02320676 -0.414377841 -0.827227732 -0.16018118\n",
       "                              RDA17       \n",
       "A_atroroseum                  -0.206903824\n",
       "A_bovei_var_microspora         0.398938020\n",
       "A_moriforme                   -0.256285438\n",
       "B_capnodes_1                  -0.020705146\n",
       "H_notatum                     -0.019164207\n",
       "H_perforatum_China             0.193612920\n",
       "K_pavimentosa                  0.009771492\n",
       "K_pavimentosa_or_N_primolutea -0.069303944\n",
       "N_bipapillata_var_bipapillata  0.378708759\n",
       "N_bipapillata_var_macrodiscus  0.059094614\n",
       "N_diffusa                      0.055708139\n",
       "N_sp_1                         0.150300595\n",
       "W_microplaca                  -0.071458506\n",
       "X_atrosphaerica                0.094524354\n",
       "X_flabelliforme                0.271296007\n",
       "X_schweinitzii                -0.699213631\n",
       "X_sp_1                        -0.062236928\n",
       "X_sp_nov_1_long               -0.120703084"
      ]
     },
     "metadata": {},
     "output_type": "display_data"
    }
   ],
   "source": [
    "loads"
   ]
  },
  {
   "cell_type": "markdown",
   "metadata": {},
   "source": [
    "These are all of the shared PCAs useful for describing variation in both stromata and endophyte matrices. We can use these to make our own biplots. To plot the first RDA as our y-axis and the third as our x-axis, and crudely label them:"
   ]
  },
  {
   "cell_type": "code",
   "execution_count": null,
   "metadata": {
    "collapsed": true
   },
   "outputs": [],
   "source": []
  }
 ],
 "metadata": {
  "kernelspec": {
   "display_name": "R 3.3",
   "language": "R",
   "name": "ir33"
  },
  "language_info": {
   "codemirror_mode": "r",
   "file_extension": ".r",
   "mimetype": "text/x-r-source",
   "name": "R",
   "pygments_lexer": "r",
   "version": "3.3.1"
  }
 },
 "nbformat": 4,
 "nbformat_minor": 0
}
