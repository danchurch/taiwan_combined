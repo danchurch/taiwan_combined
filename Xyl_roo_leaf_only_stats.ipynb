{
 "cells": [
  {
   "cell_type": "markdown",
   "metadata": {},
   "source": [
    "# Xylariaceae analysis, take 2"
   ]
  },
  {
   "cell_type": "markdown",
   "metadata": {},
   "source": [
    "We're going to do our RDA analysis using a biom table that contains only fungi that were very strictly assigned to our stomatal sequences. Since the focus is on ecological patterns in our leaf data, and meant to augment Roo's single variate, Nearest-Neighbor spatial analysis, we'll use his otu tables. "
   ]
  },
  {
   "cell_type": "markdown",
   "metadata": {},
   "source": [
    "<a id='contents'></a>"
   ]
  },
  {
   "cell_type": "markdown",
   "metadata": {},
   "source": [
    "## Contents\n",
    "\n",
    "[Importing otu tables and setup](#import)  \n",
    "[Formatting inputs for RDA](#rdaprep)  \n",
    "[Transforming data for RDA](#transform)  \n",
    "[Redundancy analysis](#rda)  \n",
    "[Graphics](#graphics)"
   ]
  },
  {
   "cell_type": "markdown",
   "metadata": {},
   "source": [
    "<a id='import'></a>"
   ]
  },
  {
   "cell_type": "markdown",
   "metadata": {},
   "source": [
    "## Importing otu tables and setup"
   ]
  },
  {
   "cell_type": "markdown",
   "metadata": {},
   "source": [
    "Let's get the proper packages and import our biom table."
   ]
  },
  {
   "cell_type": "code",
   "execution_count": 1,
   "metadata": {
    "collapsed": false,
    "scrolled": true
   },
   "outputs": [
    {
     "name": "stderr",
     "output_type": "stream",
     "text": [
      "Loading required package: permute\n",
      "Loading required package: lattice\n",
      "This is vegan 2.4-1\n"
     ]
    }
   ],
   "source": [
    "library('repr')\n",
    "library('vegan')"
   ]
  },
  {
   "cell_type": "markdown",
   "metadata": {},
   "source": [
    "Import our leaf endophyte OTU table. Negative controls have been used to \"clean\" the other samples, and the reads have been variance-stabilized using DESeq, prior to delivery. "
   ]
  },
  {
   "cell_type": "code",
   "execution_count": 2,
   "metadata": {
    "collapsed": false
   },
   "outputs": [],
   "source": [
    "roocsv <- read.csv(file='roo_leaf_endos.csv', stringsAsFactors=FALSE)\n",
    "endos <- roocsv"
   ]
  },
  {
   "cell_type": "code",
   "execution_count": 3,
   "metadata": {
    "collapsed": false
   },
   "outputs": [
    {
     "data": {
      "text/html": [
       "<table>\n",
       "<thead><tr><th scope=col>Plot.ID</th><th scope=col>A_aff_atroroseum</th><th scope=col>A_aff_stygium</th><th scope=col>A_atroroseum</th><th scope=col>A_bovei_var_microspora</th></tr></thead>\n",
       "<tbody>\n",
       "\t<tr><td>1 </td><td> 0</td><td> 0</td><td> 0</td><td> 0</td></tr>\n",
       "\t<tr><td>2 </td><td> 0</td><td> 0</td><td> 0</td><td> 0</td></tr>\n",
       "\t<tr><td>3 </td><td>NA</td><td>NA</td><td>NA</td><td>NA</td></tr>\n",
       "\t<tr><td>4 </td><td> 0</td><td> 0</td><td> 0</td><td> 0</td></tr>\n",
       "\t<tr><td>5 </td><td> 0</td><td> 0</td><td> 0</td><td> 0</td></tr>\n",
       "</tbody>\n",
       "</table>\n"
      ],
      "text/latex": [
       "\\begin{tabular}{r|lllll}\n",
       " Plot.ID & A\\_aff\\_atroroseum & A\\_aff\\_stygium & A\\_atroroseum & A\\_bovei\\_var\\_microspora\\\\\n",
       "\\hline\n",
       "\t 1  &  0 &  0 &  0 &  0\\\\\n",
       "\t 2  &  0 &  0 &  0 &  0\\\\\n",
       "\t 3  & NA & NA & NA & NA\\\\\n",
       "\t 4  &  0 &  0 &  0 &  0\\\\\n",
       "\t 5  &  0 &  0 &  0 &  0\\\\\n",
       "\\end{tabular}\n"
      ],
      "text/plain": [
       "  Plot.ID A_aff_atroroseum A_aff_stygium A_atroroseum A_bovei_var_microspora\n",
       "1 1        0                0             0            0                    \n",
       "2 2        0                0             0            0                    \n",
       "3 3       NA               NA            NA           NA                    \n",
       "4 4        0                0             0            0                    \n",
       "5 5        0                0             0            0                    "
      ]
     },
     "metadata": {},
     "output_type": "display_data"
    }
   ],
   "source": [
    "endos[1:5,1:5]"
   ]
  },
  {
   "cell_type": "markdown",
   "metadata": {},
   "source": [
    "NA rows are where amplification failed. We got rid of the first column, Plot.ID, because this is redundant with the row numbers, and will cause problems with the RDA downstream. Also we still have a negative control here, we'll remove it. "
   ]
  },
  {
   "cell_type": "code",
   "execution_count": 4,
   "metadata": {
    "collapsed": true
   },
   "outputs": [],
   "source": [
    "endos <- endos[,-1]\n",
    "endos <- endos[-134,] ## get rid of negative control"
   ]
  },
  {
   "cell_type": "markdown",
   "metadata": {},
   "source": [
    "And get our stromatal matrix. The [rda()](https://cran.r-project.org/web/packages/vegan/vignettes/intro-vegan.pdf) function likes a community matrix, and a dataframe of constraining explanatory variables. So the endos stay as a dataframe object, and the stromata as a matrix."
   ]
  },
  {
   "cell_type": "code",
   "execution_count": 5,
   "metadata": {
    "collapsed": true
   },
   "outputs": [],
   "source": [
    "stromata <- read.csv(file='stromata.csv', stringsAsFactors=FALSE) \n",
    "stromata <- as.matrix(stromata[,-1]) ## remove plot name column, cuz it screws up conversion to matrix format"
   ]
  },
  {
   "cell_type": "code",
   "execution_count": 6,
   "metadata": {
    "collapsed": false,
    "scrolled": true
   },
   "outputs": [
    {
     "data": {
      "text/html": [
       "<table>\n",
       "<thead><tr><th scope=col>A_aff_atroroseum</th><th scope=col>A_aff_stygium</th><th scope=col>A_atroroseum</th><th scope=col>A_bovei_var_microspora</th><th scope=col>A_moriforme</th></tr></thead>\n",
       "<tbody>\n",
       "\t<tr><td>0</td><td>0</td><td>0</td><td>0</td><td>0</td></tr>\n",
       "\t<tr><td>0</td><td>0</td><td>0</td><td>0</td><td>0</td></tr>\n",
       "\t<tr><td>0</td><td>0</td><td>0</td><td>0</td><td>0</td></tr>\n",
       "\t<tr><td>0</td><td>0</td><td>0</td><td>0</td><td>0</td></tr>\n",
       "\t<tr><td>0</td><td>0</td><td>0</td><td>0</td><td>0</td></tr>\n",
       "\t<tr><td>0</td><td>0</td><td>0</td><td>0</td><td>0</td></tr>\n",
       "\t<tr><td>0</td><td>0</td><td>0</td><td>0</td><td>0</td></tr>\n",
       "\t<tr><td>0</td><td>0</td><td>0</td><td>0</td><td>0</td></tr>\n",
       "\t<tr><td>0</td><td>0</td><td>0</td><td>0</td><td>0</td></tr>\n",
       "\t<tr><td>0</td><td>0</td><td>0</td><td>0</td><td>0</td></tr>\n",
       "</tbody>\n",
       "</table>\n"
      ],
      "text/latex": [
       "\\begin{tabular}{lllll}\n",
       " A\\_aff\\_atroroseum & A\\_aff\\_stygium & A\\_atroroseum & A\\_bovei\\_var\\_microspora & A\\_moriforme\\\\\n",
       "\\hline\n",
       "\t 0 & 0 & 0 & 0 & 0\\\\\n",
       "\t 0 & 0 & 0 & 0 & 0\\\\\n",
       "\t 0 & 0 & 0 & 0 & 0\\\\\n",
       "\t 0 & 0 & 0 & 0 & 0\\\\\n",
       "\t 0 & 0 & 0 & 0 & 0\\\\\n",
       "\t 0 & 0 & 0 & 0 & 0\\\\\n",
       "\t 0 & 0 & 0 & 0 & 0\\\\\n",
       "\t 0 & 0 & 0 & 0 & 0\\\\\n",
       "\t 0 & 0 & 0 & 0 & 0\\\\\n",
       "\t 0 & 0 & 0 & 0 & 0\\\\\n",
       "\\end{tabular}\n"
      ],
      "text/markdown": [
       "1. 0\n",
       "2. 0\n",
       "3. 0\n",
       "4. 0\n",
       "5. 0\n",
       "6. 0\n",
       "7. 0\n",
       "8. 0\n",
       "9. 0\n",
       "10. 0\n",
       "11. 0\n",
       "12. 0\n",
       "13. 0\n",
       "14. 0\n",
       "15. 0\n",
       "16. 0\n",
       "17. 0\n",
       "18. 0\n",
       "19. 0\n",
       "20. 0\n",
       "21. 0\n",
       "22. 0\n",
       "23. 0\n",
       "24. 0\n",
       "25. 0\n",
       "26. 0\n",
       "27. 0\n",
       "28. 0\n",
       "29. 0\n",
       "30. 0\n",
       "31. 0\n",
       "32. 0\n",
       "33. 0\n",
       "34. 0\n",
       "35. 0\n",
       "36. 0\n",
       "37. 0\n",
       "38. 0\n",
       "39. 0\n",
       "40. 0\n",
       "41. 0\n",
       "42. 0\n",
       "43. 0\n",
       "44. 0\n",
       "45. 0\n",
       "46. 0\n",
       "47. 0\n",
       "48. 0\n",
       "49. 0\n",
       "50. 0\n",
       "\n",
       "\n"
      ],
      "text/plain": [
       "      A_aff_atroroseum A_aff_stygium A_atroroseum A_bovei_var_microspora\n",
       " [1,] 0                0             0            0                     \n",
       " [2,] 0                0             0            0                     \n",
       " [3,] 0                0             0            0                     \n",
       " [4,] 0                0             0            0                     \n",
       " [5,] 0                0             0            0                     \n",
       " [6,] 0                0             0            0                     \n",
       " [7,] 0                0             0            0                     \n",
       " [8,] 0                0             0            0                     \n",
       " [9,] 0                0             0            0                     \n",
       "[10,] 0                0             0            0                     \n",
       "      A_moriforme\n",
       " [1,] 0          \n",
       " [2,] 0          \n",
       " [3,] 0          \n",
       " [4,] 0          \n",
       " [5,] 0          \n",
       " [6,] 0          \n",
       " [7,] 0          \n",
       " [8,] 0          \n",
       " [9,] 0          \n",
       "[10,] 0          "
      ]
     },
     "metadata": {},
     "output_type": "display_data"
    }
   ],
   "source": [
    "stromata[1:10,1:5]"
   ]
  },
  {
   "cell_type": "markdown",
   "metadata": {},
   "source": [
    "Name rows:"
   ]
  },
  {
   "cell_type": "code",
   "execution_count": 7,
   "metadata": {
    "collapsed": true
   },
   "outputs": [],
   "source": [
    "rownames(stromata) <- rownames(endos) <- 1:133"
   ]
  },
  {
   "cell_type": "code",
   "execution_count": 8,
   "metadata": {
    "collapsed": false,
    "scrolled": true
   },
   "outputs": [
    {
     "data": {
      "text/html": [
       "<table>\n",
       "<thead><tr><th></th><th scope=col>A_aff_atroroseum</th><th scope=col>A_aff_stygium</th><th scope=col>A_atroroseum</th></tr></thead>\n",
       "<tbody>\n",
       "\t<tr><th scope=row>1</th><td>0</td><td>0</td><td>0</td></tr>\n",
       "\t<tr><th scope=row>2</th><td>0</td><td>0</td><td>0</td></tr>\n",
       "\t<tr><th scope=row>3</th><td>0</td><td>0</td><td>0</td></tr>\n",
       "</tbody>\n",
       "</table>\n"
      ],
      "text/latex": [
       "\\begin{tabular}{r|lll}\n",
       "  & A\\_aff\\_atroroseum & A\\_aff\\_stygium & A\\_atroroseum\\\\\n",
       "\\hline\n",
       "\t1 & 0 & 0 & 0\\\\\n",
       "\t2 & 0 & 0 & 0\\\\\n",
       "\t3 & 0 & 0 & 0\\\\\n",
       "\\end{tabular}\n"
      ],
      "text/markdown": [
       "1. 0\n",
       "2. 0\n",
       "3. 0\n",
       "4. 0\n",
       "5. 0\n",
       "6. 0\n",
       "7. 0\n",
       "8. 0\n",
       "9. 0\n",
       "\n",
       "\n"
      ],
      "text/plain": [
       "  A_aff_atroroseum A_aff_stygium A_atroroseum\n",
       "1 0                0             0           \n",
       "2 0                0             0           \n",
       "3 0                0             0           "
      ]
     },
     "metadata": {},
     "output_type": "display_data"
    }
   ],
   "source": [
    "stromata[1:3,1:3]"
   ]
  },
  {
   "cell_type": "code",
   "execution_count": 9,
   "metadata": {
    "collapsed": false,
    "scrolled": true
   },
   "outputs": [
    {
     "data": {
      "text/html": [
       "<table>\n",
       "<thead><tr><th scope=col>A_aff_atroroseum</th><th scope=col>A_aff_stygium</th><th scope=col>A_atroroseum</th></tr></thead>\n",
       "<tbody>\n",
       "\t<tr><td> 0</td><td> 0</td><td> 0</td></tr>\n",
       "\t<tr><td> 0</td><td> 0</td><td> 0</td></tr>\n",
       "\t<tr><td>NA</td><td>NA</td><td>NA</td></tr>\n",
       "</tbody>\n",
       "</table>\n"
      ],
      "text/latex": [
       "\\begin{tabular}{r|lll}\n",
       " A\\_aff\\_atroroseum & A\\_aff\\_stygium & A\\_atroroseum\\\\\n",
       "\\hline\n",
       "\t  0 &  0 &  0\\\\\n",
       "\t  0 &  0 &  0\\\\\n",
       "\t NA & NA & NA\\\\\n",
       "\\end{tabular}\n"
      ],
      "text/plain": [
       "  A_aff_atroroseum A_aff_stygium A_atroroseum\n",
       "1  0                0             0          \n",
       "2  0                0             0          \n",
       "3 NA               NA            NA          "
      ]
     },
     "metadata": {},
     "output_type": "display_data"
    }
   ],
   "source": [
    "endos[1:3,1:3]"
   ]
  },
  {
   "cell_type": "markdown",
   "metadata": {},
   "source": [
    "Not trying to be to anal here, but we need to be careful. Check to make sure column names match and the row names are the same and in the same order:"
   ]
  },
  {
   "cell_type": "code",
   "execution_count": 10,
   "metadata": {
    "collapsed": false,
    "scrolled": true
   },
   "outputs": [
    {
     "data": {
      "text/html": [
       "<ol class=list-inline>\n",
       "\t<li>TRUE</li>\n",
       "\t<li>TRUE</li>\n",
       "\t<li>TRUE</li>\n",
       "\t<li>TRUE</li>\n",
       "\t<li>TRUE</li>\n",
       "\t<li>TRUE</li>\n",
       "\t<li>TRUE</li>\n",
       "\t<li>TRUE</li>\n",
       "\t<li>TRUE</li>\n",
       "\t<li>TRUE</li>\n",
       "\t<li>TRUE</li>\n",
       "\t<li>TRUE</li>\n",
       "\t<li>TRUE</li>\n",
       "\t<li>TRUE</li>\n",
       "\t<li>TRUE</li>\n",
       "\t<li>TRUE</li>\n",
       "\t<li>TRUE</li>\n",
       "\t<li>TRUE</li>\n",
       "\t<li>TRUE</li>\n",
       "\t<li>TRUE</li>\n",
       "\t<li>TRUE</li>\n",
       "\t<li>TRUE</li>\n",
       "\t<li>TRUE</li>\n",
       "\t<li>TRUE</li>\n",
       "\t<li>TRUE</li>\n",
       "\t<li>TRUE</li>\n",
       "\t<li>TRUE</li>\n",
       "\t<li>TRUE</li>\n",
       "\t<li>TRUE</li>\n",
       "\t<li>TRUE</li>\n",
       "\t<li>TRUE</li>\n",
       "\t<li>TRUE</li>\n",
       "\t<li>TRUE</li>\n",
       "\t<li>TRUE</li>\n",
       "\t<li>TRUE</li>\n",
       "\t<li>TRUE</li>\n",
       "\t<li>TRUE</li>\n",
       "\t<li>TRUE</li>\n",
       "\t<li>TRUE</li>\n",
       "\t<li>TRUE</li>\n",
       "\t<li>TRUE</li>\n",
       "\t<li>TRUE</li>\n",
       "\t<li>TRUE</li>\n",
       "\t<li>TRUE</li>\n",
       "\t<li>TRUE</li>\n",
       "\t<li>TRUE</li>\n",
       "\t<li>TRUE</li>\n",
       "\t<li>TRUE</li>\n",
       "\t<li>TRUE</li>\n",
       "\t<li>TRUE</li>\n",
       "\t<li>TRUE</li>\n",
       "\t<li>TRUE</li>\n",
       "</ol>\n"
      ],
      "text/latex": [
       "\\begin{enumerate*}\n",
       "\\item TRUE\n",
       "\\item TRUE\n",
       "\\item TRUE\n",
       "\\item TRUE\n",
       "\\item TRUE\n",
       "\\item TRUE\n",
       "\\item TRUE\n",
       "\\item TRUE\n",
       "\\item TRUE\n",
       "\\item TRUE\n",
       "\\item TRUE\n",
       "\\item TRUE\n",
       "\\item TRUE\n",
       "\\item TRUE\n",
       "\\item TRUE\n",
       "\\item TRUE\n",
       "\\item TRUE\n",
       "\\item TRUE\n",
       "\\item TRUE\n",
       "\\item TRUE\n",
       "\\item TRUE\n",
       "\\item TRUE\n",
       "\\item TRUE\n",
       "\\item TRUE\n",
       "\\item TRUE\n",
       "\\item TRUE\n",
       "\\item TRUE\n",
       "\\item TRUE\n",
       "\\item TRUE\n",
       "\\item TRUE\n",
       "\\item TRUE\n",
       "\\item TRUE\n",
       "\\item TRUE\n",
       "\\item TRUE\n",
       "\\item TRUE\n",
       "\\item TRUE\n",
       "\\item TRUE\n",
       "\\item TRUE\n",
       "\\item TRUE\n",
       "\\item TRUE\n",
       "\\item TRUE\n",
       "\\item TRUE\n",
       "\\item TRUE\n",
       "\\item TRUE\n",
       "\\item TRUE\n",
       "\\item TRUE\n",
       "\\item TRUE\n",
       "\\item TRUE\n",
       "\\item TRUE\n",
       "\\item TRUE\n",
       "\\item TRUE\n",
       "\\item TRUE\n",
       "\\end{enumerate*}\n"
      ],
      "text/markdown": [
       "1. TRUE\n",
       "2. TRUE\n",
       "3. TRUE\n",
       "4. TRUE\n",
       "5. TRUE\n",
       "6. TRUE\n",
       "7. TRUE\n",
       "8. TRUE\n",
       "9. TRUE\n",
       "10. TRUE\n",
       "11. TRUE\n",
       "12. TRUE\n",
       "13. TRUE\n",
       "14. TRUE\n",
       "15. TRUE\n",
       "16. TRUE\n",
       "17. TRUE\n",
       "18. TRUE\n",
       "19. TRUE\n",
       "20. TRUE\n",
       "21. TRUE\n",
       "22. TRUE\n",
       "23. TRUE\n",
       "24. TRUE\n",
       "25. TRUE\n",
       "26. TRUE\n",
       "27. TRUE\n",
       "28. TRUE\n",
       "29. TRUE\n",
       "30. TRUE\n",
       "31. TRUE\n",
       "32. TRUE\n",
       "33. TRUE\n",
       "34. TRUE\n",
       "35. TRUE\n",
       "36. TRUE\n",
       "37. TRUE\n",
       "38. TRUE\n",
       "39. TRUE\n",
       "40. TRUE\n",
       "41. TRUE\n",
       "42. TRUE\n",
       "43. TRUE\n",
       "44. TRUE\n",
       "45. TRUE\n",
       "46. TRUE\n",
       "47. TRUE\n",
       "48. TRUE\n",
       "49. TRUE\n",
       "50. TRUE\n",
       "51. TRUE\n",
       "52. TRUE\n",
       "\n",
       "\n"
      ],
      "text/plain": [
       " [1] TRUE TRUE TRUE TRUE TRUE TRUE TRUE TRUE TRUE TRUE TRUE TRUE TRUE TRUE TRUE\n",
       "[16] TRUE TRUE TRUE TRUE TRUE TRUE TRUE TRUE TRUE TRUE TRUE TRUE TRUE TRUE TRUE\n",
       "[31] TRUE TRUE TRUE TRUE TRUE TRUE TRUE TRUE TRUE TRUE TRUE TRUE TRUE TRUE TRUE\n",
       "[46] TRUE TRUE TRUE TRUE TRUE TRUE TRUE"
      ]
     },
     "metadata": {},
     "output_type": "display_data"
    },
    {
     "data": {
      "text/html": [
       "<ol class=list-inline>\n",
       "\t<li>TRUE</li>\n",
       "\t<li>TRUE</li>\n",
       "\t<li>TRUE</li>\n",
       "\t<li>TRUE</li>\n",
       "\t<li>TRUE</li>\n",
       "\t<li>TRUE</li>\n",
       "\t<li>TRUE</li>\n",
       "\t<li>TRUE</li>\n",
       "\t<li>TRUE</li>\n",
       "\t<li>TRUE</li>\n",
       "\t<li>TRUE</li>\n",
       "\t<li>TRUE</li>\n",
       "\t<li>TRUE</li>\n",
       "\t<li>TRUE</li>\n",
       "\t<li>TRUE</li>\n",
       "\t<li>TRUE</li>\n",
       "\t<li>TRUE</li>\n",
       "\t<li>TRUE</li>\n",
       "\t<li>TRUE</li>\n",
       "\t<li>TRUE</li>\n",
       "\t<li>TRUE</li>\n",
       "\t<li>TRUE</li>\n",
       "\t<li>TRUE</li>\n",
       "\t<li>TRUE</li>\n",
       "\t<li>TRUE</li>\n",
       "\t<li>TRUE</li>\n",
       "\t<li>TRUE</li>\n",
       "\t<li>TRUE</li>\n",
       "\t<li>TRUE</li>\n",
       "\t<li>TRUE</li>\n",
       "\t<li>TRUE</li>\n",
       "\t<li>TRUE</li>\n",
       "\t<li>TRUE</li>\n",
       "\t<li>TRUE</li>\n",
       "\t<li>TRUE</li>\n",
       "\t<li>TRUE</li>\n",
       "\t<li>TRUE</li>\n",
       "\t<li>TRUE</li>\n",
       "\t<li>TRUE</li>\n",
       "\t<li>TRUE</li>\n",
       "\t<li>TRUE</li>\n",
       "\t<li>TRUE</li>\n",
       "\t<li>TRUE</li>\n",
       "\t<li>TRUE</li>\n",
       "\t<li>TRUE</li>\n",
       "\t<li>TRUE</li>\n",
       "\t<li>TRUE</li>\n",
       "\t<li>TRUE</li>\n",
       "\t<li>TRUE</li>\n",
       "\t<li>TRUE</li>\n",
       "\t<li>TRUE</li>\n",
       "\t<li>TRUE</li>\n",
       "</ol>\n"
      ],
      "text/latex": [
       "\\begin{enumerate*}\n",
       "\\item TRUE\n",
       "\\item TRUE\n",
       "\\item TRUE\n",
       "\\item TRUE\n",
       "\\item TRUE\n",
       "\\item TRUE\n",
       "\\item TRUE\n",
       "\\item TRUE\n",
       "\\item TRUE\n",
       "\\item TRUE\n",
       "\\item TRUE\n",
       "\\item TRUE\n",
       "\\item TRUE\n",
       "\\item TRUE\n",
       "\\item TRUE\n",
       "\\item TRUE\n",
       "\\item TRUE\n",
       "\\item TRUE\n",
       "\\item TRUE\n",
       "\\item TRUE\n",
       "\\item TRUE\n",
       "\\item TRUE\n",
       "\\item TRUE\n",
       "\\item TRUE\n",
       "\\item TRUE\n",
       "\\item TRUE\n",
       "\\item TRUE\n",
       "\\item TRUE\n",
       "\\item TRUE\n",
       "\\item TRUE\n",
       "\\item TRUE\n",
       "\\item TRUE\n",
       "\\item TRUE\n",
       "\\item TRUE\n",
       "\\item TRUE\n",
       "\\item TRUE\n",
       "\\item TRUE\n",
       "\\item TRUE\n",
       "\\item TRUE\n",
       "\\item TRUE\n",
       "\\item TRUE\n",
       "\\item TRUE\n",
       "\\item TRUE\n",
       "\\item TRUE\n",
       "\\item TRUE\n",
       "\\item TRUE\n",
       "\\item TRUE\n",
       "\\item TRUE\n",
       "\\item TRUE\n",
       "\\item TRUE\n",
       "\\item TRUE\n",
       "\\item TRUE\n",
       "\\end{enumerate*}\n"
      ],
      "text/markdown": [
       "1. TRUE\n",
       "2. TRUE\n",
       "3. TRUE\n",
       "4. TRUE\n",
       "5. TRUE\n",
       "6. TRUE\n",
       "7. TRUE\n",
       "8. TRUE\n",
       "9. TRUE\n",
       "10. TRUE\n",
       "11. TRUE\n",
       "12. TRUE\n",
       "13. TRUE\n",
       "14. TRUE\n",
       "15. TRUE\n",
       "16. TRUE\n",
       "17. TRUE\n",
       "18. TRUE\n",
       "19. TRUE\n",
       "20. TRUE\n",
       "21. TRUE\n",
       "22. TRUE\n",
       "23. TRUE\n",
       "24. TRUE\n",
       "25. TRUE\n",
       "26. TRUE\n",
       "27. TRUE\n",
       "28. TRUE\n",
       "29. TRUE\n",
       "30. TRUE\n",
       "31. TRUE\n",
       "32. TRUE\n",
       "33. TRUE\n",
       "34. TRUE\n",
       "35. TRUE\n",
       "36. TRUE\n",
       "37. TRUE\n",
       "38. TRUE\n",
       "39. TRUE\n",
       "40. TRUE\n",
       "41. TRUE\n",
       "42. TRUE\n",
       "43. TRUE\n",
       "44. TRUE\n",
       "45. TRUE\n",
       "46. TRUE\n",
       "47. TRUE\n",
       "48. TRUE\n",
       "49. TRUE\n",
       "50. TRUE\n",
       "51. TRUE\n",
       "52. TRUE\n",
       "\n",
       "\n"
      ],
      "text/plain": [
       " [1] TRUE TRUE TRUE TRUE TRUE TRUE TRUE TRUE TRUE TRUE TRUE TRUE TRUE TRUE TRUE\n",
       "[16] TRUE TRUE TRUE TRUE TRUE TRUE TRUE TRUE TRUE TRUE TRUE TRUE TRUE TRUE TRUE\n",
       "[31] TRUE TRUE TRUE TRUE TRUE TRUE TRUE TRUE TRUE TRUE TRUE TRUE TRUE TRUE TRUE\n",
       "[46] TRUE TRUE TRUE TRUE TRUE TRUE TRUE"
      ]
     },
     "metadata": {},
     "output_type": "display_data"
    },
    {
     "data": {
      "text/html": [
       "<ol class=list-inline>\n",
       "\t<li>TRUE</li>\n",
       "\t<li>TRUE</li>\n",
       "\t<li>TRUE</li>\n",
       "\t<li>TRUE</li>\n",
       "\t<li>TRUE</li>\n",
       "\t<li>TRUE</li>\n",
       "\t<li>TRUE</li>\n",
       "\t<li>TRUE</li>\n",
       "\t<li>TRUE</li>\n",
       "\t<li>TRUE</li>\n",
       "\t<li>TRUE</li>\n",
       "\t<li>TRUE</li>\n",
       "\t<li>TRUE</li>\n",
       "\t<li>TRUE</li>\n",
       "\t<li>TRUE</li>\n",
       "\t<li>TRUE</li>\n",
       "\t<li>TRUE</li>\n",
       "\t<li>TRUE</li>\n",
       "\t<li>TRUE</li>\n",
       "\t<li>TRUE</li>\n",
       "\t<li>TRUE</li>\n",
       "\t<li>TRUE</li>\n",
       "\t<li>TRUE</li>\n",
       "\t<li>TRUE</li>\n",
       "\t<li>TRUE</li>\n",
       "\t<li>TRUE</li>\n",
       "\t<li>TRUE</li>\n",
       "\t<li>TRUE</li>\n",
       "\t<li>TRUE</li>\n",
       "\t<li>TRUE</li>\n",
       "\t<li>TRUE</li>\n",
       "\t<li>TRUE</li>\n",
       "\t<li>TRUE</li>\n",
       "\t<li>TRUE</li>\n",
       "\t<li>TRUE</li>\n",
       "\t<li>TRUE</li>\n",
       "\t<li>TRUE</li>\n",
       "\t<li>TRUE</li>\n",
       "\t<li>TRUE</li>\n",
       "\t<li>TRUE</li>\n",
       "\t<li>TRUE</li>\n",
       "\t<li>TRUE</li>\n",
       "\t<li>TRUE</li>\n",
       "\t<li>TRUE</li>\n",
       "\t<li>TRUE</li>\n",
       "\t<li>TRUE</li>\n",
       "\t<li>TRUE</li>\n",
       "\t<li>TRUE</li>\n",
       "\t<li>TRUE</li>\n",
       "\t<li>TRUE</li>\n",
       "\t<li>TRUE</li>\n",
       "\t<li>TRUE</li>\n",
       "\t<li>TRUE</li>\n",
       "\t<li>TRUE</li>\n",
       "\t<li>TRUE</li>\n",
       "\t<li>TRUE</li>\n",
       "\t<li>TRUE</li>\n",
       "\t<li>TRUE</li>\n",
       "\t<li>TRUE</li>\n",
       "\t<li>TRUE</li>\n",
       "\t<li>TRUE</li>\n",
       "\t<li>TRUE</li>\n",
       "\t<li>TRUE</li>\n",
       "\t<li>TRUE</li>\n",
       "\t<li>TRUE</li>\n",
       "\t<li>TRUE</li>\n",
       "\t<li>TRUE</li>\n",
       "\t<li>TRUE</li>\n",
       "\t<li>TRUE</li>\n",
       "\t<li>TRUE</li>\n",
       "\t<li>TRUE</li>\n",
       "\t<li>TRUE</li>\n",
       "\t<li>TRUE</li>\n",
       "\t<li>TRUE</li>\n",
       "\t<li>TRUE</li>\n",
       "\t<li>TRUE</li>\n",
       "\t<li>TRUE</li>\n",
       "\t<li>TRUE</li>\n",
       "\t<li>TRUE</li>\n",
       "\t<li>TRUE</li>\n",
       "\t<li>TRUE</li>\n",
       "\t<li>TRUE</li>\n",
       "\t<li>TRUE</li>\n",
       "\t<li>TRUE</li>\n",
       "\t<li>TRUE</li>\n",
       "\t<li>TRUE</li>\n",
       "\t<li>TRUE</li>\n",
       "\t<li>TRUE</li>\n",
       "\t<li>TRUE</li>\n",
       "\t<li>TRUE</li>\n",
       "\t<li>TRUE</li>\n",
       "\t<li>TRUE</li>\n",
       "\t<li>TRUE</li>\n",
       "\t<li>TRUE</li>\n",
       "\t<li>TRUE</li>\n",
       "\t<li>TRUE</li>\n",
       "\t<li>TRUE</li>\n",
       "\t<li>TRUE</li>\n",
       "\t<li>TRUE</li>\n",
       "\t<li>TRUE</li>\n",
       "\t<li>TRUE</li>\n",
       "\t<li>TRUE</li>\n",
       "\t<li>TRUE</li>\n",
       "\t<li>TRUE</li>\n",
       "\t<li>TRUE</li>\n",
       "\t<li>TRUE</li>\n",
       "\t<li>TRUE</li>\n",
       "\t<li>TRUE</li>\n",
       "\t<li>TRUE</li>\n",
       "\t<li>TRUE</li>\n",
       "\t<li>TRUE</li>\n",
       "\t<li>TRUE</li>\n",
       "\t<li>TRUE</li>\n",
       "\t<li>TRUE</li>\n",
       "\t<li>TRUE</li>\n",
       "\t<li>TRUE</li>\n",
       "\t<li>TRUE</li>\n",
       "\t<li>TRUE</li>\n",
       "\t<li>TRUE</li>\n",
       "\t<li>TRUE</li>\n",
       "\t<li>TRUE</li>\n",
       "\t<li>TRUE</li>\n",
       "\t<li>TRUE</li>\n",
       "\t<li>TRUE</li>\n",
       "\t<li>TRUE</li>\n",
       "\t<li>TRUE</li>\n",
       "\t<li>TRUE</li>\n",
       "\t<li>TRUE</li>\n",
       "\t<li>TRUE</li>\n",
       "\t<li>TRUE</li>\n",
       "\t<li>TRUE</li>\n",
       "\t<li>TRUE</li>\n",
       "\t<li>TRUE</li>\n",
       "</ol>\n"
      ],
      "text/latex": [
       "\\begin{enumerate*}\n",
       "\\item TRUE\n",
       "\\item TRUE\n",
       "\\item TRUE\n",
       "\\item TRUE\n",
       "\\item TRUE\n",
       "\\item TRUE\n",
       "\\item TRUE\n",
       "\\item TRUE\n",
       "\\item TRUE\n",
       "\\item TRUE\n",
       "\\item TRUE\n",
       "\\item TRUE\n",
       "\\item TRUE\n",
       "\\item TRUE\n",
       "\\item TRUE\n",
       "\\item TRUE\n",
       "\\item TRUE\n",
       "\\item TRUE\n",
       "\\item TRUE\n",
       "\\item TRUE\n",
       "\\item TRUE\n",
       "\\item TRUE\n",
       "\\item TRUE\n",
       "\\item TRUE\n",
       "\\item TRUE\n",
       "\\item TRUE\n",
       "\\item TRUE\n",
       "\\item TRUE\n",
       "\\item TRUE\n",
       "\\item TRUE\n",
       "\\item TRUE\n",
       "\\item TRUE\n",
       "\\item TRUE\n",
       "\\item TRUE\n",
       "\\item TRUE\n",
       "\\item TRUE\n",
       "\\item TRUE\n",
       "\\item TRUE\n",
       "\\item TRUE\n",
       "\\item TRUE\n",
       "\\item TRUE\n",
       "\\item TRUE\n",
       "\\item TRUE\n",
       "\\item TRUE\n",
       "\\item TRUE\n",
       "\\item TRUE\n",
       "\\item TRUE\n",
       "\\item TRUE\n",
       "\\item TRUE\n",
       "\\item TRUE\n",
       "\\item TRUE\n",
       "\\item TRUE\n",
       "\\item TRUE\n",
       "\\item TRUE\n",
       "\\item TRUE\n",
       "\\item TRUE\n",
       "\\item TRUE\n",
       "\\item TRUE\n",
       "\\item TRUE\n",
       "\\item TRUE\n",
       "\\item TRUE\n",
       "\\item TRUE\n",
       "\\item TRUE\n",
       "\\item TRUE\n",
       "\\item TRUE\n",
       "\\item TRUE\n",
       "\\item TRUE\n",
       "\\item TRUE\n",
       "\\item TRUE\n",
       "\\item TRUE\n",
       "\\item TRUE\n",
       "\\item TRUE\n",
       "\\item TRUE\n",
       "\\item TRUE\n",
       "\\item TRUE\n",
       "\\item TRUE\n",
       "\\item TRUE\n",
       "\\item TRUE\n",
       "\\item TRUE\n",
       "\\item TRUE\n",
       "\\item TRUE\n",
       "\\item TRUE\n",
       "\\item TRUE\n",
       "\\item TRUE\n",
       "\\item TRUE\n",
       "\\item TRUE\n",
       "\\item TRUE\n",
       "\\item TRUE\n",
       "\\item TRUE\n",
       "\\item TRUE\n",
       "\\item TRUE\n",
       "\\item TRUE\n",
       "\\item TRUE\n",
       "\\item TRUE\n",
       "\\item TRUE\n",
       "\\item TRUE\n",
       "\\item TRUE\n",
       "\\item TRUE\n",
       "\\item TRUE\n",
       "\\item TRUE\n",
       "\\item TRUE\n",
       "\\item TRUE\n",
       "\\item TRUE\n",
       "\\item TRUE\n",
       "\\item TRUE\n",
       "\\item TRUE\n",
       "\\item TRUE\n",
       "\\item TRUE\n",
       "\\item TRUE\n",
       "\\item TRUE\n",
       "\\item TRUE\n",
       "\\item TRUE\n",
       "\\item TRUE\n",
       "\\item TRUE\n",
       "\\item TRUE\n",
       "\\item TRUE\n",
       "\\item TRUE\n",
       "\\item TRUE\n",
       "\\item TRUE\n",
       "\\item TRUE\n",
       "\\item TRUE\n",
       "\\item TRUE\n",
       "\\item TRUE\n",
       "\\item TRUE\n",
       "\\item TRUE\n",
       "\\item TRUE\n",
       "\\item TRUE\n",
       "\\item TRUE\n",
       "\\item TRUE\n",
       "\\item TRUE\n",
       "\\item TRUE\n",
       "\\item TRUE\n",
       "\\item TRUE\n",
       "\\end{enumerate*}\n"
      ],
      "text/markdown": [
       "1. TRUE\n",
       "2. TRUE\n",
       "3. TRUE\n",
       "4. TRUE\n",
       "5. TRUE\n",
       "6. TRUE\n",
       "7. TRUE\n",
       "8. TRUE\n",
       "9. TRUE\n",
       "10. TRUE\n",
       "11. TRUE\n",
       "12. TRUE\n",
       "13. TRUE\n",
       "14. TRUE\n",
       "15. TRUE\n",
       "16. TRUE\n",
       "17. TRUE\n",
       "18. TRUE\n",
       "19. TRUE\n",
       "20. TRUE\n",
       "21. TRUE\n",
       "22. TRUE\n",
       "23. TRUE\n",
       "24. TRUE\n",
       "25. TRUE\n",
       "26. TRUE\n",
       "27. TRUE\n",
       "28. TRUE\n",
       "29. TRUE\n",
       "30. TRUE\n",
       "31. TRUE\n",
       "32. TRUE\n",
       "33. TRUE\n",
       "34. TRUE\n",
       "35. TRUE\n",
       "36. TRUE\n",
       "37. TRUE\n",
       "38. TRUE\n",
       "39. TRUE\n",
       "40. TRUE\n",
       "41. TRUE\n",
       "42. TRUE\n",
       "43. TRUE\n",
       "44. TRUE\n",
       "45. TRUE\n",
       "46. TRUE\n",
       "47. TRUE\n",
       "48. TRUE\n",
       "49. TRUE\n",
       "50. TRUE\n",
       "51. TRUE\n",
       "52. TRUE\n",
       "53. TRUE\n",
       "54. TRUE\n",
       "55. TRUE\n",
       "56. TRUE\n",
       "57. TRUE\n",
       "58. TRUE\n",
       "59. TRUE\n",
       "60. TRUE\n",
       "61. TRUE\n",
       "62. TRUE\n",
       "63. TRUE\n",
       "64. TRUE\n",
       "65. TRUE\n",
       "66. TRUE\n",
       "67. TRUE\n",
       "68. TRUE\n",
       "69. TRUE\n",
       "70. TRUE\n",
       "71. TRUE\n",
       "72. TRUE\n",
       "73. TRUE\n",
       "74. TRUE\n",
       "75. TRUE\n",
       "76. TRUE\n",
       "77. TRUE\n",
       "78. TRUE\n",
       "79. TRUE\n",
       "80. TRUE\n",
       "81. TRUE\n",
       "82. TRUE\n",
       "83. TRUE\n",
       "84. TRUE\n",
       "85. TRUE\n",
       "86. TRUE\n",
       "87. TRUE\n",
       "88. TRUE\n",
       "89. TRUE\n",
       "90. TRUE\n",
       "91. TRUE\n",
       "92. TRUE\n",
       "93. TRUE\n",
       "94. TRUE\n",
       "95. TRUE\n",
       "96. TRUE\n",
       "97. TRUE\n",
       "98. TRUE\n",
       "99. TRUE\n",
       "100. TRUE\n",
       "101. TRUE\n",
       "102. TRUE\n",
       "103. TRUE\n",
       "104. TRUE\n",
       "105. TRUE\n",
       "106. TRUE\n",
       "107. TRUE\n",
       "108. TRUE\n",
       "109. TRUE\n",
       "110. TRUE\n",
       "111. TRUE\n",
       "112. TRUE\n",
       "113. TRUE\n",
       "114. TRUE\n",
       "115. TRUE\n",
       "116. TRUE\n",
       "117. TRUE\n",
       "118. TRUE\n",
       "119. TRUE\n",
       "120. TRUE\n",
       "121. TRUE\n",
       "122. TRUE\n",
       "123. TRUE\n",
       "124. TRUE\n",
       "125. TRUE\n",
       "126. TRUE\n",
       "127. TRUE\n",
       "128. TRUE\n",
       "129. TRUE\n",
       "130. TRUE\n",
       "131. TRUE\n",
       "132. TRUE\n",
       "133. TRUE\n",
       "\n",
       "\n"
      ],
      "text/plain": [
       "  [1] TRUE TRUE TRUE TRUE TRUE TRUE TRUE TRUE TRUE TRUE TRUE TRUE TRUE TRUE TRUE\n",
       " [16] TRUE TRUE TRUE TRUE TRUE TRUE TRUE TRUE TRUE TRUE TRUE TRUE TRUE TRUE TRUE\n",
       " [31] TRUE TRUE TRUE TRUE TRUE TRUE TRUE TRUE TRUE TRUE TRUE TRUE TRUE TRUE TRUE\n",
       " [46] TRUE TRUE TRUE TRUE TRUE TRUE TRUE TRUE TRUE TRUE TRUE TRUE TRUE TRUE TRUE\n",
       " [61] TRUE TRUE TRUE TRUE TRUE TRUE TRUE TRUE TRUE TRUE TRUE TRUE TRUE TRUE TRUE\n",
       " [76] TRUE TRUE TRUE TRUE TRUE TRUE TRUE TRUE TRUE TRUE TRUE TRUE TRUE TRUE TRUE\n",
       " [91] TRUE TRUE TRUE TRUE TRUE TRUE TRUE TRUE TRUE TRUE TRUE TRUE TRUE TRUE TRUE\n",
       "[106] TRUE TRUE TRUE TRUE TRUE TRUE TRUE TRUE TRUE TRUE TRUE TRUE TRUE TRUE TRUE\n",
       "[121] TRUE TRUE TRUE TRUE TRUE TRUE TRUE TRUE TRUE TRUE TRUE TRUE TRUE"
      ]
     },
     "metadata": {},
     "output_type": "display_data"
    }
   ],
   "source": [
    "colnames(endos) %in% colnames(stromata)\n",
    "colnames(stromata) %in% colnames(endos)\n",
    "rownames(endos) == rownames(stromata)"
   ]
  },
  {
   "cell_type": "markdown",
   "metadata": {},
   "source": [
    "<a id='rdaprep'></a>"
   ]
  },
  {
   "cell_type": "markdown",
   "metadata": {},
   "source": [
    "To examine the importance of leaf in predicting decomposer (stromata) populations, we'll employ [Redundancy analysis](https://sites.google.com/site/mb3gustame/constrained-analyses/rda). This is a constrained, direct-gradient type of analysis that is kind of like a multiple regression of a response (Y) matrix to several explanatory (X) matrices.  \n",
    "\n",
    "One of the nice things about RDA is that it is constrained, meaning that it focuses on the variation in our response matrix that can be explained by the variables we supply, though there is some estimation of unexplained variation. We do not expect that all or even most of the variation in our decomposer matrix will be explained by either the leaf endophyte populations. Much of the variation is probably due to environmental conditions, etc. But here we check to see if any variation in our decomposers can be predicted by endophytes. \n",
    "\n",
    "This is a low-resolution test, we won't pay a lot of attention to the individual species here, because we're not weighting them by sample size or spatial proximity. The RDA in this case is the first step in testing our hypothesis that the endophytes are affecting the stromata, following by the many, much more specific spatial tests using nearest neighbor methods. "
   ]
  },
  {
   "cell_type": "markdown",
   "metadata": {},
   "source": [
    "### Formatting inputs for RDA"
   ]
  },
  {
   "cell_type": "markdown",
   "metadata": {},
   "source": [
    "Our response matrix will be the observations of stromata from our sites. The explanatory matrix will be our leaf endophyte species matrix. Both need to be of the same sites and of the same fungi, meaning we need to trim the rows to match. Also, we need to remove zero-sum columns (i.e. species that were not observed) and rows where endophyte sampling failed will need to be removed from both. So this is a three step process: (1) remove NA rows from both matrices, (2) remove species from both matrices that were not observed at least once (3) trim both matrices' columns to each other, so that only shared species remain. \n",
    "\n",
    "Then see what's left standing, and hope it's enough to build an informative model.\n"
   ]
  },
  {
   "cell_type": "markdown",
   "metadata": {},
   "source": [
    "Rows:"
   ]
  },
  {
   "cell_type": "code",
   "execution_count": 11,
   "metadata": {
    "collapsed": true
   },
   "outputs": [],
   "source": [
    "aa <- !(is.na(endos[,1])) ## which rows in the endophytes were successfully sampled? (= not NA's)\n",
    "stromata <- stromata[aa,] ## remove endophyte NA rows from stromata\n",
    "endos <- endos[aa,] ## and from the endophytes"
   ]
  },
  {
   "cell_type": "markdown",
   "metadata": {},
   "source": [
    "Removing stromata zero columns:"
   ]
  },
  {
   "cell_type": "code",
   "execution_count": 12,
   "metadata": {
    "collapsed": false
   },
   "outputs": [
    {
     "data": {
      "text/html": [
       "FALSE"
      ],
      "text/latex": [
       "FALSE"
      ],
      "text/markdown": [
       "FALSE"
      ],
      "text/plain": [
       "[1] FALSE"
      ]
     },
     "metadata": {},
     "output_type": "display_data"
    }
   ],
   "source": [
    "aa <- which(colSums(stromata) != 0) ## which Xylariaceous species are actually observed as stromata in at least one plot\n",
    "stromata <- stromata[,aa]\n",
    "any(colSums(stromata) == 0) ## check, did it work?"
   ]
  },
  {
   "cell_type": "markdown",
   "metadata": {},
   "source": [
    "Removing endophyte zero rows:"
   ]
  },
  {
   "cell_type": "code",
   "execution_count": 13,
   "metadata": {
    "collapsed": false
   },
   "outputs": [
    {
     "data": {
      "text/html": [
       "FALSE"
      ],
      "text/latex": [
       "FALSE"
      ],
      "text/markdown": [
       "FALSE"
      ],
      "text/plain": [
       "[1] FALSE"
      ]
     },
     "metadata": {},
     "output_type": "display_data"
    }
   ],
   "source": [
    "aa <- which(colSums(endos) != 0) ## which Xylariaceous species are actually observed as endophytes in leaves in at least one plot\n",
    "endos <- endos[,aa]\n",
    "any(colSums(endos) == 0) ## check, did it work?"
   ]
  },
  {
   "cell_type": "code",
   "execution_count": 14,
   "metadata": {
    "collapsed": false,
    "scrolled": true
   },
   "outputs": [
    {
     "data": {
      "text/html": [
       "18"
      ],
      "text/latex": [
       "18"
      ],
      "text/markdown": [
       "18"
      ],
      "text/plain": [
       "[1] 18"
      ]
     },
     "metadata": {},
     "output_type": "display_data"
    }
   ],
   "source": [
    "sum(colnames(endos) %in% colnames(stromata)) ## how many species do we have in common"
   ]
  },
  {
   "cell_type": "markdown",
   "metadata": {},
   "source": [
    "Huh. Fewer I'd thought. \n",
    "\n",
    "Pare both matrices down to the same columns:"
   ]
  },
  {
   "cell_type": "code",
   "execution_count": 15,
   "metadata": {
    "collapsed": false
   },
   "outputs": [],
   "source": [
    "aa <- colnames(stromata) %in% colnames(endos)\n",
    "bb <- colnames(endos) %in% colnames(stromata)\n",
    "\n",
    "stromata <- stromata[,aa]\n",
    "endos <- endos[,bb]"
   ]
  },
  {
   "cell_type": "code",
   "execution_count": 16,
   "metadata": {
    "collapsed": false
   },
   "outputs": [
    {
     "data": {
      "text/html": [
       "<ol class=list-inline>\n",
       "\t<li>115</li>\n",
       "\t<li>18</li>\n",
       "</ol>\n"
      ],
      "text/latex": [
       "\\begin{enumerate*}\n",
       "\\item 115\n",
       "\\item 18\n",
       "\\end{enumerate*}\n"
      ],
      "text/markdown": [
       "1. 115\n",
       "2. 18\n",
       "\n",
       "\n"
      ],
      "text/plain": [
       "[1] 115  18"
      ]
     },
     "metadata": {},
     "output_type": "display_data"
    },
    {
     "data": {
      "text/html": [
       "<ol class=list-inline>\n",
       "\t<li>115</li>\n",
       "\t<li>18</li>\n",
       "</ol>\n"
      ],
      "text/latex": [
       "\\begin{enumerate*}\n",
       "\\item 115\n",
       "\\item 18\n",
       "\\end{enumerate*}\n"
      ],
      "text/markdown": [
       "1. 115\n",
       "2. 18\n",
       "\n",
       "\n"
      ],
      "text/plain": [
       "[1] 115  18"
      ]
     },
     "metadata": {},
     "output_type": "display_data"
    }
   ],
   "source": [
    "dim(stromata)\n",
    "dim(endos)"
   ]
  },
  {
   "cell_type": "code",
   "execution_count": 17,
   "metadata": {
    "collapsed": false
   },
   "outputs": [
    {
     "data": {
      "text/html": [
       "<ol class=list-inline>\n",
       "\t<li>TRUE</li>\n",
       "\t<li>TRUE</li>\n",
       "\t<li>TRUE</li>\n",
       "\t<li>TRUE</li>\n",
       "\t<li>TRUE</li>\n",
       "\t<li>TRUE</li>\n",
       "\t<li>TRUE</li>\n",
       "\t<li>TRUE</li>\n",
       "\t<li>TRUE</li>\n",
       "\t<li>TRUE</li>\n",
       "\t<li>TRUE</li>\n",
       "\t<li>TRUE</li>\n",
       "\t<li>TRUE</li>\n",
       "\t<li>TRUE</li>\n",
       "\t<li>TRUE</li>\n",
       "\t<li>TRUE</li>\n",
       "\t<li>TRUE</li>\n",
       "\t<li>TRUE</li>\n",
       "</ol>\n"
      ],
      "text/latex": [
       "\\begin{enumerate*}\n",
       "\\item TRUE\n",
       "\\item TRUE\n",
       "\\item TRUE\n",
       "\\item TRUE\n",
       "\\item TRUE\n",
       "\\item TRUE\n",
       "\\item TRUE\n",
       "\\item TRUE\n",
       "\\item TRUE\n",
       "\\item TRUE\n",
       "\\item TRUE\n",
       "\\item TRUE\n",
       "\\item TRUE\n",
       "\\item TRUE\n",
       "\\item TRUE\n",
       "\\item TRUE\n",
       "\\item TRUE\n",
       "\\item TRUE\n",
       "\\end{enumerate*}\n"
      ],
      "text/markdown": [
       "1. TRUE\n",
       "2. TRUE\n",
       "3. TRUE\n",
       "4. TRUE\n",
       "5. TRUE\n",
       "6. TRUE\n",
       "7. TRUE\n",
       "8. TRUE\n",
       "9. TRUE\n",
       "10. TRUE\n",
       "11. TRUE\n",
       "12. TRUE\n",
       "13. TRUE\n",
       "14. TRUE\n",
       "15. TRUE\n",
       "16. TRUE\n",
       "17. TRUE\n",
       "18. TRUE\n",
       "\n",
       "\n"
      ],
      "text/plain": [
       " [1] TRUE TRUE TRUE TRUE TRUE TRUE TRUE TRUE TRUE TRUE TRUE TRUE TRUE TRUE TRUE\n",
       "[16] TRUE TRUE TRUE"
      ]
     },
     "metadata": {},
     "output_type": "display_data"
    }
   ],
   "source": [
    "colnames(stromata) == colnames(endos)"
   ]
  },
  {
   "cell_type": "code",
   "execution_count": 18,
   "metadata": {
    "collapsed": false
   },
   "outputs": [
    {
     "data": {
      "text/html": [
       "<ol class=list-inline>\n",
       "\t<li>TRUE</li>\n",
       "\t<li>TRUE</li>\n",
       "\t<li>TRUE</li>\n",
       "\t<li>TRUE</li>\n",
       "\t<li>TRUE</li>\n",
       "\t<li>TRUE</li>\n",
       "\t<li>TRUE</li>\n",
       "\t<li>TRUE</li>\n",
       "\t<li>TRUE</li>\n",
       "\t<li>TRUE</li>\n",
       "\t<li>TRUE</li>\n",
       "\t<li>TRUE</li>\n",
       "\t<li>TRUE</li>\n",
       "\t<li>TRUE</li>\n",
       "\t<li>TRUE</li>\n",
       "\t<li>TRUE</li>\n",
       "\t<li>TRUE</li>\n",
       "\t<li>TRUE</li>\n",
       "\t<li>TRUE</li>\n",
       "\t<li>TRUE</li>\n",
       "\t<li>TRUE</li>\n",
       "\t<li>TRUE</li>\n",
       "\t<li>TRUE</li>\n",
       "\t<li>TRUE</li>\n",
       "\t<li>TRUE</li>\n",
       "\t<li>TRUE</li>\n",
       "\t<li>TRUE</li>\n",
       "\t<li>TRUE</li>\n",
       "\t<li>TRUE</li>\n",
       "\t<li>TRUE</li>\n",
       "\t<li>TRUE</li>\n",
       "\t<li>TRUE</li>\n",
       "\t<li>TRUE</li>\n",
       "\t<li>TRUE</li>\n",
       "\t<li>TRUE</li>\n",
       "\t<li>TRUE</li>\n",
       "\t<li>TRUE</li>\n",
       "\t<li>TRUE</li>\n",
       "\t<li>TRUE</li>\n",
       "\t<li>TRUE</li>\n",
       "\t<li>TRUE</li>\n",
       "\t<li>TRUE</li>\n",
       "\t<li>TRUE</li>\n",
       "\t<li>TRUE</li>\n",
       "\t<li>TRUE</li>\n",
       "\t<li>TRUE</li>\n",
       "\t<li>TRUE</li>\n",
       "\t<li>TRUE</li>\n",
       "\t<li>TRUE</li>\n",
       "\t<li>TRUE</li>\n",
       "\t<li>TRUE</li>\n",
       "\t<li>TRUE</li>\n",
       "\t<li>TRUE</li>\n",
       "\t<li>TRUE</li>\n",
       "\t<li>TRUE</li>\n",
       "\t<li>TRUE</li>\n",
       "\t<li>TRUE</li>\n",
       "\t<li>TRUE</li>\n",
       "\t<li>TRUE</li>\n",
       "\t<li>TRUE</li>\n",
       "\t<li>TRUE</li>\n",
       "\t<li>TRUE</li>\n",
       "\t<li>TRUE</li>\n",
       "\t<li>TRUE</li>\n",
       "\t<li>TRUE</li>\n",
       "\t<li>TRUE</li>\n",
       "\t<li>TRUE</li>\n",
       "\t<li>TRUE</li>\n",
       "\t<li>TRUE</li>\n",
       "\t<li>TRUE</li>\n",
       "\t<li>TRUE</li>\n",
       "\t<li>TRUE</li>\n",
       "\t<li>TRUE</li>\n",
       "\t<li>TRUE</li>\n",
       "\t<li>TRUE</li>\n",
       "\t<li>TRUE</li>\n",
       "\t<li>TRUE</li>\n",
       "\t<li>TRUE</li>\n",
       "\t<li>TRUE</li>\n",
       "\t<li>TRUE</li>\n",
       "\t<li>TRUE</li>\n",
       "\t<li>TRUE</li>\n",
       "\t<li>TRUE</li>\n",
       "\t<li>TRUE</li>\n",
       "\t<li>TRUE</li>\n",
       "\t<li>TRUE</li>\n",
       "\t<li>TRUE</li>\n",
       "\t<li>TRUE</li>\n",
       "\t<li>TRUE</li>\n",
       "\t<li>TRUE</li>\n",
       "\t<li>TRUE</li>\n",
       "\t<li>TRUE</li>\n",
       "\t<li>TRUE</li>\n",
       "\t<li>TRUE</li>\n",
       "\t<li>TRUE</li>\n",
       "\t<li>TRUE</li>\n",
       "\t<li>TRUE</li>\n",
       "\t<li>TRUE</li>\n",
       "\t<li>TRUE</li>\n",
       "\t<li>TRUE</li>\n",
       "\t<li>TRUE</li>\n",
       "\t<li>TRUE</li>\n",
       "\t<li>TRUE</li>\n",
       "\t<li>TRUE</li>\n",
       "\t<li>TRUE</li>\n",
       "\t<li>TRUE</li>\n",
       "\t<li>TRUE</li>\n",
       "\t<li>TRUE</li>\n",
       "\t<li>TRUE</li>\n",
       "\t<li>TRUE</li>\n",
       "\t<li>TRUE</li>\n",
       "\t<li>TRUE</li>\n",
       "\t<li>TRUE</li>\n",
       "\t<li>TRUE</li>\n",
       "\t<li>TRUE</li>\n",
       "</ol>\n"
      ],
      "text/latex": [
       "\\begin{enumerate*}\n",
       "\\item TRUE\n",
       "\\item TRUE\n",
       "\\item TRUE\n",
       "\\item TRUE\n",
       "\\item TRUE\n",
       "\\item TRUE\n",
       "\\item TRUE\n",
       "\\item TRUE\n",
       "\\item TRUE\n",
       "\\item TRUE\n",
       "\\item TRUE\n",
       "\\item TRUE\n",
       "\\item TRUE\n",
       "\\item TRUE\n",
       "\\item TRUE\n",
       "\\item TRUE\n",
       "\\item TRUE\n",
       "\\item TRUE\n",
       "\\item TRUE\n",
       "\\item TRUE\n",
       "\\item TRUE\n",
       "\\item TRUE\n",
       "\\item TRUE\n",
       "\\item TRUE\n",
       "\\item TRUE\n",
       "\\item TRUE\n",
       "\\item TRUE\n",
       "\\item TRUE\n",
       "\\item TRUE\n",
       "\\item TRUE\n",
       "\\item TRUE\n",
       "\\item TRUE\n",
       "\\item TRUE\n",
       "\\item TRUE\n",
       "\\item TRUE\n",
       "\\item TRUE\n",
       "\\item TRUE\n",
       "\\item TRUE\n",
       "\\item TRUE\n",
       "\\item TRUE\n",
       "\\item TRUE\n",
       "\\item TRUE\n",
       "\\item TRUE\n",
       "\\item TRUE\n",
       "\\item TRUE\n",
       "\\item TRUE\n",
       "\\item TRUE\n",
       "\\item TRUE\n",
       "\\item TRUE\n",
       "\\item TRUE\n",
       "\\item TRUE\n",
       "\\item TRUE\n",
       "\\item TRUE\n",
       "\\item TRUE\n",
       "\\item TRUE\n",
       "\\item TRUE\n",
       "\\item TRUE\n",
       "\\item TRUE\n",
       "\\item TRUE\n",
       "\\item TRUE\n",
       "\\item TRUE\n",
       "\\item TRUE\n",
       "\\item TRUE\n",
       "\\item TRUE\n",
       "\\item TRUE\n",
       "\\item TRUE\n",
       "\\item TRUE\n",
       "\\item TRUE\n",
       "\\item TRUE\n",
       "\\item TRUE\n",
       "\\item TRUE\n",
       "\\item TRUE\n",
       "\\item TRUE\n",
       "\\item TRUE\n",
       "\\item TRUE\n",
       "\\item TRUE\n",
       "\\item TRUE\n",
       "\\item TRUE\n",
       "\\item TRUE\n",
       "\\item TRUE\n",
       "\\item TRUE\n",
       "\\item TRUE\n",
       "\\item TRUE\n",
       "\\item TRUE\n",
       "\\item TRUE\n",
       "\\item TRUE\n",
       "\\item TRUE\n",
       "\\item TRUE\n",
       "\\item TRUE\n",
       "\\item TRUE\n",
       "\\item TRUE\n",
       "\\item TRUE\n",
       "\\item TRUE\n",
       "\\item TRUE\n",
       "\\item TRUE\n",
       "\\item TRUE\n",
       "\\item TRUE\n",
       "\\item TRUE\n",
       "\\item TRUE\n",
       "\\item TRUE\n",
       "\\item TRUE\n",
       "\\item TRUE\n",
       "\\item TRUE\n",
       "\\item TRUE\n",
       "\\item TRUE\n",
       "\\item TRUE\n",
       "\\item TRUE\n",
       "\\item TRUE\n",
       "\\item TRUE\n",
       "\\item TRUE\n",
       "\\item TRUE\n",
       "\\item TRUE\n",
       "\\item TRUE\n",
       "\\item TRUE\n",
       "\\item TRUE\n",
       "\\end{enumerate*}\n"
      ],
      "text/markdown": [
       "1. TRUE\n",
       "2. TRUE\n",
       "3. TRUE\n",
       "4. TRUE\n",
       "5. TRUE\n",
       "6. TRUE\n",
       "7. TRUE\n",
       "8. TRUE\n",
       "9. TRUE\n",
       "10. TRUE\n",
       "11. TRUE\n",
       "12. TRUE\n",
       "13. TRUE\n",
       "14. TRUE\n",
       "15. TRUE\n",
       "16. TRUE\n",
       "17. TRUE\n",
       "18. TRUE\n",
       "19. TRUE\n",
       "20. TRUE\n",
       "21. TRUE\n",
       "22. TRUE\n",
       "23. TRUE\n",
       "24. TRUE\n",
       "25. TRUE\n",
       "26. TRUE\n",
       "27. TRUE\n",
       "28. TRUE\n",
       "29. TRUE\n",
       "30. TRUE\n",
       "31. TRUE\n",
       "32. TRUE\n",
       "33. TRUE\n",
       "34. TRUE\n",
       "35. TRUE\n",
       "36. TRUE\n",
       "37. TRUE\n",
       "38. TRUE\n",
       "39. TRUE\n",
       "40. TRUE\n",
       "41. TRUE\n",
       "42. TRUE\n",
       "43. TRUE\n",
       "44. TRUE\n",
       "45. TRUE\n",
       "46. TRUE\n",
       "47. TRUE\n",
       "48. TRUE\n",
       "49. TRUE\n",
       "50. TRUE\n",
       "51. TRUE\n",
       "52. TRUE\n",
       "53. TRUE\n",
       "54. TRUE\n",
       "55. TRUE\n",
       "56. TRUE\n",
       "57. TRUE\n",
       "58. TRUE\n",
       "59. TRUE\n",
       "60. TRUE\n",
       "61. TRUE\n",
       "62. TRUE\n",
       "63. TRUE\n",
       "64. TRUE\n",
       "65. TRUE\n",
       "66. TRUE\n",
       "67. TRUE\n",
       "68. TRUE\n",
       "69. TRUE\n",
       "70. TRUE\n",
       "71. TRUE\n",
       "72. TRUE\n",
       "73. TRUE\n",
       "74. TRUE\n",
       "75. TRUE\n",
       "76. TRUE\n",
       "77. TRUE\n",
       "78. TRUE\n",
       "79. TRUE\n",
       "80. TRUE\n",
       "81. TRUE\n",
       "82. TRUE\n",
       "83. TRUE\n",
       "84. TRUE\n",
       "85. TRUE\n",
       "86. TRUE\n",
       "87. TRUE\n",
       "88. TRUE\n",
       "89. TRUE\n",
       "90. TRUE\n",
       "91. TRUE\n",
       "92. TRUE\n",
       "93. TRUE\n",
       "94. TRUE\n",
       "95. TRUE\n",
       "96. TRUE\n",
       "97. TRUE\n",
       "98. TRUE\n",
       "99. TRUE\n",
       "100. TRUE\n",
       "101. TRUE\n",
       "102. TRUE\n",
       "103. TRUE\n",
       "104. TRUE\n",
       "105. TRUE\n",
       "106. TRUE\n",
       "107. TRUE\n",
       "108. TRUE\n",
       "109. TRUE\n",
       "110. TRUE\n",
       "111. TRUE\n",
       "112. TRUE\n",
       "113. TRUE\n",
       "114. TRUE\n",
       "115. TRUE\n",
       "\n",
       "\n"
      ],
      "text/plain": [
       "  [1] TRUE TRUE TRUE TRUE TRUE TRUE TRUE TRUE TRUE TRUE TRUE TRUE TRUE TRUE TRUE\n",
       " [16] TRUE TRUE TRUE TRUE TRUE TRUE TRUE TRUE TRUE TRUE TRUE TRUE TRUE TRUE TRUE\n",
       " [31] TRUE TRUE TRUE TRUE TRUE TRUE TRUE TRUE TRUE TRUE TRUE TRUE TRUE TRUE TRUE\n",
       " [46] TRUE TRUE TRUE TRUE TRUE TRUE TRUE TRUE TRUE TRUE TRUE TRUE TRUE TRUE TRUE\n",
       " [61] TRUE TRUE TRUE TRUE TRUE TRUE TRUE TRUE TRUE TRUE TRUE TRUE TRUE TRUE TRUE\n",
       " [76] TRUE TRUE TRUE TRUE TRUE TRUE TRUE TRUE TRUE TRUE TRUE TRUE TRUE TRUE TRUE\n",
       " [91] TRUE TRUE TRUE TRUE TRUE TRUE TRUE TRUE TRUE TRUE TRUE TRUE TRUE TRUE TRUE\n",
       "[106] TRUE TRUE TRUE TRUE TRUE TRUE TRUE TRUE TRUE TRUE"
      ]
     },
     "metadata": {},
     "output_type": "display_data"
    }
   ],
   "source": [
    "rownames(stromata) == rownames(endos)"
   ]
  },
  {
   "cell_type": "markdown",
   "metadata": {},
   "source": [
    "Looks good, matrices are the same size, same column and row orders..."
   ]
  },
  {
   "cell_type": "markdown",
   "metadata": {},
   "source": [
    "<a id='transform'></a>"
   ]
  },
  {
   "cell_type": "markdown",
   "metadata": {},
   "source": [
    "## Data transformations\n",
    "\n",
    "** 1. Convert to Presence/Absence data:** Doing to this because I do not trust our read abundances or stromata counts to be ecologically meaningful. See notes [here](#mockcom)."
   ]
  },
  {
   "cell_type": "code",
   "execution_count": 19,
   "metadata": {
    "collapsed": true
   },
   "outputs": [],
   "source": [
    "stromata[stromata > 0] <- 1\n",
    "endos[endos > 0] <- 1"
   ]
  },
  {
   "cell_type": "markdown",
   "metadata": {},
   "source": [
    "**2. Hellinger transformations:** \n",
    "\n",
    "Redundancy analysis is a type of PCA of our response (stromata) matrix coupled with a multiple regression of our explanatory matrix, in this case either our wood or leaf endophyte matrices. (RDA is obviously a lot more complicated than this, involving construction of new axes informed by both explanatory and response variable, see [here](#https://sites.google.com/site/mb3gustame/constrained-analyses/rda)). Since this can be considered a type of multiple regression and PCA analysis, we run into some obstacles. PCA analysis relies on Euclidean distances for its construction of new axes, and multiple regression works best when the explanatory variables can be modeled linearly, or at least ordered in rank abundance. But it's pretty well known that species distributions aren't modeled well as linear gradients. Along a single environmental gradient they may follow unimodal, gaussian distibutions, but in really sparse matrices like we have, with incomplete sampling of thousands of interacting species instead of one, and in the finite space of a single study with environmental variables varying at different spatial scales, this type of normality can be pretty hard to pick up. Also the numerous zeroes in these matrices make very different sampling sites look very similar in normal euclidean space, [the double zero problem](#https://sites.google.com/site/mb3gustame/reference/dissimilarity).\n",
    "\n",
    "So we'll standardize and flatten out differences in abundances in our species matrices using a [Hellinger transformation](#http://www.jstor.org/stable/4223083). In doing so we hope to reduce the homogenizing effect of having lots of zeroes in all sites and retain monotonic properties, if not linearity, to our abundance data (which we've already reduced to presence-absence). The RDA can then proceed with these transformed values to create new axes that are shared by both our explanatory and response matrices, using euclidean distances. At least, that's the theory..."
   ]
  },
  {
   "cell_type": "code",
   "execution_count": 20,
   "metadata": {
    "collapsed": true
   },
   "outputs": [],
   "source": [
    "stromata.hel <- decostand(stromata, 'hellinger')\n",
    "endos.hel <- decostand(endos, 'hellinger')"
   ]
  },
  {
   "cell_type": "code",
   "execution_count": 21,
   "metadata": {
    "collapsed": false
   },
   "outputs": [],
   "source": [
    "#save(stromata, file='stromata.rda')\n",
    "#save(endos, file='endos.rda')\n",
    "\n",
    "#save(stromata.hel, file='stromata.hel.rda')\n",
    "#save(endos.hel, file='endos.hel.rda')"
   ]
  },
  {
   "cell_type": "markdown",
   "metadata": {},
   "source": [
    "<a id='rda'></a>"
   ]
  },
  {
   "cell_type": "markdown",
   "metadata": {},
   "source": [
    "# Redundancy Analysis"
   ]
  },
  {
   "cell_type": "markdown",
   "metadata": {},
   "source": [
    "Okay, think we're done with formatting and transformations. Time to do the deed:"
   ]
  },
  {
   "cell_type": "markdown",
   "metadata": {},
   "source": [
    "**Stromata as a function of entire leaf endophyte community**"
   ]
  },
  {
   "cell_type": "code",
   "execution_count": 8,
   "metadata": {
    "collapsed": false
   },
   "outputs": [],
   "source": [
    "leaf.rda <- rda(stromata.hel ~ ., data = endos.hel) ## run the rda"
   ]
  },
  {
   "cell_type": "code",
   "execution_count": 9,
   "metadata": {
    "collapsed": false
   },
   "outputs": [
    {
     "data": {
      "text/html": [
       "<table>\n",
       "<thead><tr><th></th><th scope=col>Df</th><th scope=col>Variance</th><th scope=col>F</th><th scope=col>Pr(&gt;F)</th></tr></thead>\n",
       "<tbody>\n",
       "\t<tr><th scope=row>Model</th><td>18        </td><td>0.06033647</td><td>1.356065  </td><td>0.04389561</td></tr>\n",
       "\t<tr><th scope=row>Residual</th><td>96        </td><td>0.23730024</td><td>      NA  </td><td>        NA</td></tr>\n",
       "</tbody>\n",
       "</table>\n"
      ],
      "text/latex": [
       "\\begin{tabular}{r|llll}\n",
       "  & Df & Variance & F & Pr(>F)\\\\\n",
       "\\hline\n",
       "\tModel & 18         & 0.06033647 & 1.356065   & 0.04389561\\\\\n",
       "\tResidual & 96         & 0.23730024 &       NA   &         NA\\\\\n",
       "\\end{tabular}\n"
      ],
      "text/plain": [
       "         Df Variance   F        Pr(>F)    \n",
       "Model    18 0.06033647 1.356065 0.04389561\n",
       "Residual 96 0.23730024       NA         NA"
      ]
     },
     "metadata": {},
     "output_type": "display_data"
    }
   ],
   "source": [
    "anova.cca(leaf.rda, permutations = 10000) ## check for significance"
   ]
  },
  {
   "cell_type": "markdown",
   "metadata": {},
   "source": [
    "Not a lot of variance explained, but we weren't expecting much, as \"viaphytism\" is just one reason to live in a leaf. Look at our RDAs:"
   ]
  },
  {
   "cell_type": "code",
   "execution_count": 11,
   "metadata": {
    "collapsed": false,
    "scrolled": false
   },
   "outputs": [
    {
     "data": {
      "text/plain": [
       "Call: rda(formula = stromata.hel ~ A_atroroseum +\n",
       "A_bovei_var_microspora + A_moriforme + B_capnodes_1 + H_notatum +\n",
       "H_perforatum_China + K_pavimentosa + K_pavimentosa_or_N_primolutea +\n",
       "N_bipapillata_var_bipapillata + N_bipapillata_var_macrodiscus +\n",
       "N_diffusa + N_sp_1 + W_microplaca + X_atrosphaerica + X_flabelliforme +\n",
       "X_schweinitzii + X_sp_1 + X_sp_nov_1_long, data = endos.hel)\n",
       "\n",
       "              Inertia Proportion Rank\n",
       "Total         0.29764    1.00000     \n",
       "Constrained   0.06034    0.20272   17\n",
       "Unconstrained 0.23730    0.79728   18\n",
       "Inertia is variance \n",
       "\n",
       "Eigenvalues for constrained axes:\n",
       "    RDA1     RDA2     RDA3     RDA4     RDA5     RDA6     RDA7     RDA8 \n",
       "0.021076 0.009911 0.009357 0.004949 0.003513 0.003352 0.002402 0.001661 \n",
       "    RDA9    RDA10    RDA11    RDA12    RDA13    RDA14    RDA15    RDA16 \n",
       "0.001277 0.000935 0.000696 0.000379 0.000336 0.000239 0.000133 0.000088 \n",
       "   RDA17 \n",
       "0.000034 \n",
       "\n",
       "Eigenvalues for unconstrained axes:\n",
       "    PC1     PC2     PC3     PC4     PC5     PC6     PC7     PC8 \n",
       "0.07959 0.02620 0.02066 0.01497 0.01387 0.01215 0.00920 0.00848 \n",
       "(Showed only 8 of all 18 unconstrained eigenvalues)\n"
      ]
     },
     "metadata": {},
     "output_type": "display_data"
    }
   ],
   "source": [
    "leaf.rda"
   ]
  },
  {
   "cell_type": "markdown",
   "metadata": {},
   "source": [
    "Which of these RDA's are statistically significant?"
   ]
  },
  {
   "cell_type": "code",
   "execution_count": 19,
   "metadata": {
    "collapsed": false,
    "scrolled": true
   },
   "outputs": [
    {
     "data": {
      "text/html": [
       "<table>\n",
       "<thead><tr><th></th><th scope=col>Df</th><th scope=col>Variance</th><th scope=col>F</th><th scope=col>Pr(&gt;F)</th></tr></thead>\n",
       "<tbody>\n",
       "\t<tr><th scope=row>RDA1</th><td> 1          </td><td>2.107571e-02</td><td>8.61500872  </td><td>0.001       </td></tr>\n",
       "\t<tr><th scope=row>RDA2</th><td> 1          </td><td>9.911092e-03</td><td>4.05130631  </td><td>0.007       </td></tr>\n",
       "\t<tr><th scope=row>RDA3</th><td> 1          </td><td>9.356885e-03</td><td>3.82476575  </td><td>0.002       </td></tr>\n",
       "\t<tr><th scope=row>RDA4</th><td> 1          </td><td>4.949327e-03</td><td>2.02311086  </td><td>0.049       </td></tr>\n",
       "\t<tr><th scope=row>RDA5</th><td> 1          </td><td>3.512714e-03</td><td>1.43587418  </td><td>0.238       </td></tr>\n",
       "\t<tr><th scope=row>RDA6</th><td> 1          </td><td>3.351741e-03</td><td>1.37007399  </td><td>0.182       </td></tr>\n",
       "\t<tr><th scope=row>RDA7</th><td> 1          </td><td>2.401561e-03</td><td>0.98167380  </td><td>0.385       </td></tr>\n",
       "\t<tr><th scope=row>RDA8</th><td> 1          </td><td>1.661286e-03</td><td>0.67907523  </td><td>0.723       </td></tr>\n",
       "\t<tr><th scope=row>RDA9</th><td> 1          </td><td>1.276855e-03</td><td>0.52193333  </td><td>0.866       </td></tr>\n",
       "\t<tr><th scope=row>RDA10</th><td> 1          </td><td>9.345910e-04</td><td>0.38202799  </td><td>0.950       </td></tr>\n",
       "\t<tr><th scope=row>RDA11</th><td> 1          </td><td>6.964767e-04</td><td>0.28469522  </td><td>0.993       </td></tr>\n",
       "\t<tr><th scope=row>RDA12</th><td> 1          </td><td>3.787611e-04</td><td>0.15482423  </td><td>1.000       </td></tr>\n",
       "\t<tr><th scope=row>RDA13</th><td> 1          </td><td>3.361033e-04</td><td>0.13738720  </td><td>1.000       </td></tr>\n",
       "\t<tr><th scope=row>RDA14</th><td> 1          </td><td>2.389057e-04</td><td>0.09765627  </td><td>1.000       </td></tr>\n",
       "\t<tr><th scope=row>RDA15</th><td> 1          </td><td>1.328120e-04</td><td>0.05428889  </td><td>1.000       </td></tr>\n",
       "\t<tr><th scope=row>RDA16</th><td> 1          </td><td>8.812498e-05</td><td>0.03602240  </td><td>1.000       </td></tr>\n",
       "\t<tr><th scope=row>RDA17</th><td> 1          </td><td>3.352947e-05</td><td>0.01370567  </td><td>1.000       </td></tr>\n",
       "\t<tr><th scope=row>Residual</th><td>97          </td><td>2.373002e-01</td><td>        NA  </td><td>   NA       </td></tr>\n",
       "</tbody>\n",
       "</table>\n"
      ],
      "text/latex": [
       "\\begin{tabular}{r|llll}\n",
       "  & Df & Variance & F & Pr(>F)\\\\\n",
       "\\hline\n",
       "\tRDA1 &  1           & 2.107571e-02 & 8.61500872   & 0.001       \\\\\n",
       "\tRDA2 &  1           & 9.911092e-03 & 4.05130631   & 0.007       \\\\\n",
       "\tRDA3 &  1           & 9.356885e-03 & 3.82476575   & 0.002       \\\\\n",
       "\tRDA4 &  1           & 4.949327e-03 & 2.02311086   & 0.049       \\\\\n",
       "\tRDA5 &  1           & 3.512714e-03 & 1.43587418   & 0.238       \\\\\n",
       "\tRDA6 &  1           & 3.351741e-03 & 1.37007399   & 0.182       \\\\\n",
       "\tRDA7 &  1           & 2.401561e-03 & 0.98167380   & 0.385       \\\\\n",
       "\tRDA8 &  1           & 1.661286e-03 & 0.67907523   & 0.723       \\\\\n",
       "\tRDA9 &  1           & 1.276855e-03 & 0.52193333   & 0.866       \\\\\n",
       "\tRDA10 &  1           & 9.345910e-04 & 0.38202799   & 0.950       \\\\\n",
       "\tRDA11 &  1           & 6.964767e-04 & 0.28469522   & 0.993       \\\\\n",
       "\tRDA12 &  1           & 3.787611e-04 & 0.15482423   & 1.000       \\\\\n",
       "\tRDA13 &  1           & 3.361033e-04 & 0.13738720   & 1.000       \\\\\n",
       "\tRDA14 &  1           & 2.389057e-04 & 0.09765627   & 1.000       \\\\\n",
       "\tRDA15 &  1           & 1.328120e-04 & 0.05428889   & 1.000       \\\\\n",
       "\tRDA16 &  1           & 8.812498e-05 & 0.03602240   & 1.000       \\\\\n",
       "\tRDA17 &  1           & 3.352947e-05 & 0.01370567   & 1.000       \\\\\n",
       "\tResidual & 97           & 2.373002e-01 &         NA   &    NA       \\\\\n",
       "\\end{tabular}\n"
      ],
      "text/plain": [
       "         Df Variance     F          Pr(>F)\n",
       "RDA1      1 2.107571e-02 8.61500872 0.001 \n",
       "RDA2      1 9.911092e-03 4.05130631 0.007 \n",
       "RDA3      1 9.356885e-03 3.82476575 0.002 \n",
       "RDA4      1 4.949327e-03 2.02311086 0.049 \n",
       "RDA5      1 3.512714e-03 1.43587418 0.238 \n",
       "RDA6      1 3.351741e-03 1.37007399 0.182 \n",
       "RDA7      1 2.401561e-03 0.98167380 0.385 \n",
       "RDA8      1 1.661286e-03 0.67907523 0.723 \n",
       "RDA9      1 1.276855e-03 0.52193333 0.866 \n",
       "RDA10     1 9.345910e-04 0.38202799 0.950 \n",
       "RDA11     1 6.964767e-04 0.28469522 0.993 \n",
       "RDA12     1 3.787611e-04 0.15482423 1.000 \n",
       "RDA13     1 3.361033e-04 0.13738720 1.000 \n",
       "RDA14     1 2.389057e-04 0.09765627 1.000 \n",
       "RDA15     1 1.328120e-04 0.05428889 1.000 \n",
       "RDA16     1 8.812498e-05 0.03602240 1.000 \n",
       "RDA17     1 3.352947e-05 0.01370567 1.000 \n",
       "Residual 97 2.373002e-01         NA    NA "
      ]
     },
     "metadata": {},
     "output_type": "display_data"
    }
   ],
   "source": [
    "anova_axis<-anova(leaf.rda,by=\"axis\")\n",
    "anova_axis"
   ]
  },
  {
   "cell_type": "markdown",
   "metadata": {},
   "source": [
    "So only the first four RDAs are statistically significant. "
   ]
  },
  {
   "cell_type": "code",
   "execution_count": 12,
   "metadata": {
    "collapsed": true
   },
   "outputs": [],
   "source": [
    "#save(leaf.rda, file='leafrda.rda')"
   ]
  },
  {
   "cell_type": "markdown",
   "metadata": {},
   "source": [
    "<a id='graphics'></a>"
   ]
  },
  {
   "cell_type": "markdown",
   "metadata": {},
   "source": [
    "## Graphics"
   ]
  },
  {
   "cell_type": "markdown",
   "metadata": {},
   "source": [
    "There is a quick plotter for these kinds of constrained ordinations, which takes the first two rdas:"
   ]
  },
  {
   "cell_type": "code",
   "execution_count": 17,
   "metadata": {
    "collapsed": false,
    "scrolled": false
   },
   "outputs": [
    {
     "data": {
      "image/png": "[encoded data removed]",
      "text/plain": [
       "plot without title"
      ]
     },
     "metadata": {},
     "output_type": "display_data"
    }
   ],
   "source": [
    "options(repr.plot.width = 5, repr.plot.height = 5)\n",
    "leafrdaplot <- plot(leaf.rda)"
   ]
  },
  {
   "cell_type": "markdown",
   "metadata": {},
   "source": [
    "In these plots, species from our wood or leaf matrix are arrows. RDA is a type of constrained analysis, so the wood endophyte species are being used in the construction of the two most important PCA's (RDA's) that are our two axes. The longer the arrow, the more important they are for these new RDA axes. Hence, the longer arrows indicate which leaf endophytes seem to be co-varying with our stromata community.However, if we look at our RDA's, the second (\"y\" axis) is far less important and pretty arbitrary, the RDA's after the first one are in the same order of magnitude.\n",
    "\n",
    "So for the moment, let's focus on this first RDA, where most of the information is. Not sure where the loadings for the RDA's are kept in the model, but they are in the plot object, we can grab them from there:"
   ]
  },
  {
   "cell_type": "code",
   "execution_count": 13,
   "metadata": {
    "collapsed": false,
    "scrolled": false
   },
   "outputs": [
    {
     "data": {
      "text/html": [
       "<table>\n",
       "<thead><tr><th></th><th scope=col>RDA1</th><th scope=col>RDA2</th></tr></thead>\n",
       "<tbody>\n",
       "\t<tr><th scope=row>A_atroroseum</th><td>-0.13031924</td><td>-0.04945629</td></tr>\n",
       "\t<tr><th scope=row>A_bovei_var_microspora</th><td>-0.41283831</td><td>-0.31318943</td></tr>\n",
       "\t<tr><th scope=row>A_moriforme</th><td> 0.01852943</td><td>-0.26392204</td></tr>\n",
       "\t<tr><th scope=row>B_capnodes_1</th><td> 0.18551848</td><td>-0.78847767</td></tr>\n",
       "\t<tr><th scope=row>H_notatum</th><td> 0.30504264</td><td>-0.12732847</td></tr>\n",
       "\t<tr><th scope=row>H_perforatum_China</th><td> 0.04059997</td><td>-0.09363635</td></tr>\n",
       "</tbody>\n",
       "</table>\n"
      ],
      "text/latex": [
       "\\begin{tabular}{r|ll}\n",
       "  & RDA1 & RDA2\\\\\n",
       "\\hline\n",
       "\tA\\_atroroseum & -0.13031924 & -0.04945629\\\\\n",
       "\tA\\_bovei\\_var\\_microspora & -0.41283831 & -0.31318943\\\\\n",
       "\tA\\_moriforme &  0.01852943 & -0.26392204\\\\\n",
       "\tB\\_capnodes\\_1 &  0.18551848 & -0.78847767\\\\\n",
       "\tH\\_notatum &  0.30504264 & -0.12732847\\\\\n",
       "\tH\\_perforatum\\_China &  0.04059997 & -0.09363635\\\\\n",
       "\\end{tabular}\n"
      ],
      "text/markdown": [
       "1. -0.130319243489483\n",
       "2. -0.412838311592623\n",
       "3. 0.0185294347667428\n",
       "4. 0.185518481203935\n",
       "5. 0.305042639476992\n",
       "6. 0.0405999712868703\n",
       "7. -0.0494562900608428\n",
       "8. -0.31318942828566\n",
       "9. -0.263922037035839\n",
       "10. -0.7884776722164\n",
       "11. -0.127328465775807\n",
       "12. -0.093636353487185\n",
       "\n",
       "\n"
      ],
      "text/plain": [
       "                       RDA1        RDA2       \n",
       "A_atroroseum           -0.13031924 -0.04945629\n",
       "A_bovei_var_microspora -0.41283831 -0.31318943\n",
       "A_moriforme             0.01852943 -0.26392204\n",
       "B_capnodes_1            0.18551848 -0.78847767\n",
       "H_notatum               0.30504264 -0.12732847\n",
       "H_perforatum_China      0.04059997 -0.09363635"
      ]
     },
     "metadata": {},
     "output_type": "display_data"
    }
   ],
   "source": [
    "head(leafrdaplot$biplot)"
   ]
  },
  {
   "cell_type": "markdown",
   "metadata": {},
   "source": [
    "Okay, here's a quick and dirty function for grabbing one of these RDAs and plotting them in spiral arrangement. Uses three arguments - the rda plot object, the rda number, and the number of species desired from this rda. The setting for the x and y limits may need to be altered, but if so, range and domain should be equal to avoid biasing the lengths of the arrows. "
   ]
  },
  {
   "cell_type": "code",
   "execution_count": 14,
   "metadata": {
    "collapsed": true
   },
   "outputs": [],
   "source": [
    "oneRDAplot <- function(rdaplot, rdanum, speciesnum){\n",
    "        ## empty plot\n",
    "        plot(1, type = 'n', xlim=c(-0.5,0.8), ylim=c(-0.5,0.8), axes=FALSE, xlab=\"\",ylab=\"\")\n",
    "        ## get RDA\n",
    "        aa <- rdaplot$biplot[,rdanum]\n",
    "        ## magnitude, not direction, really matters here:\n",
    "        bb <- sort(abs(aa), decreasing=TRUE)\n",
    "        ## take out the number of species desired:\n",
    "        cc <- bb[1:speciesnum]\n",
    "        ## first create a set of angles:\n",
    "        ang <- NULL\n",
    "        ang[1] <- 90\n",
    "        for (i in 2:speciesnum){\n",
    "                ang[i] <- ang[i-1] - 360/speciesnum\n",
    "                if(ang[i] < 0) {ang[i] <- ang[i] + 360}\n",
    "        }\n",
    "        ang <- ang*pi/180 ## convert to radians, these are our angles\n",
    "        ## now create a set of x and y coords using our angles\n",
    "        ## we need to multiply by the loadings from our RDA ('cc')\n",
    "        x1 <- cc*cos(ang)\n",
    "        y1 <- cc*sin(ang)\n",
    "        ## and plot these arrows:\n",
    "        arrows(x0=0,y0=0,x1,y1, length=.1)\n",
    "        return(cc) ## give back sorted list\n",
    "} ## end of function"
   ]
  },
  {
   "cell_type": "code",
   "execution_count": 15,
   "metadata": {
    "collapsed": false
   },
   "outputs": [
    {
     "data": {
      "image/png": "[encoded data removed]",
      "text/plain": [
       "plot without title"
      ]
     },
     "metadata": {},
     "output_type": "display_data"
    }
   ],
   "source": [
    "aa <- oneRDAplot(leafrdaplot, 1, 10)"
   ]
  },
  {
   "cell_type": "code",
   "execution_count": 16,
   "metadata": {
    "collapsed": false,
    "scrolled": false
   },
   "outputs": [
    {
     "data": {
      "text/html": [
       "<dl class=dl-horizontal>\n",
       "\t<dt>K_pavimentosa_or_N_primolutea</dt>\n",
       "\t\t<dd>0.584819586733012</dd>\n",
       "\t<dt>N_diffusa</dt>\n",
       "\t\t<dd>0.566846065350863</dd>\n",
       "\t<dt>A_bovei_var_microspora</dt>\n",
       "\t\t<dd>0.412838311592623</dd>\n",
       "\t<dt>H_notatum</dt>\n",
       "\t\t<dd>0.305042639476992</dd>\n",
       "\t<dt>X_atrosphaerica</dt>\n",
       "\t\t<dd>0.272610672006851</dd>\n",
       "\t<dt>N_bipapillata_var_bipapillata</dt>\n",
       "\t\t<dd>0.21902208119141</dd>\n",
       "\t<dt>B_capnodes_1</dt>\n",
       "\t\t<dd>0.185518481203935</dd>\n",
       "\t<dt>X_sp_1</dt>\n",
       "\t\t<dd>0.153039600413574</dd>\n",
       "\t<dt>X_flabelliforme</dt>\n",
       "\t\t<dd>0.147403434094757</dd>\n",
       "\t<dt>A_atroroseum</dt>\n",
       "\t\t<dd>0.130319243489483</dd>\n",
       "</dl>\n"
      ],
      "text/latex": [
       "\\begin{description*}\n",
       "\\item[K\\textbackslash{}\\_pavimentosa\\textbackslash{}\\_or\\textbackslash{}\\_N\\textbackslash{}\\_primolutea] 0.584819586733012\n",
       "\\item[N\\textbackslash{}\\_diffusa] 0.566846065350863\n",
       "\\item[A\\textbackslash{}\\_bovei\\textbackslash{}\\_var\\textbackslash{}\\_microspora] 0.412838311592623\n",
       "\\item[H\\textbackslash{}\\_notatum] 0.305042639476992\n",
       "\\item[X\\textbackslash{}\\_atrosphaerica] 0.272610672006851\n",
       "\\item[N\\textbackslash{}\\_bipapillata\\textbackslash{}\\_var\\textbackslash{}\\_bipapillata] 0.21902208119141\n",
       "\\item[B\\textbackslash{}\\_capnodes\\textbackslash{}\\_1] 0.185518481203935\n",
       "\\item[X\\textbackslash{}\\_sp\\textbackslash{}\\_1] 0.153039600413574\n",
       "\\item[X\\textbackslash{}\\_flabelliforme] 0.147403434094757\n",
       "\\item[A\\textbackslash{}\\_atroroseum] 0.130319243489483\n",
       "\\end{description*}\n"
      ],
      "text/markdown": [
       "K_pavimentosa_or_N_primolutea\n",
       ":   0.584819586733012N_diffusa\n",
       ":   0.566846065350863A_bovei_var_microspora\n",
       ":   0.412838311592623H_notatum\n",
       ":   0.305042639476992X_atrosphaerica\n",
       ":   0.272610672006851N_bipapillata_var_bipapillata\n",
       ":   0.21902208119141B_capnodes_1\n",
       ":   0.185518481203935X_sp_1\n",
       ":   0.153039600413574X_flabelliforme\n",
       ":   0.147403434094757A_atroroseum\n",
       ":   0.130319243489483\n",
       "\n"
      ],
      "text/plain": [
       "K_pavimentosa_or_N_primolutea                     N_diffusa \n",
       "                    0.5848196                     0.5668461 \n",
       "       A_bovei_var_microspora                     H_notatum \n",
       "                    0.4128383                     0.3050426 \n",
       "              X_atrosphaerica N_bipapillata_var_bipapillata \n",
       "                    0.2726107                     0.2190221 \n",
       "                 B_capnodes_1                        X_sp_1 \n",
       "                    0.1855185                     0.1530396 \n",
       "              X_flabelliforme                  A_atroroseum \n",
       "                    0.1474034                     0.1303192 "
      ]
     },
     "metadata": {},
     "output_type": "display_data"
    }
   ],
   "source": [
    "aa"
   ]
  },
  {
   "cell_type": "markdown",
   "metadata": {},
   "source": [
    "So that is one way of presenting our results, using just the first RDA. If we want to plot other RDA's beyond RDA1 and RDA2, we need to dig into our RDA object a little more. We'll look at the first four, which were the only statistically significant ones:"
   ]
  },
  {
   "cell_type": "code",
   "execution_count": 20,
   "metadata": {
    "collapsed": true
   },
   "outputs": [],
   "source": [
    "loads <- leaf.rda$CC$biplot[,1:4]"
   ]
  },
  {
   "cell_type": "code",
   "execution_count": 23,
   "metadata": {
    "collapsed": false
   },
   "outputs": [
    {
     "data": {
      "text/html": [
       "<table>\n",
       "<thead><tr><th></th><th scope=col>RDA1</th><th scope=col>RDA2</th><th scope=col>RDA3</th><th scope=col>RDA4</th></tr></thead>\n",
       "<tbody>\n",
       "\t<tr><th scope=row>A_atroroseum</th><td>-0.13031924</td><td>-0.04945629</td><td> 0.16266511</td><td>-0.13636009</td></tr>\n",
       "\t<tr><th scope=row>A_bovei_var_microspora</th><td>-0.41283831</td><td>-0.31318943</td><td> 0.45615937</td><td> 0.07457499</td></tr>\n",
       "\t<tr><th scope=row>A_moriforme</th><td> 0.01852943</td><td>-0.26392204</td><td> 0.60477528</td><td> 0.05000369</td></tr>\n",
       "\t<tr><th scope=row>B_capnodes_1</th><td> 0.18551848</td><td>-0.78847767</td><td>-0.40629779</td><td> 0.14173948</td></tr>\n",
       "\t<tr><th scope=row>H_notatum</th><td> 0.30504264</td><td>-0.12732847</td><td>-0.08635277</td><td>-0.25582810</td></tr>\n",
       "\t<tr><th scope=row>H_perforatum_China</th><td> 0.04059997</td><td>-0.09363635</td><td> 0.33955652</td><td> 0.06478961</td></tr>\n",
       "</tbody>\n",
       "</table>\n"
      ],
      "text/latex": [
       "\\begin{tabular}{r|llll}\n",
       "  & RDA1 & RDA2 & RDA3 & RDA4\\\\\n",
       "\\hline\n",
       "\tA\\_atroroseum & -0.13031924 & -0.04945629 &  0.16266511 & -0.13636009\\\\\n",
       "\tA\\_bovei\\_var\\_microspora & -0.41283831 & -0.31318943 &  0.45615937 &  0.07457499\\\\\n",
       "\tA\\_moriforme &  0.01852943 & -0.26392204 &  0.60477528 &  0.05000369\\\\\n",
       "\tB\\_capnodes\\_1 &  0.18551848 & -0.78847767 & -0.40629779 &  0.14173948\\\\\n",
       "\tH\\_notatum &  0.30504264 & -0.12732847 & -0.08635277 & -0.25582810\\\\\n",
       "\tH\\_perforatum\\_China &  0.04059997 & -0.09363635 &  0.33955652 &  0.06478961\\\\\n",
       "\\end{tabular}\n"
      ],
      "text/markdown": [
       "1. -0.130319243489483\n",
       "2. -0.412838311592623\n",
       "3. 0.0185294347667428\n",
       "4. 0.185518481203935\n",
       "5. 0.305042639476992\n",
       "6. 0.0405999712868703\n",
       "7. -0.0494562900608428\n",
       "8. -0.31318942828566\n",
       "9. -0.263922037035839\n",
       "10. -0.7884776722164\n",
       "11. -0.127328465775807\n",
       "12. -0.093636353487185\n",
       "13. 0.162665112328972\n",
       "14. 0.456159373129272\n",
       "15. 0.604775282137279\n",
       "16. -0.406297788288693\n",
       "17. -0.0863527707387099\n",
       "18. 0.339556523505129\n",
       "19. -0.13636009001073\n",
       "20. 0.0745749865151224\n",
       "21. 0.0500036914964296\n",
       "22. 0.141739475011839\n",
       "23. -0.255828096314786\n",
       "24. 0.0647896075041665\n",
       "\n",
       "\n"
      ],
      "text/plain": [
       "                       RDA1        RDA2        RDA3        RDA4       \n",
       "A_atroroseum           -0.13031924 -0.04945629  0.16266511 -0.13636009\n",
       "A_bovei_var_microspora -0.41283831 -0.31318943  0.45615937  0.07457499\n",
       "A_moriforme             0.01852943 -0.26392204  0.60477528  0.05000369\n",
       "B_capnodes_1            0.18551848 -0.78847767 -0.40629779  0.14173948\n",
       "H_notatum               0.30504264 -0.12732847 -0.08635277 -0.25582810\n",
       "H_perforatum_China      0.04059997 -0.09363635  0.33955652  0.06478961"
      ]
     },
     "metadata": {},
     "output_type": "display_data"
    }
   ],
   "source": [
    "head(loads)"
   ]
  },
  {
   "cell_type": "markdown",
   "metadata": {},
   "source": [
    "These are all of the shared PCAs useful for describing variation in both stromata and endophyte matrices. We can use these to make our own biplots. To plot the first RDA as our y-axis and the second RDA as our x-axis:"
   ]
  },
  {
   "cell_type": "code",
   "execution_count": 25,
   "metadata": {
    "collapsed": true
   },
   "outputs": [],
   "source": [
    "symb <- LETTERS[1:18]"
   ]
  },
  {
   "cell_type": "code",
   "execution_count": 27,
   "metadata": {
    "collapsed": false
   },
   "outputs": [
    {
     "data": {
      "image/png": "[encoded data removed]",
      "text/plain": [
       "plot without title"
      ]
     },
     "metadata": {},
     "output_type": "display_data"
    }
   ],
   "source": [
    "## set coordinates for text:\n",
    "textx <- loads[,2]*1.2\n",
    "texty <- loads[,1]*1.2\n",
    "#svg(\"RDA2RDA1.svg\")\n",
    "plot(1, type='n', xlim=c(-1,.5), ylim=c(-.8,.7), xlab='RDA2', ylab='RDA1', bty='n')\n",
    "arrows(x0=0, y0=0, x1=loads[,2], y1=loads[,1], length=.1) ## rda1 is our y-axis, rda2 is x-axis\n",
    "text(textx,texty, symb)"
   ]
  },
  {
   "cell_type": "markdown",
   "metadata": {},
   "source": [
    "Export as an svg, do a little magic with inkscape, and voila:"
   ]
  },
  {
   "cell_type": "markdown",
   "metadata": {},
   "source": [
    "<img src='RDA2RDA1.png', width=500,height=500>"
   ]
  },
  {
   "cell_type": "markdown",
   "metadata": {},
   "source": [
    "We can do the same with the 3rd and 4th RDA axes. Looks like this:"
   ]
  },
  {
   "cell_type": "markdown",
   "metadata": {},
   "source": [
    "<img src='RDA3RDA4.png', width=500, height=500>"
   ]
  },
  {
   "cell_type": "code",
   "execution_count": null,
   "metadata": {
    "collapsed": true
   },
   "outputs": [],
   "source": []
  }
 ],
 "metadata": {
  "kernelspec": {
   "display_name": "R 3.3",
   "language": "R",
   "name": "ir33"
  },
  "language_info": {
   "codemirror_mode": "r",
   "file_extension": ".r",
   "mimetype": "text/x-r-source",
   "name": "R",
   "pygments_lexer": "r",
   "version": "3.3.1"
  }
 },
 "nbformat": 4,
 "nbformat_minor": 0
}
